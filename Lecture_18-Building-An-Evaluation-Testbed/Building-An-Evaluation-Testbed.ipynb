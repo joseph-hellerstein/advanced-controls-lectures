{
 "cells": [
  {
   "cell_type": "markdown",
   "id": "b1229fec-e965-4858-b3e7-cf67e8645060",
   "metadata": {},
   "source": [
    "# BUILDING AN EVALUATION TESTBED"
   ]
  },
  {
   "cell_type": "markdown",
   "id": "1d364ff2-fbd9-4dfc-bce8-d070b1d57418",
   "metadata": {},
   "source": [
    "<img src=\"https://github.com/joseph-hellerstein/advanced-controls-lectures/blob/main/Lecture_13_14-Closed-Loop-Systems/Closed-Loop-System.png?raw=true\"\n",
    "     alt=\"Markdown Monster icon\" width=600pt\n",
    "     style=\"float: left; margin-right: 10px;\" />"
   ]
  },
  {
   "cell_type": "markdown",
   "id": "6f6af7d4-63dc-4ec1-95ba-bdd6f9c35720",
   "metadata": {
    "tags": []
   },
   "source": [
    "This notebook illustrates how to construct closed loop systems for ``NonlinearIOSystem`` elements,\n",
    "including noise and disturbances."
   ]
  },
  {
   "cell_type": "markdown",
   "id": "ea1ef56b-9c3d-4fbe-8202-151b8979a57b",
   "metadata": {},
   "source": [
    "# Preliminaries"
   ]
  },
  {
   "cell_type": "code",
   "execution_count": 1,
   "id": "f16d0f7a-d0c5-4f37-aa29-feed6d82a363",
   "metadata": {},
   "outputs": [],
   "source": [
    "!pip install -q control\n",
    "!pip install -q tellurium\n",
    "!pip install -q controlSBML\n",
    "\n",
    "import collections\n",
    "import control\n",
    "import controlSBML as ctl\n",
    "from IPython.display import HTML, Math\n",
    "import numpy as np\n",
    "import pandas as pd\n",
    "import matplotlib.pyplot as plt\n",
    "import sympy\n",
    "import tellurium as te"
   ]
  },
  {
   "cell_type": "code",
   "execution_count": 2,
   "id": "0e08f473-49e8-4878-bc53-289472bb71fb",
   "metadata": {},
   "outputs": [],
   "source": [
    "TIMES = ctl.makeSimulationTimes(0, 5, 500)"
   ]
  },
  {
   "cell_type": "markdown",
   "id": "a3c395d6-b7af-4b55-a358-99bb1f45fd8c",
   "metadata": {},
   "source": [
    "# Antimony Model"
   ]
  },
  {
   "cell_type": "code",
   "execution_count": 3,
   "id": "e72be43c-f53c-493c-a7a6-9e4361b34bca",
   "metadata": {},
   "outputs": [],
   "source": [
    "# Constants\n",
    "CONSTANT_DCT = {\"k1\": 1, \"k2\": 2, \"k3\": 3, \"k4\": 4}\n",
    "s = sympy.Symbol(\"s\")\n",
    "REF = 10"
   ]
  },
  {
   "cell_type": "code",
   "execution_count": 4,
   "id": "64e2bdc6-baae-49d2-87d3-b742349b7595",
   "metadata": {},
   "outputs": [
    {
     "data": {
      "image/png": "[encoded data removed]",
      "text/plain": [
       "<Figure size 432x288 with 1 Axes>"
      ]
     },
     "metadata": {},
     "output_type": "display_data"
    }
   ],
   "source": [
    "MODEL = \"\"\"\n",
    "$S1 -> S2; k1*$S1\n",
    "J1: S2 -> S3; k2*S2\n",
    "J2: S3 -> S2; k3*S3\n",
    "J3: S2 -> ; k4*S2\n",
    "\n",
    "k1 = 1\n",
    "k2 = 2\n",
    "k3 = 3\n",
    "k4 = 4\n",
    "$S1 = 10\n",
    "S2 = 0\n",
    "S3 = 0\n",
    "S4 = 0\n",
    "\"\"\"\n",
    "RR = te.loada(MODEL)\n",
    "RR.simulate()\n",
    "RR.plot()"
   ]
  },
  {
   "cell_type": "markdown",
   "id": "f5286452-eb67-42ca-8dae-be9954e20efa",
   "metadata": {},
   "source": [
    "# Helpers"
   ]
  },
  {
   "cell_type": "code",
   "execution_count": 5,
   "id": "55e3604e-6392-45b8-818c-8c7624758fcc",
   "metadata": {},
   "outputs": [
    {
     "name": "stdout",
     "output_type": "stream",
     "text": [
      "OK!\n"
     ]
    },
    {
     "data": {
      "image/png": "[encoded data removed]",
      "text/plain": [
       "<Figure size 432x288 with 1 Axes>"
      ]
     },
     "metadata": {
      "needs_background": "light"
     },
     "output_type": "display_data"
    }
   ],
   "source": [
    "def plotStep(sys, is_plot=True):\n",
    "    \"\"\"\n",
    "    Plots a transfer function step response\n",
    "    \n",
    "    Parameters\n",
    "    ----------\n",
    "    sys: control.TransferFunction/control.NonlinearIOSystem\n",
    "    \n",
    "    Returns\n",
    "    control.Timeresponse\n",
    "    \"\"\"\n",
    "    if \"TransferFunction\" in str(type(sys)):\n",
    "        result = control.forced_response(sys, T=TIMES, U=1)\n",
    "    elif \"NonlinearIOSystem\" in str(type(sys)):\n",
    "        result = control.input_output_response(sys, T=TIMES, U=1)\n",
    "    if is_plot:\n",
    "        plt.plot(TIMES, result.outputs.flatten())\n",
    "    return result\n",
    "\n",
    "# TESTS\n",
    "Gs = control.TransferFunction([2], [1, 3])\n",
    "_ = plotStep(Gs, is_plot=True)\n",
    "ctlsb = ctl.ControlSBML(MODEL, input_names=[\"S2\"], output_names=[\"S3\"])\n",
    "ctlsb.set(CONSTANT_DCT)\n",
    "sys = ctlsb.makeNonlinearIOSystem(\"sys\")\n",
    "result = plotStep(sys, is_plot=True)\n",
    "print(\"OK!\")"
   ]
  },
  {
   "cell_type": "code",
   "execution_count": 6,
   "id": "31dec246-4a8c-40e4-837e-4a5cd944f10c",
   "metadata": {},
   "outputs": [
    {
     "data": {
      "text/latex": [
       "$\\displaystyle e^{\\alpha}$"
      ],
      "text/plain": [
       "<IPython.core.display.Math object>"
      ]
     },
     "metadata": {},
     "output_type": "display_data"
    }
   ],
   "source": [
    "def pp(obj):\n",
    "    \"\"\"\n",
    "    Does a LaTex rendering of an object with a latex representation.\n",
    "\n",
    "    Parameters\n",
    "    ----------\n",
    "    obj: object\n",
    "    \"\"\"\n",
    "    display(Math(str(obj)))\n",
    "\n",
    "# Tests\n",
    "pp(r\"e^{\\alpha}\")"
   ]
  },
  {
   "cell_type": "markdown",
   "id": "e0ab2fa3-6a96-4d4e-9109-f5446d9e8dd9",
   "metadata": {},
   "source": [
    "# Closed Loop Transfer Functions"
   ]
  },
  {
   "cell_type": "markdown",
   "id": "fb516a38-3bfd-4032-a1e5-7c5b40f72fcd",
   "metadata": {},
   "source": [
    "<img src=\"https://github.com/joseph-hellerstein/advanced-controls-lectures/blob/main/Lecture_13_14-Closed-Loop-Systems/Closed-Loop-System.png?raw=true\"\n",
    "     alt=\"Markdown Monster icon\" width=600pt\n",
    "     style=\"float: left; margin-right: 10px;\" />\n",
    "     \n",
    "**Transfer Functions**\n",
    "\\begin{eqnarray}\n",
    "H_{RY}(s) & = & \\frac{Y(s)}{R(s)} & = & \\frac{C(s) G(s)}{1 + C(s) G(s) F(s)} \\\\\n",
    "H_{RE}(s) & = & \\frac{E(s)}{R(s)} & = & \\frac{1}{1 + C(s) G(s) F(s)} \\\\\n",
    "H_{NY}(s) & = & \\frac{Y(s)}{N(s)} & = & -\\frac{ F(s)}{1 + C(s) G(s) F(s)} \\\\\n",
    "H_{DY}(s) & = & \\frac{Y(s)}{D(s)} & = & \\frac{ C(s)}{1 + C(s) G(s) F(s)} \\\\\n",
    "\\end{eqnarray}"
   ]
  },
  {
   "cell_type": "markdown",
   "id": "a28228fc-313b-478b-bcbe-f00883544fc6",
   "metadata": {},
   "source": [
    "# Elements of an Evaluation Testbed"
   ]
  },
  {
   "cell_type": "markdown",
   "id": "a2322876-691a-472d-b6e6-4b503e04952d",
   "metadata": {},
   "source": [
    "## System Under Control"
   ]
  },
  {
   "cell_type": "code",
   "execution_count": 7,
   "id": "4bb35c63-0172-41a9-ab8d-ce8b71d6f09c",
   "metadata": {},
   "outputs": [],
   "source": [
    "ctlsb = ctl.ControlSBML(MODEL, input_names=[\"S2\"], output_names=[\"S3\"])\n",
    "SYSTEM = ctlsb.makeNonlinearIOSystem(\"system\")"
   ]
  },
  {
   "cell_type": "code",
   "execution_count": 8,
   "id": "40da5154-673a-4f68-ba88-4678604a6105",
   "metadata": {},
   "outputs": [
    {
     "data": {
      "text/plain": [
       "[<matplotlib.lines.Line2D at 0x7f673fd38a90>]"
      ]
     },
     "execution_count": 8,
     "metadata": {},
     "output_type": "execute_result"
    },
    {
     "data": {
      "image/png": "[encoded data removed]",
      "text/plain": [
       "<Figure size 432x288 with 1 Axes>"
      ]
     },
     "metadata": {
      "needs_background": "light"
     },
     "output_type": "display_data"
    }
   ],
   "source": [
    "result = control.input_output_response(SYSTEM, T=TIMES, U=1)\n",
    "plt.plot(result.t, result.y.flatten())"
   ]
  },
  {
   "cell_type": "markdown",
   "id": "1ecd8682-2238-4082-917f-119469447a42",
   "metadata": {},
   "source": [
    "## Noise and Disturbanes"
   ]
  },
  {
   "cell_type": "code",
   "execution_count": 9,
   "id": "a710c4c5-defd-4d51-abb6-6a16d8503a3d",
   "metadata": {},
   "outputs": [
    {
     "name": "stdout",
     "output_type": "stream",
     "text": [
      "OK!\n"
     ]
    }
   ],
   "source": [
    "def makeSinusoidSystem(name, amp, frequency):\n",
    "    \"\"\"\n",
    "    Construct a NonlinearIOSystem for a sinusoid.\n",
    "    The system has output \"out\".\n",
    "    \n",
    "    Parameters\n",
    "    ----------\n",
    "    name: str\n",
    "    amp: float\n",
    "    frequency: float\n",
    "    \n",
    "    Returns\n",
    "    -------\n",
    "    NonlinearIOSystem\n",
    "    \"\"\"\n",
    "    def outfcn(time, _, __, ___):\n",
    "        \"\"\"\n",
    "        Creates a sine wave at the frequency specified.\n",
    "\n",
    "        Parameters\n",
    "        ----------\n",
    "        time: float\n",
    "        \"\"\"\n",
    "        return amp*np.sin(time*frequency)\n",
    "    #\n",
    "    return control.NonlinearIOSystem(\n",
    "        None, outfcn, outputs=['out'], inputs=[],\n",
    "        name=name)\n",
    "\n",
    "# Tests\n",
    "sys = makeSinusoidSystem(\"sine\", 10, 20)\n",
    "result = control.input_output_response(sys, T=TIMES)\n",
    "assert(len(result.y) > 0)\n",
    "print(\"OK!\")"
   ]
  },
  {
   "cell_type": "code",
   "execution_count": 10,
   "id": "d444c899-dec6-46ff-a6cf-ab0cbea07af6",
   "metadata": {},
   "outputs": [
    {
     "data": {
      "text/plain": [
       "[<matplotlib.lines.Line2D at 0x7f673fcab390>]"
      ]
     },
     "execution_count": 10,
     "metadata": {},
     "output_type": "execute_result"
    },
    {
     "data": {
      "image/png": "[encoded data removed]",
      "text/plain": [
       "<Figure size 432x288 with 1 Axes>"
      ]
     },
     "metadata": {
      "needs_background": "light"
     },
     "output_type": "display_data"
    }
   ],
   "source": [
    "noise = makeSinusoidSystem(\"noise\", 1.5, 7)\n",
    "result = control.input_output_response(noise, T=TIMES)\n",
    "plt.plot(result.t, result.y.flatten())"
   ]
  },
  {
   "cell_type": "markdown",
   "id": "a42c56b0-0d46-4775-8aa2-4eae39e6ca8c",
   "metadata": {},
   "source": [
    "## Controller"
   ]
  },
  {
   "cell_type": "code",
   "execution_count": 11,
   "id": "502b35ea-66c5-49e5-a9cf-d2745a24e1d9",
   "metadata": {},
   "outputs": [
    {
     "name": "stdout",
     "output_type": "stream",
     "text": [
      "OK!\n"
     ]
    }
   ],
   "source": [
    "def makeController(name, kp=2):\n",
    "    \"\"\"\n",
    "    Creates a proportional controller as a NonlinearIOSystem with input \"in\" and output \"out\".\n",
    "    \n",
    "    Parameters\n",
    "    ----------\n",
    "    name: str\n",
    "        Name of the system\n",
    "    kp: float\n",
    "    \n",
    "    Returns\n",
    "    -------\n",
    "    control.NonlinearIOSystem\n",
    "    \"\"\"\n",
    "    def outfcn(_, __, u, ___):\n",
    "        # u: float (error signal)\n",
    "        if not \"len\" in dir(u):\n",
    "            u = [u]\n",
    "        return kp*(u[0])\n",
    "    #\n",
    "    return control.NonlinearIOSystem(\n",
    "        None, outfcn, inputs=['in'], outputs=['out'],\n",
    "        name=name)\n",
    "\n",
    "# Tests\n",
    "kp = 2\n",
    "controller = makeController(\"controller\", kp=kp)\n",
    "times = [0, 1, 2, 3, 4]\n",
    "result = control.input_output_response(controller, T=times, U=times)\n",
    "trues = [r == kp*( t) for t, r in zip(result.t, result.outputs)]\n",
    "assert(all(trues))\n",
    "print(\"OK!\")"
   ]
  },
  {
   "cell_type": "markdown",
   "id": "96acddca-c700-4522-824a-c11b596542ec",
   "metadata": {},
   "source": [
    "## Using ``IOSystemFactor``"
   ]
  },
  {
   "cell_type": "markdown",
   "id": "c878b309-b303-4a84-b6a7-22f8f9aca557",
   "metadata": {},
   "source": [
    "``ControlSBML`` has capabilities for constructing various ``IOSystem`` objects in ``IOSystemFactory``."
   ]
  },
  {
   "cell_type": "code",
   "execution_count": 12,
   "id": "6c7659a6-595d-4e15-9702-3125ad987702",
   "metadata": {},
   "outputs": [
    {
     "name": "stdout",
     "output_type": "stream",
     "text": [
      "Help on class IOSystemFactory in module controlSBML.iosystem_factory:\n",
      "\n",
      "class IOSystemFactory(builtins.object)\n",
      " |  Methods defined here:\n",
      " |  \n",
      " |  __init__(self)\n",
      " |      Initialize self.  See help(type(self)) for accurate signature.\n",
      " |  \n",
      " |  makeAdder(self, name, num_input=2)\n",
      " |      Inputs two or more elements. Outputs their sum. Name is \"sum\".\n",
      " |      The inputs are \"in1\", \"in2\", ...\n",
      " |      The output is \"out\".\n",
      " |      \n",
      " |      Parameters\n",
      " |      ----------\n",
      " |      name: str\n",
      " |      \n",
      " |      Returns\n",
      " |      -------\n",
      " |      NonlinearIOSystem\n",
      " |  \n",
      " |  makeConstant(self, name, constant)\n",
      " |      Outputs a constant value.\n",
      " |      \n",
      " |      Parameters\n",
      " |      ----------\n",
      " |      name: str\n",
      " |      constant: float\n",
      " |      \n",
      " |      Returns\n",
      " |      -------\n",
      " |      NonlinearIOSystem\n",
      " |  \n",
      " |  makeFilter(self, name, constant)\n",
      " |      Construct a NonlinearIOSystem for x' = a*x + u, where u is the\n",
      " |      filter input.\n",
      " |      The system has input \"in\" and output \"out\". \n",
      " |      The output is normalized so that the DC gain of the filter is 1.\n",
      " |      \n",
      " |      Parameters\n",
      " |      ----------\n",
      " |      name: str\n",
      " |      constant: float\n",
      " |          e**expo_constant*time\n",
      " |      \n",
      " |      Returns\n",
      " |      -------\n",
      " |      NonlinearIOSystem\n",
      " |  \n",
      " |  makeMultiplier(self, name, factor)\n",
      " |      Outputs a multiple of the input signal.\n",
      " |      \n",
      " |      Parameters\n",
      " |      ----------\n",
      " |      name: str\n",
      " |      factor: float\n",
      " |      \n",
      " |      Returns\n",
      " |      -------\n",
      " |      NonlinearIOSystem\n",
      " |  \n",
      " |  makePIDController(self, name, kp=2, ki=0, kd=0)\n",
      " |      Creates a PID controller.\n",
      " |      NonlinearIOSystem with input \"in\" and output \"out\".\n",
      " |      States are:\n",
      " |          culmulative_err: cumulative control error\n",
      " |          last_err: last control error\n",
      " |      \n",
      " |      Parameters\n",
      " |      ----------\n",
      " |      name: str\n",
      " |          Name of the system\n",
      " |      kp: float\n",
      " |         proportional control constant\n",
      " |      ki: float\n",
      " |         integral control constant\n",
      " |      kd: float\n",
      " |         differential control constant.\n",
      " |      \n",
      " |      Returns\n",
      " |      -------\n",
      " |      control.NonlinearIOSystem\n",
      " |  \n",
      " |  makePassthru(self, name)\n",
      " |      Makes a pass through system that outputs its input.\n",
      " |      \n",
      " |      Parameters\n",
      " |      ----------\n",
      " |      name: str\n",
      " |      \n",
      " |      Returns\n",
      " |      -------\n",
      " |      NonlinearIOSystem\n",
      " |  \n",
      " |  makeSinusoid(self, name, amp, frequency)\n",
      " |      Construct a NonlinearIOSystem that outputs a sinusoid.\n",
      " |      The system has output \"out\".\n",
      " |      \n",
      " |      Parameters\n",
      " |      ----------\n",
      " |      name: str\n",
      " |      amp: float\n",
      " |      frequency: float\n",
      " |      \n",
      " |      Returns\n",
      " |      -------\n",
      " |      NonlinearIOSystem\n",
      " |  \n",
      " |  ----------------------------------------------------------------------\n",
      " |  Data descriptors defined here:\n",
      " |  \n",
      " |  __dict__\n",
      " |      dictionary for instance variables (if defined)\n",
      " |  \n",
      " |  __weakref__\n",
      " |      list of weak references to the object (if defined)\n",
      "\n"
     ]
    }
   ],
   "source": [
    "help(ctl.IOSystemFactory)"
   ]
  },
  {
   "cell_type": "markdown",
   "id": "302ecf52-80c7-4d73-a3c9-5872c6960949",
   "metadata": {},
   "source": [
    "**Factories**\n",
    "\n",
    "  - makeFilter: creates an exponential filter\n",
    "  - makeConstant: outputs a constant value\n",
    "  - makeAdder: creates an IOSystem that outputs the sum of the inputs\n",
    "  - makePassthur: creates an IOSystem that outputs the inpu\n",
    "  - makePIDController: creates a PID controller\n",
    "  - makeSinusoid: creates an IOSystem that outputs a sinusoid\n"
   ]
  },
  {
   "cell_type": "code",
   "execution_count": 13,
   "id": "d0579556-e620-4096-a1bf-ee6ca2da9986",
   "metadata": {},
   "outputs": [
    {
     "data": {
      "text/plain": [
       "<matplotlib.collections.PathCollection at 0x7f673fc98e80>"
      ]
     },
     "execution_count": 13,
     "metadata": {},
     "output_type": "execute_result"
    },
    {
     "data": {
      "image/png": "[encoded data removed]",
      "text/plain": [
       "<Figure size 432x288 with 1 Axes>"
      ]
     },
     "metadata": {
      "needs_background": "light"
     },
     "output_type": "display_data"
    }
   ],
   "source": [
    "FACTORY = ctl.IOSystemFactory()\n",
    "controller1 = FACTORY.makePIDController(\"controller\", kp=2)\n",
    "times = [0, 1, 2, 3, 4]\n",
    "result1 = control.input_output_response(controller1, T=times, U=times)\n",
    "plt.scatter(result.y.flatten(), result1.y.flatten())"
   ]
  },
  {
   "cell_type": "markdown",
   "id": "414eb656-72b4-464f-be07-f20b8265f622",
   "metadata": {},
   "source": [
    "# Building a Testbed"
   ]
  },
  {
   "cell_type": "markdown",
   "id": "5b1e609e-8834-4330-a7f9-e833158261d6",
   "metadata": {},
   "source": [
    "<img src=\"https://github.com/joseph-hellerstein/advanced-controls-lectures/blob/main/Lecture_13_14-Closed-Loop-Systems/Closed-Loop-System.png?raw=true\"\n",
    "     alt=\"Markdown Monster icon\" width=600pt\n",
    "     style=\"float: left; margin-right: 10px;\" />"
   ]
  },
  {
   "cell_type": "markdown",
   "id": "39a197eb-6d13-4c18-a5cd-10d8d0c99de0",
   "metadata": {},
   "source": [
    "## Create the IOSystem Elements"
   ]
  },
  {
   "cell_type": "markdown",
   "id": "76f110c3-a31a-487a-a30f-36ec88e180f9",
   "metadata": {},
   "source": [
    "* $R(s)$: Reference input\n",
    "* $D(s)$: disturbance\n",
    "* $N(s)$: noise signal\n",
    "\n",
    "* $C(s)$: controller\n",
    "* $G(s)$: system\n",
    "* $F(s)$: filter\n",
    "\n",
    "* Summantion of $R(s)$, filter output\n",
    "* Summantion of $U(s)$, $D(s)$\n",
    "* Summation of $N(s)$, $Y(s)$"
   ]
  },
  {
   "cell_type": "markdown",
   "id": "1db8e6d7-733a-417d-ba98-20e5bfb40fcd",
   "metadata": {
    "jp-MarkdownHeadingCollapsed": true,
    "tags": []
   },
   "source": [
    "### Solution"
   ]
  },
  {
   "cell_type": "code",
   "execution_count": 14,
   "id": "c22f78fe-a30f-4984-867e-290fa111735c",
   "metadata": {},
   "outputs": [],
   "source": [
    "ref = 3\n",
    "\n",
    "# Create the elements of the feedback loop\n",
    "reference = FACTORY.makeMultiplier(\"reference\", ref)\n",
    "noise = FACTORY.makeSinusoid(\"noise\", 0.01, 20)\n",
    "disturbance = FACTORY.makeSinusoid(\"disturbance\", 5, 2)\n",
    "\n",
    "ctlsb = ctl.ControlSBML(MODEL, input_names=[\"S2\"], output_names=[\"S3\"])\n",
    "system = ctlsb.makeNonlinearIOSystem(\"system\")\n",
    "controller = FACTORY.makePIDController(\"controller\", kp=30)\n",
    "fltr = FACTORY.makeFilter(\"fltr\", -100)\n",
    "\n",
    "sum_Y_N = FACTORY.makeAdder(\"sum_Y_N\")\n",
    "sum_U_D = FACTORY.makeAdder(\"sum_U_D\")\n",
    "sum_R_F = FACTORY.makeAdder(\"sum_R_F\")"
   ]
  },
  {
   "cell_type": "markdown",
   "id": "57bfa0b3-7ea9-4666-8dcd-00a7eab0337a",
   "metadata": {},
   "source": [
    "## Connect the Elements"
   ]
  },
  {
   "cell_type": "markdown",
   "id": "0c077e5e-86dc-4111-ac7f-2de005a197b1",
   "metadata": {},
   "source": [
    "<img src=\"https://github.com/joseph-hellerstein/advanced-controls-lectures/blob/main/Lecture_13_14-Closed-Loop-Systems/Closed-Loop-System.png?raw=true\"\n",
    "     alt=\"Markdown Monster icon\" width=600pt\n",
    "     style=\"float: left; margin-right: 10px;\" />"
   ]
  },
  {
   "cell_type": "code",
   "execution_count": 15,
   "id": "f3b043cd-cd03-4276-89c2-256ed723fdf3",
   "metadata": {},
   "outputs": [
    {
     "ename": "SyntaxError",
     "evalue": "invalid syntax (<ipython-input-15-ce85e203d019>, line 11)",
     "output_type": "error",
     "traceback": [
      "\u001b[0;36m  File \u001b[0;32m\"<ipython-input-15-ce85e203d019>\"\u001b[0;36m, line \u001b[0;32m11\u001b[0m\n\u001b[0;31m    outlist = [?],\u001b[0m\n\u001b[0m               ^\u001b[0m\n\u001b[0;31mSyntaxError\u001b[0m\u001b[0;31m:\u001b[0m invalid syntax\n"
     ]
    }
   ],
   "source": [
    "# Create the closed loop system\n",
    "closed_loop = control.interconnect(\n",
    "  [reference, noise, disturbance, sum_Y_N, sum_R_F, sum_U_D, system, fltr, controller ], \n",
    "  connections=[\n",
    "    ['controller.in', 'sum_R_F.out'],    # e(t)\n",
    "    ['sum_U_D.in1', 'controller.out'],   # u(t)\n",
    "    ['sum_U_D.in2', 'disturbance.out'],  # d(t)\n",
    "    \n",
    "  ],\n",
    "  inplist=[\"reference.in\"],\n",
    "  outlist = [?],\n",
    ")"
   ]
  },
  {
   "cell_type": "markdown",
   "id": "cb5cfc8e-5f11-459d-a71f-5fcaccdc0003",
   "metadata": {
    "jp-MarkdownHeadingCollapsed": true,
    "tags": []
   },
   "source": [
    "### Solution"
   ]
  },
  {
   "cell_type": "code",
   "execution_count": 16,
   "id": "2987389e-f685-4509-84b6-1953941681b3",
   "metadata": {},
   "outputs": [],
   "source": [
    "# Create the closed loop system\n",
    "closed_loop = control.interconnect(\n",
    "  [reference, noise, disturbance, sum_Y_N, sum_R_F, sum_U_D, system, fltr, controller ], \n",
    "  connections=[\n",
    "    ['controller.in', 'sum_R_F.out'],    # e(t)\n",
    "    ['sum_U_D.in1', 'controller.out'],   # u(t)\n",
    "    ['sum_U_D.in2', 'disturbance.out'],  # d(t)\n",
    "    ['system.S2',   'sum_U_D.out'],\n",
    "    ['sum_Y_N.in1', 'system.S3'],        # y(t)\n",
    "    ['sum_Y_N.in2', 'noise.out'],        # n(t)\n",
    "    ['fltr.in',     'sum_Y_N.out'],\n",
    "    ['sum_R_F.in1', '-fltr.out'],\n",
    "    ['sum_R_F.in2', 'reference.out'],\n",
    "  ],\n",
    "  inplist=[\"reference.in\"],\n",
    "  outlist=[\"disturbance.out\", \"sum_Y_N.out\", 'sum_R_F.out', 'system.S3'],\n",
    ")"
   ]
  },
  {
   "cell_type": "markdown",
   "id": "8b6220de-9f28-41ee-b48c-c2abd3ef1a4e",
   "metadata": {},
   "source": [
    "## Simulate"
   ]
  },
  {
   "cell_type": "markdown",
   "id": "288324a9-1011-4402-bbec-0c486a425346",
   "metadata": {},
   "source": [
    "Plot the response of the closed loop system to a unit step response."
   ]
  },
  {
   "cell_type": "markdown",
   "id": "c965c5ad-02c9-45a4-9e40-cdf55eb44363",
   "metadata": {
    "jp-MarkdownHeadingCollapsed": true,
    "tags": []
   },
   "source": [
    "### Solution"
   ]
  },
  {
   "cell_type": "code",
   "execution_count": 17,
   "id": "f8a1ecbf-37a6-49fc-ba59-be793d03bb69",
   "metadata": {},
   "outputs": [
    {
     "data": {
      "text/plain": [
       "<matplotlib.legend.Legend at 0x7f673fdb24a8>"
      ]
     },
     "execution_count": 17,
     "metadata": {},
     "output_type": "execute_result"
    },
    {
     "data": {
      "image/png": "[encoded data removed]",
      "text/plain": [
       "<Figure size 432x288 with 1 Axes>"
      ]
     },
     "metadata": {
      "needs_background": "light"
     },
     "output_type": "display_data"
    }
   ],
   "source": [
    "times = ctl.makeSimulationTimes(0, 20, 500)\n",
    "result = control.input_output_response(closed_loop, T=times, U=1)\n",
    "plt.plot(result.t, result.outputs[0].flatten())\n",
    "plt.plot(result.t, result.outputs[1].flatten())\n",
    "plt.ylim([-5, 5])\n",
    "legends = [\"disturbance\", \"output\"]\n",
    "plt.legend(legends)"
   ]
  },
  {
   "cell_type": "markdown",
   "id": "93400e09-ac40-40d5-bd7e-8089572972f0",
   "metadata": {},
   "source": [
    "The output is biased! We wanted $S_3$ to be 10, but it's 7.6."
   ]
  }
 ],
 "metadata": {
  "kernelspec": {
   "display_name": "Python 3",
   "language": "python",
   "name": "python3"
  },
  "language_info": {
   "codemirror_mode": {
    "name": "ipython",
    "version": 3
   },
   "file_extension": ".py",
   "mimetype": "text/x-python",
   "name": "python",
   "nbconvert_exporter": "python",
   "pygments_lexer": "ipython3",
   "version": "3.6.9"
  }
 },
 "nbformat": 4,
 "nbformat_minor": 5
}
