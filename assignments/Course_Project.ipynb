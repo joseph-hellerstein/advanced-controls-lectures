{
 "cells": [
  {
   "cell_type": "markdown",
   "metadata": {
    "id": "5KtcTWa_n6XQ"
   },
   "source": [
    "# **COURSE PROJECT: CONTROL DESIGN**"
   ]
  },
  {
   "cell_type": "markdown",
   "metadata": {},
   "source": [
    "<img src=\"https://raw.github.com/joseph-hellerstein/advanced-controls-lectures/main/lectures/images/simple_feedback_nofilter.png \"\n",
    "     alt=\"Markdown Monster icon\" \n",
    "     width=\"600\" height=\"750\"\n",
    "     style=\"float: left; margin-right: 10px;\" />"
   ]
  },
  {
   "cell_type": "markdown",
   "metadata": {},
   "source": [
    "The course project is to do a control design for a system of your choosing.\n",
    "I highly recommend that the system have a reproducible model.\n",
    "A good place to look for such models is the [BioModels](https://www.ebi.ac.uk/biomodels/search?query=*%3A*+AND+curationstatus%3A%22Manually+curated%22&domain=biomodels) curated branch. Most of these models have published papers as well."
   ]
  },
  {
   "cell_type": "code",
   "execution_count": null,
   "metadata": {},
   "outputs": [],
   "source": [
    "if False:\n",
    "    # Use these if you need to\n",
    "    !pip -q install tellurium\n",
    "    !pip -q install controlSBML\n",
    "    !pip -q install control"
   ]
  },
  {
   "cell_type": "code",
   "execution_count": null,
   "metadata": {},
   "outputs": [],
   "source": [
    "import tellurium as te\n",
    "import controlSBML as ctl\n",
    "import control\n",
    "import numpy as np\n",
    "import matplotlib.pyplot as plt"
   ]
  },
  {
   "cell_type": "markdown",
   "metadata": {},
   "source": [
    "# Step 1. State design objectives (5 pt)"
   ]
  },
  {
   "cell_type": "markdown",
   "metadata": {},
   "source": [
    "1. Select a model and load it into Tellurium. Print it in Antimony.\n",
    "1. Specify the output from the model that you want to control.\n",
    "2. One of your design objectives is that the closed loop system is stable. Provide two additional objectives such as: eliminate bias (the system converges to the desired output); no oscillations; settling times no greater than X (where you specify X); no overshoot (undershoot).\n"
   ]
  },
  {
   "cell_type": "markdown",
   "metadata": {},
   "source": [
    "# Step 2. Find the control input and operating region (5 pt)"
   ]
  },
  {
   "cell_type": "markdown",
   "metadata": {},
   "source": [
    "1. Choose a suitable input to control the system output. Plot a staircase function of the input over the operating region. Specify:\n",
    "      1. directional effect of the input on the output\n",
    "      1. operating region for the input\n",
    "      1. range of outputs that can be achieved (feasible setpoints)\n",
    "1. Write a short narrative describing how the plot indicates that the control objectives can be achieved over the operating region. "
   ]
  },
  {
   "cell_type": "markdown",
   "metadata": {},
   "source": [
    "# Step 3. Do system identification (5 pt)"
   ]
  },
  {
   "cell_type": "markdown",
   "metadata": {},
   "source": [
    "For the system and operating point that you selected, find a transfer function that fits the staircase response.\n",
    "By *fit*, I mean that the transfer function broadly follows the predicted value.\n",
    "If you later find that your theorty-based design (step 4) provides little insight into your final design (step 5), you may need to revisit this step."
   ]
  },
  {
   "cell_type": "markdown",
   "metadata": {},
   "source": [
    "# Step 4. Construct a preliminary, theory-based design (15 pt)"
   ]
  },
  {
   "cell_type": "markdown",
   "metadata": {},
   "source": [
    "Use the transfer function in step 3 to do a theory-based design using the root locus plot to do PID control.\n",
    "Start by answering the following questions:\n",
    "1. Given the open loop poles and zeros of your system, what is the best settling time you can expect? (Recall that root locus branches start at poles and terminate at zeros.)\n",
    "2. How does your answer change if you use I-control (e.g., PI, PID)?\n",
    "3. Can you improve matters with pole-zero cancellation?\n",
    "\n",
    "Write a short narrative that describes the logic you used in your theory-based design."
   ]
  },
  {
   "cell_type": "markdown",
   "metadata": {},
   "source": [
    "# Step 5. Construct a final design using a testbed (15 pt)"
   ]
  },
  {
   "cell_type": "markdown",
   "metadata": {},
   "source": [
    "The theory-based design provides a starting point for your final design that is based on a test-bed as you did in Homework 1. Use intutitions from the root locus plot to adjust the values of design parameters."
   ]
  },
  {
   "cell_type": "markdown",
   "metadata": {},
   "source": [
    "# Step 6. Evaluate the final design (5 pt)"
   ]
  },
  {
   "cell_type": "markdown",
   "metadata": {},
   "source": [
    "Answer the following questions:\n",
    "1. Did you need to change your system objectives? At what points did you did you do this?\n",
    "2. What criteria did you use to determine that your system identification was sufficient?\n",
    "3. How close was your theory-based design to the testbed-based design that you chose."
   ]
  }
 ],
 "metadata": {
  "colab": {
   "authorship_tag": "ABX9TyMH5B8ZMlydS72+lNuaMvH3",
   "provenance": []
  },
  "kernelspec": {
   "display_name": "Python 3 (ipykernel)",
   "language": "python",
   "name": "python3"
  },
  "language_info": {
   "codemirror_mode": {
    "name": "ipython",
    "version": 3
   },
   "file_extension": ".py",
   "mimetype": "text/x-python",
   "name": "python",
   "nbconvert_exporter": "python",
   "pygments_lexer": "ipython3",
   "version": "3.9.6"
  }
 },
 "nbformat": 4,
 "nbformat_minor": 4
}
