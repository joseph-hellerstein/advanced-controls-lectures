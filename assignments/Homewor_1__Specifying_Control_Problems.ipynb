{
 "cells": [
  {
   "cell_type": "markdown",
   "metadata": {
    "id": "5KtcTWa_n6XQ"
   },
   "source": [
    "# **HOMEWORK 1: SPECIFYING CONTROL PROBLEMS**"
   ]
  },
  {
   "cell_type": "code",
   "execution_count": 1,
   "metadata": {},
   "outputs": [],
   "source": [
    "if False:\n",
    "    # Use these if you need to\n",
    "    !pip -q install tellurium\n",
    "    !pip -q install controlSBML\n",
    "    !pip -q install control"
   ]
  },
  {
   "cell_type": "code",
   "execution_count": 2,
   "metadata": {},
   "outputs": [],
   "source": [
    "import tellurium as te\n",
    "import controlSBML as ctl\n",
    "import control\n",
    "import numpy as np\n",
    "import matplotlib.pyplot as plt"
   ]
  },
  {
   "cell_type": "markdown",
   "metadata": {},
   "source": [
    "# 1. Description of the control problem (10 pt)"
   ]
  },
  {
   "cell_type": "markdown",
   "metadata": {},
   "source": [
    "1. Write a short narrative that describes how the problem you’re solving is addressed by control objectives. \n",
    "1. Provide at least 2 control objectives. Examples are: regulate the output for setpoints within the range [a, b]; eliminate oscillations; settling times (convergence to steady state) occurs within 2 sec.\n"
   ]
  },
  {
   "cell_type": "markdown",
   "metadata": {},
   "source": [
    "# 2. System descripton (15 pt)"
   ]
  },
  {
   "cell_type": "markdown",
   "metadata": {},
   "source": [
    "1. Plot a staircase function of the input over the operating region. \n",
    "1. Write a short narrative describing how the plot indicates that the control objectives can be achieved over the operating region. \n",
    "1. Provide the following in an itemized list:\n",
    "      1. SBML model\n",
    "      1. system output\n",
    "      1. system input\n",
    "      1. directional effect of the input on the output\n",
    "      1. operating region for the input\n",
    "      1. range of outputs that can be achieved (feasible setpoints)"
   ]
  },
  {
   "cell_type": "markdown",
   "metadata": {},
   "source": [
    "Use ``controlSBML.plotTransferFunctionFit`` to do system identification for the system you analyzed in homework 1."
   ]
  }
 ],
 "metadata": {
  "colab": {
   "authorship_tag": "ABX9TyMH5B8ZMlydS72+lNuaMvH3",
   "provenance": []
  },
  "kernelspec": {
   "display_name": "Python 3 (ipykernel)",
   "language": "python",
   "name": "python3"
  },
  "language_info": {
   "codemirror_mode": {
    "name": "ipython",
    "version": 3
   },
   "file_extension": ".py",
   "mimetype": "text/x-python",
   "name": "python",
   "nbconvert_exporter": "python",
   "pygments_lexer": "ipython3",
   "version": "3.9.6"
  }
 },
 "nbformat": 4,
 "nbformat_minor": 4
}
