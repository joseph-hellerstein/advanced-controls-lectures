{
 "cells": [
  {
   "cell_type": "markdown",
   "metadata": {
    "id": "5KtcTWa_n6XQ"
   },
   "source": [
    "# **HOMEWORK 2: SYSTEMS IDENTIFICATION**"
   ]
  },
  {
   "cell_type": "code",
   "execution_count": 1,
   "metadata": {},
   "outputs": [],
   "source": [
    "import tellurium as te\n",
    "import controlSBML as ctl\n",
    "import control\n",
    "import numpy as np\n",
    "import matplotlib.pyplot as plt"
   ]
  },
  {
   "cell_type": "markdown",
   "metadata": {},
   "source": [
    "# Helpers"
   ]
  },
  {
   "cell_type": "code",
   "execution_count": 2,
   "metadata": {},
   "outputs": [],
   "source": [
    "s = control.TransferFunction.s\n",
    "TIMES = np.linspace(0, 10, 100)"
   ]
  },
  {
   "cell_type": "code",
   "execution_count": 3,
   "metadata": {},
   "outputs": [],
   "source": [
    "TEST_MODEL = \"\"\"\n",
    "$S1 -> S2; k1*S1\n",
    "S2 -> S3; k2*S2\n",
    "\n",
    "S1 = 10\n",
    "S2 = 0\n",
    "S3 = 0\n",
    "k1 = 1\n",
    "k2 = 2\n",
    "\"\"\"\n",
    "TEST_RR = te.loada(TEST_MODEL)"
   ]
  },
  {
   "cell_type": "code",
   "execution_count": 4,
   "metadata": {},
   "outputs": [],
   "source": [
    "\n",
    "k1 = TEST_RR[\"k1\"]\n",
    "k2 = TEST_RR[\"k2\"]\n",
    "scale = TEST_RR[\"S1\"]\n",
    "tf = scale*k1*k2/(s*(s+k2))"
   ]
  },
  {
   "cell_type": "code",
   "execution_count": 5,
   "metadata": {},
   "outputs": [
    {
     "name": "stdout",
     "output_type": "stream",
     "text": [
      "OK!\n"
     ]
    }
   ],
   "source": [
    "def evaluateTransferFunction(model, transfer_function, output_name, times=TIMES,\n",
    "                             is_plot=True):\n",
    "    \"\"\"\n",
    "    Plots simulations versus predictions.\n",
    "\n",
    "    Args:\n",
    "        model: (str) antimony\n",
    "        tranfer_function (control.TransferFunction)\n",
    "        output_name: (str) prediction\n",
    "        times: (np.darray)\n",
    "    Returns:\n",
    "        float\n",
    "    \"\"\"\n",
    "    rr = te.loada(model)\n",
    "    data = rr.simulate(times[0], times[-1], len(times))\n",
    "    output_name = \"[\" + output_name + \"]\"\n",
    "    simulations = data[output_name]\n",
    "    _, predictions = control.forced_response(transfer_function, T=times, U=1)\n",
    "    rmse = np.sqrt(np.sum(simulations-predictions)**2)/len(simulations)\n",
    "    if is_plot:\n",
    "        plt.scatter(simulations, predictions)\n",
    "        maxval = max(np.max(predictions), np.max(simulations))\n",
    "        plt.plot([0, maxval], [0, maxval], color=\"red\")\n",
    "        plt.xlabel(\"simulated\")\n",
    "        plt.ylabel(\"predicted\")\n",
    "    return rmse\n",
    "\n",
    "rmse = evaluateTransferFunction(TEST_MODEL, tf, \"S3\", is_plot=False)\n",
    "assert(rmse < 1e-5)\n",
    "print(\"OK!\")"
   ]
  },
  {
   "cell_type": "code",
   "execution_count": 6,
   "metadata": {},
   "outputs": [
    {
     "name": "stdout",
     "output_type": "stream",
     "text": [
      "OK1\n"
     ]
    }
   ],
   "source": [
    "def plotModel(model, times=TIMES, is_plot=True, title=\"\", **kwargs):\n",
    "    \"\"\"\n",
    "    Plots a model.\n",
    "    \n",
    "    Args:\n",
    "       times: np.array \n",
    "       kwargs: values of parameters\n",
    "    \"\"\"\n",
    "    rr = te.loada(model)\n",
    "    for key, value in kwargs.items():\n",
    "        rr[key] = value\n",
    "    rr.simulate(times[0], times[-1], len(times))\n",
    "    if is_plot:\n",
    "        rr.plot(title=title)\n",
    "    \n",
    "# TESTS\n",
    "plotModel(TEST_MODEL, k1=0.1, is_plot=False)\n",
    "print(\"OK1\")"
   ]
  },
  {
   "cell_type": "markdown",
   "metadata": {
    "id": "tTqzd0J1oA0O"
   },
   "source": [
    "# Problem 1 (20 pt): Find the transfer function for a network"
   ]
  },
  {
   "cell_type": "markdown",
   "metadata": {},
   "source": [
    "This network implements negative feedback. The first 3 reactions describe a 3 species sequential network; the input is $S_1$ and the output is $S_3$. The last reaction implements negative feedback by degrading $S_2$ at a rate proportional to $S_3$."
   ]
  },
  {
   "cell_type": "markdown",
   "metadata": {
    "id": "FO0hklfNoJw0"
   },
   "source": [
    "\n",
    "\\begin{eqnarray}\n",
    "S_1 & \\xrightarrow{k_1 S_1} & S_2 \\\\\n",
    "S_2 & \\xrightarrow{k_2 S_2}&  S_3 \\\\\n",
    "S_3 & \\xrightarrow{k_3 S_3}&  \\emptyset \\\\\n",
    "\\end{eqnarray}\n",
    "\n",
    "\\begin{eqnarray}\n",
    "S_2 & \\xrightarrow{k_4 S_3 }&  \\emptyset \\\\\n",
    "\\end{eqnarray}"
   ]
  },
  {
   "cell_type": "markdown",
   "metadata": {
    "id": "3HkwKHa9o7Ls"
   },
   "source": [
    "1.(5 pt)  Write the Laplace transforms of the system equations."
   ]
  },
  {
   "cell_type": "markdown",
   "metadata": {},
   "source": [
    "2. (5 pt) Find $G(s) = \\frac{S_3 (s)}{S_1 (s)}$ (5 pt)"
   ]
  },
  {
   "cell_type": "markdown",
   "metadata": {},
   "source": [
    "3. (5 pt) What is the characteristic equation? What is the DC gain? What is required to have the DC gain be 1 so that $S_3$ will have the same concentration as $S_1$?"
   ]
  },
  {
   "cell_type": "markdown",
   "metadata": {},
   "source": [
    "4. (5 pt) Show that you have the correct solution by comparing the predictions of the transfer function with those of simulation for $k_i = 1$."
   ]
  },
  {
   "cell_type": "markdown",
   "metadata": {},
   "source": [
    "# Problem 2: (5 pt) Do system identification"
   ]
  },
  {
   "cell_type": "markdown",
   "metadata": {},
   "source": [
    "Use ``controlSBML.plotTransferFunctionFit`` to do system identification for the system you analyzed in homework 1."
   ]
  }
 ],
 "metadata": {
  "colab": {
   "authorship_tag": "ABX9TyMH5B8ZMlydS72+lNuaMvH3",
   "provenance": []
  },
  "kernelspec": {
   "display_name": "Python 3 (ipykernel)",
   "language": "python",
   "name": "python3"
  },
  "language_info": {
   "codemirror_mode": {
    "name": "ipython",
    "version": 3
   },
   "file_extension": ".py",
   "mimetype": "text/x-python",
   "name": "python",
   "nbconvert_exporter": "python",
   "pygments_lexer": "ipython3",
   "version": "3.9.6"
  }
 },
 "nbformat": 4,
 "nbformat_minor": 4
}
