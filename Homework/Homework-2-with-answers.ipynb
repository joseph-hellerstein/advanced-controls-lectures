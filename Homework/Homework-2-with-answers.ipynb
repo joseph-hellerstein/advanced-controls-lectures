{
 "cells": [
  {
   "cell_type": "markdown",
   "id": "4c0cdaa8-e6ca-4506-a137-3f467df23247",
   "metadata": {
    "id": "4c0cdaa8-e6ca-4506-a137-3f467df23247"
   },
   "source": [
    "# Homework 2 - Constructing & Analyzing Laplace Transforms for Reaction Networks"
   ]
  },
  {
   "cell_type": "markdown",
   "id": "4827964c-f2a2-4775-adfb-122bddbd5096",
   "metadata": {},
   "source": [
    "In this homework, you will construct a Laplace transform for a reaction network and predict its response to initial conditions.\n",
    "\n",
    "The reaction network you will analyze is:\n",
    "\n",
    "$S_1 \\xrightarrow[\\text{}]{k_1 S_1} S_2$,\n",
    "$S_2 \\xrightarrow[\\text{}]{k_2 S_2} S_3$,\n",
    "$S_3 \\xrightarrow[\\text{}]{k_3 S_3} S_2$,\n",
    "\n",
    "In your computational studies, use $k_1 = 1$, $k_2 = 2$, $k_3 = 2.5$.\n",
    "The initial conditions for $S_1 = 5$; all other species are initialized to 0.\n",
    "\n",
    "You should submit your homework as a collab notebook with a separate section for each question.\n",
    "\n",
    "**Questions**\n",
    "1. (1 pt) Write Antimony code for the reaction network and simulate it under initial conditions.\n",
    "1. (5 pt) Find the transfer function $G(s) = \\frac{S_3(s)}{S_1 (s)}$. Show steps: (a) construct system equations; (b) convert to Laplace Transforms; and (c) calculate the transfer function.\n",
    "You will get two points extra credit if you submit your work in LaTex.\n",
    "1. (1 pt) What are the poles of $G(s)$? Is the system stable? Does it oscillate?\n",
    "1. (3 pt) We can interpret the simulation in (1) as a response of the transfer function\n",
    "to the input signal $S_1 (s) = \\frac{5}{s + k_1}$. Show that the predicted value of $S_3$ at time\n",
    "$\\infty$ (the \"final value\") is consistent with the simulation in (1). (Hint: The final value of the Laplace transform $G(s)$\n",
    "is $lim_{s\\rightarrow \\infty} s G(s)$.) Why is the final value less than the initial value of $S_1$?"
   ]
  },
  {
   "cell_type": "markdown",
   "id": "ab67663b-1311-42f0-b417-26f10529455f",
   "metadata": {
    "id": "ab67663b-1311-42f0-b417-26f10529455f"
   },
   "source": [
    "# Preliminaries"
   ]
  },
  {
   "cell_type": "code",
   "execution_count": 1,
   "id": "d40e6a46-9276-41fc-8806-37917c2d04bc",
   "metadata": {
    "colab": {
     "base_uri": "https://localhost:8080/"
    },
    "executionInfo": {
     "elapsed": 46115,
     "status": "ok",
     "timestamp": 1650487398502,
     "user": {
      "displayName": "Joseph Hellerstein",
      "userId": "07301174361489660166"
     },
     "user_tz": 420
    },
    "id": "d40e6a46-9276-41fc-8806-37917c2d04bc",
    "outputId": "ea0acf83-c1e6-45b6-bde1-bf37d41e6c68"
   },
   "outputs": [],
   "source": [
    "!pip install -q tellurium\n",
    "import pandas as pd\n",
    "import matplotlib.pyplot as plt\n",
    "import numpy as np\n",
    "import tellurium as te"
   ]
  },
  {
   "cell_type": "markdown",
   "id": "a4212bac-1d0e-412f-9d0d-45005ebc6ca0",
   "metadata": {},
   "source": [
    "# Helpful Hints"
   ]
  },
  {
   "cell_type": "markdown",
   "id": "6wVxvY4svYIg",
   "metadata": {
    "id": "6wVxvY4svYIg"
   },
   "source": [
    "## LaTex Basics"
   ]
  },
  {
   "cell_type": "markdown",
   "id": "tyCu6lFevca8",
   "metadata": {
    "id": "tyCu6lFevca8"
   },
   "source": [
    "1. All LaTex appears between dollar signs (``$``)\n",
    "1. Subscripts: $x_2$\n",
    "1. Superscript: $x^2$\n",
    "1. Summation: $\\sum_{n=0}^{\\infty} e^{nt}$\n",
    "1. Derivatives: $\\dot{x}(t)$\n",
    "1. Bold: ${\\bf A}$\n",
    "1. Fractions: $\\frac{a}{b}$"
   ]
  },
  {
   "cell_type": "markdown",
   "id": "71f51093-8cbf-4f99-8527-a4ce26079742",
   "metadata": {
    "id": "71f51093-8cbf-4f99-8527-a4ce26079742"
   },
   "source": [
    "## Steps in Constructing Lapalce Transforms\n",
    "1. Specify the input and output for the transfer function.\n",
    "1. Write the system equations.\n",
    "1. Convert to Laplace transforms.\n",
    "1. Solve for the output LT in terms of the input LT and form the ratio."
   ]
  },
  {
   "cell_type": "markdown",
   "id": "c7a0cf73-0556-49f1-90c6-87f3d653d506",
   "metadata": {},
   "source": [
    "# Q1: Write Antimony Code for the Reaction Network"
   ]
  },
  {
   "cell_type": "code",
   "execution_count": 3,
   "id": "5d0898c5-14b8-457c-b9c9-0ca0c574f173",
   "metadata": {
    "colab": {
     "base_uri": "https://localhost:8080/",
     "height": 281
    },
    "executionInfo": {
     "elapsed": 332,
     "status": "ok",
     "timestamp": 1650487398829,
     "user": {
      "displayName": "Joseph Hellerstein",
      "userId": "07301174361489660166"
     },
     "user_tz": 420
    },
    "id": "5d0898c5-14b8-457c-b9c9-0ca0c574f173",
    "outputId": "b65fd583-9b02-4f23-a8dc-b5eb9d622a56"
   },
   "outputs": [
    {
     "data": {
      "image/png": "[encoded data removed]",
      "text/plain": [
       "<Figure size 432x288 with 1 Axes>"
      ]
     },
     "metadata": {},
     "output_type": "display_data"
    }
   ],
   "source": [
    "MODEL = \"\"\"\n",
    "J1: S1 -> S2; k1*S1\n",
    "J2: S2 -> S3; k2*S2\n",
    "J3: S3 -> S2; k3*S3\n",
    "k1 = 1\n",
    "k2 = 2\n",
    "k3 = 2.5\n",
    "k4 = 1\n",
    "S1 = 5\n",
    "S2 = 0\n",
    "S3 = 0\n",
    "\"\"\"\n",
    "RR = te.loada(MODEL)\n",
    "RR.simulate(0, 20)\n",
    "RR.plot()"
   ]
  },
  {
   "cell_type": "markdown",
   "id": "a5466d75-f079-41d0-8b47-f230b45deba6",
   "metadata": {},
   "source": [
    "# Q2: Derive the transfer function $\\frac{S_3(s)}{S_1(s)}$"
   ]
  },
  {
   "cell_type": "markdown",
   "id": "5d63afee-4e66-444d-a8aa-0340113063ad",
   "metadata": {},
   "source": [
    "## Write the system equations"
   ]
  },
  {
   "cell_type": "markdown",
   "id": "69c2855e-5b35-4063-8205-33d0f6afe7d7",
   "metadata": {},
   "source": [
    "\\begin{eqnarray}\n",
    "\\dot{S}_1 & = & - k_1 S_1 \\\\\n",
    "\\dot{S}_2 & = &  k_1 S_1 - k_2 S_2 \\\\\n",
    "\\dot{S}_3 & = &  k_2 S_2 - k_3 S_3 \\\\\n",
    "\\end{eqnarray}"
   ]
  },
  {
   "cell_type": "markdown",
   "id": "49a6ed9b-deef-46e9-b6ee-ff68032d8932",
   "metadata": {},
   "source": [
    "## Convert to Laplace Transforms"
   ]
  },
  {
   "cell_type": "markdown",
   "id": "66bbb673-f5f6-41a2-828e-3976c48af4cf",
   "metadata": {},
   "source": [
    "\\begin{eqnarray}\n",
    "s S_1 (s) & = & - k_1 S_1 (s) \\\\\n",
    "s S_2 (s) & = &  k_1 S_1 (s) - k_2 S_2 (s) \\\\\n",
    "s S_3 (s) & = &  k_2 S_2 (s) - k_3 S_3 (s) \\\\\n",
    "\\end{eqnarray}"
   ]
  },
  {
   "cell_type": "markdown",
   "id": "3d1f327d-fd01-4cdd-ad56-bc56b571af06",
   "metadata": {},
   "source": [
    "## Solve for $\\frac{S_3(s)}{S_1 (s)}$"
   ]
  },
  {
   "cell_type": "markdown",
   "id": "b4c334fb-a405-4a5c-82dd-0dbfcaaa0521",
   "metadata": {},
   "source": [
    "\\begin{eqnarray}\n",
    "S_2(s)(s + k_2) & = & k_1 S_1(s) \\\\\n",
    "S_2(s) & = & \\frac{k_1 S_1}{s + k_2} \\\\\n",
    "S_3 (s) (s + k_3) &=& k_2 \\frac{k_1 S_1}{s + k_2} \\\\\n",
    "\\frac{S_3 (s)}{S_1 (s)} & = & \\frac{k_1 k_2}{(s + k_2)(s + k_3)}\n",
    "\\end{eqnarray}"
   ]
  },
  {
   "cell_type": "markdown",
   "id": "bbf85494-ce81-445b-8544-cc8cbf0a1e32",
   "metadata": {},
   "source": [
    "# Q3: Poles of the Transfer Function"
   ]
  },
  {
   "cell_type": "markdown",
   "id": "bb5fba01-5323-4697-8cec-b0487e0fc194",
   "metadata": {},
   "source": [
    "The poles are $-k_2, -k_3$.\n",
    "The system is stable and does not oscillate."
   ]
  },
  {
   "cell_type": "markdown",
   "id": "7cc7673e-70af-4f19-a9c7-965873640e62",
   "metadata": {},
   "source": [
    "# Q4: Response to the Input Signal"
   ]
  },
  {
   "cell_type": "markdown",
   "id": "3974786d-8db6-4106-81ce-77e1eee8358f",
   "metadata": {},
   "source": [
    "For $U(s) = \\frac{5}{s + k_1}$, we want to find the final (converged value of) $U(s) \\frac{S_3 (s)}{S_1 (s)}$.\n",
    "\\begin{eqnarray}\n",
    "lim_{s \\rightarrow 0} U(s) \\frac{S_3 (s)}{S_1 (s)} & = & lim_{s \\rightarrow 0}\\frac{1}{s + k_1} \\frac{k_1 k_2}{(s + k_2)(s + k_3)} \\\\\n",
    "& = & \\frac{1}{k_1} \\frac{k_1 k_2}{ k_2 k_3} \\\\\n",
    "& = & \\frac{1}{ k_3} \\\\\n",
    "\\end{eqnarray}"
   ]
  },
  {
   "cell_type": "markdown",
   "id": "61fff4ea-7f05-4283-beb3-2b6e529cdbb5",
   "metadata": {},
   "source": [
    "In our study, $k_3 = 2.5$ and so $\\frac{5}{k_3} = 2$, which is where $S_3$ converges in the simulation.\n",
    "This is less than $S_1$ at time 0 because of the reversible reaction that results in some of the\n",
    "mass staying in $S_2$."
   ]
  }
 ],
 "metadata": {
  "colab": {
   "collapsed_sections": [],
   "name": "Practice-Constructing-Laplace-Transforms-For-Reaction-Networks.ipynb",
   "provenance": [],
   "toc_visible": true
  },
  "kernelspec": {
   "display_name": "Python 3",
   "language": "python",
   "name": "python3"
  },
  "language_info": {
   "codemirror_mode": {
    "name": "ipython",
    "version": 3
   },
   "file_extension": ".py",
   "mimetype": "text/x-python",
   "name": "python",
   "nbconvert_exporter": "python",
   "pygments_lexer": "ipython3",
   "version": "3.6.9"
  }
 },
 "nbformat": 4,
 "nbformat_minor": 5
}
