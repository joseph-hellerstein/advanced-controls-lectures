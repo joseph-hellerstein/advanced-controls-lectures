{
 "cells": [
  {
   "cell_type": "markdown",
   "id": "2e208ddd-3ab6-46c3-9e3e-1a345794bbed",
   "metadata": {},
   "source": [
    "HOMEWORK 2"
   ]
  },
  {
   "cell_type": "code",
   "execution_count": null,
   "id": "f5e6f6d2-ff33-497c-aa36-057651b3c58e",
   "metadata": {},
   "outputs": [],
   "source": [
    "!pip -q install controlSBML\n",
    "import controlSBML as ctl\n",
    "import control\n",
    "from controlSBML.util import makeSimulationTimes\n",
    "import pandas as pd\n",
    "import matplotlib.pyplot as plt\n",
    "import numpy as np\n",
    "import sympy as sy\n",
    "import tellurium as te\n",
    "import sympy\n",
    "print(\"controlSBML version: \" + ctl.__version__)"
   ]
  },
  {
   "cell_type": "markdown",
   "id": "0733c387-1152-469f-8811-029e692c29cd",
   "metadata": {},
   "source": [
    "# Question 1: Laplace Transform Theory"
   ]
  },
  {
   "cell_type": "markdown",
   "id": "cc5e31fc-513e-462f-b25a-42ab467e7fd5",
   "metadata": {},
   "source": [
    "Consider the scalar system $\\dot{x}(t) = a x(t) + u(t)$ with initial conditions $x(0) = x_0$.\n",
    "This has the solution $x(t) = x_0 e^{at} + \\int_0^t e^{a \\tau} u(t- \\tau) d \\tau$.\n",
    "Prove that solution when $x(t)$ for $u(t) = 0$ is \n",
    "$x(t) = \\int_0^t e^{a \\tau} x_0 \\delta_0(t- \\tau) d \\tau$.\n",
    "That is, the response to initial conditions is the same as the\n",
    "impulse response with a magnitude of the initial conditions."
   ]
  }
 ],
 "metadata": {
  "kernelspec": {
   "display_name": "Python 3",
   "language": "python",
   "name": "python3"
  },
  "language_info": {
   "codemirror_mode": {
    "name": "ipython",
    "version": 3
   },
   "file_extension": ".py",
   "mimetype": "text/x-python",
   "name": "python",
   "nbconvert_exporter": "python",
   "pygments_lexer": "ipython3",
   "version": "3.6.9"
  }
 },
 "nbformat": 4,
 "nbformat_minor": 5
}
