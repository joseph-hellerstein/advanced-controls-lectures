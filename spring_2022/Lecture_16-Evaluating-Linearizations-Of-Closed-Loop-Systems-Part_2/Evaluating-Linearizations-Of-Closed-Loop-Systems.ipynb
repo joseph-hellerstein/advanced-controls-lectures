{
 "cells": [
  {
   "cell_type": "markdown",
   "id": "b1229fec-e965-4858-b3e7-cf67e8645060",
   "metadata": {
    "id": "b1229fec-e965-4858-b3e7-cf67e8645060"
   },
   "source": [
    "# EVALUATING LINEARIZATIONS OF CLOSED LOOP SYSTEMS"
   ]
  },
  {
   "cell_type": "markdown",
   "id": "6f6af7d4-63dc-4ec1-95ba-bdd6f9c35720",
   "metadata": {
    "id": "6f6af7d4-63dc-4ec1-95ba-bdd6f9c35720",
    "tags": []
   },
   "source": [
    "This notebook is a companion to the slides for understanding closed loop systems."
   ]
  },
  {
   "cell_type": "markdown",
   "id": "ea1ef56b-9c3d-4fbe-8202-151b8979a57b",
   "metadata": {
    "id": "ea1ef56b-9c3d-4fbe-8202-151b8979a57b"
   },
   "source": [
    "# Preliminaries"
   ]
  },
  {
   "cell_type": "code",
   "execution_count": 1,
   "id": "f16d0f7a-d0c5-4f37-aa29-feed6d82a363",
   "metadata": {
    "colab": {
     "base_uri": "https://localhost:8080/"
    },
    "executionInfo": {
     "elapsed": 58100,
     "status": "ok",
     "timestamp": 1651509049741,
     "user": {
      "displayName": "Joseph Hellerstein",
      "userId": "07301174361489660166"
     },
     "user_tz": 420
    },
    "id": "f16d0f7a-d0c5-4f37-aa29-feed6d82a363",
    "outputId": "4be9af3b-e3f5-4f57-ea5a-0cdee5894f2e"
   },
   "outputs": [],
   "source": [
    "!pip install -q control\n",
    "!pip install -q tellurium\n",
    "!pip install -q controlSBML\n",
    "\n",
    "import collections\n",
    "import control\n",
    "import controlSBML as ctl\n",
    "from IPython.display import HTML, Math\n",
    "import numpy as np\n",
    "import pandas as pd\n",
    "import matplotlib.pyplot as plt\n",
    "import sympy\n",
    "import tellurium as te"
   ]
  },
  {
   "cell_type": "code",
   "execution_count": 2,
   "id": "0e08f473-49e8-4878-bc53-289472bb71fb",
   "metadata": {
    "executionInfo": {
     "elapsed": 9,
     "status": "ok",
     "timestamp": 1651509049743,
     "user": {
      "displayName": "Joseph Hellerstein",
      "userId": "07301174361489660166"
     },
     "user_tz": 420
    },
    "id": "0e08f473-49e8-4878-bc53-289472bb71fb"
   },
   "outputs": [],
   "source": [
    "TIMES = ctl.makeSimulationTimes(0, 5, 500)"
   ]
  },
  {
   "cell_type": "markdown",
   "id": "f5286452-eb67-42ca-8dae-be9954e20efa",
   "metadata": {
    "id": "f5286452-eb67-42ca-8dae-be9954e20efa"
   },
   "source": [
    "# Helpers"
   ]
  },
  {
   "cell_type": "code",
   "execution_count": 3,
   "id": "55e3604e-6392-45b8-818c-8c7624758fcc",
   "metadata": {
    "colab": {
     "base_uri": "https://localhost:8080/"
    },
    "executionInfo": {
     "elapsed": 9,
     "status": "ok",
     "timestamp": 1651509049744,
     "user": {
      "displayName": "Joseph Hellerstein",
      "userId": "07301174361489660166"
     },
     "user_tz": 420
    },
    "id": "55e3604e-6392-45b8-818c-8c7624758fcc",
    "outputId": "ab7666c5-c90f-4308-9cfe-9913863669f6"
   },
   "outputs": [
    {
     "name": "stdout",
     "output_type": "stream",
     "text": [
      "OK!\n"
     ]
    }
   ],
   "source": [
    "def plotStep(tf, is_plot=True):\n",
    "    \"\"\"\n",
    "    Plots a transfer function step response\n",
    "    \n",
    "    Parameters\n",
    "    ----------\n",
    "    tf: control.TransferFunction\n",
    "    \"\"\"\n",
    "    result = control.forced_response(tf, T=TIMES, U=1)\n",
    "    if is_plot:\n",
    "        plt.plot(result.t, result.outputs)\n",
    "\n",
    "# TESTS\n",
    "Gs = control.TransferFunction([2], [1, 3])\n",
    "plotStep(Gs, is_plot=False)\n",
    "print(\"OK!\")"
   ]
  },
  {
   "cell_type": "code",
   "execution_count": 4,
   "id": "31dec246-4a8c-40e4-837e-4a5cd944f10c",
   "metadata": {
    "colab": {
     "base_uri": "https://localhost:8080/",
     "height": 0
    },
    "executionInfo": {
     "elapsed": 7,
     "status": "ok",
     "timestamp": 1651509049744,
     "user": {
      "displayName": "Joseph Hellerstein",
      "userId": "07301174361489660166"
     },
     "user_tz": 420
    },
    "id": "31dec246-4a8c-40e4-837e-4a5cd944f10c",
    "outputId": "0029616d-bbed-4381-8faa-4a4790ae98bb"
   },
   "outputs": [
    {
     "data": {
      "text/latex": [
       "$\\displaystyle e^{\\alpha}$"
      ],
      "text/plain": [
       "<IPython.core.display.Math object>"
      ]
     },
     "metadata": {},
     "output_type": "display_data"
    }
   ],
   "source": [
    "def pp(obj):\n",
    "    \"\"\"\n",
    "    Does a LaTex rendering of an object with a latex representation.\n",
    "\n",
    "    Parameters\n",
    "    ----------\n",
    "    obj: object\n",
    "    \"\"\"\n",
    "    display(Math(str(obj)))\n",
    "\n",
    "# Tests\n",
    "pp(r\"e^{\\alpha}\")"
   ]
  },
  {
   "cell_type": "markdown",
   "id": "90b0c8d2-8375-4e5f-962b-5abb4b6bf6d1",
   "metadata": {
    "id": "90b0c8d2-8375-4e5f-962b-5abb4b6bf6d1"
   },
   "source": [
    "# Closed Loop Transfer Functions"
   ]
  },
  {
   "cell_type": "markdown",
   "id": "262f37bc-ab85-4c2b-bf71-8862fdba6cf5",
   "metadata": {
    "id": "262f37bc-ab85-4c2b-bf71-8862fdba6cf5"
   },
   "source": [
    "<img src=\"https://github.com/joseph-hellerstein/advanced-controls-lectures/blob/main/Lecture_13_14-Closed-Loop-Systems/Closed-Loop-System.png?raw=true\"\n",
    "     alt=\"Markdown Monster icon\" width=600pt\n",
    "     style=\"float: left; margin-right: 10px;\" />"
   ]
  },
  {
   "cell_type": "markdown",
   "id": "a6773706-9d33-4d28-a3cb-a62b58b48b57",
   "metadata": {
    "id": "a6773706-9d33-4d28-a3cb-a62b58b48b57"
   },
   "source": [
    "**Transfer Functions**\n",
    "\\begin{eqnarray}\n",
    "H_{RY}(s) & = & \\frac{Y(s)}{R(s)} & = & \\frac{C(s) G(s)}{1 + C(s) G(s) F(s)} \\\\\n",
    "H_{RE}(s) & = & \\frac{E(s)}{R(s)} & = & \\frac{1}{1 + C(s) G(s) F(s)} \\\\\n",
    "H_{NY}(s) & = & \\frac{Y(s)}{N(s)} & = & -\\frac{ F(s)}{1 + C(s) G(s) F(s)} \\\\\n",
    "H_{DY}(s) & = & \\frac{Y(s)}{D(s)} & = & \\frac{ C(s)}{1 + C(s) G(s) F(s)} \\\\\n",
    "\\end{eqnarray}"
   ]
  },
  {
   "cell_type": "markdown",
   "id": "1552aabf-e43e-49f8-8009-76d450f7c289",
   "metadata": {
    "id": "1552aabf-e43e-49f8-8009-76d450f7c289"
   },
   "source": [
    "# Problem Statement"
   ]
  },
  {
   "cell_type": "markdown",
   "id": "7d29af36-13a1-4998-9313-1f33933b5c62",
   "metadata": {
    "id": "7d29af36-13a1-4998-9313-1f33933b5c62"
   },
   "source": [
    "We want to evaluate the transfer functions for a variety of systems $C(s)$ and filters $F(s)$.\n",
    "We will use $G(s) = \\frac{2}{s + 3}$, $C(s) = k_p$, and $F(s) = \\frac{k_f}{s + k_f}$.\n",
    "\n",
    "1. Create an experimental infrastructure, codes that creates a plot with a line for each of the transfer functions. You wil need to create the transfer functions C(s), G(s), F(s). The plot should have a legend.\n",
    "    1. Inputs: G_tf (transfer function for G(s)), k_p, k_f\n",
    "1. Construct plots such that $k_p \\in \\{1, 5, 10\\}$, $k_f \\in \\{1, 5, 10\\}$.\n",
    "1. Discuss the tradeoffs between large and small values of $k_p$, $k_f$? Some of the simulations have oscillations. Why?"
   ]
  },
  {
   "cell_type": "markdown",
   "id": "3e641c9d-66a0-46c9-91f4-21ab2b86ff77",
   "metadata": {
    "id": "3e641c9d-66a0-46c9-91f4-21ab2b86ff77"
   },
   "source": [
    "# Experimental Infrastructure"
   ]
  },
  {
   "cell_type": "code",
   "execution_count": 6,
   "id": "0af693fe-e557-4707-8c5c-63b4cf8b7b66",
   "metadata": {
    "colab": {
     "base_uri": "https://localhost:8080/",
     "height": 641
    },
    "executionInfo": {
     "elapsed": 646,
     "status": "error",
     "timestamp": 1651509050385,
     "user": {
      "displayName": "Joseph Hellerstein",
      "userId": "07301174361489660166"
     },
     "user_tz": 420
    },
    "id": "0af693fe-e557-4707-8c5c-63b4cf8b7b66",
    "outputId": "f0f504fb-b4ed-46da-abf3-d98d5553bb1a"
   },
   "outputs": [
    {
     "name": "stdout",
     "output_type": "stream",
     "text": [
      "Tests failed!\n"
     ]
    },
    {
     "data": {
      "image/png": "[encoded data removed]",
      "text/plain": [
       "<Figure size 432x288 with 1 Axes>"
      ]
     },
     "metadata": {
      "needs_background": "light"
     },
     "output_type": "display_data"
    }
   ],
   "source": [
    "# Initial start on function. Needs to be completed.\n",
    "def plotTFs(Gs, k_p, k_f, times=TIMES, ylim=None, title=None, is_plot=True):\n",
    "    \"\"\"\n",
    "    Constructs the transfer functions for the proportional controller, and filter.\n",
    "    Calculates the transfer functions HRYs, HREs, HNYs, HDYs and plots them.\n",
    "    \n",
    "    Parameters\n",
    "    ----------\n",
    "    Gs: control.TransferFunction\n",
    "    k_pf: float\n",
    "    k_f: float\n",
    "    times: list-float\n",
    "    ylim: (float, float)\n",
    "        limits of y-values\n",
    "    title: str\n",
    "    \n",
    "    Returns\n",
    "    -------\n",
    "    dct\n",
    "        key: name of transfer function\n",
    "        value: control.TransferFunction\n",
    "    \"\"\"\n",
    "    Cs = control.TransferFunction([k_p], [1])\n",
    "    Fs = control.TransferFunction([k_f], [1, k_f])\n",
    "    denom = 1 + Cs*Gs*Fs\n",
    "    # Construct the transfer functions\n",
    "    tf_dct = {\n",
    "        \"HRYs\": Cs*Gs/denom,\n",
    "        \"HREs\": None,  # TODO\n",
    "        \"HNYs\": None,  # TODO\n",
    "        \"HDYs\": None,  # TODO\n",
    "    }\n",
    "    # Construct the plots\n",
    "    _, ax = plt.subplots(1)\n",
    "    for tf in tf_dct.values():\n",
    "        result = control.forced_response(tf, T=TIMES, U=1)\n",
    "        # TODO: plot\n",
    "    # Do plots\n",
    "    # TODO: other plot stuff\n",
    "    if not is_plot:\n",
    "        plt.close()\n",
    "    return tf_dct\n",
    "    \n",
    "# Tests\n",
    "Gs = control.TransferFunction([2], [1, 3])\n",
    "try:\n",
    "    dct = plotTFs(Gs, 10, 10, ylim=[0, 3], title=\"Example\", is_plot=False)\n",
    "    assert(len(dct) == 4)\n",
    "    assert(\"TransferFunction\" in str(type(dct[\"HRYs\"])))\n",
    "    print(\"OK!\")\n",
    "except:\n",
    "    print(\"Tests failed!\")"
   ]
  },
  {
   "cell_type": "markdown",
   "id": "037b3b85-390e-4bd3-acb0-5b8953749040",
   "metadata": {
    "id": "037b3b85-390e-4bd3-acb0-5b8953749040"
   },
   "source": [
    "# Plots"
   ]
  },
  {
   "cell_type": "code",
   "execution_count": null,
   "id": "f46898b6-234d-4684-b226-22da18c5bba3",
   "metadata": {
    "executionInfo": {
     "elapsed": 3,
     "status": "aborted",
     "timestamp": 1651509050384,
     "user": {
      "displayName": "Joseph Hellerstein",
      "userId": "07301174361489660166"
     },
     "user_tz": 420
    },
    "id": "f46898b6-234d-4684-b226-22da18c5bba3"
   },
   "outputs": [],
   "source": [
    "for k_p in [1, 5, 10]:\n",
    "    for k_f in [1, 5, 10]:\n",
    "        title = \"k_p: %2.1f k_f: %2.1f\" % (k_p, k_f)\n",
    "        _ = plotTFs(Gs, k_p, k_f, title=title, ylim=[-1, 3])"
   ]
  },
  {
   "cell_type": "markdown",
   "id": "ca41edcc-37a7-4d72-8580-d4b16398864a",
   "metadata": {
    "id": "ca41edcc-37a7-4d72-8580-d4b16398864a"
   },
   "source": [
    "# Discussion"
   ]
  }
 ],
 "metadata": {
  "colab": {
   "collapsed_sections": [],
   "name": "Evaluating-Linearizations-Of-Closed-Loop-Systems.ipynb",
   "provenance": [],
   "toc_visible": true
  },
  "kernelspec": {
   "display_name": "Python 3",
   "language": "python",
   "name": "python3"
  },
  "language_info": {
   "codemirror_mode": {
    "name": "ipython",
    "version": 3
   },
   "file_extension": ".py",
   "mimetype": "text/x-python",
   "name": "python",
   "nbconvert_exporter": "python",
   "pygments_lexer": "ipython3",
   "version": "3.6.9"
  }
 },
 "nbformat": 4,
 "nbformat_minor": 5
}
