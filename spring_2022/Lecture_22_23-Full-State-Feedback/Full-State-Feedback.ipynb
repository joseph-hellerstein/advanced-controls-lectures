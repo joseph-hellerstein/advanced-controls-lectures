{
 "cells": [
  {
   "cell_type": "markdown",
   "id": "b1229fec-e965-4858-b3e7-cf67e8645060",
   "metadata": {},
   "source": [
    "# TESTBED FOR FULL STATE FEEDBACK"
   ]
  },
  {
   "cell_type": "markdown",
   "id": "b14755c3-727a-4b2c-815c-2b0d7dc192d5",
   "metadata": {},
   "source": [
    "<img src=\"https://github.com/joseph-hellerstein/advanced-controls-lectures/blob/main/Lecture_13_14-Closed-Loop-Systems/Closed-Loop-System.png?raw=true\"\n",
    "     alt=\"Markdown Monster icon\" width=600pt\n",
    "     style=\"float: left; margin-right: 10px;\" />"
   ]
  },
  {
   "cell_type": "markdown",
   "id": "1d364ff2-fbd9-4dfc-bce8-d070b1d57418",
   "metadata": {},
   "source": [
    "This notebook describes the proportional, integral, and differential controllers."
   ]
  },
  {
   "cell_type": "markdown",
   "id": "ea1ef56b-9c3d-4fbe-8202-151b8979a57b",
   "metadata": {},
   "source": [
    "# Preliminaries"
   ]
  },
  {
   "cell_type": "code",
   "execution_count": 1,
   "id": "f16d0f7a-d0c5-4f37-aa29-feed6d82a363",
   "metadata": {},
   "outputs": [],
   "source": [
    "!pip install -q control\n",
    "!pip install -q tellurium\n",
    "!pip install -q controlSBML\n",
    "\n",
    "import control\n",
    "import controlSBML as ctl\n",
    "from IPython.display import HTML, Math\n",
    "import numpy as np\n",
    "import pandas as pd\n",
    "import matplotlib.pyplot as plt\n",
    "import sympy\n",
    "import tellurium as te"
   ]
  },
  {
   "cell_type": "code",
   "execution_count": 2,
   "id": "0e08f473-49e8-4878-bc53-289472bb71fb",
   "metadata": {},
   "outputs": [],
   "source": [
    "TIMES = ctl.makeSimulationTimes(0, 5, 500)"
   ]
  },
  {
   "cell_type": "code",
   "execution_count": 3,
   "id": "64e2bdc6-baae-49d2-87d3-b742349b7595",
   "metadata": {},
   "outputs": [
    {
     "data": {
      "image/png": "[encoded data removed]",
      "text/plain": [
       "<Figure size 432x288 with 1 Axes>"
      ]
     },
     "metadata": {},
     "output_type": "display_data"
    }
   ],
   "source": [
    "MODEL = \"\"\"\n",
    "-> S0; 5\n",
    "S0 -> S1; k0*S0\n",
    "S1 -> S2; k1*S1\n",
    "S2 -> S1; k2*S2\n",
    "S2 -> ; k3*S2\n",
    "\n",
    "k0 = 0.5\n",
    "k1 = 1\n",
    "k2 = 2\n",
    "k3 = 3\n",
    "S0 = 5\n",
    "S1 = 0\n",
    "S2 = 0\n",
    "\"\"\"\n",
    "RR = te.loada(MODEL)\n",
    "RR.simulate(0, 10)\n",
    "RR.plot()"
   ]
  },
  {
   "cell_type": "markdown",
   "id": "277644a8-2bd4-46c5-93a5-6959bd213df3",
   "metadata": {},
   "source": [
    "# Calculating symbolic eigenvalues"
   ]
  },
  {
   "cell_type": "code",
   "execution_count": 4,
   "id": "b05286e2-14e1-4134-af87-1e61907aa55b",
   "metadata": {},
   "outputs": [],
   "source": [
    "k0, k1, k2, k3, S1, S2, S0 = sympy.symbols(\"k0, k1, k2, k3, S1, S2, S0\")"
   ]
  },
  {
   "cell_type": "code",
   "execution_count": 5,
   "id": "0bdc13ce-530f-47b7-b8eb-0795baac50a3",
   "metadata": {},
   "outputs": [
    {
     "data": {
      "text/latex": [
       "$\\displaystyle \\left[\\begin{matrix}- k_{1} & k_{2}\\\\k_{1} & - k_{2} - k_{3}\\end{matrix}\\right]$"
      ],
      "text/plain": [
       "Matrix([\n",
       "[-k1,       k2],\n",
       "[ k1, -k2 - k3]])"
      ]
     },
     "execution_count": 5,
     "metadata": {},
     "output_type": "execute_result"
    }
   ],
   "source": [
    "A = sympy.Matrix([[-k1, k2], [k1, -k2-k3]])\n",
    "A"
   ]
  },
  {
   "cell_type": "code",
   "execution_count": 110,
   "id": "d3069167-9e67-4161-897c-b8f33dcc34b0",
   "metadata": {},
   "outputs": [
    {
     "data": {
      "text/latex": [
       "$\\displaystyle \\left[\\begin{matrix}-1 & 2\\\\1 & -5\\end{matrix}\\right]$"
      ],
      "text/plain": [
       "Matrix([\n",
       "[-1,  2],\n",
       "[ 1, -5]])"
      ]
     },
     "execution_count": 110,
     "metadata": {},
     "output_type": "execute_result"
    }
   ],
   "source": [
    "Ap = A.subs({k1:1, k2:2, k3:3})\n",
    "Ap.as_real_imag()[0]"
   ]
  },
  {
   "cell_type": "code",
   "execution_count": 115,
   "id": "e5c56da1-a720-4e2c-9989-56a93929d29b",
   "metadata": {},
   "outputs": [
    {
     "data": {
      "text/plain": [
       "(array([-0.55051026, -5.44948974]),\n",
       " array([[ 0.97566304, -0.40997761],\n",
       "        [ 0.21927526,  0.91209559]]))"
      ]
     },
     "execution_count": 115,
     "metadata": {},
     "output_type": "execute_result"
    }
   ],
   "source": [
    "mat = np.array([[-1, 2], [1, -5]])\n",
    "np.linalg.eig(mat)"
   ]
  },
  {
   "cell_type": "code",
   "execution_count": 118,
   "id": "501ed58c-fe12-4688-85ca-b39da58aaec7",
   "metadata": {},
   "outputs": [
    {
     "data": {
      "text/plain": [
       "0.5505102572168221"
      ]
     },
     "execution_count": 118,
     "metadata": {},
     "output_type": "execute_result"
    }
   ],
   "source": [
    "3 - np.sqrt(6)"
   ]
  },
  {
   "cell_type": "code",
   "execution_count": 6,
   "id": "58eb047b-9d50-4158-9e13-073a714f45b9",
   "metadata": {},
   "outputs": [
    {
     "data": {
      "text/latex": [
       "$\\displaystyle - \\frac{k_{1}}{2} - \\frac{k_{2}}{2} - \\frac{k_{3}}{2} + \\frac{\\sqrt{k_{1}^{2} + 2 k_{1} k_{2} - 2 k_{1} k_{3} + k_{2}^{2} + 2 k_{2} k_{3} + k_{3}^{2}}}{2}$"
      ],
      "text/plain": [
       "-k1/2 - k2/2 - k3/2 + sqrt(k1**2 + 2*k1*k2 - 2*k1*k3 + k2**2 + 2*k2*k3 + k3**2)/2"
      ]
     },
     "execution_count": 6,
     "metadata": {},
     "output_type": "execute_result"
    }
   ],
   "source": [
    "eigenvalues = list(A.eigenvals().keys())\n",
    "eigenvalues[1].simplify()"
   ]
  },
  {
   "cell_type": "code",
   "execution_count": 7,
   "id": "759dec8e-4ac5-49b2-a4f5-1c4bb28fbe96",
   "metadata": {},
   "outputs": [
    {
     "data": {
      "text/latex": [
       "$\\displaystyle k_{1}^{2} + 2 k_{1} k_{2} + 2 k_{1} k_{3} + k_{2}^{2} + 2 k_{2} k_{3} + k_{3}^{2}$"
      ],
      "text/plain": [
       "k1**2 + 2*k1*k2 + 2*k1*k3 + k2**2 + 2*k2*k3 + k3**2"
      ]
     },
     "execution_count": 7,
     "metadata": {},
     "output_type": "execute_result"
    }
   ],
   "source": [
    "sympy.expand((k1 + k2 + k3)**2)"
   ]
  },
  {
   "cell_type": "code",
   "execution_count": 8,
   "id": "506cf923-d54f-4a9a-8b4b-51c068a46fdc",
   "metadata": {},
   "outputs": [],
   "source": [
    "expr1 = -(k1 +k2 + k3) + sympy.sqrt( (k1 + k2 +k3)**2 - 4*(k1*(k3-k2)))"
   ]
  },
  {
   "cell_type": "code",
   "execution_count": 9,
   "id": "b882fd76-728c-47de-8f3b-f3a281cace4a",
   "metadata": {},
   "outputs": [
    {
     "data": {
      "text/latex": [
       "$\\displaystyle -0.34314575050762$"
      ],
      "text/plain": [
       "-0.343145750507620"
      ]
     },
     "execution_count": 9,
     "metadata": {},
     "output_type": "execute_result"
    }
   ],
   "source": [
    "sympy.N(expr1.subs({k1: 1, k2: 2, k3: 3}))"
   ]
  },
  {
   "cell_type": "code",
   "execution_count": 10,
   "id": "19550b87-1b4d-4f46-8270-9f2a48731629",
   "metadata": {},
   "outputs": [
    {
     "data": {
      "text/latex": [
       "$\\displaystyle -11.6568542494924$"
      ],
      "text/plain": [
       "-11.6568542494924"
      ]
     },
     "execution_count": 10,
     "metadata": {},
     "output_type": "execute_result"
    }
   ],
   "source": [
    "expr2 = -(k1 +k2 + k3) - sympy.sqrt( (k1 + k2 +k3)**2 - 4*(k1*(k3-k2)))\n",
    "sympy.N(expr2.subs({k1: 1, k2: 2, k3: 3}))"
   ]
  },
  {
   "cell_type": "markdown",
   "id": "ee42afb2-03cf-4311-85ed-fde6dcce7bdf",
   "metadata": {},
   "source": [
    "# DC Gain"
   ]
  },
  {
   "cell_type": "code",
   "execution_count": 174,
   "id": "913271f7-da16-4cbb-9941-c4454dc4658a",
   "metadata": {},
   "outputs": [
    {
     "name": "stdout",
     "output_type": "stream",
     "text": [
      "[[ 0.05 -0.25]\n",
      " [ 0.01  0.15]]\n",
      "[[0.025]\n",
      " [0.005]]\n",
      "[0.005]\n"
     ]
    }
   ],
   "source": [
    "Ap = np.array([ [15, 25], [-1, 5]])\n",
    "Ap_inv = np.linalg.inv(Ap)\n",
    "print(Ap_inv)\n",
    "App = np.matmul(Ap_inv, np.array([ [0.5], [0]]))\n",
    "print(App)\n",
    "print(np.matmul(np.array([0, 1]), App))              "
   ]
  },
  {
   "cell_type": "markdown",
   "id": "89c6d8d1-5c1a-4438-a034-7f5dcd82f2c5",
   "metadata": {},
   "source": [
    "# Full State Feedback"
   ]
  },
  {
   "cell_type": "code",
   "execution_count": 170,
   "id": "ec27892f-649c-43ab-9010-cd6840a407bc",
   "metadata": {},
   "outputs": [
    {
     "data": {
      "text/plain": [
       "array([[ 1.00000000e+00, -1.38777878e-16],\n",
       "       [-1.73472348e-18,  1.00000000e+00]])"
      ]
     },
     "execution_count": 170,
     "metadata": {},
     "output_type": "execute_result"
    }
   ],
   "source": [
    "np.matmul(Ap, Ap_inv)"
   ]
  },
  {
   "cell_type": "markdown",
   "id": "ac0cb1f3-09d3-43b6-853b-6a9c45c8fed4",
   "metadata": {},
   "source": [
    "## Full State Controller"
   ]
  },
  {
   "cell_type": "code",
   "execution_count": null,
   "id": "050f73c4-1483-42c2-b057-809e4ad8d795",
   "metadata": {},
   "outputs": [],
   "source": []
  },
  {
   "cell_type": "code",
   "execution_count": 61,
   "id": "5d33a32f-d1c3-4923-a793-639958fe8282",
   "metadata": {},
   "outputs": [
    {
     "name": "stdout",
     "output_type": "stream",
     "text": [
      "OK!\n"
     ]
    }
   ],
   "source": [
    "def makeController(name, kp_vec):\n",
    "    \"\"\"\n",
    "    Creates a full state feedback controller.\n",
    "    \n",
    "    Parameters\n",
    "    ----------\n",
    "    name: str\n",
    "        Name of the system\n",
    "    kp_vec: list-float\n",
    "    \n",
    "    Returns\n",
    "    -------\n",
    "    control.NonlinearIOSystem\n",
    "    \"\"\"\n",
    "    kp_vec = np.array(kp_vec)\n",
    "    def outfcn(_, __, u_vec, ___):\n",
    "        # u_vec: list-float - vector of internal state deviations\n",
    "        ref = u_vec[0]\n",
    "        arr = np.array(u_vec[1:])\n",
    "        output = ref - kp_vec.dot(arr)\n",
    "        return output\n",
    "    #\n",
    "    return control.NonlinearIOSystem(\n",
    "        None, outfcn, inputs=['ref', 'in1', 'in2'], outputs=['out'],\n",
    "        name=name)\n",
    "\n",
    "# Tests\n",
    "kp_vec = [1, 2]\n",
    "controller = makeController(\"controller\", kp_vec)\n",
    "times = [0, 1, 2, 3, 4]\n",
    "refs = np.repeat(1, len(times))\n",
    "U = np.array(list(zip(refs, times, times)))\n",
    "U = U.transpose()\n",
    "result = control.input_output_response(controller, T=times, U=U)\n",
    "assert(len(result.y[0]) == len(times))\n",
    "assert(result.y[0][1] == -2)\n",
    "print(\"OK!\")"
   ]
  },
  {
   "cell_type": "code",
   "execution_count": 142,
   "id": "d61f24f6-5c6d-4dec-a95a-9c8f6d95db43",
   "metadata": {},
   "outputs": [
    {
     "name": "stdout",
     "output_type": "stream",
     "text": [
      "OK!\n"
     ]
    }
   ],
   "source": [
    "def makeFullStateFeedbackController(name, ctlsb, factor=1.0, poles=-2, time=0):\n",
    "    \"\"\"\n",
    "    Creates a full state feedback controller for an SBML model where the system is linearized\n",
    "    at the specified time.\n",
    "    \n",
    "    Parameters\n",
    "    ----------\n",
    "    name: str\n",
    "        Name of the system\n",
    "    ctlsb: ControlSBML\n",
    "        SISO system\n",
    "    factor: float\n",
    "        factor for adjusting the reference input\n",
    "    poles: list-float/float\n",
    "        Desired poles\n",
    "    time: float\n",
    "        Time where system is lienarized\n",
    "    \n",
    "    Returns\n",
    "    -------\n",
    "    control.NonlinearIOSystem\n",
    "       inputs:\n",
    "           <state_variable> (excluding the input)\n",
    "           ref: reference input\n",
    "       outputs:\n",
    "           out\n",
    "    \"\"\"\n",
    "    REF = \"ref\"\n",
    "    # Validity Checks\n",
    "    if len(ctlsb.input_names) != 1:\n",
    "        raise ValueError(\"SBML model must have a single input. Has: %s\" % str(ctlsb.input_names))\n",
    "    # Initializations\n",
    "    state_space = ctlsb.makeStateSpace(time=time)\n",
    "    controller_input_names = [n for n in ctlsb.state_names if not n in ctlsb.input_names]\n",
    "    controller_input_names.insert(0, REF)  # first input\n",
    "    num_state_input = len(controller_input_names) - 1\n",
    "    try:\n",
    "        _ = len(poles)\n",
    "        poles = np.array(poles)\n",
    "    except:\n",
    "        poles = np.array([poles + 0.1*n for n in range(num_state_input)])\n",
    "    # Calculate the gain matrix\n",
    "    kp_vec = control.place(state_space.A, state_space.B, poles)\n",
    "    def outfcn(time, _, u_vec, __):\n",
    "        # u_vec: list-float - reference, state variables\n",
    "        ref = factor*u_vec[0]\n",
    "        arr = np.array(u_vec[1:])\n",
    "        output = ref - kp_vec.dot(arr)\n",
    "        return output\n",
    "    #\n",
    "    return control.NonlinearIOSystem(\n",
    "        None, outfcn, inputs=controller_input_names, outputs=['out'],\n",
    "        name=name)\n",
    "\n",
    "# Tests\n",
    "ctlsb = ctl.ControlSBML(MODEL, input_names=[\"S0\"], output_names=[\"S2\"])\n",
    "controller = makeFullStateFeedbackController(\"controller\", ctlsb, factor=1.0, poles=-10, time=1)\n",
    "times = [0, 1, 2, 3, 4]\n",
    "U = np.array([(1, 1, 1,) for _ in range(len(times))])\n",
    "U = U.transpose()\n",
    "result = control.input_output_response(controller, T=times, U=U)\n",
    "assert(len(result.y[0]) == len(times))\n",
    "print(\"OK!\")"
   ]
  },
  {
   "cell_type": "code",
   "execution_count": 139,
   "id": "df7710b2-ac3c-45d2-ab4f-af5f21e1ca32",
   "metadata": {},
   "outputs": [
    {
     "data": {
      "text/plain": [
       "array([[-79.8, -79.8, -79.8, -79.8, -79.8]])"
      ]
     },
     "execution_count": 139,
     "metadata": {},
     "output_type": "execute_result"
    }
   ],
   "source": [
    "result.y"
   ]
  },
  {
   "cell_type": "code",
   "execution_count": 125,
   "id": "f753e3d5-0114-4f5d-b2cf-56d73a06b2ca",
   "metadata": {},
   "outputs": [
    {
     "name": "stdout",
     "output_type": "stream",
     "text": [
      "OK!\n"
     ]
    }
   ],
   "source": [
    "def calcKp(lambda1, lambda2, k0=0.5, k1=1, k2=2, k3=3):\n",
    "    \"\"\"\n",
    "    Calculates the proportional constants for MODEL.\n",
    "    \"\"\"\n",
    "    kp1 = (-lambda1 - lambda2 - k1 - k2 - k3)/k0\n",
    "    kp2 = (lambda1*lambda2 - k1*k3 - kp1*k0*(k2 + k3))/(k0*k1)\n",
    "    return np.array([kp1, kp2])\n",
    "\n",
    "# Tests\n",
    "poles = calcKp(-10, -11)\n",
    "assert(poles[1] == 64)\n",
    "print(\"OK!\")"
   ]
  },
  {
   "cell_type": "markdown",
   "id": "b9044fd7-8fc9-46ce-be8d-4520f0027303",
   "metadata": {},
   "source": [
    "## Network"
   ]
  },
  {
   "cell_type": "code",
   "execution_count": 144,
   "id": "3ff08812-07d3-4a20-8b7e-163f6906dbe1",
   "metadata": {},
   "outputs": [],
   "source": [
    "# Create elements\n",
    "CTLSB = ctl.ControlSBML(MODEL, input_names=[\"S0\"], output_names=[\"S1\", \"S2\"])\n",
    "system = CTLSB.makeNonlinearIOSystem(\"system\")\n",
    "controller = makeController(\"controller\", calcKp(-10, -10))"
   ]
  },
  {
   "cell_type": "code",
   "execution_count": 120,
   "id": "db893019-9270-4a4a-b4df-10be59e5906d",
   "metadata": {},
   "outputs": [
    {
     "data": {
      "text/latex": [
       "\\[\n",
       "\\left(\\begin{array}{rllrll|rll}\n",
       "-1\\phantom{.}&\\hspace{-1em}&\\hspace{-1em}\\phantom{\\cdot}&2\\phantom{.}&\\hspace{-1em}&\\hspace{-1em}\\phantom{\\cdot}&0.&\\hspace{-1em}5&\\hspace{-1em}\\phantom{\\cdot}\\\\\n",
       "1\\phantom{.}&\\hspace{-1em}&\\hspace{-1em}\\phantom{\\cdot}&-5\\phantom{.}&\\hspace{-1em}&\\hspace{-1em}\\phantom{\\cdot}&0\\phantom{.}&\\hspace{-1em}&\\hspace{-1em}\\phantom{\\cdot}\\\\\n",
       "\\hline\n",
       "1\\phantom{.}&\\hspace{-1em}&\\hspace{-1em}\\phantom{\\cdot}&0\\phantom{.}&\\hspace{-1em}&\\hspace{-1em}\\phantom{\\cdot}&0\\phantom{.}&\\hspace{-1em}&\\hspace{-1em}\\phantom{\\cdot}\\\\\n",
       "0\\phantom{.}&\\hspace{-1em}&\\hspace{-1em}\\phantom{\\cdot}&1\\phantom{.}&\\hspace{-1em}&\\hspace{-1em}\\phantom{\\cdot}&0\\phantom{.}&\\hspace{-1em}&\\hspace{-1em}\\phantom{\\cdot}\\\\\n",
       "\\end{array}\\right)\n",
       "\\]"
      ],
      "text/plain": [
       "StateSpace(array([[-1.,  2.],\n",
       "       [ 1., -5.]]), array([[0.5],\n",
       "       [0. ]]), array([[1., 0.],\n",
       "       [0., 1.]]), array([[0.],\n",
       "       [0.]]))"
      ]
     },
     "execution_count": 120,
     "metadata": {},
     "output_type": "execute_result"
    }
   ],
   "source": [
    "state_space = ctlsb.makeStateSpace()\n",
    "state_space"
   ]
  },
  {
   "cell_type": "code",
   "execution_count": 122,
   "id": "13540a9d-ff7b-46b9-9a28-4ef6343ceb99",
   "metadata": {},
   "outputs": [
    {
     "data": {
      "text/plain": [
       "array([[30., 64.]])"
      ]
     },
     "execution_count": 122,
     "metadata": {},
     "output_type": "execute_result"
    }
   ],
   "source": [
    "control.place(state_space.A, state_space.B, [-10, -11])"
   ]
  },
  {
   "cell_type": "code",
   "execution_count": 102,
   "id": "58f69bcc-5735-418b-b8aa-71954f99c2fd",
   "metadata": {},
   "outputs": [],
   "source": [
    "# Create the closed loop system with a disturbance input.\n",
    "closed_loop = control.interconnect(\n",
    "  [system, controller ], \n",
    "  connections=[\n",
    "    ['controller.in1', 'system.S1'],    \n",
    "    ['controller.in2', 'system.S2'], \n",
    "    [\"system.S0\", \"controller.out\"],   \n",
    "  ],\n",
    "  inplist=[\"controller.ref\"],\n",
    "  outlist = [\"controller.out\", \"system.S1\", \"system.S2\"],\n",
    ")"
   ]
  },
  {
   "cell_type": "code",
   "execution_count": 151,
   "id": "f5c9c93c-1816-41ae-a570-312c12b88f14",
   "metadata": {},
   "outputs": [],
   "source": [
    "controller = makeFullStateFeedbackController(\"controller\", CTLSB, factor=1, poles=-0.1)\n",
    "# Create the closed loop system with a disturbance input.\n",
    "closed_loop = control.interconnect(\n",
    "  [system, controller ], \n",
    "  connections=[\n",
    "    ['controller.S1', 'system.S1'],    \n",
    "    ['controller.S2', 'system.S2'], \n",
    "    [\"system.S0\", \"controller.out\"],   \n",
    "  ],\n",
    "  inplist=[\"controller.ref\"],\n",
    "  outlist = [\"controller.out\", \"system.S1\", \"system.S2\"],\n",
    ")"
   ]
  },
  {
   "cell_type": "code",
   "execution_count": 155,
   "id": "b7f99dfe-00e9-44c3-ae8c-400261ca5908",
   "metadata": {},
   "outputs": [
    {
     "data": {
      "image/png": "[encoded data removed]",
      "text/plain": [
       "<Figure size 432x288 with 1 Axes>"
      ]
     },
     "metadata": {
      "needs_background": "light"
     },
     "output_type": "display_data"
    }
   ],
   "source": [
    "X0 = ctl.makeStateVector(closed_loop)\n",
    "times = ctl.makeSimulationTimes(end_time=10, points_per_time=10)\n",
    "result = control.input_output_response(closed_loop, T=times, U=40, X0=X0)\n",
    "plt.plot(result.t.flatten(), result.outputs[1].flatten())\n",
    "plt.plot(result.t.flatten(), result.outputs[2].flatten())\n",
    "_ = plt.legend([\"S1\", \"S2\"])"
   ]
  },
  {
   "cell_type": "code",
   "execution_count": 156,
   "id": "b7ceb6eb-44aa-4cc5-b25a-b7396a94faad",
   "metadata": {},
   "outputs": [
    {
     "data": {
      "text/plain": [
       "array([ 0.00000000e+00, -4.44087789e-09, -9.99999956e-02])"
      ]
     },
     "execution_count": 156,
     "metadata": {},
     "output_type": "execute_result"
    }
   ],
   "source": [
    "closed_loop.linearize(X0, 5).pole()"
   ]
  }
 ],
 "metadata": {
  "kernelspec": {
   "display_name": "Python 3",
   "language": "python",
   "name": "python3"
  },
  "language_info": {
   "codemirror_mode": {
    "name": "ipython",
    "version": 3
   },
   "file_extension": ".py",
   "mimetype": "text/x-python",
   "name": "python",
   "nbconvert_exporter": "python",
   "pygments_lexer": "ipython3",
   "version": "3.6.9"
  }
 },
 "nbformat": 4,
 "nbformat_minor": 5
}
