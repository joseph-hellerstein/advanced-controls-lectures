{
 "cells": [
  {
   "cell_type": "markdown",
   "id": "b1229fec-e965-4858-b3e7-cf67e8645060",
   "metadata": {
    "id": "b1229fec-e965-4858-b3e7-cf67e8645060"
   },
   "source": [
    "# Workflow for Designing Closed Loop Systems"
   ]
  },
  {
   "cell_type": "markdown",
   "id": "f4fc88d3-d871-480c-a1b3-9ea13f0f693b",
   "metadata": {
    "id": "f4fc88d3-d871-480c-a1b3-9ea13f0f693b"
   },
   "source": [
    "This notebook explores the construction of closed loop systems for SBML models to elucidate the workflow."
   ]
  },
  {
   "cell_type": "markdown",
   "id": "8f26e0f9-6487-4d0f-bcd4-f698d189b78f",
   "metadata": {
    "id": "8f26e0f9-6487-4d0f-bcd4-f698d189b78f"
   },
   "source": [
    "State Feedback Architecture (without disturbance and noise)"
   ]
  },
  {
   "cell_type": "markdown",
   "id": "858620d8-c7e5-4e6c-9eca-3d5e38de001e",
   "metadata": {
    "id": "858620d8-c7e5-4e6c-9eca-3d5e38de001e"
   },
   "source": [
    "<img src=\"https://github.com/joseph-hellerstein/advanced-controls-lectures/blob/main/Lecture_24-Testbed-for-Full-State-Feedback/Full-State-Feedback.png?raw=true\"\n",
    "alt=\"Markdown Monster icon\"\n",
    "width=500pt\n",
    "style=\"float: left; margin-right: 10px;\" />"
   ]
  },
  {
   "cell_type": "markdown",
   "id": "1d364ff2-fbd9-4dfc-bce8-d070b1d57418",
   "metadata": {
    "id": "1d364ff2-fbd9-4dfc-bce8-d070b1d57418"
   },
   "source": [
    "This notebook describes how to build state feedback."
   ]
  },
  {
   "cell_type": "markdown",
   "id": "ea1ef56b-9c3d-4fbe-8202-151b8979a57b",
   "metadata": {
    "id": "ea1ef56b-9c3d-4fbe-8202-151b8979a57b"
   },
   "source": [
    "# Preliminaries"
   ]
  },
  {
   "cell_type": "markdown",
   "id": "0a875865-25e8-4820-9dba-c97d800cdd52",
   "metadata": {
    "id": "0a875865-25e8-4820-9dba-c97d800cdd52"
   },
   "source": [
    "## Imports"
   ]
  },
  {
   "cell_type": "code",
   "execution_count": 1,
   "id": "f16d0f7a-d0c5-4f37-aa29-feed6d82a363",
   "metadata": {
    "colab": {
     "base_uri": "https://localhost:8080/"
    },
    "executionInfo": {
     "elapsed": 54924,
     "status": "ok",
     "timestamp": 1653074955324,
     "user": {
      "displayName": "Joseph Hellerstein",
      "userId": "07301174361489660166"
     },
     "user_tz": 420
    },
    "id": "f16d0f7a-d0c5-4f37-aa29-feed6d82a363",
    "outputId": "dc7bac8e-f77e-44e3-cfc8-1dfa73817d24"
   },
   "outputs": [],
   "source": [
    "!pip install -q control\n",
    "!pip install -q tellurium\n",
    "!pip install -q controlSBML\n",
    "\n",
    "import control\n",
    "import controlSBML as ctl\n",
    "import numpy as np\n",
    "import pandas as pd\n",
    "import matplotlib.pyplot as plt\n",
    "import tellurium as te"
   ]
  },
  {
   "cell_type": "markdown",
   "id": "580e6f30-c06c-4c4f-9d0f-a4452503a125",
   "metadata": {
    "id": "580e6f30-c06c-4c4f-9d0f-a4452503a125"
   },
   "source": [
    "## Constants"
   ]
  },
  {
   "cell_type": "code",
   "execution_count": 2,
   "id": "0e08f473-49e8-4878-bc53-289472bb71fb",
   "metadata": {
    "executionInfo": {
     "elapsed": 5,
     "status": "ok",
     "timestamp": 1653074955325,
     "user": {
      "displayName": "Joseph Hellerstein",
      "userId": "07301174361489660166"
     },
     "user_tz": 420
    },
    "id": "0e08f473-49e8-4878-bc53-289472bb71fb"
   },
   "outputs": [],
   "source": [
    "TIMES = ctl.makeSimulationTimes(0, 5, 500)\n",
    "SYSTEM = \"system\"\n",
    "CONTROLLER = \"controller\"\n",
    "CONTROLLER_IN = \"controller.in\"\n",
    "CONTROLLER_REF = \"controller.ref\"\n",
    "CONTROLLER_OUT = \"controller.out\"\n",
    "SIGNAL_SUM = \"signal_sum\"\n",
    "SIGNAL_SUM_IN1 = \"signal_sum.in1\"\n",
    "SIGNAL_SUM_IN2 = \"signal_sum.in2\"\n",
    "SIGNAL_SUM_OUT = \"signal_sum.out\""
   ]
  },
  {
   "cell_type": "code",
   "execution_count": 3,
   "id": "f82dbbf6-cc9a-4a44-a6e8-ed1cf31bbed5",
   "metadata": {},
   "outputs": [],
   "source": [
    "BIOMD823 = \"https://www.ebi.ac.uk/biomodels/model/download/BIOMD0000000823.2?filename=Varusai2018.xml\"\n",
    "BIOMD206 = \"https://www.ebi.ac.uk/biomodels/model/download/BIOMD0000000206.2?filename=BIOMD0000000206_url.xml\""
   ]
  },
  {
   "cell_type": "markdown",
   "id": "70e30499-61c6-4d14-9755-16e1ab66ba6d",
   "metadata": {
    "id": "70e30499-61c6-4d14-9755-16e1ab66ba6d"
   },
   "source": [
    "# Antimony Model"
   ]
  },
  {
   "cell_type": "code",
   "execution_count": 4,
   "id": "6a3986ee-9469-476c-8306-5eab2d8a9d94",
   "metadata": {
    "colab": {
     "base_uri": "https://localhost:8080/",
     "height": 265
    },
    "executionInfo": {
     "elapsed": 476,
     "status": "ok",
     "timestamp": 1653078279062,
     "user": {
      "displayName": "Joseph Hellerstein",
      "userId": "07301174361489660166"
     },
     "user_tz": 420
    },
    "id": "6a3986ee-9469-476c-8306-5eab2d8a9d94",
    "outputId": "e19e3437-1e59-4d86-d2ca-9c5db6991688"
   },
   "outputs": [
    {
     "data": {
      "image/png": "[encoded data removed]",
      "text/plain": [
       "<Figure size 432x288 with 1 Axes>"
      ]
     },
     "metadata": {},
     "output_type": "display_data"
    }
   ],
   "source": [
    "ANT_MODEL = \"\"\"\n",
    "S0 -> S1; k0*S0\n",
    "S1 -> S2; k1*S1\n",
    "S2 -> S1; k2*S2\n",
    "S2 -> ; k3*S2\n",
    "\n",
    "S0 = 0\n",
    "S1 = 0\n",
    "S2 = 0\n",
    "S3 = 0\n",
    "k0 = 0.5\n",
    "k1 = 1\n",
    "k2 = 2\n",
    "k3 = 3\n",
    "\"\"\"\n",
    "rr = te.loada(ANT_MODEL)\n",
    "rr[\"S0\"] = 1\n",
    "rr.simulate()\n",
    "rr.plot()"
   ]
  },
  {
   "cell_type": "markdown",
   "id": "e18556f1-b8a5-4951-976f-48c3511562f6",
   "metadata": {
    "id": "e18556f1-b8a5-4951-976f-48c3511562f6"
   },
   "source": [
    "# Model of Glycoytic Oscillations (BioModels 206)"
   ]
  },
  {
   "cell_type": "markdown",
   "id": "8bb6e72e-3a4b-495f-8833-f98173dd0c35",
   "metadata": {
    "id": "8bb6e72e-3a4b-495f-8833-f98173dd0c35"
   },
   "source": [
    "**Reactions in Glycolytic Oscillations**\n",
    "\n",
    "``at`` is ``ATP``; ``s5`` is ``pyruvate``.\n",
    "\n",
    "    v1: s1 + 2 at_ -> s2; compartment_*k1*s1*at_/(1 + (at_/ki)^n);\n",
    "    v2: s2 -> 2 s3; compartment_*k2*s2;\n",
    "    v3: s3 + na -> s4 + at_;compartment_*((k31*k32*s3*na*(atot - at_) \n",
    "        - k33*k34*s4*at_*(ntot - na))/(k33*(ntot - na) + k32*(atot - at_)));\n",
    "    v4: s4 -> s5 + at_; compartment_*k4*s4*(atot - at_);\n",
    "    v5: s5 -> s6; compartment_*k5*s5;\n",
    "    v7: at_ -> ; compartment_*k7*at_;\n",
    "    v8: s3 -> na; compartment_*k8*s3*(ntot - na);\n",
    "    v9: s6o -> ; compartment_*k9*s6o;\n",
    "    v10: s6 -> 0.1 s6o; compartment_*k10*(s6 - s6o);\n",
    "    v6: s6 -> na; compartment_*k6*s6*(ntot - na);\n",
    "    v0:  -> s1; compartment_*k0;"
   ]
  },
  {
   "cell_type": "code",
   "execution_count": 5,
   "id": "b920f3de-956e-4eb3-af6b-4ac699b1311f",
   "metadata": {
    "colab": {
     "base_uri": "https://localhost:8080/",
     "height": 334
    },
    "executionInfo": {
     "elapsed": 1293,
     "status": "ok",
     "timestamp": 1653074956963,
     "user": {
      "displayName": "Joseph Hellerstein",
      "userId": "07301174361489660166"
     },
     "user_tz": 420
    },
    "id": "b920f3de-956e-4eb3-af6b-4ac699b1311f",
    "outputId": "2efe3729-5469-473c-8053-fd42fcd55263",
    "tags": []
   },
   "outputs": [
    {
     "data": {
      "image/png": "[encoded data removed]",
      "text/plain": [
       "<Figure size 360x360 with 1 Axes>"
      ]
     },
     "metadata": {
      "needs_background": "light"
     },
     "output_type": "display_data"
    }
   ],
   "source": [
    "ctlsb = ctl.ControlSBML(BIOMD206)\n",
    "ctlsb.plotTrueModel(figsize=(5,5))"
   ]
  },
  {
   "cell_type": "markdown",
   "id": "d8f0085a-bb1e-4325-b4a8-e6017059f28e",
   "metadata": {
    "id": "d8f0085a-bb1e-4325-b4a8-e6017059f28e"
   },
   "source": [
    "## Controller Factory"
   ]
  },
  {
   "cell_type": "code",
   "execution_count": 6,
   "id": "b292ec76-427e-4b97-a055-b13e6c2a9f41",
   "metadata": {
    "colab": {
     "base_uri": "https://localhost:8080/"
    },
    "executionInfo": {
     "elapsed": 167,
     "status": "ok",
     "timestamp": 1653077865425,
     "user": {
      "displayName": "Joseph Hellerstein",
      "userId": "07301174361489660166"
     },
     "user_tz": 420
    },
    "id": "b292ec76-427e-4b97-a055-b13e6c2a9f41",
    "outputId": "0ce806e7-563c-457c-caeb-a09b2fd7424c"
   },
   "outputs": [
    {
     "name": "stdout",
     "output_type": "stream",
     "text": [
      "OK!\n"
     ]
    }
   ],
   "source": [
    "def makeController(name, kp=2):\n",
    "    \"\"\"\n",
    "    Creates a proportional controller as a NonlinearIOSystem with input \"in\" and output \"out\".\n",
    "    \n",
    "    Parameters\n",
    "    ----------\n",
    "    name: str\n",
    "        Name of the system\n",
    "    kp: float\n",
    "    \n",
    "    Returns\n",
    "    -------\n",
    "    control.NonlinearIOSystem\n",
    "    \"\"\"\n",
    "    def outfcn(_, __, u_vec, ___):\n",
    "        # u: float (error signal)\n",
    "        if not \"len\" in dir(u_vec):\n",
    "            u_vec = [u_vec]\n",
    "        return kp*(u_vec[0])\n",
    "    #\n",
    "    return control.NonlinearIOSystem(\n",
    "        None, outfcn, inputs=['in'], outputs=['out'],\n",
    "        name=name)\n",
    "\n",
    "# Tests\n",
    "kp = 2\n",
    "controller = makeController(\"controller\", kp=kp)\n",
    "times = [0, 1, 2, 3, 4]\n",
    "result = control.input_output_response(controller, T=times, U=times)\n",
    "trues = [r == kp*( t) for t, r in zip(result.t, result.outputs)]\n",
    "assert(all(trues))\n",
    "print(\"OK!\")"
   ]
  },
  {
   "cell_type": "markdown",
   "id": "f84d390f-c0c2-464f-82df-604cda2748ac",
   "metadata": {
    "id": "f84d390f-c0c2-464f-82df-604cda2748ac"
   },
   "source": [
    "## Testbed"
   ]
  },
  {
   "cell_type": "code",
   "execution_count": 7,
   "id": "6ee0b239-003e-44d7-9577-025d8c6886f0",
   "metadata": {
    "executionInfo": {
     "elapsed": 502,
     "status": "ok",
     "timestamp": 1653074957461,
     "user": {
      "displayName": "Joseph Hellerstein",
      "userId": "07301174361489660166"
     },
     "user_tz": 420
    },
    "id": "6ee0b239-003e-44d7-9577-025d8c6886f0"
   },
   "outputs": [],
   "source": [
    "# Elements of the system\n",
    "factory = ctl.IOSystemFactory()\n",
    "kp = 0.01\n",
    "input_name = \"at\"\n",
    "output_name = \"s5\"\n",
    "# Create the elements of the feedback loop\n",
    "ctlsb = ctl.ControlSBML(BIOMD206, input_names=[input_name], output_names=[output_name])\n",
    "system = ctlsb.makeNonlinearIOSystem(\"system\")\n",
    "controller = makeController(\"controller\", kp=kp)\n",
    "sum_R_S = factory.makeAdder(\"sum_R_S\")"
   ]
  },
  {
   "cell_type": "code",
   "execution_count": 8,
   "id": "818330ab-9b97-4c86-8c71-430cec05de8d",
   "metadata": {
    "executionInfo": {
     "elapsed": 4,
     "status": "ok",
     "timestamp": 1653074957462,
     "user": {
      "displayName": "Joseph Hellerstein",
      "userId": "07301174361489660166"
     },
     "user_tz": 420
    },
    "id": "818330ab-9b97-4c86-8c71-430cec05de8d"
   },
   "outputs": [],
   "source": [
    "# Create the closed loop system\n",
    "system_in = \"system.%s\" % input_name\n",
    "system_out = \"system.%s\" % output_name\n",
    "closed_loop = control.interconnect(\n",
    "  [sum_R_S, system, controller ], \n",
    "  connections=[\n",
    "    ['controller.in', 'sum_R_S.out'],    # e(t)\n",
    "    [system_in,   'controller.out'],   # u(t)\n",
    "    ['sum_R_S.in1', \"-\" + system_out],\n",
    "  ],\n",
    "  inplist=[\"sum_R_S.in2\"],\n",
    "  outlist=[\"sum_R_S.in2\", system_in, system_out],\n",
    ")"
   ]
  },
  {
   "cell_type": "markdown",
   "id": "4a608240-4ad9-45ba-96a3-a6186c62bade",
   "metadata": {
    "id": "4a608240-4ad9-45ba-96a3-a6186c62bade"
   },
   "source": [
    "## Simulation"
   ]
  },
  {
   "cell_type": "code",
   "execution_count": 9,
   "id": "012b2376-cb26-4881-8e62-a46a9628bca4",
   "metadata": {
    "colab": {
     "base_uri": "https://localhost:8080/",
     "height": 287
    },
    "executionInfo": {
     "elapsed": 34622,
     "status": "ok",
     "timestamp": 1653074992081,
     "user": {
      "displayName": "Joseph Hellerstein",
      "userId": "07301174361489660166"
     },
     "user_tz": 420
    },
    "id": "012b2376-cb26-4881-8e62-a46a9628bca4",
    "outputId": "9d8ad5f0-14e4-48db-a653-a73868dadae3"
   },
   "outputs": [
    {
     "data": {
      "text/plain": [
       "<matplotlib.legend.Legend at 0x7fe43e2f38d0>"
      ]
     },
     "execution_count": 9,
     "metadata": {},
     "output_type": "execute_result"
    },
    {
     "data": {
      "image/png": "[encoded data removed]",
      "text/plain": [
       "<Figure size 432x288 with 1 Axes>"
      ]
     },
     "metadata": {
      "needs_background": "light"
     },
     "output_type": "display_data"
    }
   ],
   "source": [
    "X0 = ctl.makeStateVector(closed_loop)\n",
    "times = ctl.makeSimulationTimes(0, 10, 10)\n",
    "# Need the initial state\n",
    "result = control.input_output_response(closed_loop, T=times, U=6, X0=X0)\n",
    "plt.plot(result.t, result.outputs[0].flatten())\n",
    "plt.plot(result.t, result.outputs[1].flatten())\n",
    "plt.plot(result.t, result.outputs[2].flatten())\n",
    "#plt.plot(result.t, result.outputs[3].flatten())\n",
    "plt.ylim([0, 10])\n",
    "legends = [\"input\", system_in, \"output\"]\n",
    "plt.legend(legends)"
   ]
  },
  {
   "cell_type": "markdown",
   "id": "ac0cb1f3-09d3-43b6-853b-6a9c45c8fed4",
   "metadata": {
    "id": "ac0cb1f3-09d3-43b6-853b-6a9c45c8fed4"
   },
   "source": [
    "# Scripting the Full State Controller"
   ]
  },
  {
   "cell_type": "markdown",
   "id": "50f9cfda-4056-4520-8db9-f534493bd1f7",
   "metadata": {
    "id": "50f9cfda-4056-4520-8db9-f534493bd1f7"
   },
   "source": [
    "<img src=\"https://github.com/joseph-hellerstein/advanced-controls-lectures/blob/main/Lecture_24-Testbed-for-Full-State-Feedback/Full-State-Feedback.png?raw=true\"\n",
    "alt=\"Markdown Monster icon\"\n",
    "width=500pt\n",
    "style=\"float: left; margin-right: 10px;\" />"
   ]
  },
  {
   "cell_type": "markdown",
   "id": "c8f8d5ef-256e-4f07-88ab-13a895486317",
   "metadata": {
    "id": "c8f8d5ef-256e-4f07-88ab-13a895486317"
   },
   "source": [
    "## Controller Interface"
   ]
  },
  {
   "cell_type": "markdown",
   "id": "53b60368-de85-4a68-9c17-2e87de02a997",
   "metadata": {
    "id": "53b60368-de85-4a68-9c17-2e87de02a997"
   },
   "source": [
    "* Inputs: $r(t)$, ${\\bf x}(t)$\n",
    "* Outputs: $u(t)$"
   ]
  },
  {
   "cell_type": "markdown",
   "id": "oUbEFphHHUnN",
   "metadata": {
    "id": "oUbEFphHHUnN"
   },
   "source": [
    "## Calculating ${\\bf k_P}$"
   ]
  },
  {
   "cell_type": "markdown",
   "id": "DeyklwluH0ib",
   "metadata": {
    "id": "DeyklwluH0ib"
   },
   "source": [
    "Given desired poles, $\\lambda_1, \\cdots, \\lambda_n$, find\n",
    "$[k_{p1}, \\cdots, k_{pn}] = {\\bf k_P}$"
   ]
  },
  {
   "cell_type": "code",
   "execution_count": 10,
   "id": "tbYY8E3BIwIj",
   "metadata": {
    "executionInfo": {
     "elapsed": 168,
     "status": "ok",
     "timestamp": 1653078287855,
     "user": {
      "displayName": "Joseph Hellerstein",
      "userId": "07301174361489660166"
     },
     "user_tz": 420
    },
    "id": "tbYY8E3BIwIj"
   },
   "outputs": [],
   "source": [
    "ctlsb = ctl.ControlSBML(ANT_MODEL, input_names=[\"S0\"], output_names=[\"S2\"])"
   ]
  },
  {
   "cell_type": "markdown",
   "id": "j6W3EHeaJ6W7",
   "metadata": {
    "id": "j6W3EHeaJ6W7"
   },
   "source": [
    " We want to use control.place(A, B, p) to place poles."
   ]
  },
  {
   "cell_type": "code",
   "execution_count": 11,
   "id": "jKvkm1_nJSHT",
   "metadata": {
    "colab": {
     "base_uri": "https://localhost:8080/"
    },
    "executionInfo": {
     "elapsed": 176,
     "status": "ok",
     "timestamp": 1653078505521,
     "user": {
      "displayName": "Joseph Hellerstein",
      "userId": "07301174361489660166"
     },
     "user_tz": 420
    },
    "id": "jKvkm1_nJSHT",
    "outputId": "2a3bfe54-aa57-4adb-fa79-cc7baaa8b15d"
   },
   "outputs": [
    {
     "data": {
      "text/plain": [
       "(array([[-1.,  2.],\n",
       "        [ 1., -5.]]),\n",
       " array([[0.5],\n",
       "        [0. ]]))"
      ]
     },
     "execution_count": 11,
     "metadata": {},
     "output_type": "execute_result"
    }
   ],
   "source": [
    "state_space = ctlsb.makeStateSpace()\n",
    "state_space.A, state_space.B"
   ]
  },
  {
   "cell_type": "code",
   "execution_count": 12,
   "id": "s2-rmay0KPmj",
   "metadata": {
    "colab": {
     "base_uri": "https://localhost:8080/"
    },
    "executionInfo": {
     "elapsed": 258,
     "status": "ok",
     "timestamp": 1653078600866,
     "user": {
      "displayName": "Joseph Hellerstein",
      "userId": "07301174361489660166"
     },
     "user_tz": 420
    },
    "id": "s2-rmay0KPmj",
    "outputId": "6eb897d4-18e5-4dd1-e124-346d4c10191c"
   },
   "outputs": [
    {
     "data": {
      "text/plain": [
       "array([[2., 8.]])"
      ]
     },
     "execution_count": 12,
     "metadata": {},
     "output_type": "execute_result"
    }
   ],
   "source": [
    "control.place(state_space.A, state_space.B, [-3, -4])"
   ]
  },
  {
   "cell_type": "markdown",
   "id": "EdNeyqOVLL-2",
   "metadata": {
    "id": "EdNeyqOVLL-2"
   },
   "source": [
    "Inputs to the controller factory\n",
    "* name\n",
    "* desired poles\n",
    "* ControlSBML object"
   ]
  },
  {
   "cell_type": "markdown",
   "id": "ab8f446e-d22a-4f97-a697-312dcdb2d269",
   "metadata": {
    "id": "ab8f446e-d22a-4f97-a697-312dcdb2d269"
   },
   "source": [
    "## Implementation"
   ]
  },
  {
   "cell_type": "code",
   "execution_count": 13,
   "id": "c1b3041f-3f48-4c0f-9c5c-ae80f09c03dc",
   "metadata": {},
   "outputs": [
    {
     "name": "stdout",
     "output_type": "stream",
     "text": [
      "// Created by libAntimony v2.12.0\n",
      "// Compartments and Species:\n",
      "species S0, S1, S2;\n",
      "\n",
      "// Reactions:\n",
      "_J0: S0 -> S1; k0*S0;\n",
      "_J1: S1 -> S2; k1*S1;\n",
      "_J2: S2 -> S1; k2*S2;\n",
      "_J3: S2 -> ; k3*S2;\n",
      "\n",
      "// Species initializations:\n",
      "S0 = 0;\n",
      "S1 = 0;\n",
      "S2 = 0;\n",
      "\n",
      "// Variable initializations:\n",
      "k0 = 0.5;\n",
      "k1 = 1;\n",
      "k2 = 2;\n",
      "k3 = 3;\n",
      "S3 = 0;\n",
      "\n",
      "// Other declarations:\n",
      "const k0, k1, k2, k3, S3;\n",
      "\n"
     ]
    }
   ],
   "source": [
    "print(ctlsb.antimony)"
   ]
  },
  {
   "cell_type": "code",
   "execution_count": 14,
   "id": "1ae0b279-8965-4508-99ee-032a858d96e3",
   "metadata": {
    "executionInfo": {
     "elapsed": 176,
     "status": "ok",
     "timestamp": 1653081980724,
     "user": {
      "displayName": "Joseph Hellerstein",
      "userId": "07301174361489660166"
     },
     "user_tz": 420
    },
    "id": "1ae0b279-8965-4508-99ee-032a858d96e3"
   },
   "outputs": [],
   "source": [
    "# Scripting the full state controller. Do in a generic way.\n",
    "#### INPUTS\n",
    "name = \"controller\"\n",
    "pole = -2 # Dominant pole\n",
    "ctlsb = ctl.ControlSBML(BIOMD823, input_names=[\"pAkt\"], output_names=[ \"DEPTOR\"])\n",
    "ctlsb = ctl.ControlSBML(BIOMD206, input_names=[\"at\"], output_names=[ \"s5\"])\n",
    "ctlsb = ctl.ControlSBML(ANT_MODEL, input_names=[\"S0\"], output_names=[ \"S2\"])\n",
    "#### BODY\n",
    "# Get the names of the internal states of the system\n",
    "states = [\"%s\" % n for n in ctlsb.state_names\n",
    "          if not n in ctlsb.input_names]\n",
    "num_state = len(states)\n",
    "state_space = ctlsb.makeStateSpace()\n",
    "poles = np.array([pole-0.1*n for n in range(num_state)])\n",
    "kP = control.place(state_space.A, state_space.B, poles)\n",
    "kP = np.reshape(kP, num_state)\n",
    "#\n",
    "def outfcn(time, _, u_vec, __):\n",
    "    # u_vec[0] - reference\n",
    "    # u_vec[1:] - system state\n",
    "    # kp: column vector\n",
    "    ref = u_vec[0]\n",
    "    arr = list(u_vec[1:])\n",
    "    arr = np.reshape(np.array(arr), num_state)\n",
    "    output = ref - arr.dot(kP)\n",
    "    return output\n",
    "# Construct the NonlinearIOSystem\n",
    "inputs = list(states)\n",
    "inputs.insert(0, \"ref\")\n",
    "controller = control.NonlinearIOSystem(\n",
    "    None, outfcn, inputs=inputs, outputs=['out'],\n",
    "    name=name)\n",
    "# Return\n",
    "#### RETURN controller"
   ]
  },
  {
   "cell_type": "code",
   "execution_count": 15,
   "id": "1081c075-e0ef-4cde-b830-db2f6962349b",
   "metadata": {},
   "outputs": [
    {
     "data": {
      "text/plain": [
       "2"
      ]
     },
     "execution_count": 15,
     "metadata": {},
     "output_type": "execute_result"
    }
   ],
   "source": [
    "np.linalg.matrix_rank(state_space.A)"
   ]
  },
  {
   "cell_type": "code",
   "execution_count": 16,
   "id": "c1ba6c41-7802-4a7a-a6af-41086a78dfea",
   "metadata": {},
   "outputs": [],
   "source": [
    "# Tests\n",
    "num_input = ctlsb.num_state  # Exclude input state; add 'ref'\n",
    "assert(controller.ninputs == num_input)\n",
    "# Can simulate\n",
    "U = np.repeat(1, num_input)\n",
    "U = np.reshape(U, (num_input, 1))\n",
    "result = control.input_output_response(controller, [1], U=U)\n",
    "assert(len(result.y.flatten()) == 1)"
   ]
  },
  {
   "cell_type": "markdown",
   "id": "876b0398-6ac1-4956-85a9-e7dd52a4c84a",
   "metadata": {
    "id": "876b0398-6ac1-4956-85a9-e7dd52a4c84a"
   },
   "source": [
    "# Factory for Full State Controller"
   ]
  },
  {
   "cell_type": "code",
   "execution_count": 17,
   "id": "lCFrMLNDVJms",
   "metadata": {
    "id": "lCFrMLNDVJms"
   },
   "outputs": [],
   "source": [
    "def makeFullStateController(name, pole, ctlsb, dcgain=1):\n",
    "    \"\"\"\n",
    "    Description:\n",
    "\n",
    "    Parameters\n",
    "    ----------\n",
    "    name: str\n",
    "        Name of the controller\n",
    "    pole: float\n",
    "        Dominant pole\n",
    "    ctlsb: ControlSBML\n",
    "\n",
    "    Returns\n",
    "    -------\n",
    "    control.NonlinearIOSystem\n",
    "    \"\"\"\n",
    "    # Get the names of the internal states of the system\n",
    "    states = [\"%s\" % n for n in ctlsb.state_names\n",
    "              if not n in ctlsb.input_names]\n",
    "    num_state = len(states)\n",
    "    state_space = ctlsb.makeStateSpace()\n",
    "    poles = np.array([pole-0.1*n for n in range(num_state)])\n",
    "    kP = control.place(state_space.A, state_space.B, poles)\n",
    "    kP = np.reshape(kP, num_state)\n",
    "    #\n",
    "    def outfcn(time, _, u_vec, __):\n",
    "        # u_vec[0] - reference\n",
    "        # u_vec[1:] - system state\n",
    "        # kp: column vector\n",
    "        ref = u_vec[0]\n",
    "        arr = list(u_vec[1:])\n",
    "        arr = np.reshape(np.array(arr), num_state)\n",
    "        output = ref/dcgain - arr.dot(kP)\n",
    "        return output\n",
    "    # Construct the NonlinearIOSystem\n",
    "    inputs = list(states)\n",
    "    inputs.insert(0, \"ref\")\n",
    "    controller = control.NonlinearIOSystem(\n",
    "        None, outfcn, inputs=inputs, outputs=['out'],\n",
    "        name=name)\n",
    "    #\n",
    "    return controller\n",
    "\n",
    "# Tests\n",
    "name = \"controller\"\n",
    "pole = -2 # Dominant pole\n",
    "#ctlsb = ctl.ControlSBML(BIOMD823, input_names=[\"pAkt\"], output_names=[ \"DEPTOR\"])\n",
    "#ctlsb = ctl.ControlSBML(BIOMD206, input_names=[\"at\"], output_names=[ \"s5\"])\n",
    "ctlsb = ctl.ControlSBML(ANT_MODEL, input_names=[\"S0\"], output_names=[ \"S2\"])\n",
    "controller = makeFullStateController(name, pole, ctlsb)\n",
    "#### BODY\n",
    "num_input = ctlsb.num_state  # Exclude input state; add 'ref'\n",
    "assert(controller.ninputs == num_input)\n",
    "# Can simulate\n",
    "U = np.repeat(1, num_input)\n",
    "U = np.reshape(U, (num_input, 1))\n",
    "result = control.input_output_response(controller, [1], U=U)\n",
    "assert(len(result.y.flatten()) == 1)"
   ]
  },
  {
   "cell_type": "markdown",
   "id": "bcd6e56f-f507-4bb7-945c-bbeae5476d2c",
   "metadata": {
    "id": "bcd6e56f-f507-4bb7-945c-bbeae5476d2c"
   },
   "source": [
    "# Testbed"
   ]
  },
  {
   "cell_type": "code",
   "execution_count": 18,
   "id": "D5H0fo--V_Du",
   "metadata": {
    "executionInfo": {
     "elapsed": 170,
     "status": "ok",
     "timestamp": 1653082151008,
     "user": {
      "displayName": "Joseph Hellerstein",
      "userId": "07301174361489660166"
     },
     "user_tz": 420
    },
    "id": "D5H0fo--V_Du"
   },
   "outputs": [
    {
     "data": {
      "text/plain": [
       "[<matplotlib.lines.Line2D at 0x7fe43e24f0b8>]"
      ]
     },
     "execution_count": 18,
     "metadata": {},
     "output_type": "execute_result"
    },
    {
     "data": {
      "image/png": "[encoded data removed]",
      "text/plain": [
       "<Figure size 432x288 with 1 Axes>"
      ]
     },
     "metadata": {
      "needs_background": "light"
     },
     "output_type": "display_data"
    }
   ],
   "source": [
    "#### INPUTS\n",
    "input_name = \"S0\"\n",
    "output_name = \"S2\"\n",
    "pole = -2\n",
    "ref = 1\n",
    "model = ANT_MODEL\n",
    "#### BODY\n",
    "# Find the list of states within the system under control & and contruct system to control\n",
    "ctlsb = ctl.ControlSBML(model, input_names=[input_name], output_names=[output_name])\n",
    "state_names = [\"%s\" % n for n in ctlsb.state_names\n",
    "            if not n in ctlsb.input_names]\n",
    "ctlsb = ctl.ControlSBML(model, input_names=[input_name], output_names=state_names)\n",
    "# Create the components of the closed loop system\n",
    "system = ctlsb.makeNonlinearIOSystem(\"system\")\n",
    "system_in = \"system.%s\" % input_name\n",
    "controller = makeFullStateController(\"controller\", pole, ctlsb)\n",
    "# Create the connections\n",
    "connections = []\n",
    "for name in state_names:\n",
    "    new_connection = [\"controller.\" + name, \"system.\" + name]\n",
    "    connections.append(new_connection)\n",
    "connections.append([system_in,   'controller.out'])\n",
    "# Construct the closed loop system\n",
    "cl_out = \"system.%s\" % output_name\n",
    "cl_in = \"controller.ref\"\n",
    "closed_loop = control.interconnect(\n",
    "  [system, controller ], \n",
    "  connections=connections,\n",
    "  inplist=[cl_in],\n",
    "  outlist=[ cl_out]\n",
    ")\n",
    "# Simulate and plot\n",
    "times = ctl.makeSimulationTimes(end_time=10)\n",
    "X0 = ctl.makeStateVector(closed_loop)\n",
    "result = control.input_output_response(closed_loop, times, U=ref, X0=X0)\n",
    "plt.plot([times[0], times[-1]], [ref, ref])\n",
    "plt.plot(times, result.y[0])"
   ]
  },
  {
   "cell_type": "markdown",
   "id": "60ecd579-f84c-4ab5-9bf5-5490f586b32f",
   "metadata": {},
   "source": [
    "# Adjusting for DC Gain"
   ]
  },
  {
   "cell_type": "code",
   "execution_count": 19,
   "id": "78cfaa51-6672-4e19-bdf6-a3a619093082",
   "metadata": {},
   "outputs": [
    {
     "data": {
      "text/latex": [
       "$$\\frac{0.5}{s^2 + 4.1 s + 4.2}$$"
      ],
      "text/plain": [
       "TransferFunction(array([0.5]), array([1. , 4.1, 4.2]))"
      ]
     },
     "execution_count": 19,
     "metadata": {},
     "output_type": "execute_result"
    }
   ],
   "source": [
    "cl_state_space = closed_loop.linearize(X0, 1)\n",
    "tf = control.ss2tf(cl_state_space)\n",
    "#tf = control.TransferFunction(tf_vec.num[1][0], tf_vec.den[1][0])\n",
    "tf"
   ]
  },
  {
   "cell_type": "code",
   "execution_count": 20,
   "id": "5151f310-4034-4e1d-8a1e-6a0695d2c97f",
   "metadata": {},
   "outputs": [
    {
     "data": {
      "text/plain": [
       "0.1190476190344021"
      ]
     },
     "execution_count": 20,
     "metadata": {},
     "output_type": "execute_result"
    }
   ],
   "source": [
    "tf.dcgain()"
   ]
  },
  {
   "cell_type": "markdown",
   "id": "0be33e9b-545c-4b7a-8a47-ac53a8397c71",
   "metadata": {},
   "source": [
    "# Evaluation Environment"
   ]
  },
  {
   "cell_type": "code",
   "execution_count": 21,
   "id": "1d7db56e-2a58-4908-ab00-b2869f0f5eee",
   "metadata": {},
   "outputs": [],
   "source": [
    "def evaluateFullStateController(model, input_name, output_name, pole=-2, ref=1, end_time=10):\n",
    "    \"\"\"\n",
    "    Evaluates full state control for the model for the specified dominant pole. Evaluates w.r.t. to the ref input.\n",
    "    \n",
    "    Parameters\n",
    "    ----------\n",
    "    model: str\n",
    "    input_name: str\n",
    "    output_name: str\n",
    "    pole: float\n",
    "    end_time: float\n",
    "    \"\"\""
   ]
  }
 ],
 "metadata": {
  "colab": {
   "collapsed_sections": [],
   "name": "Testbed-for-Full-State-Feedback.ipynb",
   "provenance": [],
   "toc_visible": true
  },
  "kernelspec": {
   "display_name": "Python 3",
   "language": "python",
   "name": "python3"
  },
  "language_info": {
   "codemirror_mode": {
    "name": "ipython",
    "version": 3
   },
   "file_extension": ".py",
   "mimetype": "text/x-python",
   "name": "python",
   "nbconvert_exporter": "python",
   "pygments_lexer": "ipython3",
   "version": "3.6.9"
  }
 },
 "nbformat": 4,
 "nbformat_minor": 5
}
