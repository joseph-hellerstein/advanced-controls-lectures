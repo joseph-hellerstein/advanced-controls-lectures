{
  "cells": [
    {
      "cell_type": "markdown",
      "id": "2e208ddd-3ab6-46c3-9e3e-1a345794bbed",
      "metadata": {
        "id": "2e208ddd-3ab6-46c3-9e3e-1a345794bbed"
      },
      "source": [
        "# HOMEWORK 3: Designing Closed Loop Systems"
      ]
    },
    {
      "cell_type": "markdown",
      "id": "d6cd1e15-d4d0-4862-a589-398db5b4e22c",
      "metadata": {
        "id": "d6cd1e15-d4d0-4862-a589-398db5b4e22c"
      },
      "source": [
        "This homework involves designing a closed loop system with a PID controller."
      ]
    },
    {
      "cell_type": "markdown",
      "source": [
        "## Preliminaries"
      ],
      "metadata": {
        "id": "Fnq3xm8GA2Nh"
      },
      "id": "Fnq3xm8GA2Nh"
    },
    {
      "cell_type": "code",
      "execution_count": 1,
      "id": "f5e6f6d2-ff33-497c-aa36-057651b3c58e",
      "metadata": {
        "colab": {
          "base_uri": "https://localhost:8080/"
        },
        "id": "f5e6f6d2-ff33-497c-aa36-057651b3c58e",
        "outputId": "e4ed9029-40a5-46c7-c007-bce6d13d7f6c"
      },
      "outputs": [
        {
          "output_type": "stream",
          "name": "stdout",
          "text": [
            "\u001b[K     |████████████████████████████████| 357 kB 36.1 MB/s \n",
            "\u001b[K     |████████████████████████████████| 8.8 MB 58.6 MB/s \n",
            "\u001b[K     |████████████████████████████████| 154 kB 65.6 MB/s \n",
            "\u001b[K     |████████████████████████████████| 438 kB 62.3 MB/s \n",
            "\u001b[K     |████████████████████████████████| 6.8 MB 44.1 MB/s \n",
            "\u001b[K     |████████████████████████████████| 121 kB 65.3 MB/s \n",
            "\u001b[K     |████████████████████████████████| 342 kB 84.7 MB/s \n",
            "\u001b[K     |████████████████████████████████| 428 kB 86.0 MB/s \n",
            "\u001b[K     |████████████████████████████████| 54 kB 3.3 MB/s \n",
            "\u001b[K     |████████████████████████████████| 561 kB 82.0 MB/s \n",
            "\u001b[K     |████████████████████████████████| 54 kB 2.8 MB/s \n",
            "\u001b[K     |████████████████████████████████| 130 kB 87.0 MB/s \n",
            "\u001b[K     |████████████████████████████████| 80 kB 10.6 MB/s \n",
            "\u001b[K     |████████████████████████████████| 133 kB 79.2 MB/s \n",
            "\u001b[K     |████████████████████████████████| 103 kB 80.2 MB/s \n",
            "\u001b[K     |████████████████████████████████| 250 kB 84.3 MB/s \n",
            "\u001b[K     |████████████████████████████████| 57 kB 5.9 MB/s \n",
            "\u001b[K     |████████████████████████████████| 843 kB 54.3 MB/s \n",
            "\u001b[K     |████████████████████████████████| 2.6 MB 44.4 MB/s \n",
            "\u001b[K     |████████████████████████████████| 5.6 MB 41.6 MB/s \n",
            "\u001b[K     |████████████████████████████████| 38.1 MB 1.3 MB/s \n",
            "\u001b[K     |████████████████████████████████| 3.3 MB 55.9 MB/s \n",
            "\u001b[K     |████████████████████████████████| 5.0 MB 68.0 MB/s \n",
            "\u001b[K     |████████████████████████████████| 36.7 MB 27 kB/s \n",
            "\u001b[K     |████████████████████████████████| 54.8 MB 1.1 MB/s \n",
            "\u001b[K     |████████████████████████████████| 2.1 MB 41.5 MB/s \n",
            "\u001b[K     |████████████████████████████████| 3.2 MB 61.7 MB/s \n",
            "\u001b[?25h  Building wheel for controlSBML (setup.py) ... \u001b[?25l\u001b[?25hdone\n",
            "  Building wheel for control (setup.py) ... \u001b[?25l\u001b[?25hdone\n",
            "  Building wheel for docstring-expander (setup.py) ... \u001b[?25l\u001b[?25hdone\n",
            "  Building wheel for json5 (setup.py) ... \u001b[?25l\u001b[?25hdone\n",
            "  Building wheel for symmathSBML (setup.py) ... \u001b[?25l\u001b[?25hdone\n",
            "\u001b[31mERROR: pip's dependency resolver does not currently take into account all the packages that are installed. This behaviour is the source of the following dependency conflicts.\n",
            "google-colab 1.0.0 requires tornado~=5.1.0; python_version >= \"3.0\", but you have tornado 6.1 which is incompatible.\n",
            "flask 1.1.4 requires Jinja2<3.0,>=2.10.1, but you have jinja2 3.1.2 which is incompatible.\n",
            "datascience 0.10.6 requires folium==0.2.1, but you have folium 0.8.3 which is incompatible.\n",
            "albumentations 0.1.12 requires imgaug<0.2.7,>=0.2.5, but you have imgaug 0.2.9 which is incompatible.\u001b[0m\n",
            "controlSBML version: 0.2.15\n"
          ]
        }
      ],
      "source": [
        "!pip -q install controlSBML\n",
        "import controlSBML as ctl\n",
        "import control\n",
        "from controlSBML.util import makeSimulationTimes\n",
        "import pandas as pd\n",
        "import matplotlib.pyplot as plt\n",
        "import numpy as np\n",
        "import sympy as sy\n",
        "import tellurium as te\n",
        "import sympy\n",
        "print(\"controlSBML version: \" + ctl.__version__)"
      ]
    },
    {
      "cell_type": "markdown",
      "source": [
        "## BIOMD823"
      ],
      "metadata": {
        "id": "cRmHEi0uA6tx"
      },
      "id": "cRmHEi0uA6tx"
    },
    {
      "cell_type": "code",
      "execution_count": 2,
      "id": "dfca58e4-0d60-499c-9a4f-b442fd4fe416",
      "metadata": {
        "id": "dfca58e4-0d60-499c-9a4f-b442fd4fe416"
      },
      "outputs": [],
      "source": [
        "# Use the local file if it's available\n",
        "BIOMD823 = \"https://www.ebi.ac.uk/biomodels/model/download/BIOMD0000000823.2?filename=Varusai2018.xml\""
      ]
    },
    {
      "cell_type": "markdown",
      "id": "89bbcc67-c671-48c0-a73d-b6a51859b63e",
      "metadata": {
        "id": "89bbcc67-c671-48c0-a73d-b6a51859b63e"
      },
      "source": [
        "<img src=\"https://github.com/joseph-hellerstein/advanced-controls-lectures/blob/main/Lecture_13_14-Closed-Loop-Systems/Closed-Loop-System.png?raw=true\"\n",
        "     alt=\"Markdown Monster icon\" width=600pt\n",
        "     style=\"float: left; margin-right: 10px;\" />"
      ]
    },
    {
      "cell_type": "markdown",
      "id": "8d03b934-6201-439b-b9e1-f38812f2a55c",
      "metadata": {
        "id": "8d03b934-6201-439b-b9e1-f38812f2a55c"
      },
      "source": [
        "**Transfer Functions**\n",
        "\\begin{eqnarray}\n",
        "H_{RY}(s) & = & \\frac{Y(s)}{R(s)} & = & \\frac{C(s) G(s)}{1 + C(s) G(s) F(s)} \\\\\n",
        "H_{RE}(s) & = & \\frac{E(s)}{R(s)} & = & \\frac{1}{1 + C(s) G(s) F(s)} \\\\\n",
        "H_{NY}(s) & = & \\frac{Y(s)}{N(s)} & = & -\\frac{ F(s)}{1 + C(s) G(s) F(s)} \\\\\n",
        "H_{DY}(s) & = & \\frac{Y(s)}{D(s)} & = & \\frac{ C(s)}{1 + C(s) G(s) F(s)} \\\\\n",
        "\\end{eqnarray}"
      ]
    },
    {
      "cell_type": "markdown",
      "id": "b1848446-7741-4067-959d-aa37b577d8cc",
      "metadata": {
        "id": "b1848446-7741-4067-959d-aa37b577d8cc"
      },
      "source": [
        "In this homework, you will design a closed loop system for controlling pDEPTOR in the mTOR system as modelled in BioModels 823.\n",
        "Use pAkt as the control input.\n",
        "1. **Build**. (4 pt) Implement the function ``evaluateDesign`` that evaluates the control design of\n",
        "a closed loop system for mTOR.\n",
        "The evaluation is in the form of a plot of the step response of the system\n",
        "to a change in the reference input.\n",
        "The plot should include the reference input along with the pAkt and pDEPTO\n",
        "values for the closed loop mTOR system. The function has as inputs the design parameters kp, ki, kd.\n",
        "1. **Design**. (2 pt) Use ``evaluateDesign`` to design a system that has no bias for a unit step response in the reference and settles within 10 seconds.\n",
        "1. **Analysis**. (3 pt) Construct the transfer function\n",
        "for mTOR from pAkt to pDEPTOR\n",
        "and the transfer function $H_{NY} (s)$ for the design parameters you used in (2)\n",
        "(Obtain the Jacobian at time 1 from the open loop mTOR system.)\n",
        "Use these transfer functions to answer the following questions about how the closed loop system should behave *in theory*.\n",
        "   1. Why are large control inputs required to control the mTOR system?\n",
        "   1. Why are there no long term oscillations in the closed loop system?\n",
        "   1. How will a step increase in noise affect the output of the closed loop system?\n",
        "1. **Discussion**. (1 pt) Plot the values of pAkt for the closed loop system you designed in (2).\n",
        "What issues do you see with using this closed loop system in practice?"
      ]
    },
    {
      "cell_type": "code",
      "source": [
        "ctlsb = ctl.ControlSBML(BIOMD823)\n",
        "ctlsb.plotTrueModel(figsize=(5,5))"
      ],
      "metadata": {
        "colab": {
          "base_uri": "https://localhost:8080/",
          "height": 338
        },
        "id": "YISrNa_c6tsS",
        "outputId": "2ac55938-ce56-41d7-db9e-100d0276c60a"
      },
      "id": "YISrNa_c6tsS",
      "execution_count": 3,
      "outputs": [
        {
          "output_type": "display_data",
          "data": {
            "text/plain": [
              "<Figure size 360x360 with 1 Axes>"
            ],
            "image/png": "[encoded data removed]"
          },
          "metadata": {
            "needs_background": "light"
          }
        }
      ]
    },
    {
      "cell_type": "code",
      "source": [
        "TIMES = ctl.makeSimulationTimes(0, 25, 500)"
      ],
      "metadata": {
        "id": "IG8xo0hx6pEN"
      },
      "id": "IG8xo0hx6pEN",
      "execution_count": 31,
      "outputs": []
    },
    {
      "cell_type": "code",
      "source": [
        "(ctlsb.state_names)"
      ],
      "metadata": {
        "colab": {
          "base_uri": "https://localhost:8080/"
        },
        "id": "BpaYZA93Vh0S",
        "outputId": "2523f7c5-f3a8-4c77-81a6-1e4a92494a5b"
      },
      "id": "BpaYZA93Vh0S",
      "execution_count": 5,
      "outputs": [
        {
          "output_type": "execute_result",
          "data": {
            "text/plain": [
              "['IR',\n",
              " 'pIR',\n",
              " 'IRS',\n",
              " 'pIRS',\n",
              " 'iIRS',\n",
              " 'Akt',\n",
              " 'pAkt',\n",
              " 'mTORC1',\n",
              " 'pmTORC1',\n",
              " 'mTORC2',\n",
              " 'pmTORC2',\n",
              " 'imTORC2',\n",
              " 'mTORC1_DEPTOR',\n",
              " 'mTORC2_DEPTOR',\n",
              " 'DEPTOR',\n",
              " 'pDEPTOR']"
            ]
          },
          "metadata": {},
          "execution_count": 5
        }
      ]
    },
    {
      "cell_type": "markdown",
      "source": [
        "# Helpers"
      ],
      "metadata": {
        "id": "S6p6A8RD78zo"
      },
      "id": "S6p6A8RD78zo"
    },
    {
      "cell_type": "code",
      "source": [
        "def plotTFs(Gs, kp=0, ki=0, kd=0, times=TIMES, ylim=None, title=None, is_plot=True):\n",
        "    \"\"\"\n",
        "    Constructs the transfer functions for the proportional controller, and filter.\n",
        "    Calculates the transfer functions HRYs, HREs, HNYs, HDYs and plots them.\n",
        "    \n",
        "    Parameters\n",
        "    ----------\n",
        "    Gs: control.TransferFunction\n",
        "    kp: float\n",
        "    ki: float\n",
        "    kd: float\n",
        "    times: list-float\n",
        "    ylim: (float, float)\n",
        "        limits of y-values\n",
        "    title: str\n",
        "    \n",
        "    Returns\n",
        "    -------\n",
        "    dct\n",
        "        key: name of transfer function\n",
        "        value: control.TransferFunction\n",
        "    \"\"\"\n",
        "    Cs = control.TransferFunction([kp], [1]) + control.TransferFunction([ki], [1, 0])  \\\n",
        "        + control.TransferFunction([kd, 0], [1])\n",
        "    Fs = 1\n",
        "    denom = 1 + Cs*Gs*Fs\n",
        "    # Construct the transfer functions\n",
        "    tf_dct = {\n",
        "        \"HRYs\": Cs*Gs/denom,\n",
        "        \"HREs\": 1/denom,\n",
        "        \"HNYs\": -Fs/denom,\n",
        "        \"HDYs\": Cs/denom,\n",
        "    }\n",
        "    # Construct the plots\n",
        "    _, ax = plt.subplots(1)\n",
        "    for tf in tf_dct.values():\n",
        "        result = control.forced_response(tf, T=times, U=1)\n",
        "        plt.plot(result.t.flatten(), result.y.flatten())\n",
        "    # Refine plots\n",
        "    plt.legend(list(tf_dct.keys()))\n",
        "    xmax = max(result.t.flatten())\n",
        "    plt.plot([0, xmax], [0, 0], linestyle=\"--\", color=\"black\")\n",
        "    plt.plot([0, xmax], [1, 1], linestyle=\"--\", color=\"grey\")\n",
        "    plt.ylim([-5, 5])\n",
        "    title = \"kp=%2.2f ki=%2.2f kd=%2.2f\" % (kp, ki, kd)\n",
        "    plt.title(title)\n",
        "    if not is_plot:\n",
        "        plt.close()\n",
        "    return tf_dct\n",
        "    \n",
        "# Tests\n",
        "Gs = control.TransferFunction([2], [1, 3])\n",
        "dct = plotTFs(Gs, kp=10, ylim=[0, 3], title=\"Example\", is_plot=False)\n",
        "assert(len(dct) == 4)\n",
        "assert(\"TransferFunction\" in str(type(dct[\"HRYs\"])))\n",
        "print(\"OK!\")"
      ],
      "metadata": {
        "colab": {
          "base_uri": "https://localhost:8080/"
        },
        "id": "uihyuEY06db3",
        "outputId": "c5dd39be-8506-450d-f786-82bfe740e4e5"
      },
      "id": "uihyuEY06db3",
      "execution_count": 6,
      "outputs": [
        {
          "output_type": "stream",
          "name": "stdout",
          "text": [
            "OK!\n"
          ]
        }
      ]
    },
    {
      "cell_type": "code",
      "source": [
        "def makeHRY(model, tf, input_name, output_name, time=0, kp=0, ki=0, kd=0):\n",
        "    \"\"\"\n",
        "    Calculates the transfer function from the reference input to the output.\n",
        "    \n",
        "    Parameters\n",
        "    ----------\n",
        "    model: str\n",
        "    tf: string\n",
        "      transfer function name that you want returned\n",
        "    input_name: str\n",
        "    output_name: str\n",
        "    time: float\n",
        "    kp: float\n",
        "    ki: float\n",
        "    kd: float\n",
        "    \n",
        "    Returns\n",
        "    -------\n",
        "    control.TransferFunction\n",
        "    \"\"\"\n",
        "    ctlsb = ctl.ControlSBML(model, input_names=[input_name], output_names=[output_name])\n",
        "    Gs = ctlsb.makeTransferFunction(time=time)\n",
        "    dct = plotTFs(Gs, kp=kp, ki=ki, kd=kd, is_plot=False)\n",
        "    return dct[tf]\n",
        "    \n",
        "    \n",
        "# TESTS\n",
        "tf = makeHRY(BIOMD823, \"HRYs\",\"pAkt\", \"pDEPTOR\", time=0,kp=0)\n",
        "assert(tf.dcgain() == 0)\n",
        "print(\"OK!\")\n"
      ],
      "metadata": {
        "colab": {
          "base_uri": "https://localhost:8080/",
          "height": 55
        },
        "id": "sy_2KI9s6v1j",
        "outputId": "3f71ed3c-636a-4d82-a661-e22957553af2"
      },
      "id": "sy_2KI9s6v1j",
      "execution_count": 16,
      "outputs": [
        {
          "output_type": "stream",
          "name": "stdout",
          "text": [
            "OK!\n"
          ]
        },
        {
          "output_type": "execute_result",
          "data": {
            "text/plain": [
              "TransferFunction(array([0.]), array([1.]))"
            ],
            "text/latex": "$$\\frac{0}{1}$$"
          },
          "metadata": {},
          "execution_count": 16
        }
      ]
    },
    {
      "cell_type": "code",
      "source": [
        "def plotPIDStepResponse(kp=1, ki=0, kd=0, is_plot=True):\n",
        "    \"\"\"\n",
        "    Plots the step response of the PID controller.\n",
        "    \n",
        "    Parameters\n",
        "    ----------\n",
        "    kp: float\n",
        "    ki: float\n",
        "    kd: float\n",
        "    is_plot: bool\n",
        "    \n",
        "    Returns\n",
        "    -------\n",
        "    control.TransferFunction\n",
        "    \"\"\"\n",
        "    tf = control.TransferFunction([kp], [1])  \\\n",
        "          + control.TransferFunction([ki], [1, 0])  \\\n",
        "          + control.TransferFunction([kd, 0], [1])\n",
        "    if is_plot:\n",
        "        if len(tf.num[0][0]) > len(tf.den[0][0]):\n",
        "            print(\"Improper transfer function. Cannot simulate.\")\n",
        "        else:\n",
        "            result = control.step_response(tf)\n",
        "            plt.plot(result.t.flatten(), result.y.flatten())\n",
        "    return tf\n",
        "\n",
        "# Tests\n",
        "tf = plotPIDStepResponse(kp=1, ki=0, kd=0, is_plot=False)\n",
        "assert(tf.dcgain() == 1)\n",
        "print(\"OK!\")"
      ],
      "metadata": {
        "colab": {
          "base_uri": "https://localhost:8080/"
        },
        "id": "-F-50nnP-Xf-",
        "outputId": "a62a18fb-72dd-4e0b-9203-61d505b39ee0"
      },
      "id": "-F-50nnP-Xf-",
      "execution_count": 9,
      "outputs": [
        {
          "output_type": "stream",
          "name": "stdout",
          "text": [
            "OK!\n"
          ]
        }
      ]
    },
    {
      "cell_type": "markdown",
      "id": "3547c7aa-649c-4d1d-8b55-c27e9d40550b",
      "metadata": {
        "id": "3547c7aa-649c-4d1d-8b55-c27e9d40550b"
      },
      "source": [
        "# Q1. Build"
      ]
    },
    {
      "cell_type": "code",
      "source": [
        "def evaluateDesign (model=BIOMD823, input_name=\"pAkt\", output_name=\"pDEPTOR\", kp=0, ki=0, kd=0, title=\"mTOR Closed Loop System\"):\n",
        "  '''\n",
        "  Evaluates the control design of a closed loop system for mTOR in the form of \n",
        "  a plot of the step response of the system to a change in the reference\n",
        "  input\n",
        "\n",
        "  Parameters\n",
        "  ----------\n",
        "  model: str\n",
        "        System under control\n",
        "  input_name: str\n",
        "  output_name: str\n",
        "  kp: float\n",
        "  ki: float\n",
        "  kd: float\n",
        "  title: string\n",
        "\n",
        "  Returns\n",
        "  -------\n",
        "  control.InterconnectedSystem\n",
        "\n",
        "  '''\n",
        "  # Creating the closed loop system elements\n",
        "  factory = ctl.IOSystemFactory()\n",
        "  ctlsb = ctl.ControlSBML(BIOMD823, input_names=[input_name], output_names=[output_name])\n",
        "  system = ctlsb.makeNonlinearIOSystem(\"system\")\n",
        "  controller = factory.makePIDController(\"controller\", kp=kp, ki=ki, kd=kd)\n",
        "  sum_R_S = factory.makeAdder(\"sum_R_S\")\n",
        " \n",
        "\n",
        "  # Creating the closed loop system test bed\n",
        "\n",
        "  # Create the closed loop system\n",
        "  system_in = \"system.%s\" % input_name\n",
        "  system_out = \"system.%s\" % output_name\n",
        "  '''\n",
        "  #names = ['%s' % n for n in ctlsb.state_names\n",
        "           #if not n in ctlsb.input_names]\n",
        "  connections = []\n",
        "  for name in names:\n",
        "    new_connection = [\"controller.\" + name, \"system.\" + name]\n",
        "    connections.append(new_connection)\n",
        "  connections.append([system_in, \"controller.out\"],)\n",
        "  '''\n",
        "  closed_loop = control.interconnect(\n",
        "    [sum_R_S, system, controller ], \n",
        "    connections=[\n",
        "      ['controller.in', 'sum_R_S.out'],    # e(t)\n",
        "      [system_in,   'controller.out'],   # u(t)\n",
        "      ['sum_R_S.in1', \"-\" + system_out],\n",
        "      ],\n",
        "  inplist=[\"sum_R_S.in2\"],\n",
        "  outlist=[\"sum_R_S.in2\", system_in, system_out],\n",
        "  )\n",
        "\n",
        "  # make state vector\n",
        "  X0 = ctl.makeStateVector(closed_loop)\n",
        "\n",
        "  # run simulation and plot\n",
        "  times = ctl.makeSimulationTimes(start_time=0, end_time=25, points_per_time=10)\n",
        "  # Need the initial state\n",
        "  result = control.input_output_response(closed_loop, T=TIMES, U=1, X0=X0)\n",
        "  #for s in range(len(ctlsb.state_names)):\n",
        "  plt.plot(result.t, result.outputs[0].flatten())\n",
        "  plt.plot(result.t, result.outputs[1].flatten())\n",
        "  plt.plot(result.t, result.outputs[2].flatten())\n",
        "  plt.ylim([-800, 800])\n",
        "  legends = [\"input\", system_in, \"output\"]\n",
        "  plt.legend(legends) \n",
        "  plt.title(title)\n",
        "\n",
        "  return closed_loop,result         \n",
        "# Tests\n",
        "inter_sys,result = evaluateDesign (model=BIOMD823, input_name=\"pAkt\", output_name=\"pDEPTOR\", kp=750, ki=0, kd=0)\n",
        "type(inter_sys)"
      ],
      "metadata": {
        "colab": {
          "base_uri": "https://localhost:8080/",
          "height": 298
        },
        "id": "CvxvSckoxcGh",
        "outputId": "f9d97fe4-8e8c-4c7a-f76c-578bd62dc9b7"
      },
      "id": "CvxvSckoxcGh",
      "execution_count": 36,
      "outputs": [
        {
          "output_type": "execute_result",
          "data": {
            "text/plain": [
              "control.iosys.InterconnectedSystem"
            ]
          },
          "metadata": {},
          "execution_count": 36
        },
        {
          "output_type": "display_data",
          "data": {
            "text/plain": [
              "<Figure size 432x288 with 1 Axes>"
            ],
            "image/png": "[encoded data removed]"
          },
          "metadata": {
            "needs_background": "light"
          }
        }
      ]
    },
    {
      "cell_type": "markdown",
      "id": "f19b1fbc-ea95-42c2-bbe4-353825debd50",
      "metadata": {
        "id": "f19b1fbc-ea95-42c2-bbe4-353825debd50"
      },
      "source": [
        "# Q2. Design\n",
        "\n",
        "Use evaluateDesign to design a system that has no bias for a unit step response in the reference and settles within 10 seconds."
      ]
    },
    {
      "cell_type": "code",
      "source": [
        "for kps in [500, 750, 1000]:\n",
        "  plt.figure()\n",
        "  title=\"mTOR Closed Loop System for kp = \" +str(kps)\n",
        "  evaluateDesign (model=BIOMD823, input_name=\"pAkt\", output_name=\"pDEPTOR\", kp=kps, ki=0, kd=0, title=title)\n",
        "  plt.show()"
      ],
      "metadata": {
        "colab": {
          "base_uri": "https://localhost:8080/",
          "height": 809
        },
        "id": "ENxJ-hCvPme2",
        "outputId": "2aecb21f-2b00-4c2d-c8d1-9b24ce0b04cf"
      },
      "id": "ENxJ-hCvPme2",
      "execution_count": 41,
      "outputs": [
        {
          "output_type": "display_data",
          "data": {
            "text/plain": [
              "<Figure size 432x288 with 1 Axes>"
            ],
            "image/png": "[encoded data removed]"
          },
          "metadata": {
            "needs_background": "light"
          }
        },
        {
          "output_type": "display_data",
          "data": {
            "text/plain": [
              "<Figure size 432x288 with 1 Axes>"
            ],
            "image/png": "[encoded data removed]"
          },
          "metadata": {
            "needs_background": "light"
          }
        },
        {
          "output_type": "display_data",
          "data": {
            "text/plain": [
              "<Figure size 432x288 with 1 Axes>"
            ],
            "image/png": "[encoded data removed]"
          },
          "metadata": {
            "needs_background": "light"
          }
        }
      ]
    },
    {
      "cell_type": "markdown",
      "id": "1471570e-f7e7-4e75-a092-2f1cc85a0a6e",
      "metadata": {
        "tags": [],
        "id": "1471570e-f7e7-4e75-a092-2f1cc85a0a6e"
      },
      "source": [
        "# Q3. Analyze\n",
        "\n",
        "Construct the transfer function for mTOR from pAkt to pDEPTOR and the transfer function  𝐻𝑁𝑌(𝑠)  for the design parameters you used in (2) (Obtain the Jacobian at time 1 from the open loop mTOR system.) Use these transfer functions to answer the following questions about how the closed loop system should behave in theory.\n",
        "* Why are large control inputs required to control the mTOR system?\n",
        "* Why are there no long term oscillations in the closed loop system?\n",
        "* How will a step increase in noise affect the output of the closed loop system?"
      ]
    },
    {
      "cell_type": "code",
      "source": [
        "HNY = makeHRY(BIOMD823, \"HNYs\",\"pAkt\", \"pDEPTOR\", time=1,kp=100)\n",
        "HNY.dcgain()"
      ],
      "metadata": {
        "colab": {
          "base_uri": "https://localhost:8080/"
        },
        "id": "MF7mV6ggScYD",
        "outputId": "522ae117-2674-435c-e1a2-14f944790845"
      },
      "id": "MF7mV6ggScYD",
      "execution_count": 18,
      "outputs": [
        {
          "output_type": "execute_result",
          "data": {
            "text/plain": [
              "-0.5423159826168715"
            ]
          },
          "metadata": {},
          "execution_count": 18
        }
      ]
    },
    {
      "cell_type": "code",
      "source": [
        "HNY.pole()"
      ],
      "metadata": {
        "colab": {
          "base_uri": "https://localhost:8080/"
        },
        "id": "tdQQRc2dS_e1",
        "outputId": "f722b7e5-6566-406f-d4a3-c3dfebece148"
      },
      "id": "tdQQRc2dS_e1",
      "execution_count": 20,
      "outputs": [
        {
          "output_type": "execute_result",
          "data": {
            "text/plain": [
              "array([-5.40085254+0.00000000e+00j, -3.96034236+0.00000000e+00j,\n",
              "       -1.17057218+0.00000000e+00j, -0.50165764+0.00000000e+00j,\n",
              "       -0.42857143+0.00000000e+00j, -0.03308986+0.00000000e+00j,\n",
              "       -0.02      +1.08287694e-09j, -0.02      -1.08287694e-09j])"
            ]
          },
          "metadata": {},
          "execution_count": 20
        }
      ]
    },
    {
      "cell_type": "code",
      "source": [
        "HNY"
      ],
      "metadata": {
        "colab": {
          "base_uri": "https://localhost:8080/",
          "height": 41
        },
        "id": "5bAjnZWITGoQ",
        "outputId": "dd2c7e80-d58a-449a-ffd8-eb6e409b19ef"
      },
      "id": "5bAjnZWITGoQ",
      "execution_count": 21,
      "outputs": [
        {
          "output_type": "execute_result",
          "data": {
            "text/plain": [
              "TransferFunction(array([-1.00000000e+00, -1.15350860e+01, -4.03050922e+01, -4.61455538e+01,\n",
              "       -2.21920311e+01, -4.38036571e+00, -2.46627511e-01, -5.28265884e-03,\n",
              "       -3.86394741e-05]), array([1.00000000e+00, 1.15350860e+01, 4.31986107e+01, 6.05079997e+01,\n",
              "       3.45132015e+01, 7.69309670e+00, 4.46332457e-01, 9.67842252e-03,\n",
              "       7.12490048e-05]))"
            ],
            "text/latex": "$$\\frac{-s^8 - 11.54 s^7 - 40.31 s^6 - 46.15 s^5 - 22.19 s^4 - 4.38 s^3 - 0.2466 s^2 - 0.005283 s - 3.864 \\times 10^{-5}}{s^8 + 11.54 s^7 + 43.2 s^6 + 60.51 s^5 + 34.51 s^4 + 7.693 s^3 + 0.4463 s^2 + 0.009678 s + 7.125 \\times 10^{-5}}$$"
          },
          "metadata": {},
          "execution_count": 21
        }
      ]
    },
    {
      "cell_type": "code",
      "source": [
        "model_jacobian = ctlsb.getJacobian(1)\n",
        "model_jacobian"
      ],
      "metadata": {
        "colab": {
          "base_uri": "https://localhost:8080/",
          "height": 614
        },
        "id": "1GsdT27wT6Pc",
        "outputId": "638d3aae-24d9-4306-bcfe-b6a39d73d6f1"
      },
      "id": "1GsdT27wT6Pc",
      "execution_count": 24,
      "outputs": [
        {
          "output_type": "execute_result",
          "data": {
            "text/plain": [
              "                     IR       pIR           IRS      pIRS  iIRS       Akt  \\\n",
              "IR            -0.004619  0.026139  0.000000e+00  0.000000  0.00  0.000000   \n",
              "pIR            0.004619 -0.026139  0.000000e+00  0.000000  0.00  0.000000   \n",
              "IRS            0.000000 -0.066608 -3.557563e-04  0.019791  0.02  0.000000   \n",
              "pIRS           0.000000  0.066608  3.550815e-04 -0.019791  0.00  0.000000   \n",
              "iIRS           0.000000  0.000000  6.748515e-07  0.000000 -0.02  0.000000   \n",
              "Akt            0.000000  0.000000  0.000000e+00 -0.046723  0.00 -0.000031   \n",
              "pAkt           0.000000  0.000000  0.000000e+00  0.046723  0.00  0.000031   \n",
              "mTORC1         0.000000  0.000000  0.000000e+00  0.000000  0.00  0.000000   \n",
              "pmTORC1        0.000000  0.000000  0.000000e+00  0.000000  0.00  0.000000   \n",
              "mTORC2         0.000000 -0.011572  0.000000e+00  0.000000  0.00  0.000000   \n",
              "pmTORC2        0.000000  0.011572  0.000000e+00  0.000000  0.00  0.000000   \n",
              "imTORC2        0.000000  0.000000  0.000000e+00  0.000000  0.00  0.000000   \n",
              "mTORC1_DEPTOR  0.000000  0.000000  0.000000e+00  0.000000  0.00  0.000000   \n",
              "mTORC2_DEPTOR  0.000000  0.000000  0.000000e+00  0.000000  0.00  0.000000   \n",
              "DEPTOR         0.000000  0.000000  0.000000e+00  0.000000  0.00  0.000000   \n",
              "pDEPTOR        0.000000  0.000000  0.000000e+00  0.000000  0.00  0.000000   \n",
              "\n",
              "                   pAkt    mTORC1   pmTORC1    mTORC2   pmTORC2  imTORC2  \\\n",
              "IR             0.000000  0.000000  0.000000  0.000000  0.000000      0.0   \n",
              "pIR            0.000000  0.000000  0.000000  0.000000  0.000000      0.0   \n",
              "IRS            0.000000  0.000000 -0.066608  0.000000  0.000000      0.0   \n",
              "pIRS           0.000000  0.000000  0.000000  0.000000  0.000000      0.0   \n",
              "iIRS           0.000000  0.000000  0.066608  0.000000  0.000000      0.0   \n",
              "Akt            0.058160  0.000000  0.000000  0.000000 -1.442200      0.0   \n",
              "pAkt          -0.058160  0.000000  0.000000  0.000000  1.442200      0.0   \n",
              "mTORC1        -0.098652 -0.052828  5.963850  0.000000  0.000000      0.0   \n",
              "pmTORC1        0.098652  0.000002 -5.963850  0.000000  0.000000      0.0   \n",
              "mTORC2         0.000000  0.000000  0.000000 -0.372542  0.423676      0.0   \n",
              "pmTORC2        0.000000  0.000000  0.000000  0.002760 -0.423676      0.0   \n",
              "imTORC2        0.000000  0.000000  0.000000  0.000000  0.000000      0.0   \n",
              "mTORC1_DEPTOR  0.000000  0.052826  0.000000  0.000000  0.000000      0.0   \n",
              "mTORC2_DEPTOR  0.000000  0.000000  0.000000  0.369783  0.000000      0.0   \n",
              "DEPTOR         0.000000 -0.052826 -0.044019 -0.369783 -0.107595      0.0   \n",
              "pDEPTOR        0.000000  0.000000  0.044019  0.000000  0.107595      0.0   \n",
              "\n",
              "               mTORC1_DEPTOR  mTORC2_DEPTOR    DEPTOR   pDEPTOR  \n",
              "IR                     0.000          0.000  0.000000  0.000000  \n",
              "pIR                    0.000          0.000  0.000000  0.000000  \n",
              "IRS                    0.000          0.000  0.000000  0.000000  \n",
              "pIRS                   0.000          0.000  0.000000  0.000000  \n",
              "iIRS                   0.000          0.000  0.000000  0.000000  \n",
              "Akt                    0.000          0.000  0.000000  0.000000  \n",
              "pAkt                   0.000          0.000  0.000000  0.000000  \n",
              "mTORC1                 0.006          0.000 -0.146370  0.000000  \n",
              "pmTORC1                0.000          0.000  0.000000  0.000000  \n",
              "mTORC2                 0.000          0.006 -0.044934  0.000000  \n",
              "pmTORC2                0.000          0.000  0.000000  0.000000  \n",
              "imTORC2                0.000          0.000  0.000000  0.000000  \n",
              "mTORC1_DEPTOR         -0.006          0.000  0.146370  0.000000  \n",
              "mTORC2_DEPTOR          0.000         -0.006  0.044934  0.000000  \n",
              "DEPTOR                 0.006          0.006 -0.191321  0.570365  \n",
              "pDEPTOR                0.000          0.000  0.000017 -0.570365  "
            ],
            "text/html": [
              "\n",
              "  <div id=\"df-3658f73a-9d6d-4562-ba2c-d01ddce5e2d2\">\n",
              "    <div class=\"colab-df-container\">\n",
              "      <div>\n",
              "<style scoped>\n",
              "    .dataframe tbody tr th:only-of-type {\n",
              "        vertical-align: middle;\n",
              "    }\n",
              "\n",
              "    .dataframe tbody tr th {\n",
              "        vertical-align: top;\n",
              "    }\n",
              "\n",
              "    .dataframe thead th {\n",
              "        text-align: right;\n",
              "    }\n",
              "</style>\n",
              "<table border=\"1\" class=\"dataframe\">\n",
              "  <thead>\n",
              "    <tr style=\"text-align: right;\">\n",
              "      <th></th>\n",
              "      <th>IR</th>\n",
              "      <th>pIR</th>\n",
              "      <th>IRS</th>\n",
              "      <th>pIRS</th>\n",
              "      <th>iIRS</th>\n",
              "      <th>Akt</th>\n",
              "      <th>pAkt</th>\n",
              "      <th>mTORC1</th>\n",
              "      <th>pmTORC1</th>\n",
              "      <th>mTORC2</th>\n",
              "      <th>pmTORC2</th>\n",
              "      <th>imTORC2</th>\n",
              "      <th>mTORC1_DEPTOR</th>\n",
              "      <th>mTORC2_DEPTOR</th>\n",
              "      <th>DEPTOR</th>\n",
              "      <th>pDEPTOR</th>\n",
              "    </tr>\n",
              "  </thead>\n",
              "  <tbody>\n",
              "    <tr>\n",
              "      <th>IR</th>\n",
              "      <td>-0.004619</td>\n",
              "      <td>0.026139</td>\n",
              "      <td>0.000000e+00</td>\n",
              "      <td>0.000000</td>\n",
              "      <td>0.00</td>\n",
              "      <td>0.000000</td>\n",
              "      <td>0.000000</td>\n",
              "      <td>0.000000</td>\n",
              "      <td>0.000000</td>\n",
              "      <td>0.000000</td>\n",
              "      <td>0.000000</td>\n",
              "      <td>0.0</td>\n",
              "      <td>0.000</td>\n",
              "      <td>0.000</td>\n",
              "      <td>0.000000</td>\n",
              "      <td>0.000000</td>\n",
              "    </tr>\n",
              "    <tr>\n",
              "      <th>pIR</th>\n",
              "      <td>0.004619</td>\n",
              "      <td>-0.026139</td>\n",
              "      <td>0.000000e+00</td>\n",
              "      <td>0.000000</td>\n",
              "      <td>0.00</td>\n",
              "      <td>0.000000</td>\n",
              "      <td>0.000000</td>\n",
              "      <td>0.000000</td>\n",
              "      <td>0.000000</td>\n",
              "      <td>0.000000</td>\n",
              "      <td>0.000000</td>\n",
              "      <td>0.0</td>\n",
              "      <td>0.000</td>\n",
              "      <td>0.000</td>\n",
              "      <td>0.000000</td>\n",
              "      <td>0.000000</td>\n",
              "    </tr>\n",
              "    <tr>\n",
              "      <th>IRS</th>\n",
              "      <td>0.000000</td>\n",
              "      <td>-0.066608</td>\n",
              "      <td>-3.557563e-04</td>\n",
              "      <td>0.019791</td>\n",
              "      <td>0.02</td>\n",
              "      <td>0.000000</td>\n",
              "      <td>0.000000</td>\n",
              "      <td>0.000000</td>\n",
              "      <td>-0.066608</td>\n",
              "      <td>0.000000</td>\n",
              "      <td>0.000000</td>\n",
              "      <td>0.0</td>\n",
              "      <td>0.000</td>\n",
              "      <td>0.000</td>\n",
              "      <td>0.000000</td>\n",
              "      <td>0.000000</td>\n",
              "    </tr>\n",
              "    <tr>\n",
              "      <th>pIRS</th>\n",
              "      <td>0.000000</td>\n",
              "      <td>0.066608</td>\n",
              "      <td>3.550815e-04</td>\n",
              "      <td>-0.019791</td>\n",
              "      <td>0.00</td>\n",
              "      <td>0.000000</td>\n",
              "      <td>0.000000</td>\n",
              "      <td>0.000000</td>\n",
              "      <td>0.000000</td>\n",
              "      <td>0.000000</td>\n",
              "      <td>0.000000</td>\n",
              "      <td>0.0</td>\n",
              "      <td>0.000</td>\n",
              "      <td>0.000</td>\n",
              "      <td>0.000000</td>\n",
              "      <td>0.000000</td>\n",
              "    </tr>\n",
              "    <tr>\n",
              "      <th>iIRS</th>\n",
              "      <td>0.000000</td>\n",
              "      <td>0.000000</td>\n",
              "      <td>6.748515e-07</td>\n",
              "      <td>0.000000</td>\n",
              "      <td>-0.02</td>\n",
              "      <td>0.000000</td>\n",
              "      <td>0.000000</td>\n",
              "      <td>0.000000</td>\n",
              "      <td>0.066608</td>\n",
              "      <td>0.000000</td>\n",
              "      <td>0.000000</td>\n",
              "      <td>0.0</td>\n",
              "      <td>0.000</td>\n",
              "      <td>0.000</td>\n",
              "      <td>0.000000</td>\n",
              "      <td>0.000000</td>\n",
              "    </tr>\n",
              "    <tr>\n",
              "      <th>Akt</th>\n",
              "      <td>0.000000</td>\n",
              "      <td>0.000000</td>\n",
              "      <td>0.000000e+00</td>\n",
              "      <td>-0.046723</td>\n",
              "      <td>0.00</td>\n",
              "      <td>-0.000031</td>\n",
              "      <td>0.058160</td>\n",
              "      <td>0.000000</td>\n",
              "      <td>0.000000</td>\n",
              "      <td>0.000000</td>\n",
              "      <td>-1.442200</td>\n",
              "      <td>0.0</td>\n",
              "      <td>0.000</td>\n",
              "      <td>0.000</td>\n",
              "      <td>0.000000</td>\n",
              "      <td>0.000000</td>\n",
              "    </tr>\n",
              "    <tr>\n",
              "      <th>pAkt</th>\n",
              "      <td>0.000000</td>\n",
              "      <td>0.000000</td>\n",
              "      <td>0.000000e+00</td>\n",
              "      <td>0.046723</td>\n",
              "      <td>0.00</td>\n",
              "      <td>0.000031</td>\n",
              "      <td>-0.058160</td>\n",
              "      <td>0.000000</td>\n",
              "      <td>0.000000</td>\n",
              "      <td>0.000000</td>\n",
              "      <td>1.442200</td>\n",
              "      <td>0.0</td>\n",
              "      <td>0.000</td>\n",
              "      <td>0.000</td>\n",
              "      <td>0.000000</td>\n",
              "      <td>0.000000</td>\n",
              "    </tr>\n",
              "    <tr>\n",
              "      <th>mTORC1</th>\n",
              "      <td>0.000000</td>\n",
              "      <td>0.000000</td>\n",
              "      <td>0.000000e+00</td>\n",
              "      <td>0.000000</td>\n",
              "      <td>0.00</td>\n",
              "      <td>0.000000</td>\n",
              "      <td>-0.098652</td>\n",
              "      <td>-0.052828</td>\n",
              "      <td>5.963850</td>\n",
              "      <td>0.000000</td>\n",
              "      <td>0.000000</td>\n",
              "      <td>0.0</td>\n",
              "      <td>0.006</td>\n",
              "      <td>0.000</td>\n",
              "      <td>-0.146370</td>\n",
              "      <td>0.000000</td>\n",
              "    </tr>\n",
              "    <tr>\n",
              "      <th>pmTORC1</th>\n",
              "      <td>0.000000</td>\n",
              "      <td>0.000000</td>\n",
              "      <td>0.000000e+00</td>\n",
              "      <td>0.000000</td>\n",
              "      <td>0.00</td>\n",
              "      <td>0.000000</td>\n",
              "      <td>0.098652</td>\n",
              "      <td>0.000002</td>\n",
              "      <td>-5.963850</td>\n",
              "      <td>0.000000</td>\n",
              "      <td>0.000000</td>\n",
              "      <td>0.0</td>\n",
              "      <td>0.000</td>\n",
              "      <td>0.000</td>\n",
              "      <td>0.000000</td>\n",
              "      <td>0.000000</td>\n",
              "    </tr>\n",
              "    <tr>\n",
              "      <th>mTORC2</th>\n",
              "      <td>0.000000</td>\n",
              "      <td>-0.011572</td>\n",
              "      <td>0.000000e+00</td>\n",
              "      <td>0.000000</td>\n",
              "      <td>0.00</td>\n",
              "      <td>0.000000</td>\n",
              "      <td>0.000000</td>\n",
              "      <td>0.000000</td>\n",
              "      <td>0.000000</td>\n",
              "      <td>-0.372542</td>\n",
              "      <td>0.423676</td>\n",
              "      <td>0.0</td>\n",
              "      <td>0.000</td>\n",
              "      <td>0.006</td>\n",
              "      <td>-0.044934</td>\n",
              "      <td>0.000000</td>\n",
              "    </tr>\n",
              "    <tr>\n",
              "      <th>pmTORC2</th>\n",
              "      <td>0.000000</td>\n",
              "      <td>0.011572</td>\n",
              "      <td>0.000000e+00</td>\n",
              "      <td>0.000000</td>\n",
              "      <td>0.00</td>\n",
              "      <td>0.000000</td>\n",
              "      <td>0.000000</td>\n",
              "      <td>0.000000</td>\n",
              "      <td>0.000000</td>\n",
              "      <td>0.002760</td>\n",
              "      <td>-0.423676</td>\n",
              "      <td>0.0</td>\n",
              "      <td>0.000</td>\n",
              "      <td>0.000</td>\n",
              "      <td>0.000000</td>\n",
              "      <td>0.000000</td>\n",
              "    </tr>\n",
              "    <tr>\n",
              "      <th>imTORC2</th>\n",
              "      <td>0.000000</td>\n",
              "      <td>0.000000</td>\n",
              "      <td>0.000000e+00</td>\n",
              "      <td>0.000000</td>\n",
              "      <td>0.00</td>\n",
              "      <td>0.000000</td>\n",
              "      <td>0.000000</td>\n",
              "      <td>0.000000</td>\n",
              "      <td>0.000000</td>\n",
              "      <td>0.000000</td>\n",
              "      <td>0.000000</td>\n",
              "      <td>0.0</td>\n",
              "      <td>0.000</td>\n",
              "      <td>0.000</td>\n",
              "      <td>0.000000</td>\n",
              "      <td>0.000000</td>\n",
              "    </tr>\n",
              "    <tr>\n",
              "      <th>mTORC1_DEPTOR</th>\n",
              "      <td>0.000000</td>\n",
              "      <td>0.000000</td>\n",
              "      <td>0.000000e+00</td>\n",
              "      <td>0.000000</td>\n",
              "      <td>0.00</td>\n",
              "      <td>0.000000</td>\n",
              "      <td>0.000000</td>\n",
              "      <td>0.052826</td>\n",
              "      <td>0.000000</td>\n",
              "      <td>0.000000</td>\n",
              "      <td>0.000000</td>\n",
              "      <td>0.0</td>\n",
              "      <td>-0.006</td>\n",
              "      <td>0.000</td>\n",
              "      <td>0.146370</td>\n",
              "      <td>0.000000</td>\n",
              "    </tr>\n",
              "    <tr>\n",
              "      <th>mTORC2_DEPTOR</th>\n",
              "      <td>0.000000</td>\n",
              "      <td>0.000000</td>\n",
              "      <td>0.000000e+00</td>\n",
              "      <td>0.000000</td>\n",
              "      <td>0.00</td>\n",
              "      <td>0.000000</td>\n",
              "      <td>0.000000</td>\n",
              "      <td>0.000000</td>\n",
              "      <td>0.000000</td>\n",
              "      <td>0.369783</td>\n",
              "      <td>0.000000</td>\n",
              "      <td>0.0</td>\n",
              "      <td>0.000</td>\n",
              "      <td>-0.006</td>\n",
              "      <td>0.044934</td>\n",
              "      <td>0.000000</td>\n",
              "    </tr>\n",
              "    <tr>\n",
              "      <th>DEPTOR</th>\n",
              "      <td>0.000000</td>\n",
              "      <td>0.000000</td>\n",
              "      <td>0.000000e+00</td>\n",
              "      <td>0.000000</td>\n",
              "      <td>0.00</td>\n",
              "      <td>0.000000</td>\n",
              "      <td>0.000000</td>\n",
              "      <td>-0.052826</td>\n",
              "      <td>-0.044019</td>\n",
              "      <td>-0.369783</td>\n",
              "      <td>-0.107595</td>\n",
              "      <td>0.0</td>\n",
              "      <td>0.006</td>\n",
              "      <td>0.006</td>\n",
              "      <td>-0.191321</td>\n",
              "      <td>0.570365</td>\n",
              "    </tr>\n",
              "    <tr>\n",
              "      <th>pDEPTOR</th>\n",
              "      <td>0.000000</td>\n",
              "      <td>0.000000</td>\n",
              "      <td>0.000000e+00</td>\n",
              "      <td>0.000000</td>\n",
              "      <td>0.00</td>\n",
              "      <td>0.000000</td>\n",
              "      <td>0.000000</td>\n",
              "      <td>0.000000</td>\n",
              "      <td>0.044019</td>\n",
              "      <td>0.000000</td>\n",
              "      <td>0.107595</td>\n",
              "      <td>0.0</td>\n",
              "      <td>0.000</td>\n",
              "      <td>0.000</td>\n",
              "      <td>0.000017</td>\n",
              "      <td>-0.570365</td>\n",
              "    </tr>\n",
              "  </tbody>\n",
              "</table>\n",
              "</div>\n",
              "      <button class=\"colab-df-convert\" onclick=\"convertToInteractive('df-3658f73a-9d6d-4562-ba2c-d01ddce5e2d2')\"\n",
              "              title=\"Convert this dataframe to an interactive table.\"\n",
              "              style=\"display:none;\">\n",
              "        \n",
              "  <svg xmlns=\"http://www.w3.org/2000/svg\" height=\"24px\"viewBox=\"0 0 24 24\"\n",
              "       width=\"24px\">\n",
              "    <path d=\"M0 0h24v24H0V0z\" fill=\"none\"/>\n",
              "    <path d=\"M18.56 5.44l.94 2.06.94-2.06 2.06-.94-2.06-.94-.94-2.06-.94 2.06-2.06.94zm-11 1L8.5 8.5l.94-2.06 2.06-.94-2.06-.94L8.5 2.5l-.94 2.06-2.06.94zm10 10l.94 2.06.94-2.06 2.06-.94-2.06-.94-.94-2.06-.94 2.06-2.06.94z\"/><path d=\"M17.41 7.96l-1.37-1.37c-.4-.4-.92-.59-1.43-.59-.52 0-1.04.2-1.43.59L10.3 9.45l-7.72 7.72c-.78.78-.78 2.05 0 2.83L4 21.41c.39.39.9.59 1.41.59.51 0 1.02-.2 1.41-.59l7.78-7.78 2.81-2.81c.8-.78.8-2.07 0-2.86zM5.41 20L4 18.59l7.72-7.72 1.47 1.35L5.41 20z\"/>\n",
              "  </svg>\n",
              "      </button>\n",
              "      \n",
              "  <style>\n",
              "    .colab-df-container {\n",
              "      display:flex;\n",
              "      flex-wrap:wrap;\n",
              "      gap: 12px;\n",
              "    }\n",
              "\n",
              "    .colab-df-convert {\n",
              "      background-color: #E8F0FE;\n",
              "      border: none;\n",
              "      border-radius: 50%;\n",
              "      cursor: pointer;\n",
              "      display: none;\n",
              "      fill: #1967D2;\n",
              "      height: 32px;\n",
              "      padding: 0 0 0 0;\n",
              "      width: 32px;\n",
              "    }\n",
              "\n",
              "    .colab-df-convert:hover {\n",
              "      background-color: #E2EBFA;\n",
              "      box-shadow: 0px 1px 2px rgba(60, 64, 67, 0.3), 0px 1px 3px 1px rgba(60, 64, 67, 0.15);\n",
              "      fill: #174EA6;\n",
              "    }\n",
              "\n",
              "    [theme=dark] .colab-df-convert {\n",
              "      background-color: #3B4455;\n",
              "      fill: #D2E3FC;\n",
              "    }\n",
              "\n",
              "    [theme=dark] .colab-df-convert:hover {\n",
              "      background-color: #434B5C;\n",
              "      box-shadow: 0px 1px 3px 1px rgba(0, 0, 0, 0.15);\n",
              "      filter: drop-shadow(0px 1px 2px rgba(0, 0, 0, 0.3));\n",
              "      fill: #FFFFFF;\n",
              "    }\n",
              "  </style>\n",
              "\n",
              "      <script>\n",
              "        const buttonEl =\n",
              "          document.querySelector('#df-3658f73a-9d6d-4562-ba2c-d01ddce5e2d2 button.colab-df-convert');\n",
              "        buttonEl.style.display =\n",
              "          google.colab.kernel.accessAllowed ? 'block' : 'none';\n",
              "\n",
              "        async function convertToInteractive(key) {\n",
              "          const element = document.querySelector('#df-3658f73a-9d6d-4562-ba2c-d01ddce5e2d2');\n",
              "          const dataTable =\n",
              "            await google.colab.kernel.invokeFunction('convertToInteractive',\n",
              "                                                     [key], {});\n",
              "          if (!dataTable) return;\n",
              "\n",
              "          const docLinkHtml = 'Like what you see? Visit the ' +\n",
              "            '<a target=\"_blank\" href=https://colab.research.google.com/notebooks/data_table.ipynb>data table notebook</a>'\n",
              "            + ' to learn more about interactive tables.';\n",
              "          element.innerHTML = '';\n",
              "          dataTable['output_type'] = 'display_data';\n",
              "          await google.colab.output.renderOutput(dataTable, element);\n",
              "          const docLink = document.createElement('div');\n",
              "          docLink.innerHTML = docLinkHtml;\n",
              "          element.appendChild(docLink);\n",
              "        }\n",
              "      </script>\n",
              "    </div>\n",
              "  </div>\n",
              "  "
            ]
          },
          "metadata": {},
          "execution_count": 24
        }
      ]
    },
    {
      "cell_type": "code",
      "source": [
        "plotTFs(HNY, kp=100, ylim=None, times=TIMES, title=\"HNY\", is_plot=True)\n"
      ],
      "metadata": {
        "colab": {
          "base_uri": "https://localhost:8080/",
          "height": 689
        },
        "id": "RGeNUou3TR_-",
        "outputId": "54d12085-8ea7-4a50-bbaf-0f80117164ce"
      },
      "id": "RGeNUou3TR_-",
      "execution_count": 22,
      "outputs": [
        {
          "output_type": "execute_result",
          "data": {
            "text/plain": [
              "{'HDYs': TransferFunction(array([1.00000000e+02, 1.15350860e+03, 4.31986107e+03, 6.05079997e+03,\n",
              "        3.45132015e+03, 7.69309670e+02, 4.46332457e+01, 9.67842252e-01,\n",
              "        7.12490048e-03]), array([-9.90000000e+01, -1.14197352e+03, -3.98731061e+03, -4.55404738e+03,\n",
              "        -2.18468991e+03, -4.30343475e+02, -2.42164187e+01, -5.18587461e-01,\n",
              "        -3.79269840e-03])),\n",
              " 'HNYs': TransferFunction(array([-1.00000000e+00, -1.15350860e+01, -4.31986107e+01, -6.05079997e+01,\n",
              "        -3.45132015e+01, -7.69309670e+00, -4.46332457e-01, -9.67842252e-03,\n",
              "        -7.12490048e-05]), array([-9.90000000e+01, -1.14197352e+03, -3.98731061e+03, -4.55404738e+03,\n",
              "        -2.18468991e+03, -4.30343475e+02, -2.42164187e+01, -5.18587461e-01,\n",
              "        -3.79269840e-03])),\n",
              " 'HREs': TransferFunction(array([1.00000000e+00, 1.15350860e+01, 4.31986107e+01, 6.05079997e+01,\n",
              "        3.45132015e+01, 7.69309670e+00, 4.46332457e-01, 9.67842252e-03,\n",
              "        7.12490048e-05]), array([-9.90000000e+01, -1.14197352e+03, -3.98731061e+03, -4.55404738e+03,\n",
              "        -2.18468991e+03, -4.30343475e+02, -2.42164187e+01, -5.18587461e-01,\n",
              "        -3.79269840e-03])),\n",
              " 'HRYs': TransferFunction(array([-1.00000000e+02, -2.30701720e+03, -2.16561912e+04, -1.06987595e+05,\n",
              "        -3.02808714e+05, -5.09837752e+05, -5.28185922e+05, -3.44273121e+05,\n",
              "        -1.41478354e+05, -3.58044642e+04, -5.28863059e+03, -4.25515983e+02,\n",
              "        -1.96027631e+01, -5.35414127e-01, -8.59458204e-03, -7.50353341e-05,\n",
              "        -2.75302408e-07]), array([-9.90000000e+01, -2.28394703e+03, -2.14367358e+04, -1.05869980e+05,\n",
              "        -2.99477637e+05, -5.03798417e+05, -5.21364486e+05, -3.39421493e+05,\n",
              "        -1.39317420e+05, -3.52185862e+04, -5.19746073e+03, -4.17971936e+02,\n",
              "        -1.92497182e+01, -5.25678287e-01, -8.43730869e-03, -7.36561782e-05,\n",
              "        -2.70225987e-07]))}"
            ]
          },
          "metadata": {},
          "execution_count": 22
        },
        {
          "output_type": "display_data",
          "data": {
            "text/plain": [
              "<Figure size 432x288 with 1 Axes>"
            ],
            "image/png": "[encoded data removed]"
          },
          "metadata": {
            "needs_background": "light"
          }
        }
      ]
    },
    {
      "cell_type": "markdown",
      "source": [
        "1) Large control inputs for kp are required becasue the mTOR reactions have negative feedback loops that keep the system fairly stable and resistant to pertubations from the steady state\n",
        "\n",
        "2) All long term oscilations are relatively obsolete because the poles are all negative and are fairly small\n",
        "\n",
        "3) The DC gain of the noise is 0, and would thus have no effect on the output"
      ],
      "metadata": {
        "id": "yixOb7ABewl3"
      },
      "id": "yixOb7ABewl3"
    },
    {
      "cell_type": "markdown",
      "id": "d90287da-5928-44fa-9644-4e89447827fa",
      "metadata": {
        "id": "d90287da-5928-44fa-9644-4e89447827fa"
      },
      "source": [
        "# Q4. Discussion\n",
        "\n",
        "Plot the values of pAkt for the closed loop system you designed in (2). What issues do you see with using this closed loop system in practice?\n",
        "\n"
      ]
    },
    {
      "cell_type": "code",
      "source": [
        "  evaluateDesign (model=BIOMD823, input_name=\"pAkt\", output_name=\"pDEPTOR\", kp=750, ki=0, kd=0, title=\"mTOR Closed Loop System for kp = 750\")"
      ],
      "metadata": {
        "colab": {
          "base_uri": "https://localhost:8080/",
          "height": 298
        },
        "id": "rAEArnZjejAu",
        "outputId": "0859be42-5ada-44f9-cb09-ac242e65f1c9"
      },
      "id": "rAEArnZjejAu",
      "execution_count": 43,
      "outputs": [
        {
          "output_type": "execute_result",
          "data": {
            "text/plain": [
              "(sys[22], <control.timeresp.TimeResponseData at 0x7f01c8967810>)"
            ]
          },
          "metadata": {},
          "execution_count": 43
        },
        {
          "output_type": "display_data",
          "data": {
            "text/plain": [
              "<Figure size 432x288 with 1 Axes>"
            ],
            "image/png": "[encoded data removed]"
          },
          "metadata": {
            "needs_background": "light"
          }
        }
      ]
    },
    {
      "cell_type": "markdown",
      "source": [
        "Closed loop systems result in some issues because high values are required to perturb the system, which in turn adds more significant oscillations to the system"
      ],
      "metadata": {
        "id": "lPCN0jVUfXj3"
      },
      "id": "lPCN0jVUfXj3"
    },
    {
      "cell_type": "markdown",
      "source": [
        "Side note: I sent you an email regarding this, but I haven't been as present in class lately due to a family emergency that has been ongoing for the past week. I wasn't sure if you saw the email, so I wanted to add a note here"
      ],
      "metadata": {
        "id": "AP9EFnVxfm-H"
      },
      "id": "AP9EFnVxfm-H"
    },
    {
      "cell_type": "code",
      "source": [
        ""
      ],
      "metadata": {
        "id": "_0kJlurafTyM"
      },
      "id": "_0kJlurafTyM",
      "execution_count": null,
      "outputs": []
    }
  ],
  "metadata": {
    "kernelspec": {
      "display_name": "Python 3",
      "language": "python",
      "name": "python3"
    },
    "language_info": {
      "codemirror_mode": {
        "name": "ipython",
        "version": 3
      },
      "file_extension": ".py",
      "mimetype": "text/x-python",
      "name": "python",
      "nbconvert_exporter": "python",
      "pygments_lexer": "ipython3",
      "version": "3.6.9"
    },
    "colab": {
      "name": "Boysen_Homework_3-Designing-Closed-Loop-Systems.ipynb",
      "provenance": [],
      "collapsed_sections": []
    }
  },
  "nbformat": 4,
  "nbformat_minor": 5
}