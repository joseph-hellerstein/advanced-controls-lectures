{
 "cells": [
  {
   "cell_type": "markdown",
   "id": "4691a5bc-ce0f-47cd-bc2b-661dbec6eb23",
   "metadata": {},
   "source": [
    "# INTERPRETING LAPLACE TRANSFORMS IN CHEMICAL NETWORKS"
   ]
  },
  {
   "cell_type": "markdown",
   "id": "9bd9d0fb-5396-4238-9c71-920561362bd8",
   "metadata": {},
   "source": [
    "This notebook explores the relationship between network structure and the networks Transfer Function.\n",
    "\n",
    "We use the following notation:\n",
    "* $s$: Laplace transform variable\n",
    "* $G(s)$: Transfer function\n",
    "* $S_n$: $n$-th chemical species\n",
    "* $x_n (t), ~ x_n$: Concentration of $S_n$ at time $t$\n",
    "* $\\dot{x}_n (t), ~ \\dot{x}_n$: First derivative of $x(t)$\n",
    "* $X_n(s)$: Laplace Transform of the concentration of $S_n$\n",
    "\n",
    "Reactions are described by arrows. The annotation above the arrow is the reaction rate. (Previously, we had assumed mass action kinetics and so just used the kinetic constants.) For example, $S_1$ is converted to $S_2$ at a rate $kx_1$ (where $x_1$ is the concentration of $S_1$ at time $t$) is denoted by $S_1 \\xrightarrow{kx_1} S_2$.\n",
    "\n",
    "The first part introduces 3 network structures and their Transfer Functions.\n",
    "The second part is an exercise in exploring the conditions in which one network structure can approximate another network structure."
   ]
  },
  {
   "cell_type": "markdown",
   "id": "04ed51a7-2022-4431-a0c7-cc4f1800ec03",
   "metadata": {},
   "source": [
    "# Preliminaries"
   ]
  },
  {
   "cell_type": "code",
   "execution_count": 211,
   "id": "58ab8a63-4141-4f4f-ba8a-686a3914656e",
   "metadata": {},
   "outputs": [],
   "source": [
    "#!pip install -q controlSBML\n",
    "#!pip install -q control\n",
    "import numpy as np\n",
    "import control\n",
    "import controlSBML as ctl\n",
    "import matplotlib.pyplot as plt\n",
    "import sympy\n",
    "import tellurium as te\n",
    "from typing import Tuple, List"
   ]
  },
  {
   "cell_type": "code",
   "execution_count": 210,
   "id": "9d1a0b08-52b8-4dd7-baf1-af4958fe4c4d",
   "metadata": {},
   "outputs": [],
   "source": [
    "TIMES = np.linspace(0, 20, 200)"
   ]
  },
  {
   "cell_type": "markdown",
   "id": "ea5af33f-281b-4bc7-85b0-78736d39bc6a",
   "metadata": {},
   "source": [
    "# Models"
   ]
  },
  {
   "cell_type": "markdown",
   "id": "f352621b-63be-4cf9-8715-8df4d66eae7b",
   "metadata": {},
   "source": [
    "The reference models are simple reaction networks that have particular Laplace Transforms. We use these to approximate more complex reaction networks."
   ]
  },
  {
   "cell_type": "markdown",
   "id": "713e2b3a-f70d-4ef8-a198-c47556f1dbad",
   "metadata": {},
   "source": [
    "## One Step Sequential"
   ]
  },
  {
   "cell_type": "markdown",
   "id": "bebd59a1-7fac-427e-8f55-785ca8c16fe9",
   "metadata": {},
   "source": [
    "### Reaction Network"
   ]
  },
  {
   "cell_type": "markdown",
   "id": "d6f2474b-efd0-4f78-a836-8487870daa55",
   "metadata": {},
   "source": [
    "Consider the one step sequential pathway with mass action kinetics\n",
    "\\begin{eqnarray}\n",
    "S_1 & \\xrightarrow{k_1 x_1} & S_2 \\\\\n",
    "S_2 & \\xrightarrow{k_2 x_2} & \\emptyset \\\\\n",
    "\\end{eqnarray}\n",
    "\n",
    "We want to control $s_2$ by manipulating $S_1$.\n",
    "We will manipulate $s_1$ by controlling its concentration in solution.\n",
    "\n",
    "The transfer function is $G_1(s) = \\frac{X_2 (s)}{X_1 (s)} = \\frac{k_1}{s + k_2}$"
   ]
  },
  {
   "cell_type": "markdown",
   "id": "3367ea76-a535-4607-a5e9-9a8d2b8ad87d",
   "metadata": {},
   "source": [
    "### Find the kinetic constants for the network whose transfer function is $G_1(s)$"
   ]
  },
  {
   "cell_type": "markdown",
   "id": "c5ffbd37-9864-4d45-ad69-2dbcc615f100",
   "metadata": {},
   "source": [
    "By inspection\n",
    "1. Change the transfer function so that $s$ has a coefficient of 1.\n",
    "2. $k_1$ is the numerator.\n",
    "3. $k_2$ is the denominator\n",
    "4. Write the model."
   ]
  },
  {
   "cell_type": "markdown",
   "id": "285ebd69-b4e4-42b8-8f2e-d9410ca1f1c7",
   "metadata": {},
   "source": [
    "A more generalizable approach\n",
    "1. Let $p$ be the pole of the transfer function and $d$ be its dcgain.\n",
    "2. $k_2 = -p$\n",
    "3. $k_1 = - d p$\n",
    "\n",
    "We can solve this system because there are two equations (1 pole, dcgain) and two unknowns."
   ]
  },
  {
   "cell_type": "markdown",
   "id": "4fcfeadd-3d5e-4755-9f08-4fb6e9200c8e",
   "metadata": {},
   "source": [
    "### Evaluation"
   ]
  },
  {
   "cell_type": "markdown",
   "id": "5bc214f9-a7e0-4d82-924c-f23e9175ab9a",
   "metadata": {},
   "source": [
    "General expression\n",
    "\n",
    "$$\\frac{m}{s - p}$$,\n",
    "\n",
    "where $m$ is the multiplier and $p$ is the pole."
   ]
  },
  {
   "cell_type": "code",
   "execution_count": 218,
   "id": "f868fb61-04e8-4e71-a15a-e89574e39fde",
   "metadata": {},
   "outputs": [
    {
     "name": "stdout",
     "output_type": "stream",
     "text": [
      "OK!\n"
     ]
    }
   ],
   "source": [
    "def evaluateOneSequential(multiplier:float, pole:float, times=TIMES, is_plot:bool=True)->Tuple[control.TransferFunction, np.ndarray]:\n",
    "    \"\"\"\n",
    "    Construct the transfer function, and simulate it.\n",
    "    \"\"\"\n",
    "    tf = control.TransferFunction([multiplier], [1, -pole])\n",
    "    _, yv = control.step_response(tf, T=times)\n",
    "    plt.plot(times, yv)\n",
    "    if not is_plot:\n",
    "        plt.close()\n",
    "    return tf, yv\n",
    "\n",
    "# TESTS\n",
    "results = evaluateOneSequential(2, -1, is_plot=False)\n",
    "assert(isinstance(results[0], control.TransferFunction))\n",
    "assert(len(results[1]) == len(TIMES))\n",
    "print(\"OK!\")"
   ]
  },
  {
   "cell_type": "code",
   "execution_count": 219,
   "id": "33e86e30-2dc4-4d14-938a-ea7e0e9bd047",
   "metadata": {},
   "outputs": [
    {
     "data": {
      "image/png": "[encoded data removed]",
      "text/plain": [
       "<Figure size 640x480 with 1 Axes>"
      ]
     },
     "metadata": {},
     "output_type": "display_data"
    }
   ],
   "source": [
    "_ = evaluateOneSequential(2, -1)"
   ]
  },
  {
   "cell_type": "markdown",
   "id": "006ee365-0c6d-46b6-9ddf-2fad9747c0fe",
   "metadata": {},
   "source": [
    "## Two Step Sequential"
   ]
  },
  {
   "cell_type": "markdown",
   "id": "e68b1710-75df-4a1a-87bd-fd39ac0489a5",
   "metadata": {},
   "source": [
    "### Reaction network"
   ]
  },
  {
   "cell_type": "markdown",
   "id": "44955f05-0c28-488c-8e48-de19a20046ae",
   "metadata": {},
   "source": [
    "\\begin{eqnarray}\n",
    "S_1 & \\xrightarrow{k_1 x_1} & S_2 \\\\\n",
    "S_2 & \\xrightarrow{k_2 x_2} & S_3 \\\\\n",
    "S_3 & \\xrightarrow{k_3 x_3} & \\emptyset \\\\\n",
    "\\end{eqnarray}\n",
    "\n",
    "Find the transfer function\n",
    "\\begin{eqnarray}\n",
    "G_2(s) \n",
    " & = & \\frac{k_1 k_2 }{(s + k_2)(s + k_3)} \\\\\n",
    " & = & \\frac{k_1 k_2 }{s^2 + (k_2 + k_3)s + k_2 k_3} \\\\\n",
    " & = & \\frac{k_1 k_2 }{s^2 + b s + c} \\\\\n",
    "\\end{eqnarray}\n",
    "\n",
    "Clearly, the two poles are $p_1 = -k_2$, $p_2 = -k_3$.\n",
    "So\n",
    "* $k_2 = -p_1$\n",
    "* $k_3 = - p_2$\n",
    "* $k_1 = dk_3$"
   ]
  },
  {
   "cell_type": "markdown",
   "id": "1cfa30cc-25e0-44e7-8f0c-b88cf40589d4",
   "metadata": {},
   "source": [
    "### Find the kinetic constants for the network whose transfer function is $G_2(s)$"
   ]
  },
  {
   "cell_type": "markdown",
   "id": "ee7fd8d5-ce40-4bc7-b241-bf9c26e1fb33",
   "metadata": {},
   "source": [
    "Let $G_2 (s)$ has dcgain $d$ and poles $p_1, p_2$.\n",
    "\n",
    "\\begin{eqnarray}\n",
    "d & = & \\frac{k_1 k_2}{k_2 k_3} \\\\\n",
    "& = & \\frac{k_1}{k_2} \\\\\n",
    "\\end{eqnarray}\n",
    "\n",
    "\\begin{eqnarray}\n",
    "b & = & - p_1 - p_2 \\\\\n",
    "c & = & (-p_1)(- p_2) \\\\\n",
    "\\end{eqnarray}\n",
    "\n",
    "Solving, we have\n",
    "\\begin{eqnarray}\n",
    "c & = & (b + p_2)(- p_2) \\\\\n",
    "p_2^2 + b p_2 + c & = & 0 \\\\\n",
    "p_2 & = & \\frac{1}{2} \\left( -b \\pm \\sqrt{b^2 - 4c} \\right) \\\\\n",
    "p_1 & = & -b - p_2\n",
    "\\end{eqnarray}"
   ]
  },
  {
   "cell_type": "markdown",
   "id": "2e5008b7-a1ff-42e7-b4e4-8327a8c907e3",
   "metadata": {},
   "source": [
    "**Question**\n",
    "1. We know that this systems should have real poles $-k_2, -k_3$. This means the $b^2 \\geq 4c$. Can we prove this?"
   ]
  },
  {
   "cell_type": "markdown",
   "id": "c1cd3690-82c7-41f5-910c-a061b443020f",
   "metadata": {},
   "source": [
    "\\begin{eqnarray}\n",
    "b^2 & = & (k_2 + k_3)^2 \\\\\n",
    "4c & = & 4 k_2 k_3 \\\\\n",
    "\\end{eqnarray}\n",
    "\n",
    "From this, we infer the following:\n",
    "\\begin{eqnarray}\n",
    "b^2 - 4c & = & k_2^2 + 2k_2 k_3 + k_3^2 - 4 k_2 k_3 \\\\\n",
    "& = & k_2^2 - 2 k_2 k_3 + k_3^2 \\\\\n",
    "& = & (k_2 - k_3)^2 \\\\\n",
    "& \\geq & 0 \\\\\n",
    "\\end{eqnarray}"
   ]
  },
  {
   "cell_type": "markdown",
   "id": "ba4fff03-efcf-4d9d-9258-2e21830c96e2",
   "metadata": {},
   "source": [
    "### Evaluation"
   ]
  },
  {
   "cell_type": "markdown",
   "id": "4e515151-b388-4f50-a46c-b6cb50af416d",
   "metadata": {},
   "source": [
    "General expression\n",
    "\n",
    "$$\\frac{m}{(s - p_1)(s - p_2)}$$,\n",
    "\n",
    "where $m$ is the multiplier and $p$ is the pole."
   ]
  },
  {
   "cell_type": "code",
   "execution_count": null,
   "id": "0ec4ff7f-6850-4f33-9015-3976a6c3b6f7",
   "metadata": {
    "jupyter": {
     "source_hidden": true
    }
   },
   "outputs": [],
   "source": [
    "# evaluateTwoStep"
   ]
  },
  {
   "cell_type": "markdown",
   "id": "7679f973-f738-46c1-9e50-9b896a9f0646",
   "metadata": {},
   "source": [
    "## Branching"
   ]
  },
  {
   "cell_type": "markdown",
   "id": "47d6fae4-dad9-4974-8f5e-cabc754be159",
   "metadata": {},
   "source": [
    "### Reaction Network"
   ]
  },
  {
   "cell_type": "markdown",
   "id": "8d1904c4-c1c4-4d84-a12f-81e0a95c9092",
   "metadata": {},
   "source": [
    "Consider the following model:\n",
    "\\begin{eqnarray}\n",
    "S_1 & \\xrightarrow{k_2 x_1} & S_2 \\\\\n",
    "S_1 & \\xrightarrow{k_3 x_1} & S_3 \\\\\n",
    "S_2 & \\xrightarrow{k^d_2 x_2} & \\emptyset \\\\\n",
    "S_3 & \\xrightarrow{k^d_3 x_3} & \\emptyset \\\\\n",
    "\\end{eqnarray}"
   ]
  },
  {
   "cell_type": "markdown",
   "id": "fb9c6ad0-7aba-48c9-95de-a17a06b7e7b6",
   "metadata": {},
   "source": [
    "### Transfer function"
   ]
  },
  {
   "cell_type": "markdown",
   "id": "f59402fa-812b-49f6-804f-50123818fc0c",
   "metadata": {},
   "source": [
    "Find the transfer function $G_3(s) = \\frac{X_3(s) + X_2 (s)}{X_1(s)}$.\n",
    "\n",
    "Differential equations.\n",
    "\\begin{eqnarray}\n",
    "\\dot{x}_1 = -(k_2 + k_3) x_1 \\\\\n",
    "\\dot{x}_2 = k_2 x_1 - k^d_2 x_2 \\\\\n",
    "\\dot{x}_3 = k_3 x_1 - k^d_3 x_3 \\\\\n",
    "\\end{eqnarray}"
   ]
  },
  {
   "cell_type": "markdown",
   "id": "c2c09725-fa47-4cb5-8f4f-99a5e79bcd92",
   "metadata": {},
   "source": [
    "Laplace transforms.\n",
    "\\begin{eqnarray}\n",
    "s X_1(s) = -(k_2 + k_3) X_1 (s) \\\\\n",
    "s X_2(s) = k_2 X_1 (s) - k^d_2 X_2 (s) \\\\\n",
    "s X_3 (s) = k_3 X_1 (s) - k^d_3 X_3 (s) \\\\\n",
    "\\end{eqnarray}"
   ]
  },
  {
   "cell_type": "markdown",
   "id": "39e92165-4066-4673-938e-70237a135885",
   "metadata": {},
   "source": [
    "Solve for the Transfer Function\n",
    "\\begin{eqnarray}\n",
    "X_2(s) = \\frac{k_2 X_1 (s)}{s + k^d_2} \\\\\n",
    "X_3(s) = \\frac{k_3 X_1 (s)}{s + k^d_3} \\\\\n",
    "X_2(s) + X_3 (s) & = & X_1 (s) \\left( \\frac{k_2}{s + k^d_2} +  \\frac{k_3}{s + k^d_3} \\right) \\\\\n",
    "& = & \\frac{k_2 (s + k^d_3) + k_3 (s + k^d_2)}{(s + k^d_2)(s + k^d_3)} \\\\\n",
    "& = & \\frac{(k_2 + k_3) s + k_2 k^d_3 + k_3 k^d_2}{(s + k^d_2)(s + k^d_3)} \\\\\n",
    "& = & (k_2 + k_3) \\frac{ s + \\frac{k_2 k^d_3 + k_3 k^d_2}{k_2 + k_3}}{(s + k^d_2)(s + k^d_3)} \\\\\n",
    "& = & (k_2 + k_3) \\frac{ s + \\frac{k_2 k^d_3 + k_3 k^d_2}{k_2 + k_3}}{s^2 + (k^d_2 + k^d_3)s + k^d_2 k^d_3} \\\\\n",
    "\\end{eqnarray}"
   ]
  },
  {
   "cell_type": "markdown",
   "id": "10dc9c11-e6b5-496a-9cf7-ef7d60aba5d9",
   "metadata": {},
   "source": [
    "### Preliminary Questions\n",
    "\n",
    "1. What are the poles?\n",
    "2. What are the zeros?\n",
    "3. What is the dcgain?\n",
    "4. The unknown constants are $k_2, k_3, k^d_2, k^d_3$. But we only have 3 equations: dcgain, and 2 poles. How do we find all of the unknown constants?"
   ]
  },
  {
   "cell_type": "markdown",
   "id": "94c50128-c0fc-4a96-af68-01e6833ffd3e",
   "metadata": {},
   "source": [
    "### Find the kinetic constants for the network whose transfer function is $G_3(s)$"
   ]
  },
  {
   "cell_type": "markdown",
   "id": "9b610018-03ba-43be-9bd7-0ba5f1984833",
   "metadata": {},
   "source": [
    "To find the poles, using the equations from the second order system without a zero. This will identify $k^d_2, k^d_3$.\n",
    "Why does this work?"
   ]
  },
  {
   "cell_type": "markdown",
   "id": "f976a00c-ae6d-48ea-a140-2cf92fa8911b",
   "metadata": {},
   "source": [
    "Finding $k_2, k_3$.\n",
    "\n",
    "\\begin{eqnarray}\n",
    "d & = & \\frac{k_2 k^d_3 + k_3 k^d_2}{k^d_2 k^d_3} \\\\\n",
    "\\end{eqnarray}\n",
    "\n",
    "Using $k_3 > 0$ as a free parameter,\n",
    "\n",
    "\\begin{eqnarray}\n",
    "k_2 & = & \\frac{d k^d_2 k^d_3  - k_3 k^d_2}{k^d_3} \\\\\n",
    "\\end{eqnarray}\n"
   ]
  },
  {
   "cell_type": "markdown",
   "id": "a4baa14c-ab3a-44ec-9d68-de5e08d6e6e9",
   "metadata": {},
   "source": [
    "### Evaluation"
   ]
  },
  {
   "cell_type": "markdown",
   "id": "1f46d70f-34ed-4b4e-b98b-67abcf043e37",
   "metadata": {},
   "source": [
    "General expression\n",
    "\n",
    "$$\\frac{m (s + z)}{(s - p_1)(s - p_2)}$$,\n",
    "\n",
    "where $m$ is the multiplier and $p$ is the pole."
   ]
  },
  {
   "cell_type": "code",
   "execution_count": null,
   "id": "10acd02b-d144-4b03-b544-4269856204a9",
   "metadata": {},
   "outputs": [],
   "source": [
    "# evaluateTwoStep"
   ]
  },
  {
   "cell_type": "markdown",
   "id": "899556e5-8c92-4db3-8a1f-10a032047a68",
   "metadata": {},
   "source": [
    "## Summary"
   ]
  },
  {
   "cell_type": "markdown",
   "id": "8b83bc86-063a-4179-83df-ff002d903785",
   "metadata": {},
   "source": [
    "* One step sequential: $\\frac{m}{s - p}$\n",
    "* Two step sequential: $\\frac{m }{(s - p_1)(s - p_2)}$\n",
    "* Branching: $\\frac{m (s + z)}{(s - p_1)(s - p_2)}$"
   ]
  },
  {
   "cell_type": "markdown",
   "id": "abf48584-47cf-407b-9ec0-53dc16d51c32",
   "metadata": {},
   "source": [
    "# Helpers"
   ]
  },
  {
   "cell_type": "code",
   "execution_count": 2,
   "id": "6aaeafde-ae1a-47cd-9b72-1b9cf2f331cc",
   "metadata": {},
   "outputs": [],
   "source": [
    "class PlotResult(object):\n",
    "\n",
    "    def __init__(self, times=None, yt=None, ax=None):\n",
    "        self.times = times\n",
    "        self.yt = yt\n",
    "        self.ax = ax\n",
    "        \n",
    "    def __repr__(self):\n",
    "        return \"\""
   ]
  },
  {
   "cell_type": "code",
   "execution_count": 3,
   "id": "72b73d6b-b02c-4bb7-8faf-fb8e75e5312b",
   "metadata": {},
   "outputs": [
    {
     "name": "stdout",
     "output_type": "stream",
     "text": [
      "OK!\n"
     ]
    }
   ],
   "source": [
    "def plotTF(tf, times=None, is_plot=True, figsize=(5,5)):\n",
    "    if times is None:\n",
    "        times = np.linspace(0, 10, 100)\n",
    "    _, yt = control.forced_response(tf, T=times, U=1)\n",
    "    if is_plot:\n",
    "        _, ax = plt.subplots(1, figsize=figsize)\n",
    "        ax.plot(times, yt)\n",
    "        ax.set_xlabel(\"time\")\n",
    "    else:\n",
    "        ax = None\n",
    "    return PlotResult(times=times, yt=yt, ax=ax)\n",
    "\n",
    "# Tests\n",
    "tf = control.TransferFunction([1], [1, 0])\n",
    "plot_result = plotTF(tf, is_plot=False)\n",
    "assert(isinstance(plot_result, PlotResult))\n",
    "print(\"OK!\")"
   ]
  },
  {
   "cell_type": "markdown",
   "id": "118e20ba-a9a4-4253-81d8-17237151132f",
   "metadata": {},
   "source": [
    "# Comparing Network Structures"
   ]
  },
  {
   "cell_type": "markdown",
   "id": "d6a7f1c0-43f3-4637-b823-e0f81c647e2e",
   "metadata": {},
   "source": [
    "**Research questions**\n",
    "1. When do two different network structures have the same behavior?\n",
    "2. What they have different behaviors, what are they?"
   ]
  },
  {
   "cell_type": "markdown",
   "id": "ce806d4f-474f-4c58-8e0e-f80337a8cd2d",
   "metadata": {},
   "source": [
    "## One Step vs.Two Step"
   ]
  },
  {
   "cell_type": "markdown",
   "id": "aaf5dfac-eda8-48f9-9301-79ed0ae92b51",
   "metadata": {},
   "source": [
    "1. What are we comparing between the networks? DC Gain? Settling time?\n",
    "1. How will we compare these two networks? That is, what are the factors that will vary."
   ]
  },
  {
   "cell_type": "markdown",
   "id": "61b6febc-d8c1-4188-9c58-9dbc6c972c60",
   "metadata": {},
   "source": [
    "## One Step vs. Branching"
   ]
  },
  {
   "cell_type": "markdown",
   "id": "7a16a945-935e-4097-aae7-f5912825c165",
   "metadata": {},
   "source": [
    "## Two Step vs. Branching"
   ]
  },
  {
   "cell_type": "markdown",
   "id": "ce745f1f-d764-43d6-b911-00aa1dc5c706",
   "metadata": {},
   "source": [
    "# NOTES"
   ]
  },
  {
   "cell_type": "markdown",
   "id": "9796eb17-83aa-4c61-ac53-3eb69b4d9fa5",
   "metadata": {},
   "source": [
    "1. Explore effect of network depth and branching.\n",
    "  1. What is transfer function\n",
    "  2. What is response\n",
    "  3. Effect of a dominante pole in a path\n",
    "1. Consider comparison of he 3 models.\n",
    "  1. When do they look the same?\n",
    "  2. When they differ, how?\n",
    "  3. Build computational framework to analyze"
   ]
  }
 ],
 "metadata": {
  "kernelspec": {
   "display_name": "Python 3 (ipykernel)",
   "language": "python",
   "name": "python3"
  },
  "language_info": {
   "codemirror_mode": {
    "name": "ipython",
    "version": 3
   },
   "file_extension": ".py",
   "mimetype": "text/x-python",
   "name": "python",
   "nbconvert_exporter": "python",
   "pygments_lexer": "ipython3",
   "version": "3.9.6"
  },
  "toc-autonumbering": false,
  "toc-showcode": false,
  "toc-showtags": true
 },
 "nbformat": 4,
 "nbformat_minor": 5
}
