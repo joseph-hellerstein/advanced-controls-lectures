{
 "cells": [
  {
   "cell_type": "markdown",
   "id": "b1229fec-e965-4858-b3e7-cf67e8645060",
   "metadata": {},
   "source": [
    "# BUILDING A CLOSED LOOP TESTBED"
   ]
  },
  {
   "cell_type": "markdown",
   "id": "1d364ff2-fbd9-4dfc-bce8-d070b1d57418",
   "metadata": {},
   "source": [
    "This notebook is an executeable narrative for building a closed loop testbed."
   ]
  },
  {
   "cell_type": "markdown",
   "id": "e86479e4-2c97-4061-b711-79887122f890",
   "metadata": {},
   "source": [
    "<img src=https://github.com/joseph-hellerstein/advanced-controls-lectures/raw/main/lectures/images/simple_feedback_nofilter.png/\n",
    "     width=\"600\">"
   ]
  },
  {
   "cell_type": "markdown",
   "id": "ea1ef56b-9c3d-4fbe-8202-151b8979a57b",
   "metadata": {},
   "source": [
    "# Preliminaries"
   ]
  },
  {
   "cell_type": "code",
   "execution_count": 1,
   "id": "f16d0f7a-d0c5-4f37-aa29-feed6d82a363",
   "metadata": {},
   "outputs": [],
   "source": [
    "from controlSBML import ControlSBML\n",
    "\n",
    "import control\n",
    "import matplotlib.pyplot as plt\n",
    "import numpy as np\n",
    "import pandas as pd\n",
    "import tellurium as te"
   ]
  },
  {
   "cell_type": "markdown",
   "id": "cad250c6-5048-4496-bf60-bbe97cc63e5f",
   "metadata": {},
   "source": [
    "# Helpers"
   ]
  },
  {
   "cell_type": "code",
   "execution_count": 3,
   "id": "e079a252-622f-430f-888d-d5c9ca25d72b",
   "metadata": {
    "id": "e079a252-622f-430f-888d-d5c9ca25d72b"
   },
   "outputs": [],
   "source": [
    "s = control.TransferFunction.s\n",
    "TIMES = np.linspace(0, 10, 100)"
   ]
  },
  {
   "cell_type": "code",
   "execution_count": 4,
   "id": "8ee2990c-01c5-49d6-8087-a5de36be1996",
   "metadata": {
    "id": "8ee2990c-01c5-49d6-8087-a5de36be1996"
   },
   "outputs": [],
   "source": [
    "TEST_MODEL = \"\"\"\n",
    "$S1 -> S2; k1*S1\n",
    "S2 -> S3; k2*S2\n",
    "\n",
    "S1 = 10\n",
    "S2 = 0\n",
    "S3 = 0\n",
    "k1 = 1\n",
    "k2 = 2\n",
    "\"\"\"\n",
    "TEST_RR = te.loada(TEST_MODEL)"
   ]
  },
  {
   "cell_type": "code",
   "execution_count": 5,
   "id": "67d895af-db33-453f-8191-e6a8a077b86e",
   "metadata": {
    "id": "67d895af-db33-453f-8191-e6a8a077b86e",
    "tags": []
   },
   "outputs": [],
   "source": [
    "k1 = TEST_RR[\"k1\"]\n",
    "k2 = TEST_RR[\"k2\"]\n",
    "tf = k1*k2/(s*(s+k2))"
   ]
  },
  {
   "cell_type": "code",
   "execution_count": 7,
   "id": "4fe43f17-10b0-4ced-947e-7835de1288be",
   "metadata": {
    "colab": {
     "base_uri": "https://localhost:8080/"
    },
    "id": "4fe43f17-10b0-4ced-947e-7835de1288be",
    "outputId": "20bbfc6d-8e03-4c36-c239-168a31233c3d"
   },
   "outputs": [
    {
     "name": "stdout",
     "output_type": "stream",
     "text": [
      "OK!\n"
     ]
    }
   ],
   "source": [
    "def plotModel(model, times=TIMES, is_plot=True, title=\"\", selections=None,\n",
    "              figsize=(5,5), ylim=None, **kwargs):\n",
    "    \"\"\"\n",
    "    Plots a model.\n",
    "\n",
    "    Args:\n",
    "       times: np.array\n",
    "       kwargs: values of parameters\n",
    "    Returns:\n",
    "       ExtendedRoadrunner\n",
    "    \"\"\"\n",
    "    rr = te.loada(model)\n",
    "    for key, value in kwargs.items():\n",
    "        rr[key] = value\n",
    "    if selections is None:\n",
    "        rr.simulate(times[0], times[-1], len(times))\n",
    "    else:\n",
    "        if not \"time\" in selections:\n",
    "            selections.insert(0, \"time\")\n",
    "        rr.simulate(times[0], times[-1], len(times), selections=selections)\n",
    "    if is_plot:\n",
    "        if ylim is None:\n",
    "            rr.plot(title=title, figsize=figsize)\n",
    "        else:\n",
    "            rr.plot(title=title, figsize=figsize, ylim=ylim)\n",
    "    return rr\n",
    "\n",
    "# TESTS\n",
    "plotModel(TEST_MODEL, k1=0.1, is_plot=False, selections=[\"S2\"], ylim=[0, 10])\n",
    "print(\"OK!\")"
   ]
  },
  {
   "cell_type": "markdown",
   "id": "cbe3b55a-ee9a-474f-85e7-8df9dac3c3ae",
   "metadata": {
    "tags": []
   },
   "source": [
    "# Models"
   ]
  },
  {
   "cell_type": "markdown",
   "id": "b6281ec3-f347-4cd3-b669-4808834f4a48",
   "metadata": {},
   "source": [
    "## Linear"
   ]
  },
  {
   "cell_type": "code",
   "execution_count": 143,
   "id": "64e2bdc6-baae-49d2-87d3-b742349b7595",
   "metadata": {},
   "outputs": [
    {
     "name": "stdout",
     "output_type": "stream",
     "text": [
      "OK!\n"
     ]
    }
   ],
   "source": [
    "LINEAR_MDL = \"\"\"\n",
    "S1 -> S2; k1*S1\n",
    "S2 -> S3; k2*S2\n",
    "S3 -> S4; k3*S3\n",
    "\n",
    "k1 = 2\n",
    "k2 = 1.5\n",
    "k3 = 1\n",
    "S1 = 10\n",
    "S2 = 0\n",
    "S3 = 0\n",
    "S4 = 0\n",
    "\"\"\"\n",
    "_ = te.loada(LINEAR_MDL)\n",
    "print(\"OK!\")"
   ]
  },
  {
   "cell_type": "markdown",
   "id": "93af9d72-7cbd-4c54-b589-7b5e6fce1640",
   "metadata": {},
   "source": [
    "## Wolf"
   ]
  },
  {
   "cell_type": "code",
   "execution_count": 6,
   "id": "58889135-f8e7-4bac-a5ac-6ec3e9e9d8a3",
   "metadata": {},
   "outputs": [],
   "source": [
    "WOLF_MODEL = \"\"\"\n",
    "// Created by libAntimony v2.13.2\n",
    "model *Wolf2000_Glycolytic_Oscillations()\n",
    "\n",
    "  // Compartments and Species:\n",
    "  compartment compartment_;\n",
    "  species s1 in compartment_, at_ in compartment_, s2 in compartment_, s3 in compartment_;\n",
    "  species na in compartment_, s4 in compartment_, s5 in compartment_, s6 in compartment_;\n",
    "  species s6o in compartment_;\n",
    "\n",
    "  // Reactions:\n",
    "  v1: s1 + 2 at_ -> s2; compartment_*k1*s1*at_/(1 + (at_/ki)^n);\n",
    "  v2: s2 -> 2 s3; compartment_*k2*s2;\n",
    "  v3: s3 + na -> s4 + at_; compartment_*((k31*k32*s3*na*(atot - at_) - k33*k34*s4*at_*(ntot - na))/(k33*(ntot - na) + k32*(atot - at_)));\n",
    "  v4: s4 -> s5 + at_; compartment_*k4*s4*(atot - at_);\n",
    "  v5: s5 -> s6; compartment_*k5*s5;\n",
    "  v7: at_ -> ; compartment_*k7*at_;\n",
    "  v8: s3 -> na; compartment_*k8*s3*(ntot - na);\n",
    "  v9: s6o -> ; compartment_*k9*s6o;\n",
    "  v10: s6 -> 0.1 s6o; compartment_*k10*(s6 - s6o);\n",
    "  v6: s6 -> na; compartment_*k6*s6*(ntot - na);\n",
    "  v0:  -> s1; compartment_*k0;\n",
    "\n",
    "  // Species initializations:\n",
    "  s1 = 1;\n",
    "  at_ = 2;\n",
    "  s2 = 5;\n",
    "  s3 = 0.6;\n",
    "  na = 0.6;\n",
    "  s4 = 0.7;\n",
    "  s5 = 8;\n",
    "  s6 = 0.08;\n",
    "  s6o = 0.02;\n",
    "\n",
    "  // Compartment initializations:\n",
    "  compartment_ = 1;\n",
    "\n",
    "  // Variable initializations:\n",
    "  k0 = 50;\n",
    "  k0 has mM_min_1;\n",
    "  k1 = 550;\n",
    "  k1 has mM_1_min_1;\n",
    "  k2 = 9.8;\n",
    "  k2 has min_1;\n",
    "  k31 = 323.8;\n",
    "  k31 has mM_1_min_1;\n",
    "  k33 = 57823.1;\n",
    "  k33 has mM_1_min_1;\n",
    "  k32 = 76411.1;\n",
    "  k32 has mM_1_min_1;\n",
    "  k34 = 23.7;\n",
    "  k34 has mM_1_min_1;\n",
    "  k4 = 80;\n",
    "  k4 has mM_1_min_1;\n",
    "  k5 = 9.7;\n",
    "  k5 has min_1;\n",
    "  k6 = 2000;\n",
    "  k6 has mM_1_min_1;\n",
    "  k7 = 28;\n",
    "  k7 has min_1;\n",
    "  k8 = 85.7;\n",
    "  k8 has mM_1_min_1;\n",
    "  k9 = 80;\n",
    "  k9 has min_1;\n",
    "  k10 = 375;\n",
    "  k10 has min_1;\n",
    "  atot = 4;\n",
    "  atot has mM;\n",
    "  ntot = 1;\n",
    "  ntot has mM;\n",
    "  n = 4;\n",
    "  n has dimensionless;\n",
    "  ki = 1;\n",
    "  ki has mM;\n",
    "\n",
    "  // Other declarations:\n",
    "  const compartment_, k0, k1, k2, k31, k33, k32, k34, k4, k5, k6, k7, k8;\n",
    "  const k9, k10, atot, ntot, n, ki;\n",
    "\n",
    "  // Unit definitions:\n",
    "  unit substance = 1e-3 mole;\n",
    "  unit time_unit = 60 second;\n",
    "  unit mM = 1e-3 mole / litre;\n",
    "  unit mM_min_1 = 1e-3 mole / (litre * 60 second);\n",
    "  unit min_1 = 1 / 60 second;\n",
    "  unit mM_1_min_1 = litre / (1e-3 mole * 60 second);\n",
    "\n",
    "  // Display Names:\n",
    "  substance is \"milli mole\";\n",
    "  time_unit is \"min\";\n",
    "  compartment_ is \"compartment\";\n",
    "  s1 is \"Glucose\";\n",
    "  at_ is \"ATP\";\n",
    "  s2 is \"F16P\";\n",
    "  s3 is \"Triose_Gly3Phos_DHAP\";\n",
    "  na is \"NAD\";\n",
    "  s4 is \"3PG\";\n",
    "  s5 is \"Pyruvate\";\n",
    "  s6 is \"Acetaldehyde\";\n",
    "  s6o is \"extracellular acetaldehyde\";\n",
    "\n",
    "  // CV terms:\n",
    "  s1 identity \"http://identifiers.org/obo.chebi/CHEBI:17234\",\n",
    "              \"http://identifiers.org/kegg.compound/C00293\"\n",
    "  at_ identity \"http://identifiers.org/obo.chebi/CHEBI:15422\",\n",
    "               \"http://identifiers.org/kegg.compound/C00002\"\n",
    "  s2 identity \"http://identifiers.org/obo.chebi/CHEBI:16905\",\n",
    "              \"http://identifiers.org/kegg.compound/C05378\"\n",
    "  s3 part \"http://identifiers.org/obo.chebi/CHEBI:16108\",\n",
    "          \"http://identifiers.org/obo.chebi/CHEBI:29052\",\n",
    "          \"http://identifiers.org/kegg.compound/C00111\",\n",
    "          \"http://identifiers.org/kegg.compound/C00118\"\n",
    "  na identity \"http://identifiers.org/obo.chebi/CHEBI:15846\",\n",
    "              \"http://identifiers.org/kegg.compound/C00003\"\n",
    "  s4 identity \"http://identifiers.org/obo.chebi/CHEBI:17794\",\n",
    "              \"http://identifiers.org/kegg.compound/C00197\"\n",
    "  s5 identity \"http://identifiers.org/kegg.compound/C00022\",\n",
    "              \"http://identifiers.org/chebi/CHEBI:32816\"\n",
    "  s5 identity \"http://identifiers.org/obo.chebi/CHEBI:15361\"\n",
    "  s6 identity \"http://identifiers.org/obo.chebi/CHEBI:15343\",\n",
    "              \"http://identifiers.org/kegg.compound/C00084\"\n",
    "  s6o identity \"http://identifiers.org/obo.chebi/CHEBI:15343\",\n",
    "               \"http://identifiers.org/kegg.compound/C00084\"\n",
    "  v1 part \"http://identifiers.org/kegg.reaction/R00756\",\n",
    "          \"http://identifiers.org/kegg.reaction/R00299\"\n",
    "  v1 part \"http://identifiers.org/ec-code/2.7.1.11\",\n",
    "          \"http://identifiers.org/ec-code/5.3.1.9\"\n",
    "  v2 identity \"http://identifiers.org/ec-code/4.1.2.13\",\n",
    "              \"http://identifiers.org/kegg.reaction/R01070\"\n",
    "  v3 part \"http://identifiers.org/ec-code/2.7.2.3\",\n",
    "          \"http://identifiers.org/ec-code/1.2.1.12\"\n",
    "  v4 part \"http://identifiers.org/kegg.reaction/R00658\",\n",
    "          \"http://identifiers.org/kegg.reaction/R00200\"\n",
    "  v4 part \"http://identifiers.org/ec-code/2.7.1.40\"\n",
    "  v5 hypernym \"http://identifiers.org/ec-code/4.1.1.1\",\n",
    "              \"http://identifiers.org/kegg.reaction/R00224\"\n",
    "  v7 hypernym \"http://identifiers.org/obo.go/GO:0006754\"\n",
    "  v8 part \"http://identifiers.org/kegg.reaction/R05679\"\n",
    "  v9 hypernym \"http://identifiers.org/obo.go/GO:0046187\"\n",
    "  v6 hypernym \"http://identifiers.org/ec-code/1.1.1.71\",\n",
    "              \"http://identifiers.org/kegg.reaction/R00754\"\n",
    "  v0 hypernym \"http://identifiers.org/obo.go/GO:0046323\"\n",
    "\n",
    "\n",
    "end\n",
    "\n",
    "Wolf2000_Glycolytic_Oscillations is \"Wolf2000_Glycolytic_Oscillations\"\n",
    "\n",
    "Wolf2000_Glycolytic_Oscillations model_entity_is \"http://identifiers.org/biomodels.db/MODEL3352181362\"\n",
    "Wolf2000_Glycolytic_Oscillations model_entity_is \"http://identifiers.org/biomodels.db/BIOMD0000000206\"\n",
    "Wolf2000_Glycolytic_Oscillations description \"http://identifiers.org/pubmed/10692304\"\n",
    "Wolf2000_Glycolytic_Oscillations taxon \"http://identifiers.org/taxonomy/4932\"\n",
    "Wolf2000_Glycolytic_Oscillations hypernym \"http://identifiers.org/obo.go/GO:0006096\"\n",
    "Wolf2000_Glycolytic_Oscillations identity \"http://identifiers.org/kegg.pathway/sce00010\"\n",
    "\n",
    "\n",
    "\"\"\""
   ]
  },
  {
   "cell_type": "markdown",
   "id": "fdab7abc-c822-407b-b401-1d5ad96dfa4f",
   "metadata": {},
   "source": [
    "# Coding the Closed Loop"
   ]
  },
  {
   "cell_type": "markdown",
   "id": "a2f550f3-6e77-49e3-8a18-20c786861e27",
   "metadata": {},
   "source": [
    "<img src=https://github.com/joseph-hellerstein/advanced-controls-lectures/raw/main/lectures/images/simple_feedback_nofilter.png/\n",
    "     width=\"600\">"
   ]
  },
  {
   "cell_type": "code",
   "execution_count": 145,
   "id": "ec3f0ae1-d683-4f78-a8d2-73ee389d27d1",
   "metadata": {},
   "outputs": [],
   "source": [
    "OLS = \"\"\"\n",
    "S1 -> S2; k1*S1\n",
    "S2 -> S3; k2*S2\n",
    "S3 -> S4; k3*S3\n",
    "\n",
    "k1 = 2\n",
    "k2 = 1.5\n",
    "k3 = 1\n",
    "S1 = 10\n",
    "S2 = 0\n",
    "S3 = 0\n",
    "S4 = 0\n",
    "\"\"\""
   ]
  },
  {
   "cell_type": "markdown",
   "id": "10b9df24-88a4-4ba9-a62e-4265fe50d831",
   "metadata": {},
   "source": [
    "Open loop system?\n",
    "1. Input: \n",
    "1. Output:\n",
    "\n",
    "Closed loop system?\n",
    "1. Input:\n",
    "1. Output: \n",
    "1. Controller parameters:"
   ]
  },
  {
   "cell_type": "markdown",
   "id": "4f27c511-8cdf-4058-9d80-54e99322c04d",
   "metadata": {},
   "source": [
    "How do we augment the Antimony code to create a PI controller?\n",
    "1. Antimony parameters for $k_P$, $k_I$, setpoint\n",
    "1. Calculate control error\n",
    "1. Calculate integral control error\n",
    "1. Calculate OLS input"
   ]
  },
  {
   "cell_type": "code",
   "execution_count": 146,
   "id": "e535f380-3028-42b1-a145-001295088295",
   "metadata": {},
   "outputs": [
    {
     "data": {
      "image/png": "[encoded data removed]",
      "text/plain": [
       "<Figure size 600x400 with 1 Axes>"
      ]
     },
     "metadata": {},
     "output_type": "display_data"
    }
   ],
   "source": [
    "CLS = \"\"\"\n",
    "// Start with the OLS\n",
    "S1 -> S2; k1*S1\n",
    "S2 -> S3; k2*S2\n",
    "S3 -> S4; k3*S3\n",
    "\n",
    "k1 = 2\n",
    "k2 = 1.5\n",
    "k3 = 1\n",
    "S1 = 10\n",
    "S2 = 0\n",
    "S3 = 0\n",
    "S4 = 0\n",
    "\n",
    "// Parameters in CLS\n",
    "\n",
    "\n",
    "// Controller\n",
    "\n",
    "\"\"\"\n",
    "rr = te.loada(CLS)\n",
    "rr.simulate()\n",
    "rr.plot()"
   ]
  },
  {
   "cell_type": "markdown",
   "id": "c0b34626-58b6-436e-916b-8fc130a450bd",
   "metadata": {},
   "source": [
    "# Manipulating Antimony Files"
   ]
  },
  {
   "cell_type": "code",
   "execution_count": 133,
   "id": "4639fbd0-53c4-4b7a-80b6-87d06df4a1a9",
   "metadata": {},
   "outputs": [
    {
     "data": {
      "image/png": "[encoded data removed]",
      "text/plain": [
       "<Figure size 600x400 with 1 Axes>"
      ]
     },
     "metadata": {},
     "output_type": "display_data"
    },
    {
     "name": "stdout",
     "output_type": "stream",
     "text": [
      "OK!\n"
     ]
    }
   ],
   "source": [
    "# Create control model\n",
    "def makeControlModel(model, input_name, output_name, sign=1):\n",
    "    \"\"\"\n",
    "    Adds code to create a P-controller. Adds variables for kP and setpoint.\n",
    "    \n",
    "    Args:\n",
    "       model: antimony\n",
    "       input_name: (str) name of input species\n",
    "       output_name: (str) name of output species\n",
    "       sign: (int) directional effect of control\n",
    "           +1: output increases with increase in input\n",
    "           -1: output decreases with increase in input\n",
    "    Returns: str\n",
    "    \"\"\"\n",
    "    end_pos = model.index(\"end\")\n",
    "    model_front = model[:end_pos]\n",
    "    model_back = model[end_pos:]\n",
    "\n",
    "    control_logic = \"\"\"\n",
    "\n",
    "    #vvvv start control logic\n",
    "    setpoint = 1\n",
    "    kP = 1\n",
    "    kI = 0\n",
    "\n",
    "    const %s\n",
    "    control_error := %d*(setpoint - %s)\n",
    "    integral_control_error = 0\n",
    "    integral_control_error' = control_error\n",
    "    $%s := kP*control_error + kI*integral_control_error\n",
    "\n",
    "\n",
    "    #^^^^ end control logic\n",
    "    \"\"\" % (input_name, sign, output_name, input_name)\n",
    "    return model_front + control_logic + model_back\n",
    "    \n",
    "# TESTS\n",
    "is_plot = True\n",
    "control_model = makeControlModel(WOLF_MODEL, \"s1\", \"s5\", sign=-1)\n",
    "rr = te.loada(control_model)\n",
    "rr[\"kP\"] = 0.001\n",
    "rr[\"kI\"] = 0.0001\n",
    "rr[\"setpoint\"] = 8\n",
    "rr.simulate(0, 200, 2000, selections=[\"time\", \"setpoint\", \"s5\"])\n",
    "if is_plot:\n",
    "    rr.plot(ylim=[0, 10], xlabel=\"time\")\n",
    "print(\"OK!\")"
   ]
  },
  {
   "cell_type": "markdown",
   "id": "a608a843-3822-4bf6-91ab-07fa42e2b913",
   "metadata": {},
   "source": [
    "# Testbed Builder"
   ]
  },
  {
   "cell_type": "markdown",
   "id": "d257c572-c207-4631-9b65-7cf873df4b24",
   "metadata": {},
   "source": [
    "Function that adds PI control to an Antimony model that is the OLS."
   ]
  },
  {
   "cell_type": "code",
   "execution_count": 147,
   "id": "bf0da80b-94e6-4a86-b7b9-5a6b97f28b9f",
   "metadata": {},
   "outputs": [],
   "source": [
    "def buildPITestbed(model, input_name, output_name, sign=1):\n",
    "    \"\"\"\n",
    "    Creates an Antimony model of a PI controller using model as the open loop system.\n",
    "    The resulting model as Antimony parameters for the setpoint, kP, kI. Assumes that\n",
    "    this is a modular model (has an \"end\" statement).\n",
    "    \n",
    "    Args:\n",
    "        model: str (Antimony model of OLS)\n",
    "        input_name: str (name of a species in the OLS)\n",
    "        output_name: str (name of a species in the OLS)\n",
    "        sign: int (directional effect of input on output)\n",
    "        \n",
    "    Returns:\n",
    "        str (Antimony model)\n",
    "    \"\"\"\n",
    "    # Partition the model\n",
    "    end_pos = model.index(\"end\")\n",
    "    if end_pos < 0:\n",
    "        raise ValueError(\"Could not find the 'end' statement. Not a modular model?\")\n",
    "    model_front = model[:end_pos]\n",
    "    model_back = model[end_pos:]\n",
    "\n",
    "    control_logic = \"\"\"\n",
    "\n",
    "\n",
    "    #vvvv start control logic\n",
    "    setpoint = 1\n",
    "    kP = 1\n",
    "    kI = 0\n",
    "\n",
    "    const %s\n",
    "    control_error := %d*(setpoint - %s)\n",
    "    integral_control_error = 0\n",
    "    integral_control_error' = control_error\n",
    "    $%s := kP*control_error + kI*integral_control_error\n",
    "    \n",
    "    #^^^^ end control logic\n",
    "    \n",
    "    \n",
    "    \"\"\" % (input_name, sign, output_name, input_name)\n",
    "    return model_front + control_logic + model_back\n",
    "    \n",
    "# TESTS\n",
    "is_plot = True\n",
    "control_model = makeControlModel(WOLF_MODEL, \"s1\", \"s5\", sign=-1)\n",
    "rr = te.loada(control_model)\n",
    "rr[\"kP\"] = 0.001\n",
    "rr[\"kI\"] = 0.0001\n",
    "rr[\"setpoint\"] = 8\n",
    "rr.simulate(0, 200, 2000, selections=[\"time\", \"setpoint\", \"s5\"])\n",
    "if is_plot:\n",
    "    rr.plot(ylim=[0, 10], xlabel=\"time\")\n",
    "print(\"OK!\")"
   ]
  },
  {
   "cell_type": "code",
   "execution_count": 142,
   "id": "8f1f117d-fe80-4e8b-ae04-8474b7d373e8",
   "metadata": {},
   "outputs": [
    {
     "data": {
      "text/plain": [
       "(0.0, 10.0)"
      ]
     },
     "execution_count": 142,
     "metadata": {},
     "output_type": "execute_result"
    },
    {
     "data": {
      "image/png": "[encoded data removed]",
      "text/plain": [
       "<Figure size 640x480 with 1 Axes>"
      ]
     },
     "metadata": {},
     "output_type": "display_data"
    }
   ],
   "source": [
    "control_model = makeControlModel(WOLF_MODEL, \"at_\", \"s5\", sign=1)\n",
    "rr = te.loada(control_model)\n",
    "setpoint = 8\n",
    "rr[\"kP\"] = 0.1\n",
    "rr[\"kI\"] = 0.01\n",
    "rr[\"setpoint\"] = setpoint\n",
    "data = rr.simulate(0, 100, 1000, selections=[\"time\", \"[s5]\", \"control_error\", \"integral_control_error\"])\n",
    "times = data[\"time\"]\n",
    "#plt.plot(data[\"time\"], data[\"[s1]\"])\n",
    "plt.plot(times, data[\"[s5]\"])\n",
    "plt.plot(times, data[\"control_error\"])\n",
    "plt.plot([times[0], times[-1]], [setpoint, setpoint])\n",
    "plt.legend([\"s5\", \"control_error\", \"setpoint\"])\n",
    "plt.ylim([0, 10])"
   ]
  },
  {
   "cell_type": "markdown",
   "id": "4cbd5209-f87d-4363-b3e8-762d17095275",
   "metadata": {},
   "source": [
    "This step designs a closed loop system that achieves our control objectives."
   ]
  },
  {
   "cell_type": "markdown",
   "id": "c03eb97a-eab5-495b-9f99-a7052a3ee493",
   "metadata": {},
   "source": [
    "# Running the Testbed"
   ]
  },
  {
   "cell_type": "markdown",
   "id": "9ee6bffc-7a51-4675-a4df-150f111fb7d3",
   "metadata": {},
   "source": [
    "# Alternative Control Logic"
   ]
  },
  {
   "cell_type": "code",
   "execution_count": 161,
   "id": "451b5640-3eb3-415a-ab49-e0271750bceb",
   "metadata": {},
   "outputs": [
    {
     "data": {
      "image/png": "[encoded data removed]",
      "text/plain": [
       "<Figure size 600x400 with 1 Axes>"
      ]
     },
     "metadata": {},
     "output_type": "display_data"
    }
   ],
   "source": [
    "CONTROL_LINEAR_MDL2 = \"\"\"\n",
    "// Start with the OLS\n",
    "S1 -> S2; k1*S1\n",
    "S2 -> S3; k2*S2\n",
    "S3 -> S4; k3*S3\n",
    "\n",
    "k1 = 2\n",
    "k2 = 1.5\n",
    "k3 = 1\n",
    "S1 = 10\n",
    "S2 = 0\n",
    "S3 = 0\n",
    "S4 = 0\n",
    "\n",
    "# Add a cascade\n",
    "const S1\n",
    "S4 -> ; kc1*S4\n",
    "kc1 = 2\n",
    "\n",
    "\n",
    "\"\"\"\n",
    "rr = te.loada(CONTROL_LINEAR_MDL2)\n",
    "rr.simulate(0, 100, 1000)\n",
    "rr.plot()"
   ]
  }
 ],
 "metadata": {
  "kernelspec": {
   "display_name": "Python 3 (ipykernel)",
   "language": "python",
   "name": "python3"
  },
  "language_info": {
   "codemirror_mode": {
    "name": "ipython",
    "version": 3
   },
   "file_extension": ".py",
   "mimetype": "text/x-python",
   "name": "python",
   "nbconvert_exporter": "python",
   "pygments_lexer": "ipython3",
   "version": "3.9.6"
  }
 },
 "nbformat": 4,
 "nbformat_minor": 5
}
