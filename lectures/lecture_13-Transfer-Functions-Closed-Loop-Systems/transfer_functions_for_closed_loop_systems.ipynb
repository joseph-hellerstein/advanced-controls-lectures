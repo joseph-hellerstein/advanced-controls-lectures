{
 "cells": [
  {
   "cell_type": "markdown",
   "id": "b1229fec-e965-4858-b3e7-cf67e8645060",
   "metadata": {},
   "source": [
    "# TRANSFER FUNCTIONS FOR CLOSED LOOP SYSTEMS"
   ]
  },
  {
   "cell_type": "markdown",
   "id": "1d364ff2-fbd9-4dfc-bce8-d070b1d57418",
   "metadata": {},
   "source": [
    "This notebook discusses how to create a transfer function for a closed loop including analysis of the resulting transfer function."
   ]
  },
  {
   "cell_type": "markdown",
   "id": "ea1ef56b-9c3d-4fbe-8202-151b8979a57b",
   "metadata": {},
   "source": [
    "# Preliminaries"
   ]
  },
  {
   "cell_type": "code",
   "execution_count": 1,
   "id": "f16d0f7a-d0c5-4f37-aa29-feed6d82a363",
   "metadata": {},
   "outputs": [],
   "source": [
    "import control\n",
    "import controlSBML as ctl\n",
    "import numpy as np\n",
    "import pandas as pd\n",
    "import matplotlib.pyplot as plt\n",
    "import sympy\n",
    "import tellurium as te\n",
    "from IPython.display import Image"
   ]
  },
  {
   "cell_type": "markdown",
   "id": "c71fe33a-00d0-4130-9518-6b82ad2d6a78",
   "metadata": {},
   "source": [
    "<img src=\"https://raw.github.com/joseph-hellerstein/advanced-controls-lectures/main/lectures/images/simple_feedback_nofilter.png\"\n",
    "     alt=\"Markdown Monster icon\" \n",
    "     width=\"400\" height=\"500\"\n",
    "     style=\"float: left; margin-right: 10px;\" />"
   ]
  },
  {
   "cell_type": "markdown",
   "id": "0e7d2c57-2575-4406-92fe-03ba287554f4",
   "metadata": {},
   "source": [
    "The starting point for transfer function analysis is to identify the system or systems to\n",
    "be analyzed.\n",
    "Here, we only consider single input single output (SISO) systems.\n",
    "So, we need to identify which input/output relationships are of interest.\n",
    "\n",
    "| Input  | Output | Why of interest?        | Desired DC Gain | Desired poles |\n",
    "|--------|--------|-------------------------|-----------------|---------------|\n",
    "| $r(t)$ | $m(t)$ | convergence to set point| 1               | very negative |\n",
    "| $n(t)$ | $m(t)$ | influence of noise      | 0               | very negative |\n",
    "| $d(t)$ | $m(t)$ | influence of disturbance| 0               | very negative |\n",
    "| $r(t)$ | $e(t)$ | convergence to set point| 0               | very negative |\n",
    "| $n(t)$ | $e(t)$ | influence of noise      | 0               | very negative |\n",
    "| $d(t)$ | $e(t)$ | influence of disturbance| 0               | very negative |\n",
    "\n",
    "Some other considerations:\n",
    "1. Will the OLS always be within the operating region we designed for its input?\n",
    "1. What are the maximum magnitudes of $d(t)$ and $n(t)$?\n",
    "1. What trade-offs can we accepts?\n",
    "    1. Achieved desired DC Gain but have oscillations? \n",
    "    1. Achieved desired DC Gain but have longer settling times?"
   ]
  },
  {
   "cell_type": "markdown",
   "id": "da43c744-1dbf-44b3-981d-ee9be4451d62",
   "metadata": {},
   "source": [
    "<img src=\"https://raw.github.com/joseph-hellerstein/advanced-controls-lectures/main/lectures/images/simple_feedback_nofilter.png\"\n",
    "     alt=\"Markdown Monster icon\" \n",
    "     width=\"400\" height=\"500\"\n",
    "     style=\"float: left; margin-right: 10px;\" />"
   ]
  },
  {
   "cell_type": "markdown",
   "id": "4a059482-11e5-4ee9-96b9-4aaf3c1be9a2",
   "metadata": {},
   "source": [
    "## Note on notation\n",
    "When we're talking about a system in isolation (e.g., a controller, a filter, an open loop system),\n",
    "we use $u(t)$ for the input signal and $y(t)$ for the output signal."
   ]
  },
  {
   "cell_type": "markdown",
   "id": "4ad1b471-5f20-4f08-99e3-71c12a7c4c30",
   "metadata": {},
   "source": [
    "# Helpers"
   ]
  },
  {
   "cell_type": "code",
   "execution_count": 3,
   "id": "4635117f-c25b-4b5e-b96b-6c9f1c0991d7",
   "metadata": {},
   "outputs": [],
   "source": [
    "TIMES = np.linspace(0, 10, 100)"
   ]
  },
  {
   "cell_type": "code",
   "execution_count": 4,
   "id": "238bb2e0-1786-4c4e-94fb-67c00ca006c0",
   "metadata": {},
   "outputs": [
    {
     "ename": "AttributeError",
     "evalue": "'ControlSBML' object has no attribute 'makeNonlinearIOSystem'",
     "output_type": "error",
     "traceback": [
      "\u001b[0;31m---------------------------------------------------------------------------\u001b[0m",
      "\u001b[0;31mAttributeError\u001b[0m                            Traceback (most recent call last)",
      "Cell \u001b[0;32mIn[4], line 14\u001b[0m\n\u001b[1;32m      1\u001b[0m TEST_MODEL \u001b[38;5;241m=\u001b[39m \u001b[38;5;124m\"\"\"\u001b[39m\n\u001b[1;32m      2\u001b[0m \u001b[38;5;124mspecies S1, S2, S3\u001b[39m\n\u001b[1;32m      3\u001b[0m \n\u001b[0;32m   (...)\u001b[0m\n\u001b[1;32m     11\u001b[0m \u001b[38;5;124mk2 =2\u001b[39m\n\u001b[1;32m     12\u001b[0m \u001b[38;5;124m\"\"\"\u001b[39m\n\u001b[1;32m     13\u001b[0m ctlsb \u001b[38;5;241m=\u001b[39m ctl\u001b[38;5;241m.\u001b[39mControlSBML(TEST_MODEL, input_names\u001b[38;5;241m=\u001b[39m[\u001b[38;5;124m\"\u001b[39m\u001b[38;5;124mS1\u001b[39m\u001b[38;5;124m\"\u001b[39m, \u001b[38;5;124m\"\u001b[39m\u001b[38;5;124mS2\u001b[39m\u001b[38;5;124m\"\u001b[39m], output_names\u001b[38;5;241m=\u001b[39m[\u001b[38;5;124m\"\u001b[39m\u001b[38;5;124mS3\u001b[39m\u001b[38;5;124m\"\u001b[39m])\n\u001b[0;32m---> 14\u001b[0m TEST_SYS \u001b[38;5;241m=\u001b[39m \u001b[43mctlsb\u001b[49m\u001b[38;5;241;43m.\u001b[39;49m\u001b[43mmakeNonlinearIOSystem\u001b[49m(\u001b[38;5;124m\"\u001b[39m\u001b[38;5;124mTEST_SYS\u001b[39m\u001b[38;5;124m\"\u001b[39m)\n",
      "\u001b[0;31mAttributeError\u001b[0m: 'ControlSBML' object has no attribute 'makeNonlinearIOSystem'"
     ]
    }
   ],
   "source": [
    "TEST_MODEL = \"\"\"\n",
    "species S1, S2, S3\n",
    "\n",
    "S1 -> S2; k1*S1\n",
    "S2 -> S3; k2*S2\n",
    "\n",
    "S1 = 10\n",
    "S2 = 0\n",
    "S3 = 0\n",
    "k1 = 1\n",
    "k2 =2\n",
    "\"\"\"\n",
    "ctlsb = ctl.ControlSBML(TEST_MODEL, input_names=[\"S1\", \"S2\"], output_names=[\"S3\"])\n",
    "TEST_SYS = ctlsb.makeNonlinearIOSystem(\"TEST_SYS\")"
   ]
  },
  {
   "cell_type": "code",
   "execution_count": null,
   "id": "76d36be8-b450-4ff1-b407-703ebd6a4d5b",
   "metadata": {},
   "outputs": [],
   "source": [
    "class PlotResult(object):\n",
    "    def __init__(self, times = None, y_arr=None, ax=None):\n",
    "        self.times = times\n",
    "        self.y_arr = y_arr\n",
    "        self.ax = ax\n",
    "        \n",
    "    def __repr__(self):\n",
    "        return \"\""
   ]
  },
  {
   "cell_type": "markdown",
   "id": "829c9a7b-f145-495b-af11-d85a3bf49536",
   "metadata": {},
   "source": [
    "## ``plotSys``"
   ]
  },
  {
   "cell_type": "code",
   "execution_count": null,
   "id": "fd024d2f-7557-4d6f-b02d-8c366ff24ee5",
   "metadata": {},
   "outputs": [],
   "source": [
    "def plotSys(sys, times=None, initial_values=None, forced_input=None,\n",
    "            title=\"\", ax=None, output_labels=None, figsize=None,\n",
    "            ylim=None, is_legend=True, is_plot=True):\n",
    "    \"\"\"\n",
    "    Plots the system, either a NonlinearIOSystem or a TransferFunction.\n",
    "    \n",
    "    Parameters\n",
    "    ----------\n",
    "    sys: NonlinearIOSystem or TransferFunction\n",
    "    times: list-float (times for simulation)\n",
    "    initial_values: list-float\n",
    "    forced_input: list-float (default is step)\n",
    "    figsize: (int, int)\n",
    "    ax: matplotlib.Axes\n",
    "    output_labels: list-str (names for output labels)\n",
    "    title: str (plot title)\n",
    "    is_legend: bool (include legend)\n",
    "    \n",
    "    Returns\n",
    "    -------\n",
    "    PlotResut\n",
    "    \"\"\"\n",
    "    if \"NonlinearIOSystem\" in str(type(sys)):\n",
    "        is_nonlinear = True\n",
    "    else:\n",
    "        is_nonlinear = False\n",
    "    if times is None:\n",
    "        times = TIMES\n",
    "    if forced_input is None:\n",
    "        ncol = len(times)\n",
    "        nrow = len(sys.input_labels)\n",
    "        forced_input = np.array([np.repeat(1, nrow) for _ in range(ncol)])\n",
    "        forced_input = np.reshape(forced_input, (nrow, ncol))\n",
    "    if (initial_values is None) and is_nonlinear:\n",
    "        initial_values = ctl.makeStateVector(sys)\n",
    "    if figsize is None:\n",
    "        figsize = (5, 5)\n",
    "    if ax is None:\n",
    "        _, ax = plt.subplots(1, figsize=figsize)\n",
    "    if output_labels is None:\n",
    "        if len(sys.output_labels) == 1:\n",
    "            output_labels = [\"y\"]\n",
    "        else:\n",
    "            output_labels = list(sys.output_labels)\n",
    "    # Simulate the system\n",
    "    if is_nonlinear:\n",
    "        t, y = control.input_output_response(sys, times, forced_input, initial_values)\n",
    "    else:\n",
    "        t, y = control.forced_response(sys, T=times, U=forced_input)\n",
    "    # Plot the response\n",
    "    num_output = len(output_labels)\n",
    "    if num_output == 1:\n",
    "        if y.ndim == 1:\n",
    "            plt.plot(t, y)\n",
    "        else:\n",
    "            plt.plot(t, y[0])\n",
    "    else:\n",
    "        for idx in range(num_output):\n",
    "            ax.plot(t, y[idx])\n",
    "    if is_legend:\n",
    "        ax.legend(output_labels)\n",
    "    ax.set_xlabel(\"time\")\n",
    "    ax.set_title(title)\n",
    "    if ylim is not None:\n",
    "        ax.set_ylim(ylim)\n",
    "    if not is_plot:\n",
    "        plt.close()\n",
    "    return PlotResult(times=t, y_arr=y, ax=ax)\n",
    "    \n",
    "# Tests\n",
    "times = T = np.linspace(0, 70, 500)\n",
    "plot_result = plotSys(TEST_SYS, times, is_plot=False)\n",
    "assert(len(plot_result.times) == len(plot_result.y_arr[0]))\n",
    "#\n",
    "numerator = 5\n",
    "tf = control.TransferFunction([numerator], [1])\n",
    "plot_result = plotSys(tf, times, forced_input=1, is_plot=False)\n",
    "assert(len(plot_result.times) == len(plot_result.y_arr))\n",
    "assert(plot_result.y_arr[0] == numerator)\n",
    "print(\"OK!\")"
   ]
  },
  {
   "cell_type": "markdown",
   "id": "0d306dc0-94c6-4935-b30f-43c85daf719c",
   "metadata": {},
   "source": [
    "# Models"
   ]
  },
  {
   "cell_type": "markdown",
   "id": "23bfbc8a-968d-4117-89ad-54201cb7075c",
   "metadata": {},
   "source": [
    "## Linear"
   ]
  },
  {
   "cell_type": "code",
   "execution_count": null,
   "id": "64e2bdc6-baae-49d2-87d3-b742349b7595",
   "metadata": {},
   "outputs": [],
   "source": [
    "LINEAR_MDL = \"\"\"\n",
    "S1 -> S2; k1*S1\n",
    "S2 -> S3; k2*S2\n",
    "S3 -> S4; k3*S3\n",
    "\n",
    "k1 = 2\n",
    "k2 = 1.5\n",
    "k3 = 1\n",
    "S1 = 10\n",
    "S2 = 0\n",
    "S3 = 0\n",
    "S4 = 0\n",
    "\"\"\"\n",
    "ctlsb = ctl.ControlSBML(LINEAR_MDL, input_names=[\"S1\"], output_names=[\"S3\"])\n",
    "LINEAR_BLDR = ctlsb.makeSISOTransferFunctionBuilder(system_name=\"linear_sys\")\n",
    "_ = plotSys(LINEAR_BLDR.sys, figsize=(3,3), output_labels=[\"S3\"])"
   ]
  },
  {
   "cell_type": "markdown",
   "id": "befcac53-6e6c-411a-88de-c489a705088e",
   "metadata": {},
   "source": [
    "## Wolf"
   ]
  },
  {
   "cell_type": "code",
   "execution_count": null,
   "id": "39babf1d-45f8-4188-9010-831b134590f4",
   "metadata": {},
   "outputs": [],
   "source": [
    "ctlsb = ctl.ControlSBML(\"https://www.ebi.ac.uk/biomodels/model/download/BIOMD0000000206.2?filename=BIOMD0000000206_url.xml\", \n",
    "                        input_names=[\"at\"], output_names=[\"s5\"])\n",
    "WOLF_BLDR = ctlsb.makeSISOTransferFunctionBuilder(system_name=\"wolf_sys\")\n",
    "_ = plotSys(WOLF_BLDR.sys, figsize=(3,3), output_labels=[\"s5\"])"
   ]
  },
  {
   "cell_type": "markdown",
   "id": "dec4aceb-3950-4b6d-9a6f-b9e05e61e321",
   "metadata": {},
   "source": [
    "# Transfer Functions for PID Controller"
   ]
  },
  {
   "cell_type": "markdown",
   "id": "4cf10388-24c2-4f8b-ab5b-3c69e6e09bd4",
   "metadata": {},
   "source": [
    "The controllers considered here are systems that input the control error and produce a control signal used\n",
    "to regulate the system under control.\n",
    "The input signal is $e(t)$ and the output signal is $u(t)$."
   ]
  },
  {
   "cell_type": "markdown",
   "id": "0cb83310-95a8-43bb-a386-5ec577e55c7e",
   "metadata": {},
   "source": [
    "## P Controller"
   ]
  },
  {
   "cell_type": "markdown",
   "id": "54f8cd0d-a5b9-40e7-9040-f08981b74df7",
   "metadata": {},
   "source": [
    "A **proportional controller** has the parameter $k_P$.\n",
    "This controller outputs a signal that is proportional to the control error.\n",
    "That is, for this system, the input $u(t)$ is the control error and the output $y(t)$ is the control input to the OLS."
   ]
  },
  {
   "cell_type": "markdown",
   "id": "8785bb72-6fcf-470c-80c4-825da629d6fe",
   "metadata": {},
   "source": [
    "**State and Output Equations**\n",
    "1. There is no state, and so there is no state equation.\n",
    "1. Output equation: $y(t) = k_P u(t)$."
   ]
  },
  {
   "cell_type": "markdown",
   "id": "b728722d-6224-413f-b1c5-40c469b54c39",
   "metadata": {},
   "source": [
    "**Laplace Transforms**\n",
    "1. $Y(s) = k_P U(s)$"
   ]
  },
  {
   "cell_type": "markdown",
   "id": "d2012956-8432-40a7-a62f-82aac08aad6d",
   "metadata": {},
   "source": [
    "**Transfer Functions**\n",
    "1. $G_P(s) = \\frac{Y(s)}{U(s)} = k_P$"
   ]
  },
  {
   "cell_type": "code",
   "execution_count": null,
   "id": "c7471645-56bd-4ee0-be76-04a11a9fc527",
   "metadata": {},
   "outputs": [],
   "source": [
    "# Construct the transfer function\n",
    "kP = 5\n",
    "gp_tf = control.TransferFunction([kP], [1])\n",
    "plotSys(gp_tf, forced_input=1, figsize=(2,2))"
   ]
  },
  {
   "cell_type": "markdown",
   "id": "2ec2184b-e335-4d10-8bea-2e67137acd17",
   "metadata": {},
   "source": [
    "## I Controller"
   ]
  },
  {
   "cell_type": "markdown",
   "id": "fe49cf3e-42b6-4d0e-8241-2c24d9730ade",
   "metadata": {},
   "source": [
    "An **integral controller** has the parameter $k_I$.\n",
    "This controller outputs a signal that is proportional to the *integral* of the control error.\n",
    "That is, $u(t) = k_I \\int_0^{t} e(\\tau) d \\tau$.\n",
    "The transfer function for this controller is $H_{I} (s) = \\frac{k_I}{s}$."
   ]
  },
  {
   "cell_type": "markdown",
   "id": "ba8b541f-77df-4cc5-ad3d-7d23a8bc83fe",
   "metadata": {
    "tags": []
   },
   "source": [
    "**State and Output Equations**\n",
    "1. The state $x(t) = \\int_0^{t} u(\\tau) d \\tau$.\n",
    "1. Output equation: $y(t) = k_I x(t)$."
   ]
  },
  {
   "cell_type": "markdown",
   "id": "4abc4398-d6ac-41fb-b8b4-ea18dddcc3a0",
   "metadata": {},
   "source": [
    "**Laplace Transforms**\n",
    "1. $Y(s) = \\frac{k_I}{s} U(s)$"
   ]
  },
  {
   "cell_type": "markdown",
   "id": "f9a5181c-b344-473a-9055-9d711b76ff36",
   "metadata": {},
   "source": [
    "**Transfer Functions**\n",
    "1. $G_I(s) = \\frac{Y(s)}{U(s)} = \\frac{k_I}{s}$"
   ]
  },
  {
   "cell_type": "code",
   "execution_count": null,
   "id": "c4770f8e-77b8-4faf-905a-d2c3ec17a4ad",
   "metadata": {},
   "outputs": [],
   "source": [
    "# Construct the transfer function\n",
    "kI = 5\n",
    "gi_tf = control.TransferFunction([kI], [1, 0])\n",
    "plotSys(gi_tf, forced_input=1, figsize=(3,3))"
   ]
  },
  {
   "cell_type": "markdown",
   "id": "db4be15b-4a43-43c3-b99b-3d22a971897d",
   "metadata": {},
   "source": [
    "## D Controller"
   ]
  },
  {
   "cell_type": "markdown",
   "id": "d78830f7-597b-4190-abf0-21e4b60921e7",
   "metadata": {},
   "source": [
    "An **differential controller** has the parameter $k_D$.\n",
    "This controller outputs a signal that is proportional to the derivative of the control error."
   ]
  },
  {
   "cell_type": "markdown",
   "id": "56f30bd8-8164-4bf6-8595-d49ebd772e9b",
   "metadata": {
    "tags": []
   },
   "source": [
    "**State and Output Equations**\n",
    "1. The state $x(t) = \\frac{d u(t)}{d t}$.\n",
    "1. Output equation: $y(t) = k_D x(t)$."
   ]
  },
  {
   "cell_type": "markdown",
   "id": "e9834169-005e-4c92-a60c-66b2750c497d",
   "metadata": {},
   "source": [
    "**Laplace Transforms**\n",
    "1. $Y(s) = s k_D U(s)$"
   ]
  },
  {
   "cell_type": "markdown",
   "id": "7c73ebc1-20f3-44f4-8963-d5b5a066d48e",
   "metadata": {},
   "source": [
    "**Transfer Functions** \n",
    "1. $G_D(s) = \\frac{Y(s)}{U(s)} = k_D s$"
   ]
  },
  {
   "cell_type": "code",
   "execution_count": null,
   "id": "e6fe1e57-a1b5-4971-8c65-0bade4bd3341",
   "metadata": {},
   "outputs": [],
   "source": [
    "# Construct the transfer function\n",
    "kD = 5\n",
    "# The following would cause an error because the transfer function is not \"proper\",\n",
    "# That is, the numerator degree exceeds the degree of the denominator.\n",
    "# gd_tf = control.TransferFunction([kD, 0], [1])"
   ]
  },
  {
   "cell_type": "markdown",
   "id": "3e04af0e-11a4-439f-9c42-7cd83215b49f",
   "metadata": {},
   "source": [
    "## PID Controller"
   ]
  },
  {
   "cell_type": "code",
   "execution_count": null,
   "id": "9ff9443a-4247-490f-b245-2011bcf06c3d",
   "metadata": {},
   "outputs": [],
   "source": [
    "Image(\"pid_control.png\", width = 300, height = 150)"
   ]
  },
  {
   "cell_type": "markdown",
   "id": "8b09ca83-1cca-4ad3-875d-1ed27be92b1c",
   "metadata": {},
   "source": [
    "PID control is the sum of the effects of the individual controllers."
   ]
  },
  {
   "cell_type": "markdown",
   "id": "532dfc4e-78b8-4277-8df2-f7269c873bcd",
   "metadata": {},
   "source": [
    "$y_{PID}(t)$ is the sum of the signals output by the P, I, and D controllers.\n",
    "So, $Y_{PID}(s)$ is the sum of these signals.\n",
    "That is:\n",
    "\\begin{eqnarray}\n",
    "Y_{PID} (s) & = & Y_P(s) + Y_I (s) + Y_D (s)\\\\\n",
    "\\end{eqnarray}\n",
    "\n",
    "* The transfer function for the P controller is $G_P(s) = \\frac{Y_P(s)}{U(s)}  = k_P$.\n",
    "* The transfer function for  I controller is $G_I(s) = \\frac{Y_I(s)}{U(s)} =  \\frac{k_I}{s}$.\n",
    "* The transfer function for  D controller is $G_D(s) = \\frac{Y_D(s)}{U(s)} = k_D s$.\n",
    "\n",
    "\\begin{eqnarray}\n",
    "G_{PID} (s) & = & \\frac{Y_{PID}(s)}{U(s)} \\\\\n",
    "& = & \\frac{Y_P (s) + Y_I (s) + Y_D (s)}{U(s)} \\\\\n",
    "& = & G_P (s) + G_I (s) + G_D (s) \\\\\n",
    "& = & k_P + \\frac{k_I}{s} + k_D s\\\\\n",
    "\\end{eqnarray}"
   ]
  },
  {
   "cell_type": "markdown",
   "id": "31e4e207-2ecb-4347-91ea-661e4822b0db",
   "metadata": {},
   "source": [
    "## Transfer function for PI controller"
   ]
  },
  {
   "cell_type": "code",
   "execution_count": null,
   "id": "38705921-8a82-48d9-92b8-bb29634e27cb",
   "metadata": {},
   "outputs": [],
   "source": [
    "# Transfer function for a PI controller\n",
    "gpi_tf = gp_tf + gi_tf\n",
    "plotSys(gpi_tf, forced_input=1, figsize=(3,3))"
   ]
  },
  {
   "cell_type": "code",
   "execution_count": null,
   "id": "720c4e66-feab-4711-9b05-19ef0c3f97ba",
   "metadata": {},
   "outputs": [],
   "source": [
    "def makePITransferFunction(kP=1, kI=0.1):\n",
    "    \"\"\"\n",
    "    Parameters\n",
    "    ----------\n",
    "    kP: float (proportional parameter)\n",
    "    kI: float (integral parameter)\n",
    "    \n",
    "    Returns\n",
    "    -------\n",
    "    control.TransferFunction\n",
    "    \"\"\"\n",
    "    gP_tf = control.TransferFunction([kP], [1])\n",
    "    gI_tf = control.TransferFunction([kI], [1, 0])\n",
    "    return gP_tf + gI_tf\n",
    "\n",
    "# Tests\n",
    "gPI_tf = makePITransferFunction(kP=1, kI=0.1)\n",
    "plotSys(gPI_tf, is_plot=False)\n",
    "print(\"OK!\")"
   ]
  },
  {
   "cell_type": "code",
   "execution_count": null,
   "id": "5a54193f-2f89-4df1-84c7-1f12377b2465",
   "metadata": {},
   "outputs": [],
   "source": [
    "gPI_tf"
   ]
  },
  {
   "cell_type": "code",
   "execution_count": null,
   "id": "f3b7aed7-940f-4729-86c4-2a67a8419692",
   "metadata": {},
   "outputs": [],
   "source": [
    "gPI_tf.poles()"
   ]
  },
  {
   "cell_type": "code",
   "execution_count": null,
   "id": "3f5367bb-ad72-4313-bf68-0df5a10a154b",
   "metadata": {},
   "outputs": [],
   "source": [
    "gPI_tf.dcgain()"
   ]
  },
  {
   "cell_type": "markdown",
   "id": "80e1783f-d3fb-4753-9e87-6fc457018682",
   "metadata": {},
   "source": [
    "## Questions\n",
    "* What are the poles for a PI Controller?"
   ]
  },
  {
   "cell_type": "markdown",
   "id": "fba74b3e-f35e-4ca6-b04a-ed09333e8332",
   "metadata": {},
   "source": [
    "# Transfer Function for Filter"
   ]
  },
  {
   "cell_type": "markdown",
   "id": "360d9cab-37fc-4597-8cc5-c9a49dfcc2ee",
   "metadata": {},
   "source": [
    "The Time domain behavior of the filter is $\\frac{d y (t)}{d t} = k_F u(t) - k_F y(t)$,\n",
    "for $k_F \\geq 0$.\n",
    "\n",
    "The intuition beyond this equation is as follows. If $k_F$ is large, then $\\frac{d y(t)}{dt}$ changes more with $u(t)$ and discounts more of $y(t)$. If $k_F$ is small, then $\\frac{d y(t)}{dt}$ doesn't change much, which means that $y(t)$ is relatively unaffected by $u(t)$."
   ]
  },
  {
   "cell_type": "markdown",
   "id": "c3f2b9ea-9c37-4c4b-a6c4-ba9cb362584b",
   "metadata": {},
   "source": [
    "Is there state?"
   ]
  },
  {
   "cell_type": "markdown",
   "id": "73929a89-c0c9-4902-94ef-a2f71a15e4e7",
   "metadata": {},
   "source": [
    "Yes. State is the averaged output, $y(t)$. That is, $x(t) = y(t)$."
   ]
  },
  {
   "cell_type": "markdown",
   "id": "ef34e163-0abf-4e26-911e-28369ead336f",
   "metadata": {},
   "source": [
    "## State equations"
   ]
  },
  {
   "cell_type": "markdown",
   "id": "0a4a4c86-afc6-4b50-a13e-2751d0bfc892",
   "metadata": {},
   "source": [
    "State: $\\frac{d y (t)}{d t} = k_F u(t) - k_F y(t)$\n",
    "\n",
    "Output: $y(t)$"
   ]
  },
  {
   "cell_type": "markdown",
   "id": "9400c3cb-ee9e-4174-a4fe-35d0792e125e",
   "metadata": {},
   "source": [
    "## Laplace transform of state equations"
   ]
  },
  {
   "cell_type": "markdown",
   "id": "fa4465ff-043c-42a2-b01f-326d1a275e27",
   "metadata": {},
   "source": [
    "$s Y(s) = k_F U(s) - k_F Y(s)$"
   ]
  },
  {
   "cell_type": "markdown",
   "id": "3f2c8d7f-f916-4ccc-bf9c-f7c70917607d",
   "metadata": {},
   "source": [
    "## Solve for transfer function"
   ]
  },
  {
   "cell_type": "markdown",
   "id": "121c3962-4698-4001-97d1-91b35cd57713",
   "metadata": {},
   "source": [
    "\\begin{eqnarray}\n",
    "s Y(s) & = & k_F U(s) - k_F Y(s) \\\\\n",
    "Y(s) ( s + k_F) & = & k_F U(s) \\\\\n",
    "Y(s) & = & \\frac{k_F U(s)}{s + k_F} \\\\\n",
    "G_F(s) & = & \\frac{Y(s)}{U(s)}  \\\\\n",
    "& =& \\frac{k_F}{s + k_F}\n",
    "\\end{eqnarray}"
   ]
  },
  {
   "cell_type": "markdown",
   "id": "7b1b8e05-a192-4941-818d-cd045edc6894",
   "metadata": {},
   "source": [
    "## Exploring filters"
   ]
  },
  {
   "cell_type": "code",
   "execution_count": null,
   "id": "cbbecfee-36f6-4146-aa04-31f45ec4f2d9",
   "metadata": {},
   "outputs": [],
   "source": [
    "# Effect of the filter parameter on a linear increasing sine wave\n",
    "forced_input = 5*np.sin(5*TIMES) + 5*TIMES # Linear increase\n",
    "for kF in [0.1, 1, 10]:\n",
    "    tf = control.TransferFunction([kF], [1, kF])\n",
    "    plot_result = plotSys(tf, forced_input=forced_input, times=TIMES, figsize=(1,1), ylim=[0, 50],\n",
    "           title=\"kF=%2.2f\" % kF, is_legend=False)\n",
    "    plot_result.ax.plot(TIMES, forced_input, color=\"red\")"
   ]
  },
  {
   "cell_type": "markdown",
   "id": "26828433-381b-4314-9612-eee6e78f4645",
   "metadata": {},
   "source": [
    "We see that $y(t)$ is smoother for small values of $k_F$, and $y(t)$ better approximates the signal trend (i.e., line slope) if $k_F$ is larger."
   ]
  },
  {
   "cell_type": "markdown",
   "id": "be435fb7-1141-4e10-bd1f-a2f8e9f3af63",
   "metadata": {},
   "source": [
    "## Questions\n",
    "1. What is the DC Gain of a filter?\n",
    "1. Why must $k_F \\geq 0$? Explain in terms of the poles of $F_F(s)$.\n",
    "1. What is the effect of a large value of $k_F$? Explain in terms of the poles of $G_F(s)$."
   ]
  },
  {
   "cell_type": "markdown",
   "id": "a3d31338-96ed-4d0b-851b-a490671f8fdc",
   "metadata": {},
   "source": [
    "# Transfer functions for a closed loop system"
   ]
  },
  {
   "cell_type": "code",
   "execution_count": null,
   "id": "b5510b90-817b-499e-a123-b4a1435424a8",
   "metadata": {},
   "outputs": [],
   "source": [
    "Image(\"closed_loop_system.png\", width = 600, height = 300)"
   ]
  },
  {
   "cell_type": "markdown",
   "id": "a47c58fd-8c87-420c-94cb-fe3b0cda4cbc",
   "metadata": {},
   "source": [
    "Define the transfer functions:\n",
    "* $G_C (s)$: controller\n",
    "* $G_F (s)$: filter\n",
    "* $G_O (s)$: open loop system\n",
    "\n",
    "Define the signals\n",
    "* $R(s)$: reference input (set point)\n",
    "* $D(S)$: disturbance\n",
    "* $N(s)$: noise"
   ]
  },
  {
   "cell_type": "markdown",
   "id": "d69e336e-898e-4851-8c79-d41483259ac5",
   "metadata": {},
   "source": [
    "## Key facts about Laplace transforms and transfer functions ($\\mathcal{L}$).\n",
    "* **F1**: If system 1 has transfer function $G_1 (s)$ is in series has system 2 with transfer function $G_2(s)$,\n",
    "then the transfer function the two systems in series is $G_1(s)G_2 (s)$.\n",
    "* **F2**: If the Laplace transforms of signals $y_1(t)$, $y_2(t)$ are $Y_1 (s)$, $Y_2 (s)$,\n",
    "then $\\mathcal{L} (a_1 y_1 (t) + a_2 y_2 (t)) = a_1 Y_1 (s) + a_2 Y_2 (s)$.\n",
    "* **F3**: Let $G(s)$ be the transfer function for a system with input $U(s)$ and output $Y(s)$.\n",
    "Then, $Y(s) = U(s) G(s)$."
   ]
  },
  {
   "cell_type": "markdown",
   "id": "f031fca6-2d81-425a-8073-7c0e4438e2af",
   "metadata": {},
   "source": [
    "## Find the transfer function from $r(t)$ to $m(t)$.\n",
    "That is, $G_{RM} = \\frac{M(s)}{R(s)}$."
   ]
  },
  {
   "cell_type": "code",
   "execution_count": null,
   "id": "f4fc5f05-bf8c-4699-ad63-940e4e5e0a1b",
   "metadata": {},
   "outputs": [],
   "source": [
    "Image(\"closed_loop_system.png\", width = 400, height = 200)"
   ]
  },
  {
   "cell_type": "markdown",
   "id": "ab504e3d-9c33-4466-9ca4-63485233373a",
   "metadata": {},
   "source": [
    "$G_{RM}$ assumes\n",
    "that $n(t) = 0 = d(t)$. This means that we are analyzing a simplified diagram."
   ]
  },
  {
   "cell_type": "code",
   "execution_count": null,
   "id": "cf8b847f-b138-4e23-b7b4-d5ecb6a7cb92",
   "metadata": {},
   "outputs": [],
   "source": [
    "Image(\"simplified_closed_loop_system.png\", width = 400, height = 200)"
   ]
  },
  {
   "cell_type": "markdown",
   "id": "24b9a1fa-9950-4451-af40-a898a448ae2f",
   "metadata": {},
   "source": [
    "The Controller is in series with the OLS. This is called the **forward** system.\n",
    "From F1, forward system has the transfer function $G_c(s) G_O (s)$."
   ]
  },
  {
   "cell_type": "markdown",
   "id": "6c71c2e4-825e-433c-99f4-c477a399ffe8",
   "metadata": {},
   "source": [
    "### Steps"
   ]
  },
  {
   "cell_type": "markdown",
   "id": "096923c4-5d56-4b19-a5ef-fe96248ae0e3",
   "metadata": {},
   "source": [
    "1. From $F1$ and $F3$, $M(s) = E(s) G_c(s) G_O (s)$\n",
    "1. Again from $F1$ and $F3$, $F(s) = M(s) G_F(s)$.\n",
    "1. From $F2$, $E(s) = R(s) - F(s)$\n",
    "1. Substituting (2) into (3), $E(s) = R(s) - M(s) G_F(s)$.\n",
    "1. Solve for the transfer function.\n",
    "\\begin{eqnarray}\n",
    "M(s) & = & E(s) G_C (s) G_O(s) \\\\\n",
    "M(s)&  =& (R(s) - M(s) G_F(s) ) G_C (s) G_O(s) \\\\\n",
    "M(s) ( 1 + G_C (s) G_O (s) G_F (s) )&  = & R(s) G_C (s) G_O(s) \\\\\n",
    "G_{RM} (s) & = & \\frac{M(s)}{R(s)} \\\\\n",
    "& = & \\frac{ G_C (s) G_O(s) }{1 + G_C (s) G_O(s) G_F(s)} \\\\\n",
    "\\end{eqnarray}"
   ]
  },
  {
   "cell_type": "markdown",
   "id": "7ee6dd2f-fb07-463e-998d-a82a212f7089",
   "metadata": {},
   "source": [
    "## Analysis"
   ]
  },
  {
   "cell_type": "code",
   "execution_count": null,
   "id": "36645fdd-eff5-4f77-a5d7-1e09478d7298",
   "metadata": {},
   "outputs": [],
   "source": [
    "# Construct the transfer function from R to Y\n",
    "gO_tf = control.TransferFunction([4.6], [10, 6.8, 3, 2]) # From sysid of linear system\n",
    "gC_tf = makePITransferFunction(kP=0.0005, kI=0.0005)\n",
    "gF_tf = control.TransferFunction([1], [1, 1])\n",
    "gRM_tf = control.feedback(gC_tf*gO_tf, gF_tf)\n",
    "for tf_str in [\"gO_tf\", \"gC_tf\", \"gF_tf\", \"gRM_tf\"]:\n",
    "    print(\"%s\\n%s\\n\\n\"% (tf_str, eval(tf_str)))"
   ]
  },
  {
   "cell_type": "code",
   "execution_count": null,
   "id": "b50bfa85-458a-4be9-aae0-32563cf3e3e9",
   "metadata": {},
   "outputs": [],
   "source": [
    "gO_tf.poles()"
   ]
  },
  {
   "cell_type": "code",
   "execution_count": null,
   "id": "2cc49a9d-9d6e-4339-8761-829f44df565e",
   "metadata": {},
   "outputs": [],
   "source": [
    "gRM_tf.poles()"
   ]
  },
  {
   "cell_type": "markdown",
   "id": "8ef6a03e-3a5c-4b69-9c2e-e28e1e166c77",
   "metadata": {},
   "source": [
    "### Step response"
   ]
  },
  {
   "cell_type": "code",
   "execution_count": null,
   "id": "ed5d2a7d-a4d6-404e-b811-5b440151d1e5",
   "metadata": {},
   "outputs": [],
   "source": [
    "times = np.linspace(0, 1000, 10000)\n",
    "plotSys(gRM_tf, times=times, forced_input=5, figsize=(3,3))"
   ]
  },
  {
   "cell_type": "markdown",
   "id": "e2a56df4-8e81-4a0f-a93a-5baaf969f863",
   "metadata": {},
   "source": [
    "### Poles"
   ]
  },
  {
   "cell_type": "code",
   "execution_count": null,
   "id": "47709625-07a0-47d4-953f-02af57046af8",
   "metadata": {},
   "outputs": [],
   "source": [
    "# Examine the poles.\n",
    "gRM_tf.poles()"
   ]
  },
  {
   "cell_type": "markdown",
   "id": "3cf7c5d5-d426-46af-b4d6-d9ee5f9e0840",
   "metadata": {},
   "source": [
    "What is the dominant pole, the pole the determines how fast the system converges."
   ]
  },
  {
   "cell_type": "markdown",
   "id": "26e8d85b-a1b1-49ff-8460-b6c9ea80c164",
   "metadata": {},
   "source": [
    "### DC Gain"
   ]
  },
  {
   "cell_type": "code",
   "execution_count": null,
   "id": "f6404d8e-0f24-4d5d-b6bd-803a5569e460",
   "metadata": {},
   "outputs": [],
   "source": [
    "gRM_tf.dcgain()"
   ]
  },
  {
   "cell_type": "markdown",
   "id": "fc62de02-e92a-41f4-81a2-e4475bcd3689",
   "metadata": {},
   "source": [
    "### Effect of controller\n",
    "What happens to the poles and DC Gain when $k_P$ changes from 1 to 10?"
   ]
  },
  {
   "cell_type": "markdown",
   "id": "b3006650-f742-4f97-9344-201ae14456fc",
   "metadata": {},
   "source": [
    "## Questions\n",
    "1. What is the DC Gain of $G_{RY} (s)$? \n",
    "   1. Suppose $G_C (0 ) = 0 = G_O (0)$.\n",
    "   1. For the following, $G_C (0 ) \\neq 0 \\neq G_O (0)$.\n",
    "       1. $G_F (0) = 1$\n",
    "       1. $G_F (0) \\neq 1$\n",
    "1. Repeat this question for the case where $G_C (s) = k_P + \\frac{k_I}{s}$, integral control. "
   ]
  },
  {
   "cell_type": "markdown",
   "id": "caa884ea-04fc-46cc-b4e0-74d36f431f79",
   "metadata": {},
   "source": [
    "# Exercise: Constructing closed loop transfer functions"
   ]
  },
  {
   "cell_type": "markdown",
   "id": "eaea6c21-53ad-4ba0-9584-98968d9d4314",
   "metadata": {},
   "source": [
    "## Wolf model"
   ]
  },
  {
   "cell_type": "markdown",
   "id": "893beacd-be70-4020-921b-360d9f2304c5",
   "metadata": {},
   "source": [
    "Consider a closed loop system in which there is no filter.\n",
    "\n",
    "Find $G_{RM}$ for a PI controller where $k_I = 0.1$ and $k_P = 1$."
   ]
  },
  {
   "cell_type": "markdown",
   "id": "95d0e71b-e6a8-468d-a79c-8600f10862f3",
   "metadata": {},
   "source": [
    "$G_{RM} = \\frac{ G_C (s) G_O(s) }{1 + G_C (s) G_O(s) G_F(s)}$"
   ]
  },
  {
   "cell_type": "markdown",
   "id": "ac2dc4f2-dd43-4b05-aff7-be1691c5a8e0",
   "metadata": {},
   "source": [
    "**Hints**\n",
    "1. Find $G_O(s)$\n",
    "1. Write the equations for the other transfer functions\n",
    "1. Use algebra on transfer functions to find $G_{RM}$"
   ]
  },
  {
   "cell_type": "code",
   "execution_count": null,
   "id": "56d42321-3d4a-474a-aef3-5983593fe735",
   "metadata": {},
   "outputs": [],
   "source": [
    "def makeRMTransferFunction(open_tf, kP, kI, kF):\n",
    "    \"\"\"\n",
    "    Creates the closed loop transfer function.\n",
    "    \"\"\"\n",
    "    gC_tf = makePITransferFunction(kP=kP, kI=kI)\n",
    "    gF_tf = control.TransferFunction([kF], [1, kF])\n",
    "    return control.feedback(gC_tf*gO_tf, gF_tf)\n",
    "\n",
    "assert(isinstance(makeRMTransferFunction(gO_tf, 1, 1, 1), control.TransferFunction))\n",
    "print(\"OK!\")\n"
   ]
  },
  {
   "cell_type": "code",
   "execution_count": null,
   "id": "b78f695a-7dde-4216-89b7-989f9c716a13",
   "metadata": {},
   "outputs": [],
   "source": [
    "tf = control.TransferFunction([1.854, 0.1609, 0.1859, 0.0002184], \n",
    "                              [0.7165, 0.124, 0.0315, 0.002063])\n",
    "tf"
   ]
  },
  {
   "cell_type": "code",
   "execution_count": null,
   "id": "2841530e-0aee-4c93-941a-17107cd8557f",
   "metadata": {},
   "outputs": [],
   "source": [
    "grm_tf = makeRMTransferFunction(tf, 1e-3, 1e-3, 1)\n",
    "grm_tf"
   ]
  },
  {
   "cell_type": "code",
   "execution_count": null,
   "id": "b1c100ff-7bd2-4aad-98bb-933e871b5837",
   "metadata": {},
   "outputs": [],
   "source": [
    "grm_tf.poles()"
   ]
  }
 ],
 "metadata": {
  "kernelspec": {
   "display_name": "Python 3 (ipykernel)",
   "language": "python",
   "name": "python3"
  },
  "language_info": {
   "codemirror_mode": {
    "name": "ipython",
    "version": 3
   },
   "file_extension": ".py",
   "mimetype": "text/x-python",
   "name": "python",
   "nbconvert_exporter": "python",
   "pygments_lexer": "ipython3",
   "version": "3.9.6"
  }
 },
 "nbformat": 4,
 "nbformat_minor": 5
}
