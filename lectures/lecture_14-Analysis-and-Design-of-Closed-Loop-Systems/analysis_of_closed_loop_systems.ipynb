{
 "cells": [
  {
   "cell_type": "markdown",
   "id": "b1229fec-e965-4858-b3e7-cf67e8645060",
   "metadata": {},
   "source": [
    "# **ANALYSIS OF CLOSED LOOP SYSTEMS**"
   ]
  },
  {
   "cell_type": "markdown",
   "id": "1d364ff2-fbd9-4dfc-bce8-d070b1d57418",
   "metadata": {},
   "source": [
    "This notebook is about the analysis of closed loop systems."
   ]
  },
  {
   "cell_type": "code",
   "execution_count": 1,
   "id": "5c805d84-118d-421b-a193-5747073dbb1f",
   "metadata": {},
   "outputs": [],
   "source": [
    "if False:\n",
    "    !pip -q install controlSBML\n",
    "    !pip -q install control\n",
    "    !pip -q install tellurium"
   ]
  },
  {
   "cell_type": "code",
   "execution_count": 2,
   "id": "f16d0f7a-d0c5-4f37-aa29-feed6d82a363",
   "metadata": {},
   "outputs": [],
   "source": [
    "import control\n",
    "import controlSBML as ctl\n",
    "import numpy as np\n",
    "import pandas as pd\n",
    "import matplotlib.pyplot as plt\n",
    "import tellurium as te"
   ]
  },
  {
   "cell_type": "markdown",
   "id": "6f6b720c-90a8-466e-a7e9-9f689052020d",
   "metadata": {},
   "source": [
    "# Helpers"
   ]
  },
  {
   "cell_type": "code",
   "execution_count": 3,
   "id": "e079a252-622f-430f-888d-d5c9ca25d72b",
   "metadata": {},
   "outputs": [],
   "source": [
    "s = control.TransferFunction.s\n",
    "TIMES = np.linspace(0, 10, 100)"
   ]
  },
  {
   "cell_type": "code",
   "execution_count": 4,
   "id": "8ee2990c-01c5-49d6-8087-a5de36be1996",
   "metadata": {},
   "outputs": [],
   "source": [
    "TEST_MODEL = \"\"\"\n",
    "$S1 -> S2; k1*S1\n",
    "S2 -> S3; k2*S2\n",
    "\n",
    "S1 = 10\n",
    "S2 = 0\n",
    "S3 = 0\n",
    "k1 = 1\n",
    "k2 = 2\n",
    "\"\"\"\n",
    "TEST_RR = te.loada(TEST_MODEL)"
   ]
  },
  {
   "cell_type": "code",
   "execution_count": 5,
   "id": "67d895af-db33-453f-8191-e6a8a077b86e",
   "metadata": {},
   "outputs": [],
   "source": [
    "k1 = TEST_RR[\"k1\"]\n",
    "k2 = TEST_RR[\"k2\"]\n",
    "tf = k1*k2/(s*(s+k2))"
   ]
  },
  {
   "cell_type": "code",
   "execution_count": 38,
   "id": "8574416a-7fcd-456a-90c9-8fdb05c262e8",
   "metadata": {},
   "outputs": [
    {
     "name": "stdout",
     "output_type": "stream",
     "text": [
      "OK!\n"
     ]
    }
   ],
   "source": [
    "def evaluateTransferFunction(model, transfer_function, input_name, output_name, times=TIMES,\n",
    "                             is_plot=True, figsize=(5,5), title=\"\", **kwargs):\n",
    "    \"\"\"\n",
    "    Plots simulations versus predictions.\n",
    "\n",
    "    Args:\n",
    "        model: (str) antimony\n",
    "        tranfer_function (control.TransferFunction)\n",
    "        input_name: (str)\n",
    "        output_name: (str) prediction\n",
    "        times: (np.darray)\n",
    "        kwargs: simultion parameters\n",
    "    Returns:\n",
    "        float\n",
    "    \"\"\"\n",
    "    rr = te.loada(model)\n",
    "    for key, value in kwargs.items():\n",
    "        rr[key] = value\n",
    "    data = rr.simulate(times[0], times[-1], len(times))\n",
    "    output_name = \"[\" + output_name + \"]\"\n",
    "    simulations = data[output_name]\n",
    "    _, predictions = control.forced_response(transfer_function, T=times, U=1)\n",
    "    predictions = rr[input_name]*predictions\n",
    "    rmse = np.sqrt(np.sum(simulations-predictions)**2)/len(simulations)\n",
    "    if is_plot:\n",
    "        _, ax = plt.subplots(1, figsize=figsize)\n",
    "        ax.scatter(simulations, predictions)\n",
    "        maxval = max(np.max(predictions), np.max(simulations))\n",
    "        ax.plot([0, maxval], [0, maxval], color=\"red\")\n",
    "        ax.set_xlabel(\"simulated\")\n",
    "        ax.set_ylabel(\"predicted\")\n",
    "        ax.set_title(title)\n",
    "    return rmse\n",
    "\n",
    "rmse = evaluateTransferFunction(TEST_MODEL, tf, \"S1\", \"S3\", k1=1, figsize=(3,3), is_plot=False)\n",
    "assert(rmse < 1e-5)\n",
    "print(\"OK!\")"
   ]
  },
  {
   "cell_type": "code",
   "execution_count": 57,
   "id": "4fe43f17-10b0-4ced-947e-7835de1288be",
   "metadata": {},
   "outputs": [
    {
     "name": "stdout",
     "output_type": "stream",
     "text": [
      "OK!\n"
     ]
    }
   ],
   "source": [
    "def plotModel(model, times=TIMES, is_plot=True, title=\"\", selections=None, \n",
    "              figsize=(5,5), ylim=None, **kwargs):\n",
    "    \"\"\"\n",
    "    Plots a model.\n",
    "    \n",
    "    Args:\n",
    "       times: np.array \n",
    "       kwargs: values of parameters\n",
    "    Returns:\n",
    "       ExtendedRoadrunner\n",
    "    \"\"\"\n",
    "    rr = te.loada(model)\n",
    "    for key, value in kwargs.items():\n",
    "        rr[key] = value\n",
    "    if selections is None:\n",
    "        rr.simulate(times[0], times[-1], len(times))\n",
    "    else:\n",
    "        if not \"time\" in selections:\n",
    "            selections.insert(0, \"time\")\n",
    "        rr.simulate(times[0], times[-1], len(times), selections=selections)\n",
    "    if is_plot:\n",
    "        if ylim is None:\n",
    "            rr.plot(title=title, figsize=figsize)\n",
    "        else:\n",
    "            rr.plot(title=title, figsize=figsize, ylim=ylim)\n",
    "    return rr\n",
    "    \n",
    "# TESTS\n",
    "plotModel(TEST_MODEL, k1=0.1, is_plot=False, selections=[\"S2\"], ylim=[0, 10])\n",
    "print(\"OK!\")"
   ]
  },
  {
   "cell_type": "markdown",
   "id": "8f681f64-8818-4ae8-a425-228ec400ec95",
   "metadata": {},
   "source": [
    "# Transfer Function of Controllers"
   ]
  },
  {
   "cell_type": "markdown",
   "id": "dca8093c-ea4b-4374-9f7f-859ae58ef4ca",
   "metadata": {},
   "source": [
    "<img src=https://github.com/joseph-hellerstein/advanced-controls-lectures/raw/main/lectures/images/pid_control.png width=\"500\"/>"
   ]
  },
  {
   "cell_type": "markdown",
   "id": "a2883963-4bad-4d86-beef-42da576fc08f",
   "metadata": {
    "tags": []
   },
   "source": [
    "## Proportional control"
   ]
  },
  {
   "cell_type": "markdown",
   "id": "285eb2d9-2676-4b09-ab92-0c6d2ff894dd",
   "metadata": {},
   "source": [
    "\\begin{eqnarray}\n",
    "u(t)& = & k_P e(t) \\\\\n",
    "U(s) & = & k_P E(s) \\\\\n",
    "G_P(s) & = & \\frac{U(s)}{E(s)} \\\\\n",
    "& = & k_P\n",
    "\\end{eqnarray}"
   ]
  },
  {
   "cell_type": "markdown",
   "id": "4ab9fc3d-8ca8-4ca9-b3ec-1dfad226c23a",
   "metadata": {},
   "source": [
    "## Integral control"
   ]
  },
  {
   "cell_type": "markdown",
   "id": "e66ecd6f-d674-4723-a6d6-450ac2f6736c",
   "metadata": {},
   "source": [
    "\\begin{eqnarray}\n",
    "u(t)& = & k_I \\int_0^t e(v) dv \\\\\n",
    "U(s) & = & \\frac{k_I}{s} E(s) \\\\\n",
    "G_I(s) & = & \\frac{U(s)}{E(s)} \\\\\n",
    "& = & \\frac{k_I}{s}\n",
    "\\end{eqnarray}"
   ]
  },
  {
   "cell_type": "markdown",
   "id": "e93abdd7-1405-479f-8fe8-c7f5a7f8f857",
   "metadata": {},
   "source": [
    "## Differential control"
   ]
  },
  {
   "cell_type": "markdown",
   "id": "802259a2-5275-4392-8315-5205475c3b9c",
   "metadata": {},
   "source": [
    "\\begin{eqnarray}\n",
    "u(t)& = & k_D \\frac{d e(t)}{dt}\\\\\n",
    "U(s) & = & k_D s E(s) \\\\\n",
    "G_D(s) & = & \\frac{U(s)}{E(s)} \\\\\n",
    "& = & k_D s \n",
    "\\end{eqnarray}"
   ]
  },
  {
   "cell_type": "markdown",
   "id": "6748f953-2c2f-407f-932b-b77132323bb9",
   "metadata": {},
   "source": [
    "## Combinations of controllers"
   ]
  },
  {
   "cell_type": "markdown",
   "id": "bb9ac081-cc14-4eba-a359-cebff7348659",
   "metadata": {},
   "source": [
    "**PI Controller**\n",
    "\\begin{eqnarray}\n",
    "u(t) & = & k_P e(t) + k_I \\int_0^t e(t) dv \\\\\n",
    "U(s) & = & k_P E(s) + \\frac{k_I}{ s} E(s) \\\\\n",
    "G_{PI} (s) & = & G_P (s) + G_I(s) \\\\\n",
    "& = & k_P + \\frac{k_I}{ s}  \\\\\n",
    "& = & \\frac{s k_P + k_I}{ s}  \\\\\n",
    "\\end{eqnarray}\n",
    "\n",
    "**PID Controller**\n",
    "\\begin{eqnarray}\n",
    "u(t) & = & k_P e(t) + k_I \\int_0^t e(t) dv + k_D \\frac{d e(t)}{ dt} \\\\\n",
    "U(s) & = & k_P E(s) + \\frac{k_I}{ s} E(s) + k_D s E(s) \\\\\n",
    "G_{PID} (s) & = & G_P (s) + G_I(s) + G_D(s)\\\\\n",
    "& =  & \\frac{s^2k_D + sk_P + k_I}{ s} \\\\\n",
    "\\end{eqnarray}"
   ]
  },
  {
   "cell_type": "markdown",
   "id": "debe1cc6-e66b-454a-925d-589e157b579f",
   "metadata": {},
   "source": [
    "## Questions\n",
    "1. What are the poles and zeroes of a PI controller?\n",
    "1. What are the poles and zeroes of a PID controller?\n",
    "1. Which are proper transfer functions?"
   ]
  },
  {
   "cell_type": "markdown",
   "id": "4489a760-56cf-4f2f-a394-7beccba82b98",
   "metadata": {},
   "source": [
    "# P control w/o Filter"
   ]
  },
  {
   "cell_type": "markdown",
   "id": "ca334f27-4924-4c8c-ac7b-adf5d00f547d",
   "metadata": {
    "tags": []
   },
   "source": [
    "<img src=https://github.com/joseph-hellerstein/advanced-controls-lectures/raw/main/lectures/images/simple_feedback_nofilter.png/\n",
    "     width=\"600\">"
   ]
  },
  {
   "cell_type": "markdown",
   "id": "8f367dc6-8287-4809-8ec2-ec0076d187ae",
   "metadata": {},
   "source": [
    "### Derivation"
   ]
  },
  {
   "cell_type": "markdown",
   "id": "141b7299-8571-4255-adaa-28d410800d0a",
   "metadata": {},
   "source": [
    "We want the transfer function from $r(t)$ to $y(t)$. We denote this by $H(s).\n",
    "\n",
    "We will use the following facts about transfer functions:\n",
    "1. Laplace transfers are linear. So the Lapace transform of $a x(t) + b y(t)$ is $a X(s) + b Y(s)$.\n",
    "1. The Laplace transfer of the concatenation of systems is the product of their Laplace transforms *if the first systems is unaffected by the degradation of its output species*.\n",
    "\n",
    "Let $G(s)$ be the transfer function of the open loop system (OLS) and $C(s)$ be the controller transfer function.\n",
    "\n",
    "We start with the following observations:\n",
    "1. The signal $y(t)$ is the output of the system composed of the concatenation of the controller with the open loop system that has the input signal $e(t)$. That is,\n",
    "$$Y(s)= E(s) C(s) G(s)$$.\n",
    "1. $e(t)$ is the difference between $r(t)$ and $y(t)$. That is $E(s) = R(s) - Y(s)$.\n",
    "\n",
    "Now, we substitute and solve.\n",
    "\\begin{eqnarray}\n",
    "Y(s) & = & E(s) C(s) G(s) \\\\\n",
    "    & = & (R(s) - Y(s)) C(s) G(s) \\\\\n",
    "Y(s) + Y(s) C(s) G(s) & = & R(s) C(s) G(s) \\\\\n",
    "Y(s) & = & \\frac{R(s) C(s) G(s)}{1 + C(s) G(s)} \\\\\n",
    "H(s) & = & \\frac{ C(s) G(s)}{1 + C(s) G(s)} \\\\\n",
    "\\end{eqnarray}"
   ]
  },
  {
   "cell_type": "markdown",
   "id": "d90cb9bc-374c-42c1-ba91-e1afb242fd3b",
   "metadata": {},
   "source": [
    "### Verification"
   ]
  },
  {
   "cell_type": "markdown",
   "id": "ea2fb0e1-677c-4091-885a-ab7b85bb9250",
   "metadata": {},
   "source": [
    "#### Step 1: Implement the Antimony model for the closed loop system"
   ]
  },
  {
   "cell_type": "code",
   "execution_count": 51,
   "id": "1768eecc-653b-4228-a2de-e9c3cc88678f",
   "metadata": {},
   "outputs": [
    {
     "data": {
      "image/png": "[encoded data removed]",
      "text/plain": [
       "<Figure size 500x500 with 1 Axes>"
      ]
     },
     "metadata": {},
     "output_type": "display_data"
    }
   ],
   "source": [
    "MODEL1 = \"\"\"\n",
    "S1 -> S2; k1*S1\n",
    "S2 -> S3; k2*S2\n",
    "S3 -> ; k3*S3\n",
    "\n",
    "S2 = 0\n",
    "k1 =1\n",
    "k2 = 2\n",
    "k3 = 3\n",
    "// ***** Feedback\n",
    "setpoint = 1  # Input to the closed loop is the setpoint or reference\n",
    "kP = 1  # Design parameter for P controller\n",
    "kI = 0 # Design parameter for integral control\n",
    "control_error := setpoint - S3\n",
    "integral_control_error = 0\n",
    "integral_control_error' = control_error\n",
    "$S1 := kP*control_error + kI*integral_control_error  # Controller implementation\n",
    "\"\"\"\n",
    "rr =plotModel(MODEL1, setpoint=5, kP=10, selections=[\"S3\"])\n",
    "# Assign the constants used in the open and closed loops\n",
    "k1 = rr[\"k1\"]\n",
    "k2 = rr[\"k2\"]\n",
    "k3 = rr[\"k3\"]\n",
    "kP = rr[\"kP\"]\n",
    "setpoint = rr[\"setpoint\"]"
   ]
  },
  {
   "cell_type": "markdown",
   "id": "73f71d83-1379-4e01-88ee-9589cf51a6ae",
   "metadata": {},
   "source": [
    "#### Step 2: Derive the open loop transfer function"
   ]
  },
  {
   "cell_type": "markdown",
   "id": "3b76b7fc-0bfe-4398-a12a-a7a2f42f3250",
   "metadata": {},
   "source": [
    "Transfer function $G(s)$. The long way to do it.\n",
    "\\begin{eqnarray}\n",
    "s S_2(s) & = & k_1 S_1(s) - k_2 S_2(s) \\\\\n",
    "S_2 (s) & = & \\frac{k_1 S_1 (s)}{s + k_2} \\\\\n",
    "s S_3 (s) &  = & k_2 S_2(s) - k_3 S_3(s) \\\\\n",
    "S_3 (s) & = & \\frac{k_2 S_2 (s)}{s + k_3} \\\\\n",
    "G(s) & = &  \\frac{k_1 k_2 }{(s + k_2)(s + k_3)} \\\\\n",
    "\\end{eqnarray}"
   ]
  },
  {
   "cell_type": "markdown",
   "id": "46b8cd9a-2750-4b39-b2ea-21f407e3e861",
   "metadata": {},
   "source": [
    "Short cut for a deriving the transfer function of a sequential network.\n",
    "1. The poles are the kinetic constants for reactions that degrade species. This excludes the input since it is a boundary species. In the example, this makes the denominator\n",
    "$(s + k_2)(s + k_3)$.\n",
    "1. The numerator is the product of the kinetic constants that synthesize the output from the input. Since this is a sequential path, there is only one such product. In the example,\n",
    "$k_1 k_2$."
   ]
  },
  {
   "cell_type": "code",
   "execution_count": 9,
   "id": "93b13f27-e92e-4fe5-8b51-3f3b43b42b52",
   "metadata": {
    "tags": []
   },
   "outputs": [
    {
     "data": {
      "text/latex": [
       "$$\\frac{2}{s^2 + 5 s + 6}$$"
      ],
      "text/plain": [
       "TransferFunction(array([2.]), array([1., 5., 6.]))"
      ]
     },
     "execution_count": 9,
     "metadata": {},
     "output_type": "execute_result"
    }
   ],
   "source": [
    "# Construct the transfer function object for the open loop system\n",
    "C_tf = kP\n",
    "G_tf = k1*k2/( (s + k2)*(s + k3))\n",
    "G_tf"
   ]
  },
  {
   "cell_type": "markdown",
   "id": "864ba00d-f8bb-4bfb-a5d2-f4497d5b8ae9",
   "metadata": {},
   "source": [
    "#### Step 3: Derive the closed loop transfer function"
   ]
  },
  {
   "cell_type": "markdown",
   "id": "b1bd6182-e932-4b7e-b1d4-e490f71c2090",
   "metadata": {
    "tags": []
   },
   "source": [
    "$H(s) = \\frac{ C(s) G(s)}{1 + C(s) G(s)}$"
   ]
  },
  {
   "cell_type": "code",
   "execution_count": 10,
   "id": "0f18fc1a-9a61-4aa9-83c8-271dc3ff0696",
   "metadata": {},
   "outputs": [
    {
     "data": {
      "text/latex": [
       "$$\\frac{2000 s^2 + 1 \\times 10^{4} s + 1.2 \\times 10^{4}}{s^4 + 10 s^3 + 2037 s^2 + 1.006 \\times 10^{4} s + 1.204 \\times 10^{4}}$$"
      ],
      "text/plain": [
       "TransferFunction(array([ 2000., 10000., 12000.]), array([1.0000e+00, 1.0000e+01, 2.0370e+03, 1.0060e+04, 1.2036e+04]))"
      ]
     },
     "execution_count": 10,
     "metadata": {},
     "output_type": "execute_result"
    }
   ],
   "source": [
    "# Transfer function object for the closed loop system\n",
    "H_tf = C_tf*G_tf/(1 + C_tf*G_tf)\n",
    "H_tf"
   ]
  },
  {
   "cell_type": "code",
   "execution_count": 11,
   "id": "3650df94-8900-4320-a07b-3a04ffc6adb8",
   "metadata": {},
   "outputs": [
    {
     "data": {
      "text/plain": [
       "(array([-2.5+44.71856438j, -2.5-44.71856438j, -3.  +0.j        ,\n",
       "        -2.  +0.j        ]),\n",
       " array([-3.+0.j, -2.+0.j]))"
      ]
     },
     "execution_count": 11,
     "metadata": {},
     "output_type": "execute_result"
    }
   ],
   "source": [
    "# Actually, this is much more complicated than necessary. Look at the pole/zero cancellations.\n",
    "H_tf.poles(), H_tf.zeros()"
   ]
  },
  {
   "cell_type": "code",
   "execution_count": 12,
   "id": "29903dc5-a743-4616-99f8-4accdfa356a4",
   "metadata": {},
   "outputs": [
    {
     "data": {
      "text/latex": [
       "$$\\frac{2000}{s^2 + 5 s + 2006}$$"
      ],
      "text/plain": [
       "TransferFunction(array([2000.]), array([1.000e+00, 5.000e+00, 2.006e+03]))"
      ]
     },
     "execution_count": 12,
     "metadata": {},
     "output_type": "execute_result"
    }
   ],
   "source": [
    "# You can get a simplified transfer function using the feedback method.\n",
    "H_tf = control.feedback(C_tf*G_tf)\n",
    "H_tf"
   ]
  },
  {
   "cell_type": "code",
   "execution_count": 13,
   "id": "72dbc890-aa00-468d-95fa-58d68057662e",
   "metadata": {},
   "outputs": [
    {
     "data": {
      "text/plain": [
       "(array([-2.5+44.71856438j, -2.5-44.71856438j]), array([], dtype=complex128))"
      ]
     },
     "execution_count": 13,
     "metadata": {},
     "output_type": "execute_result"
    }
   ],
   "source": [
    "H_tf.poles(), H_tf.zeros()"
   ]
  },
  {
   "cell_type": "code",
   "execution_count": 14,
   "id": "55bf31f7-b598-4e18-b6e1-986470b3c360",
   "metadata": {},
   "outputs": [
    {
     "data": {
      "text/plain": [
       "[<matplotlib.lines.Line2D at 0x176eb3730>]"
      ]
     },
     "execution_count": 14,
     "metadata": {},
     "output_type": "execute_result"
    },
    {
     "data": {
      "image/png": "[encoded data removed]",
      "text/plain": [
       "<Figure size 640x480 with 1 Axes>"
      ]
     },
     "metadata": {},
     "output_type": "display_data"
    }
   ],
   "source": [
    "# Plot the transfer function\n",
    "_, predictions = control.forced_response(H_tf, T=TIMES, U=1)\n",
    "plt.plot(TIMES, setpoint*predictions)"
   ]
  },
  {
   "cell_type": "code",
   "execution_count": 15,
   "id": "4e947950-3045-439c-be05-62a7b1351a84",
   "metadata": {},
   "outputs": [
    {
     "data": {
      "text/plain": [
       "(array([-2.5+44.71856438j, -2.5-44.71856438j]), array([], dtype=complex128))"
      ]
     },
     "execution_count": 15,
     "metadata": {},
     "output_type": "execute_result"
    }
   ],
   "source": [
    "H_tf.poles(), H_tf.zeros()"
   ]
  },
  {
   "cell_type": "markdown",
   "id": "ebf00cf6-69f8-4e2a-a2d1-b7fc3c172ce1",
   "metadata": {},
   "source": [
    "#### Step 4: Compare the simulation and the transfer function"
   ]
  },
  {
   "cell_type": "code",
   "execution_count": 40,
   "id": "2cdecd52-732b-4b06-a90d-d70a3a551b10",
   "metadata": {},
   "outputs": [
    {
     "data": {
      "text/plain": [
       "4.7681934126853067e-07"
      ]
     },
     "execution_count": 40,
     "metadata": {},
     "output_type": "execute_result"
    },
    {
     "data": {
      "image/png": "[encoded data removed]",
      "text/plain": [
       "<Figure size 300x300 with 1 Axes>"
      ]
     },
     "metadata": {},
     "output_type": "display_data"
    }
   ],
   "source": [
    "evaluateTransferFunction(MODEL1, H_tf, \"setpoint\", \"S3\", setpoint=5, kP=1000,\n",
    "                        figsize=(3,3), title=\"MODEL1\")"
   ]
  },
  {
   "cell_type": "markdown",
   "id": "e42fd9a8-b580-4fbe-a4c7-5c295851b818",
   "metadata": {},
   "source": [
    "### Effect of kP"
   ]
  },
  {
   "cell_type": "markdown",
   "id": "1742e126-3b5c-44c2-8d5a-ab249ba03147",
   "metadata": {},
   "source": [
    "1. What are the poles of $H(s)$ for $kP \\in \\{ 1, 5, 50 \\}$?"
   ]
  },
  {
   "cell_type": "code",
   "execution_count": 74,
   "id": "3d15c990-ff6d-4ba5-9e5d-1f61ec1ab2fd",
   "metadata": {},
   "outputs": [
    {
     "name": "stdout",
     "output_type": "stream",
     "text": [
      "OK!\n"
     ]
    }
   ],
   "source": [
    "def makeTransferFunction(roadrunner, k_ss, k_ds, input_name):\n",
    "    \"\"\"\n",
    "    Creates a transfer function for a sequential network based the the kinetic constants in\n",
    "    are synthesis and degradation reactions.\n",
    "    Args:\n",
    "        roadrunner: Roadrunner (model)\n",
    "        k_ss: list-str (kinetic constants in synthesis reactions)\n",
    "        k_ds: list-str (kinetic constants in degradation reactions)\n",
    "        input_name: str (name of input species)\n",
    "    Returns:\n",
    "        control.TransferFunction \n",
    "    \"\"\"\n",
    "    numr = np.prod([roadrunner[k] for k in k_ss])\n",
    "    denom = np.prod([(s + roadrunner[k]) if isinstance(k, str) else s for k in k_ds])\n",
    "    return numr/denom\n",
    "\n",
    "# TESTS\n",
    "tf = makeTransferFunction(TEST_RR, [\"k1\", \"k2\"], [\"k2\", 0], \"S1\") \n",
    "rmse = evaluateTransferFunction(TEST_MODEL, tf, \"S1\", \"S3\", is_plot=False)\n",
    "assert(isinstance(tf, control.TransferFunction))\n",
    "assert(rmse < 1e-3)\n",
    "print(\"OK!\")"
   ]
  },
  {
   "cell_type": "code",
   "execution_count": 77,
   "id": "ef388f45-d9b8-43e8-875f-78cac5956ae5",
   "metadata": {},
   "outputs": [
    {
     "data": {
      "image/png": "[encoded data removed]",
      "text/plain": [
       "<Figure size 300x300 with 1 Axes>"
      ]
     },
     "metadata": {},
     "output_type": "display_data"
    },
    {
     "name": "stdout",
     "output_type": "stream",
     "text": [
      "[-2.5+1.32287566j -2.5-1.32287566j -3. +0.j         -2. +0.j        ]\n"
     ]
    },
    {
     "data": {
      "image/png": "[encoded data removed]",
      "text/plain": [
       "<Figure size 300x300 with 1 Axes>"
      ]
     },
     "metadata": {},
     "output_type": "display_data"
    },
    {
     "name": "stdout",
     "output_type": "stream",
     "text": [
      "[-2.5+3.122499j -2.5-3.122499j -3. +0.j       -2. +0.j      ]\n"
     ]
    },
    {
     "data": {
      "image/png": "[encoded data removed]",
      "text/plain": [
       "<Figure size 300x300 with 1 Axes>"
      ]
     },
     "metadata": {},
     "output_type": "display_data"
    },
    {
     "name": "stdout",
     "output_type": "stream",
     "text": [
      "[-2.5+31.61882351j -2.5-31.61882351j -3.  +0.j         -2.  +0.j        ]\n"
     ]
    }
   ],
   "source": [
    "kPs = [1, 5, 500]\n",
    "for kP in kPs:\n",
    "    rr = plotModel(MODEL1, kP=kP, selections=[\"S3\", \"setpoint\"], figsize=(3,3), title=\"kP=%f\" % kP)\n",
    "    ols_tf = makeTransferFunction(rr, [\"k1\", \"k2\"], [\"k2\", \"k3\"], \"S1\")\n",
    "    cl_tf = kP*ols_tf/(1 + kP*ols_tf)\n",
    "    print(cl_tf.poles()) "
   ]
  },
  {
   "cell_type": "markdown",
   "id": "e5082afc-c6a4-4727-be84-2f10fb38437b",
   "metadata": {},
   "source": [
    "# PI Control w/o Filter"
   ]
  },
  {
   "cell_type": "code",
   "execution_count": 62,
   "id": "88d55cde-f5a4-41b7-a77b-94106cadbfe1",
   "metadata": {},
   "outputs": [
    {
     "data": {
      "image/png": "[encoded data removed]",
      "text/plain": [
       "<Figure size 500x500 with 1 Axes>"
      ]
     },
     "metadata": {},
     "output_type": "display_data"
    }
   ],
   "source": [
    "rr =plotModel(MODEL1, times=np.linspace(0, 1000, 10000), setpoint=5, kP=100,  kI=10, \n",
    "              selections=[\"S3\", \"integral_control_error\"], ylim=[0, 10])\n",
    "# Assign the constants used in the open and closed loops\n",
    "k1 = rr[\"k1\"]\n",
    "k2 = rr[\"k2\"]\n",
    "k3 = rr[\"k3\"]\n",
    "kP = rr[\"kP\"]\n",
    "setpoint = rr[\"setpoint\"]"
   ]
  },
  {
   "cell_type": "markdown",
   "id": "a82fc7df-15d0-4f64-ad77-03720518b937",
   "metadata": {},
   "source": [
    "# PI with filter"
   ]
  },
  {
   "cell_type": "markdown",
   "id": "341fc552-8968-4b70-96c8-aacccf0dc58c",
   "metadata": {},
   "source": [
    "<img src=https://github.com/joseph-hellerstein/advanced-controls-lectures/raw/main/lectures/images/simple_closed_loop.png/\n",
    "     width=\"600\">"
   ]
  }
 ],
 "metadata": {
  "kernelspec": {
   "display_name": "Python 3 (ipykernel)",
   "language": "python",
   "name": "python3"
  },
  "language_info": {
   "codemirror_mode": {
    "name": "ipython",
    "version": 3
   },
   "file_extension": ".py",
   "mimetype": "text/x-python",
   "name": "python",
   "nbconvert_exporter": "python",
   "pygments_lexer": "ipython3",
   "version": "3.9.6"
  }
 },
 "nbformat": 4,
 "nbformat_minor": 5
}
