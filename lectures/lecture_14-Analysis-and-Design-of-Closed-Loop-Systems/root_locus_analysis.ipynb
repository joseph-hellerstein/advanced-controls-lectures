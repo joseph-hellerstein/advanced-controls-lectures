{
 "cells": [
  {
   "cell_type": "markdown",
   "id": "f66faea6-5061-4e61-82b0-33f9e82aedf6",
   "metadata": {},
   "source": [
    "# ROOT LOCUS ANALYSIS"
   ]
  },
  {
   "cell_type": "markdown",
   "id": "8aa3a983-093a-411b-b41b-df404b618b2e",
   "metadata": {},
   "source": [
    "One approach to designing a closed loop system is to design the controller so as to achieve desired poles of the closed loop for the following objectives:\n",
    "* stability\n",
    "* short settling times\n",
    "* no oscillations"
   ]
  },
  {
   "cell_type": "markdown",
   "id": "b93d0f89-ca87-476b-9045-ba1869be3f57",
   "metadata": {},
   "source": [
    "A root locus plot shows the relationship between a controller parameter, its open loop poles and zeroes, and its closed loop poles."
   ]
  },
  {
   "cell_type": "code",
   "execution_count": 1,
   "id": "66cbb968-db8b-45e7-9db7-0c2668d4f34c",
   "metadata": {
    "id": "5c805d84-118d-421b-a193-5747073dbb1f",
    "tags": []
   },
   "outputs": [],
   "source": [
    "if False:\n",
    "    !pip -q install controlSBML\n",
    "    !pip -q install control\n",
    "    !pip -q install tellurium"
   ]
  },
  {
   "cell_type": "code",
   "execution_count": 2,
   "id": "54fb6353-860a-41ba-858a-3ac0c26328c8",
   "metadata": {
    "id": "f16d0f7a-d0c5-4f37-aa29-feed6d82a363"
   },
   "outputs": [],
   "source": [
    "import collections\n",
    "import control\n",
    "import controlSBML as ctl\n",
    "import numpy as np\n",
    "import pandas as pd\n",
    "import matplotlib.pyplot as plt\n",
    "import tellurium as te"
   ]
  },
  {
   "cell_type": "markdown",
   "id": "b65b0eb1-377c-4684-b368-a5f61cb04713",
   "metadata": {
    "id": "6f6b720c-90a8-466e-a7e9-9f689052020d"
   },
   "source": [
    "# Helpers"
   ]
  },
  {
   "cell_type": "code",
   "execution_count": 3,
   "id": "ad06c6ba-e955-46d6-9161-17c0b5b7d8e2",
   "metadata": {
    "id": "e079a252-622f-430f-888d-d5c9ca25d72b"
   },
   "outputs": [],
   "source": [
    "s = control.TransferFunction.s\n",
    "TIMES = np.linspace(0, 10, 100)"
   ]
  },
  {
   "cell_type": "code",
   "execution_count": 4,
   "id": "66ac91d7-3f06-47cd-b874-45f5bb430500",
   "metadata": {
    "id": "8ee2990c-01c5-49d6-8087-a5de36be1996"
   },
   "outputs": [],
   "source": [
    "TEST_MODEL = \"\"\"\n",
    "$S1 -> S2; k1*S1\n",
    "S2 -> S3; k2*S2\n",
    "\n",
    "S1 = 10\n",
    "S2 = 0\n",
    "S3 = 0\n",
    "k1 = 1\n",
    "k2 = 2\n",
    "k3 = 3\n",
    "\"\"\"\n",
    "TEST_RR = te.loada(TEST_MODEL)"
   ]
  },
  {
   "cell_type": "code",
   "execution_count": 5,
   "id": "a6a02206-833c-449a-ae71-4ab8d7f8ef5a",
   "metadata": {
    "id": "67d895af-db33-453f-8191-e6a8a077b86e",
    "tags": []
   },
   "outputs": [],
   "source": [
    "k1 = TEST_RR[\"k1\"]\n",
    "k2 = TEST_RR[\"k2\"]\n",
    "tf = k1*k2/(s*(s+k2))"
   ]
  },
  {
   "cell_type": "code",
   "execution_count": 6,
   "id": "333816a8-cbf7-4f54-aec0-74eb2637a25c",
   "metadata": {
    "colab": {
     "base_uri": "https://localhost:8080/"
    },
    "id": "8574416a-7fcd-456a-90c9-8fdb05c262e8",
    "outputId": "bbe12062-7e2e-4607-ad66-136b14d98b96"
   },
   "outputs": [
    {
     "name": "stdout",
     "output_type": "stream",
     "text": [
      "OK!\n"
     ]
    }
   ],
   "source": [
    "def evaluateTransferFunction(model, transfer_function, input_name, output_name, times=TIMES,\n",
    "                             is_plot=True, figsize=(5,5), title=\"\", **kwargs):\n",
    "    \"\"\"\n",
    "    Plots simulations versus predictions.\n",
    "\n",
    "    Args:\n",
    "        model: (str) antimony or roadrunner\n",
    "        tranfer_function (control.TransferFunction)\n",
    "        input_name: (str)\n",
    "        output_name: (str) prediction\n",
    "        times: (np.darray)\n",
    "        kwargs: simultion parameters\n",
    "    Returns:\n",
    "        float\n",
    "    \"\"\"\n",
    "    if isinstance(model, str):\n",
    "        rr = te.loada(model)\n",
    "    else:\n",
    "        rr = model\n",
    "    for key, value in kwargs.items():\n",
    "        rr[key] = value\n",
    "    rr.reset()\n",
    "    data = rr.simulate(times[0], times[-1], len(times))\n",
    "    new_output_name = \"[\" + output_name + \"]\"\n",
    "    if new_output_name in data.colnames:\n",
    "        output_name = new_output_name\n",
    "    simulations = data[output_name]\n",
    "    _, predictions = control.forced_response(transfer_function, T=times, U=1)\n",
    "    predictions = rr[input_name]*predictions\n",
    "    rmse = np.sqrt(np.sum(simulations-predictions)**2)/len(simulations)\n",
    "    if is_plot:\n",
    "        _, ax = plt.subplots(1, figsize=figsize)\n",
    "        ax.scatter(simulations, predictions)\n",
    "        maxval = max(np.max(predictions), np.max(simulations))\n",
    "        ax.plot([0, maxval], [0, maxval], color=\"red\")\n",
    "        ax.set_xlabel(\"simulated\")\n",
    "        ax.set_ylabel(\"predicted\")\n",
    "        ax.set_title(title)\n",
    "    return rmse\n",
    "\n",
    "rmse = evaluateTransferFunction(TEST_MODEL, tf, \"S1\", \"S3\", k1=1, figsize=(3,3), is_plot=False)\n",
    "assert(rmse < 1e-5)\n",
    "print(\"OK!\")"
   ]
  },
  {
   "cell_type": "code",
   "execution_count": 7,
   "id": "40b38767-440f-46b5-8a1b-5a680f1b91a0",
   "metadata": {
    "colab": {
     "base_uri": "https://localhost:8080/"
    },
    "id": "4fe43f17-10b0-4ced-947e-7835de1288be",
    "outputId": "20bbfc6d-8e03-4c36-c239-168a31233c3d"
   },
   "outputs": [
    {
     "name": "stdout",
     "output_type": "stream",
     "text": [
      "OK!\n"
     ]
    }
   ],
   "source": [
    "def plotModel(model, times=TIMES, is_plot=True, title=\"\", selections=None,\n",
    "              figsize=(5,5), ylim=None, **kwargs):\n",
    "    \"\"\"\n",
    "    Plots a model. \n",
    "\n",
    "    Args:\n",
    "       times: np.array\n",
    "       kwargs: values of parameters\n",
    "    Returns:\n",
    "       ExtendedRoadrunner\n",
    "    \"\"\"\n",
    "    rr = te.loada(model)\n",
    "    for key, value in kwargs.items():\n",
    "        rr[key] = float(value)\n",
    "    if selections is None:\n",
    "        rr.simulate(times[0], times[-1], len(times))\n",
    "    else:\n",
    "        if not \"time\" in selections:\n",
    "            selections.insert(0, \"time\")\n",
    "        rr.simulate(times[0], times[-1], len(times), selections=selections)\n",
    "    if is_plot:\n",
    "        if ylim is None:\n",
    "            rr.plot(title=title, figsize=figsize)\n",
    "        else:\n",
    "            rr.plot(title=title, figsize=figsize, ylim=ylim)\n",
    "    return rr\n",
    "\n",
    "# TESTS\n",
    "plotModel(TEST_MODEL, k1=0.1, is_plot=False, selections=[\"S2\"], ylim=[0, 10])\n",
    "print(\"OK!\")"
   ]
  },
  {
   "cell_type": "code",
   "execution_count": 8,
   "id": "af9f5cb7-8a03-4491-af49-521024000ffe",
   "metadata": {},
   "outputs": [
    {
     "name": "stdout",
     "output_type": "stream",
     "text": [
      "OK!\n"
     ]
    }
   ],
   "source": [
    "Parameters = collections.namedtuple(\"Parameters\", \"k1 k2 k3 S1 kP kI, setpoint\")\n",
    "def getParameters(model):\n",
    "    \"\"\"\n",
    "    Retrieves constants used in the open and closed loop models.\n",
    "    \n",
    "    Args:\n",
    "        model: str/Roadrunner\n",
    "        \n",
    "    Returns:\n",
    "        Parameters\n",
    "    \"\"\"\n",
    "    def get(name):\n",
    "        if name in rr.keys():\n",
    "            return rr[name]\n",
    "        return 0\n",
    "    #\n",
    "    if isinstance(model, str):\n",
    "        rr = te.loada(model)\n",
    "    else:\n",
    "        rr = model\n",
    "    #\n",
    "    parameters = Parameters(\n",
    "        k1=get(\"k1\"),\n",
    "        k2=get(\"k2\"),\n",
    "        k3=get(\"k3\"),\n",
    "        setpoint=get(\"setpoint\"),\n",
    "        kP=get(\"kP\"),\n",
    "        kI=get(\"kI\"),\n",
    "        S1=get(\"S1\"),\n",
    "    )\n",
    "    return parameters\n",
    "\n",
    "# Tests\n",
    "parameters = getParameters(model=TEST_MODEL)\n",
    "assert(isinstance(parameters, Parameters))\n",
    "print(\"OK!\")\n",
    "    "
   ]
  },
  {
   "cell_type": "code",
   "execution_count": 9,
   "id": "f563dc09-2df9-4863-8537-482f8f260a74",
   "metadata": {},
   "outputs": [
    {
     "name": "stdout",
     "output_type": "stream",
     "text": [
      "OK!\n"
     ]
    }
   ],
   "source": [
    "def plotPoles(model, kPs=0, kIs=0, xlim=None, is_plot=True):\n",
    "    \"\"\"\n",
    "    Plots the open loop poles and zeroes and closed loop poles for the model.\n",
    "    \n",
    "    Args:\n",
    "        model: antimony or roadrunner\n",
    "        kPs: list/float\n",
    "        kIs: list/float\n",
    "        xlim: tuple (limits of x-axis on plot)\n",
    "    \"\"\"\n",
    "    p = getParameters(model)\n",
    "    if isinstance(kPs, int) or isinstance(kPs, float):\n",
    "        kPs = [kPs]\n",
    "    if isinstance(kIs, int) or isinstance(kIs, float):\n",
    "        kIs = [kIs]\n",
    "    if len(kPs) == 1:\n",
    "        kPs = np.repeat(kPs[0], len(kIs))\n",
    "    if len(kIs) == 1:\n",
    "        kIs = np.repeat(kIs[0], len(kPs))\n",
    "    #\n",
    "    annotations = []\n",
    "    cl_poles = []\n",
    "    for kI in kIs:\n",
    "        for kP in kPs:\n",
    "            ol_tf = p.k1*p.k2/((s + p.k2)*(s+ p.k3))\n",
    "            C_tf = kP + kI/s\n",
    "            cl_tf = control.feedback(ol_tf*C_tf)\n",
    "            for pole in cl_tf.poles():\n",
    "                annotations.append(\"%2.2f, %2.2f\" % (kP, kI))\n",
    "                cl_poles.append(pole)\n",
    "    annotations.extend(annotations)\n",
    "    cl_poles = np.array(cl_poles)\n",
    "    if is_plot:\n",
    "        _, ax = plt.subplots(1)\n",
    "        ol_poles = ol_tf.poles()\n",
    "        ax.scatter(ol_poles.real, ol_poles.imag, marker=\"o\", c=\"red\")\n",
    "        ax.scatter(cl_poles.real, cl_poles.imag, marker=\"*\", c=\"blue\")\n",
    "        _ = [ax.annotate(t, (p.real, p.imag), fontsize=8) for t, p in zip(annotations, cl_poles)]\n",
    "        ax.set_xlabel(\"Real\")\n",
    "        ax.set_ylabel(\"Imaginary\")\n",
    "        _ = ax.set_title(\"Open and closed loop poles for kP, kI.\")\n",
    "        if xlim is not None:\n",
    "            ax.set_xlim(xlim)\n",
    "    \n",
    "# Tests\n",
    "plotPoles(TEST_MODEL, kPs=[0.01, 0.1, 10, 100], is_plot=False)\n",
    "print(\"OK!\")"
   ]
  },
  {
   "cell_type": "markdown",
   "id": "350c4036-ebdc-4829-b376-3eee25132b0e",
   "metadata": {},
   "source": [
    "# Analysis of pole trajectory"
   ]
  },
  {
   "cell_type": "markdown",
   "id": "7103aa24-8e58-4ae7-90b9-1a3afefd30c8",
   "metadata": {},
   "source": [
    "<img src=https://github.com/joseph-hellerstein/advanced-controls-lectures/raw/main/lectures/images/simple_feedback_nofilter.png/\n",
    "     width=\"600\">"
   ]
  },
  {
   "cell_type": "markdown",
   "id": "c8283720-dc9a-4e67-94c1-6388bb1f0fde",
   "metadata": {},
   "source": [
    "Let $C(s)$ be the transfer function of the controller and $G(s)$ be the transfer function of the OLS.\n",
    "Then, the transfer function of the closed loop is:\n",
    "\\begin{eqnarray}\n",
    "H(s) & = & \\frac{ C(s)G(s)}{1 +C(s) G(s)} \\\\\n",
    "\\end{eqnarray}"
   ]
  },
  {
   "cell_type": "markdown",
   "id": "fff70e93-9751-47f9-b920-05c7191c1598",
   "metadata": {},
   "source": [
    "Let $G(s) = \\frac{Z(s)}{P(s)}$.\n",
    "\\begin{eqnarray}\n",
    "H(s) & = & \\frac{ C(s)\\frac{Z(s)}{P(s)}}{1 +C(s)\\frac{Z(s)}{P(s)}} \\\\\n",
    "& = & \\frac{C(s) Z(s)}{P(s) + C(s) Z(s)} \\\\\n",
    "\\end{eqnarray}"
   ]
  },
  {
   "cell_type": "code",
   "execution_count": 10,
   "id": "7e953ac0-6b9a-4ef3-acc1-1b8e3c6b5f0d",
   "metadata": {},
   "outputs": [
    {
     "data": {
      "image/png": "[encoded data removed]",
      "text/plain": [
       "<Figure size 500x500 with 1 Axes>"
      ]
     },
     "metadata": {},
     "output_type": "display_data"
    }
   ],
   "source": [
    "MODEL1 = \"\"\"\n",
    "// Open loop system\n",
    "S1 -> S2; k1*S1\n",
    "S2 -> S3; k2*S2\n",
    "S3 -> ; k3*S3\n",
    "\n",
    "S2 = 0\n",
    "k1 =1\n",
    "k2 = 2\n",
    "k3 = 3\n",
    "// Feedback constants\n",
    "setpoint = 1  # Input to the closed loop is the setpoint or reference\n",
    "kP = 1  # Design parameter for P controller\n",
    "// Feedback loop\n",
    "control_error := setpoint - S3\n",
    "$S1 := kP*control_error   # Controller implementation\n",
    "\"\"\"\n",
    "SETPOINT = 5\n",
    "rr =plotModel(MODEL1, setpoint=SETPOINT, kP=100, selections=[\"setpoint\", \"S3\"])"
   ]
  },
  {
   "cell_type": "markdown",
   "id": "d059f626-8b6c-45dc-b07d-ba74bc1ddec8",
   "metadata": {},
   "source": [
    "**Transfer Functions**\n",
    "\n",
    "* Open loop transfer function $G(s) = \\frac{k_1 k_2}{(s + k_2)(s + k_3)}$.\n",
    "* Open loop zeroes: $s = ??$\n",
    "* Open loop poles $s = ??$"
   ]
  },
  {
   "cell_type": "markdown",
   "id": "6052709e-d078-4f02-8988-fd8ae3c2d3c3",
   "metadata": {},
   "source": [
    "Now let's see how the closed loop poles change as we change $k_P$."
   ]
  },
  {
   "cell_type": "markdown",
   "id": "eca5cf91-e91b-49f6-988f-4d44d062abea",
   "metadata": {},
   "source": [
    "Let $C(s) = k_P$. Then, $$H(s) = \\frac{k_P Z(s)}{P(s) + k_P Z(s)}$$."
   ]
  },
  {
   "cell_type": "code",
   "execution_count": 11,
   "id": "e66dc1ef-1b47-4a6b-be4d-364a2f92e3da",
   "metadata": {},
   "outputs": [
    {
     "data": {
      "image/png": "[encoded data removed]",
      "text/plain": [
       "<Figure size 640x480 with 1 Axes>"
      ]
     },
     "metadata": {},
     "output_type": "display_data"
    }
   ],
   "source": [
    "plotPoles(MODEL1, kPs=[0.01, 0.1, 10, 100])"
   ]
  },
  {
   "cell_type": "markdown",
   "id": "f99b919a-0c1a-4fe3-bfc4-bd93d4c40f6d",
   "metadata": {},
   "source": [
    "<img src=https://github.com/joseph-hellerstein/advanced-controls-lectures/raw/main/lectures/images/trajectory.png/\n",
    "     width=\"600\">"
   ]
  },
  {
   "cell_type": "markdown",
   "id": "90d02627-c2cd-4877-9369-c719dc5fb1b5",
   "metadata": {},
   "source": [
    "But the trajectory as we vary $k_I$ is quite different. Instead of going towards each pole, it goes away from each pole as $k_I$ increases."
   ]
  },
  {
   "cell_type": "code",
   "execution_count": 12,
   "id": "663cddde-9448-4e8c-9d0d-3c27d980cea0",
   "metadata": {},
   "outputs": [
    {
     "data": {
      "image/png": "[encoded data removed]",
      "text/plain": [
       "<Figure size 640x480 with 1 Axes>"
      ]
     },
     "metadata": {},
     "output_type": "display_data"
    }
   ],
   "source": [
    "plotPoles(MODEL1, kIs=[0.1, 1, 3])"
   ]
  },
  {
   "cell_type": "markdown",
   "id": "c65c6d10-afe2-4045-b7ac-b347eb1d5e4a",
   "metadata": {},
   "source": [
    "# Root locus plot"
   ]
  },
  {
   "cell_type": "markdown",
   "id": "071f8da2-b782-4e81-89fd-1253291daa55",
   "metadata": {},
   "source": [
    "The root locus plot provides a way to predict the trajectory of poles as well vary design parameters.\n",
    "It is limited to a single design parameter at a time: $k_P, k_I, k_D$."
   ]
  },
  {
   "cell_type": "markdown",
   "id": "45038273-8a0d-41a9-a378-f52b7b1d8c43",
   "metadata": {},
   "source": [
    "The plot is in the $s$ plane. This is the complex plane. The horizontal axis is the real part\n",
    "and the vertical axis is the imaginary part.\n",
    "The analysis is assumes that the transfer function of the controller is $k C(s)$. For example, in proportional control, $C(s) = 1$, and $k= k_P$. For integral control, $C(s) = \\frac{1}{s}$, and $k= k_I$.\n",
    "$Z(s), P(s)$ are the open loop zeroes and poles. That is, the open loop transfer function is $G(s) = \\frac{Z(s)}{P(s)}$.\n",
    "\n",
    "Below is the key equation for this analysis.\n",
    "\\begin{eqnarray}\n",
    "H(s) \n",
    "& = & \\frac{k C(s) Z(s)}{P(s) + kC(s) Z(s)} \\\\\n",
    "\\end{eqnarray}"
   ]
  },
  {
   "cell_type": "code",
   "execution_count": 13,
   "id": "d447adb8-8738-4130-abec-d21f5189c853",
   "metadata": {},
   "outputs": [],
   "source": [
    "p = getParameters(model=MODEL1)\n",
    "SYS_TF = p.k1*p.k2/((s + p.k2)*(s+ p.k3))"
   ]
  },
  {
   "cell_type": "markdown",
   "id": "b04f9bfd-dc82-4458-ba71-d48da0825730",
   "metadata": {},
   "source": [
    "## Proportional control"
   ]
  },
  {
   "cell_type": "markdown",
   "id": "906a0aa3-30b1-428b-908d-e6e9c9ac9647",
   "metadata": {},
   "source": [
    "\\begin{eqnarray}\n",
    "H(s) \n",
    "& = & \\frac{k_P Z(s)}{P(s) + k_P Z(s)} \\\\\n",
    "\\end{eqnarray}"
   ]
  },
  {
   "cell_type": "code",
   "execution_count": 14,
   "id": "076292b3-891b-4c7f-ab85-1163d2abeea2",
   "metadata": {},
   "outputs": [
    {
     "data": {
      "image/png": "[encoded data removed]",
      "text/plain": [
       "<Figure size 640x480 with 1 Axes>"
      ]
     },
     "metadata": {},
     "output_type": "display_data"
    }
   ],
   "source": [
    "_ = control.root_locus(SYS_TF, grid=False)"
   ]
  },
  {
   "cell_type": "markdown",
   "id": "af653009-250e-4aa0-b094-0287cd9e62d2",
   "metadata": {},
   "source": [
    "This plot tells us in more detail what we learned in our exploration of P-control.\n",
    "1. The closed loop poles start at the open loop poles indicated by the X's at -3 and -2.\n",
    "1. There are two poles. As we increase $k_P$, the pole near -3 moves to the right and the pole near -2 moves to the left.\n",
    "1. The two poles meet when $k_P$ is such that both poles are at -2.5. This is called the **break away** point.\n",
    "1. From the break away point, further increases in $k_P$ do not affect the real part of the closed loop poles. However, the immaginary part increases."
   ]
  },
  {
   "cell_type": "markdown",
   "id": "0c8c2654-6ef7-432b-9f4b-9e6214106861",
   "metadata": {},
   "source": [
    "<img src=https://github.com/joseph-hellerstein/advanced-controls-lectures/raw/main/lectures/images/trajectory.png/\n",
    "     width=\"600\">"
   ]
  },
  {
   "cell_type": "markdown",
   "id": "accf1751-2c09-4849-a98a-a965b8842dda",
   "metadata": {},
   "source": [
    "**Questions**\n",
    "1. From the foregoing, how would you choose $k_P$ if your control objectives are:\n",
    "(a) minimize settling times and\n",
    "(b) avoid oscillations?"
   ]
  },
  {
   "cell_type": "markdown",
   "id": "43d71f34-82c0-4d82-81f2-b6f33b7c72fd",
   "metadata": {},
   "source": [
    "## Integral control"
   ]
  },
  {
   "cell_type": "markdown",
   "id": "5620ca1b-5510-4d8c-94a1-a0b3c5c04173",
   "metadata": {},
   "source": [
    "\\begin{eqnarray}\n",
    "H(s) \n",
    "& = & \\frac{k_I Z(s)}{s P(s) + k_I Z(s)} \\\\\n",
    "\\end{eqnarray}"
   ]
  },
  {
   "cell_type": "code",
   "execution_count": 15,
   "id": "e6fd9c6f-6a83-4880-ad8f-3da95b7a1b1b",
   "metadata": {},
   "outputs": [],
   "source": [
    "p = getParameters(model=MODEL1)\n",
    "SYS_TF = p.k1*p.k2/(s*(s + p.k2)*(s+ p.k3))"
   ]
  },
  {
   "cell_type": "code",
   "execution_count": 16,
   "id": "28d7d3b9-81a9-4d86-87ea-fe20842b2b03",
   "metadata": {},
   "outputs": [
    {
     "data": {
      "image/png": "[encoded data removed]",
      "text/plain": [
       "<Figure size 640x480 with 1 Axes>"
      ]
     },
     "metadata": {},
     "output_type": "display_data"
    }
   ],
   "source": [
    "_ = control.root_locus(SYS_TF, grid=False)"
   ]
  },
  {
   "cell_type": "markdown",
   "id": "68e6ccb9-1cef-4d55-8588-4f3c96a9dbff",
   "metadata": {},
   "source": [
    "This looks very different from P-control. Note that for some values of $k_I$ the system is unstable."
   ]
  }
 ],
 "metadata": {
  "kernelspec": {
   "display_name": "Python 3 (ipykernel)",
   "language": "python",
   "name": "python3"
  },
  "language_info": {
   "codemirror_mode": {
    "name": "ipython",
    "version": 3
   },
   "file_extension": ".py",
   "mimetype": "text/x-python",
   "name": "python",
   "nbconvert_exporter": "python",
   "pygments_lexer": "ipython3",
   "version": "3.9.6"
  }
 },
 "nbformat": 4,
 "nbformat_minor": 5
}
