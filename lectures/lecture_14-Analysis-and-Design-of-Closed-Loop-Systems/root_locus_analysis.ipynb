{
 "cells": [
  {
   "cell_type": "markdown",
   "id": "f66faea6-5061-4e61-82b0-33f9e82aedf6",
   "metadata": {},
   "source": [
    "# ROOT LOCUS ANALYSIS"
   ]
  },
  {
   "cell_type": "markdown",
   "id": "8aa3a983-093a-411b-b41b-df404b618b2e",
   "metadata": {},
   "source": [
    "One approach to designing a closed loop system is to design the controller so as to achieve desired poles of the closed loop for the following objectives:\n",
    "* stability\n",
    "* short settling times\n",
    "* no oscillations"
   ]
  },
  {
   "cell_type": "markdown",
   "id": "b93d0f89-ca87-476b-9045-ba1869be3f57",
   "metadata": {},
   "source": [
    "A root locus plot shows the relationship between a controller parameter, its open loop poles and zeroes, and its closed loop poles."
   ]
  },
  {
   "cell_type": "code",
   "execution_count": 1,
   "id": "66cbb968-db8b-45e7-9db7-0c2668d4f34c",
   "metadata": {
    "id": "5c805d84-118d-421b-a193-5747073dbb1f",
    "tags": []
   },
   "outputs": [],
   "source": [
    "if False:\n",
    "    !pip -q install controlSBML\n",
    "    !pip -q install control\n",
    "    !pip -q install tellurium"
   ]
  },
  {
   "cell_type": "code",
   "execution_count": 1,
   "id": "54fb6353-860a-41ba-858a-3ac0c26328c8",
   "metadata": {
    "id": "f16d0f7a-d0c5-4f37-aa29-feed6d82a363"
   },
   "outputs": [],
   "source": [
    "import control\n",
    "import controlSBML as ctl\n",
    "import numpy as np\n",
    "import pandas as pd\n",
    "import matplotlib.pyplot as plt\n",
    "import tellurium as te"
   ]
  }
 ],
 "metadata": {
  "kernelspec": {
   "display_name": "Python 3 (ipykernel)",
   "language": "python",
   "name": "python3"
  },
  "language_info": {
   "codemirror_mode": {
    "name": "ipython",
    "version": 3
   },
   "file_extension": ".py",
   "mimetype": "text/x-python",
   "name": "python",
   "nbconvert_exporter": "python",
   "pygments_lexer": "ipython3",
   "version": "3.9.6"
  }
 },
 "nbformat": 4,
 "nbformat_minor": 5
}
