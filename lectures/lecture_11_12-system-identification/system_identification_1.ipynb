{
 "cells": [
  {
   "cell_type": "markdown",
   "id": "0d6ccd69-d25c-4643-b8d9-887972581454",
   "metadata": {
    "tags": []
   },
   "source": [
    "# System Identification"
   ]
  },
  {
   "cell_type": "markdown",
   "id": "0b8d954e-ad3d-4b57-a197-118a35dc4867",
   "metadata": {},
   "source": [
    "System identification is the process of finding a transfer function that predicts outputs\n",
    "that are close to those predicted by experimental data. These data\n",
    "may be obtained from actual experiments for from a detailed nonlinear model.\n",
    "System identification involves: iteratively choosing the size of the numerator and denominator polynomial\n",
    "of the transfer function,\n",
    "estimating the parameters of the transfer function, and evaluating the quality of the fit to\n",
    "the predictions of the transfer function."
   ]
  },
  {
   "cell_type": "markdown",
   "id": "78c87479-3990-41ff-abe4-002f44c52d3f",
   "metadata": {
    "tags": []
   },
   "source": [
    "## Preliminaries"
   ]
  },
  {
   "cell_type": "code",
   "execution_count": null,
   "id": "09781b48-8889-4a12-a408-91fa5f640e40",
   "metadata": {},
   "outputs": [],
   "source": [
    "!pip install controlSBML\n",
    "!pip install control"
   ]
  },
  {
   "cell_type": "code",
   "execution_count": 1,
   "id": "07c84a69-4956-474e-bfb0-c45549f9d0ed",
   "metadata": {},
   "outputs": [
    {
     "data": {
      "text/plain": [
       "'1.1.01'"
      ]
     },
     "execution_count": 1,
     "metadata": {},
     "output_type": "execute_result"
    }
   ],
   "source": [
    "import controlSBML as ctl\n",
    "\n",
    "import matplotlib.pyplot as plt\n",
    "import control\n",
    "import numpy as np\n",
    "import pandas as pd\n",
    "import tellurium as te\n",
    "ctl.__version__"
   ]
  },
  {
   "cell_type": "code",
   "execution_count": null,
   "id": "983f02a5-80a5-49ca-b294-9f6c1b363b88",
   "metadata": {},
   "outputs": [],
   "source": [
    "s = control.TransferFunction.s"
   ]
  },
  {
   "cell_type": "markdown",
   "id": "6ce43955-c086-434e-9b98-9b0ae892f618",
   "metadata": {},
   "source": [
    "## Models"
   ]
  },
  {
   "cell_type": "markdown",
   "id": "1559635c-8359-4b72-b4da-34b9f3b132d2",
   "metadata": {},
   "source": [
    "### LINEAR_MODEL"
   ]
  },
  {
   "cell_type": "code",
   "execution_count": null,
   "id": "f9fd9895-0c55-4a93-88ed-973c9179c6b0",
   "metadata": {},
   "outputs": [],
   "source": [
    "LINEAR_MODEL = \"\"\"\n",
    "model *model_main()\n",
    "J1: S1 -> S2; k1*S1\n",
    "J2: S2 -> S3; k2*S2\n",
    "J3: S3 -> ; k3*S3\n",
    "S1 = 10; S2 = 0; S3 = 0\n",
    "\n",
    "k1 = 1\n",
    "k2 = 1\n",
    "k3 = 1\n",
    "end\n",
    "\"\"\"\n",
    "rr = te.loada(LINEAR_MODEL)\n",
    "rr.simulate()\n",
    "rr.plot(figsize=(3,3))"
   ]
  },
  {
   "cell_type": "code",
   "execution_count": null,
   "id": "5f0166cc-0c71-4937-b48b-af6e6c7df9c5",
   "metadata": {},
   "outputs": [],
   "source": [
    "LINEAR_CTLSB = ctl.ControlSBML(LINEAR_MODEL, input_names=[\"S1\"], output_names=[\"S3\"])"
   ]
  },
  {
   "cell_type": "markdown",
   "id": "1d6862a2-0b77-4872-9eb3-f7940f5266f5",
   "metadata": {},
   "source": [
    "### WOLF_MODEL"
   ]
  },
  {
   "cell_type": "code",
   "execution_count": null,
   "id": "eb24426f-618e-4b9d-b2e4-5068f59fb76d",
   "metadata": {},
   "outputs": [],
   "source": [
    "WOLF_URL = \"https://www.ebi.ac.uk/biomodels/model/download/BIOMD0000000206.2?filename=BIOMD0000000206_url.xml\"\n",
    "rr = te.loadSBMLModel(WOLF_URL)\n",
    "WOLF_MODEL = rr.getAntimony()\n",
    "WOLF_CTLSB = ctl.ControlSBML(WOLF_MODEL, input_names=[\"at_\"], output_names=[\"s5\"])\n",
    "print(WOLF_MODEL)"
   ]
  },
  {
   "cell_type": "code",
   "execution_count": null,
   "id": "b736c4fd-4131-4188-9d20-fffb16b15185",
   "metadata": {},
   "outputs": [],
   "source": [
    "rr = te.loada(WOLF_MODEL)\n",
    "rr.simulate()\n",
    "rr.plot()"
   ]
  },
  {
   "cell_type": "markdown",
   "id": "217b38a5-317f-4ee7-be32-cebe697e0ab0",
   "metadata": {},
   "source": [
    "### MTOR_MODEL"
   ]
  },
  {
   "cell_type": "code",
   "execution_count": null,
   "id": "3d43f9de-9de0-4721-85e7-c5184804efef",
   "metadata": {},
   "outputs": [],
   "source": [
    "MTOR_URL = \"https://www.ebi.ac.uk/biomodels/model/download/BIOMD0000000823.2?filename=Varusai2018.xml\"\n",
    "rr = te.loadSBMLModel(MTOR_URL)\n",
    "MTOR_MODEL = rr.getAntimony()\n",
    "MTOR_CTLSB = ctl.ControlSBML(MTOR_MODEL, input_names=[\"DEPTOR\"], output_names=[\"mTORC1\"])\n",
    "print(MTOR_MODEL)"
   ]
  },
  {
   "cell_type": "code",
   "execution_count": null,
   "id": "e217e15a-bba7-4635-9e08-0a46503f579c",
   "metadata": {},
   "outputs": [],
   "source": [
    "rr = te.loada(MTOR_MODEL)\n",
    "rr.simulate()\n",
    "rr.plot()"
   ]
  },
  {
   "cell_type": "markdown",
   "id": "46f54be2-6a13-4636-aa6f-965b55d2f1db",
   "metadata": {},
   "source": [
    "# Linear model transfer function"
   ]
  },
  {
   "cell_type": "markdown",
   "id": "087b9c78-3476-4b88-9aa4-209e2ee32323",
   "metadata": {},
   "source": [
    "In this section, we use LINEAR_MODEL to illustrate system identification.\n",
    "The work can be simplied by making use of the ``SISOTransferFunctionBuilder``\n",
    "object in ``ControlSBML``."
   ]
  },
  {
   "cell_type": "markdown",
   "id": "68563aa9-b01f-4adc-b6a2-a4fca9088abd",
   "metadata": {},
   "source": [
    "## Step 1. Determine the operating region"
   ]
  },
  {
   "cell_type": "markdown",
   "id": "2b033474-1db1-4fa1-8b76-cdbca96aa945",
   "metadata": {},
   "source": [
    "The operating region is the range of control inputs that should handled by the controller.\n",
    "We want to see how responsive the system is to the possible outputs from the controller.\n",
    "We assess the operating region by using a *staircase input*.\n",
    "This is a sequence of steps of the same height that have a duration that is sufficiently\n",
    "long so that the system stabilizes."
   ]
  },
  {
   "cell_type": "code",
   "execution_count": null,
   "id": "ce7147b7-0e7d-477d-aa56-399cf61a5a8d",
   "metadata": {},
   "outputs": [],
   "source": [
    "STAIRCASE = LINEAR_CTLSB.plotStaircaseResponse(times=np.linspace(0, 200, 2000))"
   ]
  },
  {
   "cell_type": "markdown",
   "id": "8f6dac7a-e90c-472b-88af-fd51700f512e",
   "metadata": {},
   "source": [
    "## Step 2. Find the transfer function"
   ]
  },
  {
   "cell_type": "markdown",
   "id": "440fd08c-19bb-41c3-ad97-4166f091b2f1",
   "metadata": {},
   "source": [
    "To fit a transfer function, we must specify the number of terms in the\n",
    "numerator and denominator polynomials for the transfer function."
   ]
  },
  {
   "cell_type": "code",
   "execution_count": null,
   "id": "99553a4a-2d46-40c7-9990-42292eabed0f",
   "metadata": {},
   "outputs": [],
   "source": [
    "?LINEAR_CTLSB.plotTransferFunctionFit"
   ]
  },
  {
   "cell_type": "code",
   "execution_count": null,
   "id": "22108159-4f84-4da1-bd9f-fffd55994983",
   "metadata": {},
   "outputs": [],
   "source": [
    "result = LINEAR_CTLSB.plotTransferFunctionFit(num_numerator=1, num_denominator=2, times=np.linspace(0, 200, 2000))"
   ]
  },
  {
   "cell_type": "code",
   "execution_count": null,
   "id": "bbb90fd8-29f7-4c19-ab3a-fe8dfdda20c3",
   "metadata": {},
   "outputs": [],
   "source": [
    "LINEAR_TF = 0.05/(.11*s + 0.05)"
   ]
  },
  {
   "cell_type": "code",
   "execution_count": null,
   "id": "1444db13-9abb-44a3-aa32-2ea61b9b7c53",
   "metadata": {},
   "outputs": [],
   "source": [
    "LINEAR_TF.poles()"
   ]
  },
  {
   "cell_type": "code",
   "execution_count": null,
   "id": "d42f0a3a-68a5-4021-96db-651f651a0f3c",
   "metadata": {},
   "outputs": [],
   "source": [
    "LINEAR_TF.dcgain()"
   ]
  },
  {
   "cell_type": "markdown",
   "id": "d1f6399f-39c7-4e08-91ab-912fd25ed175",
   "metadata": {},
   "source": [
    "#  Wolf Transfer Function"
   ]
  },
  {
   "cell_type": "code",
   "execution_count": null,
   "id": "0a340592-f335-4b33-950e-a38e13cfbdc8",
   "metadata": {},
   "outputs": [],
   "source": [
    "WOLF_CTLSB = ctl.ControlSBML(WOLF_MODEL, input_names=[\"s1\"], output_names=[\"s5\"])"
   ]
  },
  {
   "cell_type": "markdown",
   "id": "6237038f-87a8-459a-9c29-d0a609bf7f6c",
   "metadata": {},
   "source": [
    "## Determine the operating region"
   ]
  },
  {
   "cell_type": "code",
   "execution_count": null,
   "id": "3f17209d-3cf3-4acf-8c33-f7bb144aff6e",
   "metadata": {},
   "outputs": [],
   "source": [
    "_ = WOLF_CTLSB.plotStaircaseResponse(times=np.linspace(0, 30, 300), initial_value=10, final_value=50)"
   ]
  },
  {
   "cell_type": "markdown",
   "id": "d4d32182-4b37-46ed-9443-a79796cbee42",
   "metadata": {},
   "source": [
    "## Find the transfer function"
   ]
  },
  {
   "cell_type": "code",
   "execution_count": null,
   "id": "ba78a553-bee8-4ac4-96a3-a51c3e648175",
   "metadata": {},
   "outputs": [],
   "source": [
    "_ = WOLF_CTLSB.plotTransferFunctionFit(times=np.linspace(0, 30, 300), initial_value=10, final_value=50,\n",
    "                                      fit_start_time=5)"
   ]
  },
  {
   "cell_type": "code",
   "execution_count": null,
   "id": "cdbee435-2684-43e7-9584-094c4b746baa",
   "metadata": {},
   "outputs": [],
   "source": [
    "_ = WOLF_CTLSB.plotTransferFunctionFit(num_numerator=4, num_denominator=5, times=np.linspace(0, 30, 300),\n",
    "                                       fit_start_time=5, initial_value=10, final_value=50, ylim=[0, 50])"
   ]
  },
  {
   "cell_type": "code",
   "execution_count": null,
   "id": "b7529e0f-f848-4122-bf9d-507d82209057",
   "metadata": {},
   "outputs": [],
   "source": [
    "WOLF_TF = (-9.1*s**3 - 4.06*s**2 -3.59*s - 9.19)/(-7.88*s**4 - 8.61*s**3 - 8.87*s**2 - 7.89*s - 8.58)\n",
    "WOLF_TF.poles()"
   ]
  },
  {
   "cell_type": "markdown",
   "id": "3a53660c-ed76-4cad-9a13-bb31d34b696b",
   "metadata": {},
   "source": [
    "# mTOR transfer function"
   ]
  },
  {
   "cell_type": "code",
   "execution_count": null,
   "id": "519dde16-82ab-4421-86f4-531d35a0b079",
   "metadata": {},
   "outputs": [],
   "source": [
    "MTOR_CTLSB = ctl.ControlSBML(MTOR_MODEL, input_names=[\"V1\"], output_names=[\"pmTORC1\", \"pmTORC2\"])"
   ]
  }
 ],
 "metadata": {
  "kernelspec": {
   "display_name": "Python 3 (ipykernel)",
   "language": "python",
   "name": "python3"
  },
  "language_info": {
   "codemirror_mode": {
    "name": "ipython",
    "version": 3
   },
   "file_extension": ".py",
   "mimetype": "text/x-python",
   "name": "python",
   "nbconvert_exporter": "python",
   "pygments_lexer": "ipython3",
   "version": "3.9.6"
  },
  "toc-autonumbering": false
 },
 "nbformat": 4,
 "nbformat_minor": 5
}
