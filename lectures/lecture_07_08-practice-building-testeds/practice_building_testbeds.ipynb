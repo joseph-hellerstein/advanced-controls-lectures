{
 "cells": [
  {
   "cell_type": "markdown",
   "id": "0d6ccd69-d25c-4643-b8d9-887972581454",
   "metadata": {
    "tags": []
   },
   "source": [
    "# PRACTICE BUILDING TESTBEDS"
   ]
  },
  {
   "cell_type": "markdown",
   "id": "7bf47cf0-9370-4897-89aa-28c59b4df706",
   "metadata": {},
   "source": [
    "This notebook poses a sequences of problems for building testbeds."
   ]
  },
  {
   "cell_type": "code",
   "execution_count": null,
   "id": "d97c630f-47fe-4d31-87af-1a34dac636f1",
   "metadata": {},
   "outputs": [],
   "source": [
    "if False:\n",
    "    !pip uninstall numpy\n",
    "    !pip install numpy==1.23.1\n",
    "    !pip install tellurium\n",
    "    !pip install controlSBML"
   ]
  },
  {
   "cell_type": "markdown",
   "id": "78c87479-3990-41ff-abe4-002f44c52d3f",
   "metadata": {
    "tags": []
   },
   "source": [
    "## Preliminaries"
   ]
  },
  {
   "cell_type": "code",
   "execution_count": null,
   "id": "07c84a69-4956-474e-bfb0-c45549f9d0ed",
   "metadata": {},
   "outputs": [],
   "source": [
    "import controlSBML as ctl\n",
    "\n",
    "import control\n",
    "import matplotlib.pyplot as plt\n",
    "import numpy as np\n",
    "import pandas as pd\n",
    "import tellurium as te\n",
    "from IPython.display import Image\n",
    "from IPython.core.display import HTML\n",
    "ctl.__version__"
   ]
  },
  {
   "cell_type": "markdown",
   "id": "57622374-9ad5-4ae8-a385-2f3a36a3e0f0",
   "metadata": {},
   "source": [
    "# Helpers"
   ]
  },
  {
   "cell_type": "code",
   "execution_count": null,
   "id": "8127e18f-8aa0-457b-b2f3-98ae3297974b",
   "metadata": {},
   "outputs": [],
   "source": [
    "TEST_MODEL = \"\"\"\n",
    "species S1, S2, S3\n",
    "\n",
    "S1 -> S2; k1*S1\n",
    "S2 -> S3; k2*S2\n",
    "\n",
    "S1 = 10\n",
    "S2 = 0\n",
    "S3 = 0\n",
    "k1 = 1\n",
    "k2 =2\n",
    "\"\"\"\n",
    "ctlsb = ctl.ControlSBML(TEST_MODEL, input_names=[\"S1\", \"S2\"], output_names=[\"S3\"])\n",
    "TEST_SYS = ctlsb.makeNonlinearIOSystem(\"TEST_SYS\")"
   ]
  },
  {
   "cell_type": "markdown",
   "id": "6451843c-a1e9-431d-815f-49825ba011de",
   "metadata": {},
   "source": [
    "## plotSys"
   ]
  },
  {
   "cell_type": "code",
   "execution_count": null,
   "id": "933b8c84-f903-4bbf-af26-29dfc005d676",
   "metadata": {},
   "outputs": [],
   "source": [
    "def plotSys(sys, times=None, initial_values=None, forced_input=None, title=\"\", ax=None, output_labels=None, is_plot=True):\n",
    "    \"\"\"\n",
    "    Plots the system.\n",
    "    \n",
    "    Parameters\n",
    "    ----------\n",
    "    sys: NonlinearIOSystem\n",
    "    times: list-float (times for simulation)\n",
    "    initial_values: list-float\n",
    "    forced_input: list-float\n",
    "    ax: matplotlib.Axes\n",
    "    output_labels: list-str (names for output labels)\n",
    "    \n",
    "    Returns\n",
    "    -------\n",
    "    np.ndarray, np.ndarray, ax (times, predicted values, plot axis)\n",
    "    \"\"\"\n",
    "    if times is None:\n",
    "        times = np.linspace(0, 5, 100)\n",
    "    if forced_input is None:\n",
    "        ncol = len(times)\n",
    "        nrow = len(sys.input_labels)\n",
    "        forced_input = np.array([np.repeat(0, nrow) for _ in range(ncol)])\n",
    "        forced_input = np.reshape(forced_input, (nrow, ncol))\n",
    "    if initial_values is None:\n",
    "        initial_values = ctl.makeStateVector(sys)\n",
    "    if ax is None:\n",
    "        _, ax = plt.subplots(1)\n",
    "    if output_labels is None:\n",
    "        output_labels = list(sys.output_labels)\n",
    "    # Simulate the system\n",
    "    t, y = control.input_output_response(sys, times, forced_input, initial_values)\n",
    "    # Plot the response\n",
    "    num_output = len(output_labels)\n",
    "    if num_output == 1:\n",
    "        if y.ndim == 1:\n",
    "            plt.plot(t, y)\n",
    "        else:\n",
    "            plt.plot(t, y[0])\n",
    "    else:\n",
    "        for idx in range(num_output):\n",
    "            ax.plot(t, y[idx])\n",
    "    ax.legend(output_labels)\n",
    "    if not is_plot:\n",
    "        plt.close()\n",
    "    return t, y, ax\n",
    "    \n",
    "# Tests\n",
    "times = T = np.linspace(0, 70, 500)\n",
    "times, predictions, _ = plotSys(TEST_SYS, times, is_plot=False)\n",
    "assert(len(times) == len(predictions[0]))\n",
    "print(\"OK!\")"
   ]
  },
  {
   "cell_type": "markdown",
   "id": "6ce43955-c086-434e-9b98-9b0ae892f618",
   "metadata": {},
   "source": [
    "# Models"
   ]
  },
  {
   "cell_type": "markdown",
   "id": "1559635c-8359-4b72-b4da-34b9f3b132d2",
   "metadata": {},
   "source": [
    "## Linear model"
   ]
  },
  {
   "cell_type": "code",
   "execution_count": null,
   "id": "f9fd9895-0c55-4a93-88ed-973c9179c6b0",
   "metadata": {},
   "outputs": [],
   "source": [
    "LINEAR_MDL = \"\"\"\n",
    "S1 -> S2; k1*S1\n",
    "S2 -> S3; k2*S2\n",
    "S3 -> S4; k3*S3\n",
    "\n",
    "k1 = 2\n",
    "k2 = 1.5\n",
    "k3 = 1\n",
    "S1 = 10\n",
    "S2 = 0\n",
    "S3 = 0\n",
    "S4 = 0\n",
    "\"\"\"\n",
    "LINEAR_RR = te.loada(LINEAR_MDL)\n",
    "LINEAR_DATA = LINEAR_RR.simulate()\n",
    "LINEAR_RR.plot(LINEAR_DATA)\n",
    "LINEAR_STATE_NAMES = [\"S1\", \"S2\", \"S3\", \"S4\"]\n",
    "LINEAR_PARAM_DCT = {\"input_names\": LINEAR_STATE_NAMES, \"output_names\": LINEAR_STATE_NAMES}"
   ]
  },
  {
   "cell_type": "markdown",
   "id": "1d6862a2-0b77-4872-9eb3-f7940f5266f5",
   "metadata": {},
   "source": [
    "## WOLF model"
   ]
  },
  {
   "cell_type": "code",
   "execution_count": null,
   "id": "4a76dfc2-8d82-4c81-868d-4f41762112a7",
   "metadata": {},
   "outputs": [],
   "source": [
    "WOLF_CTLSB = ctl.ControlSBML(\"https://www.ebi.ac.uk/biomodels/model/download/BIOMD0000000206.2?filename=BIOMD0000000206_url.xml\", \n",
    "                        input_names=[\"at\"], output_names=[\"s5\"])\n",
    "WOLF_RR = WOLF_CTLSB.roadrunner\n",
    "WOLF_RR.simulate(0, 1, 100)\n",
    "WOLF_RR.plot()"
   ]
  },
  {
   "cell_type": "code",
   "execution_count": null,
   "id": "fb1b2955-7ea2-44c3-b9b5-02aa24d35b13",
   "metadata": {},
   "outputs": [],
   "source": [
    "WOLF_ANT = WOLF_RR.getAntimony()\n",
    "print(WOLF_ANT)"
   ]
  },
  {
   "cell_type": "markdown",
   "id": "d1f6399f-39c7-4e08-91ab-912fd25ed175",
   "metadata": {},
   "source": [
    "# Review: Closed loop testbed for Wolf"
   ]
  },
  {
   "cell_type": "code",
   "execution_count": null,
   "id": "358b4a53-247f-4eeb-977c-1c61542683bb",
   "metadata": {},
   "outputs": [],
   "source": [
    "Image(\"wolf_cls1.png\", width = 600, height = 300)"
   ]
  },
  {
   "cell_type": "markdown",
   "id": "eca0e8f6-36cc-45b6-b783-ce76efdae6bd",
   "metadata": {},
   "source": [
    "This example explores the use of feedback control to regulate the concentration of pyruvate in\n",
    "a model of glycolytic oscillations (BioModels 206).\n",
    "\n",
    "Pyruvate is ``s5`` in the model.\n",
    "It is regulated using ATP, species ``at`` in the model."
   ]
  },
  {
   "cell_type": "markdown",
   "id": "dbb1df5c-0291-44bf-8c00-5485005b8107",
   "metadata": {},
   "source": [
    "Below is the behavior of the unregulated system.\n",
    "Note the oscillations in ``s5``."
   ]
  },
  {
   "cell_type": "code",
   "execution_count": null,
   "id": "0b91c7da-c2e5-4725-81dc-5cfbc02250d6",
   "metadata": {},
   "outputs": [],
   "source": [
    "# Simulate the open loop system with no change in its input (at)\n",
    "wolf_sys = WOLF_CTLSB.makeNonlinearIOSystem(\"wolf_sys\")\n",
    "ts = ctl.simulateSystem(wolf_sys, end_time=30)\n",
    "_ = ctl.plotOneTS(ts, figsize=(5,5), ylim=[0, 10])"
   ]
  },
  {
   "cell_type": "markdown",
   "id": "f83ad601-3758-478e-877c-c6ca6053876d",
   "metadata": {},
   "source": [
    "**Control Objectives**\n",
    "\n",
    "1. Eliminate the oscillations from ``s5``\n",
    "1. Coverge to 6."
   ]
  },
  {
   "cell_type": "markdown",
   "id": "e7c53e60-2bec-4b22-a719-6193b89e0e61",
   "metadata": {},
   "source": [
    "Next, we construct a PI controller."
   ]
  },
  {
   "cell_type": "code",
   "execution_count": null,
   "id": "32f46a00-6255-41f1-b813-4f2aa7500e18",
   "metadata": {
    "tags": []
   },
   "outputs": [],
   "source": [
    "S5_SETPOINT = 6"
   ]
  },
  {
   "cell_type": "code",
   "execution_count": null,
   "id": "77f0ef15-2786-4db8-a40e-c21358efbbf0",
   "metadata": {},
   "outputs": [],
   "source": [
    "def makePIController(setpoint=S5_SETPOINT, kP=20, kI=10):\n",
    "    \"\"\"\n",
    "    Makes a PI controller\n",
    "    \n",
    "    Parameters\n",
    "    ----------\n",
    "    setpoint: float\n",
    "    kP: float\n",
    "    kI: float\n",
    "    \n",
    "    Returns\n",
    "    -------\n",
    "    NonlinearIOSystem\n",
    "    \"\"\"\n",
    "    # Calculate derivative of state\n",
    "    def updfcn(t, x, u, _):\n",
    "        # Accumulate the control error\n",
    "        # t: float (time)\n",
    "        # x: array-float (state)\n",
    "        # u: array-float (output from OLS)\n",
    "        # returns: array-float (derivative of state)\n",
    "        dx = setpoint - u[0]\n",
    "        return dx\n",
    "\n",
    "    # Calculate output value\n",
    "    def outfcn(t, x, u, _):\n",
    "        # Calculate the output from the input\n",
    "        # t: float (time)\n",
    "        # x: array-float (state)\n",
    "        # u: array-float (inputs)\n",
    "        # returns: array (output)\n",
    "        new_err = setpoint - u[0]\n",
    "        output = kI*x[0] + kP*new_err\n",
    "        return output\n",
    "\n",
    "    controller = control.NonlinearIOSystem(\n",
    "      updfcn,\n",
    "      outfcn,\n",
    "      states=1,\n",
    "      inputs=['in'],\n",
    "      outputs=['out'], name='controller_sys')\n",
    "    return controller\n",
    "\n",
    "# Tests\n",
    "controller = makePIController()\n",
    "assert(\"NonlinearIOSystem\" in str(type(controller)))\n",
    "print(\"OK\")"
   ]
  },
  {
   "cell_type": "markdown",
   "id": "8dfe4e2a-82c8-406d-b787-5dc67c596d2a",
   "metadata": {},
   "source": [
    "We form a closed loop system so that the output of the glycolytic system, ``sys.s5``, is\n",
    "the input the the controller, ``controller.in``.\n",
    "And, the output of the controller, ``controller.out``, is the input the glycolytic system."
   ]
  },
  {
   "cell_type": "code",
   "execution_count": null,
   "id": "5b72e95d-48cf-4889-b1ff-61ec83566b55",
   "metadata": {},
   "outputs": [],
   "source": [
    "def makeInterconnect(wolf_sys=wolf_sys, **kwargs):\n",
    "    \"\"\"\n",
    "    Create an Interconnect object for the Wolf closed loop system.\n",
    "    \n",
    "    Parameters\n",
    "    ----------\n",
    "    wolf_sys: NonlinearIOSystem\n",
    "    kwargs: dict (arguments for makePIController)\n",
    "    \n",
    "    Returns\n",
    "    -------\n",
    "    Interconnect\n",
    "    \"\"\"\n",
    "    controller_sys = makePIController(**kwargs)\n",
    "    closed_sys = control.interconnect(\n",
    "      [wolf_sys, controller_sys],       # systems\n",
    "      connections=[\n",
    "        ['wolf_sys.at', 'controller_sys.out'],\n",
    "        ['controller_sys.in',  'wolf_sys.s5'],\n",
    "      ],\n",
    "      inplist=[\"controller_sys.in\"],\n",
    "      outlist=[\"wolf_sys.s5\"],\n",
    "    )\n",
    "    return closed_sys\n",
    "\n",
    "# Tests\n",
    "interconnect = makeInterconnect()\n",
    "assert(\"Interconnect\" in str(type(interconnect)))\n",
    "print(\"OK!\")"
   ]
  },
  {
   "cell_type": "markdown",
   "id": "a407e251-f98e-4607-89bb-552c9640fec7",
   "metadata": {},
   "source": [
    "Now, we simulate the closed loop system.\n",
    "Note that we have eliminated oscillations, and ``s5`` converges to 6."
   ]
  },
  {
   "cell_type": "code",
   "execution_count": null,
   "id": "3e06d275-34b0-40f4-a223-fef2f4f75dd0",
   "metadata": {},
   "outputs": [],
   "source": [
    "closed_sys = makeInterconnect(kP=100, kI=10)\n",
    "end_time = 30\n",
    "ts = ctl.simulateSystem(closed_sys, end_time=end_time, output_names=[\"s5\"])\n",
    "ts[\"setpoint\"] = S5_SETPOINT\n",
    "# Plot the resultkkk\n",
    "_ = ctl.plotOneTS(ts, figsize=(5,5), ylim=[0, 10], title=\"Closed Loop Wolf System\")"
   ]
  },
  {
   "cell_type": "markdown",
   "id": "627c1060-5aa3-435f-b13b-7164eebe2192",
   "metadata": {},
   "source": [
    "We see that the control system has achieved its objectives."
   ]
  },
  {
   "cell_type": "markdown",
   "id": "3297f5e6-3ce3-42c0-824e-c7566685bb3e",
   "metadata": {},
   "source": [
    "# Closed loop with explicit differencing"
   ]
  },
  {
   "cell_type": "markdown",
   "id": "05d0a1c3-962f-47eb-a72b-1d72317c1975",
   "metadata": {},
   "source": [
    "The Wolf testbed is currently this."
   ]
  },
  {
   "cell_type": "code",
   "execution_count": null,
   "id": "a63fc2f2-1a05-4c4a-948c-ab32555ca5c1",
   "metadata": {},
   "outputs": [],
   "source": [
    "Image(\"wolf_cls1.png\", width = 600, height = 300)"
   ]
  },
  {
   "cell_type": "markdown",
   "id": "e287bc25-3447-40f0-8f45-fb50fb270ed5",
   "metadata": {},
   "source": [
    "We want to change it to this."
   ]
  },
  {
   "cell_type": "code",
   "execution_count": null,
   "id": "010ce204-b8ea-425b-bc38-1698b5804d96",
   "metadata": {},
   "outputs": [],
   "source": [
    "Image(\"wolf_cls.png\", width = 600, height = 300)"
   ]
  },
  {
   "cell_type": "markdown",
   "id": "a00d00ed-6ef3-43c1-85b6-4d121a2304be",
   "metadata": {},
   "source": [
    "Considerations.\n",
    "1. We need to create a no system, the summation node.\n",
    "1. The closed loop system will have an input, the setpoint."
   ]
  },
  {
   "cell_type": "markdown",
   "id": "a25736d1-0cfe-408c-a2af-577fcbbe51b4",
   "metadata": {},
   "source": [
    "## Pure controller"
   ]
  },
  {
   "cell_type": "markdown",
   "id": "b6276872-b36a-4c14-af17-41acb6a3905a",
   "metadata": {},
   "source": [
    "The controller should only take control error as input."
   ]
  },
  {
   "cell_type": "code",
   "execution_count": null,
   "id": "ecf4541a-ed83-4a9d-adbc-846a8c6f360f",
   "metadata": {},
   "outputs": [],
   "source": [
    "def makePurePIController(kP=20, kI=10):\n",
    "    \"\"\"\n",
    "    Makes a PI controller with control error as input\n",
    "    \n",
    "    Parameters\n",
    "    ----------\n",
    "    kP: float\n",
    "    kI: float\n",
    "    \n",
    "    Returns\n",
    "    -------\n",
    "    NonlinearIOSystem\n",
    "    \"\"\"\n",
    "    # Calculate derivative of state\n",
    "    def updfcn(t, x, u, _):\n",
    "        # Accumulate the control error\n",
    "        # t: float (time)\n",
    "        # x: array-float (state)\n",
    "        # u: array-float (control error)\n",
    "        # returns: array-float (derivative of state)\n",
    "        return u[0]\n",
    "\n",
    "    # Calculate output value\n",
    "    def outfcn(t, x, u, _):\n",
    "        # Calculate the output from the input\n",
    "        # t: float (time)\n",
    "        # x: array-float (state)\n",
    "        # u: array-float (inputs)\n",
    "        # returns: array (output)\n",
    "        output = kI*x[0] + kP*u[0]\n",
    "        return output\n",
    "\n",
    "    controller = control.NonlinearIOSystem(\n",
    "      updfcn,\n",
    "      outfcn,\n",
    "      states=1,\n",
    "      inputs=['in'],\n",
    "      outputs=['out'], name='controller_sys')\n",
    "    return controller\n",
    "\n",
    "# Tests\n",
    "kP = 10\n",
    "kI = 20\n",
    "controller_sys = makePurePIController(kP=kP, kI=kI)\n",
    "assert(\"NonlinearIOSystem\" in str(type(controller)))\n",
    "times, data,_ = plotSys(controller_sys, forced_input=[1], is_plot=False)\n",
    "assert(data[0] == kP)\n",
    "assert(np.isclose(data[-1], kP + times[-1]*kI))\n",
    "print(\"OK\")"
   ]
  },
  {
   "cell_type": "markdown",
   "id": "d1b68567-fc9e-460d-a66f-127a7cb5cd8c",
   "metadata": {},
   "source": [
    "## Differencing Node"
   ]
  },
  {
   "cell_type": "code",
   "execution_count": null,
   "id": "86317d92-4980-428b-bd0f-e663813783a5",
   "metadata": {},
   "outputs": [],
   "source": [
    "Image(\"differ_sys.png\", width = 800, height = 400)"
   ]
  },
  {
   "cell_type": "markdown",
   "id": "91a5f92f-0b6b-40b4-b0a3-51d8bbb06d56",
   "metadata": {},
   "source": [
    "Key questions about ``differ_sys``:\n",
    "1. How many inputs?\n",
    "1. How many outputs?\n",
    "1. What if any state is there, and how is it calculated?\n",
    "1. How is the output calculated from the state and the input?"
   ]
  },
  {
   "cell_type": "code",
   "execution_count": null,
   "id": "4146ba8c-f5ed-4cf4-af16-4587b5150c30",
   "metadata": {},
   "outputs": [],
   "source": [
    "def outfcnDiffer(t, x, u, _):\n",
    "    # Calculate the output from the input\n",
    "    # t: float (time)\n",
    "    # x: array-float (state)\n",
    "    # u: array-float (inputs)\n",
    "    # returns: array (output)\n",
    "    return u[0] - u[1]"
   ]
  },
  {
   "cell_type": "code",
   "execution_count": null,
   "id": "c64c3573-d27b-48f6-8800-47a824020d95",
   "metadata": {},
   "outputs": [],
   "source": [
    "differ_sys = control.NonlinearIOSystem(\n",
    "      None,\n",
    "      outfcnDiffer,\n",
    "      inputs=['setpoint', 'measurement'],\n",
    "      outputs=['out'], name='differ_sys')"
   ]
  },
  {
   "cell_type": "code",
   "execution_count": null,
   "id": "cff596e7-7acb-4138-9b6c-1700ecda4ef4",
   "metadata": {},
   "outputs": [],
   "source": [
    "# Simulate to verify \n",
    "_ = plotSys(differ_sys, forced_input=[3, 2])"
   ]
  },
  {
   "cell_type": "code",
   "execution_count": null,
   "id": "678a18a6-e1ec-49c6-96b0-d3ad28eefc42",
   "metadata": {},
   "outputs": [],
   "source": [
    "def makeDiffer():\n",
    "    \"\"\"\n",
    "    Makes a system that constructs differences.\n",
    "    \n",
    "    Returns\n",
    "    -------\n",
    "    NonlinearIOSystem\n",
    "    \"\"\"\n",
    "    def outfcnDiffer(t, x, u, _):\n",
    "        # Calculate the output from the input\n",
    "        # t: float (time)\n",
    "        # x: array-float (state)\n",
    "        # u: array-float (inputs)\n",
    "        # returns: array (output)\n",
    "        return u[0] - u[1]\n",
    "    \n",
    "    return control.NonlinearIOSystem(\n",
    "          None,\n",
    "          outfcnDiffer,\n",
    "          inputs=['setpoint', 'measurement'],\n",
    "          outputs=['out'], name='differ_sys')\n",
    "\n",
    "# Tests\n",
    "differ_sys = makeDiffer()\n",
    "assert(\"NonlinearIOSystem\" in str(type(differ_sys)))\n",
    "# Simulate to verify \n",
    "_, data, __ = plotSys(differ_sys, forced_input=[3, 2], is_plot=False)\n",
    "assert(np.var(data[0]) == 0)\n",
    "assert(data[0][0] == 1)\n",
    "print(\"OK\")"
   ]
  },
  {
   "cell_type": "markdown",
   "id": "c7628d22-24ff-440f-9c77-a6764ede685c",
   "metadata": {},
   "source": [
    "## Adder"
   ]
  },
  {
   "cell_type": "markdown",
   "id": "fb2f8550-834a-4e79-9c36-849ef2ac93d5",
   "metadata": {},
   "source": [
    "There are potentially several places where we need to add signals, at least one with\n",
    "differencing. Can we generalize the Differ so:\n",
    "1. Aribtrary number of inputs.\n",
    "1. Inputs may be subtracted or added."
   ]
  },
  {
   "cell_type": "code",
   "execution_count": null,
   "id": "8d04ac9b-92b2-459c-a1e2-b10bd270ac18",
   "metadata": {},
   "outputs": [],
   "source": [
    "def makeAdder(input_names, output_name=\"out\", system_name=\"adder_sys\"):\n",
    "    \"\"\"\n",
    "    Creates a NonlinearIOSystem that does addition\n",
    "    of the inputs. Any name that begins wit a \"-\" is subtracted.\n",
    "    \n",
    "    Parameters\n",
    "    ----------\n",
    "    input_nmames: list-str\n",
    "    output_name: str\n",
    "    system_name: str\n",
    "    \n",
    "    Returns\n",
    "    -------\n",
    "    NonlinearIOSystem\n",
    "    \"\"\"\n",
    "    adjustments = []\n",
    "    adjusted_input_names = []\n",
    "    def outfcn(_, __, u, ___):\n",
    "        # Calculate the output from the input\n",
    "        # t: float (time)\n",
    "        # x: array-float (state)\n",
    "        # u: array-float (inputs)\n",
    "        # returns: array (output)\n",
    "        return adjustments.dot(u)\n",
    "    #\n",
    "    for name in input_names:\n",
    "        if name[0] == \"-\":\n",
    "            value = -1\n",
    "            new_name = name[1:]\n",
    "        else:\n",
    "            value = 1\n",
    "            new_name = name\n",
    "        adjustments.append(value)\n",
    "        adjusted_input_names.append(new_name)\n",
    "    adjustments = np.array(adjustments)\n",
    "    #\n",
    "    return control.NonlinearIOSystem(\n",
    "          None,\n",
    "          outfcn,\n",
    "          inputs=adjusted_input_names,\n",
    "          outputs=output_name, name=system_name)\n",
    "\n",
    "# Tests\n",
    "adder_sys = makeAdder([\"a\", \"-b\", \"c\"])\n",
    "assert(\"NonlinearIOSystem\" in str(type(adder_sys)))\n",
    "# Simulate to verify \n",
    "_, data, __ = plotSys(adder_sys, forced_input=[3, 2, 4], is_plot=False)\n",
    "assert(np.var(data[0]) == 0)\n",
    "assert(data[0][0] == 5)\n",
    "print(\"OK\")"
   ]
  },
  {
   "cell_type": "markdown",
   "id": "52906a3b-761c-425d-b119-8f292566a2af",
   "metadata": {},
   "source": [
    "## Connections"
   ]
  },
  {
   "cell_type": "code",
   "execution_count": null,
   "id": "2d84342e-b4a4-4d29-b896-71d1080f0224",
   "metadata": {},
   "outputs": [],
   "source": [
    "def makeInterconnectWithDiffer(wolf_sys=wolf_sys, **kwargs):\n",
    "    \"\"\"\n",
    "    Create an Interconnect object for the Wolf closed loop system.\n",
    "    \n",
    "    Parameters\n",
    "    ----------\n",
    "    wolf_sys: NonlinearIOSystem\n",
    "    kwargs: dict (arguments for makePIController)\n",
    "    \n",
    "    Returns\n",
    "    -------\n",
    "    Interconnect\n",
    "    \"\"\"\n",
    "    controller_sys = makePurePIController(**kwargs)\n",
    "    differ_sys = makeAdder([\"setpoint\", \"-measurement\"], system_name=\"differ_sys\")\n",
    "    closed_sys = control.interconnect(\n",
    "      [wolf_sys, controller_sys, differ_sys],       # systems\n",
    "      connections=[\n",
    "        ['differ_sys.measurement', \"wolf_sys.s5\"], \n",
    "        ['wolf_sys.at', 'controller_sys.out'],\n",
    "        ['controller_sys.in',  'differ_sys.out'],\n",
    "      ],\n",
    "      inplist=[\"differ_sys.setpoint\"],\n",
    "      outlist=[\"wolf_sys.s5\"],\n",
    "    )\n",
    "    return closed_sys\n",
    "\n",
    "# Tests\n",
    "setpoint = 6\n",
    "new_closed_sys = makeInterconnectWithDiffer(kP=20, kI=10)\n",
    "assert(\"Interconnect\" in str(type(new_closed_sys)))\n",
    "_, data, ax = plotSys(new_closed_sys, forced_input=[setpoint], times=np.linspace(0, 20, 100), \n",
    "                      is_plot=False,\n",
    "                      output_labels=[\"s5\"])\n",
    "assert(data[0] == 8)\n",
    "assert(np.abs(setpoint - data[-1]) < 0.2)\n",
    "print(\"OK!\")"
   ]
  },
  {
   "cell_type": "markdown",
   "id": "558bd3d4-66ea-404c-b730-358a832fa9cf",
   "metadata": {},
   "source": [
    "## Explorations"
   ]
  },
  {
   "cell_type": "code",
   "execution_count": null,
   "id": "3be8fe30-4f50-4a23-ad90-fa6f743b0d32",
   "metadata": {},
   "outputs": [],
   "source": [
    "# Compare controller designs\n",
    "setpoint = 6\n",
    "pairs = [(1,1), (5,5), (20, 10), (20, 20), (50, 50)] # kP, kI\n",
    "_, ax = plt.subplots(1, figsize=(15, 5))\n",
    "times = np.linspace(0, 10, 100)\n",
    "legends = []\n",
    "for idx, (kP, kI) in enumerate(pairs):\n",
    "    title = \"kP=%2.2f kI=%2.2f\" % (kP, kI)\n",
    "    legends.append(title)\n",
    "    new_closed_sys = makeInterconnectWithDiffer(kP=kP, kI=kI)\n",
    "    _ = plotSys(new_closed_sys, forced_input=[setpoint], times=times,\n",
    "                      output_labels=[\"s5\"], ax=ax)\n",
    "plt.plot([times[0], times[-1]], [setpoint, setpoint], linestyle=\"--\")\n",
    "plt.legend(legends)\n",
    "plt.xlabel(\"time\")\n",
    "plt.title(\"Comparisons of closed loop designs\")"
   ]
  },
  {
   "cell_type": "markdown",
   "id": "c3566688-3383-4aa9-8870-f20b1b62dedc",
   "metadata": {},
   "source": [
    "# Exercise: Noise and Filters"
   ]
  },
  {
   "cell_type": "code",
   "execution_count": null,
   "id": "83d0d11a-4c5d-44af-add4-6161910af052",
   "metadata": {},
   "outputs": [],
   "source": [
    "Image(\"add_noise_filter.png\", width = 600, height = 450)"
   ]
  },
  {
   "cell_type": "markdown",
   "id": "3c72d4da-81e3-4d19-8521-8fa15dd05ccf",
   "metadata": {},
   "source": [
    "1. Create a function that creates a ``NonlinearIOSystem`` for the filter. Its state is the averaged\n",
    "measure output. Its state equation is \n",
    "$\\dot{x}(t) = k_f u(t) - k_f x(t)$, where $k_f > 0$.\n",
    "It's output equation is $y(t) = x(t)$.\n",
    "Make sure that you have a test for this function that simulates the ``NonlinearIOSystem``.\n",
    "1. Create a function that creates a ``NonlinearIOSystem`` that generates a sine wave with frequency $f$ and amplitude $A$. (What are its inputs? What are its outputs?)\n",
    "Make sure that you have a test for this function that simulates the ``NonlinearIOSystem``.\n",
    "1. Construct a testbed for the closed loop system using the above architecture with\n",
    "the Wolf model as the open loop system using ``at`` as input and ``s5`` as output.\n",
    "1. Tune the controller and filter for a setpoint of 6, settling time of 30 s, and minimal oscillations."
   ]
  }
 ],
 "metadata": {
  "kernelspec": {
   "display_name": "Python 3 (ipykernel)",
   "language": "python",
   "name": "python3"
  },
  "language_info": {
   "codemirror_mode": {
    "name": "ipython",
    "version": 3
   },
   "file_extension": ".py",
   "mimetype": "text/x-python",
   "name": "python",
   "nbconvert_exporter": "python",
   "pygments_lexer": "ipython3",
   "version": "3.9.6"
  },
  "toc-autonumbering": false
 },
 "nbformat": 4,
 "nbformat_minor": 5
}
