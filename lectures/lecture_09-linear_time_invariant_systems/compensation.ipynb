{
 "cells": [
  {
   "cell_type": "markdown",
   "metadata": {
    "id": "_Pkq9VMoZ_G4"
   },
   "source": [
    "# COMPENSATION USING TRANSFER FUNCTIONS"
   ]
  },
  {
   "cell_type": "markdown",
   "metadata": {},
   "source": [
    "We have two general ways to change the characteristics of a system. One is to add external elements such as a controller.\n",
    "A second approach is to change the system itself. This is called **compensation**."
   ]
  },
  {
   "cell_type": "code",
   "execution_count": 1,
   "metadata": {
    "colab": {
     "base_uri": "https://localhost:8080/"
    },
    "id": "EUSF_rJdaJBV",
    "outputId": "3b28137c-b404-4f64-bb01-f13342b52274"
   },
   "outputs": [],
   "source": [
    "#!pip -q install tellurium\n",
    "#!pip -q install control"
   ]
  },
  {
   "cell_type": "code",
   "execution_count": 2,
   "metadata": {
    "colab": {
     "base_uri": "https://localhost:8080/",
     "height": 391
    },
    "id": "zhDif6HqaLsa",
    "outputId": "5ffa562f-5b6e-4082-d683-615cfe520c6d"
   },
   "outputs": [],
   "source": [
    "import numpy as np\n",
    "import pandas as pd\n",
    "import tellurium as te\n",
    "import control\n",
    "import matplotlib.pyplot as plt\n",
    "import sympy"
   ]
  },
  {
   "cell_type": "code",
   "execution_count": 3,
   "metadata": {
    "id": "KJBcR0NGf2gm"
   },
   "outputs": [],
   "source": [
    "TIMES = np.linspace(0, 10, 100)"
   ]
  },
  {
   "cell_type": "code",
   "execution_count": 4,
   "metadata": {},
   "outputs": [],
   "source": [
    "s = control.TransferFunction.s"
   ]
  },
  {
   "cell_type": "markdown",
   "metadata": {},
   "source": [
    "# Helpers"
   ]
  },
  {
   "cell_type": "code",
   "execution_count": 5,
   "metadata": {},
   "outputs": [],
   "source": [
    "TEST_MODEL = \"\"\"\n",
    "$S1 -> S2; k1*S1\n",
    "S2 -> S3; k2*S2\n",
    "\n",
    "S1 = 10\n",
    "S2 = 0\n",
    "S3 = 0\n",
    "k1 = 1\n",
    "k2 = 2\n",
    "\"\"\"\n",
    "TEST_RR = te.loada(TEST_MODEL)"
   ]
  },
  {
   "cell_type": "code",
   "execution_count": 6,
   "metadata": {},
   "outputs": [],
   "source": [
    "\n",
    "k1 = TEST_RR[\"k1\"]\n",
    "k2 = TEST_RR[\"k2\"]\n",
    "scale = TEST_RR[\"S1\"]\n",
    "tf = scale*k1*k2/(s*(s+k2))"
   ]
  },
  {
   "cell_type": "code",
   "execution_count": 7,
   "metadata": {},
   "outputs": [
    {
     "name": "stdout",
     "output_type": "stream",
     "text": [
      "OK!\n"
     ]
    }
   ],
   "source": [
    "def evaluateTransferFunction(model, transfer_function, output_name, times=TIMES,\n",
    "                             is_plot=True):\n",
    "    \"\"\"\n",
    "    Plots simulations versus predictions.\n",
    "\n",
    "    Args:\n",
    "        model: (str) antimony\n",
    "        tranfer_function (control.TransferFunction)\n",
    "        output_name: (str) prediction\n",
    "        times: (np.darray)\n",
    "    Returns:\n",
    "        float\n",
    "    \"\"\"\n",
    "    rr = te.loada(model)\n",
    "    data = rr.simulate(times[0], times[-1], len(times))\n",
    "    output_name = \"[\" + output_name + \"]\"\n",
    "    simulations = data[output_name]\n",
    "    _, predictions = control.forced_response(transfer_function, T=times, U=1)\n",
    "    rmse = np.sqrt(np.sum(simulations-predictions)**2)/len(simulations)\n",
    "    if is_plot:\n",
    "        plt.scatter(simulations, predictions)\n",
    "        maxval = max(np.max(predictions), np.max(simulations))\n",
    "        plt.plot([0, maxval], [0, maxval], color=\"red\")\n",
    "        plt.xlabel(\"simulated\")\n",
    "        plt.ylabel(\"predicted\")\n",
    "    return rmse\n",
    "\n",
    "rmse = evaluateTransferFunction(TEST_MODEL, tf, \"S3\", is_plot=False)\n",
    "assert(rmse < 1e-5)\n",
    "print(\"OK!\")"
   ]
  },
  {
   "cell_type": "code",
   "execution_count": 8,
   "metadata": {},
   "outputs": [
    {
     "name": "stdout",
     "output_type": "stream",
     "text": [
      "OK1\n"
     ]
    }
   ],
   "source": [
    "def plotModel(model, times=TIMES, is_plot=True, title=\"\", **kwargs):\n",
    "    \"\"\"\n",
    "    Plots a model.\n",
    "    \n",
    "    Args:\n",
    "       times: np.array \n",
    "       kwargs: values of parameters\n",
    "    \"\"\"\n",
    "    rr = te.loada(model)\n",
    "    for key, value in kwargs.items():\n",
    "        rr[key] = value\n",
    "    rr.simulate(times[0], times[-1], len(times))\n",
    "    if is_plot:\n",
    "        rr.plot(title=title)\n",
    "    \n",
    "# TESTS\n",
    "plotModel(TEST_MODEL, k1=0.1, is_plot=False)\n",
    "print(\"OK1\")"
   ]
  },
  {
   "cell_type": "markdown",
   "metadata": {
    "id": "ehs3-wBAIOLY"
   },
   "source": [
    "# Branching System Again"
   ]
  },
  {
   "cell_type": "markdown",
   "metadata": {
    "id": "i5CgKjtKITH3"
   },
   "source": [
    "\\begin{eqnarray}\n",
    "S_1 & \\xrightarrow{k_1 S_1} & S_2 \\\\\n",
    "S_2 & \\xrightarrow{k_2 S_2}& S_4 \\\\\n",
    "S_1 & \\xrightarrow{k_3 S_2}&  S_3\\\\\n",
    "S_3 & \\xrightarrow{k_4 S_3} &  S_4\\\\\n",
    "S_4 & \\xrightarrow{k_5 S_4} & \\emptyset\n",
    "\\end{eqnarray}\n"
   ]
  },
  {
   "cell_type": "markdown",
   "metadata": {},
   "source": [
    "This time the rate for one reaction is very slow. The result is that the system is slow to reach steady state. We want to change the system so that it reaches steady state faster."
   ]
  },
  {
   "cell_type": "code",
   "execution_count": 9,
   "metadata": {
    "id": "Pb_kp0nuRtfN"
   },
   "outputs": [
    {
     "data": {
      "image/png": "[encoded data removed]",
      "text/plain": [
       "<Figure size 600x400 with 1 Axes>"
      ]
     },
     "metadata": {},
     "output_type": "display_data"
    }
   ],
   "source": [
    "model3 = \"\"\"\n",
    "S1 -> S2; k1*S1\n",
    "S2 -> S4; k2*S2\n",
    "S1 -> S3; k3*S1\n",
    "S3 -> S4; k4*S3\n",
    "S4 -> ; k5*S4\n",
    "\n",
    "k1 = 1\n",
    "k2 = 0.1\n",
    "k3 = 1\n",
    "k4 = 1\n",
    "k5 = 1\n",
    "$S1 = 10\n",
    "S2 = 0\n",
    "S3 = 0\n",
    "S4 = 0\n",
    "\"\"\"\n",
    "RR3 = te.loada(model3)\n",
    "RR3.simulate(0, 30, 300)\n",
    "RR3.plot()"
   ]
  },
  {
   "cell_type": "markdown",
   "metadata": {
    "id": "RrjNrBMcK4C2"
   },
   "source": [
    "## Step 5: Check your transfer function"
   ]
  },
  {
   "cell_type": "code",
   "execution_count": 10,
   "metadata": {
    "id": "juJqEfrynpH0"
   },
   "outputs": [],
   "source": [
    "k1 = RR3[\"k1\"]\n",
    "k2 = RR3[\"k2\"]\n",
    "k3 = RR3[\"k3\"]\n",
    "k4 = RR3[\"k4\"]\n",
    "k5 = RR3[\"k5\"]\n",
    "scale = RR3[\"S1\"]\n",
    "TRANSFER_FUNCTION = scale*((k1*k2 + k3*k4)*s + k1*k2*k4 + k2*k3*k4)/( (s+k2)*(s+k4)*(s+k5))"
   ]
  },
  {
   "cell_type": "markdown",
   "metadata": {
    "id": "FCFM2njj66_O"
   },
   "source": [
    "# Using the transfer function for compensation"
   ]
  },
  {
   "cell_type": "markdown",
   "metadata": {},
   "source": [
    "\\begin{eqnarray}\n",
    "G(s) & = & \\frac{(k_1 k_2 + k_3 k_4)s + k_1 k_2 k_4 + k_2 k_3 k_4 }{ (s + k_2) (s + k_4) (s + k_5)} \\\\\n",
    "& = & (k_1 k_2 + k_3 k_4) \\frac{s +\\frac{ k_1 k_2 k_4 + k_2 k_3 k_4}{k_1 k_2 + k_3 k_4 }}{ (s + k_2) (s + k_4) (s + k_5)}\\\\\n",
    "\\end{eqnarray}"
   ]
  },
  {
   "cell_type": "code",
   "execution_count": 11,
   "metadata": {},
   "outputs": [
    {
     "data": {
      "text/plain": [
       "(0.1, 1.0, 1.0)"
      ]
     },
     "execution_count": 11,
     "metadata": {},
     "output_type": "execute_result"
    }
   ],
   "source": [
    "# Look at the poles. Which causes the S4 to converge slowly?\n",
    "k2, k4, k5"
   ]
  },
  {
   "cell_type": "markdown",
   "metadata": {},
   "source": [
    "Idea: Find a value of $k_1$ such that the numerator equals to $s + k_2$ so that the pole \"cancels\"."
   ]
  },
  {
   "cell_type": "code",
   "execution_count": 12,
   "metadata": {},
   "outputs": [
    {
     "name": "stdout",
     "output_type": "stream",
     "text": [
      "0.001\n"
     ]
    }
   ],
   "source": [
    "func = lambda x: (x*k2*k4 + k2*k3*k4)/(x*k2 + k3*k4)\n",
    "score = 1e6\n",
    "k1_best = None\n",
    "for x in np.linspace(0.001, 20, 200):\n",
    "    new_score = (func(x) - k2)**2\n",
    "    if new_score < score:\n",
    "        score = new_score\n",
    "        k1_best = x\n",
    "print(k1_best)"
   ]
  },
  {
   "cell_type": "code",
   "execution_count": 14,
   "metadata": {},
   "outputs": [
    {
     "data": {
      "image/png": "[encoded data removed]",
      "text/plain": [
       "<Figure size 600x400 with 1 Axes>"
      ]
     },
     "metadata": {},
     "output_type": "display_data"
    }
   ],
   "source": [
    "plotModel(model3,  k1=k1_best, times=np.linspace(0, 30, 300), title=\"k1: %f\"%k1_best)"
   ]
  }
 ],
 "metadata": {
  "colab": {
   "provenance": [],
   "toc_visible": true
  },
  "kernelspec": {
   "display_name": "Python 3 (ipykernel)",
   "language": "python",
   "name": "python3"
  },
  "language_info": {
   "codemirror_mode": {
    "name": "ipython",
    "version": 3
   },
   "file_extension": ".py",
   "mimetype": "text/x-python",
   "name": "python",
   "nbconvert_exporter": "python",
   "pygments_lexer": "ipython3",
   "version": "3.9.6"
  }
 },
 "nbformat": 4,
 "nbformat_minor": 4
}
