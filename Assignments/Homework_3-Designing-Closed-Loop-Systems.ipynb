{
 "cells": [
  {
   "cell_type": "markdown",
   "id": "2e208ddd-3ab6-46c3-9e3e-1a345794bbed",
   "metadata": {},
   "source": [
    "# HOMEWORK 3: Designing Closed Loop Systems"
   ]
  },
  {
   "cell_type": "markdown",
   "id": "d6cd1e15-d4d0-4862-a589-398db5b4e22c",
   "metadata": {},
   "source": [
    "This homework involves designing a closed loop system with a PID controller."
   ]
  },
  {
   "cell_type": "code",
   "execution_count": 1,
   "id": "f5e6f6d2-ff33-497c-aa36-057651b3c58e",
   "metadata": {},
   "outputs": [
    {
     "name": "stdout",
     "output_type": "stream",
     "text": [
      "controlSBML version: 0.2.14\n"
     ]
    }
   ],
   "source": [
    "!pip -q install controlSBML\n",
    "import controlSBML as ctl\n",
    "import control\n",
    "from controlSBML.util import makeSimulationTimes\n",
    "import pandas as pd\n",
    "import matplotlib.pyplot as plt\n",
    "import numpy as np\n",
    "import sympy as sy\n",
    "import tellurium as te\n",
    "import sympy\n",
    "print(\"controlSBML version: \" + ctl.__version__)"
   ]
  },
  {
   "cell_type": "code",
   "execution_count": 2,
   "id": "dfca58e4-0d60-499c-9a4f-b442fd4fe416",
   "metadata": {},
   "outputs": [],
   "source": [
    "# Use the local file if it's available\n",
    "BIOMD823 = \"https://www.ebi.ac.uk/biomodels/model/download/BIOMD0000000823.2?filename=Varusai2018.xml\""
   ]
  },
  {
   "cell_type": "markdown",
   "id": "89bbcc67-c671-48c0-a73d-b6a51859b63e",
   "metadata": {},
   "source": [
    "<img src=\"https://github.com/joseph-hellerstein/advanced-controls-lectures/blob/main/Lecture_13_14-Closed-Loop-Systems/Closed-Loop-System.png?raw=true\"\n",
    "     alt=\"Markdown Monster icon\" width=600pt\n",
    "     style=\"float: left; margin-right: 10px;\" />"
   ]
  },
  {
   "cell_type": "markdown",
   "id": "8d03b934-6201-439b-b9e1-f38812f2a55c",
   "metadata": {},
   "source": [
    "**Transfer Functions**\n",
    "\\begin{eqnarray}\n",
    "H_{RY}(s) & = & \\frac{Y(s)}{R(s)} & = & \\frac{C(s) G(s)}{1 + C(s) G(s) F(s)} \\\\\n",
    "H_{RE}(s) & = & \\frac{E(s)}{R(s)} & = & \\frac{1}{1 + C(s) G(s) F(s)} \\\\\n",
    "H_{NY}(s) & = & \\frac{Y(s)}{N(s)} & = & -\\frac{ F(s)}{1 + C(s) G(s) F(s)} \\\\\n",
    "H_{DY}(s) & = & \\frac{Y(s)}{D(s)} & = & \\frac{ C(s)}{1 + C(s) G(s) F(s)} \\\\\n",
    "\\end{eqnarray}"
   ]
  },
  {
   "cell_type": "markdown",
   "id": "b1848446-7741-4067-959d-aa37b577d8cc",
   "metadata": {},
   "source": [
    "In this homework, you will design a closed loop system for controlling pDEPTOR in the mTOR system as modelled in BioModels 823.\n",
    "Use pAkt as the control input.\n",
    "1. **Build**. (4 pt) Implement the function ``evaluateDesign`` that evaluates the control design of\n",
    "a closed loop system for mTOR.\n",
    "The evaluation is in the form of a plot of the step response of the system\n",
    "to a change in the reference input.\n",
    "The plot should include the reference input along with the pAkt and pDEPTO\n",
    "values for the closed loop mTOR system. The function has as inputs the design parameters kp, ki, kd.\n",
    "1. **Design**. (2 pt) Use ``evaluateDesign`` to design a system that has no bias for a unit step response in the reference and settles within 10 seconds.\n",
    "1. **Analysis**. (3 pt) Construct the transfer function\n",
    "for mTOR from pAkt to pDEPTOR\n",
    "and the transfer function $H_{NY} (s)$ for the design parameters you used in (2)\n",
    "(Obtain the Jacobian at time 1 from the open loop mTOR system.)\n",
    "Use these transfer functions to answer the following questions about how the closed loop system should behave *in theory*.\n",
    "   1. Why are large control inputs required to control the mTOR system?\n",
    "   1. Why are there no long term oscillations in the closed loop system?\n",
    "   1. How will a step increase in noise affect the output of the closed loop system?\n",
    "1. **Discussion**. (1 pt) Plot the values of pAkt for the closed loop system you designed in (2).\n",
    "What issues do you see with using this closed loop system in practice?"
   ]
  },
  {
   "cell_type": "markdown",
   "id": "3547c7aa-649c-4d1d-8b55-c27e9d40550b",
   "metadata": {},
   "source": [
    "# Q1. Build"
   ]
  },
  {
   "cell_type": "markdown",
   "id": "f19b1fbc-ea95-42c2-bbe4-353825debd50",
   "metadata": {},
   "source": [
    "# Q2. Design"
   ]
  },
  {
   "cell_type": "markdown",
   "id": "1471570e-f7e7-4e75-a092-2f1cc85a0a6e",
   "metadata": {
    "tags": []
   },
   "source": [
    "# Q3. Analyze"
   ]
  },
  {
   "cell_type": "markdown",
   "id": "d90287da-5928-44fa-9644-4e89447827fa",
   "metadata": {},
   "source": [
    "# Q4. Discussion"
   ]
  }
 ],
 "metadata": {
  "kernelspec": {
   "display_name": "Python 3",
   "language": "python",
   "name": "python3"
  },
  "language_info": {
   "codemirror_mode": {
    "name": "ipython",
    "version": 3
   },
   "file_extension": ".py",
   "mimetype": "text/x-python",
   "name": "python",
   "nbconvert_exporter": "python",
   "pygments_lexer": "ipython3",
   "version": "3.6.9"
  }
 },
 "nbformat": 4,
 "nbformat_minor": 5
}
