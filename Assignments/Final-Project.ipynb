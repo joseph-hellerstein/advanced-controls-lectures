{
 "cells": [
  {
   "cell_type": "markdown",
   "id": "4c0cdaa8-e6ca-4506-a137-3f467df23247",
   "metadata": {
    "id": "4c0cdaa8-e6ca-4506-a137-3f467df23247"
   },
   "source": [
    "# FINAL PROJECT"
   ]
  },
  {
   "cell_type": "markdown",
   "id": "4827964c-f2a2-4775-adfb-122bddbd5096",
   "metadata": {},
   "source": [
    "In the final project, you will create a closed loop system for an SBML model.\n",
    "Start by selecting a model from the [BioModels Curated branch](https://www.ebi.ac.uk/biomodels/search?query=*%3A*+AND+curationstatus%3A%22Manually+curated%22&domain=biomodels).)\n",
    "You don't have to restrict yourself to thoses models, but you'll find that the curated BioModels are fairly easy to reproduce.) You'll find a paper associated with each model.\n",
    "\n",
    "1. **Specify the requirements for the control system.** (10 pt) After reading the paper for the model, propose a chemical species for the control output\n",
    "and an operating point for it. You should also indicate the desired\n",
    "operating characteristics such as settling time and overshoot.\n",
    "Justify this in terms of the potential value of controlling\n",
    "the chemical species and why the particular operating point makes sense.\n",
    "1. **Determine the control input you will use**. (10 pt) This will require evaluating the DC gain of\n",
    "of candidate control inputs on chemical species that are the control outputs.\n",
    "1. **Design the control system**. (15 pt) You will specify a controller and possibly a filter.\n",
    "You will select the parameters of the elements based on the poles and DC gains implied by\n",
    "the operating characteristics in (1).\n",
    "1. **Evaluate your design.** (25 pt) You will construct a simulation testbed in which the\n",
    "SBML model is regulated by your control architecture.\n",
    "You should evaluate the effects of disturbances and noise.\n",
    "1. **Discuss trade-offs.** (10 pt) Discuss trade-offs in the selection of parameter values in your design.\n",
    "This should consider the impact of parameter values on the closed loop transfer functions.\n",
    "\n",
    "You will receive 5 extra points if you use LaTex for your mathematical analyses."
   ]
  },
  {
   "cell_type": "markdown",
   "id": "ab67663b-1311-42f0-b417-26f10529455f",
   "metadata": {
    "id": "ab67663b-1311-42f0-b417-26f10529455f"
   },
   "source": [
    "# Preliminaries"
   ]
  },
  {
   "cell_type": "code",
   "execution_count": 1,
   "id": "d40e6a46-9276-41fc-8806-37917c2d04bc",
   "metadata": {
    "colab": {
     "base_uri": "https://localhost:8080/"
    },
    "executionInfo": {
     "elapsed": 46115,
     "status": "ok",
     "timestamp": 1650487398502,
     "user": {
      "displayName": "Joseph Hellerstein",
      "userId": "07301174361489660166"
     },
     "user_tz": 420
    },
    "id": "d40e6a46-9276-41fc-8806-37917c2d04bc",
    "outputId": "ea0acf83-c1e6-45b6-bde1-bf37d41e6c68"
   },
   "outputs": [],
   "source": [
    "!pip install -q controlSBML\n",
    "import control\n",
    "import pandas as pd\n",
    "import matplotlib.pyplot as plt\n",
    "import numpy as np\n",
    "import tellurium as te"
   ]
  },
  {
   "cell_type": "markdown",
   "id": "a4212bac-1d0e-412f-9d0d-45005ebc6ca0",
   "metadata": {},
   "source": [
    "# Helpful Hints"
   ]
  },
  {
   "cell_type": "markdown",
   "id": "6wVxvY4svYIg",
   "metadata": {
    "id": "6wVxvY4svYIg"
   },
   "source": [
    "## LaTex Basics"
   ]
  },
  {
   "cell_type": "markdown",
   "id": "tyCu6lFevca8",
   "metadata": {
    "id": "tyCu6lFevca8"
   },
   "source": [
    "1. All LaTex appears between dollar signs (``$``)\n",
    "1. Subscripts: $x_2$\n",
    "1. Superscript: $x^2$\n",
    "1. Summation: $\\sum_{n=0}^{\\infty} e^{nt}$\n",
    "1. Derivatives: $\\dot{x}(t)$\n",
    "1. Bold: ${\\bf A}$\n",
    "1. Fractions: $\\frac{a}{b}$"
   ]
  },
  {
   "cell_type": "markdown",
   "id": "bde88f8c-6442-45c5-a303-38b4b7c751bd",
   "metadata": {},
   "source": [
    "## Closed Loop Transfer Functions"
   ]
  },
  {
   "cell_type": "markdown",
   "id": "e97d6b81-b237-41d2-9e3c-f16f3b1a5534",
   "metadata": {},
   "source": [
    "<img src=\"https://github.com/joseph-hellerstein/advanced-controls-lectures/blob/main/Lecture_13_14-Closed-Loop-Systems/Closed-Loop-System.png?raw=true\"\n",
    "     alt=\"Markdown Monster icon\" width=600pt\n",
    "     style=\"float: left; margin-right: 10px;\" />"
   ]
  },
  {
   "cell_type": "markdown",
   "id": "4e0b90d5-427c-46fa-887b-d733ef54bf34",
   "metadata": {},
   "source": [
    "**Transfer Functions**\n",
    "\\begin{eqnarray}\n",
    "H_{RY}(s) & = & \\frac{Y(s)}{R(s)} & = & \\frac{C(s) G(s)}{1 + C(s) G(s) F(s)} \\\\\n",
    "H_{RE}(s) & = & \\frac{E(s)}{R(s)} & = & \\frac{1}{1 + C(s) G(s) F(s)} \\\\\n",
    "H_{NY}(s) & = & \\frac{Y(s)}{N(s)} & = & -\\frac{ F(s)}{1 + C(s) G(s) F(s)} \\\\\n",
    "H_{DY}(s) & = & \\frac{Y(s)}{D(s)} & = & \\frac{ C(s)}{1 + C(s) G(s) F(s)} \\\\\n",
    "\\end{eqnarray}"
   ]
  },
  {
   "cell_type": "markdown",
   "id": "f6128992-d445-45c8-bee9-16c6c6a3f44c",
   "metadata": {},
   "source": [
    "# 1. Specify Requirements"
   ]
  },
  {
   "cell_type": "markdown",
   "id": "d2e2ce1e-3f7d-49aa-b06e-88cdd8d0c3f6",
   "metadata": {},
   "source": [
    "# 2. Determine the Control Input"
   ]
  },
  {
   "cell_type": "markdown",
   "id": "edd5f9f2-f8bb-4acf-a651-88fd94131a82",
   "metadata": {},
   "source": [
    "# 3. Design the Control System"
   ]
  },
  {
   "cell_type": "markdown",
   "id": "2251e92e-04e5-47b9-ba02-84efa0b4dfa4",
   "metadata": {},
   "source": [
    "# 4. Evaluate the Design"
   ]
  },
  {
   "cell_type": "markdown",
   "id": "154173fa-3a56-46df-b427-05126d405206",
   "metadata": {},
   "source": [
    "# 5. Discuss Trade-offs"
   ]
  }
 ],
 "metadata": {
  "colab": {
   "collapsed_sections": [],
   "name": "Practice-Constructing-Laplace-Transforms-For-Reaction-Networks.ipynb",
   "provenance": [],
   "toc_visible": true
  },
  "kernelspec": {
   "display_name": "Python 3",
   "language": "python",
   "name": "python3"
  },
  "language_info": {
   "codemirror_mode": {
    "name": "ipython",
    "version": 3
   },
   "file_extension": ".py",
   "mimetype": "text/x-python",
   "name": "python",
   "nbconvert_exporter": "python",
   "pygments_lexer": "ipython3",
   "version": "3.6.9"
  }
 },
 "nbformat": 4,
 "nbformat_minor": 5
}
