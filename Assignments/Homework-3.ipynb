{
 "cells": [
  {
   "cell_type": "markdown",
   "id": "2e208ddd-3ab6-46c3-9e3e-1a345794bbed",
   "metadata": {},
   "source": [
    "# HOMEWORK 3"
   ]
  },
  {
   "cell_type": "markdown",
   "id": "d6cd1e15-d4d0-4862-a589-398db5b4e22c",
   "metadata": {},
   "source": [
    "This homework involves designing a closed loop system with a PID controller."
   ]
  },
  {
   "cell_type": "code",
   "execution_count": 1,
   "id": "f5e6f6d2-ff33-497c-aa36-057651b3c58e",
   "metadata": {},
   "outputs": [
    {
     "name": "stdout",
     "output_type": "stream",
     "text": [
      "controlSBML version: 0.2.13\n"
     ]
    }
   ],
   "source": [
    "!pip -q install controlSBML\n",
    "import controlSBML as ctl\n",
    "import control\n",
    "from controlSBML.util import makeSimulationTimes\n",
    "import pandas as pd\n",
    "import matplotlib.pyplot as plt\n",
    "import numpy as np\n",
    "import sympy as sy\n",
    "import tellurium as te\n",
    "import sympy\n",
    "print(\"controlSBML version: \" + ctl.__version__)"
   ]
  },
  {
   "cell_type": "markdown",
   "id": "89bbcc67-c671-48c0-a73d-b6a51859b63e",
   "metadata": {},
   "source": [
    "<img src=\"https://github.com/joseph-hellerstein/advanced-controls-lectures/blob/main/Lecture_13_14-Closed-Loop-Systems/Closed-Loop-System.png?raw=true\"\n",
    "     alt=\"Markdown Monster icon\" width=600pt\n",
    "     style=\"float: left; margin-right: 10px;\" />"
   ]
  },
  {
   "cell_type": "markdown",
   "id": "8d03b934-6201-439b-b9e1-f38812f2a55c",
   "metadata": {},
   "source": [
    "**Transfer Functions**\n",
    "\\begin{eqnarray}\n",
    "H_{RY}(s) & = & \\frac{Y(s)}{R(s)} & = & \\frac{C(s) G(s)}{1 + C(s) G(s) F(s)} \\\\\n",
    "H_{RE}(s) & = & \\frac{E(s)}{R(s)} & = & \\frac{1}{1 + C(s) G(s) F(s)} \\\\\n",
    "H_{NY}(s) & = & \\frac{Y(s)}{N(s)} & = & -\\frac{ F(s)}{1 + C(s) G(s) F(s)} \\\\\n",
    "H_{DY}(s) & = & \\frac{Y(s)}{D(s)} & = & \\frac{ C(s)}{1 + C(s) G(s) F(s)} \\\\\n",
    "\\end{eqnarray}"
   ]
  },
  {
   "cell_type": "markdown",
   "id": "b1848446-7741-4067-959d-aa37b577d8cc",
   "metadata": {},
   "source": [
    "In this homework, you will design a closed loop system for controlling pDEPTOR in the mTOR system as modelled in BioModels 823.\n",
    "Use pAkt as the control input.\n",
    "1. Build. (4 pt) Implement the function ``evaluateDesign``, a \"factory\" for creating an evaluation testbed for a control design\n",
    "for a testbed for the mTOR ssytem.\n",
    "    1. Develop a function ``makeTestbed`` that returns a ``control.Interconnect`` object for the testbed.\n",
    "        * Inputs: name, model_reference (antimony string, url), and the design parameters kp, ki, kd, kf\n",
    "        * Outputs: control.Interconnect\n",
    "   1. Develop a function ``evaluateDesign`` that plots the output of the closed loop system (y(t) + n(t))\n",
    "1. Design. (2 pt) Use the ``evaluateDesign`` function to design a system with the following characteristics:\n",
    "   1. No bias for a step response in the reference;\n",
    "   1. Settles within 10 seconds;\n",
    "   1. No oscillations after 10 seconds.\n",
    "1. Analysis. (3 pt) Construct the $G(s)$ transfer function and $H_{NY}$ for the design parameters you used in (2)\n",
    "at time 1.\n",
    "Use these transfer functions to answer the following questions about how the system should behave *in theory*.\n",
    "   1. Why are large control inputs required to control the mTOR system?\n",
    "   1. Why are there no long term oscillations in the closed loop system?\n",
    "   1. How will a step increase in noise affect the output of the closed loop system?\n",
    "1. Discussion. (1 pt) Plot the values of pAkt for the closed loop system you designed in (2).\n",
    "What issues do you see with using this closed loop system in practice?"
   ]
  },
  {
   "cell_type": "markdown",
   "id": "3547c7aa-649c-4d1d-8b55-c27e9d40550b",
   "metadata": {},
   "source": [
    "# Q1. Build"
   ]
  },
  {
   "cell_type": "code",
   "execution_count": 18,
   "id": "81426014-f9e0-4a9b-8d85-19d64a1a5214",
   "metadata": {},
   "outputs": [
    {
     "name": "stdout",
     "output_type": "stream",
     "text": [
      "OK!\n"
     ]
    }
   ],
   "source": [
    "def evaluateDesign(\n",
    "      model_reference=\"https://www.ebi.ac.uk/biomodels/model/download/BIOMD0000000823.2?filename=Varusai2018.xml\", \n",
    "      kp=1000, ki=2, kd=0, kf=None, noise_amp=0, noise_frq=20, disturbance_amp=0, disturbance_frq=2,\n",
    "      step_size=1, end_time=100, is_plot=True,\n",
    "      **kwargs):\n",
    "    \"\"\"\n",
    "    Create an evaluation test and plots the step response.\n",
    "    \n",
    "    Parameters\n",
    "    ----------\n",
    "    name: str\n",
    "        Name of the resulting Interconncted system\n",
    "    model_reference: str\n",
    "        antimony string or file path or URL\n",
    "    kp: float\n",
    "    ki: float\n",
    "    kd: float\n",
    "    kf: float\n",
    "    step_size: float\n",
    "    kwargs: dict\n",
    "        plot options\n",
    "    \n",
    "    \"\"\"\n",
    "    ctlsb = ctl.ControlSBML(\n",
    "        model_reference=model_reference,\n",
    "        input_names=[\"pAkt\"], output_names=[\"pDEPTOR\"])\n",
    "    siso = ctl.SISOClosedLoopSystem(ctlsb)\n",
    "    closed_loop_outputs=[\"entry.out\", \"sum_R_F.out\", \n",
    "          \"sum_U_D.out\", \"exit.out\"]\n",
    "    siso.makeClosedLoopSystem(\"cl_sys\", kp=kp, ki=ki, kd=kd, kf=kf,\n",
    "        noise_amp=noise_amp, noise_frq=noise_frq,\n",
    "        disturbance_amp=disturbance_amp, disturbance_frq=disturbance_frq,\n",
    "        closed_loop_outputs=closed_loop_outputs)\n",
    "    ts = siso.makeStepResponse(time=1, step_size=1, end_time=end_time,\n",
    "      points_per_time=2)\n",
    "    ts.columns = [\"input\", \"e(t)\", \"system.in\", \"output\"]\n",
    "    if is_plot:\n",
    "        ctl.plotOneTS(ts, **kwargs)\n",
    "    \n",
    "# Tests\n",
    "evaluateDesign(end_time=20, kp=3000, ylim=[-2, 2], figsize=[15, 5], is_plot=False)\n",
    "print(\"OK!\")"
   ]
  },
  {
   "cell_type": "markdown",
   "id": "f19b1fbc-ea95-42c2-bbe4-353825debd50",
   "metadata": {},
   "source": [
    "# Q2. Design"
   ]
  },
  {
   "cell_type": "code",
   "execution_count": null,
   "id": "fb8b32d8-5f7f-4a03-9bde-2ef54a535335",
   "metadata": {},
   "outputs": [],
   "source": [
    "evaluateDesign(end_time=1000, kp=3000, ylim=[-2, 2], noise_amp=1, kf=-0.5, figsize=[15, 5])"
   ]
  },
  {
   "cell_type": "markdown",
   "id": "1471570e-f7e7-4e75-a092-2f1cc85a0a6e",
   "metadata": {
    "jp-MarkdownHeadingCollapsed": true,
    "tags": []
   },
   "source": [
    "# Q3. Analyze"
   ]
  },
  {
   "cell_type": "code",
   "execution_count": 8,
   "id": "f9284797-b2b8-48e2-8ff7-ccc6c876e1d2",
   "metadata": {},
   "outputs": [],
   "source": [
    "def analyze(\n",
    "    model_reference=\"https://www.ebi.ac.uk/biomodels/model/download/BIOMD0000000823.2?filename=Varusai2018.xml\",\n",
    "    time=0, kp=1000, ki=2, kd=0, kf=None):\n",
    "    \"\"\"\n",
    "    Create an evaluation test and plots the step response.\n",
    "    \n",
    "    Parameters\n",
    "    ----------\n",
    "    name: str\n",
    "        Name of the resulting Interconncted system\n",
    "    model_reference: str\n",
    "        antimony string or file path or URL\n",
    "    time: float\n",
    "        time at which Jacobian is calculated\n",
    "    kp: float\n",
    "    ki: float\n",
    "    kd: float\n",
    "    kf: float\n",
    "    \n",
    "    Returns\n",
    "    -------\n",
    "    dict\n",
    "        key: str (\"H_RY\", \"H_NY\", \"H_DY\")\n",
    "        value: control.TransferFunction\n",
    "    \"\"\"\n",
    "    ctlsb = ctl.ControlSBML(\n",
    "        model_reference=model_reference,\n",
    "        input_names=[\"pAkt\"], output_names=[\"pDEPTOR\"])\n",
    "    Gs = ctlsb.makeTransferFunction(time=time)\n",
    "    Cs = control.TransferFunction([kp], [1]) + control.TransferFunction([ki], [1, 0]) + control.TransferFunction([kd, 0], [1])\n",
    "    if kf is None:\n",
    "        Fs = 1\n",
    "    else:\n",
    "        Fs = control.TransferFunction([-kf], [1, kf])\n",
    "    denom = 1 + Cs*Gs*Fs\n",
    "    dct = {\n",
    "        \"Gs\": Gs,\n",
    "        \"H_RY\": Cs*Gs/denom,\n",
    "        \"H_NY\": -Fs/denom,\n",
    "        \"H_DY\": Gs/denom,\n",
    "    }\n",
    "    return dct\n",
    "\n",
    "# Tests\n",
    "dct = analyze()"
   ]
  },
  {
   "cell_type": "code",
   "execution_count": 14,
   "id": "ac3201b7-d428-40af-8eb3-cb1ed74d3360",
   "metadata": {},
   "outputs": [],
   "source": [
    "dct = analyze(time=1)"
   ]
  },
  {
   "cell_type": "code",
   "execution_count": 10,
   "id": "46343af0-e41d-41ef-af17-ca87a1b11bfe",
   "metadata": {},
   "outputs": [
    {
     "data": {
      "text/plain": [
       "4.645104945183758e-15"
      ]
     },
     "execution_count": 10,
     "metadata": {},
     "output_type": "execute_result"
    }
   ],
   "source": [
    "dct[\"Gs\"].dcgain()"
   ]
  },
  {
   "cell_type": "code",
   "execution_count": 11,
   "id": "ba27afcd-2c72-4334-a74b-34aef3eb819c",
   "metadata": {},
   "outputs": [
    {
     "data": {
      "text/plain": [
       "array([-3.30967043e+00+4.66093794e+00j, -3.30967043e+00-4.66093794e+00j,\n",
       "       -5.99999735e+00+0.00000000e+00j, -3.96034286e+00+0.00000000e+00j,\n",
       "       -3.96034177e+00+0.00000000e+00j, -5.71428827e-01+0.00000000e+00j,\n",
       "       -5.01657618e-01+0.00000000e+00j, -5.01657130e-01+0.00000000e+00j,\n",
       "       -5.55102025e-02+0.00000000e+00j, -1.99999996e-02+2.27459403e-09j,\n",
       "       -1.99999996e-02-2.27459403e-09j, -7.59498395e-03+0.00000000e+00j,\n",
       "       -7.12402263e-15+0.00000000e+00j,  0.00000000e+00+0.00000000e+00j])"
      ]
     },
     "execution_count": 11,
     "metadata": {},
     "output_type": "execute_result"
    }
   ],
   "source": [
    "dct[\"H_RY\"].pole()"
   ]
  },
  {
   "cell_type": "code",
   "execution_count": 17,
   "id": "95f8db73-5499-44fb-8149-a89e03ff7b9d",
   "metadata": {},
   "outputs": [
    {
     "data": {
      "text/latex": [
       "$$\\frac{-s^{10} - 8.828 s^9 - 19.68 s^8 - 17.4 s^7 - 7.1 s^6 - 1.344 s^5 - 0.1084 s^4 - 0.004036 s^3 - 6.902 \\times 10^{-5} s^2 - 4.399 \\times 10^{-7} s}{s^{10} + 8.828 s^9 + 31.79 s^8 + 44.09 s^7 + 22.86 s^6 + 4.566 s^5 + 0.2943 s^4 + 0.008231 s^3 + 0.0001047 s^2 + 4.961 \\times 10^{-7} s + 4.23 \\times 10^{-13}}$$"
      ],
      "text/plain": [
       "TransferFunction(array([-1.00000000e+00, -8.82768147e+00, -1.96788621e+01, -1.74008932e+01,\n",
       "       -7.09969055e+00, -1.34436260e+00, -1.08426463e-01, -4.03621083e-03,\n",
       "       -6.90192141e-05, -4.39868738e-07,  0.00000000e+00]), array([1.00000000e+00, 8.82768147e+00, 3.17866184e+01, 4.40850239e+01,\n",
       "       2.28642058e+01, 4.56556411e+00, 2.94311614e-01, 8.23146624e-03,\n",
       "       1.04713904e-04, 4.96124646e-07, 4.23010951e-13]))"
      ]
     },
     "execution_count": 17,
     "metadata": {},
     "output_type": "execute_result"
    }
   ],
   "source": [
    "dct[\"H_NY\"]"
   ]
  },
  {
   "cell_type": "markdown",
   "id": "ee4e6fbf-7bfb-497b-8776-f131dec70f3d",
   "metadata": {},
   "source": [
    "1. Why are large control inputs required to control the mTOR system?\n",
    "   * Large control inputs are required because there is a small DC gain for mTOR from pAkt to pDEPTOR.\n",
    "1. Why are there no long term oscillations in the closed loop system?\n",
    "   * In $H_{RY}$, There is no pole close to zero if a non-zero imaginary part.\n",
    "1. How will a step increase in noise affect the system?\n",
    "   * Since the DC gain of $H_{NY}$ is 0, in theory, noise will not affect the output."
   ]
  },
  {
   "cell_type": "markdown",
   "id": "d90287da-5928-44fa-9644-4e89447827fa",
   "metadata": {},
   "source": [
    "# Q4. Discussion"
   ]
  },
  {
   "cell_type": "markdown",
   "id": "dff3c20b-b930-4c23-80cf-1c6e50c15961",
   "metadata": {},
   "source": [
    "1. The closed loop system requires that pAkt be extremely large.\n",
    "1. The closed loop system requires negative values of pAkt."
   ]
  }
 ],
 "metadata": {
  "kernelspec": {
   "display_name": "Python 3",
   "language": "python",
   "name": "python3"
  },
  "language_info": {
   "codemirror_mode": {
    "name": "ipython",
    "version": 3
   },
   "file_extension": ".py",
   "mimetype": "text/x-python",
   "name": "python",
   "nbconvert_exporter": "python",
   "pygments_lexer": "ipython3",
   "version": "3.6.9"
  }
 },
 "nbformat": 4,
 "nbformat_minor": 5
}
