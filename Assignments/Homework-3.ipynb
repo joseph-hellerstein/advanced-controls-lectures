{
 "cells": [
  {
   "cell_type": "markdown",
   "id": "2e208ddd-3ab6-46c3-9e3e-1a345794bbed",
   "metadata": {},
   "source": [
    "# HOMEWORK 3"
   ]
  },
  {
   "cell_type": "code",
   "execution_count": 1,
   "id": "f5e6f6d2-ff33-497c-aa36-057651b3c58e",
   "metadata": {},
   "outputs": [
    {
     "name": "stdout",
     "output_type": "stream",
     "text": [
      "controlSBML version: 0.2.10\n"
     ]
    }
   ],
   "source": [
    "!pip -q install controlSBML\n",
    "import controlSBML as ctl\n",
    "import control\n",
    "from controlSBML.util import makeSimulationTimes\n",
    "import pandas as pd\n",
    "import matplotlib.pyplot as plt\n",
    "import numpy as np\n",
    "import sympy as sy\n",
    "import tellurium as te\n",
    "import sympy\n",
    "print(\"controlSBML version: \" + ctl.__version__)"
   ]
  },
  {
   "cell_type": "markdown",
   "id": "89bbcc67-c671-48c0-a73d-b6a51859b63e",
   "metadata": {},
   "source": [
    "<img src=\"https://github.com/joseph-hellerstein/advanced-controls-lectures/blob/main/Lecture_13_14-Closed-Loop-Systems/Closed-Loop-System.png?raw=true\"\n",
    "     alt=\"Markdown Monster icon\" width=600pt\n",
    "     style=\"float: left; margin-right: 10px;\" />"
   ]
  },
  {
   "cell_type": "markdown",
   "id": "b1848446-7741-4067-959d-aa37b577d8cc",
   "metadata": {},
   "source": [
    "In this homework, you will design a closed loop system for controlling the mTOR system as modelled in BioModels 823.\n",
    "1. (4 pt) Develop a \"testbed factory\" for evaluating a control designs.\n",
    "    1. Develop a function ``makeTestbed`` that returns a ``control.Interconnect`` object for the testbed.\n",
    "        * Inputs: kp, ki, kd, kf, noise_amp, noise_frq, disturbance_amp, disturbance_frq\n",
    "        * Outputs: control.Interconnect\n",
    "    1. Develop a function ``evaluateTestbed`` that plots the output of the closed loop system (y(t) + n(t))\n",
    "1. (3 pt) Develop a function ``designClosedLoopSystem`` that searches for $k_P$, $k_I$, $k_D$, $k_F$ such that:\n",
    "    1. All poles are less than -1;\n",
    "    1. The DC gain of $H_{RY} \\approx 1$;\n",
    "    1. The DC gain for $H_NY$, $H_DY$ is less than 0.1.\n",
    "1. (2 pt) Evaluate candidate design parameters from (2) on the testbed in (1) by showing plots of step response.\n",
    "1. (1 pt) Discusses issues/challenges that you encountered in developing (2) and going from (2) to (3)."
   ]
  },
  {
   "cell_type": "markdown",
   "id": "3547c7aa-649c-4d1d-8b55-c27e9d40550b",
   "metadata": {},
   "source": [
    "# Q1. ``evaluateTestbed``"
   ]
  },
  {
   "cell_type": "markdown",
   "id": "d44c18c1-5c31-4e1f-a47d-b0a5291d5559",
   "metadata": {},
   "source": [
    "# Q2. ``designClosedLoopSystem``"
   ]
  },
  {
   "cell_type": "markdown",
   "id": "1471570e-f7e7-4e75-a092-2f1cc85a0a6e",
   "metadata": {},
   "source": [
    "# Q3. Design Evaluation"
   ]
  },
  {
   "cell_type": "markdown",
   "id": "2417aa70-1f1e-49fc-8d02-4e5999092b75",
   "metadata": {},
   "source": [
    "# Q4. Discussion"
   ]
  }
 ],
 "metadata": {
  "kernelspec": {
   "display_name": "Python 3",
   "language": "python",
   "name": "python3"
  },
  "language_info": {
   "codemirror_mode": {
    "name": "ipython",
    "version": 3
   },
   "file_extension": ".py",
   "mimetype": "text/x-python",
   "name": "python",
   "nbconvert_exporter": "python",
   "pygments_lexer": "ipython3",
   "version": "3.6.9"
  }
 },
 "nbformat": 4,
 "nbformat_minor": 5
}
