{
 "cells": [
  {
   "cell_type": "markdown",
   "id": "2e208ddd-3ab6-46c3-9e3e-1a345794bbed",
   "metadata": {},
   "source": [
    "# HOMEWORK 3"
   ]
  },
  {
   "cell_type": "code",
   "execution_count": 1,
   "id": "f5e6f6d2-ff33-497c-aa36-057651b3c58e",
   "metadata": {},
   "outputs": [
    {
     "name": "stdout",
     "output_type": "stream",
     "text": [
      "controlSBML version: 0.2.13\n"
     ]
    }
   ],
   "source": [
    "!pip -q install controlSBML\n",
    "import controlSBML as ctl\n",
    "import control\n",
    "from controlSBML.util import makeSimulationTimes\n",
    "import pandas as pd\n",
    "import matplotlib.pyplot as plt\n",
    "import numpy as np\n",
    "import sympy as sy\n",
    "import tellurium as te\n",
    "import sympy\n",
    "print(\"controlSBML version: \" + ctl.__version__)"
   ]
  },
  {
   "cell_type": "markdown",
   "id": "89bbcc67-c671-48c0-a73d-b6a51859b63e",
   "metadata": {},
   "source": [
    "<img src=\"https://github.com/joseph-hellerstein/advanced-controls-lectures/blob/main/Lecture_13_14-Closed-Loop-Systems/Closed-Loop-System.png?raw=true\"\n",
    "     alt=\"Markdown Monster icon\" width=600pt\n",
    "     style=\"float: left; margin-right: 10px;\" />"
   ]
  },
  {
   "cell_type": "markdown",
   "id": "b1848446-7741-4067-959d-aa37b577d8cc",
   "metadata": {},
   "source": [
    "In this homework, you will design a closed loop system for controlling the mTOR system as modelled in BioModels 823.\n",
    "1. (4 pt) Implement the function ``makeTestbed``, a \"factory\" for creating an evaluation testbed a control designs.\n",
    "    1. Develop a function ``makeTestbed`` that returns a ``control.Interconnect`` object for the testbed.\n",
    "        * Inputs: name, model_reference (antimony string, url), kp, ki, kd, kf, noise_amp, noise_frq, disturbance_amp, disturbance_frq\n",
    "        * Outputs: control.Interconnect\n",
    "    1. Develop a function ``evaluateTestbed`` that plots the output of the closed loop system (y(t) + n(t))\n",
    "1. (3 pt) Develop a function ``designClosedLoopSystem`` that searches for $k_P$, $k_I$, $k_D$, $k_F$ such that:\n",
    "    1. All poles are less than 0:\n",
    "    1. The DC gain of $H_{RY} \\approx 1$;\n",
    "    1. The DC gain for $H_NY$, $H_DY$ is less than 0.1.\n",
    "1. (2 pt) Evaluate candidate design parameters from (2) on the testbed in (1) by showing plots of step response.\n",
    "1. (1 pt) Discusses issues/challenges that you encountered in developing (2) and going from (2) to (3)."
   ]
  },
  {
   "cell_type": "markdown",
   "id": "07780fbc-eb0f-4b06-92f9-1e4a56509aab",
   "metadata": {},
   "source": [
    "Other considerations\n",
    "* What happens as the reference in put is changed?"
   ]
  },
  {
   "cell_type": "markdown",
   "id": "3547c7aa-649c-4d1d-8b55-c27e9d40550b",
   "metadata": {},
   "source": [
    "# Q1. ``evaluateDesign``"
   ]
  },
  {
   "cell_type": "code",
   "execution_count": null,
   "id": "81426014-f9e0-4a9b-8d85-19d64a1a5214",
   "metadata": {},
   "outputs": [],
   "source": [
    "def evaluateDesign(model_reference, kp=1000, ki=2, kd=0, kf=None, \n",
    "                   noise_amp=0, noise_frq=1, disturbance_amp=0, disturbance_frq=1,\n",
    "                   step_size=1, end_time=100, is_plot=True):\n",
    "    \"\"\"\n",
    "    Create an evaluation test and plots the step response.\n",
    "    \n",
    "    Parameters\n",
    "    ----------\n",
    "    name: str\n",
    "        Name of the resulting Interconncted system\n",
    "    model_reference: str\n",
    "        antimony string or file path or URL\n",
    "    kp: float\n",
    "    ki: float\n",
    "    kd: float\n",
    "    kf: float\n",
    "    step_size: float\n",
    "    \n",
    "    Returns\n",
    "    -------\n",
    "    control.TransferFunction\n",
    "        Transfer function from input to output\n",
    "    \"\"\"\n",
    "    ctlsb = ctl.ControlSBML(model_reference, \n",
    "                input_names=[\"pAkt\"], output_names=[\"pDEPTOR\"])\n",
    "    siso = ctl.SISOClosedLoopSystem(ctlsb)\n",
    "    closed_loop_outputs=[\"entry.out\", \"sum_R_F.out\", \n",
    "          \"sum_U_D.out\", \"exit.out\"]\n",
    "    siso.makeClosedLoopSystem(\"cl_sys\", kp=kp, ki=ki, kd=kd, kf=kf,\n",
    "        noise_amp=noise_amp, noise_frq=noise_frq,\n",
    "        disturbance_amp=disturbance_amp, disturbance_frq=disturbance_frq,\n",
    "        closed_loop_outputs=closed_loop_outputs)\n",
    "    ts = siso.makeStepResponse(time=1, step_size=1, end_time=end_time,\n",
    "      points_per_time=2)\n",
    "    ts.columns = [\"input\", \"e(t)\", \"system.in\", \"output\"]\n",
    "    if is_plot:\n",
    "        ctl.plotOneTS(ts, ylim=[-2, 2], figsize=(10, 5))\n",
    "    # Construct the transfer function\n",
    "    sys = siso.closed_loop_system.linearize(0, u0=0)\n",
    "    tf_vec =  control.ss2tf(sys)\n",
    "    num = tf.num[0][0]\n",
    "    den = tf.den[0][0]\n",
    "    return control.TransferFunction(num, den)\n",
    "    \n",
    "# Tests\n",
    "model_reference = \"https://www.ebi.ac.uk/biomodels/model/download/BIOMD0000000823.2?filename=Varusai2018.xml\"\n",
    "tf = evaluateDesign(model_reference, ki=0, end_time=20)"
   ]
  },
  {
   "cell_type": "code",
   "execution_count": null,
   "id": "1dcba114-5542-45dd-b7c6-af65b4734900",
   "metadata": {},
   "outputs": [],
   "source": [
    "tf"
   ]
  },
  {
   "cell_type": "markdown",
   "id": "d44c18c1-5c31-4e1f-a47d-b0a5291d5559",
   "metadata": {},
   "source": [
    "# Q2. ``designClosedLoopSystem``"
   ]
  },
  {
   "cell_type": "markdown",
   "id": "1471570e-f7e7-4e75-a092-2f1cc85a0a6e",
   "metadata": {},
   "source": [
    "# Q3. Design Evaluation"
   ]
  },
  {
   "cell_type": "markdown",
   "id": "2417aa70-1f1e-49fc-8d02-4e5999092b75",
   "metadata": {},
   "source": [
    "# Q4. Discussion"
   ]
  }
 ],
 "metadata": {
  "kernelspec": {
   "display_name": "Python 3",
   "language": "python",
   "name": "python3"
  },
  "language_info": {
   "codemirror_mode": {
    "name": "ipython",
    "version": 3
   },
   "file_extension": ".py",
   "mimetype": "text/x-python",
   "name": "python",
   "nbconvert_exporter": "python",
   "pygments_lexer": "ipython3",
   "version": "3.6.9"
  }
 },
 "nbformat": 4,
 "nbformat_minor": 5
}
