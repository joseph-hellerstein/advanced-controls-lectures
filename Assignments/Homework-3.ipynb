{
 "cells": [
  {
   "cell_type": "markdown",
   "id": "2e208ddd-3ab6-46c3-9e3e-1a345794bbed",
   "metadata": {},
   "source": [
    "HOMEWORK 3"
   ]
  },
  {
   "cell_type": "code",
   "execution_count": 1,
   "id": "f5e6f6d2-ff33-497c-aa36-057651b3c58e",
   "metadata": {},
   "outputs": [
    {
     "name": "stdout",
     "output_type": "stream",
     "text": [
      "controlSBML version: 0.2.10\n"
     ]
    }
   ],
   "source": [
    "!pip -q install controlSBML\n",
    "import controlSBML as ctl\n",
    "import control\n",
    "from controlSBML.util import makeSimulationTimes\n",
    "import pandas as pd\n",
    "import matplotlib.pyplot as plt\n",
    "import numpy as np\n",
    "import sympy as sy\n",
    "import tellurium as te\n",
    "import sympy\n",
    "print(\"controlSBML version: \" + ctl.__version__)"
   ]
  },
  {
   "cell_type": "markdown",
   "id": "0733c387-1152-469f-8811-029e692c29cd",
   "metadata": {},
   "source": [
    "# Question 1: Feedback Control Theory"
   ]
  },
  {
   "cell_type": "markdown",
   "id": "64555f04-1bfb-4da4-a85c-c01fe03ecd11",
   "metadata": {},
   "source": [
    "<img src=\"https://github.com/joseph-hellerstein/advanced-controls-lectures/blob/main/Homework/Generalized-Feedback-System.png?raw=true\" alt=\"drawing\" width=\"600\"/>"
   ]
  },
  {
   "cell_type": "markdown",
   "id": "cc5e31fc-513e-462f-b25a-42ab467e7fd5",
   "metadata": {},
   "source": [
    "Prove that $H(s)$ is the solution displayed above."
   ]
  }
 ],
 "metadata": {
  "kernelspec": {
   "display_name": "Python 3",
   "language": "python",
   "name": "python3"
  },
  "language_info": {
   "codemirror_mode": {
    "name": "ipython",
    "version": 3
   },
   "file_extension": ".py",
   "mimetype": "text/x-python",
   "name": "python",
   "nbconvert_exporter": "python",
   "pygments_lexer": "ipython3",
   "version": "3.6.9"
  }
 },
 "nbformat": 4,
 "nbformat_minor": 5
}
