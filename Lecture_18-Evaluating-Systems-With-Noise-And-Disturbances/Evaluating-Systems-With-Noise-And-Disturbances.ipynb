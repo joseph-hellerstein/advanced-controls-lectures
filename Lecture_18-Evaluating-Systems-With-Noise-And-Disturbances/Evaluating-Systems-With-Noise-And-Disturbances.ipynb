{
 "cells": [
  {
   "cell_type": "markdown",
   "id": "b1229fec-e965-4858-b3e7-cf67e8645060",
   "metadata": {},
   "source": [
    "# EVALUATING SYSTEMS WITH NOISE AND DISTURBANCES"
   ]
  },
  {
   "cell_type": "markdown",
   "id": "6f6af7d4-63dc-4ec1-95ba-bdd6f9c35720",
   "metadata": {
    "tags": []
   },
   "source": [
    "This notebook shows how to use the control package to create a closed loop system\n",
    "with noise and distrubances."
   ]
  },
  {
   "cell_type": "markdown",
   "id": "ea1ef56b-9c3d-4fbe-8202-151b8979a57b",
   "metadata": {},
   "source": [
    "# Preliminaries"
   ]
  },
  {
   "cell_type": "code",
   "execution_count": 33,
   "id": "f16d0f7a-d0c5-4f37-aa29-feed6d82a363",
   "metadata": {},
   "outputs": [],
   "source": [
    "!pip install -q control\n",
    "!pip install -q tellurium\n",
    "!pip install -q controlSBML\n",
    "\n",
    "import collections\n",
    "import control\n",
    "import controlSBML as ctl\n",
    "from IPython.display import HTML, Math\n",
    "import numpy as np\n",
    "import pandas as pd\n",
    "import matplotlib.pyplot as plt\n",
    "import sympy\n",
    "import tellurium as te"
   ]
  },
  {
   "cell_type": "code",
   "execution_count": 2,
   "id": "0e08f473-49e8-4878-bc53-289472bb71fb",
   "metadata": {},
   "outputs": [],
   "source": [
    "TIMES = ctl.makeSimulationTimes(0, 5, 500)"
   ]
  },
  {
   "cell_type": "markdown",
   "id": "f5286452-eb67-42ca-8dae-be9954e20efa",
   "metadata": {},
   "source": [
    "# Helpers"
   ]
  },
  {
   "cell_type": "code",
   "execution_count": 3,
   "id": "55e3604e-6392-45b8-818c-8c7624758fcc",
   "metadata": {},
   "outputs": [
    {
     "name": "stdout",
     "output_type": "stream",
     "text": [
      "OK!\n"
     ]
    }
   ],
   "source": [
    "def plotStep(tf, is_plot=True):\n",
    "    \"\"\"\n",
    "    Plots a transfer function step response\n",
    "    \n",
    "    Parameters\n",
    "    ----------\n",
    "    tf: control.TransferFunction\n",
    "    \"\"\"\n",
    "    result = control.forced_response(tf, T=TIMES, U=1)\n",
    "    if is_plot:\n",
    "        plt.plot(result.t, result.outputs)\n",
    "\n",
    "# TESTS\n",
    "Gs = control.TransferFunction([2], [1, 3])\n",
    "plotStep(Gs, is_plot=False)\n",
    "print(\"OK!\")"
   ]
  },
  {
   "cell_type": "code",
   "execution_count": 4,
   "id": "31dec246-4a8c-40e4-837e-4a5cd944f10c",
   "metadata": {},
   "outputs": [
    {
     "data": {
      "text/latex": [
       "$\\displaystyle e^{\\alpha}$"
      ],
      "text/plain": [
       "<IPython.core.display.Math object>"
      ]
     },
     "metadata": {},
     "output_type": "display_data"
    }
   ],
   "source": [
    "def pp(obj):\n",
    "    \"\"\"\n",
    "    Does a LaTex rendering of an object with a latex representation.\n",
    "\n",
    "    Parameters\n",
    "    ----------\n",
    "    obj: object\n",
    "    \"\"\"\n",
    "    display(Math(str(obj)))\n",
    "\n",
    "# Tests\n",
    "pp(r\"e^{\\alpha}\")"
   ]
  },
  {
   "cell_type": "markdown",
   "id": "e32ec4a4-aaa9-4c04-93de-e0cd8cd94874",
   "metadata": {},
   "source": [
    "# Antimony Model"
   ]
  },
  {
   "cell_type": "code",
   "execution_count": 5,
   "id": "e72be43c-f53c-493c-a7a6-9e4361b34bca",
   "metadata": {},
   "outputs": [],
   "source": [
    "# Constants\n",
    "CONSTANT_DCT = {\"k1\": 1, \"k2\": 2, \"k3\": 3, \"k4\": 4}\n",
    "s = sympy.Symbol(\"s\")\n",
    "REF = 10"
   ]
  },
  {
   "cell_type": "code",
   "execution_count": 6,
   "id": "64e2bdc6-baae-49d2-87d3-b742349b7595",
   "metadata": {},
   "outputs": [
    {
     "data": {
      "image/png": "[encoded data removed]",
      "text/plain": [
       "<Figure size 432x288 with 1 Axes>"
      ]
     },
     "metadata": {},
     "output_type": "display_data"
    }
   ],
   "source": [
    "MODEL = \"\"\"\n",
    "$S1 -> S2; k1*$S1\n",
    "J1: S2 -> S3; k2*S2\n",
    "J2: S3 -> S2; k3*S3\n",
    "J3: S2 -> ; k4*S2\n",
    "\n",
    "k1 = 0\n",
    "k2 = 0\n",
    "k3 = 0\n",
    "k4 = 0\n",
    "$S1 = 10\n",
    "S2 = 0\n",
    "S3 = 0\n",
    "S4 = 0\n",
    "\"\"\"\n",
    "RR = te.loada(MODEL)\n",
    "for k in CONSTANT_DCT.keys():\n",
    "    RR[k] = CONSTANT_DCT[k]\n",
    "RR.simulate()\n",
    "RR.plot()"
   ]
  },
  {
   "cell_type": "markdown",
   "id": "90b0c8d2-8375-4e5f-962b-5abb4b6bf6d1",
   "metadata": {},
   "source": [
    "# Closed Loop Transfer Functions"
   ]
  },
  {
   "cell_type": "markdown",
   "id": "262f37bc-ab85-4c2b-bf71-8862fdba6cf5",
   "metadata": {},
   "source": [
    "<img src=\"https://github.com/joseph-hellerstein/advanced-controls-lectures/blob/main/Lecture_13_14-Closed-Loop-Systems/Closed-Loop-System.png?raw=true\"\n",
    "     alt=\"Markdown Monster icon\" width=600pt\n",
    "     style=\"float: left; margin-right: 10px;\" />"
   ]
  },
  {
   "cell_type": "markdown",
   "id": "a6773706-9d33-4d28-a3cb-a62b58b48b57",
   "metadata": {},
   "source": [
    "**Transfer Functions**\n",
    "\\begin{eqnarray}\n",
    "H_{RY}(s) & = & \\frac{Y(s)}{R(s)} & = & \\frac{C(s) G(s)}{1 + C(s) G(s) F(s)} \\\\\n",
    "H_{RE}(s) & = & \\frac{E(s)}{R(s)} & = & \\frac{1}{1 + C(s) G(s) F(s)} \\\\\n",
    "H_{NY}(s) & = & \\frac{Y(s)}{N(s)} & = & -\\frac{ F(s)}{1 + C(s) G(s) F(s)} \\\\\n",
    "H_{DY}(s) & = & \\frac{Y(s)}{D(s)} & = & \\frac{ C(s)}{1 + C(s) G(s) F(s)} \\\\\n",
    "\\end{eqnarray}"
   ]
  },
  {
   "cell_type": "markdown",
   "id": "1552aabf-e43e-49f8-8009-76d450f7c289",
   "metadata": {},
   "source": [
    "# Creating Noise"
   ]
  },
  {
   "cell_type": "markdown",
   "id": "7d29af36-13a1-4998-9313-1f33933b5c62",
   "metadata": {},
   "source": [
    "Here we show how to create a ``NonlinearIOSystem`` that generates noise according to parameter settings."
   ]
  }
 ],
 "metadata": {
  "kernelspec": {
   "display_name": "Python 3",
   "language": "python",
   "name": "python3"
  },
  "language_info": {
   "codemirror_mode": {
    "name": "ipython",
    "version": 3
   },
   "file_extension": ".py",
   "mimetype": "text/x-python",
   "name": "python",
   "nbconvert_exporter": "python",
   "pygments_lexer": "ipython3",
   "version": "3.6.9"
  }
 },
 "nbformat": 4,
 "nbformat_minor": 5
}
