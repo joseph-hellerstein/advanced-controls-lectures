{
 "cells": [
  {
   "cell_type": "markdown",
   "id": "b1229fec-e965-4858-b3e7-cf67e8645060",
   "metadata": {},
   "source": [
    "# PRACTICE DESIGNING CLOSED LOOP SYSTEMS"
   ]
  },
  {
   "cell_type": "markdown",
   "id": "b14755c3-727a-4b2c-815c-2b0d7dc192d5",
   "metadata": {},
   "source": [
    "<img src=\"https://github.com/joseph-hellerstein/advanced-controls-lectures/blob/main/Lecture_13_14-Closed-Loop-Systems/Closed-Loop-System.png?raw=true\"\n",
    "     alt=\"Markdown Monster icon\" width=600pt\n",
    "     style=\"float: left; margin-right: 10px;\" />"
   ]
  },
  {
   "cell_type": "markdown",
   "id": "1d364ff2-fbd9-4dfc-bce8-d070b1d57418",
   "metadata": {},
   "source": [
    "This notebook describes the proportional, integral, and differential controllers."
   ]
  },
  {
   "cell_type": "markdown",
   "id": "ea1ef56b-9c3d-4fbe-8202-151b8979a57b",
   "metadata": {},
   "source": [
    "# Preliminaries"
   ]
  },
  {
   "cell_type": "code",
   "execution_count": 1,
   "id": "f16d0f7a-d0c5-4f37-aa29-feed6d82a363",
   "metadata": {},
   "outputs": [],
   "source": [
    "!pip install -q control\n",
    "!pip install -q tellurium\n",
    "!pip install -q controlSBML\n",
    "\n",
    "import control\n",
    "import controlSBML as ctl\n",
    "from IPython.display import HTML, Math\n",
    "import numpy as np\n",
    "import pandas as pd\n",
    "import matplotlib.pyplot as plt\n",
    "import sympy\n",
    "import tellurium as te"
   ]
  },
  {
   "cell_type": "code",
   "execution_count": 2,
   "id": "0e08f473-49e8-4878-bc53-289472bb71fb",
   "metadata": {},
   "outputs": [],
   "source": [
    "TIMES = ctl.makeSimulationTimes(0, 5, 500)"
   ]
  },
  {
   "cell_type": "code",
   "execution_count": 3,
   "id": "e72be43c-f53c-493c-a7a6-9e4361b34bca",
   "metadata": {},
   "outputs": [],
   "source": [
    "# Constants\n",
    "CONSTANT_DCT = {\"k1\": 1, \"k2\": 2, \"k3\": 3, \"k4\": 4}\n",
    "s = sympy.Symbol(\"s\")\n",
    "REF = 10"
   ]
  },
  {
   "cell_type": "code",
   "execution_count": 4,
   "id": "64e2bdc6-baae-49d2-87d3-b742349b7595",
   "metadata": {},
   "outputs": [
    {
     "data": {
      "image/png": "[encoded data removed]",
      "text/plain": [
       "<Figure size 432x288 with 1 Axes>"
      ]
     },
     "metadata": {},
     "output_type": "display_data"
    }
   ],
   "source": [
    "MODEL1 = \"\"\"\n",
    "$S1 -> S2; k1*$S1\n",
    "J1: S2 -> S3; k2*S2\n",
    "J2: S3 -> S2; k3*S3\n",
    "J3: S2 -> ; k4*S2\n",
    "\n",
    "k1 = 1\n",
    "k2 = 2\n",
    "k3 = 3\n",
    "k4 = 4\n",
    "$S1 = 10\n",
    "S2 = 0\n",
    "S3 = 0\n",
    "S4 = 0\n",
    "\"\"\"\n",
    "RR = te.loada(MODEL1)\n",
    "RR.simulate()\n",
    "RR.plot()"
   ]
  },
  {
   "cell_type": "markdown",
   "id": "2cd26e71-57c0-4041-9f45-733d41a30664",
   "metadata": {},
   "source": [
    "# Helpers"
   ]
  },
  {
   "cell_type": "code",
   "execution_count": 5,
   "id": "b06b9829-2f88-4d6a-9da4-916431082f64",
   "metadata": {},
   "outputs": [
    {
     "name": "stdout",
     "output_type": "stream",
     "text": [
      "OK!\n"
     ]
    }
   ],
   "source": [
    "def plotTFs(Gs, kp=0, ki=0, kd=0, times=TIMES, ylim=None, title=None, is_plot=True):\n",
    "    \"\"\"\n",
    "    Constructs the transfer functions for the proportional controller, and filter.\n",
    "    Calculates the transfer functions HRYs, HREs, HNYs, HDYs and plots them.\n",
    "    \n",
    "    Parameters\n",
    "    ----------\n",
    "    Gs: control.TransferFunction\n",
    "    kp: float\n",
    "    ki: float\n",
    "    kd: float\n",
    "    times: list-float\n",
    "    ylim: (float, float)\n",
    "        limits of y-values\n",
    "    title: str\n",
    "    \n",
    "    Returns\n",
    "    -------\n",
    "    dct\n",
    "        key: name of transfer function\n",
    "        value: control.TransferFunction\n",
    "    \"\"\"\n",
    "    Cs = control.TransferFunction([kp], [1]) + control.TransferFunction([ki], [1, 0])  \\\n",
    "        + control.TransferFunction([kd, 0], [1])\n",
    "    Fs = 1\n",
    "    denom = 1 + Cs*Gs*Fs\n",
    "    # Construct the transfer functions\n",
    "    tf_dct = {\n",
    "        \"HRYs\": Cs*Gs/denom,\n",
    "        \"HREs\": 1/denom,\n",
    "        \"HNYs\": -Fs/denom,\n",
    "        \"HDYs\": Cs/denom,\n",
    "    }\n",
    "    # Construct the plots\n",
    "    _, ax = plt.subplots(1)\n",
    "    for tf in tf_dct.values():\n",
    "        result = control.forced_response(tf, T=times, U=1)\n",
    "        plt.plot(result.t.flatten(), result.y.flatten())\n",
    "    # Refine plots\n",
    "    plt.legend(list(tf_dct.keys()))\n",
    "    xmax = max(result.t.flatten())\n",
    "    plt.plot([0, xmax], [0, 0], linestyle=\"--\", color=\"black\")\n",
    "    plt.plot([0, xmax], [1, 1], linestyle=\"--\", color=\"grey\")\n",
    "    plt.ylim([-5, 5])\n",
    "    title = \"kp=%2.2f ki=%2.2f kd=%2.2f\" % (kp, ki, kd)\n",
    "    plt.title(title)\n",
    "    if not is_plot:\n",
    "        plt.close()\n",
    "    return tf_dct\n",
    "    \n",
    "# Tests\n",
    "Gs = control.TransferFunction([2], [1, 3])\n",
    "dct = plotTFs(Gs, kp=10, ylim=[0, 3], title=\"Example\", is_plot=False)\n",
    "assert(len(dct) == 4)\n",
    "assert(\"TransferFunction\" in str(type(dct[\"HRYs\"])))\n",
    "print(\"OK!\")"
   ]
  },
  {
   "cell_type": "code",
   "execution_count": 6,
   "id": "00e8b44a-01c6-4451-9f2e-01d61e0cc2a3",
   "metadata": {},
   "outputs": [
    {
     "name": "stdout",
     "output_type": "stream",
     "text": [
      "OK!\n"
     ]
    }
   ],
   "source": [
    "def makeHRY(model, input_name, output_name, time=0, kp=0, ki=0, kd=0):\n",
    "    \"\"\"\n",
    "    Calculates the transfer function from the reference input to the output.\n",
    "    \n",
    "    Parameters\n",
    "    ----------\n",
    "    model: str\n",
    "    input_name: str\n",
    "    output_name: str\n",
    "    time: float\n",
    "    kp: float\n",
    "    ki: float\n",
    "    kd: float\n",
    "    \n",
    "    Returns\n",
    "    -------\n",
    "    control.TransferFunction\n",
    "    \"\"\"\n",
    "    ctlsb = ctl.ControlSBML(model, input_names=[input_name], output_names=[output_name])\n",
    "    Gs = ctlsb.makeTransferFunction(time=time)\n",
    "    dct = plotTFs(Gs, kp=kp, ki=ki, kd=kd, is_plot=False)\n",
    "    return dct[\"HRYs\"]\n",
    "    \n",
    "    \n",
    "# TESTS\n",
    "tf = makeHRY(MODEL1, \"S2\", \"S3\", kp=0)\n",
    "assert(tf.dcgain() == 0)\n",
    "print(\"OK!\")"
   ]
  },
  {
   "cell_type": "markdown",
   "id": "7790a48e-944d-4302-a6ca-2ce719e2c7df",
   "metadata": {},
   "source": [
    "# More On Filters"
   ]
  },
  {
   "cell_type": "markdown",
   "id": "872bf817-a6f0-451c-8be2-23c0bec10eed",
   "metadata": {},
   "source": [
    "How do filters help with sinusoidal noise and disturbances?"
   ]
  },
  {
   "cell_type": "markdown",
   "id": "70ab2818-4a73-4a90-a8c4-9061f627babf",
   "metadata": {},
   "source": [
    "We consider filters with a DC gain of one.\n",
    "That is, given the negative $a$, the filter is $-a e^{at}$.\n",
    "This has the transfer function $\\frac{a}{a + s}$."
   ]
  },
  {
   "cell_type": "code",
   "execution_count": 7,
   "id": "69731d54-82fb-4042-9915-b5c9a4311b37",
   "metadata": {},
   "outputs": [],
   "source": [
    "# Create a testsbed\n",
    "factory = ctl.IOSystemFactory()\n",
    "fltr = factory.makeFilter(\"fltr\", -1)\n",
    "noise = factory.makeSinusoid(\"noise\", 1, 20)"
   ]
  },
  {
   "cell_type": "code",
   "execution_count": 8,
   "id": "342b3e6c-81ea-4871-b932-56e5e4257247",
   "metadata": {},
   "outputs": [],
   "source": [
    "# Create the testbed\n",
    "test_bed = control.interconnect(\n",
    "  [noise, fltr ], \n",
    "  connections=[\n",
    "    ['fltr.in', 'noise.out'],    # e(t)\n",
    "    \n",
    "  ],\n",
    "  outlist=[\"fltr.out\"],\n",
    ")"
   ]
  },
  {
   "cell_type": "code",
   "execution_count": 9,
   "id": "5a949840-ea6b-4b33-bfbf-54aa1629e8e3",
   "metadata": {},
   "outputs": [
    {
     "data": {
      "text/plain": [
       "(-1.0, 1.0)"
      ]
     },
     "execution_count": 9,
     "metadata": {},
     "output_type": "execute_result"
    },
    {
     "data": {
      "image/png": "[encoded data removed]",
      "text/plain": [
       "<Figure size 432x288 with 1 Axes>"
      ]
     },
     "metadata": {
      "needs_background": "light"
     },
     "output_type": "display_data"
    }
   ],
   "source": [
    "# Simulate it\n",
    "times = ctl.makeSimulationTimes(0, 20, 500)\n",
    "result = control.input_output_response(test_bed, T=times)\n",
    "plt.plot(result.t, result.outputs.flatten())\n",
    "plt.ylim([-1, 1])"
   ]
  },
  {
   "cell_type": "markdown",
   "id": "dec4aceb-3950-4b6d-9a6f-b9e05e61e321",
   "metadata": {},
   "source": [
    "# PID Controllers"
   ]
  },
  {
   "cell_type": "markdown",
   "id": "4cf10388-24c2-4f8b-ab5b-3c69e6e09bd4",
   "metadata": {},
   "source": [
    "The controllers considered here are systems that input the control error and produce a control signal used\n",
    "to regulate the system under control.\n",
    "The input signal is $e(t)$ and the output signal is $u(t)$."
   ]
  },
  {
   "cell_type": "markdown",
   "id": "ef573ba8-b49f-41f4-9155-71f91f54d1fa",
   "metadata": {},
   "source": [
    "A **proportional controller** has the parameter $k_P$.\n",
    "This controller outputs a signal that is proportional to the control error.\n",
    "That is, $u(t) = k_P e(t)$.\n",
    "The transfer function for this controller is $H_{P} (s) = k_p$."
   ]
  },
  {
   "cell_type": "markdown",
   "id": "cb5ac358-19f5-410e-a67d-b6edbe1cdb65",
   "metadata": {},
   "source": [
    "An **integral controller** has the parameter $k_I$.\n",
    "This controller outputs a signal that is proportional to the *integral* of the control error.\n",
    "That is, $u(t) = k_I \\int_0^{t} e(\\tau) d \\tau$.\n",
    "The transfer function for this controller is $H_{I} (s) = \\frac{k_I}{s}$."
   ]
  },
  {
   "cell_type": "markdown",
   "id": "52c43870-ad07-434d-900d-423b2b7a930a",
   "metadata": {},
   "source": [
    "An **differential controller** has the parameter $k_D$.\n",
    "This controller outputs a signal that is proportional to the derivative of the control error.\n",
    "That is, $u(t) = k_D \\frac{de(t)}{d t}$.\n",
    "The transfer function for this controller is $H_{D} (s) = s k_D$."
   ]
  },
  {
   "cell_type": "markdown",
   "id": "6b273265-30a7-46bf-9878-111832b3b9b5",
   "metadata": {},
   "source": [
    "These controllers can be used in combination.\n",
    "For example, a PI controller produces \n",
    "$u(t) = k_P e(t) +  k_I \\int_0^{t} e(\\tau) d \\tau + k_D \\frac{d e(t)}{d t}$,\n",
    "and its transfer function is $H_{CPI}(s) = k_P + \\frac{k_I}{s} + s k_D$."
   ]
  },
  {
   "cell_type": "markdown",
   "id": "e50adbe8-7929-436f-839c-7c89620060f2",
   "metadata": {},
   "source": [
    "# Model of Glycoytic Oscillations (BioModels 206)"
   ]
  },
  {
   "cell_type": "code",
   "execution_count": 10,
   "id": "7e91882d-9aa2-4c63-bba1-a8bfe105df76",
   "metadata": {},
   "outputs": [],
   "source": [
    "MODEL = \"https://www.ebi.ac.uk/biomodels/model/download/BIOMD0000000206.2?filename=BIOMD0000000206_url.xml\""
   ]
  },
  {
   "cell_type": "markdown",
   "id": "729c0323-fc85-46c7-b6ca-1e1d191e4fb1",
   "metadata": {},
   "source": [
    "**Reactions in Glycolytic Oscillations**\n",
    "\n",
    "``at`` is ``ATP``; ``s5`` is ``pyruvate``.\n",
    "\n",
    "    v1: s1 + 2 at_ -> s2; compartment_*k1*s1*at_/(1 + (at_/ki)^n);\n",
    "    v2: s2 -> 2 s3; compartment_*k2*s2;\n",
    "    v3: s3 + na -> s4 + at_;compartment_*((k31*k32*s3*na*(atot - at_) \n",
    "        - k33*k34*s4*at_*(ntot - na))/(k33*(ntot - na) + k32*(atot - at_)));\n",
    "    v4: s4 -> s5 + at_; compartment_*k4*s4*(atot - at_);\n",
    "    v5: s5 -> s6; compartment_*k5*s5;\n",
    "    v7: at_ -> ; compartment_*k7*at_;\n",
    "    v8: s3 -> na; compartment_*k8*s3*(ntot - na);\n",
    "    v9: s6o -> ; compartment_*k9*s6o;\n",
    "    v10: s6 -> 0.1 s6o; compartment_*k10*(s6 - s6o);\n",
    "    v6: s6 -> na; compartment_*k6*s6*(ntot - na);\n",
    "    v0:  -> s1; compartment_*k0;"
   ]
  },
  {
   "cell_type": "code",
   "execution_count": 11,
   "id": "0f1010cc-341b-40d9-ac2f-b67c738bb35b",
   "metadata": {
    "tags": []
   },
   "outputs": [
    {
     "data": {
      "image/png": "[encoded data removed]",
      "text/plain": [
       "<Figure size 360x360 with 1 Axes>"
      ]
     },
     "metadata": {
      "needs_background": "light"
     },
     "output_type": "display_data"
    }
   ],
   "source": [
    "ctlsb = ctl.ControlSBML(MODEL)\n",
    "ctlsb.plotTrueModel(figsize=(5,5))"
   ]
  },
  {
   "cell_type": "markdown",
   "id": "04f4308f-a0de-49cd-b206-bd1cc1dea598",
   "metadata": {},
   "source": [
    "# Transfer Function Analysis"
   ]
  },
  {
   "cell_type": "code",
   "execution_count": 12,
   "id": "d0d2acab-6321-4ab6-a34c-2576bc5a54a2",
   "metadata": {},
   "outputs": [
    {
     "data": {
      "text/latex": [
       "$$\\frac{-56 s^{17} - 2.623 \\times 10^{5} s^{16} - 4.992 \\times 10^{8} s^{15} - 5.116 \\times 10^{11} s^{14} - 3.192 \\times 10^{14} s^{13} - 1.295 \\times 10^{17} s^{12} - 3.541 \\times 10^{19} s^{11} - 6.657 \\times 10^{21} s^{10} - 8.647 \\times 10^{23} s^9 - 7.696 \\times 10^{25} s^8 - 4.57 \\times 10^{27} s^7 - 1.708 \\times 10^{29} s^6 - 3.57 \\times 10^{30} s^5 - 3.268 \\times 10^{31} s^4 - 1.036 \\times 10^{32} s^3 - 1.333 \\times 10^{31} s^2 - 2.507 \\times 10^{20} s + 6.545 \\times 10^{7}}{s^{18} + 4855 s^{17} + 9.722 \\times 10^{6} s^{16} + 1.068 \\times 10^{10} s^{15} + 7.287 \\times 10^{12} s^{14} + 3.295 \\times 10^{15} s^{13} + 1.023 \\times 10^{18} s^{12} + 2.217 \\times 10^{20} s^{11} + 3.353 \\times 10^{22} s^{10} + 3.491 \\times 10^{24} s^9 + 2.425 \\times 10^{26} s^8 + 1.063 \\times 10^{28} s^7 + 2.682 \\times 10^{29} s^6 + 3.502 \\times 10^{30} s^5 + 2.904 \\times 10^{31} s^4 + 1.693 \\times 10^{32} s^3 + 4.657 \\times 10^{32} s^2 - 4.975 \\times 10^{20} s + 9.723 \\times 10^{7}}$$"
      ],
      "text/plain": [
       "TransferFunction(array([-5.60000000e+01, -2.62288385e+05, -4.99179406e+08, -5.11632192e+11,\n",
       "       -3.19210397e+14, -1.29463730e+17, -3.54115198e+19, -6.65683544e+21,\n",
       "       -8.64652007e+23, -7.69623176e+25, -4.56967674e+27, -1.70770102e+29,\n",
       "       -3.56981968e+30, -3.26794771e+31, -1.03597484e+32, -1.33295631e+31,\n",
       "       -2.50698391e+20,  6.54533702e+07]), array([ 1.00000000e+00,  4.85506830e+03,  9.72174249e+06,  1.06823326e+10,\n",
       "        7.28742049e+12,  3.29525534e+15,  1.02319288e+18,  2.21665238e+20,\n",
       "        3.35280518e+22,  3.49134765e+24,  2.42537171e+26,  1.06290875e+28,\n",
       "        2.68249962e+29,  3.50199346e+30,  2.90406680e+31,  1.69325966e+32,\n",
       "        4.65693869e+32, -4.97450142e+20,  9.72297001e+07]))"
      ]
     },
     "execution_count": 12,
     "metadata": {},
     "output_type": "execute_result"
    }
   ],
   "source": [
    "makeHRY(MODEL, \"at\", \"s5\", time=0, kp=1, ki=0, kd=0)"
   ]
  },
  {
   "cell_type": "markdown",
   "id": "eff4ea3c-cb41-4281-bf6c-b6162ee8d64a",
   "metadata": {},
   "source": [
    "# Testbed"
   ]
  },
  {
   "cell_type": "markdown",
   "id": "b0743fea-ecfa-4c55-bf34-d104e5b6394f",
   "metadata": {},
   "source": [
    "## Piece Parts of Testbed for Closed Loop System"
   ]
  },
  {
   "cell_type": "code",
   "execution_count": 13,
   "id": "002e855a-0244-465e-a419-00e6c3e177f2",
   "metadata": {},
   "outputs": [],
   "source": [
    "def callback_print(call_name, time, x_vec, u_vec, dct, outputs):\n",
    "    \"\"\"\n",
    "    Callback function used by IOSystemFactory that prints the inputs.\n",
    "\n",
    "    Parameters\n",
    "    ----------\n",
    "    name: name of the component\n",
    "    time: float\n",
    "    x_vec: list-float\n",
    "    u_vec: list-float\n",
    "    dct; dict\n",
    "        additional constant parameters\n",
    "    outputs: list-float\n",
    "    is_output: bool\n",
    "\n",
    "    Returns\n",
    "    -------\n",
    "    str\n",
    "    \"\"\"\n",
    "    line = call_name\n",
    "    line += \"  %2.6f\" % time\n",
    "    line += \"  %s\" % str(x_vec)\n",
    "    line += \"  %s\" % str(u_vec)\n",
    "    line += \"  %s\" % str(outputs)\n",
    "    line += \"  %s\" % str(dct)\n",
    "    print(line)\n"
   ]
  },
  {
   "cell_type": "code",
   "execution_count": 14,
   "id": "99bb3c8b-4843-4f18-8f5f-34a2f2364f21",
   "metadata": {},
   "outputs": [],
   "source": [
    "# Elements of the system\n",
    "\n",
    "factory = ctl.IOSystemFactory()\n",
    "kp = 1\n",
    "ki = 0\n",
    "kd = 0\n",
    "input_name = \"at\"\n",
    "output_name = \"s5\"\n",
    "# Create the elements of the feedback loop\n",
    "ctlsb = ctl.ControlSBML(MODEL, input_names=[input_name], output_names=[output_name])\n",
    "system = ctlsb.makeNonlinearIOSystem(\"system\")\n",
    "controller = factory.makePIDController(\"controller\", kp=kp, ki=ki, kd=kd)\n",
    "sum_R_S = factory.makeAdder(\"sum_R_S\")"
   ]
  },
  {
   "cell_type": "code",
   "execution_count": 15,
   "id": "818330ab-9b97-4c86-8c71-430cec05de8d",
   "metadata": {},
   "outputs": [],
   "source": [
    "# Create the closed loop system\n",
    "system_in = \"system.%s\" % input_name\n",
    "system_out = \"system.%s\" % output_name\n",
    "closed_loop = control.interconnect(\n",
    "  [sum_R_S, system, controller ], \n",
    "  connections=[\n",
    "    ['controller.in', 'sum_R_S.out'],    # e(t)\n",
    "    [system_in,   'controller.out'],   # u(t)\n",
    "    ['sum_R_S.in1', \"-\" + system_out],\n",
    "  ],\n",
    "  inplist=[\"sum_R_S.in2\"],\n",
    "  outlist=[\"sum_R_S.in2\", system_in, system_out],\n",
    ")"
   ]
  },
  {
   "cell_type": "code",
   "execution_count": 16,
   "id": "5180495f-9df1-4628-a659-90905c7245da",
   "metadata": {},
   "outputs": [],
   "source": [
    "X0 = ctl.makeStateVector(closed_loop)"
   ]
  },
  {
   "cell_type": "code",
   "execution_count": 17,
   "id": "012b2376-cb26-4881-8e62-a46a9628bca4",
   "metadata": {},
   "outputs": [
    {
     "ename": "IndexError",
     "evalue": "index 3 is out of bounds for axis 1 with size 3",
     "output_type": "error",
     "traceback": [
      "\u001b[0;31m---------------------------------------------------------------------------\u001b[0m",
      "\u001b[0;31mIndexError\u001b[0m                                Traceback (most recent call last)",
      "\u001b[0;32m<ipython-input-17-89fdb3d6d099>\u001b[0m in \u001b[0;36m<module>\u001b[0;34m\u001b[0m\n\u001b[1;32m      1\u001b[0m \u001b[0mtimes\u001b[0m \u001b[0;34m=\u001b[0m \u001b[0mctl\u001b[0m\u001b[0;34m.\u001b[0m\u001b[0mmakeSimulationTimes\u001b[0m\u001b[0;34m(\u001b[0m\u001b[0;36m0\u001b[0m\u001b[0;34m,\u001b[0m \u001b[0;36m10\u001b[0m\u001b[0;34m,\u001b[0m \u001b[0;36m10\u001b[0m\u001b[0;34m)\u001b[0m\u001b[0;34m\u001b[0m\u001b[0;34m\u001b[0m\u001b[0m\n\u001b[1;32m      2\u001b[0m \u001b[0;31m# Need the initial state\u001b[0m\u001b[0;34m\u001b[0m\u001b[0;34m\u001b[0m\u001b[0;34m\u001b[0m\u001b[0m\n\u001b[0;32m----> 3\u001b[0;31m \u001b[0mresult\u001b[0m \u001b[0;34m=\u001b[0m \u001b[0mcontrol\u001b[0m\u001b[0;34m.\u001b[0m\u001b[0minput_output_response\u001b[0m\u001b[0;34m(\u001b[0m\u001b[0mclosed_loop\u001b[0m\u001b[0;34m,\u001b[0m \u001b[0mT\u001b[0m\u001b[0;34m=\u001b[0m\u001b[0mtimes\u001b[0m\u001b[0;34m,\u001b[0m \u001b[0mU\u001b[0m\u001b[0;34m=\u001b[0m\u001b[0;36m6\u001b[0m\u001b[0;34m,\u001b[0m \u001b[0mX0\u001b[0m\u001b[0;34m=\u001b[0m\u001b[0mX0\u001b[0m\u001b[0;34m)\u001b[0m\u001b[0;34m\u001b[0m\u001b[0;34m\u001b[0m\u001b[0m\n\u001b[0m\u001b[1;32m      4\u001b[0m \u001b[0mplt\u001b[0m\u001b[0;34m.\u001b[0m\u001b[0mplot\u001b[0m\u001b[0;34m(\u001b[0m\u001b[0mresult\u001b[0m\u001b[0;34m.\u001b[0m\u001b[0mt\u001b[0m\u001b[0;34m,\u001b[0m \u001b[0mresult\u001b[0m\u001b[0;34m.\u001b[0m\u001b[0moutputs\u001b[0m\u001b[0;34m[\u001b[0m\u001b[0;36m0\u001b[0m\u001b[0;34m]\u001b[0m\u001b[0;34m.\u001b[0m\u001b[0mflatten\u001b[0m\u001b[0;34m(\u001b[0m\u001b[0;34m)\u001b[0m\u001b[0;34m)\u001b[0m\u001b[0;34m\u001b[0m\u001b[0;34m\u001b[0m\u001b[0m\n\u001b[1;32m      5\u001b[0m \u001b[0mplt\u001b[0m\u001b[0;34m.\u001b[0m\u001b[0mplot\u001b[0m\u001b[0;34m(\u001b[0m\u001b[0mresult\u001b[0m\u001b[0;34m.\u001b[0m\u001b[0mt\u001b[0m\u001b[0;34m,\u001b[0m \u001b[0mresult\u001b[0m\u001b[0;34m.\u001b[0m\u001b[0moutputs\u001b[0m\u001b[0;34m[\u001b[0m\u001b[0;36m1\u001b[0m\u001b[0;34m]\u001b[0m\u001b[0;34m.\u001b[0m\u001b[0mflatten\u001b[0m\u001b[0;34m(\u001b[0m\u001b[0;34m)\u001b[0m\u001b[0;34m)\u001b[0m\u001b[0;34m\u001b[0m\u001b[0;34m\u001b[0m\u001b[0m\n",
      "\u001b[0;32m~/controlSBML/ctl/lib/python3.6/site-packages/control/iosys.py\u001b[0m in \u001b[0;36minput_output_response\u001b[0;34m(sys, T, U, X0, params, transpose, return_x, squeeze, solve_ivp_kwargs, **kwargs)\u001b[0m\n\u001b[1;32m   1877\u001b[0m         \u001b[0;32mfor\u001b[0m \u001b[0mi\u001b[0m \u001b[0;32min\u001b[0m \u001b[0mrange\u001b[0m\u001b[0;34m(\u001b[0m\u001b[0mlen\u001b[0m\u001b[0;34m(\u001b[0m\u001b[0mT\u001b[0m\u001b[0;34m)\u001b[0m\u001b[0;34m)\u001b[0m\u001b[0;34m:\u001b[0m\u001b[0;34m\u001b[0m\u001b[0;34m\u001b[0m\u001b[0m\n\u001b[1;32m   1878\u001b[0m             \u001b[0mu\u001b[0m \u001b[0;34m=\u001b[0m \u001b[0mU\u001b[0m\u001b[0;34m[\u001b[0m\u001b[0mi\u001b[0m\u001b[0;34m]\u001b[0m \u001b[0;32mif\u001b[0m \u001b[0mlen\u001b[0m\u001b[0;34m(\u001b[0m\u001b[0mU\u001b[0m\u001b[0;34m.\u001b[0m\u001b[0mshape\u001b[0m\u001b[0;34m)\u001b[0m \u001b[0;34m==\u001b[0m \u001b[0;36m1\u001b[0m \u001b[0;32melse\u001b[0m \u001b[0mU\u001b[0m\u001b[0;34m[\u001b[0m\u001b[0;34m:\u001b[0m\u001b[0;34m,\u001b[0m \u001b[0mi\u001b[0m\u001b[0;34m]\u001b[0m\u001b[0;34m\u001b[0m\u001b[0;34m\u001b[0m\u001b[0m\n\u001b[0;32m-> 1879\u001b[0;31m             \u001b[0my\u001b[0m\u001b[0;34m[\u001b[0m\u001b[0;34m:\u001b[0m\u001b[0;34m,\u001b[0m \u001b[0mi\u001b[0m\u001b[0;34m]\u001b[0m \u001b[0;34m=\u001b[0m \u001b[0msys\u001b[0m\u001b[0;34m.\u001b[0m\u001b[0m_out\u001b[0m\u001b[0;34m(\u001b[0m\u001b[0mT\u001b[0m\u001b[0;34m[\u001b[0m\u001b[0mi\u001b[0m\u001b[0;34m]\u001b[0m\u001b[0;34m,\u001b[0m \u001b[0msoln\u001b[0m\u001b[0;34m.\u001b[0m\u001b[0my\u001b[0m\u001b[0;34m[\u001b[0m\u001b[0;34m:\u001b[0m\u001b[0;34m,\u001b[0m \u001b[0mi\u001b[0m\u001b[0;34m]\u001b[0m\u001b[0;34m,\u001b[0m \u001b[0mu\u001b[0m\u001b[0;34m)\u001b[0m\u001b[0;34m\u001b[0m\u001b[0;34m\u001b[0m\u001b[0m\n\u001b[0m\u001b[1;32m   1880\u001b[0m \u001b[0;34m\u001b[0m\u001b[0m\n\u001b[1;32m   1881\u001b[0m     \u001b[0;32melif\u001b[0m \u001b[0misdtime\u001b[0m\u001b[0;34m(\u001b[0m\u001b[0msys\u001b[0m\u001b[0;34m)\u001b[0m\u001b[0;34m:\u001b[0m\u001b[0;34m\u001b[0m\u001b[0;34m\u001b[0m\u001b[0m\n",
      "\u001b[0;31mIndexError\u001b[0m: index 3 is out of bounds for axis 1 with size 3"
     ]
    }
   ],
   "source": [
    "times = ctl.makeSimulationTimes(0, 10, 10)\n",
    "# Need the initial state\n",
    "result = control.input_output_response(closed_loop, T=times, U=6, X0=X0)\n",
    "plt.plot(result.t, result.outputs[0].flatten())\n",
    "plt.plot(result.t, result.outputs[1].flatten())\n",
    "plt.plot(result.t, result.outputs[2].flatten())\n",
    "#plt.plot(result.t, result.outputs[3].flatten())\n",
    "plt.ylim([0, 10])\n",
    "legends = [\"input\", system_in, \"output\"]\n",
    "plt.legend(legends)"
   ]
  },
  {
   "cell_type": "markdown",
   "id": "6332d360-0b41-49f2-b4c3-00ae1eb9e08d",
   "metadata": {},
   "source": [
    "## Create Evaluation Environment"
   ]
  },
  {
   "cell_type": "markdown",
   "id": "bdaca840-b4a7-4da4-b005-61449610dd7a",
   "metadata": {},
   "source": [
    "# Evaluation Environment"
   ]
  },
  {
   "cell_type": "markdown",
   "id": "93400e09-ac40-40d5-bd7e-8089572972f0",
   "metadata": {},
   "source": [
    "We want to repeatedly evaluate different controller parameters.\n",
    "This is cumbersome to do if we have to rerun multiple cells and reset various parameters.\n",
    "It's much more efficient to create an evaluation function."
   ]
  },
  {
   "cell_type": "code",
   "execution_count": null,
   "id": "1303ddd7-ae64-42b8-a57d-8a2f6ba72afe",
   "metadata": {},
   "outputs": [],
   "source": [
    "def runTestbed(model=MODEL, input_name=\"S2\", output_name=\"S3\", kp=0, ki=0, kd=0, noise_amp=0, disturbance_amp=0):\n",
    "    \"\"\"\n",
    "    Run the testbed and plot the results.\n",
    "    \n",
    "    Parameters\n",
    "    ----------\n",
    "    model: str\n",
    "        System under control\n",
    "    input_name: str\n",
    "    output_name: str\n",
    "    kp: float\n",
    "    ki: float\n",
    "    kd: float\n",
    "    noise_amp: float\n",
    "    disturbance_amp: float\n",
    "    \n",
    "    Results\n",
    "    -------\n",
    "    control.InterconnectedSystem\n",
    "    \"\"\""
   ]
  }
 ],
 "metadata": {
  "kernelspec": {
   "display_name": "Python 3",
   "language": "python",
   "name": "python3"
  },
  "language_info": {
   "codemirror_mode": {
    "name": "ipython",
    "version": 3
   },
   "file_extension": ".py",
   "mimetype": "text/x-python",
   "name": "python",
   "nbconvert_exporter": "python",
   "pygments_lexer": "ipython3",
   "version": "3.6.9"
  }
 },
 "nbformat": 4,
 "nbformat_minor": 5
}
