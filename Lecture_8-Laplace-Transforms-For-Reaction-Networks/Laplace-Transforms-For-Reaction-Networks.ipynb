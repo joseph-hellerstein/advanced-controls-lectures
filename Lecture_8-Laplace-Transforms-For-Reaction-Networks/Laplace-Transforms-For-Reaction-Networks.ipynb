{
 "cells": [
  {
   "cell_type": "markdown",
   "id": "4c0cdaa8-e6ca-4506-a137-3f467df23247",
   "metadata": {},
   "source": [
    "# LAPLACE TRANSFORMS FOR REACTION NETWORKS"
   ]
  },
  {
   "cell_type": "code",
   "execution_count": 1,
   "id": "d40e6a46-9276-41fc-8806-37917c2d04bc",
   "metadata": {},
   "outputs": [
    {
     "name": "stdout",
     "output_type": "stream",
     "text": [
      "controlSBML version: 0.2.7\n"
     ]
    }
   ],
   "source": [
    "try:\n",
    "    import controlSBML as ctl\n",
    "except:\n",
    "    !pip -q install controlSBML\n",
    "    import controlSBML as ctl\n",
    "from controlSBML.util import makeSimulationTimes\n",
    "import pandas as pd\n",
    "import matplotlib.pyplot as plt\n",
    "import numpy as np\n",
    "import sympy as sy\n",
    "import tellurium as te\n",
    "print(\"controlSBML version: \" + ctl.__version__)"
   ]
  },
  {
   "cell_type": "markdown",
   "id": "df8f9075-c150-4d80-8286-a388bd1f02ac",
   "metadata": {},
   "source": [
    "# Network 1"
   ]
  },
  {
   "cell_type": "markdown",
   "id": "99a9974b-685b-4c75-9742-1f9c11f2f523",
   "metadata": {},
   "source": [
    "$S_1 \\xrightarrow[\\text{}]{k_1 S_1} S_2$,\n",
    "$S_2 \\xrightarrow[\\text{}]{k_2 S_2} S_3$,\n",
    "$S_3 \\xrightarrow[\\text{}]{k_3 S_3} S_2$,\n",
    "$S_3 \\xrightarrow[\\text{}]{k_4 S_3} \\emptyset$,"
   ]
  },
  {
   "cell_type": "markdown",
   "id": "63a87266-5b9b-426f-95e8-271c4710ba50",
   "metadata": {},
   "source": [
    "Find the transfer function for $\\frac{S_3}{S_1}$"
   ]
  },
  {
   "cell_type": "markdown",
   "id": "13144dfa-f7d2-48f8-a132-49fa96a3ea41",
   "metadata": {},
   "source": [
    "**Step 1: Write the state equations**\n",
    "\\begin{eqnarray}\n",
    "\\dot{S_1} & = & -k_1 S_1 \\\\\n",
    "\\dot{S_2} & = & k_1 S_1 - k_2 S_2 + k_3 S_3 \\\\\n",
    "\\dot{S_3} & = & k_2 S_2 - k_3 S_3 \\\\\n",
    "\\end{eqnarray}"
   ]
  },
  {
   "cell_type": "markdown",
   "id": "ce05dac4-f58f-4bcb-ae51-781cabb4d38e",
   "metadata": {},
   "source": [
    "**Step 2: Construct Laplace Transforms**\n",
    "\\begin{eqnarray}\n",
    "s S_1 (s) & = & -k_1 S_1 (s) \\\\\n",
    "s S_2 (s)  & = & k_1 S_1(s) - k_2 S_2(s) + k_3 S_3(s) \\\\\n",
    "s S_3(s)  & = & k_2 S_2 (s) - k_3 S_3(s) -k_4 S_3(s) \\\\\n",
    "\\end{eqnarray}"
   ]
  },
  {
   "cell_type": "markdown",
   "id": "365aa905-5ef6-45db-8a19-b726c511fba3",
   "metadata": {},
   "source": [
    "**Step 3: Express $S_3$ in terms of $S_1$**\n",
    "\\begin{eqnarray}\n",
    "s S_2 (s)  & = & k_1 S_1(s) - k_2 S_2(s) + k_3 S_3(s) \\\\\n",
    "S_2 (s) & = & \\frac{k_1 S_1(s) + k_3 S_3(s)}{s + k_2} \\\\\n",
    "S_3 (s) & = & \\frac{k_2 S_2 (s)}{s + k_3 + k_4} \\\\\n",
    "S_3 (s) & = & \\frac{k_2}{s + k_3 + k_4} \\frac{k_1 S_1(s) + k_3 S_3(s)}{s + k_2} \\\\\n",
    "S_3 (s) (1 - \\frac{k_3}{s + k_2})  & = & \\frac{k_2}{s + k_3 + k_4} \\frac{k_1 S_1(s)}{s + k_2} \\\\\n",
    "S_3 (s)  & = &  S_1(s)\\frac{k_2}{s + k_3 + k_4} \\frac{k_1}{s + k_2} \\frac{s + k_2}{s + k_2 - k_3} \\\\\n",
    "\\end{eqnarray}"
   ]
  },
  {
   "cell_type": "markdown",
   "id": "0cc63234-9d04-41cb-99ee-b196dd8eab94",
   "metadata": {},
   "source": [
    "# Simulation"
   ]
  },
  {
   "cell_type": "code",
   "execution_count": 14,
   "id": "5d0898c5-14b8-457c-b9c9-0ca0c574f173",
   "metadata": {},
   "outputs": [
    {
     "data": {
      "image/png": "[encoded data removed]",
      "text/plain": [
       "<Figure size 432x288 with 1 Axes>"
      ]
     },
     "metadata": {},
     "output_type": "display_data"
    }
   ],
   "source": [
    "MODEL = \"\"\"\n",
    "J1: $S1 -> S2; k1*$S1\n",
    "J2: S2 -> S3; k2*S2\n",
    "J3: S3 -> S2; k3*S3\n",
    "J4: S3 -> $S4; k4*S3\n",
    "k1 = 1\n",
    "k2 = 2\n",
    "k3 = 2.5\n",
    "k4 = 1\n",
    "S1 = 10\n",
    "S2 = 0\n",
    "S3 = 0\n",
    "\"\"\"\n",
    "RR = te.loada(MODEL)\n",
    "RR.simulate(0, 20)\n",
    "RR.plot()"
   ]
  },
  {
   "cell_type": "code",
   "execution_count": 11,
   "id": "509c49e5-727c-4749-84ac-20523c8e5e8f",
   "metadata": {},
   "outputs": [],
   "source": [
    "ctlsb = ctl.ControlSBML(MODEL, input_names=[\"J1\"], output_names=[\"S2\"])"
   ]
  }
 ],
 "metadata": {
  "kernelspec": {
   "display_name": "Python 3",
   "language": "python",
   "name": "python3"
  },
  "language_info": {
   "codemirror_mode": {
    "name": "ipython",
    "version": 3
   },
   "file_extension": ".py",
   "mimetype": "text/x-python",
   "name": "python",
   "nbconvert_exporter": "python",
   "pygments_lexer": "ipython3",
   "version": "3.6.9"
  }
 },
 "nbformat": 4,
 "nbformat_minor": 5
}
