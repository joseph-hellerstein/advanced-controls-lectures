{
 "cells": [
  {
   "cell_type": "markdown",
   "id": "4c0cdaa8-e6ca-4506-a137-3f467df23247",
   "metadata": {},
   "source": [
    "# LAPLACE TRANSFORMS FOR REACTION NETWORKS"
   ]
  },
  {
   "cell_type": "markdown",
   "id": "ab67663b-1311-42f0-b417-26f10529455f",
   "metadata": {},
   "source": [
    "# Preliminaries"
   ]
  },
  {
   "cell_type": "code",
   "execution_count": 23,
   "id": "d40e6a46-9276-41fc-8806-37917c2d04bc",
   "metadata": {},
   "outputs": [
    {
     "name": "stdout",
     "output_type": "stream",
     "text": [
      "controlSBML version: 0.2.7\n"
     ]
    }
   ],
   "source": [
    "try:\n",
    "    import controlSBML as ctl\n",
    "except:\n",
    "    !pip -q install controlSBML\n",
    "    import controlSBML as ctl\n",
    "import control\n",
    "from controlSBML.util import makeSimulationTimes\n",
    "import pandas as pd\n",
    "import matplotlib.pyplot as plt\n",
    "import numpy as np\n",
    "import sympy as sy\n",
    "import tellurium as te\n",
    "import sympy\n",
    "print(\"controlSBML version: \" + ctl.__version__)"
   ]
  },
  {
   "cell_type": "code",
   "execution_count": 2,
   "id": "2c79853f-a1c6-42bc-b6b9-0e5df897e02b",
   "metadata": {},
   "outputs": [],
   "source": [
    "s, S1, S2, S3, k1, k2, k3, k4 = sympy.symbols(\"s, S1, S2, S3, k1, k2, k3, k4 \")"
   ]
  },
  {
   "cell_type": "markdown",
   "id": "fdd7cb76-9312-4913-83be-b07352e80255",
   "metadata": {},
   "source": [
    "# Sequential Pathway"
   ]
  },
  {
   "cell_type": "markdown",
   "id": "ff71529c-447b-42ed-8efa-78c619da0cb8",
   "metadata": {},
   "source": [
    "$S_1 \\xrightarrow[\\text{}]{k_1 S_1} S_2$,\n",
    "$S_2 \\xrightarrow[\\text{}]{k_2 S_2} S_3$\n",
    "\n",
    "Find the transfer function for $\\frac{S_3}{S_1}$"
   ]
  },
  {
   "cell_type": "markdown",
   "id": "71f51093-8cbf-4f99-8527-a4ce26079742",
   "metadata": {},
   "source": [
    "## Steps\n",
    "1. Specify the input and output for the transfer function.\n",
    "1. Write the system equations.\n",
    "1. Convert to Laplace transforms.\n",
    "1. Solve for the output LT in terms of the input LT and form the ratio."
   ]
  },
  {
   "cell_type": "markdown",
   "id": "5bb4b724-2033-4a88-836e-38198e1c7b32",
   "metadata": {},
   "source": [
    "### Specify the input and output for the transfer function"
   ]
  },
  {
   "cell_type": "markdown",
   "id": "ef9d3b28-f001-47c5-8b4d-31519b57e6d4",
   "metadata": {},
   "source": [
    "### Write the system equations"
   ]
  },
  {
   "cell_type": "markdown",
   "id": "55ed9e71-b273-4764-9df5-b61e513a132f",
   "metadata": {},
   "source": [
    "### Convert the system equations to Laplace transforms"
   ]
  },
  {
   "cell_type": "markdown",
   "id": "8ed87846-49f2-42e2-ac89-0147a29577d6",
   "metadata": {},
   "source": [
    "### Solve for LT of the output in terms of the input and form the ratio"
   ]
  },
  {
   "cell_type": "markdown",
   "id": "94953d70-ed07-4a9e-ad5b-9b45b0bcce8b",
   "metadata": {},
   "source": [
    "# Simulate to check"
   ]
  },
  {
   "cell_type": "markdown",
   "id": "0ac51495-fc47-402f-8e48-05bbc8fe9a5c",
   "metadata": {},
   "source": [
    "# Branching"
   ]
  },
  {
   "cell_type": "markdown",
   "id": "a83ae827-9249-4812-adc9-d78ccaea7aa6",
   "metadata": {},
   "source": [
    "$S_1 \\xrightarrow[\\text{}]{k_1 S_1} S_2$,\n",
    "$S_2 \\xrightarrow[\\text{}]{k_2 S_2} S_3$,\n",
    "$S_2 \\xrightarrow[\\text{}]{k_3 S_2} S_4$\n",
    "\n",
    "\n",
    "Find the transfer function for $\\frac{S_3}{S_1}$"
   ]
  },
  {
   "cell_type": "markdown",
   "id": "d49e2661-f541-4954-a702-af82b7245c62",
   "metadata": {},
   "source": [
    "# Reversible Reaction"
   ]
  },
  {
   "cell_type": "markdown",
   "id": "59ddc3cc-8b91-46db-9ae9-fcfd23926cdc",
   "metadata": {},
   "source": [
    "$S_1 \\xrightarrow[\\text{}]{k_1 S_1} S_2$,\n",
    "$S_2 \\xrightarrow[\\text{}]{k_2 S_2} S_1$\n",
    "\n",
    "\n",
    "Find the transfer function for $\\frac{S_2}{S_1}$"
   ]
  },
  {
   "cell_type": "markdown",
   "id": "b6c225c0-ee03-40ab-9b57-65bc2172aaa9",
   "metadata": {},
   "source": [
    "### Write the system equations"
   ]
  },
  {
   "cell_type": "markdown",
   "id": "93a8bdae-24e0-4b44-90a9-fa142be66e01",
   "metadata": {},
   "source": [
    "\\begin{eqnarray}\n",
    "\\dot{S_1} & = & -k_1 S_1 + k_2 S_2 \\\\\n",
    "\\dot{S_2} & = & k_1 S_1 - k_2 S_2 \\\\\n",
    "\\end{eqnarray}"
   ]
  },
  {
   "cell_type": "markdown",
   "id": "c0ba189d-3770-4a4d-a552-c810edc23ea5",
   "metadata": {},
   "source": [
    "### Find the transfer function"
   ]
  },
  {
   "cell_type": "code",
   "execution_count": 3,
   "id": "5a2e3331-b0e8-4d03-bc2d-917d7c92bf65",
   "metadata": {},
   "outputs": [
    {
     "data": {
      "text/latex": [
       "$\\displaystyle \\frac{k_{1} + s}{k_{2}}$"
      ],
      "text/plain": [
       "(k1 + s)/k2"
      ]
     },
     "execution_count": 3,
     "metadata": {},
     "output_type": "execute_result"
    }
   ],
   "source": [
    "expr = -k1*S1 + k2*S2 - s*S1\n",
    "tf = sympy.solve(expr, S2)[0] / S1\n",
    "tf"
   ]
  },
  {
   "cell_type": "markdown",
   "id": "455fe9d0-10de-45d1-963f-14ffdd6f9111",
   "metadata": {},
   "source": [
    "What is $\\frac{k_1}{k_2}$ in terms of first year chemistry?"
   ]
  },
  {
   "cell_type": "markdown",
   "id": "3cc404be-0b7a-4b8c-a23b-ba93f1ad3c4e",
   "metadata": {},
   "source": [
    "# Nonlinear"
   ]
  },
  {
   "cell_type": "markdown",
   "id": "24e7d528-b071-496b-8574-ea60448183b4",
   "metadata": {},
   "source": [
    "$S_1 \\xrightarrow[\\text{}]{k_1 S_1 } S_2$,\n",
    "$S_2 \\xrightarrow[\\text{}]{k_2 S_1 S_2} S_3$\n",
    "\n",
    "Find the transfer function for $\\frac{S_3}{S_1}$"
   ]
  },
  {
   "cell_type": "markdown",
   "id": "df8f9075-c150-4d80-8286-a388bd1f02ac",
   "metadata": {
    "tags": []
   },
   "source": [
    "# Sequential Pathway With a Reversible Reaction"
   ]
  },
  {
   "cell_type": "markdown",
   "id": "99a9974b-685b-4c75-9742-1f9c11f2f523",
   "metadata": {},
   "source": [
    "$S_1 \\xrightarrow[\\text{}]{k_1 S_1} S_2$,\n",
    "$S_2 \\xrightarrow[\\text{}]{k_2 S_2} S_3$,\n",
    "$S_3 \\xrightarrow[\\text{}]{k_3 S_3} S_2$,\n",
    "$S_3 \\xrightarrow[\\text{}]{k_4 S_3} \\emptyset$\n",
    "\n",
    "Find the transfer function for $\\frac{S_3}{S_1}$"
   ]
  },
  {
   "cell_type": "markdown",
   "id": "287461a2-8608-4701-b260-c7df831a8768",
   "metadata": {},
   "source": [
    "### Write the state equations"
   ]
  },
  {
   "cell_type": "markdown",
   "id": "13144dfa-f7d2-48f8-a132-49fa96a3ea41",
   "metadata": {},
   "source": [
    "\\begin{eqnarray}\n",
    "\\dot{S_1} & = & -k_1 S_1 \\\\\n",
    "\\dot{S_2} & = & k_1 S_1 - k_2 S_2 + k_3 S_3 \\\\\n",
    "\\dot{S_3} & = & k_2 S_2 - k_3 S_3 \\\\\n",
    "\\end{eqnarray}"
   ]
  },
  {
   "cell_type": "markdown",
   "id": "b48a9e33-348a-4fbf-ac1c-bd2d7b16e2d0",
   "metadata": {},
   "source": [
    "### Convert the system equations to Laplace Transforms"
   ]
  },
  {
   "cell_type": "markdown",
   "id": "ce05dac4-f58f-4bcb-ae51-781cabb4d38e",
   "metadata": {},
   "source": [
    "\\begin{eqnarray}\n",
    "s S_1 (s) & = & -k_1 S_1 (s) \\\\\n",
    "s S_2 (s)  & = & k_1 S_1(s) - k_2 S_2(s) + k_3 S_3(s) \\\\\n",
    "s S_3(s)  & = & k_2 S_2 (s) - k_3 S_3(s) -k_4 S_3(s) \\\\\n",
    "\\end{eqnarray}"
   ]
  },
  {
   "cell_type": "markdown",
   "id": "0c77489b-79ac-45d8-ac5d-ea6f33a322fe",
   "metadata": {},
   "source": [
    "### Express the output in terms of the input"
   ]
  },
  {
   "cell_type": "markdown",
   "id": "f9047495-b87e-4cfb-b7c7-8afe0d364674",
   "metadata": {},
   "source": [
    "``sympy`` has its limits. It works best if there is one expression with the two variables of interest."
   ]
  },
  {
   "cell_type": "code",
   "execution_count": 4,
   "id": "e0a8c366-f567-4aa4-87ff-6dffde48afc6",
   "metadata": {},
   "outputs": [
    {
     "data": {
      "text/latex": [
       "$\\displaystyle \\frac{S_{1} k_{1} + S_{3} k_{3}}{k_{2} + s}$"
      ],
      "text/plain": [
       "(S1*k1 + S3*k3)/(k2 + s)"
      ]
     },
     "execution_count": 4,
     "metadata": {},
     "output_type": "execute_result"
    }
   ],
   "source": [
    "S2_expr = k1*S1 - k2*S2 + k3*S3 - s*S2\n",
    "S2_subs = sympy.solve(S2_expr, S2)[0]\n",
    "S2_subs"
   ]
  },
  {
   "cell_type": "code",
   "execution_count": 5,
   "id": "79d30c4b-6e73-41f9-b016-9ba0038450b9",
   "metadata": {},
   "outputs": [
    {
     "data": {
      "text/latex": [
       "$\\displaystyle \\frac{S_{1} k_{1} k_{2}}{k_{2} k_{4} + k_{2} s + k_{3} s + k_{4} s + s^{2}}$"
      ],
      "text/plain": [
       "S1*k1*k2/(k2*k4 + k2*s + k3*s + k4*s + s**2)"
      ]
     },
     "execution_count": 5,
     "metadata": {},
     "output_type": "execute_result"
    }
   ],
   "source": [
    "S3_expr = k2*S2 - k3*S3 - k4*S3 - s*S3\n",
    "new_expr = S3_expr.subs({S2: S2_subs})\n",
    "result = sympy.solve(new_expr, S3)[0]\n",
    "result"
   ]
  },
  {
   "cell_type": "code",
   "execution_count": 19,
   "id": "5e71fc41-2a35-45a4-90df-1886059235c4",
   "metadata": {},
   "outputs": [
    {
     "data": {
      "text/latex": [
       "$\\displaystyle \\frac{k_{1} k_{2}}{k_{2} k_{4} + k_{2} s + k_{3} s + k_{4} s + s^{2}}$"
      ],
      "text/plain": [
       "k1*k2/(k2*k4 + k2*s + k3*s + k4*s + s**2)"
      ]
     },
     "execution_count": 19,
     "metadata": {},
     "output_type": "execute_result"
    }
   ],
   "source": [
    "tf = result/S1\n",
    "tf"
   ]
  },
  {
   "cell_type": "code",
   "execution_count": 8,
   "id": "e0faa856-fe1e-443f-adb4-876b826255de",
   "metadata": {},
   "outputs": [
    {
     "data": {
      "text/plain": [
       "(k1*k2, k2*k4 + k2*s + k3*s + k4*s + s**2)"
      ]
     },
     "execution_count": 8,
     "metadata": {},
     "output_type": "execute_result"
    }
   ],
   "source": [
    "numerator, denominator = sympy.fraction(tf)\n",
    "numerator, denominator"
   ]
  },
  {
   "cell_type": "code",
   "execution_count": 21,
   "id": "ba54ea23-2a0e-40af-8672-09121d4f4106",
   "metadata": {
    "tags": []
   },
   "outputs": [
    {
     "data": {
      "text/plain": [
       "[-5.10849528301415, -0.391504716985849]"
      ]
     },
     "execution_count": 21,
     "metadata": {},
     "output_type": "execute_result"
    }
   ],
   "source": [
    "# We can find the poles symbolically by solving for s\n",
    "sim_dct = {k1: 1, k2: 2, k3: 2.5, k4: 1}\n",
    "sympy.solve(denominator.subs(sim_dct), s)"
   ]
  },
  {
   "cell_type": "code",
   "execution_count": 20,
   "id": "c1726fa4-5656-4683-b014-b7f2d105b4a0",
   "metadata": {},
   "outputs": [
    {
     "data": {
      "text/latex": [
       "$\\displaystyle 1$"
      ],
      "text/plain": [
       "1"
      ]
     },
     "execution_count": 20,
     "metadata": {},
     "output_type": "execute_result"
    }
   ],
   "source": [
    "dct = dict(sim_dct)\n",
    "dct.update({s: 0})\n",
    "tf.subs(dct)"
   ]
  },
  {
   "cell_type": "markdown",
   "id": "76a1d968-777a-4bba-a5ee-3328b1e540be",
   "metadata": {},
   "source": [
    "What constants can we change to get a DC gain of 4?"
   ]
  },
  {
   "cell_type": "markdown",
   "id": "0cc63234-9d04-41cb-99ee-b196dd8eab94",
   "metadata": {},
   "source": [
    "## Simulation"
   ]
  },
  {
   "cell_type": "code",
   "execution_count": 15,
   "id": "5d0898c5-14b8-457c-b9c9-0ca0c574f173",
   "metadata": {},
   "outputs": [
    {
     "data": {
      "image/png": "[encoded data removed]",
      "text/plain": [
       "<Figure size 432x288 with 1 Axes>"
      ]
     },
     "metadata": {},
     "output_type": "display_data"
    }
   ],
   "source": [
    "MODEL = \"\"\"\n",
    "J1: S1 -> S2; k1*S1\n",
    "J2: S2 -> S3; k2*S2\n",
    "J3: S3 -> S2; k3*S3\n",
    "J4: S3 -> ; k4*S3\n",
    "k1 = 1\n",
    "k2 = 2\n",
    "k3 = 2.5\n",
    "k4 = 1\n",
    "S1 = 1\n",
    "S2 = 0\n",
    "S3 = 0\n",
    "\"\"\"\n",
    "RR = te.loada(MODEL)\n",
    "RR.simulate(0, 20)\n",
    "RR.plot(title=\"Impulse Response\")"
   ]
  },
  {
   "cell_type": "code",
   "execution_count": 13,
   "id": "8c1702fa-3d67-46fa-807c-b73c2fce547a",
   "metadata": {},
   "outputs": [
    {
     "data": {
      "image/png": "[encoded data removed]",
      "text/plain": [
       "<Figure size 432x288 with 1 Axes>"
      ]
     },
     "metadata": {},
     "output_type": "display_data"
    }
   ],
   "source": [
    "STEP_MODEL = \"\"\"\n",
    "J1: $S1 -> S2; k1*$S1\n",
    "J2: S2 -> S3; k2*S2\n",
    "J3: S3 -> S2; k3*S3\n",
    "J4: S3 -> ; k4*S3\n",
    "k1 = 1\n",
    "k2 = 2\n",
    "k3 = 2.5\n",
    "k4 = 1\n",
    "$S1 = 1\n",
    "S2 = 0\n",
    "S3 = 0\n",
    "\"\"\"\n",
    "rr = te.loada(STEP_MODEL)\n",
    "rr.simulate(0, 20)\n",
    "rr.plot(title=\"Step Response\")"
   ]
  },
  {
   "cell_type": "code",
   "execution_count": 30,
   "id": "509c49e5-727c-4749-84ac-20523c8e5e8f",
   "metadata": {},
   "outputs": [],
   "source": [
    "ctlsb = ctl.ControlSBML(MODEL, input_names=[\"S1\"], output_names=[\"S3\"])\n",
    "tf = ctlsb.makeTransferFunction()"
   ]
  },
  {
   "cell_type": "code",
   "execution_count": 12,
   "id": "70ce3eb1-b33f-44dc-842b-2a3a5edd3f81",
   "metadata": {},
   "outputs": [
    {
     "data": {
      "text/plain": [
       "0.9999999999999996"
      ]
     },
     "execution_count": 12,
     "metadata": {},
     "output_type": "execute_result"
    }
   ],
   "source": [
    "tf.dcgain()"
   ]
  },
  {
   "cell_type": "code",
   "execution_count": 16,
   "id": "2af2872a-c865-478a-a02b-2921c86e8b87",
   "metadata": {},
   "outputs": [
    {
     "data": {
      "text/plain": [
       "array([-5.10849528, -1.        , -0.39150472])"
      ]
     },
     "execution_count": 16,
     "metadata": {},
     "output_type": "execute_result"
    }
   ],
   "source": [
    "tf.pole()"
   ]
  },
  {
   "cell_type": "markdown",
   "id": "9190bf05-d0e9-40e5-ab88-0e4c9f95ef0f",
   "metadata": {},
   "source": [
    "We got one more pole than solving symbolically beause the symbolic solution simplified the system by eliminating $S_2$."
   ]
  },
  {
   "cell_type": "code",
   "execution_count": 73,
   "id": "8a784034-0ece-4494-978d-848079859b07",
   "metadata": {},
   "outputs": [],
   "source": [
    "state_space = ctlsb.makeStateSpace()\n",
    "times = [0.01*v for v in range(5001)]\n",
    "result = control.forced_response(tf, times, np.repeat(10, len(times)))"
   ]
  },
  {
   "cell_type": "code",
   "execution_count": 47,
   "id": "7761337e-b199-46e4-a6a3-efcc4465a87a",
   "metadata": {},
   "outputs": [
    {
     "data": {
      "text/latex": [
       "$$\\frac{2}{s^3 + 6.5 s^2 + 7.5 s + 2}$$"
      ],
      "text/plain": [
       "TransferFunction(array([2.]), array([1. , 6.5, 7.5, 2. ]))"
      ]
     },
     "execution_count": 47,
     "metadata": {},
     "output_type": "execute_result"
    }
   ],
   "source": [
    "tf"
   ]
  },
  {
   "cell_type": "code",
   "execution_count": 71,
   "id": "98af711c-647c-4820-83a9-732d751a7135",
   "metadata": {},
   "outputs": [
    {
     "data": {
      "text/plain": [
       "[<matplotlib.lines.Line2D at 0x7f600053a550>]"
      ]
     },
     "execution_count": 71,
     "metadata": {},
     "output_type": "execute_result"
    },
    {
     "data": {
      "image/png": "[encoded data removed]",
      "text/plain": [
       "<Figure size 432x288 with 1 Axes>"
      ]
     },
     "metadata": {
      "needs_background": "light"
     },
     "output_type": "display_data"
    }
   ],
   "source": [
    "plt.plot(result.t, result.outputs)"
   ]
  },
  {
   "cell_type": "code",
   "execution_count": 63,
   "id": "7723b7a1-fff6-4abf-888c-19b3b00f873d",
   "metadata": {},
   "outputs": [
    {
     "data": {
      "text/plain": [
       "array([[10.        ,  9.85405232,  9.71592591,  9.58521186,  9.46152184,\n",
       "         9.34448712,  9.23375758,  9.12900077,  9.02990104,  8.93615868,\n",
       "         8.84748914,  8.7636223 ,  8.68430168,  8.60928382,  8.5383376 ,\n",
       "         8.47124363,  8.40779367,  8.34779005,  8.29104518,  8.237381  ,\n",
       "         8.18662854,  8.13862744,  8.09322554,  8.05027845,  8.00964918,\n",
       "         7.97120775,  7.93483084,  7.9004015 ,  7.86780875,  7.83694735,\n",
       "         7.80771749,  7.78002449,  7.7537786 ,  7.7288947 ,  7.70529209,\n",
       "         7.68289428,  7.66162873,  7.64142672,  7.6222231 ,  7.60395615,\n",
       "         7.58656737,  7.57000137,  7.55420565,  7.53913049,  7.52472882,\n",
       "         7.51095608,  7.49777005,  7.48513079,  7.47300051,  7.46134343,\n",
       "         7.45012571,  7.43931536,  7.42888211,  7.41879734,  7.409034  ,\n",
       "         7.39956654,  7.39037081,  7.381424  ,  7.37270459,  7.36419224,\n",
       "         7.35586777,  7.34771309,  7.33971114,  7.33184583,  7.324102  ,\n",
       "         7.31646539,  7.30892255,  7.30146083,  7.29406834,  7.28673389,\n",
       "         7.27944698,  7.27219774,  7.26497691,  7.25777582,  7.25058632,\n",
       "         7.24340079,  7.23621211,  7.22901361,  7.22179907,  7.21456268,\n",
       "         7.20729903,  7.20000309,  7.19267018,  7.18529594,  7.17787635,\n",
       "         7.17040769,  7.1628865 ,  7.15530961,  7.14767412,  7.13997733,\n",
       "         7.13221679,  7.12439029,  7.11649577,  7.1085314 ,  7.10049554,\n",
       "         7.09238668,  7.08420352,  7.07594487,  7.06760971,  7.05919716,\n",
       "         7.05070645,  7.04213694,  7.03348811,  7.02475953,  7.01595089,\n",
       "         7.00706197,  6.99809264,  6.98904284,  6.9799126 ,  6.97070203,\n",
       "         6.96141131,  6.95204066,  6.9425904 ,  6.93306087,  6.92345249,\n",
       "         6.91376573,  6.90400107,  6.89415908,  6.88424035,  6.87424551,\n",
       "         6.86417521,  6.85403016,  6.84381109,  6.83351873,  6.82315389,\n",
       "         6.81271735,  6.80220994,  6.79163251,  6.78098592,  6.77027106,\n",
       "         6.7594888 ,  6.74864007,  6.73772577,  6.72674685,  6.71570424,\n",
       "         6.70459889,  6.69343175,  6.68220379,  6.67091598,  6.65956928,\n",
       "         6.64816468,  6.63670314,  6.62518565,  6.6136132 ,  6.60198675,\n",
       "         6.5903073 ,  6.57857583,  6.5667933 ,  6.55496071,  6.54307903,\n",
       "         6.53114923,  6.51917227,  6.50714913,  6.49508077,  6.48296814,\n",
       "         6.47081219,  6.45861388,  6.44637415,  6.43409393,  6.42177415,\n",
       "         6.40941575,  6.39701963,  6.38458671,  6.3721179 ,  6.35961409,\n",
       "         6.34707618,  6.33450505,  6.32190157,  6.30926663,  6.29660107,\n",
       "         6.28390576,  6.27118155,  6.25842927,  6.24564975,  6.23284382,\n",
       "         6.22001229,  6.20715598,  6.19427568,  6.18137219,  6.16844629,\n",
       "         6.15549875,  6.14253034,  6.12954183,  6.11653396,  6.10350748,\n",
       "         6.09046312,  6.07740162,  6.06432368,  6.05123003,  6.03812136,\n",
       "         6.02499838,  6.01186176,  5.99871219,  5.98555035,  5.97237688,\n",
       "         5.95919245,  5.94599771,  5.9327933 ,  5.91957985,  5.90635798,\n",
       "         5.89312832,  5.87989146,  5.86664803,  5.8533986 ,  5.84014376,\n",
       "         5.82688411,  5.8136202 ,  5.8003526 ,  5.78708188,  5.77380858,\n",
       "         5.76053325,  5.74725642,  5.73397862,  5.72070038,  5.70742222,\n",
       "         5.69414463,  5.68086813,  5.66759321,  5.65432036,  5.64105005,\n",
       "         5.62778278,  5.614519  ,  5.60125918,  5.58800378,  5.57475325,\n",
       "         5.56150803,  5.54826856,  5.53503526,  5.52180858,  5.50858892,\n",
       "         5.49537671,  5.48217235,  5.46897623,  5.45578877,  5.44261034,\n",
       "         5.42944135,  5.41628215,  5.40313313,  5.38999467,  5.37686711,\n",
       "         5.36375082,  5.35064615,  5.33755345,  5.32447306,  5.31140532,\n",
       "         5.29835056,  5.28530911,  5.27228128,  5.2592674 ,  5.24626778,\n",
       "         5.23328272,  5.22031254,  5.20735751,  5.19441795,  5.18149414,\n",
       "         5.16858635,  5.15569488,  5.14282   ,  5.12996197,  5.11712106,\n",
       "         5.10429754,  5.09149167,  5.07870369,  5.06593386,  5.05318241,\n",
       "         5.04044961,  5.02773567,  5.01504083,  5.00236533,  4.98970938,\n",
       "         4.97707321,  4.96445704,  4.95186108,  4.93928553,  4.92673062,\n",
       "         4.91419653,  4.90168348,  4.88919164,  4.87672123,  4.86427242,\n",
       "         4.8518454 ,  4.83944035,  4.82705745,  4.81469688,  4.80235881,\n",
       "         4.7900434 ,  4.77775083,  4.76548125,  4.75323482,  4.7410117 ,\n",
       "         4.72881204,  4.716636  ,  4.70448372,  4.69235533,  4.680251  ,\n",
       "         4.66817084,  4.65611501,  4.64408362,  4.63207682,  4.62009472,\n",
       "         4.60813745,  4.59620514,  4.5842979 ,  4.57241585,  4.5605591 ,\n",
       "         4.54872777,  4.53692195,  4.52514177,  4.51338732,  4.50165871,\n",
       "         4.48995603,  4.47827937,  4.46662884,  4.45500453,  4.44340653,\n",
       "         4.43183491,  4.42028978,  4.4087712 ,  4.39727927,  4.38581405,\n",
       "         4.37437564,  4.36296409,  4.35157949,  4.34022191,  4.3288914 ,\n",
       "         4.31758804,  4.3063119 ,  4.29506303,  4.2838415 ,  4.27264736,\n",
       "         4.26148067,  4.25034148,  4.23922986,  4.22814584,  4.21708949,\n",
       "         4.20606084,  4.19505994,  4.18408684,  4.17314158,  4.16222419,\n",
       "         4.15133473,  4.14047323,  4.12963971,  4.11883423,  4.1080568 ,\n",
       "         4.09730747,  4.08658625,  4.07589319,  4.0652283 ,  4.05459161,\n",
       "         4.04398315,  4.03340293,  4.02285098,  4.01232732,  4.00183197,\n",
       "         3.99136494,  3.98092625,  3.97051591,  3.96013394,  3.94978035,\n",
       "         3.93945514,  3.92915833,  3.91888993,  3.90864993,  3.89843836,\n",
       "         3.8882552 ,  3.87810047,  3.86797417,  3.8578763 ,  3.84780685,\n",
       "         3.83776583,  3.82775323,  3.81776905,  3.80781329,  3.79788594,\n",
       "         3.78798699,  3.77811643,  3.76827427,  3.75846048,  3.74867506,\n",
       "         3.73891799,  3.72918927,  3.71948887,  3.70981679,  3.70017301,\n",
       "         3.69055752,  3.68097029,  3.67141131,  3.66188056,  3.65237802,\n",
       "         3.64290367,  3.63345749,  3.62403946,  3.61464955,  3.60528774,\n",
       "         3.59595401,  3.58664833,  3.57737067,  3.56812101,  3.55889933,\n",
       "         3.54970559,  3.54053976,  3.53140182,  3.52229173,  3.51320947,\n",
       "         3.504155  ,  3.4951283 ,  3.48612932,  3.47715804,  3.46821441,\n",
       "         3.45929842,  3.45041002,  3.44154917,  3.43271584,  3.42391   ,\n",
       "         3.4151316 ,  3.40638061,  3.39765698,  3.38896069,  3.38029169,\n",
       "         3.37164994,  3.3630354 ,  3.35444802,  3.34588778,  3.33735461,\n",
       "         3.32884849,  3.32036938,  3.31191721,  3.30349196,  3.29509358,\n",
       "         3.28672202,  3.27837724,  3.27005919,  3.26176782,  3.2535031 ,\n",
       "         3.24526497,  3.23705338,  3.2288683 ,  3.22070966,  3.21257743,\n",
       "         3.20447155,  3.19639197,  3.18833865,  3.18031154,  3.17231058,\n",
       "         3.16433572,  3.15638692,  3.14846413,  3.14056728,  3.13269634,\n",
       "         3.12485124,  3.11703194,  3.10923839,  3.10147052,  3.09372829,\n",
       "         3.08601165,  3.07832054,  3.07065491,  3.0630147 ,  3.05539986,\n",
       "         3.04781033,  3.04024607,  3.03270701,  3.0251931 ,  3.01770428,\n",
       "         3.0102405 ,  3.00280171,  2.99538784,  2.98799884,  2.98063466,\n",
       "         2.97329524,  2.96598051,  2.95869043,  2.95142494,  2.94418398,\n",
       "         2.93696749,  2.92977541,  2.92260769,  2.91546427,  2.90834509,\n",
       "         2.90125009,  2.89417922,  2.88713241,  2.88010962,  2.87311076,\n",
       "         2.8661358 ,  2.85918467,  2.85225732,  2.84535367,  2.83847368,\n",
       "         2.83161728,  2.82478442,  2.81797503,  2.81118906,  2.80442644,\n",
       "         2.79768712,  2.79097103,  2.78427812,  2.77760833,  2.77096159,\n",
       "         2.76433784]])"
      ]
     },
     "execution_count": 63,
     "metadata": {},
     "output_type": "execute_result"
    }
   ],
   "source": [
    "result.y"
   ]
  },
  {
   "cell_type": "code",
   "execution_count": 29,
   "id": "50b49d7c-6af6-4945-90e6-421ac8e97cb9",
   "metadata": {},
   "outputs": [
    {
     "data": {
      "text/plain": [
       "sympy.core.mul.Mul"
      ]
     },
     "execution_count": 29,
     "metadata": {},
     "output_type": "execute_result"
    }
   ],
   "source": [
    "type(tf)"
   ]
  }
 ],
 "metadata": {
  "kernelspec": {
   "display_name": "Python 3",
   "language": "python",
   "name": "python3"
  },
  "language_info": {
   "codemirror_mode": {
    "name": "ipython",
    "version": 3
   },
   "file_extension": ".py",
   "mimetype": "text/x-python",
   "name": "python",
   "nbconvert_exporter": "python",
   "pygments_lexer": "ipython3",
   "version": "3.6.9"
  }
 },
 "nbformat": 4,
 "nbformat_minor": 5
}
