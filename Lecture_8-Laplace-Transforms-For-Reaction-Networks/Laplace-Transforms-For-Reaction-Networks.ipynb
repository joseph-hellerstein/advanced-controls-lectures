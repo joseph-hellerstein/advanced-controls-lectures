{
 "cells": [
  {
   "cell_type": "markdown",
   "id": "4c0cdaa8-e6ca-4506-a137-3f467df23247",
   "metadata": {},
   "source": [
    "# LAPLACE TRANSFORMS FOR REACTION NETWORKS"
   ]
  },
  {
   "cell_type": "code",
   "execution_count": 1,
   "id": "d40e6a46-9276-41fc-8806-37917c2d04bc",
   "metadata": {},
   "outputs": [
    {
     "name": "stdout",
     "output_type": "stream",
     "text": [
      "controlSBML version: 0.2.7\n"
     ]
    }
   ],
   "source": [
    "try:\n",
    "    import controlSBML as ctl\n",
    "except:\n",
    "    !pip -q install controlSBML\n",
    "    import controlSBML as ctl\n",
    "from controlSBML.util import makeSimulationTimes\n",
    "import pandas as pd\n",
    "import matplotlib.pyplot as plt\n",
    "import numpy as np\n",
    "import sympy as sy\n",
    "import tellurium as te\n",
    "print(\"controlSBML version: \" + ctl.__version__)"
   ]
  },
  {
   "cell_type": "markdown",
   "id": "fdd7cb76-9312-4913-83be-b07352e80255",
   "metadata": {},
   "source": [
    "# Review"
   ]
  },
  {
   "cell_type": "markdown",
   "id": "ff71529c-447b-42ed-8efa-78c619da0cb8",
   "metadata": {},
   "source": [
    "$S_1 \\xrightarrow[\\text{}]{k_1 S_1} S_2$,\n",
    "$S_2 \\xrightarrow[\\text{}]{k_2 S_2} S_3$\n",
    "\n",
    "Find the transfer function for $\\frac{S_3}{S_1}$"
   ]
  },
  {
   "cell_type": "markdown",
   "id": "71f51093-8cbf-4f99-8527-a4ce26079742",
   "metadata": {},
   "source": [
    "## Steps\n",
    "1. Specify the input and output for the transfer function.\n",
    "1. Write the system equations.\n",
    "1. Convert to Laplace transforms.\n",
    "1. Solve for the output LT in terms of the input LT and form the ratio."
   ]
  },
  {
   "cell_type": "markdown",
   "id": "3cc404be-0b7a-4b8c-a23b-ba93f1ad3c4e",
   "metadata": {},
   "source": [
    "# Nonlinear"
   ]
  },
  {
   "cell_type": "markdown",
   "id": "24e7d528-b071-496b-8574-ea60448183b4",
   "metadata": {},
   "source": [
    "$S_1 \\xrightarrow[\\text{}]{k_1 S_1 } S_2$,\n",
    "$S_2 \\xrightarrow[\\text{}]{k_2 S_1 S_2} S_3$\n",
    "\n",
    "Find the transfer function for $\\frac{S_3}{S_1}$"
   ]
  },
  {
   "cell_type": "markdown",
   "id": "382b6c88-34f9-4ac8-b100-3837bd9906c4",
   "metadata": {},
   "source": [
    "# Branching"
   ]
  },
  {
   "cell_type": "markdown",
   "id": "14d5224c-a4ab-4f88-a1ba-fa43dde5c65a",
   "metadata": {},
   "source": [
    "$S_1 \\xrightarrow[\\text{}]{k_1 S_1} S_2$,\n",
    "$S_2 \\xrightarrow[\\text{}]{k_2 S_2} S_3$,\n",
    "$S_2 \\xrightarrow[\\text{}]{k_3 S_2} S_4$\n",
    "\n",
    "\n",
    "Find the transfer function for $\\frac{S_3}{S_1}$"
   ]
  },
  {
   "cell_type": "markdown",
   "id": "df8f9075-c150-4d80-8286-a388bd1f02ac",
   "metadata": {
    "tags": []
   },
   "source": [
    "# Reversible reaction"
   ]
  },
  {
   "cell_type": "markdown",
   "id": "99a9974b-685b-4c75-9742-1f9c11f2f523",
   "metadata": {},
   "source": [
    "$S_1 \\xrightarrow[\\text{}]{k_1 S_1} S_2$,\n",
    "$S_2 \\xrightarrow[\\text{}]{k_2 S_2} S_3$,\n",
    "$S_3 \\xrightarrow[\\text{}]{k_3 S_3} S_2$,\n",
    "$S_3 \\xrightarrow[\\text{}]{k_4 S_3} \\emptyset$\n",
    "\n",
    "Find the transfer function for $\\frac{S_3}{S_1}$"
   ]
  },
  {
   "cell_type": "markdown",
   "id": "13144dfa-f7d2-48f8-a132-49fa96a3ea41",
   "metadata": {},
   "source": [
    "**Step 1: Write the state equations**\n",
    "\\begin{eqnarray}\n",
    "\\dot{S_1} & = & -k_1 S_1 \\\\\n",
    "\\dot{S_2} & = & k_1 S_1 - k_2 S_2 + k_3 S_3 \\\\\n",
    "\\dot{S_3} & = & k_2 S_2 - k_3 S_3 \\\\\n",
    "\\end{eqnarray}"
   ]
  },
  {
   "cell_type": "markdown",
   "id": "ce05dac4-f58f-4bcb-ae51-781cabb4d38e",
   "metadata": {},
   "source": [
    "**Step 2: Construct Laplace Transforms**\n",
    "\\begin{eqnarray}\n",
    "s S_1 (s) & = & -k_1 S_1 (s) \\\\\n",
    "s S_2 (s)  & = & k_1 S_1(s) - k_2 S_2(s) + k_3 S_3(s) \\\\\n",
    "s S_3(s)  & = & k_2 S_2 (s) - k_3 S_3(s) -k_4 S_3(s) \\\\\n",
    "\\end{eqnarray}"
   ]
  },
  {
   "cell_type": "markdown",
   "id": "365aa905-5ef6-45db-8a19-b726c511fba3",
   "metadata": {},
   "source": [
    "**Step 3: Express $S_3$ in terms of $S_1$**\n",
    "\\begin{eqnarray}\n",
    "s S_2 (s)  & = & k_1 S_1(s) - k_2 S_2(s) + k_3 S_3(s) \\\\\n",
    "S_2 (s) & = & \\frac{k_1 S_1(s) + k_3 S_3(s)}{s + k_2} \\\\\n",
    "S_3 (s) & = & \\frac{k_2 S_2 (s)}{s + k_3 + k_4} \\\\\n",
    "S_3 (s) & = & \\frac{k_2}{s + k_3 + k_4} \\frac{k_1 S_1(s) + k_3 S_3(s)}{s + k_2} \\\\\n",
    "S_3 (s) (1 - \\frac{k_3}{s + k_2})  & = & \\frac{k_2}{s + k_3 + k_4} \\frac{k_1 S_1(s)}{s + k_2} \\\\\n",
    "S_3 (s)  & = &  S_1(s)\\frac{k_2}{s + k_3 + k_4} \\frac{k_1}{s + k_2} \\frac{s + k_2}{s + k_2 - k_3} \\\\\n",
    "\\end{eqnarray}"
   ]
  },
  {
   "cell_type": "code",
   "execution_count": 2,
   "id": "9f202027-4afa-46f7-a14d-faf6f77a3ff0",
   "metadata": {},
   "outputs": [
    {
     "data": {
      "text/plain": [
       "-1.1428571428571428"
      ]
     },
     "execution_count": 2,
     "metadata": {},
     "output_type": "execute_result"
    }
   ],
   "source": [
    "k1 = 1; k2 =2; k3 = 2.5; k4 = 1\n",
    "k2/(k3 + k4)*(k1/k2)*(k2/(k2 - k3))"
   ]
  },
  {
   "cell_type": "markdown",
   "id": "0cc63234-9d04-41cb-99ee-b196dd8eab94",
   "metadata": {},
   "source": [
    "# Simulation"
   ]
  },
  {
   "cell_type": "code",
   "execution_count": 18,
   "id": "5d0898c5-14b8-457c-b9c9-0ca0c574f173",
   "metadata": {},
   "outputs": [
    {
     "data": {
      "image/png": "[encoded data removed]",
      "text/plain": [
       "<Figure size 432x288 with 1 Axes>"
      ]
     },
     "metadata": {},
     "output_type": "display_data"
    }
   ],
   "source": [
    "MODEL = \"\"\"\n",
    "J1: $S1 -> S2; k1*$S1\n",
    "J2: S2 -> S3; k2*S2\n",
    "J3: S3 -> S2; k3*S3\n",
    "J4: S3 -> ; k4*S3\n",
    "k1 = 1\n",
    "k2 = 2\n",
    "k3 = 2.5\n",
    "k4 = 1\n",
    "$S1 = 1\n",
    "S2 = 0\n",
    "S3 = 0\n",
    "\"\"\"\n",
    "RR = te.loada(MODEL)\n",
    "RR.simulate(0, 20)\n",
    "RR.plot()"
   ]
  },
  {
   "cell_type": "code",
   "execution_count": 16,
   "id": "509c49e5-727c-4749-84ac-20523c8e5e8f",
   "metadata": {},
   "outputs": [],
   "source": [
    "ctlsb = ctl.ControlSBML(MODEL, input_names=[\"S1\"], output_names=[\"S3\"])\n",
    "tf = ctlsb.makeTransferFunction()"
   ]
  },
  {
   "cell_type": "code",
   "execution_count": 17,
   "id": "70ce3eb1-b33f-44dc-842b-2a3a5edd3f81",
   "metadata": {},
   "outputs": [
    {
     "data": {
      "text/plain": [
       "0.9999999999999996"
      ]
     },
     "execution_count": 17,
     "metadata": {},
     "output_type": "execute_result"
    }
   ],
   "source": [
    "tf.dcgain()"
   ]
  }
 ],
 "metadata": {
  "kernelspec": {
   "display_name": "Python 3",
   "language": "python",
   "name": "python3"
  },
  "language_info": {
   "codemirror_mode": {
    "name": "ipython",
    "version": 3
   },
   "file_extension": ".py",
   "mimetype": "text/x-python",
   "name": "python",
   "nbconvert_exporter": "python",
   "pygments_lexer": "ipython3",
   "version": "3.6.9"
  }
 },
 "nbformat": 4,
 "nbformat_minor": 5
}
