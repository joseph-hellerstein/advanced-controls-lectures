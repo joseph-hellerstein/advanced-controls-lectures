{
 "cells": [
  {
   "cell_type": "markdown",
   "id": "b1229fec-e965-4858-b3e7-cf67e8645060",
   "metadata": {},
   "source": [
    "# FROM THOUGHT TO CODE"
   ]
  },
  {
   "cell_type": "markdown",
   "id": "6f6af7d4-63dc-4ec1-95ba-bdd6f9c35720",
   "metadata": {
    "tags": []
   },
   "source": [
    "This notebook is a case study of how to develop code to solve a problem."
   ]
  },
  {
   "cell_type": "markdown",
   "id": "752c87a2-1e58-4aaf-9f3e-6eb0cf742fa6",
   "metadata": {},
   "source": [
    "<img src=\"https://github.com/joseph-hellerstein/advanced-controls-lectures/blob/main/Lecture_13_14-Closed-Loop-Systems/Closed-Loop-System.png?raw=true\"\n",
    "     alt=\"Markdown Monster icon\" width=600pt\n",
    "     style=\"float: left; margin-right: 10px;\" />"
   ]
  },
  {
   "cell_type": "markdown",
   "id": "171f745b-63f8-4a65-b1f6-23a756275341",
   "metadata": {},
   "source": [
    "We see that to implement a testbed for the above diagram, we need to construct the\n",
    "signals $D(s)$ and $N(s)$.\n",
    "We model both as sinusoids, but at different frequences.\n",
    "$D(s)$ is generally low frequency (since we change the reference infrequently),\n",
    "and $N(s)$ is general high frequency.\n",
    "\n",
    "So, we want a way to easily incorporate different sinusoidal signals into the computational\n",
    "framework.\n",
    "\n",
    "Beyond this, there are other elements we'll need to build.\n",
    "For example, the circles with a \"+\" are adders.\n",
    "So, we need elements that take 2 or more inputs and output the sum of those inputs."
   ]
  },
  {
   "cell_type": "markdown",
   "id": "ea1ef56b-9c3d-4fbe-8202-151b8979a57b",
   "metadata": {},
   "source": [
    "# Preliminaries"
   ]
  },
  {
   "cell_type": "code",
   "execution_count": 1,
   "id": "f16d0f7a-d0c5-4f37-aa29-feed6d82a363",
   "metadata": {},
   "outputs": [],
   "source": [
    "!pip install -q controlSBML\n",
    "\n",
    "import control\n",
    "import controlSBML as ctl\n",
    "import numpy as np\n",
    "import pandas as pd\n",
    "import matplotlib.pyplot as plt\n",
    "import sympy\n",
    "import tellurium as te"
   ]
  },
  {
   "cell_type": "code",
   "execution_count": 2,
   "id": "0e08f473-49e8-4878-bc53-289472bb71fb",
   "metadata": {},
   "outputs": [],
   "source": [
    "TIMES = ctl.makeSimulationTimes(0, 5, 500)"
   ]
  },
  {
   "cell_type": "markdown",
   "id": "f5286452-eb67-42ca-8dae-be9954e20efa",
   "metadata": {},
   "source": [
    "# Helpers"
   ]
  },
  {
   "cell_type": "code",
   "execution_count": 3,
   "id": "55e3604e-6392-45b8-818c-8c7624758fcc",
   "metadata": {},
   "outputs": [
    {
     "name": "stdout",
     "output_type": "stream",
     "text": [
      "OK!\n"
     ]
    }
   ],
   "source": [
    "def plotStep(tf, is_plot=True):\n",
    "    \"\"\"\n",
    "    Plots a transfer function step response\n",
    "    \n",
    "    Parameters\n",
    "    ----------\n",
    "    tf: control.TransferFunction\n",
    "    \"\"\"\n",
    "    result = control.forced_response(tf, T=TIMES, U=1)\n",
    "    if is_plot:\n",
    "        plt.plot(result.t, result.outputs)\n",
    "\n",
    "# TESTS\n",
    "Gs = control.TransferFunction([2], [1, 3])\n",
    "plotStep(Gs, is_plot=False)\n",
    "print(\"OK!\")"
   ]
  },
  {
   "cell_type": "markdown",
   "id": "8e2d900a-9449-4ef4-83b8-5eec492f0fea",
   "metadata": {},
   "source": [
    "# Create Sine Waves"
   ]
  },
  {
   "cell_type": "markdown",
   "id": "208b4dd5-d751-43d4-b77b-babc05da34a8",
   "metadata": {},
   "source": [
    "# Creating ``NonlinearIOSystem`` objects for Sine Waves"
   ]
  },
  {
   "cell_type": "markdown",
   "id": "e80a89b4-9fbe-4e27-bac3-a77fa0c50877",
   "metadata": {},
   "source": [
    "# Factory for ``NonlinearIOSystem`` Sine Wave"
   ]
  },
  {
   "cell_type": "markdown",
   "id": "3a0b984c-0a5b-43e8-bc0b-fe978a93ba60",
   "metadata": {},
   "source": [
    "# Factory for ``NonlinearIOSystem`` Adder"
   ]
  }
 ],
 "metadata": {
  "kernelspec": {
   "display_name": "Python 3",
   "language": "python",
   "name": "python3"
  },
  "language_info": {
   "codemirror_mode": {
    "name": "ipython",
    "version": 3
   },
   "file_extension": ".py",
   "mimetype": "text/x-python",
   "name": "python",
   "nbconvert_exporter": "python",
   "pygments_lexer": "ipython3",
   "version": "3.6.9"
  }
 },
 "nbformat": 4,
 "nbformat_minor": 5
}
