{
 "cells": [
  {
   "cell_type": "markdown",
   "id": "0d6ccd69-d25c-4643-b8d9-887972581454",
   "metadata": {
    "tags": []
   },
   "source": [
    "# System Identification"
   ]
  },
  {
   "cell_type": "markdown",
   "id": "0b8d954e-ad3d-4b57-a197-118a35dc4867",
   "metadata": {},
   "source": [
    "System identification is the process of finding a transfer function that predicts outputs\n",
    "that are close to those predicted by experimental data. These data\n",
    "may be obtained from actual experiments for from a detailed nonlinear model.\n",
    "System identification involves: iteratively choosing the size of the numerator and denominator polynomial\n",
    "of the transfer function,\n",
    "estimating the parameters of the transfer function, and evaluating the quality of the fit to\n",
    "the predictions of the transfer function."
   ]
  },
  {
   "cell_type": "markdown",
   "id": "78c87479-3990-41ff-abe4-002f44c52d3f",
   "metadata": {
    "tags": []
   },
   "source": [
    "## Preliminaries"
   ]
  },
  {
   "cell_type": "code",
   "execution_count": 1,
   "id": "09781b48-8889-4a12-a408-91fa5f640e40",
   "metadata": {},
   "outputs": [
    {
     "name": "stdout",
     "output_type": "stream",
     "text": [
      "Requirement already satisfied: controlSBML in /Users/jlheller/home/Technical/repos/controlSBML/src (1.2.4)\n",
      "Requirement already satisfied: coverage in /Users/jlheller/home/Technical/repos/advanced-controls-lectures/adv/lib/python3.9/site-packages (from controlSBML) (7.6.10)\n",
      "Requirement already satisfied: colour in /Users/jlheller/home/Technical/repos/advanced-controls-lectures/adv/lib/python3.9/site-packages (from controlSBML) (0.1.5)\n",
      "Requirement already satisfied: control in /Users/jlheller/home/Technical/repos/advanced-controls-lectures/adv/lib/python3.9/site-packages (from controlSBML) (0.9.4)\n",
      "Requirement already satisfied: docstring-expander in /Users/jlheller/home/Technical/repos/advanced-controls-lectures/adv/lib/python3.9/site-packages (from controlSBML) (0.23)\n",
      "Requirement already satisfied: jupyterlab in /Users/jlheller/home/Technical/repos/advanced-controls-lectures/adv/lib/python3.9/site-packages (from controlSBML) (4.3.5)\n",
      "Requirement already satisfied: lmfit in /Users/jlheller/home/Technical/repos/advanced-controls-lectures/adv/lib/python3.9/site-packages (from controlSBML) (1.2.2)\n",
      "Requirement already satisfied: matplotlib in /Users/jlheller/home/Technical/repos/advanced-controls-lectures/adv/lib/python3.9/site-packages (from controlSBML) (3.9.4)\n",
      "Requirement already satisfied: numpy in /Users/jlheller/home/Technical/repos/advanced-controls-lectures/adv/lib/python3.9/site-packages (from controlSBML) (1.26.4)\n",
      "Requirement already satisfied: pandas in /Users/jlheller/home/Technical/repos/advanced-controls-lectures/adv/lib/python3.9/site-packages (from controlSBML) (2.2.3)\n",
      "Requirement already satisfied: pip in /Users/jlheller/home/Technical/repos/advanced-controls-lectures/adv/lib/python3.9/site-packages (from controlSBML) (25.0)\n",
      "Requirement already satisfied: pylint in /Users/jlheller/home/Technical/repos/advanced-controls-lectures/adv/lib/python3.9/site-packages (from controlSBML) (3.3.4)\n",
      "Requirement already satisfied: python-libsbml in /Users/jlheller/home/Technical/repos/advanced-controls-lectures/adv/lib/python3.9/site-packages (from controlSBML) (5.20.4)\n",
      "Requirement already satisfied: seaborn in /Users/jlheller/home/Technical/repos/advanced-controls-lectures/adv/lib/python3.9/site-packages (from controlSBML) (0.13.2)\n",
      "Requirement already satisfied: symmathSBML in /Users/jlheller/home/Technical/repos/advanced-controls-lectures/adv/lib/python3.9/site-packages (from controlSBML) (0.2.1)\n",
      "Requirement already satisfied: sympy in /Users/jlheller/home/Technical/repos/advanced-controls-lectures/adv/lib/python3.9/site-packages (from controlSBML) (1.13.3)\n",
      "Requirement already satisfied: tellurium in /Users/jlheller/home/Technical/repos/advanced-controls-lectures/adv/lib/python3.9/site-packages (from controlSBML) (2.2.10)\n",
      "Requirement already satisfied: toml in /Users/jlheller/home/Technical/repos/advanced-controls-lectures/adv/lib/python3.9/site-packages (from controlSBML) (0.10.2)\n",
      "Requirement already satisfied: tqdm in /Users/jlheller/home/Technical/repos/advanced-controls-lectures/adv/lib/python3.9/site-packages (from controlSBML) (4.66.1)\n",
      "Requirement already satisfied: twine in /Users/jlheller/home/Technical/repos/advanced-controls-lectures/adv/lib/python3.9/site-packages (from controlSBML) (6.1.0)\n",
      "Requirement already satisfied: urllib3 in /Users/jlheller/home/Technical/repos/advanced-controls-lectures/adv/lib/python3.9/site-packages (from controlSBML) (2.3.0)\n",
      "Requirement already satisfied: scipy>=1.3 in /Users/jlheller/home/Technical/repos/advanced-controls-lectures/adv/lib/python3.9/site-packages (from control->controlSBML) (1.13.1)\n",
      "Requirement already satisfied: async-lru>=1.0.0 in /Users/jlheller/home/Technical/repos/advanced-controls-lectures/adv/lib/python3.9/site-packages (from jupyterlab->controlSBML) (2.0.4)\n",
      "Requirement already satisfied: httpx>=0.25.0 in /Users/jlheller/home/Technical/repos/advanced-controls-lectures/adv/lib/python3.9/site-packages (from jupyterlab->controlSBML) (0.28.1)\n",
      "Requirement already satisfied: importlib-metadata>=4.8.3 in /Users/jlheller/home/Technical/repos/advanced-controls-lectures/adv/lib/python3.9/site-packages (from jupyterlab->controlSBML) (5.2.0)\n",
      "Requirement already satisfied: ipykernel>=6.5.0 in /Users/jlheller/home/Technical/repos/advanced-controls-lectures/adv/lib/python3.9/site-packages (from jupyterlab->controlSBML) (6.19.4)\n",
      "Requirement already satisfied: jinja2>=3.0.3 in /Users/jlheller/home/Technical/repos/advanced-controls-lectures/adv/lib/python3.9/site-packages (from jupyterlab->controlSBML) (3.1.2)\n",
      "Requirement already satisfied: jupyter-core in /Users/jlheller/home/Technical/repos/advanced-controls-lectures/adv/lib/python3.9/site-packages (from jupyterlab->controlSBML) (5.1.1)\n",
      "Requirement already satisfied: jupyter-lsp>=2.0.0 in /Users/jlheller/home/Technical/repos/advanced-controls-lectures/adv/lib/python3.9/site-packages (from jupyterlab->controlSBML) (2.2.5)\n",
      "Requirement already satisfied: jupyter-server<3,>=2.4.0 in /Users/jlheller/home/Technical/repos/advanced-controls-lectures/adv/lib/python3.9/site-packages (from jupyterlab->controlSBML) (2.15.0)\n",
      "Requirement already satisfied: jupyterlab-server<3,>=2.27.1 in /Users/jlheller/home/Technical/repos/advanced-controls-lectures/adv/lib/python3.9/site-packages (from jupyterlab->controlSBML) (2.27.3)\n",
      "Requirement already satisfied: notebook-shim>=0.2 in /Users/jlheller/home/Technical/repos/advanced-controls-lectures/adv/lib/python3.9/site-packages (from jupyterlab->controlSBML) (0.2.2)\n",
      "Requirement already satisfied: packaging in /Users/jlheller/home/Technical/repos/advanced-controls-lectures/adv/lib/python3.9/site-packages (from jupyterlab->controlSBML) (24.2)\n",
      "Requirement already satisfied: setuptools>=40.8.0 in /Users/jlheller/home/Technical/repos/advanced-controls-lectures/adv/lib/python3.9/site-packages (from jupyterlab->controlSBML) (58.0.4)\n",
      "Requirement already satisfied: tomli>=1.2.2 in /Users/jlheller/home/Technical/repos/advanced-controls-lectures/adv/lib/python3.9/site-packages (from jupyterlab->controlSBML) (2.0.1)\n",
      "Requirement already satisfied: tornado>=6.2.0 in /Users/jlheller/home/Technical/repos/advanced-controls-lectures/adv/lib/python3.9/site-packages (from jupyterlab->controlSBML) (6.2)\n",
      "Requirement already satisfied: traitlets in /Users/jlheller/home/Technical/repos/advanced-controls-lectures/adv/lib/python3.9/site-packages (from jupyterlab->controlSBML) (5.8.0)\n",
      "Requirement already satisfied: asteval>=0.9.28 in /Users/jlheller/home/Technical/repos/advanced-controls-lectures/adv/lib/python3.9/site-packages (from lmfit->controlSBML) (0.9.31)\n",
      "Requirement already satisfied: uncertainties>=3.1.4 in /Users/jlheller/home/Technical/repos/advanced-controls-lectures/adv/lib/python3.9/site-packages (from lmfit->controlSBML) (3.1.7)\n",
      "Requirement already satisfied: contourpy>=1.0.1 in /Users/jlheller/home/Technical/repos/advanced-controls-lectures/adv/lib/python3.9/site-packages (from matplotlib->controlSBML) (1.0.6)\n",
      "Requirement already satisfied: cycler>=0.10 in /Users/jlheller/home/Technical/repos/advanced-controls-lectures/adv/lib/python3.9/site-packages (from matplotlib->controlSBML) (0.11.0)\n",
      "Requirement already satisfied: fonttools>=4.22.0 in /Users/jlheller/home/Technical/repos/advanced-controls-lectures/adv/lib/python3.9/site-packages (from matplotlib->controlSBML) (4.38.0)\n",
      "Requirement already satisfied: kiwisolver>=1.3.1 in /Users/jlheller/home/Technical/repos/advanced-controls-lectures/adv/lib/python3.9/site-packages (from matplotlib->controlSBML) (1.4.4)\n",
      "Requirement already satisfied: pillow>=8 in /Users/jlheller/home/Technical/repos/advanced-controls-lectures/adv/lib/python3.9/site-packages (from matplotlib->controlSBML) (9.3.0)\n",
      "Requirement already satisfied: pyparsing>=2.3.1 in /Users/jlheller/home/Technical/repos/advanced-controls-lectures/adv/lib/python3.9/site-packages (from matplotlib->controlSBML) (3.0.9)\n",
      "Requirement already satisfied: python-dateutil>=2.7 in /Users/jlheller/home/Technical/repos/advanced-controls-lectures/adv/lib/python3.9/site-packages (from matplotlib->controlSBML) (2.8.2)\n",
      "Requirement already satisfied: importlib-resources>=3.2.0 in /Users/jlheller/home/Technical/repos/advanced-controls-lectures/adv/lib/python3.9/site-packages (from matplotlib->controlSBML) (6.5.2)\n",
      "Requirement already satisfied: pytz>=2020.1 in /Users/jlheller/home/Technical/repos/advanced-controls-lectures/adv/lib/python3.9/site-packages (from pandas->controlSBML) (2022.7)\n",
      "Requirement already satisfied: tzdata>=2022.7 in /Users/jlheller/home/Technical/repos/advanced-controls-lectures/adv/lib/python3.9/site-packages (from pandas->controlSBML) (2025.1)\n",
      "Requirement already satisfied: dill>=0.2 in /Users/jlheller/home/Technical/repos/advanced-controls-lectures/adv/lib/python3.9/site-packages (from pylint->controlSBML) (0.3.6)\n",
      "Requirement already satisfied: platformdirs>=2.2.0 in /Users/jlheller/home/Technical/repos/advanced-controls-lectures/adv/lib/python3.9/site-packages (from pylint->controlSBML) (2.6.2)\n",
      "Requirement already satisfied: astroid<=3.4.0-dev0,>=3.3.8 in /Users/jlheller/home/Technical/repos/advanced-controls-lectures/adv/lib/python3.9/site-packages (from pylint->controlSBML) (3.3.8)\n",
      "Requirement already satisfied: isort!=5.13.0,<7,>=4.2.5 in /Users/jlheller/home/Technical/repos/advanced-controls-lectures/adv/lib/python3.9/site-packages (from pylint->controlSBML) (5.11.4)\n",
      "Requirement already satisfied: mccabe<0.8,>=0.6 in /Users/jlheller/home/Technical/repos/advanced-controls-lectures/adv/lib/python3.9/site-packages (from pylint->controlSBML) (0.7.0)\n",
      "Requirement already satisfied: tomlkit>=0.10.1 in /Users/jlheller/home/Technical/repos/advanced-controls-lectures/adv/lib/python3.9/site-packages (from pylint->controlSBML) (0.11.6)\n",
      "Requirement already satisfied: typing-extensions>=3.10.0 in /Users/jlheller/home/Technical/repos/advanced-controls-lectures/adv/lib/python3.9/site-packages (from pylint->controlSBML) (4.4.0)\n",
      "Requirement already satisfied: nose in /Users/jlheller/home/Technical/repos/advanced-controls-lectures/adv/lib/python3.9/site-packages (from symmathSBML->controlSBML) (1.3.7)\n",
      "Requirement already satisfied: tk in /Users/jlheller/home/Technical/repos/advanced-controls-lectures/adv/lib/python3.9/site-packages (from symmathSBML->controlSBML) (0.1.0)\n",
      "Requirement already satisfied: mpmath<1.4,>=1.1.0 in /Users/jlheller/home/Technical/repos/advanced-controls-lectures/adv/lib/python3.9/site-packages (from sympy->controlSBML) (1.2.1)\n",
      "Requirement already satisfied: libroadrunner>=2.1 in /Users/jlheller/home/Technical/repos/advanced-controls-lectures/adv/lib/python3.9/site-packages (from tellurium->controlSBML) (2.7.0)\n",
      "Requirement already satisfied: antimony>=2.12.0 in /Users/jlheller/home/Technical/repos/advanced-controls-lectures/adv/lib/python3.9/site-packages (from tellurium->controlSBML) (2.15.0)\n",
      "Requirement already satisfied: python-libnuml>=1.0.0 in /Users/jlheller/home/Technical/repos/advanced-controls-lectures/adv/lib/python3.9/site-packages (from tellurium->controlSBML) (1.1.6)\n",
      "Requirement already satisfied: python-libsedml>=2.0.17 in /Users/jlheller/home/Technical/repos/advanced-controls-lectures/adv/lib/python3.9/site-packages (from tellurium->controlSBML) (2.0.32)\n",
      "Requirement already satisfied: python-libcombine>=0.2.2 in /Users/jlheller/home/Technical/repos/advanced-controls-lectures/adv/lib/python3.9/site-packages (from tellurium->controlSBML) (0.2.19)\n",
      "Requirement already satisfied: appdirs>=1.4.3 in /Users/jlheller/home/Technical/repos/advanced-controls-lectures/adv/lib/python3.9/site-packages (from tellurium->controlSBML) (1.4.4)\n",
      "Requirement already satisfied: plotly>=2.0.12 in /Users/jlheller/home/Technical/repos/advanced-controls-lectures/adv/lib/python3.9/site-packages (from tellurium->controlSBML) (5.11.0)\n",
      "Requirement already satisfied: requests in /Users/jlheller/home/Technical/repos/advanced-controls-lectures/adv/lib/python3.9/site-packages (from tellurium->controlSBML) (2.32.3)\n",
      "Requirement already satisfied: jupyter-client>=5.1.0 in /Users/jlheller/home/Technical/repos/advanced-controls-lectures/adv/lib/python3.9/site-packages (from tellurium->controlSBML) (7.4.8)\n",
      "Requirement already satisfied: ipython in /Users/jlheller/home/Technical/repos/advanced-controls-lectures/adv/lib/python3.9/site-packages (from tellurium->controlSBML) (8.7.0)\n",
      "Requirement already satisfied: pytest in /Users/jlheller/home/Technical/repos/advanced-controls-lectures/adv/lib/python3.9/site-packages (from tellurium->controlSBML) (7.2.0)\n",
      "Requirement already satisfied: readme-renderer>=35.0 in /Users/jlheller/home/Technical/repos/advanced-controls-lectures/adv/lib/python3.9/site-packages (from twine->controlSBML) (37.3)\n",
      "Requirement already satisfied: requests-toolbelt!=0.9.0,>=0.8.0 in /Users/jlheller/home/Technical/repos/advanced-controls-lectures/adv/lib/python3.9/site-packages (from twine->controlSBML) (0.10.1)\n",
      "Requirement already satisfied: keyring>=15.1 in /Users/jlheller/home/Technical/repos/advanced-controls-lectures/adv/lib/python3.9/site-packages (from twine->controlSBML) (23.13.1)\n",
      "Requirement already satisfied: rfc3986>=1.4.0 in /Users/jlheller/home/Technical/repos/advanced-controls-lectures/adv/lib/python3.9/site-packages (from twine->controlSBML) (2.0.0)\n",
      "Requirement already satisfied: rich>=12.0.0 in /Users/jlheller/home/Technical/repos/advanced-controls-lectures/adv/lib/python3.9/site-packages (from twine->controlSBML) (13.0.0)\n",
      "Requirement already satisfied: id in /Users/jlheller/home/Technical/repos/advanced-controls-lectures/adv/lib/python3.9/site-packages (from twine->controlSBML) (1.5.0)\n",
      "Requirement already satisfied: anyio in /Users/jlheller/home/Technical/repos/advanced-controls-lectures/adv/lib/python3.9/site-packages (from httpx>=0.25.0->jupyterlab->controlSBML) (3.6.2)\n",
      "Requirement already satisfied: certifi in /Users/jlheller/home/Technical/repos/advanced-controls-lectures/adv/lib/python3.9/site-packages (from httpx>=0.25.0->jupyterlab->controlSBML) (2022.12.7)\n",
      "Requirement already satisfied: httpcore==1.* in /Users/jlheller/home/Technical/repos/advanced-controls-lectures/adv/lib/python3.9/site-packages (from httpx>=0.25.0->jupyterlab->controlSBML) (1.0.7)\n",
      "Requirement already satisfied: idna in /Users/jlheller/home/Technical/repos/advanced-controls-lectures/adv/lib/python3.9/site-packages (from httpx>=0.25.0->jupyterlab->controlSBML) (3.4)\n",
      "Requirement already satisfied: h11<0.15,>=0.13 in /Users/jlheller/home/Technical/repos/advanced-controls-lectures/adv/lib/python3.9/site-packages (from httpcore==1.*->httpx>=0.25.0->jupyterlab->controlSBML) (0.14.0)\n",
      "Requirement already satisfied: zipp>=0.5 in /Users/jlheller/home/Technical/repos/advanced-controls-lectures/adv/lib/python3.9/site-packages (from importlib-metadata>=4.8.3->jupyterlab->controlSBML) (3.11.0)\n",
      "Requirement already satisfied: appnope in /Users/jlheller/home/Technical/repos/advanced-controls-lectures/adv/lib/python3.9/site-packages (from ipykernel>=6.5.0->jupyterlab->controlSBML) (0.1.3)\n",
      "Requirement already satisfied: comm>=0.1.1 in /Users/jlheller/home/Technical/repos/advanced-controls-lectures/adv/lib/python3.9/site-packages (from ipykernel>=6.5.0->jupyterlab->controlSBML) (0.1.2)\n",
      "Requirement already satisfied: debugpy>=1.0 in /Users/jlheller/home/Technical/repos/advanced-controls-lectures/adv/lib/python3.9/site-packages (from ipykernel>=6.5.0->jupyterlab->controlSBML) (1.6.4)\n",
      "Requirement already satisfied: matplotlib-inline>=0.1 in /Users/jlheller/home/Technical/repos/advanced-controls-lectures/adv/lib/python3.9/site-packages (from ipykernel>=6.5.0->jupyterlab->controlSBML) (0.1.6)\n",
      "Requirement already satisfied: nest-asyncio in /Users/jlheller/home/Technical/repos/advanced-controls-lectures/adv/lib/python3.9/site-packages (from ipykernel>=6.5.0->jupyterlab->controlSBML) (1.5.6)\n",
      "Requirement already satisfied: psutil in /Users/jlheller/home/Technical/repos/advanced-controls-lectures/adv/lib/python3.9/site-packages (from ipykernel>=6.5.0->jupyterlab->controlSBML) (5.9.4)\n",
      "Requirement already satisfied: pyzmq>=17 in /Users/jlheller/home/Technical/repos/advanced-controls-lectures/adv/lib/python3.9/site-packages (from ipykernel>=6.5.0->jupyterlab->controlSBML) (24.0.1)\n",
      "Requirement already satisfied: backcall in /Users/jlheller/home/Technical/repos/advanced-controls-lectures/adv/lib/python3.9/site-packages (from ipython->tellurium->controlSBML) (0.2.0)\n",
      "Requirement already satisfied: decorator in /Users/jlheller/home/Technical/repos/advanced-controls-lectures/adv/lib/python3.9/site-packages (from ipython->tellurium->controlSBML) (5.1.1)\n",
      "Requirement already satisfied: jedi>=0.16 in /Users/jlheller/home/Technical/repos/advanced-controls-lectures/adv/lib/python3.9/site-packages (from ipython->tellurium->controlSBML) (0.18.2)\n",
      "Requirement already satisfied: pickleshare in /Users/jlheller/home/Technical/repos/advanced-controls-lectures/adv/lib/python3.9/site-packages (from ipython->tellurium->controlSBML) (0.7.5)\n",
      "Requirement already satisfied: prompt-toolkit<3.1.0,>=3.0.11 in /Users/jlheller/home/Technical/repos/advanced-controls-lectures/adv/lib/python3.9/site-packages (from ipython->tellurium->controlSBML) (3.0.36)\n",
      "Requirement already satisfied: pygments>=2.4.0 in /Users/jlheller/home/Technical/repos/advanced-controls-lectures/adv/lib/python3.9/site-packages (from ipython->tellurium->controlSBML) (2.13.0)\n",
      "Requirement already satisfied: stack-data in /Users/jlheller/home/Technical/repos/advanced-controls-lectures/adv/lib/python3.9/site-packages (from ipython->tellurium->controlSBML) (0.6.2)\n",
      "Requirement already satisfied: pexpect>4.3 in /Users/jlheller/home/Technical/repos/advanced-controls-lectures/adv/lib/python3.9/site-packages (from ipython->tellurium->controlSBML) (4.8.0)\n",
      "Requirement already satisfied: MarkupSafe>=2.0 in /Users/jlheller/home/Technical/repos/advanced-controls-lectures/adv/lib/python3.9/site-packages (from jinja2>=3.0.3->jupyterlab->controlSBML) (2.1.1)\n",
      "Requirement already satisfied: entrypoints in /Users/jlheller/home/Technical/repos/advanced-controls-lectures/adv/lib/python3.9/site-packages (from jupyter-client>=5.1.0->tellurium->controlSBML) (0.4)\n",
      "Requirement already satisfied: argon2-cffi>=21.1 in /Users/jlheller/home/Technical/repos/advanced-controls-lectures/adv/lib/python3.9/site-packages (from jupyter-server<3,>=2.4.0->jupyterlab->controlSBML) (21.3.0)\n",
      "Requirement already satisfied: jupyter-events>=0.11.0 in /Users/jlheller/home/Technical/repos/advanced-controls-lectures/adv/lib/python3.9/site-packages (from jupyter-server<3,>=2.4.0->jupyterlab->controlSBML) (0.11.0)\n",
      "Requirement already satisfied: jupyter-server-terminals>=0.4.4 in /Users/jlheller/home/Technical/repos/advanced-controls-lectures/adv/lib/python3.9/site-packages (from jupyter-server<3,>=2.4.0->jupyterlab->controlSBML) (0.5.3)\n",
      "Requirement already satisfied: nbconvert>=6.4.4 in /Users/jlheller/home/Technical/repos/advanced-controls-lectures/adv/lib/python3.9/site-packages (from jupyter-server<3,>=2.4.0->jupyterlab->controlSBML) (7.2.7)\n",
      "Requirement already satisfied: nbformat>=5.3.0 in /Users/jlheller/home/Technical/repos/advanced-controls-lectures/adv/lib/python3.9/site-packages (from jupyter-server<3,>=2.4.0->jupyterlab->controlSBML) (5.7.1)\n",
      "Requirement already satisfied: overrides>=5.0 in /Users/jlheller/home/Technical/repos/advanced-controls-lectures/adv/lib/python3.9/site-packages (from jupyter-server<3,>=2.4.0->jupyterlab->controlSBML) (7.7.0)\n",
      "Requirement already satisfied: prometheus-client>=0.9 in /Users/jlheller/home/Technical/repos/advanced-controls-lectures/adv/lib/python3.9/site-packages (from jupyter-server<3,>=2.4.0->jupyterlab->controlSBML) (0.15.0)\n",
      "Requirement already satisfied: send2trash>=1.8.2 in /Users/jlheller/home/Technical/repos/advanced-controls-lectures/adv/lib/python3.9/site-packages (from jupyter-server<3,>=2.4.0->jupyterlab->controlSBML) (1.8.3)\n",
      "Requirement already satisfied: terminado>=0.8.3 in /Users/jlheller/home/Technical/repos/advanced-controls-lectures/adv/lib/python3.9/site-packages (from jupyter-server<3,>=2.4.0->jupyterlab->controlSBML) (0.17.1)\n",
      "Requirement already satisfied: websocket-client>=1.7 in /Users/jlheller/home/Technical/repos/advanced-controls-lectures/adv/lib/python3.9/site-packages (from jupyter-server<3,>=2.4.0->jupyterlab->controlSBML) (1.8.0)\n",
      "Requirement already satisfied: babel>=2.10 in /Users/jlheller/home/Technical/repos/advanced-controls-lectures/adv/lib/python3.9/site-packages (from jupyterlab-server<3,>=2.27.1->jupyterlab->controlSBML) (2.11.0)\n",
      "Requirement already satisfied: json5>=0.9.0 in /Users/jlheller/home/Technical/repos/advanced-controls-lectures/adv/lib/python3.9/site-packages (from jupyterlab-server<3,>=2.27.1->jupyterlab->controlSBML) (0.9.10)\n",
      "Requirement already satisfied: jsonschema>=4.18.0 in /Users/jlheller/home/Technical/repos/advanced-controls-lectures/adv/lib/python3.9/site-packages (from jupyterlab-server<3,>=2.27.1->jupyterlab->controlSBML) (4.23.0)\n",
      "Requirement already satisfied: jaraco.classes in /Users/jlheller/home/Technical/repos/advanced-controls-lectures/adv/lib/python3.9/site-packages (from keyring>=15.1->twine->controlSBML) (3.2.3)\n",
      "Requirement already satisfied: tenacity>=6.2.0 in /Users/jlheller/home/Technical/repos/advanced-controls-lectures/adv/lib/python3.9/site-packages (from plotly>=2.0.12->tellurium->controlSBML) (8.1.0)\n",
      "Requirement already satisfied: six>=1.5 in /Users/jlheller/home/Technical/repos/advanced-controls-lectures/adv/lib/python3.9/site-packages (from python-dateutil>=2.7->matplotlib->controlSBML) (1.16.0)\n",
      "Requirement already satisfied: bleach>=2.1.0 in /Users/jlheller/home/Technical/repos/advanced-controls-lectures/adv/lib/python3.9/site-packages (from readme-renderer>=35.0->twine->controlSBML) (5.0.1)\n",
      "Requirement already satisfied: docutils>=0.13.1 in /Users/jlheller/home/Technical/repos/advanced-controls-lectures/adv/lib/python3.9/site-packages (from readme-renderer>=35.0->twine->controlSBML) (0.19)\n",
      "Requirement already satisfied: charset-normalizer<4,>=2 in /Users/jlheller/home/Technical/repos/advanced-controls-lectures/adv/lib/python3.9/site-packages (from requests->tellurium->controlSBML) (2.1.1)\n",
      "Requirement already satisfied: commonmark<0.10.0,>=0.9.0 in /Users/jlheller/home/Technical/repos/advanced-controls-lectures/adv/lib/python3.9/site-packages (from rich>=12.0.0->twine->controlSBML) (0.9.1)\n",
      "Requirement already satisfied: future in /Users/jlheller/home/Technical/repos/advanced-controls-lectures/adv/lib/python3.9/site-packages (from uncertainties>=3.1.4->lmfit->controlSBML) (0.18.3)\n",
      "Requirement already satisfied: attrs>=19.2.0 in /Users/jlheller/home/Technical/repos/advanced-controls-lectures/adv/lib/python3.9/site-packages (from pytest->tellurium->controlSBML) (22.2.0)\n",
      "Requirement already satisfied: iniconfig in /Users/jlheller/home/Technical/repos/advanced-controls-lectures/adv/lib/python3.9/site-packages (from pytest->tellurium->controlSBML) (1.1.1)\n",
      "Requirement already satisfied: pluggy<2.0,>=0.12 in /Users/jlheller/home/Technical/repos/advanced-controls-lectures/adv/lib/python3.9/site-packages (from pytest->tellurium->controlSBML) (1.0.0)\n",
      "Requirement already satisfied: exceptiongroup>=1.0.0rc8 in /Users/jlheller/home/Technical/repos/advanced-controls-lectures/adv/lib/python3.9/site-packages (from pytest->tellurium->controlSBML) (1.1.0)\n",
      "Requirement already satisfied: sniffio>=1.1 in /Users/jlheller/home/Technical/repos/advanced-controls-lectures/adv/lib/python3.9/site-packages (from anyio->httpx>=0.25.0->jupyterlab->controlSBML) (1.3.0)\n",
      "Requirement already satisfied: argon2-cffi-bindings in /Users/jlheller/home/Technical/repos/advanced-controls-lectures/adv/lib/python3.9/site-packages (from argon2-cffi>=21.1->jupyter-server<3,>=2.4.0->jupyterlab->controlSBML) (21.2.0)\n",
      "Requirement already satisfied: webencodings in /Users/jlheller/home/Technical/repos/advanced-controls-lectures/adv/lib/python3.9/site-packages (from bleach>=2.1.0->readme-renderer>=35.0->twine->controlSBML) (0.5.1)\n",
      "Requirement already satisfied: parso<0.9.0,>=0.8.0 in /Users/jlheller/home/Technical/repos/advanced-controls-lectures/adv/lib/python3.9/site-packages (from jedi>=0.16->ipython->tellurium->controlSBML) (0.8.3)\n",
      "Requirement already satisfied: jsonschema-specifications>=2023.03.6 in /Users/jlheller/home/Technical/repos/advanced-controls-lectures/adv/lib/python3.9/site-packages (from jsonschema>=4.18.0->jupyterlab-server<3,>=2.27.1->jupyterlab->controlSBML) (2024.10.1)\n",
      "Requirement already satisfied: referencing>=0.28.4 in /Users/jlheller/home/Technical/repos/advanced-controls-lectures/adv/lib/python3.9/site-packages (from jsonschema>=4.18.0->jupyterlab-server<3,>=2.27.1->jupyterlab->controlSBML) (0.36.1)\n",
      "Requirement already satisfied: rpds-py>=0.7.1 in /Users/jlheller/home/Technical/repos/advanced-controls-lectures/adv/lib/python3.9/site-packages (from jsonschema>=4.18.0->jupyterlab-server<3,>=2.27.1->jupyterlab->controlSBML) (0.22.3)\n",
      "Requirement already satisfied: python-json-logger>=2.0.4 in /Users/jlheller/home/Technical/repos/advanced-controls-lectures/adv/lib/python3.9/site-packages (from jupyter-events>=0.11.0->jupyter-server<3,>=2.4.0->jupyterlab->controlSBML) (2.0.4)\n",
      "Requirement already satisfied: pyyaml>=5.3 in /Users/jlheller/home/Technical/repos/advanced-controls-lectures/adv/lib/python3.9/site-packages (from jupyter-events>=0.11.0->jupyter-server<3,>=2.4.0->jupyterlab->controlSBML) (6.0)\n",
      "Requirement already satisfied: rfc3339-validator in /Users/jlheller/home/Technical/repos/advanced-controls-lectures/adv/lib/python3.9/site-packages (from jupyter-events>=0.11.0->jupyter-server<3,>=2.4.0->jupyterlab->controlSBML) (0.1.4)\n",
      "Requirement already satisfied: rfc3986-validator>=0.1.1 in /Users/jlheller/home/Technical/repos/advanced-controls-lectures/adv/lib/python3.9/site-packages (from jupyter-events>=0.11.0->jupyter-server<3,>=2.4.0->jupyterlab->controlSBML) (0.1.1)\n",
      "Requirement already satisfied: beautifulsoup4 in /Users/jlheller/home/Technical/repos/advanced-controls-lectures/adv/lib/python3.9/site-packages (from nbconvert>=6.4.4->jupyter-server<3,>=2.4.0->jupyterlab->controlSBML) (4.11.1)\n",
      "Requirement already satisfied: defusedxml in /Users/jlheller/home/Technical/repos/advanced-controls-lectures/adv/lib/python3.9/site-packages (from nbconvert>=6.4.4->jupyter-server<3,>=2.4.0->jupyterlab->controlSBML) (0.7.1)\n",
      "Requirement already satisfied: jupyterlab-pygments in /Users/jlheller/home/Technical/repos/advanced-controls-lectures/adv/lib/python3.9/site-packages (from nbconvert>=6.4.4->jupyter-server<3,>=2.4.0->jupyterlab->controlSBML) (0.2.2)\n",
      "Requirement already satisfied: mistune<3,>=2.0.3 in /Users/jlheller/home/Technical/repos/advanced-controls-lectures/adv/lib/python3.9/site-packages (from nbconvert>=6.4.4->jupyter-server<3,>=2.4.0->jupyterlab->controlSBML) (2.0.4)\n",
      "Requirement already satisfied: nbclient>=0.5.0 in /Users/jlheller/home/Technical/repos/advanced-controls-lectures/adv/lib/python3.9/site-packages (from nbconvert>=6.4.4->jupyter-server<3,>=2.4.0->jupyterlab->controlSBML) (0.7.2)\n",
      "Requirement already satisfied: pandocfilters>=1.4.1 in /Users/jlheller/home/Technical/repos/advanced-controls-lectures/adv/lib/python3.9/site-packages (from nbconvert>=6.4.4->jupyter-server<3,>=2.4.0->jupyterlab->controlSBML) (1.5.0)\n",
      "Requirement already satisfied: tinycss2 in /Users/jlheller/home/Technical/repos/advanced-controls-lectures/adv/lib/python3.9/site-packages (from nbconvert>=6.4.4->jupyter-server<3,>=2.4.0->jupyterlab->controlSBML) (1.2.1)\n",
      "Requirement already satisfied: fastjsonschema in /Users/jlheller/home/Technical/repos/advanced-controls-lectures/adv/lib/python3.9/site-packages (from nbformat>=5.3.0->jupyter-server<3,>=2.4.0->jupyterlab->controlSBML) (2.16.2)\n",
      "Requirement already satisfied: ptyprocess>=0.5 in /Users/jlheller/home/Technical/repos/advanced-controls-lectures/adv/lib/python3.9/site-packages (from pexpect>4.3->ipython->tellurium->controlSBML) (0.7.0)\n",
      "Requirement already satisfied: wcwidth in /Users/jlheller/home/Technical/repos/advanced-controls-lectures/adv/lib/python3.9/site-packages (from prompt-toolkit<3.1.0,>=3.0.11->ipython->tellurium->controlSBML) (0.2.5)\n",
      "Requirement already satisfied: more-itertools in /Users/jlheller/home/Technical/repos/advanced-controls-lectures/adv/lib/python3.9/site-packages (from jaraco.classes->keyring>=15.1->twine->controlSBML) (9.0.0)\n",
      "Requirement already satisfied: executing>=1.2.0 in /Users/jlheller/home/Technical/repos/advanced-controls-lectures/adv/lib/python3.9/site-packages (from stack-data->ipython->tellurium->controlSBML) (1.2.0)\n",
      "Requirement already satisfied: asttokens>=2.1.0 in /Users/jlheller/home/Technical/repos/advanced-controls-lectures/adv/lib/python3.9/site-packages (from stack-data->ipython->tellurium->controlSBML) (2.2.1)\n",
      "Requirement already satisfied: pure-eval in /Users/jlheller/home/Technical/repos/advanced-controls-lectures/adv/lib/python3.9/site-packages (from stack-data->ipython->tellurium->controlSBML) (0.2.2)\n",
      "Requirement already satisfied: fqdn in /Users/jlheller/home/Technical/repos/advanced-controls-lectures/adv/lib/python3.9/site-packages (from jsonschema[format-nongpl]>=4.18.0->jupyter-events>=0.11.0->jupyter-server<3,>=2.4.0->jupyterlab->controlSBML) (1.5.1)\n",
      "Requirement already satisfied: isoduration in /Users/jlheller/home/Technical/repos/advanced-controls-lectures/adv/lib/python3.9/site-packages (from jsonschema[format-nongpl]>=4.18.0->jupyter-events>=0.11.0->jupyter-server<3,>=2.4.0->jupyterlab->controlSBML) (20.11.0)\n",
      "Requirement already satisfied: jsonpointer>1.13 in /Users/jlheller/home/Technical/repos/advanced-controls-lectures/adv/lib/python3.9/site-packages (from jsonschema[format-nongpl]>=4.18.0->jupyter-events>=0.11.0->jupyter-server<3,>=2.4.0->jupyterlab->controlSBML) (2.3)\n",
      "Requirement already satisfied: uri-template in /Users/jlheller/home/Technical/repos/advanced-controls-lectures/adv/lib/python3.9/site-packages (from jsonschema[format-nongpl]>=4.18.0->jupyter-events>=0.11.0->jupyter-server<3,>=2.4.0->jupyterlab->controlSBML) (1.2.0)\n",
      "Requirement already satisfied: webcolors>=24.6.0 in /Users/jlheller/home/Technical/repos/advanced-controls-lectures/adv/lib/python3.9/site-packages (from jsonschema[format-nongpl]>=4.18.0->jupyter-events>=0.11.0->jupyter-server<3,>=2.4.0->jupyterlab->controlSBML) (24.11.1)\n",
      "Requirement already satisfied: cffi>=1.0.1 in /Users/jlheller/home/Technical/repos/advanced-controls-lectures/adv/lib/python3.9/site-packages (from argon2-cffi-bindings->argon2-cffi>=21.1->jupyter-server<3,>=2.4.0->jupyterlab->controlSBML) (1.15.1)\n",
      "Requirement already satisfied: soupsieve>1.2 in /Users/jlheller/home/Technical/repos/advanced-controls-lectures/adv/lib/python3.9/site-packages (from beautifulsoup4->nbconvert>=6.4.4->jupyter-server<3,>=2.4.0->jupyterlab->controlSBML) (2.3.2.post1)\n",
      "Requirement already satisfied: pycparser in /Users/jlheller/home/Technical/repos/advanced-controls-lectures/adv/lib/python3.9/site-packages (from cffi>=1.0.1->argon2-cffi-bindings->argon2-cffi>=21.1->jupyter-server<3,>=2.4.0->jupyterlab->controlSBML) (2.21)\n",
      "Requirement already satisfied: arrow>=0.15.0 in /Users/jlheller/home/Technical/repos/advanced-controls-lectures/adv/lib/python3.9/site-packages (from isoduration->jsonschema[format-nongpl]>=4.18.0->jupyter-events>=0.11.0->jupyter-server<3,>=2.4.0->jupyterlab->controlSBML) (1.2.3)\n",
      "\n",
      "\u001b[1m[\u001b[0m\u001b[34;49mnotice\u001b[0m\u001b[1;39;49m]\u001b[0m\u001b[39;49m A new release of pip is available: \u001b[0m\u001b[31;49m25.0\u001b[0m\u001b[39;49m -> \u001b[0m\u001b[32;49m25.0.1\u001b[0m\n",
      "\u001b[1m[\u001b[0m\u001b[34;49mnotice\u001b[0m\u001b[1;39;49m]\u001b[0m\u001b[39;49m To update, run: \u001b[0m\u001b[32;49mpip install --upgrade pip\u001b[0m\n",
      "Requirement already satisfied: control in /Users/jlheller/home/Technical/repos/advanced-controls-lectures/adv/lib/python3.9/site-packages (0.9.4)\n",
      "Requirement already satisfied: numpy in /Users/jlheller/home/Technical/repos/advanced-controls-lectures/adv/lib/python3.9/site-packages (from control) (1.26.4)\n",
      "Requirement already satisfied: scipy>=1.3 in /Users/jlheller/home/Technical/repos/advanced-controls-lectures/adv/lib/python3.9/site-packages (from control) (1.13.1)\n",
      "Requirement already satisfied: matplotlib in /Users/jlheller/home/Technical/repos/advanced-controls-lectures/adv/lib/python3.9/site-packages (from control) (3.9.4)\n",
      "Requirement already satisfied: contourpy>=1.0.1 in /Users/jlheller/home/Technical/repos/advanced-controls-lectures/adv/lib/python3.9/site-packages (from matplotlib->control) (1.0.6)\n",
      "Requirement already satisfied: cycler>=0.10 in /Users/jlheller/home/Technical/repos/advanced-controls-lectures/adv/lib/python3.9/site-packages (from matplotlib->control) (0.11.0)\n",
      "Requirement already satisfied: fonttools>=4.22.0 in /Users/jlheller/home/Technical/repos/advanced-controls-lectures/adv/lib/python3.9/site-packages (from matplotlib->control) (4.38.0)\n",
      "Requirement already satisfied: kiwisolver>=1.3.1 in /Users/jlheller/home/Technical/repos/advanced-controls-lectures/adv/lib/python3.9/site-packages (from matplotlib->control) (1.4.4)\n",
      "Requirement already satisfied: packaging>=20.0 in /Users/jlheller/home/Technical/repos/advanced-controls-lectures/adv/lib/python3.9/site-packages (from matplotlib->control) (24.2)\n",
      "Requirement already satisfied: pillow>=8 in /Users/jlheller/home/Technical/repos/advanced-controls-lectures/adv/lib/python3.9/site-packages (from matplotlib->control) (9.3.0)\n",
      "Requirement already satisfied: pyparsing>=2.3.1 in /Users/jlheller/home/Technical/repos/advanced-controls-lectures/adv/lib/python3.9/site-packages (from matplotlib->control) (3.0.9)\n",
      "Requirement already satisfied: python-dateutil>=2.7 in /Users/jlheller/home/Technical/repos/advanced-controls-lectures/adv/lib/python3.9/site-packages (from matplotlib->control) (2.8.2)\n",
      "Requirement already satisfied: importlib-resources>=3.2.0 in /Users/jlheller/home/Technical/repos/advanced-controls-lectures/adv/lib/python3.9/site-packages (from matplotlib->control) (6.5.2)\n",
      "Requirement already satisfied: zipp>=3.1.0 in /Users/jlheller/home/Technical/repos/advanced-controls-lectures/adv/lib/python3.9/site-packages (from importlib-resources>=3.2.0->matplotlib->control) (3.11.0)\n",
      "Requirement already satisfied: six>=1.5 in /Users/jlheller/home/Technical/repos/advanced-controls-lectures/adv/lib/python3.9/site-packages (from python-dateutil>=2.7->matplotlib->control) (1.16.0)\n",
      "\n",
      "\u001b[1m[\u001b[0m\u001b[34;49mnotice\u001b[0m\u001b[1;39;49m]\u001b[0m\u001b[39;49m A new release of pip is available: \u001b[0m\u001b[31;49m25.0\u001b[0m\u001b[39;49m -> \u001b[0m\u001b[32;49m25.0.1\u001b[0m\n",
      "\u001b[1m[\u001b[0m\u001b[34;49mnotice\u001b[0m\u001b[1;39;49m]\u001b[0m\u001b[39;49m To update, run: \u001b[0m\u001b[32;49mpip install --upgrade pip\u001b[0m\n"
     ]
    }
   ],
   "source": [
    "!pip install controlSBML\n",
    "!pip install control"
   ]
  },
  {
   "cell_type": "code",
   "execution_count": 2,
   "id": "07c84a69-4956-474e-bfb0-c45549f9d0ed",
   "metadata": {},
   "outputs": [
    {
     "data": {
      "text/plain": [
       "'1.2.4'"
      ]
     },
     "execution_count": 2,
     "metadata": {},
     "output_type": "execute_result"
    }
   ],
   "source": [
    "import controlSBML as ctl\n",
    "\n",
    "import matplotlib.pyplot as plt\n",
    "import control\n",
    "import numpy as np\n",
    "import pandas as pd\n",
    "import tellurium as te\n",
    "ctl.__version__"
   ]
  },
  {
   "cell_type": "code",
   "execution_count": 3,
   "id": "983f02a5-80a5-49ca-b294-9f6c1b363b88",
   "metadata": {},
   "outputs": [],
   "source": [
    "s = control.TransferFunction.s"
   ]
  },
  {
   "cell_type": "markdown",
   "id": "6ce43955-c086-434e-9b98-9b0ae892f618",
   "metadata": {},
   "source": [
    "## Models"
   ]
  },
  {
   "cell_type": "markdown",
   "id": "1559635c-8359-4b72-b4da-34b9f3b132d2",
   "metadata": {},
   "source": [
    "### LINEAR_MODEL"
   ]
  },
  {
   "cell_type": "code",
   "execution_count": 4,
   "id": "f9fd9895-0c55-4a93-88ed-973c9179c6b0",
   "metadata": {},
   "outputs": [
    {
     "data": {
      "image/png": "[encoded data removed]",
      "text/plain": [
       "<Figure size 300x300 with 1 Axes>"
      ]
     },
     "metadata": {},
     "output_type": "display_data"
    }
   ],
   "source": [
    "LINEAR_MODEL = \"\"\"\n",
    "model *model_main()\n",
    "J1: S1 -> S2; k1*S1\n",
    "J2: S2 -> S3; k2*S2\n",
    "J3: S3 -> ; k3*S3\n",
    "S1 = 10; S2 = 0; S3 = 0\n",
    "\n",
    "k1 = 1\n",
    "k2 = 1\n",
    "k3 = 1\n",
    "end\n",
    "\"\"\"\n",
    "rr = te.loada(LINEAR_MODEL)\n",
    "rr.simulate()\n",
    "rr.plot(figsize=(3,3))"
   ]
  },
  {
   "cell_type": "code",
   "execution_count": 5,
   "id": "5f0166cc-0c71-4937-b48b-af6e6c7df9c5",
   "metadata": {},
   "outputs": [
    {
     "ename": "ValueError",
     "evalue": "Invalid keyword arguments: {'input_names', 'output_names'}",
     "output_type": "error",
     "traceback": [
      "\u001b[0;31m---------------------------------------------------------------------------\u001b[0m",
      "\u001b[0;31mValueError\u001b[0m                                Traceback (most recent call last)",
      "Cell \u001b[0;32mIn[5], line 1\u001b[0m\n\u001b[0;32m----> 1\u001b[0m LINEAR_CTLSB \u001b[38;5;241m=\u001b[39m \u001b[43mctl\u001b[49m\u001b[38;5;241;43m.\u001b[39;49m\u001b[43mControlSBML\u001b[49m\u001b[43m(\u001b[49m\u001b[43mLINEAR_MODEL\u001b[49m\u001b[43m,\u001b[49m\u001b[43m \u001b[49m\u001b[43minput_names\u001b[49m\u001b[38;5;241;43m=\u001b[39;49m\u001b[43m[\u001b[49m\u001b[38;5;124;43m\"\u001b[39;49m\u001b[38;5;124;43mS1\u001b[39;49m\u001b[38;5;124;43m\"\u001b[39;49m\u001b[43m]\u001b[49m\u001b[43m,\u001b[49m\u001b[43m \u001b[49m\u001b[43moutput_names\u001b[49m\u001b[38;5;241;43m=\u001b[39;49m\u001b[43m[\u001b[49m\u001b[38;5;124;43m\"\u001b[39;49m\u001b[38;5;124;43mS3\u001b[39;49m\u001b[38;5;124;43m\"\u001b[39;49m\u001b[43m]\u001b[49m\u001b[43m)\u001b[49m\n",
      "File \u001b[0;32m~/home/Technical/repos/controlSBML/src/controlSBML/control_sbml.py:216\u001b[0m, in \u001b[0;36mControlSBML.__init__\u001b[0;34m(self, model_reference, roadrunner, input_name, output_name, is_fixed_input_species, is_steady_state, noise_spec, disturbance_spec, fitter_method, setpoint, sign, times, **kwargs)\u001b[0m\n\u001b[1;32m    149\u001b[0m \u001b[38;5;28;01mdef\u001b[39;00m \u001b[38;5;21m__init__\u001b[39m(\u001b[38;5;28mself\u001b[39m, model_reference:\u001b[38;5;28mstr\u001b[39m, \n\u001b[1;32m    150\u001b[0m              roadrunner\u001b[38;5;241m=\u001b[39m\u001b[38;5;28;01mNone\u001b[39;00m,\n\u001b[1;32m    151\u001b[0m              input_name:Optional[\u001b[38;5;28mstr\u001b[39m]\u001b[38;5;241m=\u001b[39m\u001b[38;5;28;01mNone\u001b[39;00m,\n\u001b[0;32m   (...)\u001b[0m\n\u001b[1;32m    160\u001b[0m              times:Optional[np\u001b[38;5;241m.\u001b[39mndarray]\u001b[38;5;241m=\u001b[39m\u001b[38;5;28;01mNone\u001b[39;00m,\n\u001b[1;32m    161\u001b[0m              \u001b[38;5;241m*\u001b[39m\u001b[38;5;241m*\u001b[39mkwargs):\n\u001b[1;32m    162\u001b[0m     \u001b[38;5;124;03m\"\"\"\u001b[39;00m\n\u001b[1;32m    163\u001b[0m \u001b[38;5;124;03m    model_reference: str\u001b[39;00m\n\u001b[1;32m    164\u001b[0m \u001b[38;5;124;03m        string, SBML file or Roadrunner object\u001b[39;00m\n\u001b[0;32m   (...)\u001b[0m\n\u001b[1;32m    214\u001b[0m \n\u001b[1;32m    215\u001b[0m \u001b[38;5;124;03m    \"\"\"\u001b[39;00m\n\u001b[0;32m--> 216\u001b[0m     \u001b[38;5;28;43mself\u001b[39;49m\u001b[38;5;241;43m.\u001b[39;49m\u001b[43m_checkKwargs\u001b[49m\u001b[43m(\u001b[49m\u001b[43mOPTION_KEYS\u001b[49m\u001b[43m,\u001b[49m\u001b[43m \u001b[49m\u001b[38;5;241;43m*\u001b[39;49m\u001b[38;5;241;43m*\u001b[39;49m\u001b[43mkwargs\u001b[49m\u001b[43m)\u001b[49m\n\u001b[1;32m    217\u001b[0m     \u001b[38;5;66;03m# Set initial values of all options\u001b[39;00m\n\u001b[1;32m    218\u001b[0m     \u001b[38;5;28;01mfor\u001b[39;00m key, value \u001b[38;5;129;01min\u001b[39;00m OPTION_DCT\u001b[38;5;241m.\u001b[39mitems():  \u001b[38;5;66;03m# type: ignore\u001b[39;00m\n",
      "File \u001b[0;32m~/home/Technical/repos/controlSBML/src/controlSBML/control_sbml.py:270\u001b[0m, in \u001b[0;36mControlSBML._checkKwargs\u001b[0;34m(self, valids, invalids, **kwargs)\u001b[0m\n\u001b[1;32m    268\u001b[0m not_valids \u001b[38;5;241m=\u001b[39m keys\u001b[38;5;241m.\u001b[39mdifference(\u001b[38;5;28mset\u001b[39m(valids))   \u001b[38;5;66;03m# type: ignore\u001b[39;00m\n\u001b[1;32m    269\u001b[0m \u001b[38;5;28;01mif\u001b[39;00m \u001b[38;5;28mlen\u001b[39m(not_valids) \u001b[38;5;241m>\u001b[39m \u001b[38;5;241m0\u001b[39m:\n\u001b[0;32m--> 270\u001b[0m     \u001b[38;5;28;01mraise\u001b[39;00m \u001b[38;5;167;01mValueError\u001b[39;00m(\u001b[38;5;124m\"\u001b[39m\u001b[38;5;124mInvalid keyword arguments: \u001b[39m\u001b[38;5;132;01m%s\u001b[39;00m\u001b[38;5;124m\"\u001b[39m \u001b[38;5;241m%\u001b[39m \u001b[38;5;28mstr\u001b[39m(not_valids))\n\u001b[1;32m    271\u001b[0m \u001b[38;5;28;01mif\u001b[39;00m invalids \u001b[38;5;129;01mis\u001b[39;00m \u001b[38;5;28;01mNone\u001b[39;00m:\n\u001b[1;32m    272\u001b[0m     \u001b[38;5;28;01mreturn\u001b[39;00m\n",
      "\u001b[0;31mValueError\u001b[0m: Invalid keyword arguments: {'input_names', 'output_names'}"
     ]
    }
   ],
   "source": [
    "LINEAR_CTLSB = ctl.ControlSBML(LINEAR_MODEL, input_names=[\"S1\"], output_names=[\"S3\"])"
   ]
  },
  {
   "cell_type": "markdown",
   "id": "1d6862a2-0b77-4872-9eb3-f7940f5266f5",
   "metadata": {},
   "source": [
    "### WOLF_MODEL"
   ]
  },
  {
   "cell_type": "code",
   "execution_count": null,
   "id": "eb24426f-618e-4b9d-b2e4-5068f59fb76d",
   "metadata": {},
   "outputs": [],
   "source": [
    "WOLF_URL = \"https://www.ebi.ac.uk/biomodels/model/download/BIOMD0000000206.2?filename=BIOMD0000000206_url.xml\"\n",
    "rr = te.loadSBMLModel(WOLF_URL)\n",
    "WOLF_MODEL = rr.getAntimony()\n",
    "WOLF_CTLSB = ctl.ControlSBML(WOLF_MODEL, input_names=[\"at_\"], output_names=[\"s5\"])\n",
    "print(WOLF_MODEL)"
   ]
  },
  {
   "cell_type": "code",
   "execution_count": null,
   "id": "b736c4fd-4131-4188-9d20-fffb16b15185",
   "metadata": {},
   "outputs": [],
   "source": [
    "rr = te.loada(WOLF_MODEL)\n",
    "rr.simulate()\n",
    "rr.plot()"
   ]
  },
  {
   "cell_type": "markdown",
   "id": "217b38a5-317f-4ee7-be32-cebe697e0ab0",
   "metadata": {},
   "source": [
    "### MTOR_MODEL"
   ]
  },
  {
   "cell_type": "code",
   "execution_count": null,
   "id": "3d43f9de-9de0-4721-85e7-c5184804efef",
   "metadata": {},
   "outputs": [],
   "source": [
    "MTOR_URL = \"https://www.ebi.ac.uk/biomodels/model/download/BIOMD0000000823.2?filename=Varusai2018.xml\"\n",
    "rr = te.loadSBMLModel(MTOR_URL)\n",
    "MTOR_MODEL = rr.getAntimony()\n",
    "MTOR_CTLSB = ctl.ControlSBML(MTOR_MODEL, input_names=[\"DEPTOR\"], output_names=[\"mTORC1\"])\n",
    "print(MTOR_MODEL)"
   ]
  },
  {
   "cell_type": "code",
   "execution_count": null,
   "id": "e217e15a-bba7-4635-9e08-0a46503f579c",
   "metadata": {},
   "outputs": [],
   "source": [
    "rr = te.loada(MTOR_MODEL)\n",
    "rr.simulate()\n",
    "rr.plot()"
   ]
  },
  {
   "cell_type": "markdown",
   "id": "46f54be2-6a13-4636-aa6f-965b55d2f1db",
   "metadata": {},
   "source": [
    "# Linear model transfer function"
   ]
  },
  {
   "cell_type": "markdown",
   "id": "087b9c78-3476-4b88-9aa4-209e2ee32323",
   "metadata": {},
   "source": [
    "In this section, we use LINEAR_MODEL to illustrate system identification.\n",
    "The work can be simplied by making use of the ``SISOTransferFunctionBuilder``\n",
    "object in ``ControlSBML``."
   ]
  },
  {
   "cell_type": "markdown",
   "id": "68563aa9-b01f-4adc-b6a2-a4fca9088abd",
   "metadata": {},
   "source": [
    "## Step 1. Determine the operating region"
   ]
  },
  {
   "cell_type": "markdown",
   "id": "2b033474-1db1-4fa1-8b76-cdbca96aa945",
   "metadata": {},
   "source": [
    "The operating region is the range of control inputs that should handled by the controller.\n",
    "We want to see how responsive the system is to the possible outputs from the controller.\n",
    "We assess the operating region by using a *staircase input*.\n",
    "This is a sequence of steps of the same height that have a duration that is sufficiently\n",
    "long so that the system stabilizes."
   ]
  },
  {
   "cell_type": "code",
   "execution_count": null,
   "id": "ce7147b7-0e7d-477d-aa56-399cf61a5a8d",
   "metadata": {},
   "outputs": [],
   "source": [
    "STAIRCASE = LINEAR_CTLSB.plotStaircaseResponse(times=np.linspace(0, 200, 2000))"
   ]
  },
  {
   "cell_type": "markdown",
   "id": "8f6dac7a-e90c-472b-88af-fd51700f512e",
   "metadata": {},
   "source": [
    "## Step 2. Find the transfer function"
   ]
  },
  {
   "cell_type": "markdown",
   "id": "440fd08c-19bb-41c3-ad97-4166f091b2f1",
   "metadata": {},
   "source": [
    "To fit a transfer function, we must specify the number of terms in the\n",
    "numerator and denominator polynomials for the transfer function."
   ]
  },
  {
   "cell_type": "code",
   "execution_count": null,
   "id": "99553a4a-2d46-40c7-9990-42292eabed0f",
   "metadata": {},
   "outputs": [],
   "source": [
    "?LINEAR_CTLSB.plotTransferFunctionFit"
   ]
  },
  {
   "cell_type": "code",
   "execution_count": null,
   "id": "22108159-4f84-4da1-bd9f-fffd55994983",
   "metadata": {},
   "outputs": [],
   "source": [
    "result = LINEAR_CTLSB.plotTransferFunctionFit(num_numerator=1, num_denominator=2, times=np.linspace(0, 200, 2000))"
   ]
  },
  {
   "cell_type": "code",
   "execution_count": null,
   "id": "bbb90fd8-29f7-4c19-ab3a-fe8dfdda20c3",
   "metadata": {},
   "outputs": [],
   "source": [
    "LINEAR_TF = 0.05/(.11*s + 0.05)"
   ]
  },
  {
   "cell_type": "code",
   "execution_count": null,
   "id": "1444db13-9abb-44a3-aa32-2ea61b9b7c53",
   "metadata": {},
   "outputs": [],
   "source": [
    "LINEAR_TF.poles()"
   ]
  },
  {
   "cell_type": "code",
   "execution_count": null,
   "id": "d42f0a3a-68a5-4021-96db-651f651a0f3c",
   "metadata": {},
   "outputs": [],
   "source": [
    "LINEAR_TF.dcgain()"
   ]
  },
  {
   "cell_type": "markdown",
   "id": "d1f6399f-39c7-4e08-91ab-912fd25ed175",
   "metadata": {},
   "source": [
    "#  Wolf Transfer Function"
   ]
  },
  {
   "cell_type": "code",
   "execution_count": null,
   "id": "0a340592-f335-4b33-950e-a38e13cfbdc8",
   "metadata": {},
   "outputs": [],
   "source": [
    "WOLF_CTLSB = ctl.ControlSBML(WOLF_MODEL, input_names=[\"s1\"], output_names=[\"s5\"])"
   ]
  },
  {
   "cell_type": "markdown",
   "id": "6237038f-87a8-459a-9c29-d0a609bf7f6c",
   "metadata": {},
   "source": [
    "## Determine the operating region"
   ]
  },
  {
   "cell_type": "code",
   "execution_count": null,
   "id": "3f17209d-3cf3-4acf-8c33-f7bb144aff6e",
   "metadata": {},
   "outputs": [],
   "source": [
    "_ = WOLF_CTLSB.plotStaircaseResponse(times=np.linspace(0, 30, 300), initial_value=10, final_value=50)"
   ]
  },
  {
   "cell_type": "markdown",
   "id": "d4d32182-4b37-46ed-9443-a79796cbee42",
   "metadata": {},
   "source": [
    "## Find the transfer function"
   ]
  },
  {
   "cell_type": "code",
   "execution_count": null,
   "id": "ba78a553-bee8-4ac4-96a3-a51c3e648175",
   "metadata": {},
   "outputs": [],
   "source": [
    "_ = WOLF_CTLSB.plotTransferFunctionFit(times=np.linspace(0, 30, 300), initial_value=10, final_value=50,\n",
    "                                      fit_start_time=5)"
   ]
  },
  {
   "cell_type": "code",
   "execution_count": null,
   "id": "cdbee435-2684-43e7-9584-094c4b746baa",
   "metadata": {},
   "outputs": [],
   "source": [
    "_ = WOLF_CTLSB.plotTransferFunctionFit(num_numerator=4, num_denominator=5, times=np.linspace(0, 30, 300),\n",
    "                                       fit_start_time=5, initial_value=10, final_value=50, ylim=[0, 50])"
   ]
  },
  {
   "cell_type": "code",
   "execution_count": null,
   "id": "b7529e0f-f848-4122-bf9d-507d82209057",
   "metadata": {},
   "outputs": [],
   "source": [
    "WOLF_TF = (-9.1*s**3 - 4.06*s**2 -3.59*s - 9.19)/(-7.88*s**4 - 8.61*s**3 - 8.87*s**2 - 7.89*s - 8.58)\n",
    "WOLF_TF.poles()"
   ]
  },
  {
   "cell_type": "markdown",
   "id": "3a53660c-ed76-4cad-9a13-bb31d34b696b",
   "metadata": {},
   "source": [
    "# mTOR transfer function"
   ]
  },
  {
   "cell_type": "code",
   "execution_count": null,
   "id": "519dde16-82ab-4421-86f4-531d35a0b079",
   "metadata": {},
   "outputs": [],
   "source": [
    "MTOR_CTLSB = ctl.ControlSBML(MTOR_MODEL, input_names=[\"V1\"], output_names=[\"pmTORC1\", \"pmTORC2\"])"
   ]
  }
 ],
 "metadata": {
  "kernelspec": {
   "display_name": "Python 3 (ipykernel)",
   "language": "python",
   "name": "python3"
  },
  "language_info": {
   "codemirror_mode": {
    "name": "ipython",
    "version": 3
   },
   "file_extension": ".py",
   "mimetype": "text/x-python",
   "name": "python",
   "nbconvert_exporter": "python",
   "pygments_lexer": "ipython3",
   "version": "3.9.6"
  },
  "toc-autonumbering": false
 },
 "nbformat": 4,
 "nbformat_minor": 5
}
