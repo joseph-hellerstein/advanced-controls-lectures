{
 "cells": [
  {
   "cell_type": "markdown",
   "id": "4691a5bc-ce0f-47cd-bc2b-661dbec6eb23",
   "metadata": {},
   "source": [
    "# USING LAPLACE TRANSFORMS (LTs) TO SOLVE CHEMICAL REACTION NETWORKS"
   ]
  },
  {
   "cell_type": "markdown",
   "id": "9bd9d0fb-5396-4238-9c71-920561362bd8",
   "metadata": {},
   "source": [
    "This notebook demonstrates how Laplace transforms and transfer functions can be derived directly from a chemical model.\n",
    "\n",
    "What we present is *not* a general technique. It only works if the underlying network can be represented by a system of linear differential equations. In practice this means that: (a) all reactions have a single reactant and (b) the kinetics are masss action.\n",
    "\n",
    "We use the following notation:\n",
    "* $s$: Laplace transform variable\n",
    "* $G(s)$: Transfer function\n",
    "* $S_n$: $n$-th chemical species\n",
    "* $x_n (t), ~ x_n$: Concentration of $S_n$ at time $t$\n",
    "* $\\dot{x}_n (t), ~ \\dot{x}_n$: First derivative of $x(t)$\n",
    "* $X_n(s)$: Laplace Transform of the concentration of $S_n$\n",
    "\n",
    "Reactions are described by arrows. The annotation above the arrow is the reaction rate. (Previously, we had assumed mass action kinetics and so just used the kinetic constants.) For example, $S_1$ is converted to $S_2$ at a rate $kx_1$ (where $x_1$ is the concentration of $S_1$ at time $t$) is denoted by $S_1 \\xrightarrow{kx_1} S_2$."
   ]
  },
  {
   "cell_type": "markdown",
   "id": "04ed51a7-2022-4431-a0c7-cc4f1800ec03",
   "metadata": {},
   "source": [
    "# Preliminaries"
   ]
  },
  {
   "cell_type": "code",
   "execution_count": 1,
   "id": "58ab8a63-4141-4f4f-ba8a-686a3914656e",
   "metadata": {},
   "outputs": [],
   "source": [
    "import control\n",
    "import numpy as np\n",
    "import matplotlib.pyplot as plt\n",
    "import sympy\n",
    "import tellurium as te"
   ]
  },
  {
   "cell_type": "markdown",
   "id": "0fb27498-d01e-4e2d-aab8-458a68eea6b2",
   "metadata": {},
   "source": [
    "# Helpers"
   ]
  },
  {
   "cell_type": "code",
   "execution_count": 2,
   "id": "6aaeafde-ae1a-47cd-9b72-1b9cf2f331cc",
   "metadata": {},
   "outputs": [],
   "source": [
    "class PlotResult(object):\n",
    "\n",
    "    def __init__(self, times=None, yt=None, ax=None):\n",
    "        self.times = times\n",
    "        self.yt = yt\n",
    "        self.ax = ax\n",
    "        \n",
    "    def __repr__(self):\n",
    "        return \"\""
   ]
  },
  {
   "cell_type": "code",
   "execution_count": 3,
   "id": "72b73d6b-b02c-4bb7-8faf-fb8e75e5312b",
   "metadata": {},
   "outputs": [
    {
     "name": "stdout",
     "output_type": "stream",
     "text": [
      "OK!\n"
     ]
    }
   ],
   "source": [
    "def plotTF(tf, times=None, is_plot=True, figsize=(5,5)):\n",
    "    if times is None:\n",
    "        times = np.linspace(0, 10, 100)\n",
    "    _, yt = control.forced_response(tf, T=times, U=1)\n",
    "    if is_plot:\n",
    "        _, ax = plt.subplots(1, figsize=figsize)\n",
    "        ax.plot(times, yt)\n",
    "        ax.set_xlabel(\"time\")\n",
    "    else:\n",
    "        ax = None\n",
    "    return PlotResult(times=times, yt=yt, ax=ax)\n",
    "\n",
    "# Tests\n",
    "tf = control.TransferFunction([1], [1, 0])\n",
    "plot_result = plotTF(tf, is_plot=False)\n",
    "assert(isinstance(plot_result, PlotResult))\n",
    "print(\"OK!\")"
   ]
  },
  {
   "cell_type": "markdown",
   "id": "713e2b3a-f70d-4ef8-a198-c47556f1dbad",
   "metadata": {},
   "source": [
    "# Model 1: A very simple reaction network"
   ]
  },
  {
   "cell_type": "markdown",
   "id": "d6f2474b-efd0-4f78-a836-8487870daa55",
   "metadata": {},
   "source": [
    "Consider the one step sequential pathway with mass action kinetics\n",
    "\\begin{eqnarray}\n",
    "S_1 & \\xrightarrow{k_1 x_1} & S_2 \\\\\n",
    "S_2 & \\xrightarrow{k_2 x_2} & \\emptyset \\\\\n",
    "\\end{eqnarray}\n",
    "\n",
    "We want to control $s_2$ by manipulating $S_1$.\n",
    "We will manipulate $s_1$ by controlling its concentration in solution.\n",
    "\n",
    "We want the transfer function $G(s) = \\frac{X_2(s)}{X_1(s)}$."
   ]
  },
  {
   "cell_type": "markdown",
   "id": "8b4eaba0-e284-4e7d-9bb2-80ed002bb766",
   "metadata": {
    "tags": []
   },
   "source": [
    "## 1. System equations"
   ]
  },
  {
   "cell_type": "markdown",
   "id": "42fd628a-e26c-4d69-bcd5-8ed31749ecd9",
   "metadata": {},
   "source": [
    "So, the state equations are:\n",
    "* $\\dot{x}_1 = -k_1 x_1$\n",
    "* $\\dot{x}_2 = k_1 x_1 - k_2 x_2$"
   ]
  },
  {
   "cell_type": "markdown",
   "id": "c26e476b-218c-4d0b-b319-0fb88eb77622",
   "metadata": {},
   "source": [
    "## 2. LT of system equations"
   ]
  },
  {
   "cell_type": "markdown",
   "id": "74c8d9b7-8771-4309-a50d-882125221374",
   "metadata": {},
   "source": [
    "Going from the state equations to Laplace Transforms is very mechanical. Replace $\\dot{x}$ with $s X(s)$, and replace $x$ with $X(s)$.\n",
    "\n",
    "\\begin{eqnarray}\n",
    "s X_1 (s) & = &  -k_1 X_1 (s)\\\\\n",
    "s X_2 & = & k_1 X_1 (s) - k_2 X_2 (s)\\\\\n",
    "\\end{eqnarray}"
   ]
  },
  {
   "cell_type": "markdown",
   "id": "8c7e87bb-b656-4d69-8118-f3678fb22abe",
   "metadata": {},
   "source": [
    "## 3. Solve for transfer function"
   ]
  },
  {
   "cell_type": "markdown",
   "id": "01715607-b157-4358-915f-9c29ebd5f48d",
   "metadata": {},
   "source": [
    "$G(s) = \\frac{X_2(s)}{X_1(s)}$. This is calculated directly\n",
    "from the second system equation.\n",
    "\n",
    "$G(s) = \\frac{X_2 (s)}{X_1 (s)} = \\frac{k_1}{s + k_2}$"
   ]
  },
  {
   "cell_type": "markdown",
   "id": "b893ca56-9de5-43a7-8ce5-c9f95a8d9e53",
   "metadata": {
    "tags": []
   },
   "source": [
    "## 4. Predict step response from TF"
   ]
  },
  {
   "cell_type": "markdown",
   "id": "cdeb5047-36f7-4504-b664-35d033858865",
   "metadata": {},
   "source": [
    "### 4a. Construct transfer function"
   ]
  },
  {
   "cell_type": "markdown",
   "id": "2956d028-26cc-487e-81c8-063c9e2ff34c",
   "metadata": {},
   "source": [
    "The function ``control.TransferFunction`` provides a way to construct transfer functions and calculate with them.\n",
    "\n",
    "A transfer function represented by a numerator polynomial in $s$ and a denominator polynomial in $s$.\n",
    "A polynomial in $s$ is a list of floats.\n",
    "The last element of the list is the coefficient for $s^0$;\n",
    "element last - 1 is the coefficient for $s^1$; and so on.\n",
    "\n",
    "For example, [1, 2, 3] represents the polynomial $s^2 + 2 s + 3$."
   ]
  },
  {
   "cell_type": "code",
   "execution_count": 4,
   "id": "9cee29f8-db59-4d14-a42a-9556da10db2b",
   "metadata": {},
   "outputs": [
    {
     "data": {
      "text/latex": [
       "$$\\frac{1}{s + 2}$$"
      ],
      "text/plain": [
       "TransferFunction(array([1]), array([1, 2]))"
      ]
     },
     "execution_count": 4,
     "metadata": {},
     "output_type": "execute_result"
    }
   ],
   "source": [
    "# Construct the transfer function for G(s) at k1=1\n",
    "k1 = 1; k2 =2\n",
    "G_tf = control.TransferFunction([k1], [1, k2])\n",
    "G_tf"
   ]
  },
  {
   "cell_type": "markdown",
   "id": "293f530a-5477-4a9a-bb22-e0642c41a8a3",
   "metadata": {},
   "source": [
    "Now try a more complicated transfer function.\n",
    "\n",
    "$G(s) = \\frac{2s +4}{3s^3 + 1}$"
   ]
  },
  {
   "cell_type": "code",
   "execution_count": 5,
   "id": "f7bfcc63-c73f-4621-9c65-d03874a37cc9",
   "metadata": {},
   "outputs": [
    {
     "data": {
      "text/latex": [
       "$$\\frac{2 s + 4}{3 s^3 + 1}$$"
      ],
      "text/plain": [
       "TransferFunction(array([2, 4]), array([3, 0, 0, 1]))"
      ]
     },
     "execution_count": 5,
     "metadata": {},
     "output_type": "execute_result"
    }
   ],
   "source": [
    "tf = control.TransferFunction([2, 4], [3, 0, 0, 1])\n",
    "tf"
   ]
  },
  {
   "cell_type": "code",
   "execution_count": 6,
   "id": "12fc53f0-4192-495f-9c14-147c20f0d930",
   "metadata": {},
   "outputs": [
    {
     "data": {
      "text/plain": [
       "array([-0.69336127+0.j        ,  0.34668064+0.60046848j,\n",
       "        0.34668064-0.60046848j])"
      ]
     },
     "execution_count": 6,
     "metadata": {},
     "output_type": "execute_result"
    }
   ],
   "source": [
    "# The controls package calculates poles of transfer functions\n",
    "tf.poles()"
   ]
  },
  {
   "cell_type": "code",
   "execution_count": 7,
   "id": "1d493518-e446-4ebd-90e5-2e5289c6f3de",
   "metadata": {},
   "outputs": [
    {
     "data": {
      "text/plain": [
       "4.0"
      ]
     },
     "execution_count": 7,
     "metadata": {},
     "output_type": "execute_result"
    }
   ],
   "source": [
    "# The controls package also calculates DC Gain\n",
    "tf.dcgain()"
   ]
  },
  {
   "cell_type": "markdown",
   "id": "52a82227-5c0b-435d-958b-db69c8dd64d5",
   "metadata": {},
   "source": [
    "### 4b. Predict step response"
   ]
  },
  {
   "cell_type": "code",
   "execution_count": 8,
   "id": "83ab8620-3c27-456d-9d82-c32de4ad84b1",
   "metadata": {},
   "outputs": [
    {
     "data": {
      "text/plain": [
       "Text(0.5, 0, 'time')"
      ]
     },
     "execution_count": 8,
     "metadata": {},
     "output_type": "execute_result"
    },
    {
     "data": {
      "image/png": "[encoded data removed]",
      "text/plain": [
       "<Figure size 640x480 with 1 Axes>"
      ]
     },
     "metadata": {},
     "output_type": "display_data"
    }
   ],
   "source": [
    "# Use control.forced_response\n",
    "times = np.linspace(0, 10, 100)\n",
    "_, yt = control.step_response(G_tf, T=times)\n",
    "plt.plot(times, yt)\n",
    "plt.xlabel(\"time\")"
   ]
  },
  {
   "cell_type": "code",
   "execution_count": 9,
   "id": "527d9755-c30b-4cc6-9f7e-54b6478babe1",
   "metadata": {},
   "outputs": [
    {
     "data": {
      "text/plain": []
     },
     "execution_count": 9,
     "metadata": {},
     "output_type": "execute_result"
    },
    {
     "data": {
      "image/png": "[encoded data removed]",
      "text/plain": [
       "<Figure size 300x300 with 1 Axes>"
      ]
     },
     "metadata": {},
     "output_type": "display_data"
    }
   ],
   "source": [
    "# We can wrap the foregoing into a function\n",
    "plotTF(G_tf, figsize=(3,3))"
   ]
  },
  {
   "cell_type": "markdown",
   "id": "04a90e3e-1886-4f8b-8506-cb8444e5b5b9",
   "metadata": {},
   "source": [
    "## 5. Simulate the Antimony model"
   ]
  },
  {
   "cell_type": "code",
   "execution_count": 10,
   "id": "eeae91c6-cfa1-4bc5-bf41-276cfb73232d",
   "metadata": {},
   "outputs": [
    {
     "data": {
      "image/png": "[encoded data removed]",
      "text/plain": [
       "<Figure size 300x300 with 1 Axes>"
      ]
     },
     "metadata": {},
     "output_type": "display_data"
    }
   ],
   "source": [
    "model = \"\"\"\n",
    "$S1 -> S2; k1*S1\n",
    "S2 -> ; k2*S2\n",
    "\n",
    "S1 = 1\n",
    "S2 = 0\n",
    "k1 = 1\n",
    "k2 = 2\n",
    "\"\"\"\n",
    "rr = te.loada(model)\n",
    "rr.simulate(0, 10, 100)\n",
    "rr.plot(figsize=(3,3))"
   ]
  },
  {
   "cell_type": "markdown",
   "id": "be69d160-6882-4f96-8e88-3e661b9376ff",
   "metadata": {},
   "source": [
    "## 6: Analyze"
   ]
  },
  {
   "cell_type": "markdown",
   "id": "d1c19c6f-b759-435b-86c9-dae1b70f8707",
   "metadata": {},
   "source": [
    "The results look identical."
   ]
  },
  {
   "cell_type": "markdown",
   "id": "006ee365-0c6d-46b6-9ddf-2fad9747c0fe",
   "metadata": {},
   "source": [
    "# Model 2: A more elaborate network"
   ]
  },
  {
   "cell_type": "markdown",
   "id": "44955f05-0c28-488c-8e48-de19a20046ae",
   "metadata": {},
   "source": [
    "Consider the following model:\n",
    "\\begin{eqnarray}\n",
    "S_1 & \\xrightarrow{k_1 x_1} & S_2 \\\\\n",
    "S_2 & \\xrightarrow{k_2 x_2} & S_3 \\\\\n",
    "S_3 & \\xrightarrow{k_3 x_3} & \\emptyset \\\\\n",
    "\\end{eqnarray}\n",
    "\n",
    "Find the transfer function $G(s) = \\frac{X_3 (s)}{X_1 (s)}$."
   ]
  },
  {
   "cell_type": "markdown",
   "id": "a23dc49d-6f40-4d2f-b4dd-84ce12078fa7",
   "metadata": {},
   "source": [
    "## 1. System equations"
   ]
  },
  {
   "cell_type": "markdown",
   "id": "1a8d59c5-dd91-4648-9b98-5e708d00744e",
   "metadata": {},
   "source": [
    "\\begin{eqnarray}\n",
    "\\dot{x}_1 & = &  -k_1 x_1 \\\\\n",
    "\\dot{x}_2 & = & k_1 x_1 - k_2 x_2\\\\\n",
    "\\dot{x}_3 & = & k_2 x_2 - k_3 x_3 \\\\\n",
    "\\end{eqnarray}"
   ]
  },
  {
   "cell_type": "markdown",
   "id": "e0a9f0fb-6c50-4bf7-91e1-3ea6ef8268f4",
   "metadata": {},
   "source": [
    "## 2. LT of system equations"
   ]
  },
  {
   "cell_type": "markdown",
   "id": "12af5d1d-d9aa-44f2-bfff-8078691b6299",
   "metadata": {},
   "source": [
    "\\begin{eqnarray}\n",
    "s X_1 (s) & = &  -k_1 X_1 (s) \\\\\n",
    "s X_2 (s) & = & k_1 X_1 (s) - k_2 X_2 (s) \\\\\n",
    "s X_3 (s) & = & k_2 X_2 (s) - k_3 X_3 (s) \\\\\n",
    "\\end{eqnarray}"
   ]
  },
  {
   "cell_type": "markdown",
   "id": "b9e8d27e-60b4-407d-9c40-1c079f259365",
   "metadata": {},
   "source": [
    "## 3. Solve for the LT"
   ]
  },
  {
   "cell_type": "markdown",
   "id": "7a4a428a-b4a6-4f15-8942-62f6904af23d",
   "metadata": {},
   "source": [
    "Solve backwards from $X_3 (s)$\n",
    "\n",
    "\\begin{eqnarray}\n",
    "X_3(s) & = &  \\frac{k_2 X_2(s)}{s + k_3} \\\\\n",
    "X_2(s) & = &  \\frac{k_1 X_1(s)}{s + k_2} \\\\\n",
    "\\end{eqnarray}\n",
    "\n",
    "Substituting\n",
    "\\begin{eqnarray}\n",
    "X_3(s) & = &  \\frac{k_2 \\frac{k_1 X_1(s)}{s + k_2}}{s + k_3} \\\\\n",
    "& = & \\frac{k_2 k_1 X_1(s)}{(s + k_3)(s + k_2)} \\\\\n",
    "G(s) & = & \\frac{X_3(s)}{X_1(s)} \\\\\n",
    "& = & \\frac{k_2 k_1 }{(s + k_3)(s + k_2)} \\\\\n",
    "\\end{eqnarray}"
   ]
  },
  {
   "cell_type": "markdown",
   "id": "49722d99-996d-41ef-b24f-f22e04d49e4b",
   "metadata": {},
   "source": [
    "## 3a. Interpret $G(s)$"
   ]
  },
  {
   "cell_type": "markdown",
   "id": "d2a77436-9dfd-4c6f-9adc-26c7b73f4356",
   "metadata": {},
   "source": [
    "* The poles are $k_2, k_3$. Why?\n",
    "* The system is always stable. Why?\n",
    "* The DC Gain is $\\frac{k_1}{k_3}$ Why?"
   ]
  },
  {
   "cell_type": "markdown",
   "id": "52b4ef97-f8e4-4583-83e7-d3b944e232a0",
   "metadata": {},
   "source": [
    "## 4. Predict step response from TF"
   ]
  },
  {
   "cell_type": "code",
   "execution_count": 11,
   "id": "eddd3a44-c709-458d-9a0c-e4800c241155",
   "metadata": {},
   "outputs": [
    {
     "data": {
      "text/latex": [
       "$$\\frac{2}{s^2 + 5 s + 6}$$"
      ],
      "text/plain": [
       "TransferFunction(array([2]), array([1, 5, 6]))"
      ]
     },
     "execution_count": 11,
     "metadata": {},
     "output_type": "execute_result"
    }
   ],
   "source": [
    "# Construct the transfer function for G(s) at k1=1\n",
    "k1, k2, k3 = 1, 2, 3\n",
    "G_tf = control.TransferFunction([k2*k1], [1, k2+k3, k2*k3])\n",
    "G_tf"
   ]
  },
  {
   "cell_type": "code",
   "execution_count": 12,
   "id": "297ba65b-0d54-4cc3-983f-4f9c8b05cec5",
   "metadata": {},
   "outputs": [
    {
     "data": {
      "text/plain": [
       "(0.3333333333333333, array([-3.+0.j, -2.+0.j]))"
      ]
     },
     "execution_count": 12,
     "metadata": {},
     "output_type": "execute_result"
    }
   ],
   "source": [
    "G_tf.dcgain(), G_tf.poles()"
   ]
  },
  {
   "cell_type": "code",
   "execution_count": 13,
   "id": "4542c831-cfdc-4b75-9c98-fb60a297bf63",
   "metadata": {},
   "outputs": [
    {
     "data": {
      "text/plain": []
     },
     "execution_count": 13,
     "metadata": {},
     "output_type": "execute_result"
    },
    {
     "data": {
      "image/png": "[encoded data removed]",
      "text/plain": [
       "<Figure size 300x300 with 1 Axes>"
      ]
     },
     "metadata": {},
     "output_type": "display_data"
    }
   ],
   "source": [
    "plotTF(G_tf, figsize=(3,3))"
   ]
  },
  {
   "cell_type": "markdown",
   "id": "1a5a5b27-1baa-45ca-b07a-7c9b26497605",
   "metadata": {},
   "source": [
    "## 5. Simulate the Antimony Model"
   ]
  },
  {
   "cell_type": "code",
   "execution_count": 14,
   "id": "15733bf0-3ea4-4a35-a41d-599b7cdac6e5",
   "metadata": {},
   "outputs": [
    {
     "data": {
      "image/png": "[encoded data removed]",
      "text/plain": [
       "<Figure size 600x400 with 1 Axes>"
      ]
     },
     "metadata": {},
     "output_type": "display_data"
    }
   ],
   "source": [
    "# Model for a unit step response\n",
    "model = \"\"\"\n",
    "S1 -> S2; k1*S1\n",
    "S2 -> S3; k2*S2\n",
    "S3 -> ; k3*S3\n",
    "\n",
    "$S1 = 1\n",
    "S2 = 0\n",
    "S3 = 0\n",
    "k1 = 1\n",
    "k2 = 2\n",
    "k3 = 3\n",
    "\"\"\"\n",
    "rr = te.loada(model)\n",
    "rr.simulate(0, 10, 100, selections=['time', 'S3'])\n",
    "rr.plot()"
   ]
  },
  {
   "cell_type": "markdown",
   "id": "bcf7da8e-069a-496e-8758-1b8b9df395ea",
   "metadata": {},
   "source": [
    "## 6. Analyze"
   ]
  },
  {
   "cell_type": "markdown",
   "id": "89734cc2-a75d-4b81-a92d-bcbacf72158f",
   "metadata": {},
   "source": [
    "The actual results match the predicted results, including DC Gain."
   ]
  },
  {
   "cell_type": "markdown",
   "id": "f01a7078-c4a4-43dc-ac77-01d3cb7531e2",
   "metadata": {},
   "source": [
    "# Exercise: Fork-Join"
   ]
  },
  {
   "cell_type": "markdown",
   "id": "e37eb422-6375-42f6-b755-e7397fa8cbb5",
   "metadata": {},
   "source": [
    "Consider the following network. Find its transfer function and compare with an Antimony simulation."
   ]
  },
  {
   "cell_type": "markdown",
   "id": "7de67dd8-f18a-4fef-8a76-65348dce55a5",
   "metadata": {},
   "source": [
    "\\begin{eqnarray}\n",
    "S_1 & \\xrightarrow{k_{12} x_1} & S_2 \\\\\n",
    "S_1 & \\xrightarrow{k_{13} x_1} & S_3 \\\\\n",
    "S_2 & \\xrightarrow{k_2 x_2} & S_4 \\\\\n",
    "S_3 & \\xrightarrow{k_3 x_3} & S_4 \\\\\n",
    "S_4 & \\xrightarrow{k_4 x_4} & \\emptyset \\\\\n",
    "\\end{eqnarray}\n",
    "Find $G(s) = \\frac{X_4(s)}{X_1(s)}$"
   ]
  },
  {
   "cell_type": "markdown",
   "id": "2ebe7d27-0ad3-4bb6-9781-3c95acb5b5ab",
   "metadata": {},
   "source": [
    "## System equations"
   ]
  },
  {
   "cell_type": "markdown",
   "id": "5f72e52f-4f41-451f-8c98-21672dd2b110",
   "metadata": {},
   "source": [
    "## LT of system equations"
   ]
  },
  {
   "cell_type": "markdown",
   "id": "bad73ce4-8044-4b1d-848b-124417178d16",
   "metadata": {},
   "source": [
    "## Solve for transfer function & simulate a step response"
   ]
  },
  {
   "cell_type": "markdown",
   "id": "ee532a43-5bd8-489a-be19-ac6eb0ec70a6",
   "metadata": {},
   "source": [
    "## Do an Antimony stimulation of a step response"
   ]
  },
  {
   "cell_type": "markdown",
   "id": "05ef31f4-7964-4fe3-b78c-0d76980f6910",
   "metadata": {},
   "source": [
    "## Evaluate the result"
   ]
  }
 ],
 "metadata": {
  "kernelspec": {
   "display_name": "Python 3 (ipykernel)",
   "language": "python",
   "name": "python3"
  },
  "language_info": {
   "codemirror_mode": {
    "name": "ipython",
    "version": 3
   },
   "file_extension": ".py",
   "mimetype": "text/x-python",
   "name": "python",
   "nbconvert_exporter": "python",
   "pygments_lexer": "ipython3",
   "version": "3.9.6"
  },
  "toc-autonumbering": false,
  "toc-showcode": false,
  "toc-showtags": true
 },
 "nbformat": 4,
 "nbformat_minor": 5
}
