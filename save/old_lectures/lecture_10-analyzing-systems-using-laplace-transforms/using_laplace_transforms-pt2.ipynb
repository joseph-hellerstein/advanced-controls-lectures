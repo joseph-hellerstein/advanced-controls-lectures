{
 "cells": [
  {
   "cell_type": "markdown",
   "id": "4691a5bc-ce0f-47cd-bc2b-661dbec6eb23",
   "metadata": {},
   "source": [
    "# USING LAPLACE TRANSFORMS (LTs) - Part 2"
   ]
  },
  {
   "cell_type": "markdown",
   "id": "9bd9d0fb-5396-4238-9c71-920561362bd8",
   "metadata": {},
   "source": [
    "This notebook demonstrates how Laplace transforms and transfer functions can be derived directly from a chemical model.\n",
    "\n",
    "What we present is *not* a general technique. It only works if the underlying network can be represented by a system of linear differential equations. In practice this means that: (a) all reactions have a single reactant and (b) the kinetics are masss action.\n",
    "\n",
    "We use the following notation:\n",
    "* $s$: Laplace transform variable\n",
    "* $G(s)$: Transfer function\n",
    "* $S_n$: $n$-th chemical species\n",
    "* $x_n (t), ~ x_n$: Concentration of $S_n$ at time $t$\n",
    "* $\\dot{x}_n (t), ~ \\dot{x}_n$: First derivative of $x(t)$\n",
    "* $X_n(s)$: Laplace Transform of the concentration of $S_n$\n",
    "\n",
    "Reactions are described by arrows. The annotation above the arrow is the reaction rate. (Previously, we had assumed mass action kinetics and so just used the kinetic constants.) For example, $S_1$ is converted to $S_2$ at a rate $kx_1$ (where $x_1$ is the concentration of $S_1$ at time $t$) is denoted by $S_1 \\xrightarrow{kx_1} S_2$."
   ]
  },
  {
   "cell_type": "markdown",
   "id": "6ac54504-d6fb-46f7-b798-54d58aba41e7",
   "metadata": {},
   "source": [
    "This section introduces some more advanced analysis and the use of symbolic algebra."
   ]
  },
  {
   "cell_type": "markdown",
   "id": "04ed51a7-2022-4431-a0c7-cc4f1800ec03",
   "metadata": {},
   "source": [
    "# Preliminaries"
   ]
  },
  {
   "cell_type": "code",
   "execution_count": 1,
   "id": "58ab8a63-4141-4f4f-ba8a-686a3914656e",
   "metadata": {},
   "outputs": [],
   "source": [
    "import control\n",
    "import numpy as np\n",
    "import matplotlib.pyplot as plt\n",
    "import sympy\n",
    "import tellurium as te"
   ]
  },
  {
   "cell_type": "markdown",
   "id": "0fb27498-d01e-4e2d-aab8-458a68eea6b2",
   "metadata": {},
   "source": [
    "# Helpers"
   ]
  },
  {
   "cell_type": "code",
   "execution_count": 2,
   "id": "6aaeafde-ae1a-47cd-9b72-1b9cf2f331cc",
   "metadata": {},
   "outputs": [],
   "source": [
    "class PlotResult(object):\n",
    "\n",
    "    def __init__(self, times=None, yt=None, ax=None):\n",
    "        self.times = times\n",
    "        self.yt = yt\n",
    "        self.ax = ax\n",
    "        \n",
    "    def __repr__(self):\n",
    "        return \"\""
   ]
  },
  {
   "cell_type": "code",
   "execution_count": 3,
   "id": "72b73d6b-b02c-4bb7-8faf-fb8e75e5312b",
   "metadata": {},
   "outputs": [
    {
     "name": "stdout",
     "output_type": "stream",
     "text": [
      "OK!\n"
     ]
    }
   ],
   "source": [
    "def plotTF(tf, times=None, is_plot=True, figsize=(5,5)):\n",
    "    if times is None:\n",
    "        times = np.linspace(0, 10, 100)\n",
    "    _, yt = control.forced_response(tf, T=times, U=1)\n",
    "    if is_plot:\n",
    "        _, ax = plt.subplots(1, figsize=figsize)\n",
    "        ax.plot(times, yt)\n",
    "        ax.set_xlabel(\"time\")\n",
    "    else:\n",
    "        ax = None\n",
    "    return PlotResult(times=times, yt=yt, ax=ax)\n",
    "\n",
    "# Tests\n",
    "tf = control.TransferFunction([1], [1, 0])\n",
    "plot_result = plotTF(tf, is_plot=False)\n",
    "assert(isinstance(plot_result, PlotResult))\n",
    "print(\"OK!\")"
   ]
  },
  {
   "cell_type": "markdown",
   "id": "9611383c-a466-46b4-909a-d495d656494b",
   "metadata": {},
   "source": [
    "# Model 2 With Initial Conditions"
   ]
  },
  {
   "cell_type": "markdown",
   "id": "2ee3d2d1-f0d6-464a-b064-9dc8380cd521",
   "metadata": {},
   "source": [
    "We add an initial condition to the system input, $S_1$. Let $x_1(0)$ be 10.\n",
    "This doesn't change the system equations or the Laplace transform. But it does\n",
    "change the evaluation of the system."
   ]
  },
  {
   "cell_type": "code",
   "execution_count": 4,
   "id": "017d8891-6ae4-4457-be98-febc0578cb65",
   "metadata": {},
   "outputs": [
    {
     "data": {
      "text/latex": [
       "$$\\frac{2}{s^2 + 5 s + 6}$$"
      ],
      "text/plain": [
       "TransferFunction(array([2]), array([1, 5, 6]))"
      ]
     },
     "execution_count": 4,
     "metadata": {},
     "output_type": "execute_result"
    }
   ],
   "source": [
    "# Construct the transfer function for G(s) at k1=1\n",
    "k1, k2, k3 = 1, 2, 3\n",
    "G_tf = control.TransferFunction([k2*k1], [1, k2+k3, k2*k3])\n",
    "G_tf"
   ]
  },
  {
   "cell_type": "markdown",
   "id": "a7dd554f-3052-4595-8f3a-e286678e33bf",
   "metadata": {
    "tags": []
   },
   "source": [
    "## Predicting the response to initial conditions"
   ]
  },
  {
   "cell_type": "markdown",
   "id": "9e8f497d-02c5-481f-ae7a-a01eb2fb9d01",
   "metadata": {},
   "source": [
    "The key consideration is to add initial conditions to the step response."
   ]
  },
  {
   "cell_type": "code",
   "execution_count": 5,
   "id": "8be493e4-fdcc-48ce-8615-0763fc52090c",
   "metadata": {},
   "outputs": [
    {
     "name": "stdout",
     "output_type": "stream",
     "text": [
      "\n",
      "      2\n",
      "-------------\n",
      "s^2 + 5 s + 6\n",
      "\n"
     ]
    }
   ],
   "source": [
    "print(G_tf)"
   ]
  },
  {
   "cell_type": "code",
   "execution_count": 39,
   "id": "3a8f52f0-6a19-48a8-98f5-9ada651a8bb7",
   "metadata": {},
   "outputs": [
    {
     "data": {
      "text/latex": [
       "$$\n",
       "\\left(\\begin{array}{rllrll|rll}\n",
       "-5\\phantom{.}&\\hspace{-1em}&\\hspace{-1em}\\phantom{\\cdot}&-6\\phantom{.}&\\hspace{-1em}&\\hspace{-1em}\\phantom{\\cdot}&1\\phantom{.}&\\hspace{-1em}&\\hspace{-1em}\\phantom{\\cdot}\\\\\n",
       "1\\phantom{.}&\\hspace{-1em}&\\hspace{-1em}\\phantom{\\cdot}&0\\phantom{.}&\\hspace{-1em}&\\hspace{-1em}\\phantom{\\cdot}&0\\phantom{.}&\\hspace{-1em}&\\hspace{-1em}\\phantom{\\cdot}\\\\\n",
       "\\hline\n",
       "0\\phantom{.}&\\hspace{-1em}&\\hspace{-1em}\\phantom{\\cdot}&2\\phantom{.}&\\hspace{-1em}&\\hspace{-1em}\\phantom{\\cdot}&0\\phantom{.}&\\hspace{-1em}&\\hspace{-1em}\\phantom{\\cdot}\\\\\n",
       "\\end{array}\\right)\n",
       "$$"
      ],
      "text/plain": [
       "StateSpace(array([[-5., -6.],\n",
       "       [ 1.,  0.]]), array([[1.],\n",
       "       [0.]]), array([[0., 2.]]), array([[0.]]))"
      ]
     },
     "execution_count": 39,
     "metadata": {},
     "output_type": "execute_result"
    }
   ],
   "source": [
    "ss = control.tf2ss(G_tf)\n",
    "ss"
   ]
  },
  {
   "cell_type": "markdown",
   "id": "d5d73457-3266-42e2-80eb-c6729c2cb146",
   "metadata": {},
   "source": [
    "The key question is \"what is the definition of the initial states for a transfer function\"?"
   ]
  },
  {
   "cell_type": "code",
   "execution_count": 49,
   "id": "9a32b9e5-f8ad-4271-92eb-2cc1f5602266",
   "metadata": {},
   "outputs": [
    {
     "data": {
      "text/plain": [
       "[<matplotlib.lines.Line2D at 0x32122d910>]"
      ]
     },
     "execution_count": 49,
     "metadata": {},
     "output_type": "execute_result"
    },
    {
     "data": {
      "image/png": "[encoded data removed]",
      "text/plain": [
       "<Figure size 640x480 with 1 Axes>"
      ]
     },
     "metadata": {},
     "output_type": "display_data"
    }
   ],
   "source": [
    "# Initialize constants\n",
    "times = np.linspace(0, 10, 200)\n",
    "initial_state = np.array([0, 10])  # Specifies the initial values of S1, S2\n",
    "#new_times, y_initial = control.initial_response(G_tf, times, initial_state)\n",
    "new_times, y_initial = control.impulse_response(G_tf, times, 1)\n",
    "# Plot the results\n",
    "plt.plot(new_times, y_initial)"
   ]
  },
  {
   "cell_type": "markdown",
   "id": "d373f085-481b-41c4-98af-97c611956a7a",
   "metadata": {},
   "source": [
    "The response to initial conditions is what happens if $S_1$ is 10 at time 0 and then the network receives no further input."
   ]
  },
  {
   "cell_type": "markdown",
   "id": "4a1c0933-b009-45f0-a006-094d9a985254",
   "metadata": {},
   "source": [
    "## Simulate in Antimony"
   ]
  },
  {
   "cell_type": "code",
   "execution_count": 7,
   "id": "646d86d2-0a21-4da1-8b0d-d93996d25222",
   "metadata": {},
   "outputs": [
    {
     "data": {
      "image/png": "[encoded data removed]",
      "text/plain": [
       "<Figure size 600x400 with 1 Axes>"
      ]
     },
     "metadata": {},
     "output_type": "display_data"
    }
   ],
   "source": [
    "# Model for a unit step response\n",
    "model = \"\"\"\n",
    "S1 -> S2; k1*S1\n",
    "S2 -> S3; k2*S2\n",
    "S3 -> ; k3*S3\n",
    "\n",
    "S1 = 10\n",
    "S2 = 0\n",
    "S3 = 0\n",
    "k1 = 1\n",
    "k2 = 2\n",
    "k3 = 3\n",
    "\"\"\"\n",
    "rr = te.loada(model)\n",
    "rr.simulate(0, 10, 1000, selections=['time', 'S3'])\n",
    "rr.plot()"
   ]
  },
  {
   "cell_type": "markdown",
   "id": "7fd6059c-90d8-4bd4-b525-c3c6bedbda68",
   "metadata": {},
   "source": [
    "## Initial conditions with step response"
   ]
  },
  {
   "cell_type": "code",
   "execution_count": 16,
   "id": "5c51e521-1a2c-493a-a7fc-90c28a85aa37",
   "metadata": {},
   "outputs": [
    {
     "data": {
      "text/plain": [
       "[<matplotlib.lines.Line2D at 0x30fd4ecd0>]"
      ]
     },
     "execution_count": 16,
     "metadata": {},
     "output_type": "execute_result"
    },
    {
     "data": {
      "image/png": "[encoded data removed]",
      "text/plain": [
       "<Figure size 640x480 with 1 Axes>"
      ]
     },
     "metadata": {},
     "output_type": "display_data"
    }
   ],
   "source": [
    "# Initialize constants\n",
    "times = np.linspace(0, 10, 200)\n",
    "initial_state = np.array([10, 0])  # Specifies the initial values of S1, S2\n",
    "_, y_initial = control.initial_response(G_tf, times, initial_state)\n",
    "# Step response\n",
    "# Plot the results\n",
    "plt.plot(times, y_initial)"
   ]
  },
  {
   "cell_type": "markdown",
   "id": "c24a1074-1024-4085-b62a-bff628eaf598",
   "metadata": {},
   "source": [
    "# Branching pathway controlling $s_3$"
   ]
  },
  {
   "cell_type": "markdown",
   "id": "c25d6c72-9e28-430a-b42d-5c346db7a9ee",
   "metadata": {},
   "source": [
    "\n",
    "\\begin{eqnarray}\n",
    "s_1 & \\xrightarrow{k_1 s_1} s_2 \\\\\n",
    "s_2 & \\xrightarrow{k_2 s_2} s_1 \\\\\n",
    "s_1 & \\xrightarrow{k_3 s_1} s_3 \\\\\n",
    " & \\xrightarrow{k_1 u} s_2 \\\\\n",
    "\\end{eqnarray}\n",
    "\n",
    "We want the transfer function from the input $u(t)$ to the output $s_3(t)$."
   ]
  },
  {
   "cell_type": "markdown",
   "id": "e806bc80-baee-41be-9c12-af6ad74d46d2",
   "metadata": {},
   "source": [
    "## 1. System equations"
   ]
  },
  {
   "cell_type": "markdown",
   "id": "836f6022-e2d6-41ba-8824-f562987a6504",
   "metadata": {},
   "source": [
    "\\begin{eqnarray}\n",
    "\\dot{s}_1 & = & k_2 s_2 - k_1 s_1 - k_3 s_1  \\\\\n",
    "\\dot{s}_2 & = & -k_2 s_2 + k_1 s_1 + k_1 u \\\\\n",
    "\\dot{s}_3 & = & k_3 s_1  \\\\\n",
    "\\end{eqnarray}"
   ]
  },
  {
   "cell_type": "markdown",
   "id": "5cea8362-635c-4b40-8151-dafb703d8d2d",
   "metadata": {},
   "source": [
    "## 2. LT of system equations"
   ]
  },
  {
   "cell_type": "markdown",
   "id": "2795208e-998a-4f98-b971-88aad0fd40d2",
   "metadata": {},
   "source": [
    "\\begin{eqnarray}\n",
    "s S_1(s) & = & k_2 S_2(s) - k_1 S_1 (s) - k_3 S_1 (s)  \\\\\n",
    "s S_2 (s) & = & -k_2 S_2 (s) + k_1 S_1 (s) + k_1 U(s) \\\\\n",
    "s S_3(s) & = & k_3 S_1 (s) \\\\\n",
    "\\end{eqnarray}"
   ]
  },
  {
   "cell_type": "markdown",
   "id": "653d0783-f46b-47ce-9bd5-a9a63268337b",
   "metadata": {},
   "source": [
    "## 3. Calculate transfer function"
   ]
  },
  {
   "cell_type": "markdown",
   "id": "af56f2e6-f8f3-43ad-b5e5-f3fef16742cd",
   "metadata": {},
   "source": [
    "We want $G(s) = \\frac{S_3 (s)}{U(s)}$.\n",
    "\n",
    "We can transform the third system equation so that we have $S_1 (s)$\n",
    "in terms of $S_3 (s)$. That is,\n",
    "\n",
    "\\begin{eqnarray}\n",
    "s S_3(s) & = & k_3 S_1 (s) \\\\\n",
    "S_1 (s) & = & \\frac{S_3(s) s}{k_3}  \\\\\n",
    "\\end{eqnarray}\n",
    "\n",
    "We can also express $S_2 (s)$ in terms of $U(s)$ and $S_3(s)$.\n",
    "\\begin{eqnarray}\n",
    "s S_2 (s) & = & -k_2 S_2 (s) + k_1 S_1 (s) + k_1 U(s) \\\\\n",
    "S_2 (s) (s + k_2) & = &  k_1 \\frac{s S_3(s)}{k_3}  + k_1 U(s) \\\\\n",
    "S_2 (s)  & = &  \\frac{1}{s + k_2} \\left( k_1 \\frac{s S_3(s)}{k_3}  + k_1 U(s) \\right) \\\\\n",
    "\\end{eqnarray}\n",
    "\n",
    "This allows us to substitute into the second system equation to obtain\n",
    "the desired result.\n",
    "\n",
    "\\begin{eqnarray}\n",
    "S_1(s) (s + k_1 + k_3) & = & k_2 S_2(s) \\\\\n",
    "\\frac{sS_3(s)}{k_3}   (s + k_1 + k_3) & = & k_2 \\frac{1}{s + k_2} \\left( k_1 \\frac{s S_3(s) }{k_3}  + k_1 U(s) \\right) \\\\\n",
    "\\end{eqnarray}"
   ]
  },
  {
   "cell_type": "code",
   "execution_count": 8,
   "id": "239dc934-5237-4d62-b7c8-642845fba860",
   "metadata": {},
   "outputs": [],
   "source": [
    "s3, s1, s, k1, k2, k3, s2, u = sympy.symbols(\"s3, s1, s, k1, k2, k3, s2, u\")"
   ]
  },
  {
   "cell_type": "code",
   "execution_count": 9,
   "id": "da6f980e-8791-4eb8-873d-8369f5041260",
   "metadata": {},
   "outputs": [
    {
     "data": {
      "text/latex": [
       "$\\displaystyle - \\frac{k_{2} \\left(k_{1} u + \\frac{k_{1} s s_{3}}{k_{3}}\\right)}{k_{2} + s} + \\frac{s s_{3} \\left(k_{1} + k_{3} + s\\right)}{k_{3}}$"
      ],
      "text/plain": [
       "-k2*(k1*u + k1*s*s3/k3)/(k2 + s) + s*s3*(k1 + k3 + s)/k3"
      ]
     },
     "execution_count": 9,
     "metadata": {},
     "output_type": "execute_result"
    }
   ],
   "source": [
    "expr = s3*s/k3*(s + k1 + k3) -( k2/(s + k2)*(k1*s3*s/k3 + k1*u))\n",
    "expr"
   ]
  },
  {
   "cell_type": "code",
   "execution_count": 10,
   "id": "1b637537-984f-4182-87ea-2a58d13e50b1",
   "metadata": {},
   "outputs": [
    {
     "data": {
      "text/plain": [
       "[k1*k2*k3*u/(s*(k1*s + k2*k3 + k2*s + k3*s + s**2))]"
      ]
     },
     "execution_count": 10,
     "metadata": {},
     "output_type": "execute_result"
    }
   ],
   "source": [
    "sympy.solve(expr, s3)"
   ]
  },
  {
   "cell_type": "code",
   "execution_count": 11,
   "id": "f54cf3b5-d389-4482-88ae-b64b36051154",
   "metadata": {},
   "outputs": [
    {
     "data": {
      "text/latex": [
       "$\\displaystyle \\frac{k_{1} k_{2} k_{3} u}{s \\left(k_{1} s + k_{2} k_{3} + k_{2} s + k_{3} s + s^{2}\\right)}$"
      ],
      "text/plain": [
       "k1*k2*k3*u/(s*(k1*s + k2*k3 + k2*s + k3*s + s**2))"
      ]
     },
     "execution_count": 11,
     "metadata": {},
     "output_type": "execute_result"
    }
   ],
   "source": [
    "s3 = sympy.solve(expr, s3)[0]\n",
    "s3"
   ]
  },
  {
   "cell_type": "code",
   "execution_count": 12,
   "id": "c0b6407c-d7a3-4c30-a47f-39840fdcb65b",
   "metadata": {},
   "outputs": [
    {
     "name": "stdout",
     "output_type": "stream",
     "text": [
      "\\frac{k_{1} k_{2} k_{3} u}{s \\left(k_{1} s + k_{2} k_{3} + k_{2} s + k_{3} s + s^{2}\\right)}\n"
     ]
    }
   ],
   "source": [
    "print(sympy.latex(s3))"
   ]
  },
  {
   "cell_type": "markdown",
   "id": "30f36267-81d6-4564-a88a-1929c06d122a",
   "metadata": {},
   "source": [
    "$G(s) = \\frac{S_3(s)}{U(s)} = \\frac{k_{1} k_{2} k_{3} }{s \\left(k_{1} s + k_{2} k_{3} + k_{2} s + k_{3} s + s^{2}\\right)}$"
   ]
  },
  {
   "cell_type": "markdown",
   "id": "3fd4226d-99ff-4612-881a-0a0118734ab7",
   "metadata": {},
   "source": [
    "## 4. Predict step response"
   ]
  },
  {
   "cell_type": "code",
   "execution_count": 13,
   "id": "d5fc3f36-05c4-4620-abb8-8cc663af81c1",
   "metadata": {},
   "outputs": [
    {
     "data": {
      "text/plain": [
       "[<matplotlib.lines.Line2D at 0x30fbaacd0>]"
      ]
     },
     "execution_count": 13,
     "metadata": {},
     "output_type": "execute_result"
    },
    {
     "data": {
      "image/png": "[encoded data removed]",
      "text/plain": [
       "<Figure size 640x480 with 1 Axes>"
      ]
     },
     "metadata": {},
     "output_type": "display_data"
    }
   ],
   "source": [
    "# Initialize constants\n",
    "k1, k2, k3 = (1, 1, 1)\n",
    "times = np.linspace(0, 10, 100)\n",
    "# Response to input\n",
    "tf = control.TransferFunction([k1*k2*k3],\n",
    "                              [1, k1+k2+k3, k2*k3, 0])\n",
    "_, yt = control.forced_response(tf, T=times, U=1)\n",
    "# Plot the results\n",
    "plt.plot(times, yt)"
   ]
  },
  {
   "cell_type": "code",
   "execution_count": 14,
   "id": "127a80fa-7a6f-4119-b44d-350dd72ab894",
   "metadata": {},
   "outputs": [
    {
     "data": {
      "text/plain": [
       "array([-2.61803399+0.j, -0.38196601+0.j,  0.        +0.j])"
      ]
     },
     "execution_count": 14,
     "metadata": {},
     "output_type": "execute_result"
    }
   ],
   "source": [
    "tf.poles()"
   ]
  },
  {
   "cell_type": "markdown",
   "id": "f34b8c32-b74e-4bbd-9550-2ea989ce7450",
   "metadata": {},
   "source": [
    "## 5. Simulate in Antimony"
   ]
  },
  {
   "cell_type": "code",
   "execution_count": 15,
   "id": "357d311d-f123-4b95-a2f0-2fc579d89651",
   "metadata": {},
   "outputs": [
    {
     "data": {
      "text/plain": [
       "[<matplotlib.lines.Line2D at 0x30fd383a0>]"
      ]
     },
     "execution_count": 15,
     "metadata": {},
     "output_type": "execute_result"
    },
    {
     "data": {
      "image/png": "[encoded data removed]",
      "text/plain": [
       "<Figure size 640x480 with 1 Axes>"
      ]
     },
     "metadata": {},
     "output_type": "display_data"
    }
   ],
   "source": [
    "model = \"\"\"\n",
    "s1 -> s2; k1*s1\n",
    "s2 -> s1; k2*s2\n",
    "s1 -> s3; k3*s1\n",
    "$u -> s2; k1*u\n",
    "\n",
    "k1 = 1\n",
    "k2 = 1\n",
    "k3 = 1\n",
    "s1 = 0\n",
    "s2 = 0\n",
    "s3 = 0\n",
    "$u = 1\n",
    "\"\"\"\n",
    "rr = te.loada(model)\n",
    "data = rr.simulate(0, 10, 100)\n",
    "plt.plot(data[\"time\"], data[\"[s3]\"])"
   ]
  },
  {
   "cell_type": "markdown",
   "id": "1b02b36b-e954-4384-93e4-0d72358a27d0",
   "metadata": {},
   "source": [
    "## 6. Analyze"
   ]
  },
  {
   "cell_type": "markdown",
   "id": "37f8f87f-a74c-4a6c-af40-144c0767f4c0",
   "metadata": {
    "tags": []
   },
   "source": [
    "$G(s) = \\frac{S_3(s)}{U(s)} = \\frac{k_{1} k_{2} k_{3} }{s \\left(k_{1} s + k_{2} k_{3} + k_{2} s + k_{3} s + s^{2}\\right)}$\n",
    "\n",
    "Some observations\n",
    "1. The DC gain is infinite and so we expect an unbounded effect\n",
    "from a step response.\n",
    "1. An infinite DC gain makes sense since mass accumulates in $S_3$.\n",
    "1. The initial part of the step response is a quadratic, which results from\n",
    "populating $s_1$ from $s_2$."
   ]
  },
  {
   "cell_type": "markdown",
   "id": "3a4355be-b8be-47b4-9eb4-1021abf3c4dd",
   "metadata": {},
   "source": [
    "# Fork and Join"
   ]
  },
  {
   "cell_type": "markdown",
   "id": "9c3cfcb8-73cb-4da6-80b4-1fb02a475d05",
   "metadata": {},
   "source": [
    "This analysis introduces a transfer function with a zero in the transfer function, a value of $s$ that causes the transfer function to go to 0.\n",
    "\n",
    "\\begin{eqnarray}\n",
    "s_1 & \\xrightarrow{k_{1a} s_1} s_2 \\\\\n",
    "s_1 & \\xrightarrow{k_{1b} s_3} s_3 \\\\\n",
    "s_2 & \\xrightarrow{k_2 s_2} s_4 \\\\\n",
    "s_3 & \\xrightarrow{k_3 s_3} s_4 \\\\\n",
    "s_4 & \\xrightarrow{k_4 s_4} \\emptyset \\\\\n",
    "\\end{eqnarray}"
   ]
  }
 ],
 "metadata": {
  "kernelspec": {
   "display_name": "Python 3 (ipykernel)",
   "language": "python",
   "name": "python3"
  },
  "language_info": {
   "codemirror_mode": {
    "name": "ipython",
    "version": 3
   },
   "file_extension": ".py",
   "mimetype": "text/x-python",
   "name": "python",
   "nbconvert_exporter": "python",
   "pygments_lexer": "ipython3",
   "version": "3.9.6"
  },
  "toc-autonumbering": false,
  "toc-showcode": false,
  "toc-showtags": true
 },
 "nbformat": 4,
 "nbformat_minor": 5
}
