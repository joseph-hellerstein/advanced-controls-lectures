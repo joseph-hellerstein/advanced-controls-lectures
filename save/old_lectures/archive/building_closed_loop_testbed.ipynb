{
 "cells": [
  {
   "cell_type": "markdown",
   "id": "0d6ccd69-d25c-4643-b8d9-887972581454",
   "metadata": {
    "tags": []
   },
   "source": [
    "# BUILDING A CLOSED LOOP TESTBED"
   ]
  },
  {
   "cell_type": "markdown",
   "id": "7bf47cf0-9370-4897-89aa-28c59b4df706",
   "metadata": {},
   "source": [
    "This notebook illustrates how to construct a closed loop testbed for an SBML model using a combination\n",
    "of ``controlSBML`` for the open loop system (the SBML model) and ``control`` for the closed loop system.\n",
    "The approach is to have ``controlSBML`` create a ``NonlinearIOSystem`` object for an SBML model\n",
    "and then make use of the capabiliies of the ``control`` package to construct the testbed."
   ]
  },
  {
   "cell_type": "markdown",
   "id": "78c87479-3990-41ff-abe4-002f44c52d3f",
   "metadata": {
    "tags": []
   },
   "source": [
    "## Preliminaries"
   ]
  },
  {
   "cell_type": "code",
   "execution_count": 1,
   "id": "a38b08b9-2e8a-4d19-bee0-e0a933cc16e2",
   "metadata": {},
   "outputs": [],
   "source": [
    "if False:\n",
    "    !pip uninstall numpy\n",
    "    !pip install -q numpy==1.21.5\n",
    "    !pip install -q tellurium==2.2.2.1"
   ]
  },
  {
   "cell_type": "code",
   "execution_count": 2,
   "id": "07c84a69-4956-474e-bfb0-c45549f9d0ed",
   "metadata": {},
   "outputs": [
    {
     "data": {
      "text/plain": [
       "'1.2.3'"
      ]
     },
     "execution_count": 2,
     "metadata": {},
     "output_type": "execute_result"
    }
   ],
   "source": [
    "import controlSBML as ctl\n",
    "\n",
    "import control\n",
    "import matplotlib.pyplot as plt\n",
    "import numpy as np\n",
    "import pandas as pd\n",
    "import tellurium as te\n",
    "from IPython.display import Image\n",
    "from IPython.core.display import HTML\n",
    "ctl.__version__"
   ]
  },
  {
   "cell_type": "markdown",
   "id": "b2fc318f-af4a-4567-9439-a6f2991d4601",
   "metadata": {},
   "source": [
    "# Helpers"
   ]
  },
  {
   "cell_type": "code",
   "execution_count": 3,
   "id": "6b993e20-9a78-4cf3-ba57-24eff6ea952c",
   "metadata": {},
   "outputs": [],
   "source": [
    "TEST_MODEL = \"\"\"\n",
    "species S1, S2, S3\n",
    "\n",
    "S1 -> S2; k1*S1\n",
    "S2 -> S3; k2*S2\n",
    "\n",
    "S1 = 10\n",
    "S2 = 0\n",
    "S3 = 0\n",
    "k1 = 1\n",
    "k2 =2\n",
    "\"\"\""
   ]
  },
  {
   "cell_type": "markdown",
   "id": "aa155c9e-b56f-4b4d-a811-500bb702b375",
   "metadata": {
    "tags": []
   },
   "source": [
    "## plotTimeResponse"
   ]
  },
  {
   "cell_type": "code",
   "execution_count": 4,
   "id": "ad3da50c-679b-48c6-bf09-d707ca6310dc",
   "metadata": {},
   "outputs": [],
   "source": [
    "def plotTimeResponse(time_response, output_names,\n",
    "                     is_legend=True, stmts=None):\n",
    "    # Plots the results of running a simulation\n",
    "    outputs = time_response.outputs\n",
    "    times = time_response.time\n",
    "    colors = [\"orange\", \"green\"]\n",
    "    for idx in range(len(output_names)):\n",
    "        if np.ndim(outputs) > 1:\n",
    "            plt.plot(times, outputs[idx,:], c=colors[idx])\n",
    "        else:\n",
    "            plt.plot(times, outputs, c=colors[idx])\n",
    "    if is_legend:\n",
    "        _ = plt.legend(output_names)\n",
    "    if stmts is None:\n",
    "        stmts = []\n",
    "    for stmt in stmts:\n",
    "        exec(stmt)\n",
    "    plt.xlabel(\"time\")\n",
    "    plt.ylabel(\"concentration\")"
   ]
  },
  {
   "cell_type": "code",
   "execution_count": 5,
   "id": "09067009-b9d1-4e86-8869-b1d147497cb8",
   "metadata": {
    "tags": []
   },
   "outputs": [
    {
     "ename": "ValueError",
     "evalue": "Invalid keyword arguments: {'output_names', 'input_names'}",
     "output_type": "error",
     "traceback": [
      "\u001b[0;31m---------------------------------------------------------------------------\u001b[0m",
      "\u001b[0;31mValueError\u001b[0m                                Traceback (most recent call last)",
      "Cell \u001b[0;32mIn[5], line 1\u001b[0m\n\u001b[0;32m----> 1\u001b[0m ctlsb \u001b[38;5;241m=\u001b[39m \u001b[43mctl\u001b[49m\u001b[38;5;241;43m.\u001b[39;49m\u001b[43mControlSBML\u001b[49m\u001b[43m(\u001b[49m\u001b[43mTEST_MODEL\u001b[49m\u001b[43m,\u001b[49m\u001b[43m \u001b[49m\u001b[43minput_names\u001b[49m\u001b[38;5;241;43m=\u001b[39;49m\u001b[43m[\u001b[49m\u001b[38;5;124;43m\"\u001b[39;49m\u001b[38;5;124;43mS1\u001b[39;49m\u001b[38;5;124;43m\"\u001b[39;49m\u001b[43m]\u001b[49m\u001b[43m,\u001b[49m\u001b[43m \u001b[49m\u001b[43moutput_names\u001b[49m\u001b[38;5;241;43m=\u001b[39;49m\u001b[43m[\u001b[49m\u001b[38;5;124;43m\"\u001b[39;49m\u001b[38;5;124;43mS2\u001b[39;49m\u001b[38;5;124;43m\"\u001b[39;49m\u001b[43m]\u001b[49m\u001b[43m)\u001b[49m\n\u001b[1;32m      2\u001b[0m TEST_SYS \u001b[38;5;241m=\u001b[39m ctlsb\u001b[38;5;241m.\u001b[39mmakeNonlinearIOSystem(\u001b[38;5;124m\"\u001b[39m\u001b[38;5;124mTEST_SYS\u001b[39m\u001b[38;5;124m\"\u001b[39m)\n",
      "File \u001b[0;32m~/home/Technical/repos/controlSBML/src/controlSBML/control_sbml.py:213\u001b[0m, in \u001b[0;36mControlSBML.__init__\u001b[0;34m(self, model_reference, roadrunner, input_name, output_name, is_fixed_input_species, is_steady_state, noise_spec, disturbance_spec, fitter_method, setpoint, sign, times, **kwargs)\u001b[0m\n\u001b[1;32m    146\u001b[0m \u001b[38;5;28;01mdef\u001b[39;00m \u001b[38;5;21m__init__\u001b[39m(\u001b[38;5;28mself\u001b[39m, model_reference:\u001b[38;5;28mstr\u001b[39m, \n\u001b[1;32m    147\u001b[0m              roadrunner\u001b[38;5;241m=\u001b[39m\u001b[38;5;28;01mNone\u001b[39;00m,\n\u001b[1;32m    148\u001b[0m              input_name:Optional[\u001b[38;5;28mstr\u001b[39m]\u001b[38;5;241m=\u001b[39m\u001b[38;5;28;01mNone\u001b[39;00m,\n\u001b[0;32m   (...)\u001b[0m\n\u001b[1;32m    157\u001b[0m              times:Optional[np\u001b[38;5;241m.\u001b[39mndarray[\u001b[38;5;28mfloat\u001b[39m]]\u001b[38;5;241m=\u001b[39m\u001b[38;5;28;01mNone\u001b[39;00m,\n\u001b[1;32m    158\u001b[0m              \u001b[38;5;241m*\u001b[39m\u001b[38;5;241m*\u001b[39mkwargs):\n\u001b[1;32m    159\u001b[0m     \u001b[38;5;124;03m\"\"\"\u001b[39;00m\n\u001b[1;32m    160\u001b[0m \u001b[38;5;124;03m    model_reference: str\u001b[39;00m\n\u001b[1;32m    161\u001b[0m \u001b[38;5;124;03m        string, SBML file or Roadrunner object\u001b[39;00m\n\u001b[0;32m   (...)\u001b[0m\n\u001b[1;32m    211\u001b[0m \n\u001b[1;32m    212\u001b[0m \u001b[38;5;124;03m    \"\"\"\u001b[39;00m\n\u001b[0;32m--> 213\u001b[0m     \u001b[38;5;28;43mself\u001b[39;49m\u001b[38;5;241;43m.\u001b[39;49m\u001b[43m_checkKwargs\u001b[49m\u001b[43m(\u001b[49m\u001b[43mOPTION_KEYS\u001b[49m\u001b[43m,\u001b[49m\u001b[43m \u001b[49m\u001b[38;5;241;43m*\u001b[39;49m\u001b[38;5;241;43m*\u001b[39;49m\u001b[43mkwargs\u001b[49m\u001b[43m)\u001b[49m\n\u001b[1;32m    214\u001b[0m     \u001b[38;5;66;03m# Set initial values of all options\u001b[39;00m\n\u001b[1;32m    215\u001b[0m     \u001b[38;5;28;01mfor\u001b[39;00m key, value \u001b[38;5;129;01min\u001b[39;00m OPTION_DCT\u001b[38;5;241m.\u001b[39mitems():  \u001b[38;5;66;03m# type: ignore\u001b[39;00m\n",
      "File \u001b[0;32m~/home/Technical/repos/controlSBML/src/controlSBML/control_sbml.py:267\u001b[0m, in \u001b[0;36mControlSBML._checkKwargs\u001b[0;34m(self, valids, invalids, **kwargs)\u001b[0m\n\u001b[1;32m    265\u001b[0m not_valids \u001b[38;5;241m=\u001b[39m keys\u001b[38;5;241m.\u001b[39mdifference(\u001b[38;5;28mset\u001b[39m(valids))   \u001b[38;5;66;03m# type: ignore\u001b[39;00m\n\u001b[1;32m    266\u001b[0m \u001b[38;5;28;01mif\u001b[39;00m \u001b[38;5;28mlen\u001b[39m(not_valids) \u001b[38;5;241m>\u001b[39m \u001b[38;5;241m0\u001b[39m:\n\u001b[0;32m--> 267\u001b[0m     \u001b[38;5;28;01mraise\u001b[39;00m \u001b[38;5;167;01mValueError\u001b[39;00m(\u001b[38;5;124m\"\u001b[39m\u001b[38;5;124mInvalid keyword arguments: \u001b[39m\u001b[38;5;132;01m%s\u001b[39;00m\u001b[38;5;124m\"\u001b[39m \u001b[38;5;241m%\u001b[39m \u001b[38;5;28mstr\u001b[39m(not_valids))\n\u001b[1;32m    268\u001b[0m \u001b[38;5;28;01mif\u001b[39;00m invalids \u001b[38;5;129;01mis\u001b[39;00m \u001b[38;5;28;01mNone\u001b[39;00m:\n\u001b[1;32m    269\u001b[0m     \u001b[38;5;28;01mreturn\u001b[39;00m\n",
      "\u001b[0;31mValueError\u001b[0m: Invalid keyword arguments: {'output_names', 'input_names'}"
     ]
    }
   ],
   "source": [
    "ctlsb = ctl.ControlSBML(TEST_MODEL, input_name=\"S1\", output_name=\"S2\")\n",
    "TEST_SYS = ctlsb.makeNonlinearIOSystem(\"TEST_SYS\")"
   ]
  },
  {
   "cell_type": "markdown",
   "id": "0e807d39-64b9-4a38-b2d0-c60236709c72",
   "metadata": {},
   "source": [
    "## plotSys"
   ]
  },
  {
   "cell_type": "code",
   "execution_count": null,
   "id": "148157d9-8a3a-40fd-8bd6-7217915997dc",
   "metadata": {},
   "outputs": [],
   "source": [
    "def plotSys(sys, times=None, initial_values=None, forced_input=None, title=\"\", ax=None, output_labels=None, is_plot=True):\n",
    "    \"\"\"\n",
    "    Plots the system.\n",
    "    \n",
    "    Parameters\n",
    "    ----------\n",
    "    sys: NonlinearIOSystem\n",
    "    times: list-float (times for simulation)\n",
    "    initial_values: list-float\n",
    "    forced_input: list-float\n",
    "    ax: matplotlib.Axes\n",
    "    output_labels: list-str (names for output labels)\n",
    "    \n",
    "    Returns\n",
    "    -------\n",
    "    np.ndarray, np.ndarray, ax (times, predicted values, plot axis)\n",
    "    \"\"\"\n",
    "    if times is None:\n",
    "        times = np.linspace(0, 5, 100)\n",
    "    if forced_input is None:\n",
    "        forced_input = 0\n",
    "    if initial_values is None:\n",
    "        initial_values = ctl.makeStateVector(sys)\n",
    "    if ax is None:\n",
    "        _, ax = plt.subplots(1)\n",
    "    if output_labels is None:\n",
    "        output_labels = list(sys.output_labels)\n",
    "    # Simulate the system\n",
    "    t, y = control.input_output_response(sys, times, forced_input, initial_values)\n",
    "    # Plot the response\n",
    "    num_output = len(output_labels)\n",
    "    if num_output == 1:\n",
    "        plt.plot(t, y)\n",
    "    else:\n",
    "        for idx in range(num_output):\n",
    "            ax.plot(t, y[idx])\n",
    "    ax.legend(output_labels)\n",
    "    if not is_plot:\n",
    "        plt.close()\n",
    "    return t, y, ax\n",
    "    \n",
    "# Tests\n",
    "times = T = np.linspace(0, 70, 500)\n",
    "times, predictions, _ = plotSys(TEST_SYS, times, is_plot=False)\n",
    "assert(len(times) == len(predictions))\n",
    "print(\"OK!\")"
   ]
  },
  {
   "cell_type": "markdown",
   "id": "5270fe5d-72c2-4283-b014-963a2181df6e",
   "metadata": {},
   "source": [
    "## simulateAndPlot"
   ]
  },
  {
   "cell_type": "code",
   "execution_count": null,
   "id": "d42974e6-faba-448f-a406-7783b2f0c213",
   "metadata": {},
   "outputs": [],
   "source": [
    "def simulateAndPlot(model, sim_dct=None, plot_dct=None, is_plot=True):\n",
    "    \"\"\"\n",
    "    Simulates a model and plots the results.\n",
    "    \n",
    "    Parameters\n",
    "    ----------\n",
    "    model: str or url\n",
    "    \"\"\"\n",
    "    if sim_dct is None:\n",
    "        sim_dct = {}\n",
    "    if plot_dct is None:\n",
    "        plot_dct = {}\n",
    "    ctlsb = ctl.ControlSBML(model)\n",
    "    species_names = list(ctlsb.floating_species_names)\n",
    "    ctlsb = ctl.ControlSBML(model, output_names=species_names)\n",
    "    sys = ctlsb.makeNonlinearIOSystem(\"sys\")\n",
    "    ts = ctl.simulateSystem(sys, **sim_dct)\n",
    "    _ = ctl.plotOneTS(ts, **plot_dct)\n",
    "    if not is_plot:\n",
    "        plt.close()\n",
    "    \n",
    "# Tests\n",
    "simulateAndPlot(TEST_MODEL, plot_dct={\"figsize\": (5,5)}, is_plot=False)\n",
    "print(\"OK\")"
   ]
  },
  {
   "cell_type": "markdown",
   "id": "6ce43955-c086-434e-9b98-9b0ae892f618",
   "metadata": {},
   "source": [
    "# Models"
   ]
  },
  {
   "cell_type": "markdown",
   "id": "1559635c-8359-4b72-b4da-34b9f3b132d2",
   "metadata": {},
   "source": [
    "## Linear model"
   ]
  },
  {
   "cell_type": "code",
   "execution_count": null,
   "id": "f9fd9895-0c55-4a93-88ed-973c9179c6b0",
   "metadata": {},
   "outputs": [],
   "source": [
    "LINEAR_MDL = \"\"\"\n",
    "S1 -> S2; k1*S1\n",
    "S2 -> S3; k2*S2\n",
    "S3 -> S4; k3*S3\n",
    "\n",
    "k1 = 2\n",
    "k2 = 1.5\n",
    "k3 = 1\n",
    "S1 = 10\n",
    "S2 = 0\n",
    "S3 = 0\n",
    "S4 = 0\n",
    "\"\"\"\n",
    "simulateAndPlot(LINEAR_MDL, plot_dct={\"figsize\": (5,5)})"
   ]
  },
  {
   "cell_type": "markdown",
   "id": "1d6862a2-0b77-4872-9eb3-f7940f5266f5",
   "metadata": {},
   "source": [
    "## WOLF model"
   ]
  },
  {
   "cell_type": "code",
   "execution_count": null,
   "id": "4a76dfc2-8d82-4c81-868d-4f41762112a7",
   "metadata": {},
   "outputs": [],
   "source": [
    "WOLF_CTLSB = ctl.ControlSBML(\"https://www.ebi.ac.uk/biomodels/model/download/BIOMD0000000206.2?filename=BIOMD0000000206_url.xml\", \n",
    "                        input_names=[\"at\"], output_names=[\"s5\"])\n",
    "simulateAndPlot(\"https://www.ebi.ac.uk/biomodels/model/download/BIOMD0000000206.2?filename=BIOMD0000000206_url.xml\", plot_dct={\"figsize\": (8,8)})"
   ]
  },
  {
   "cell_type": "code",
   "execution_count": null,
   "id": "fb1b2955-7ea2-44c3-b9b5-02aa24d35b13",
   "metadata": {},
   "outputs": [],
   "source": [
    "WOLF_ANT = WOLF_CTLSB.antimony\n",
    "print(WOLF_ANT)"
   ]
  },
  {
   "cell_type": "markdown",
   "id": "d28ed9e0-dd38-4b49-9a95-ece1624a6357",
   "metadata": {},
   "source": [
    "# Timeseries objects"
   ]
  },
  {
   "cell_type": "markdown",
   "id": "aee41501-b1d7-4180-b4b3-d0f1a75a3372",
   "metadata": {
    "tags": []
   },
   "source": [
    "A ``Timeseries`` object is a ``pandas.DataFrame`` where the index is time in integer milliseconds.\n",
    "``controlSBML`` generates and uses ``Timeseries`` objects to simplify the analysis\n",
    "of closed loop systems."
   ]
  },
  {
   "cell_type": "code",
   "execution_count": null,
   "id": "2104a5a1-d2e2-46b0-ae1e-8d4f9bb6581c",
   "metadata": {},
   "outputs": [],
   "source": [
    "## Simulating a system\n",
    "wolf_sys = WOLF_CTLSB.makeNonlinearIOSystem(\"wolf\")\n",
    "# Simulate the system using as it is specified in the simulation. Note the warning messages.\n",
    "ts = ctl.simulateSystem(wolf_sys)"
   ]
  },
  {
   "cell_type": "code",
   "execution_count": null,
   "id": "9af7f612-86e8-4fb6-bcd1-02d27255c62a",
   "metadata": {},
   "outputs": [],
   "source": [
    "# The output is a Timeseries. This is a dataframe where the index is time in milliseconds\n",
    "ts.head()"
   ]
  },
  {
   "cell_type": "code",
   "execution_count": null,
   "id": "54efd4cc-e87e-46eb-bd07-b67f59cf3036",
   "metadata": {},
   "outputs": [],
   "source": [
    "# We can plot any Timeseries object. Various options are available for the plot\n",
    "_ = ctl.plotOneTS(ts, ylabel=\"Concentration\", figsize=(4,4))"
   ]
  },
  {
   "cell_type": "markdown",
   "id": "fe89c43f-253b-4f7a-994e-805ec3335434",
   "metadata": {},
   "source": [
    "# CalTech Package Interconnect Objects"
   ]
  },
  {
   "cell_type": "markdown",
   "id": "5572a10e-ec3a-429e-baa2-1bceb3eb72b6",
   "metadata": {},
   "source": [
    "The CalTech package has a type of object called ``Interconnect`` that provides a way to\n",
    "connect ``NonlinearIOSystem`` objects. This relies on the *name* of the ``NonlinearIOSystem``\n",
    "along with its *inputs* and *outputs*.\n"
   ]
  },
  {
   "cell_type": "markdown",
   "id": "ad26d3f5-c723-400a-a83a-abc4e21e2619",
   "metadata": {},
   "source": [
    "We illustrate the use of ``Interconnect`` objects by constructing a closed loop system\n",
    "for ``LINEAR_MDL`` using a proportional controller."
   ]
  },
  {
   "cell_type": "code",
   "execution_count": null,
   "id": "4ab01b9c-eb2d-423c-965b-da07e3ff9734",
   "metadata": {},
   "outputs": [],
   "source": [
    "# Open loop system\n",
    "ctlsb = ctl.ControlSBML(LINEAR_MDL,\n",
    "      input_names=[\"S1\"], output_names=[\"S1\", \"S2\", \"S3\", \"S4\"])\n",
    "linear_sys = ctlsb.makeNonlinearIOSystem(\"linear_sys\")\n",
    "_ = plotSys(linear_sys)"
   ]
  },
  {
   "cell_type": "markdown",
   "id": "364e0e6c-55c6-41b2-a598-b34ba4b7f2fb",
   "metadata": {},
   "source": [
    "### Controller"
   ]
  },
  {
   "cell_type": "markdown",
   "id": "4a5fce01-80b9-4cad-8bfc-6f3573751266",
   "metadata": {},
   "source": [
    "We want to regulate the system so that S4 is 3. "
   ]
  },
  {
   "cell_type": "code",
   "execution_count": null,
   "id": "0f8c9b55-be54-41aa-8c03-df0ac9263995",
   "metadata": {},
   "outputs": [],
   "source": [
    "S4_SETPOINT = 6\n",
    "# Controller\n",
    "kP = 0.2\n",
    "kI = 0\n",
    "\n",
    "# Calculate derivative of state\n",
    "def updfcn(t, x, y, _):\n",
    "    # Accumulate the control error\n",
    "    # t: float (time)\n",
    "    # x: array-float (state)\n",
    "    # y: array-float (output from OLS)\n",
    "    # returns: array-float (derivative of state)\n",
    "    dx = S4_SETPOINT - y[0]\n",
    "    return dx\n",
    "\n",
    "# Calculate output value\n",
    "def outfcn(t, x, y, _):\n",
    "    # Calculate the output from the input\n",
    "    # t: float (time)\n",
    "    # x: array-float (state)\n",
    "    # e: array-float (inputs)\n",
    "    # returns: array (output)\n",
    "    new_err = S4_SETPOINT - y[0]\n",
    "    output = kI*x[0] + kP*new_err\n",
    "    return output\n",
    "\n",
    "controller = control.NonlinearIOSystem(\n",
    "  updfcn,\n",
    "  outfcn,\n",
    "  states=1,\n",
    "  inputs=['in'],\n",
    "  outputs=['out'], name='controller')"
   ]
  },
  {
   "cell_type": "code",
   "execution_count": null,
   "id": "fbf295c5-9509-493d-b541-2570e1397d93",
   "metadata": {},
   "outputs": [],
   "source": [
    "# Simulate a step response\n",
    "times = np.linspace(0, 5, 100)\n",
    "time_response = control.input_output_response(controller, times, U=1)\n",
    "plotTimeResponse(time_response, [\"controller.out\"])"
   ]
  },
  {
   "cell_type": "markdown",
   "id": "8ca5930e-6296-4a14-adc1-f5c5f0226309",
   "metadata": {},
   "source": [
    "### InterconnectSystem"
   ]
  },
  {
   "cell_type": "code",
   "execution_count": null,
   "id": "15a36743-a6a1-4a22-903d-f2fc863b85e1",
   "metadata": {},
   "outputs": [],
   "source": [
    "# Create the closed loop system\n",
    "OUTLIST = [\"linear_sys.S1\", \"linear_sys.S4\", \"linear_sys.S2\", \"linear_sys.S3\", \"controller.out\"]\n",
    "closed_sys = control.interconnect(\n",
    "  [linear_sys, controller],       # systems\n",
    "  connections=[\n",
    "    ['linear_sys.S1', 'controller.out'],\n",
    "    ['controller.in',  'linear_sys.S4'],\n",
    "  ],\n",
    "  inplist=[\"controller.in\"],\n",
    "  outlist=OUTLIST,\n",
    ")"
   ]
  },
  {
   "cell_type": "markdown",
   "id": "09e8a4d3-6b6f-4ed2-a245-fd6531b84dd6",
   "metadata": {},
   "source": [
    "### Simulation of Closed Loop System"
   ]
  },
  {
   "cell_type": "code",
   "execution_count": null,
   "id": "3c0f0683-6249-45ea-a865-8a1d3901648c",
   "metadata": {},
   "outputs": [],
   "source": [
    "initial_state = ctl.makeStateVector(closed_sys)\n",
    "times = np.linspace(0, 100, 2000)\n",
    "time_response = control.input_output_response(closed_sys, times, X0=initial_state)\n",
    "_, __, ax = plotSys(closed_sys, times=times, output_labels=OUTLIST)\n",
    "ax.plot([times[0], times[-1]], [S4_SETPOINT, S4_SETPOINT])\n",
    "legends = list(OUTLIST)\n",
    "legends.append(\"set point\")\n",
    "ax.legend(legends)"
   ]
  },
  {
   "cell_type": "code",
   "execution_count": null,
   "id": "1ff4f104-dde6-44cf-8a16-3d8bd3f0fcc3",
   "metadata": {},
   "outputs": [],
   "source": [
    "# Simpler approach to simulation and plotting\n",
    "ts = ctl.simulateSystem(closed_sys, end_time=100, output_names=OUTLIST)\n",
    "ts[\"setpoint\"] = S4_SETPOINT\n",
    "_ = ctl.plotOneTS(ts, figsize=(5,5))"
   ]
  },
  {
   "cell_type": "markdown",
   "id": "d1f6399f-39c7-4e08-91ab-912fd25ed175",
   "metadata": {},
   "source": [
    "# Creating a closed loop testbed for Wolf"
   ]
  },
  {
   "cell_type": "code",
   "execution_count": null,
   "id": "7e591cbd-5506-4fdf-bddf-eea82298b01b",
   "metadata": {},
   "outputs": [],
   "source": [
    "Image(\"wolf_cls1.png\", width = 600, height = 300)"
   ]
  },
  {
   "cell_type": "markdown",
   "id": "eca0e8f6-36cc-45b6-b783-ce76efdae6bd",
   "metadata": {},
   "source": [
    "This example explores the use of feedback control to regulate the concentration of pyruvate in\n",
    "a model of glycolytic oscillations (BioModels 206).\n",
    "\n",
    "Pyruvate is ``s5`` in the model.\n",
    "It is regulated using ATP, species ``at`` in the model."
   ]
  },
  {
   "cell_type": "markdown",
   "id": "dbb1df5c-0291-44bf-8c00-5485005b8107",
   "metadata": {},
   "source": [
    "Below is the behavior of the unregulated system.\n",
    "Note the oscillations in ``s5``."
   ]
  },
  {
   "cell_type": "code",
   "execution_count": null,
   "id": "0b91c7da-c2e5-4725-81dc-5cfbc02250d6",
   "metadata": {},
   "outputs": [],
   "source": [
    "# Simulate the open loop system with no change in its input (at)\n",
    "wolf_sys = WOLF_CTLSB.makeNonlinearIOSystem(\"wolf_sys\", is_fixed_input_species=True)\n",
    "ts = ctl.simulateSystem(wolf_sys, end_time=5)\n",
    "_ = ctl.plotOneTS(ts, figsize=(5,5), ylim=[0, 10])"
   ]
  },
  {
   "cell_type": "markdown",
   "id": "941d82a1-d4f0-4090-8f7c-a9bc0f38cabe",
   "metadata": {},
   "source": [
    "**Control Objectives**\n",
    "\n",
    "1. Eliminate the oscillations from ``s5``\n",
    "1. Coverge to 6."
   ]
  },
  {
   "cell_type": "code",
   "execution_count": null,
   "id": "32f46a00-6255-41f1-b813-4f2aa7500e18",
   "metadata": {
    "tags": []
   },
   "outputs": [],
   "source": [
    "S5_SETPOINT = 6"
   ]
  },
  {
   "cell_type": "markdown",
   "id": "617cbfbd-7a7c-4193-bb9f-f249e3d3edbd",
   "metadata": {},
   "source": [
    "Next, we construct a PI controller."
   ]
  },
  {
   "cell_type": "code",
   "execution_count": null,
   "id": "77f0ef15-2786-4db8-a40e-c21358efbbf0",
   "metadata": {},
   "outputs": [],
   "source": [
    "def makePIController(setpoint=S5_SETPOINT, kP=20, kI=10):\n",
    "    \"\"\"\n",
    "    Makes a PI controller\n",
    "    \n",
    "    Parameters\n",
    "    ----------\n",
    "    setpoint: float\n",
    "    kP: float\n",
    "    kI: float\n",
    "    \n",
    "    Returns\n",
    "    -------\n",
    "    NonlinearIOSystem\n",
    "    \"\"\"\n",
    "    # Calculate derivative of state\n",
    "    def updfcn(t, x, u, _):\n",
    "        # Accumulate the control error\n",
    "        # t: float (time)\n",
    "        # x: array-float (state)\n",
    "        # u: array-float (output from OLS)\n",
    "        # returns: array-float (derivative of state)\n",
    "        dx = setpoint - u[0]\n",
    "        return dx\n",
    "\n",
    "    # Calculate output value\n",
    "    def outfcn(t, x, u, _):\n",
    "        # Calculate the output from the input\n",
    "        # t: float (time)\n",
    "        # x: array-float (state)\n",
    "        # u: array-float (inputs)\n",
    "        # returns: array (output)\n",
    "        new_err = setpoint - u[0]\n",
    "        output = kI*x[0] + kP*new_err\n",
    "        return output\n",
    "\n",
    "    controller = control.NonlinearIOSystem(\n",
    "      updfcn,\n",
    "      outfcn,\n",
    "      states=1,\n",
    "      inputs=['in'],\n",
    "      outputs=['out'], name='controller_sys')\n",
    "    return controller\n",
    "\n",
    "# Tests\n",
    "controller = makePIController()\n",
    "assert(\"NonlinearIOSystem\" in str(type(controller)))\n",
    "print(\"OK\")"
   ]
  },
  {
   "cell_type": "markdown",
   "id": "af1d0388-89b1-4d57-91c4-6716d0272bcd",
   "metadata": {},
   "source": [
    "We form a closed loop system so that the output of the glycolytic system, ``sys.s5``, is\n",
    "the input the the controller, ``controller.in``.\n",
    "And, the output of the controller, ``controller.out``, is the input the glycolytic system."
   ]
  },
  {
   "cell_type": "code",
   "execution_count": null,
   "id": "5b72e95d-48cf-4889-b1ff-61ec83566b55",
   "metadata": {},
   "outputs": [],
   "source": [
    "def makeInterconnect(wolf_sys=wolf_sys, **kwargs):\n",
    "    \"\"\"\n",
    "    Create an Interconnect object for the Wolf closed loop system.\n",
    "    \n",
    "    Parameters\n",
    "    ----------\n",
    "    wolf_sys: NonlinearIOSystem\n",
    "    kwargs: dict (arguments for makePIController)\n",
    "    \n",
    "    Returns\n",
    "    -------\n",
    "    Interconnect\n",
    "    \"\"\"\n",
    "    controller_sys = makePIController(**kwargs)\n",
    "    closed_sys = control.interconnect(\n",
    "      [wolf_sys, controller_sys],       # systems\n",
    "      connections=[\n",
    "        ['wolf_sys.at', 'controller_sys.out'],\n",
    "        ['controller_sys.in',  'wolf_sys.s5'],\n",
    "      ],\n",
    "      inplist=[\"controller_sys.in\"],\n",
    "      outlist=[\"wolf_sys.s5\", 'wolf_sys.at'],\n",
    "    )\n",
    "    return closed_sys\n",
    "\n",
    "# Tests\n",
    "interconnect = makeInterconnect()\n",
    "assert(\"Interconnect\" in str(type(interconnect)))\n",
    "print(\"OK!\")"
   ]
  },
  {
   "cell_type": "markdown",
   "id": "441ca9ce-6cee-41dc-ac37-671c9459f7c9",
   "metadata": {},
   "source": [
    "Now, we simulate the closed loop system.\n",
    "Note that we have eliminated oscillations, and ``s5`` converges to 6."
   ]
  },
  {
   "cell_type": "code",
   "execution_count": null,
   "id": "3e06d275-34b0-40f4-a223-fef2f4f75dd0",
   "metadata": {},
   "outputs": [],
   "source": [
    "closed_sys = makeInterconnect(setpoint=6, kP=0.01, kI=0.05)\n",
    "end_time = 1\n",
    "ts = ctl.simulateSystem(closed_sys, end_time=end_time, output_names=[\"s5\", \"atp\"])\n",
    "#ts = ctl.simulateSystem(closed_sys, end_time=end_time)\n",
    "ts[\"setpoint\"] = S5_SETPOINT\n",
    "# Plot the resultkkk\n",
    "_ = ctl.plotOneTS(ts, figsize=(5,5), title=\"Closed Loop Wolf System\", ylim=[-1, 10])"
   ]
  },
  {
   "cell_type": "markdown",
   "id": "adbfc8b1-94a7-4cfc-994d-2e6ea4211d20",
   "metadata": {},
   "source": [
    "We see that the control system has achieved its objectives."
   ]
  }
 ],
 "metadata": {
  "kernelspec": {
   "display_name": "Python 3 (ipykernel)",
   "language": "python",
   "name": "python3"
  },
  "language_info": {
   "codemirror_mode": {
    "name": "ipython",
    "version": 3
   },
   "file_extension": ".py",
   "mimetype": "text/x-python",
   "name": "python",
   "nbconvert_exporter": "python",
   "pygments_lexer": "ipython3",
   "version": "3.9.6"
  },
  "toc-autonumbering": false
 },
 "nbformat": 4,
 "nbformat_minor": 5
}
