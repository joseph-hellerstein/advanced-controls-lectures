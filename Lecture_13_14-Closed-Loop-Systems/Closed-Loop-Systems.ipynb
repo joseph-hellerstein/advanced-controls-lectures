{
 "cells": [
  {
   "cell_type": "markdown",
   "id": "b1229fec-e965-4858-b3e7-cf67e8645060",
   "metadata": {},
   "source": [
    "# CLOSED LOOP SYSTEMS"
   ]
  },
  {
   "cell_type": "markdown",
   "id": "6f6af7d4-63dc-4ec1-95ba-bdd6f9c35720",
   "metadata": {
    "tags": []
   },
   "source": [
    "This notebook is a companion to the slides for understanding closed loop systems."
   ]
  },
  {
   "cell_type": "markdown",
   "id": "ea1ef56b-9c3d-4fbe-8202-151b8979a57b",
   "metadata": {},
   "source": [
    "# Preliminaries"
   ]
  },
  {
   "cell_type": "code",
   "execution_count": 1,
   "id": "f16d0f7a-d0c5-4f37-aa29-feed6d82a363",
   "metadata": {},
   "outputs": [],
   "source": [
    "!pip install -q control\n",
    "!pip install -q tellurium\n",
    "!pip install -q controlSBML\n",
    "\n",
    "import control\n",
    "import controlSBML as ctl\n",
    "import numpy as np\n",
    "import pandas as pd\n",
    "import matplotlib.pyplot as plt\n",
    "import sympy\n",
    "import tellurium as te"
   ]
  },
  {
   "cell_type": "code",
   "execution_count": 2,
   "id": "0e08f473-49e8-4878-bc53-289472bb71fb",
   "metadata": {},
   "outputs": [],
   "source": [
    "TIMES = ctl.makeSimulationTimes(0, 5, 500)"
   ]
  },
  {
   "cell_type": "markdown",
   "id": "f5286452-eb67-42ca-8dae-be9954e20efa",
   "metadata": {},
   "source": [
    "# Helpers"
   ]
  },
  {
   "cell_type": "code",
   "execution_count": 3,
   "id": "55e3604e-6392-45b8-818c-8c7624758fcc",
   "metadata": {},
   "outputs": [
    {
     "name": "stdout",
     "output_type": "stream",
     "text": [
      "OK!\n"
     ]
    }
   ],
   "source": [
    "def plotStep(tf, is_plot=True):\n",
    "    \"\"\"\n",
    "    Plots a transfer function step response\n",
    "    \n",
    "    Parameters\n",
    "    ----------\n",
    "    tf: control.TransferFunction\n",
    "    \"\"\"\n",
    "    result = control.forced_response(tf, T=TIMES, U=1)\n",
    "    if is_plot:\n",
    "        plt.plot(result.t, result.outputs)\n",
    "\n",
    "# TESTS\n",
    "Gs = control.TransferFunction([2], [1, 3])\n",
    "plotStep(Gs, is_plot=False)\n",
    "print(\"OK!\")"
   ]
  },
  {
   "cell_type": "markdown",
   "id": "c9bf0155-b67b-481c-8ac5-fcc7244312cd",
   "metadata": {},
   "source": [
    "# Antimony Model"
   ]
  },
  {
   "cell_type": "markdown",
   "id": "5acdfef4-ad30-4e42-a56d-94dc30835830",
   "metadata": {},
   "source": [
    "$\\$S_1 \\xrightarrow{k_1 S_1} S_2$,\n",
    "$S_2 \\xrightarrow{k_2 S_3} S_3$,\n",
    "$S_3 \\xrightarrow{k_3 S_3} S_2$,\n",
    "$S_2 \\xrightarrow{k_2 S_3} \\emptyset$,"
   ]
  },
  {
   "cell_type": "code",
   "execution_count": 4,
   "id": "e72be43c-f53c-493c-a7a6-9e4361b34bca",
   "metadata": {},
   "outputs": [],
   "source": [
    "# Constants\n",
    "CONSTANT_DCT = {\"k1\": 1, \"k2\": 2, \"k3\": 3, \"k4\": 4}\n",
    "s = sympy.Symbol(\"s\")\n",
    "REF = 10"
   ]
  },
  {
   "cell_type": "code",
   "execution_count": 5,
   "id": "64e2bdc6-baae-49d2-87d3-b742349b7595",
   "metadata": {},
   "outputs": [
    {
     "data": {
      "image/png": "[encoded data removed]",
      "text/plain": [
       "<Figure size 432x288 with 1 Axes>"
      ]
     },
     "metadata": {},
     "output_type": "display_data"
    }
   ],
   "source": [
    "MODEL = \"\"\"\n",
    "$S1 -> S2; k1*$S1\n",
    "J1: S2 -> S3; k2*S2\n",
    "J2: S3 -> S2; k3*S3\n",
    "J3: S2 -> ; k4*S2\n",
    "\n",
    "k1 = 0\n",
    "k2 = 0\n",
    "k3 = 0\n",
    "k4 = 0\n",
    "$S1 = 10\n",
    "S2 = 0\n",
    "S3 = 0\n",
    "S4 = 0\n",
    "\"\"\"\n",
    "RR = te.loada(MODEL)\n",
    "for k in CONSTANT_DCT.keys():\n",
    "    RR[k] = CONSTANT_DCT[k]\n",
    "RR.simulate()\n",
    "RR.plot()"
   ]
  },
  {
   "cell_type": "markdown",
   "id": "0c1f477d-62ad-49b2-a043-b9c65522f45a",
   "metadata": {},
   "source": [
    "\n",
    "<img src=\"https://github.com/joseph-hellerstein/advanced-controls-lectures/blob/main/Lecture_13_14-Closed-Loop-Systems/Closed-Loop-Transfer-Function.png?raw=true\"\n",
    "     alt=\"Markdown Monster icon\" width=600pt\n",
    "     style=\"float: left; margin-right: 10px;\" />"
   ]
  },
  {
   "cell_type": "markdown",
   "id": "26454a5f-68ca-4abf-b7d6-30feff1f750f",
   "metadata": {},
   "source": [
    "We are going to control ``S3`` by changing ``S2``. That is, $U(s) = S_2  (s)$\n",
    "and $Y(s) = S_3 (s)$."
   ]
  },
  {
   "cell_type": "markdown",
   "id": "eb8bc3d6-2e23-4e72-bb7b-623b03d144a7",
   "metadata": {},
   "source": [
    "# Simulating the Closed Loop System"
   ]
  },
  {
   "cell_type": "code",
   "execution_count": 6,
   "id": "4a8c0b2c-86c6-4840-812b-c01ffbf24f07",
   "metadata": {},
   "outputs": [],
   "source": [
    "ctlsb = ctl.ControlSBML(RR,  input_names=[\"S2\"], output_names=[\"S3\"])"
   ]
  },
  {
   "cell_type": "code",
   "execution_count": 7,
   "id": "d4c36f5b-cd13-407d-af73-f3f53156e6be",
   "metadata": {},
   "outputs": [],
   "source": [
    "sys = ctlsb.makeNonlinearIOSystem(\"sys\")"
   ]
  },
  {
   "cell_type": "code",
   "execution_count": 8,
   "id": "c9e27398-7868-4b36-a6a1-9fbae327ba5e",
   "metadata": {},
   "outputs": [
    {
     "data": {
      "text/latex": [
       "\\[\n",
       "\\left(\\begin{array}{rll|rll}\n",
       "-3\\phantom{.}&\\hspace{-1em}&\\hspace{-1em}\\phantom{\\cdot}&2\\phantom{.}&\\hspace{-1em}&\\hspace{-1em}\\phantom{\\cdot}\\\\\n",
       "\\hline\n",
       "1\\phantom{.}&\\hspace{-1em}&\\hspace{-1em}\\phantom{\\cdot}&0\\phantom{.}&\\hspace{-1em}&\\hspace{-1em}\\phantom{\\cdot}\\\\\n",
       "\\end{array}\\right)\n",
       "\\]"
      ],
      "text/plain": [
       "StateSpace(array([[-3.]]), array([[2.]]), array([[1.]]), array([[0.]]))"
      ]
     },
     "execution_count": 8,
     "metadata": {},
     "output_type": "execute_result"
    }
   ],
   "source": [
    "ctlsb.makeStateSpace()"
   ]
  },
  {
   "cell_type": "code",
   "execution_count": 9,
   "id": "a710c4c5-defd-4d51-abb6-6a16d8503a3d",
   "metadata": {},
   "outputs": [],
   "source": [
    "def controller_outfcn(_, __, u, param_dct):\n",
    "    k = param_dct.get(\"k\", 2)\n",
    "    ref = param_dct.get(\"ref\", REF)\n",
    "    return k*([REF] - u[0])\n",
    "#\n",
    "controller = control.NonlinearIOSystem(\n",
    "    None, controller_outfcn, inputs=['in'], outputs=['out'],\n",
    "    name=\"controller\")"
   ]
  },
  {
   "cell_type": "code",
   "execution_count": 10,
   "id": "d47a71ac-0bbe-48a4-9711-515f6c90affa",
   "metadata": {},
   "outputs": [],
   "source": [
    "# Create the closed loop system\n",
    "closed_loop = control.interconnect(\n",
    "  [sys, controller],       # systems\n",
    "  connections=[\n",
    "    ['sys.S2', 'controller.out'],\n",
    "    ['controller.in',  'sys.S3'],\n",
    "  ],\n",
    "  inplist=[\"controller.in\"],\n",
    "  outlist=[\"sys.S2\", \"sys.S3\"],\n",
    ")"
   ]
  },
  {
   "cell_type": "code",
   "execution_count": 11,
   "id": "6dcfb158-930d-49a7-a480-e5f845e6f7c0",
   "metadata": {},
   "outputs": [
    {
     "data": {
      "text/plain": [
       "<matplotlib.legend.Legend at 0x7f8cce4be1d0>"
      ]
     },
     "execution_count": 11,
     "metadata": {},
     "output_type": "execute_result"
    },
    {
     "data": {
      "image/png": "[encoded data removed]",
      "text/plain": [
       "<Figure size 432x288 with 1 Axes>"
      ]
     },
     "metadata": {
      "needs_background": "light"
     },
     "output_type": "display_data"
    }
   ],
   "source": [
    "param_dct = {\"k\": 5, \"ref\": REF}\n",
    "result = control.input_output_response(closed_loop, T=TIMES, params=param_dct)\n",
    "plt.plot(TIMES, result.outputs[0], TIMES, result.outputs[1])\n",
    "plt.legend([\"S2\", \"S3\"])"
   ]
  },
  {
   "cell_type": "code",
   "execution_count": 12,
   "id": "b5305ccf-8bf3-4f72-9358-ceee003880a7",
   "metadata": {},
   "outputs": [
    {
     "data": {
      "text/plain": [
       "array([7.68988725, 7.68994905])"
      ]
     },
     "execution_count": 12,
     "metadata": {},
     "output_type": "execute_result"
    }
   ],
   "source": [
    "result.outputs[1][-2:]"
   ]
  },
  {
   "cell_type": "code",
   "execution_count": 13,
   "id": "f6235745-8b06-4f15-8ae1-d79bfb42c637",
   "metadata": {},
   "outputs": [
    {
     "data": {
      "text/plain": [
       "control.iosys.InterconnectedSystem"
      ]
     },
     "execution_count": 13,
     "metadata": {},
     "output_type": "execute_result"
    }
   ],
   "source": [
    "type(control.feedback(controller, sys))"
   ]
  },
  {
   "cell_type": "markdown",
   "id": "93400e09-ac40-40d5-bd7e-8089572972f0",
   "metadata": {},
   "source": [
    "The output is biased! We wanted $S_3$ to be 10, but it's 7.6."
   ]
  },
  {
   "cell_type": "markdown",
   "id": "320667ba-a5de-4853-90f5-f32af589dff8",
   "metadata": {},
   "source": [
    "# Analyzing the Cause of Bias"
   ]
  },
  {
   "cell_type": "markdown",
   "id": "16175e0f-13e5-404b-ba7a-003c64dbe0de",
   "metadata": {},
   "source": [
    "Using direct calculation, I have calculated the transfer function $G(s) = \\frac{k_2}{s + k_3}$."
   ]
  },
  {
   "cell_type": "code",
   "execution_count": 14,
   "id": "16346b62-f81c-4324-9cc8-babea8390eaa",
   "metadata": {},
   "outputs": [
    {
     "data": {
      "text/latex": [
       "$$\\frac{2}{s + 3}$$"
      ],
      "text/plain": [
       "TransferFunction(array([2]), array([1, 3]))"
      ]
     },
     "execution_count": 14,
     "metadata": {},
     "output_type": "execute_result"
    }
   ],
   "source": [
    "numerator = CONSTANT_DCT[\"k2\"]\n",
    "denominator = [1, CONSTANT_DCT[\"k3\"]]\n",
    "tf = control.TransferFunction(numerator, denominator)\n",
    "tf"
   ]
  },
  {
   "cell_type": "code",
   "execution_count": 15,
   "id": "f3dd9475-4ff3-41bf-bf81-5c7fcaf03470",
   "metadata": {},
   "outputs": [
    {
     "data": {
      "text/latex": [
       "$\\displaystyle \\frac{2}{s + 3}$"
      ],
      "text/plain": [
       "2/(s + 3)"
      ]
     },
     "execution_count": 15,
     "metadata": {},
     "output_type": "execute_result"
    }
   ],
   "source": [
    "G = 2/(s + 3)\n",
    "G"
   ]
  },
  {
   "cell_type": "code",
   "execution_count": 16,
   "id": "deb52dc5-d049-432e-97f1-36efee47289f",
   "metadata": {},
   "outputs": [],
   "source": [
    "C = sympy.symbols(\"k\")"
   ]
  },
  {
   "cell_type": "markdown",
   "id": "449d9f90-ec3b-4574-bcdd-f6760f9326af",
   "metadata": {
    "tags": []
   },
   "source": [
    "We calculate the transfer function for the closed loop system, $H(s) = \\frac{Y(s)}{R(s)}$."
   ]
  },
  {
   "cell_type": "markdown",
   "id": "90b0c8d2-8375-4e5f-962b-5abb4b6bf6d1",
   "metadata": {},
   "source": [
    "# Constructing Transfer Functions"
   ]
  },
  {
   "cell_type": "markdown",
   "id": "6ecedaeb-c70f-44b6-b999-14ba768e1413",
   "metadata": {},
   "source": [
    "<img src=\"https://github.com/joseph-hellerstein/advanced-controls-lectures/blob/main/Lecture_13_14-Closed-Loop-Systems/Transfer-Functions.png?raw=true\"\n",
    "     alt=\"Markdown Monster icon\" width=300pt\n",
    "     style=\"float: left; margin-right: 10px;\" />"
   ]
  },
  {
   "cell_type": "markdown",
   "id": "a88c462c-29b3-4e42-914d-bebe10fb0b04",
   "metadata": {},
   "source": [
    "In the following, we use $G(s) = \\frac{2}{s + 3}$ and $C(s) = k$ (proportional control)."
   ]
  },
  {
   "cell_type": "code",
   "execution_count": 17,
   "id": "be8ae728-4e56-4cfb-8657-115d31bc05fa",
   "metadata": {
    "tags": []
   },
   "outputs": [
    {
     "data": {
      "text/latex": [
       "$$\\frac{2}{s + 3}$$"
      ],
      "text/plain": [
       "TransferFunction(array([2]), array([1, 3]))"
      ]
     },
     "execution_count": 17,
     "metadata": {},
     "output_type": "execute_result"
    }
   ],
   "source": [
    "Gs = control.TransferFunction([2], [1, 3])\n",
    "Gs"
   ]
  },
  {
   "cell_type": "code",
   "execution_count": 18,
   "id": "662e90e6-5c2a-4328-9262-7ed1cd889423",
   "metadata": {},
   "outputs": [
    {
     "data": {
      "image/png": "[encoded data removed]",
      "text/plain": [
       "<Figure size 432x288 with 1 Axes>"
      ]
     },
     "metadata": {
      "needs_background": "light"
     },
     "output_type": "display_data"
    }
   ],
   "source": [
    "plotStep(Gs)"
   ]
  },
  {
   "cell_type": "markdown",
   "id": "2a2b656e-29f1-4f51-9d5a-61e8286e2b13",
   "metadata": {},
   "source": [
    "The original system, $G(s)$, settles around time 1."
   ]
  },
  {
   "cell_type": "code",
   "execution_count": 19,
   "id": "7a7c350b-5761-4647-a4e1-4d1248aa835c",
   "metadata": {
    "tags": []
   },
   "outputs": [
    {
     "data": {
      "text/plain": [
       "5.0"
      ]
     },
     "execution_count": 19,
     "metadata": {},
     "output_type": "execute_result"
    }
   ],
   "source": [
    "k = 5\n",
    "Cs = control.TransferFunction([k], [1])\n",
    "Cs.dcgain()"
   ]
  },
  {
   "cell_type": "markdown",
   "id": "0c8a78e8-d37c-4779-9ba9-94365a5a34ad",
   "metadata": {},
   "source": [
    "For the filter, we use a low pass filter."
   ]
  },
  {
   "cell_type": "markdown",
   "id": "a26b9b09-b38b-4d52-8eb1-582239780a05",
   "metadata": {},
   "source": [
    "$F(s) = \\frac{k_f}{s + k_f}$. Note that the DC Gain of $F(s)$ is 1."
   ]
  },
  {
   "cell_type": "code",
   "execution_count": 20,
   "id": "2d588e82-7e98-4853-b407-ff70a5f82b30",
   "metadata": {},
   "outputs": [
    {
     "data": {
      "text/plain": [
       "1.0"
      ]
     },
     "execution_count": 20,
     "metadata": {},
     "output_type": "execute_result"
    }
   ],
   "source": [
    "kf = 5\n",
    "Fs = control.TransferFunction([kf], [1, kf])\n",
    "Fs.dcgain()"
   ]
  },
  {
   "cell_type": "markdown",
   "id": "3ecfe36e-a723-460f-845d-c4a206930c34",
   "metadata": {},
   "source": [
    "We use the above transfer functions to construct the various closed loop transfer functions.\n",
    "Note that you can multiply and divide transfer function objects."
   ]
  },
  {
   "cell_type": "code",
   "execution_count": 21,
   "id": "40afdbdd-90d2-4839-9f1b-94a80077c4fe",
   "metadata": {
    "tags": []
   },
   "outputs": [
    {
     "name": "stdout",
     "output_type": "stream",
     "text": [
      "1 states have been removed from the model\n"
     ]
    },
    {
     "data": {
      "text/latex": [
       "$$\\frac{10}{s + 13}$$"
      ],
      "text/plain": [
       "TransferFunction(array([10.]), array([ 1., 13.]))"
      ]
     },
     "execution_count": 21,
     "metadata": {},
     "output_type": "execute_result"
    }
   ],
   "source": [
    "HRYs = control.minreal(Cs*Gs/(1 + Cs*Gs))\n",
    "HRYs"
   ]
  },
  {
   "cell_type": "code",
   "execution_count": 22,
   "id": "e50ef8e3-b53c-4a99-a034-9c53f7803d29",
   "metadata": {
    "tags": []
   },
   "outputs": [
    {
     "data": {
      "text/plain": [
       "array([-13.])"
      ]
     },
     "execution_count": 22,
     "metadata": {},
     "output_type": "execute_result"
    }
   ],
   "source": [
    "HRYs.pole()"
   ]
  },
  {
   "cell_type": "code",
   "execution_count": 23,
   "id": "37eeec55-cfee-4542-a9fc-bedd3cb5ff76",
   "metadata": {},
   "outputs": [
    {
     "data": {
      "text/plain": [
       "0.7692307692307693"
      ]
     },
     "execution_count": 23,
     "metadata": {},
     "output_type": "execute_result"
    }
   ],
   "source": [
    "HRYs.dcgain()"
   ]
  },
  {
   "cell_type": "code",
   "execution_count": 24,
   "id": "f27f5f20-516e-4225-8616-42259548b2af",
   "metadata": {},
   "outputs": [
    {
     "data": {
      "image/png": "[encoded data removed]",
      "text/plain": [
       "<Figure size 432x288 with 1 Axes>"
      ]
     },
     "metadata": {
      "needs_background": "light"
     },
     "output_type": "display_data"
    }
   ],
   "source": [
    "plotStep(HRYs)"
   ]
  },
  {
   "cell_type": "markdown",
   "id": "c0c312b9-d291-46c3-97bf-59ca58acda8b",
   "metadata": {},
   "source": [
    "The closed loop system settles around time 0.5."
   ]
  },
  {
   "cell_type": "markdown",
   "id": "0629e458-a358-4b8c-9b8a-0161fd17241c",
   "metadata": {},
   "source": [
    "Now we include the filter"
   ]
  },
  {
   "cell_type": "code",
   "execution_count": 25,
   "id": "b1a615a1-48ef-40d2-bd2a-87530edd0026",
   "metadata": {},
   "outputs": [
    {
     "name": "stdout",
     "output_type": "stream",
     "text": [
      "1 states have been removed from the model\n"
     ]
    },
    {
     "data": {
      "text/latex": [
       "$$\\frac{10 s + 50}{s^2 + 8 s + 65}$$"
      ],
      "text/plain": [
       "TransferFunction(array([10., 50.]), array([ 1.,  8., 65.]))"
      ]
     },
     "execution_count": 25,
     "metadata": {},
     "output_type": "execute_result"
    }
   ],
   "source": [
    "HRYs = control.minreal(Cs*Gs/(1 + Cs*Gs*Fs))\n",
    "HRYs"
   ]
  },
  {
   "cell_type": "code",
   "execution_count": 26,
   "id": "8bbe716a-2ae5-4361-aafd-501dd3c8d27e",
   "metadata": {},
   "outputs": [
    {
     "data": {
      "text/plain": [
       "0.7692307692307698"
      ]
     },
     "execution_count": 26,
     "metadata": {},
     "output_type": "execute_result"
    }
   ],
   "source": [
    "HRYs.dcgain()"
   ]
  },
  {
   "cell_type": "code",
   "execution_count": 27,
   "id": "25f1f70e-500d-4171-a1b1-067cbded1549",
   "metadata": {},
   "outputs": [
    {
     "data": {
      "image/png": "[encoded data removed]",
      "text/plain": [
       "<Figure size 432x288 with 1 Axes>"
      ]
     },
     "metadata": {
      "needs_background": "light"
     },
     "output_type": "display_data"
    }
   ],
   "source": [
    "plotStep(HRYs)"
   ]
  },
  {
   "cell_type": "code",
   "execution_count": 28,
   "id": "49abcd0c-ae44-4cf4-8e32-4ed049bd0423",
   "metadata": {},
   "outputs": [
    {
     "name": "stdout",
     "output_type": "stream",
     "text": [
      "0 states have been removed from the model\n"
     ]
    },
    {
     "data": {
      "text/latex": [
       "$$\\frac{s^2 + 8 s + 15}{s^2 + 8 s + 65}$$"
      ],
      "text/plain": [
       "TransferFunction(array([ 1.,  8., 15.]), array([ 1.,  8., 65.]))"
      ]
     },
     "execution_count": 28,
     "metadata": {},
     "output_type": "execute_result"
    }
   ],
   "source": [
    "HREs = control.minreal(1/(1 + Cs*Gs*Fs))\n",
    "HREs"
   ]
  },
  {
   "cell_type": "markdown",
   "id": "265a092b-b019-4dbc-9304-30112b7c80aa",
   "metadata": {},
   "source": [
    "We moved the pole of the original system from -3 to -13."
   ]
  }
 ],
 "metadata": {
  "kernelspec": {
   "display_name": "Python 3",
   "language": "python",
   "name": "python3"
  },
  "language_info": {
   "codemirror_mode": {
    "name": "ipython",
    "version": 3
   },
   "file_extension": ".py",
   "mimetype": "text/x-python",
   "name": "python",
   "nbconvert_exporter": "python",
   "pygments_lexer": "ipython3",
   "version": "3.6.9"
  }
 },
 "nbformat": 4,
 "nbformat_minor": 5
}
