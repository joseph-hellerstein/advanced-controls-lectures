{
 "cells": [
  {
   "cell_type": "markdown",
   "id": "b1229fec-e965-4858-b3e7-cf67e8645060",
   "metadata": {},
   "source": [
    "# CLOSED LOOP SYSTEMS"
   ]
  },
  {
   "cell_type": "markdown",
   "id": "6f6af7d4-63dc-4ec1-95ba-bdd6f9c35720",
   "metadata": {
    "tags": []
   },
   "source": [
    "This notebook is a companion to the slides for understanding closed loop systems."
   ]
  },
  {
   "cell_type": "markdown",
   "id": "ea1ef56b-9c3d-4fbe-8202-151b8979a57b",
   "metadata": {},
   "source": [
    "# Preliminaries"
   ]
  },
  {
   "cell_type": "code",
   "execution_count": 1,
   "id": "f16d0f7a-d0c5-4f37-aa29-feed6d82a363",
   "metadata": {},
   "outputs": [],
   "source": [
    "!pip install -q control\n",
    "!pip install -q tellurium\n",
    "!pip install -q controlSBML\n",
    "\n",
    "import control\n",
    "import controlSBML as ctl\n",
    "import numpy as np\n",
    "import pandas as pd\n",
    "import matplotlib.pyplot as plt\n",
    "import sympy\n",
    "import tellurium as te"
   ]
  },
  {
   "cell_type": "code",
   "execution_count": 2,
   "id": "0e08f473-49e8-4878-bc53-289472bb71fb",
   "metadata": {},
   "outputs": [],
   "source": [
    "TIMES = ctl.makeSimulationTimes(0, 5, 500)"
   ]
  },
  {
   "cell_type": "markdown",
   "id": "c9bf0155-b67b-481c-8ac5-fcc7244312cd",
   "metadata": {},
   "source": [
    "# Antimony Model"
   ]
  },
  {
   "cell_type": "markdown",
   "id": "5acdfef4-ad30-4e42-a56d-94dc30835830",
   "metadata": {},
   "source": [
    "$\\$S_1 \\xrightarrow{k_1 S_1} S_2$,\n",
    "$S_2 \\xrightarrow{k_2 S_3} S_3$,\n",
    "$S_3 \\xrightarrow{k_3 S_3} S_2$,\n",
    "$S_2 \\xrightarrow{k_2 S_3} \\emptyset$,"
   ]
  },
  {
   "cell_type": "code",
   "execution_count": 3,
   "id": "e72be43c-f53c-493c-a7a6-9e4361b34bca",
   "metadata": {},
   "outputs": [],
   "source": [
    "# Constants\n",
    "CONSTANT_DCT = {\"k1\": 1, \"k2\": 2, \"k3\": 3, \"k4\": 4}\n",
    "s = sympy.Symbol(\"s\")\n",
    "REF = 10"
   ]
  },
  {
   "cell_type": "code",
   "execution_count": 4,
   "id": "64e2bdc6-baae-49d2-87d3-b742349b7595",
   "metadata": {},
   "outputs": [
    {
     "data": {
      "image/png": "[encoded data removed]",
      "text/plain": [
       "<Figure size 432x288 with 1 Axes>"
      ]
     },
     "metadata": {},
     "output_type": "display_data"
    }
   ],
   "source": [
    "MODEL = \"\"\"\n",
    "$S1 -> S2; k1*$S1\n",
    "J1: S2 -> S3; k2*S2\n",
    "J2: S3 -> S2; k3*S3\n",
    "J3: S2 -> ; k4*S2\n",
    "\n",
    "k1 = 0\n",
    "k2 = 0\n",
    "k3 = 0\n",
    "k4 = 0\n",
    "$S1 = 10\n",
    "S2 = 0\n",
    "S3 = 0\n",
    "S4 = 0\n",
    "\"\"\"\n",
    "RR = te.loada(MODEL)\n",
    "for k in CONSTANT_DCT.keys():\n",
    "    RR[k] = CONSTANT_DCT[k]\n",
    "RR.simulate()\n",
    "RR.plot()"
   ]
  },
  {
   "cell_type": "markdown",
   "id": "0c1f477d-62ad-49b2-a043-b9c65522f45a",
   "metadata": {},
   "source": [
    "\n",
    "<img src=\"https://github.com/joseph-hellerstein/advanced-controls-lectures/blob/main/Lecture_13-Closed-Loop-Systems/Closed-Loop-Transfer-Function.png?raw=true\"\n",
    "     alt=\"Markdown Monster icon\" width=600pt\n",
    "     style=\"float: left; margin-right: 10px;\" />"
   ]
  },
  {
   "cell_type": "markdown",
   "id": "26454a5f-68ca-4abf-b7d6-30feff1f750f",
   "metadata": {},
   "source": [
    "We are going to control ``S3`` by changing ``S2``. That is, $U(s) = S_2  (s)$\n",
    "and $Y(s) = S_3 (s)$."
   ]
  },
  {
   "cell_type": "markdown",
   "id": "eb8bc3d6-2e23-4e72-bb7b-623b03d144a7",
   "metadata": {},
   "source": [
    "# Simulating the Closed Loop System"
   ]
  },
  {
   "cell_type": "code",
   "execution_count": 5,
   "id": "4a8c0b2c-86c6-4840-812b-c01ffbf24f07",
   "metadata": {},
   "outputs": [],
   "source": [
    "ctlsb = ctl.ControlSBML(RR,  input_names=[\"S2\"], output_names=[\"S3\"])"
   ]
  },
  {
   "cell_type": "code",
   "execution_count": 6,
   "id": "d4c36f5b-cd13-407d-af73-f3f53156e6be",
   "metadata": {},
   "outputs": [],
   "source": [
    "sys = ctlsb.makeNonlinearIOSystem(\"sys\")"
   ]
  },
  {
   "cell_type": "code",
   "execution_count": 17,
   "id": "c9e27398-7868-4b36-a6a1-9fbae327ba5e",
   "metadata": {},
   "outputs": [
    {
     "data": {
      "text/latex": [
       "\\[\n",
       "\\left(\\begin{array}{rllrll|rll}\n",
       "-6\\phantom{.}&\\hspace{-1em}&\\hspace{-1em}\\phantom{\\cdot}&3\\phantom{.}&\\hspace{-1em}&\\hspace{-1em}\\phantom{\\cdot}&1\\phantom{.}&\\hspace{-1em}&\\hspace{-1em}\\phantom{\\cdot}\\\\\n",
       "2\\phantom{.}&\\hspace{-1em}&\\hspace{-1em}\\phantom{\\cdot}&-3\\phantom{.}&\\hspace{-1em}&\\hspace{-1em}\\phantom{\\cdot}&0\\phantom{.}&\\hspace{-1em}&\\hspace{-1em}\\phantom{\\cdot}\\\\\n",
       "\\hline\n",
       "0\\phantom{.}&\\hspace{-1em}&\\hspace{-1em}\\phantom{\\cdot}&1\\phantom{.}&\\hspace{-1em}&\\hspace{-1em}\\phantom{\\cdot}&0\\phantom{.}&\\hspace{-1em}&\\hspace{-1em}\\phantom{\\cdot}\\\\\n",
       "\\end{array}\\right)\n",
       "\\]"
      ],
      "text/plain": [
       "StateSpace(array([[-6.,  3.],\n",
       "       [ 2., -3.]]), array([[1.],\n",
       "       [0.]]), array([[0., 1.]]), array([[0.]]))"
      ]
     },
     "execution_count": 17,
     "metadata": {},
     "output_type": "execute_result"
    }
   ],
   "source": [
    "ctlsb.makeStateSpace()"
   ]
  },
  {
   "cell_type": "code",
   "execution_count": 7,
   "id": "a710c4c5-defd-4d51-abb6-6a16d8503a3d",
   "metadata": {},
   "outputs": [],
   "source": [
    "def controller_outfcn(_, __, u, param_dct):\n",
    "    k = param_dct.get(\"k\", 2)\n",
    "    ref = param_dct.get(\"ref\", REF)\n",
    "    return k*([REF] - u[0])\n",
    "#\n",
    "controller = control.NonlinearIOSystem(\n",
    "    None, controller_outfcn, inputs=['in'], outputs=['out'],\n",
    "    name=\"controller\")"
   ]
  },
  {
   "cell_type": "code",
   "execution_count": 8,
   "id": "d47a71ac-0bbe-48a4-9711-515f6c90affa",
   "metadata": {},
   "outputs": [],
   "source": [
    "# Create the closed loop system\n",
    "closed_loop = control.interconnect(\n",
    "  [sys, controller],       # systems\n",
    "  connections=[\n",
    "    ['sys.S2', 'controller.out'],\n",
    "    ['controller.in',  'sys.S3'],\n",
    "  ],\n",
    "  inplist=[\"controller.in\"],\n",
    "  outlist=[\"sys.S2\", \"sys.S3\"],\n",
    ")"
   ]
  },
  {
   "cell_type": "code",
   "execution_count": 24,
   "id": "6dcfb158-930d-49a7-a480-e5f845e6f7c0",
   "metadata": {},
   "outputs": [
    {
     "data": {
      "text/plain": [
       "<matplotlib.legend.Legend at 0x7f8f77e874a8>"
      ]
     },
     "execution_count": 24,
     "metadata": {},
     "output_type": "execute_result"
    },
    {
     "data": {
      "image/png": "[encoded data removed]",
      "text/plain": [
       "<Figure size 432x288 with 1 Axes>"
      ]
     },
     "metadata": {
      "needs_background": "light"
     },
     "output_type": "display_data"
    }
   ],
   "source": [
    "param_dct = {\"k\": 5, \"ref\": REF}\n",
    "result = control.input_output_response(closed_loop, T=TIMES, params=param_dct)\n",
    "plt.plot(TIMES, result.outputs[0], TIMES, result.outputs[1])\n",
    "plt.legend([\"S2\", \"S3\"])"
   ]
  },
  {
   "cell_type": "code",
   "execution_count": 10,
   "id": "b5305ccf-8bf3-4f72-9358-ceee003880a7",
   "metadata": {},
   "outputs": [
    {
     "data": {
      "text/plain": [
       "array([7.68988725, 7.68994905])"
      ]
     },
     "execution_count": 10,
     "metadata": {},
     "output_type": "execute_result"
    }
   ],
   "source": [
    "result.outputs[1][-2:]"
   ]
  },
  {
   "cell_type": "code",
   "execution_count": 20,
   "id": "f6235745-8b06-4f15-8ae1-d79bfb42c637",
   "metadata": {},
   "outputs": [
    {
     "data": {
      "text/plain": [
       "control.iosys.InterconnectedSystem"
      ]
     },
     "execution_count": 20,
     "metadata": {},
     "output_type": "execute_result"
    }
   ],
   "source": [
    "type(control.feedback(controller, sys))"
   ]
  },
  {
   "cell_type": "markdown",
   "id": "93400e09-ac40-40d5-bd7e-8089572972f0",
   "metadata": {},
   "source": [
    "The output is biased! We wanted $S_3$ to be 10, but it's 7.6."
   ]
  },
  {
   "cell_type": "markdown",
   "id": "320667ba-a5de-4853-90f5-f32af589dff8",
   "metadata": {},
   "source": [
    "# Analyzing the Cause of Bias"
   ]
  },
  {
   "cell_type": "markdown",
   "id": "16175e0f-13e5-404b-ba7a-003c64dbe0de",
   "metadata": {},
   "source": [
    "Using direct calculation, I have calculated the transfer function $G(s) = \\frac{k_2}{s + k_3}$."
   ]
  },
  {
   "cell_type": "code",
   "execution_count": 11,
   "id": "16346b62-f81c-4324-9cc8-babea8390eaa",
   "metadata": {},
   "outputs": [
    {
     "data": {
      "text/latex": [
       "$$\\frac{2}{s + 3}$$"
      ],
      "text/plain": [
       "TransferFunction(array([2]), array([1, 3]))"
      ]
     },
     "execution_count": 11,
     "metadata": {},
     "output_type": "execute_result"
    }
   ],
   "source": [
    "numerator = CONSTANT_DCT[\"k2\"]\n",
    "denominator = [1, CONSTANT_DCT[\"k3\"]]\n",
    "tf = control.TransferFunction(numerator, denominator)\n",
    "tf"
   ]
  },
  {
   "cell_type": "code",
   "execution_count": 12,
   "id": "f3dd9475-4ff3-41bf-bf81-5c7fcaf03470",
   "metadata": {},
   "outputs": [
    {
     "data": {
      "text/latex": [
       "$\\displaystyle \\frac{2}{s + 3}$"
      ],
      "text/plain": [
       "2/(s + 3)"
      ]
     },
     "execution_count": 12,
     "metadata": {},
     "output_type": "execute_result"
    }
   ],
   "source": [
    "G = 2/(s + 3)\n",
    "G"
   ]
  },
  {
   "cell_type": "code",
   "execution_count": 13,
   "id": "deb52dc5-d049-432e-97f1-36efee47289f",
   "metadata": {},
   "outputs": [],
   "source": [
    "C = sympy.symbols(\"k\")"
   ]
  },
  {
   "cell_type": "markdown",
   "id": "449d9f90-ec3b-4574-bcdd-f6760f9326af",
   "metadata": {
    "tags": []
   },
   "source": [
    "We calculate the transfer function for the closed loop system, $H(s) = \\frac{Y(s)}{R(s)}$."
   ]
  },
  {
   "cell_type": "markdown",
   "id": "90b0c8d2-8375-4e5f-962b-5abb4b6bf6d1",
   "metadata": {},
   "source": [
    "# Constructing Transfer Functions"
   ]
  },
  {
   "cell_type": "code",
   "execution_count": 30,
   "id": "be8ae728-4e56-4cfb-8657-115d31bc05fa",
   "metadata": {
    "tags": []
   },
   "outputs": [
    {
     "data": {
      "text/latex": [
       "$$\\frac{2}{s + 3}$$"
      ],
      "text/plain": [
       "TransferFunction(array([2]), array([1, 3]))"
      ]
     },
     "execution_count": 30,
     "metadata": {},
     "output_type": "execute_result"
    }
   ],
   "source": [
    "G = control.TransferFunction([2], [1, 3])\n",
    "G"
   ]
  },
  {
   "cell_type": "code",
   "execution_count": 31,
   "id": "7a7c350b-5761-4647-a4e1-4d1248aa835c",
   "metadata": {
    "tags": []
   },
   "outputs": [],
   "source": [
    "k = 5\n",
    "C = control.TransferFunction([k], [1])"
   ]
  },
  {
   "cell_type": "code",
   "execution_count": 32,
   "id": "40afdbdd-90d2-4839-9f1b-94a80077c4fe",
   "metadata": {
    "collapsed": true,
    "jupyter": {
     "outputs_hidden": true
    },
    "tags": []
   },
   "outputs": [
    {
     "data": {
      "text/latex": [
       "$$\\frac{10}{s + 3}$$"
      ],
      "text/plain": [
       "TransferFunction(array([10.]), array([1, 3]))"
      ]
     },
     "execution_count": 32,
     "metadata": {},
     "output_type": "execute_result"
    }
   ],
   "source": [
    "L = control.series(C, G)\n",
    "L"
   ]
  },
  {
   "cell_type": "code",
   "execution_count": 33,
   "id": "e50ef8e3-b53c-4a99-a034-9c53f7803d29",
   "metadata": {
    "tags": []
   },
   "outputs": [
    {
     "data": {
      "text/latex": [
       "$$\\frac{10}{s + 13}$$"
      ],
      "text/plain": [
       "TransferFunction(array([10.]), array([ 1., 13.]))"
      ]
     },
     "execution_count": 33,
     "metadata": {},
     "output_type": "execute_result"
    }
   ],
   "source": [
    "H = control.feedback(L)\n",
    "H"
   ]
  },
  {
   "cell_type": "code",
   "execution_count": 34,
   "id": "90f8f105-877d-4e6f-a8fc-1d10b340a3ba",
   "metadata": {
    "tags": []
   },
   "outputs": [
    {
     "data": {
      "text/plain": [
       "0.7692307692307693"
      ]
     },
     "execution_count": 34,
     "metadata": {},
     "output_type": "execute_result"
    }
   ],
   "source": [
    "H.dcgain()"
   ]
  },
  {
   "cell_type": "code",
   "execution_count": 35,
   "id": "3532bb0a-d8a9-497d-bc4b-344ec29e35d1",
   "metadata": {},
   "outputs": [
    {
     "data": {
      "text/plain": [
       "array([-13.])"
      ]
     },
     "execution_count": 35,
     "metadata": {},
     "output_type": "execute_result"
    }
   ],
   "source": [
    "H.pole()"
   ]
  },
  {
   "cell_type": "markdown",
   "id": "265a092b-b019-4dbc-9304-30112b7c80aa",
   "metadata": {},
   "source": [
    "We moved the pole of the original system from -3 to -13."
   ]
  },
  {
   "cell_type": "code",
   "execution_count": 44,
   "id": "6af84ab3-d288-4924-ad8e-7652a5515608",
   "metadata": {},
   "outputs": [
    {
     "data": {
      "text/plain": [
       "[<matplotlib.lines.Line2D at 0x7f8f76662c88>]"
      ]
     },
     "execution_count": 44,
     "metadata": {},
     "output_type": "execute_result"
    },
    {
     "data": {
      "image/png": "[encoded data removed]",
      "text/plain": [
       "<Figure size 432x288 with 1 Axes>"
      ]
     },
     "metadata": {
      "needs_background": "light"
     },
     "output_type": "display_data"
    }
   ],
   "source": [
    "result = control.forced_response(G, T=TIMES, U=15)\n",
    "result.outputs\n",
    "plt.plot(TIMES, result.outputs)"
   ]
  },
  {
   "cell_type": "markdown",
   "id": "3ed81d9d-3f38-4d06-af39-e24817259ed3",
   "metadata": {},
   "source": [
    "# Infrastructure for Studying Feedback Design"
   ]
  },
  {
   "cell_type": "markdown",
   "id": "8004fa87-cf93-4b1a-a4e5-0660ee88cd70",
   "metadata": {},
   "source": [
    "We want a function that takes as input\n",
    "* $k$: the parameter of the controller\n",
    "* $G$: the transfer function of the system\n",
    "We will output the transfer function of the closed loop system."
   ]
  }
 ],
 "metadata": {
  "kernelspec": {
   "display_name": "Python 3",
   "language": "python",
   "name": "python3"
  },
  "language_info": {
   "codemirror_mode": {
    "name": "ipython",
    "version": 3
   },
   "file_extension": ".py",
   "mimetype": "text/x-python",
   "name": "python",
   "nbconvert_exporter": "python",
   "pygments_lexer": "ipython3",
   "version": "3.6.9"
  }
 },
 "nbformat": 4,
 "nbformat_minor": 5
}
