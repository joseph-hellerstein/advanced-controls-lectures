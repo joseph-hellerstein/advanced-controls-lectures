{
 "cells": [
  {
   "cell_type": "markdown",
   "id": "b1229fec-e965-4858-b3e7-cf67e8645060",
   "metadata": {},
   "source": [
    "# DESIGNING CLOSED LOOP SYSTEMS"
   ]
  },
  {
   "cell_type": "markdown",
   "id": "b14755c3-727a-4b2c-815c-2b0d7dc192d5",
   "metadata": {},
   "source": [
    "<img src=\"https://github.com/joseph-hellerstein/advanced-controls-lectures/blob/main/Lecture_13_14-Closed-Loop-Systems/Closed-Loop-System.png?raw=true\"\n",
    "     alt=\"Markdown Monster icon\" width=600pt\n",
    "     style=\"float: left; margin-right: 10px;\" />"
   ]
  },
  {
   "cell_type": "markdown",
   "id": "1d364ff2-fbd9-4dfc-bce8-d070b1d57418",
   "metadata": {},
   "source": [
    "This notebook describes the proportional, integral, and differential controllers."
   ]
  },
  {
   "cell_type": "markdown",
   "id": "ea1ef56b-9c3d-4fbe-8202-151b8979a57b",
   "metadata": {},
   "source": [
    "# Preliminaries"
   ]
  },
  {
   "cell_type": "code",
   "execution_count": 1,
   "id": "f16d0f7a-d0c5-4f37-aa29-feed6d82a363",
   "metadata": {},
   "outputs": [],
   "source": [
    "!pip install -q control\n",
    "!pip install -q tellurium\n",
    "!pip install -q controlSBML\n",
    "\n",
    "import control\n",
    "import controlSBML as ctl\n",
    "from IPython.display import HTML, Math\n",
    "import numpy as np\n",
    "import pandas as pd\n",
    "import matplotlib.pyplot as plt\n",
    "import sympy\n",
    "import tellurium as te"
   ]
  },
  {
   "cell_type": "code",
   "execution_count": 2,
   "id": "0e08f473-49e8-4878-bc53-289472bb71fb",
   "metadata": {},
   "outputs": [],
   "source": [
    "TIMES = ctl.makeSimulationTimes(0, 5, 500)"
   ]
  },
  {
   "cell_type": "code",
   "execution_count": 3,
   "id": "64e2bdc6-baae-49d2-87d3-b742349b7595",
   "metadata": {},
   "outputs": [
    {
     "data": {
      "image/png": "[encoded data removed]",
      "text/plain": [
       "<Figure size 432x288 with 1 Axes>"
      ]
     },
     "metadata": {},
     "output_type": "display_data"
    }
   ],
   "source": [
    "MODEL = \"\"\"\n",
    "-> S0; 5\n",
    "S0 -> S1; k0*S0\n",
    "S1 -> S2; k1*S1\n",
    "S2 -> S1; k2*S2\n",
    "S2 -> ; k3*S2\n",
    "\n",
    "k0 = 0.5\n",
    "k1 = 1\n",
    "k2 = 2\n",
    "k3 = 3\n",
    "S0 = 5\n",
    "S1 = 0\n",
    "S2 = 0\n",
    "\"\"\"\n",
    "RR = te.loada(MODEL)\n",
    "RR.simulate(0, 10)\n",
    "RR.plot()"
   ]
  },
  {
   "cell_type": "markdown",
   "id": "277644a8-2bd4-46c5-93a5-6959bd213df3",
   "metadata": {},
   "source": [
    "# Calculating symbolic eigenvalues"
   ]
  },
  {
   "cell_type": "code",
   "execution_count": 4,
   "id": "b05286e2-14e1-4134-af87-1e61907aa55b",
   "metadata": {},
   "outputs": [],
   "source": [
    "k0, k1, k2, k3, S1, S2, S0 = sympy.symbols(\"k0, k1, k2, k3, S1, S2, S0\")"
   ]
  },
  {
   "cell_type": "code",
   "execution_count": 5,
   "id": "0bdc13ce-530f-47b7-b8eb-0795baac50a3",
   "metadata": {},
   "outputs": [
    {
     "data": {
      "text/latex": [
       "$\\displaystyle \\left[\\begin{matrix}- k_{1} & k_{2}\\\\k_{1} & - k_{2} - k_{3}\\end{matrix}\\right]$"
      ],
      "text/plain": [
       "Matrix([\n",
       "[-k1,       k2],\n",
       "[ k1, -k2 - k3]])"
      ]
     },
     "execution_count": 5,
     "metadata": {},
     "output_type": "execute_result"
    }
   ],
   "source": [
    "A = sympy.Matrix([[-k1, k2], [k1, -k2-k3]])\n",
    "A"
   ]
  },
  {
   "cell_type": "code",
   "execution_count": 6,
   "id": "58eb047b-9d50-4158-9e13-073a714f45b9",
   "metadata": {},
   "outputs": [
    {
     "data": {
      "text/latex": [
       "$\\displaystyle - \\frac{k_{1}}{2} - \\frac{k_{2}}{2} - \\frac{k_{3}}{2} + \\frac{\\sqrt{k_{1}^{2} + 2 k_{1} k_{2} - 2 k_{1} k_{3} + k_{2}^{2} + 2 k_{2} k_{3} + k_{3}^{2}}}{2}$"
      ],
      "text/plain": [
       "-k1/2 - k2/2 - k3/2 + sqrt(k1**2 + 2*k1*k2 - 2*k1*k3 + k2**2 + 2*k2*k3 + k3**2)/2"
      ]
     },
     "execution_count": 6,
     "metadata": {},
     "output_type": "execute_result"
    }
   ],
   "source": [
    "eigenvalues = list(A.eigenvals().keys())\n",
    "eigenvalues[1].simplify()"
   ]
  },
  {
   "cell_type": "code",
   "execution_count": 7,
   "id": "759dec8e-4ac5-49b2-a4f5-1c4bb28fbe96",
   "metadata": {},
   "outputs": [
    {
     "data": {
      "text/latex": [
       "$\\displaystyle k_{1}^{2} + 2 k_{1} k_{2} + 2 k_{1} k_{3} + k_{2}^{2} + 2 k_{2} k_{3} + k_{3}^{2}$"
      ],
      "text/plain": [
       "k1**2 + 2*k1*k2 + 2*k1*k3 + k2**2 + 2*k2*k3 + k3**2"
      ]
     },
     "execution_count": 7,
     "metadata": {},
     "output_type": "execute_result"
    }
   ],
   "source": [
    "sympy.expand((k1 + k2 + k3)**2)"
   ]
  },
  {
   "cell_type": "code",
   "execution_count": 8,
   "id": "506cf923-d54f-4a9a-8b4b-51c068a46fdc",
   "metadata": {},
   "outputs": [],
   "source": [
    "expr1 = -(k1 +k2 + k3) + sympy.sqrt( (k1 + k2 +k3)**2 - 4*(k1*(k3-k2)))"
   ]
  },
  {
   "cell_type": "code",
   "execution_count": 9,
   "id": "b882fd76-728c-47de-8f3b-f3a281cace4a",
   "metadata": {},
   "outputs": [
    {
     "data": {
      "text/latex": [
       "$\\displaystyle -0.34314575050762$"
      ],
      "text/plain": [
       "-0.343145750507620"
      ]
     },
     "execution_count": 9,
     "metadata": {},
     "output_type": "execute_result"
    }
   ],
   "source": [
    "sympy.N(expr1.subs({k1: 1, k2: 2, k3: 3}))"
   ]
  },
  {
   "cell_type": "code",
   "execution_count": 10,
   "id": "19550b87-1b4d-4f46-8270-9f2a48731629",
   "metadata": {},
   "outputs": [
    {
     "data": {
      "text/latex": [
       "$\\displaystyle -11.6568542494924$"
      ],
      "text/plain": [
       "-11.6568542494924"
      ]
     },
     "execution_count": 10,
     "metadata": {},
     "output_type": "execute_result"
    }
   ],
   "source": [
    "expr2 = -(k1 +k2 + k3) - sympy.sqrt( (k1 + k2 +k3)**2 - 4*(k1*(k3-k2)))\n",
    "sympy.N(expr2.subs({k1: 1, k2: 2, k3: 3}))"
   ]
  },
  {
   "cell_type": "markdown",
   "id": "89c6d8d1-5c1a-4438-a034-7f5dcd82f2c5",
   "metadata": {},
   "source": [
    "# Full State Feedback"
   ]
  },
  {
   "cell_type": "markdown",
   "id": "ac0cb1f3-09d3-43b6-853b-6a9c45c8fed4",
   "metadata": {},
   "source": [
    "## Full State Controller"
   ]
  },
  {
   "cell_type": "code",
   "execution_count": 32,
   "id": "5d33a32f-d1c3-4923-a793-639958fe8282",
   "metadata": {},
   "outputs": [
    {
     "name": "stdout",
     "output_type": "stream",
     "text": [
      "OK!\n"
     ]
    }
   ],
   "source": [
    "def makeController(name, kp_vec):\n",
    "    \"\"\"\n",
    "    Creates a full state feedback controller.\n",
    "    \n",
    "    Parameters\n",
    "    ----------\n",
    "    name: str\n",
    "        Name of the system\n",
    "    kp_vec: list-float\n",
    "    \n",
    "    Returns\n",
    "    -------\n",
    "    control.NonlinearIOSystem\n",
    "    \"\"\"\n",
    "    kp_vec = np.array(kp_vec)\n",
    "    def outfcn(_, __, u_vec, ___):\n",
    "        # u_vec: list-float - vector of internal state deviations\n",
    "        output = kp_vec.dot(np.array(u_vec))\n",
    "        return output\n",
    "    #\n",
    "    return control.NonlinearIOSystem(\n",
    "        None, outfcn, inputs=['in1', 'in2'], outputs=['out'],\n",
    "        name=name)\n",
    "\n",
    "# Tests\n",
    "kp_vec = [1, 2]\n",
    "controller = makeController(\"controller\", kp_vec=kp_vec)\n",
    "times = [0, 1, 2, 3, 4]\n",
    "U = np.array(list(zip(times, times)))\n",
    "U = U.transpose()\n",
    "result = control.input_output_response(controller, T=times, U=U)\n",
    "assert(len(result.y[0]) == len(times))\n",
    "assert(result.y[0][1] == 3)\n",
    "print(\"OK!\")"
   ]
  },
  {
   "cell_type": "markdown",
   "id": "b9044fd7-8fc9-46ce-be8d-4520f0027303",
   "metadata": {},
   "source": [
    "## Network"
   ]
  },
  {
   "cell_type": "code",
   "execution_count": 49,
   "id": "3ff08812-07d3-4a20-8b7e-163f6906dbe1",
   "metadata": {},
   "outputs": [],
   "source": [
    "# Create elements\n",
    "ctlsb = ctl.ControlSBML(MODEL, input_names=[\"S0\"], output_names=[\"S1\", \"S2\"])\n",
    "system = ctlsb.makeNonlinearIOSystem(\"system\")\n",
    "#\n",
    "controller = makeController(\"controller\", [10, 10])\n",
    "factory = ctl.IOSystemFactory()\n",
    "adder_S1 = factory.makeAdder(\"adder_S1\")\n",
    "adder_S2 = factory.makeAdder(\"adder_S2\")"
   ]
  },
  {
   "cell_type": "code",
   "execution_count": 50,
   "id": "58f69bcc-5735-418b-b8aa-71954f99c2fd",
   "metadata": {},
   "outputs": [],
   "source": [
    "# Create the closed loop system with a disturbance input.\n",
    "closed_loop = control.interconnect(\n",
    "  [adder_S1, adder_S2, system, controller ], \n",
    "  connections=[\n",
    "    ['adder_S1.in1', '-system.S1'],    \n",
    "    ['adder_S2.in1', '-system.S2'], \n",
    "    ['controller.in1', 'adder_S1.out'],    \n",
    "    ['controller.in2', 'adder_S2.out'], \n",
    "    [\"system.S0\", \"controller.out\"],   \n",
    "  ],\n",
    "  inplist=[\"adder_S1.in2\", \"adder_S2.in2\"],\n",
    "  outlist = [\"controller.out\", \"system.S1\", \"system.S2\"],\n",
    ")"
   ]
  },
  {
   "cell_type": "code",
   "execution_count": 52,
   "id": "b7f99dfe-00e9-44c3-ae8c-400261ca5908",
   "metadata": {},
   "outputs": [
    {
     "data": {
      "text/plain": [
       "<matplotlib.legend.Legend at 0x7fa643320f98>"
      ]
     },
     "execution_count": 52,
     "metadata": {},
     "output_type": "execute_result"
    },
    {
     "data": {
      "image/png": "[encoded data removed]",
      "text/plain": [
       "<Figure size 432x288 with 1 Axes>"
      ]
     },
     "metadata": {
      "needs_background": "light"
     },
     "output_type": "display_data"
    }
   ],
   "source": [
    "X0 = ctl.makeStateVector(closed_loop)\n",
    "times = ctl.makeSimulationTimes(end_time=5, points_per_time=10)\n",
    "REF = [5, 5]\n",
    "U = np.array([REF for _ in range(len(times))])\n",
    "U = np.transpose(U)\n",
    "result = control.input_output_response(closed_loop, T=times, U=U, X0=X0)\n",
    "plt.plot(result.t.flatten(), result.outputs[1].flatten())\n",
    "plt.plot(result.t.flatten(), result.outputs[2].flatten())\n",
    "plt.legend([\"S1\", \"S2\"])"
   ]
  },
  {
   "cell_type": "code",
   "execution_count": 36,
   "id": "d5e39dec-4a98-4803-815a-99dd69b792bd",
   "metadata": {},
   "outputs": [
    {
     "data": {
      "text/html": [
       "<div>\n",
       "<style scoped>\n",
       "    .dataframe tbody tr th:only-of-type {\n",
       "        vertical-align: middle;\n",
       "    }\n",
       "\n",
       "    .dataframe tbody tr th {\n",
       "        vertical-align: top;\n",
       "    }\n",
       "\n",
       "    .dataframe thead th {\n",
       "        text-align: right;\n",
       "    }\n",
       "</style>\n",
       "<table border=\"1\" class=\"dataframe\">\n",
       "  <thead>\n",
       "    <tr style=\"text-align: right;\">\n",
       "      <th></th>\n",
       "      <th>adder_S2.in1</th>\n",
       "      <th>adder_S2.in2</th>\n",
       "      <th>adder_S2.out</th>\n",
       "      <th>adder_S1.in1</th>\n",
       "      <th>adder_S1.in2</th>\n",
       "      <th>adder_S1.out</th>\n",
       "    </tr>\n",
       "    <tr>\n",
       "      <th>time</th>\n",
       "      <th></th>\n",
       "      <th></th>\n",
       "      <th></th>\n",
       "      <th></th>\n",
       "      <th></th>\n",
       "      <th></th>\n",
       "    </tr>\n",
       "  </thead>\n",
       "  <tbody>\n",
       "    <tr>\n",
       "      <th>0.000</th>\n",
       "      <td>0.000000</td>\n",
       "      <td>13.0</td>\n",
       "      <td>13.000000</td>\n",
       "      <td>0.000000</td>\n",
       "      <td>12.0</td>\n",
       "      <td>12.000000</td>\n",
       "    </tr>\n",
       "    <tr>\n",
       "      <th>0.002</th>\n",
       "      <td>-0.000022</td>\n",
       "      <td>13.0</td>\n",
       "      <td>12.999978</td>\n",
       "      <td>-0.030960</td>\n",
       "      <td>12.0</td>\n",
       "      <td>11.969040</td>\n",
       "    </tr>\n",
       "    <tr>\n",
       "      <th>0.003</th>\n",
       "      <td>-0.000067</td>\n",
       "      <td>13.0</td>\n",
       "      <td>12.999933</td>\n",
       "      <td>-0.040891</td>\n",
       "      <td>12.0</td>\n",
       "      <td>11.959109</td>\n",
       "    </tr>\n",
       "    <tr>\n",
       "      <th>0.007</th>\n",
       "      <td>-0.000382</td>\n",
       "      <td>13.0</td>\n",
       "      <td>12.999618</td>\n",
       "      <td>-0.099280</td>\n",
       "      <td>12.0</td>\n",
       "      <td>11.900720</td>\n",
       "    </tr>\n",
       "    <tr>\n",
       "      <th>0.008</th>\n",
       "      <td>-0.000483</td>\n",
       "      <td>13.0</td>\n",
       "      <td>12.999517</td>\n",
       "      <td>-0.110244</td>\n",
       "      <td>12.0</td>\n",
       "      <td>11.889756</td>\n",
       "    </tr>\n",
       "    <tr>\n",
       "      <th>...</th>\n",
       "      <td>...</td>\n",
       "      <td>...</td>\n",
       "      <td>...</td>\n",
       "      <td>...</td>\n",
       "      <td>...</td>\n",
       "      <td>...</td>\n",
       "    </tr>\n",
       "    <tr>\n",
       "      <th>19.710</th>\n",
       "      <td>-2.085029</td>\n",
       "      <td>13.0</td>\n",
       "      <td>10.914971</td>\n",
       "      <td>-10.416012</td>\n",
       "      <td>12.0</td>\n",
       "      <td>1.583988</td>\n",
       "    </tr>\n",
       "    <tr>\n",
       "      <th>19.746</th>\n",
       "      <td>-2.084963</td>\n",
       "      <td>13.0</td>\n",
       "      <td>10.915037</td>\n",
       "      <td>-10.416038</td>\n",
       "      <td>12.0</td>\n",
       "      <td>1.583962</td>\n",
       "    </tr>\n",
       "    <tr>\n",
       "      <th>19.927</th>\n",
       "      <td>-2.081852</td>\n",
       "      <td>13.0</td>\n",
       "      <td>10.918148</td>\n",
       "      <td>-10.417238</td>\n",
       "      <td>12.0</td>\n",
       "      <td>1.582762</td>\n",
       "    </tr>\n",
       "    <tr>\n",
       "      <th>19.959</th>\n",
       "      <td>-2.076375</td>\n",
       "      <td>13.0</td>\n",
       "      <td>10.923625</td>\n",
       "      <td>-10.419353</td>\n",
       "      <td>12.0</td>\n",
       "      <td>1.580647</td>\n",
       "    </tr>\n",
       "    <tr>\n",
       "      <th>20.000</th>\n",
       "      <td>-2.083819</td>\n",
       "      <td>13.0</td>\n",
       "      <td>10.916181</td>\n",
       "      <td>-10.416479</td>\n",
       "      <td>12.0</td>\n",
       "      <td>1.583521</td>\n",
       "    </tr>\n",
       "  </tbody>\n",
       "</table>\n",
       "<p>239 rows × 6 columns</p>\n",
       "</div>"
      ],
      "text/plain": [
       "        adder_S2.in1  adder_S2.in2  adder_S2.out  adder_S1.in1  adder_S1.in2  \\\n",
       "time                                                                           \n",
       "0.000       0.000000          13.0     13.000000      0.000000          12.0   \n",
       "0.002      -0.000022          13.0     12.999978     -0.030960          12.0   \n",
       "0.003      -0.000067          13.0     12.999933     -0.040891          12.0   \n",
       "0.007      -0.000382          13.0     12.999618     -0.099280          12.0   \n",
       "0.008      -0.000483          13.0     12.999517     -0.110244          12.0   \n",
       "...              ...           ...           ...           ...           ...   \n",
       "19.710     -2.085029          13.0     10.914971    -10.416012          12.0   \n",
       "19.746     -2.084963          13.0     10.915037    -10.416038          12.0   \n",
       "19.927     -2.081852          13.0     10.918148    -10.417238          12.0   \n",
       "19.959     -2.076375          13.0     10.923625    -10.419353          12.0   \n",
       "20.000     -2.083819          13.0     10.916181    -10.416479          12.0   \n",
       "\n",
       "        adder_S1.out  \n",
       "time                  \n",
       "0.000      12.000000  \n",
       "0.002      11.969040  \n",
       "0.003      11.959109  \n",
       "0.007      11.900720  \n",
       "0.008      11.889756  \n",
       "...              ...  \n",
       "19.710      1.583988  \n",
       "19.746      1.583962  \n",
       "19.927      1.582762  \n",
       "19.959      1.580647  \n",
       "20.000      1.583521  \n",
       "\n",
       "[239 rows x 6 columns]"
      ]
     },
     "execution_count": 36,
     "metadata": {},
     "output_type": "execute_result"
    }
   ],
   "source": [
    "factory.report()"
   ]
  }
 ],
 "metadata": {
  "kernelspec": {
   "display_name": "Python 3",
   "language": "python",
   "name": "python3"
  },
  "language_info": {
   "codemirror_mode": {
    "name": "ipython",
    "version": 3
   },
   "file_extension": ".py",
   "mimetype": "text/x-python",
   "name": "python",
   "nbconvert_exporter": "python",
   "pygments_lexer": "ipython3",
   "version": "3.6.9"
  }
 },
 "nbformat": 4,
 "nbformat_minor": 5
}
