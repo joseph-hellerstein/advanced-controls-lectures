{
 "cells": [
  {
   "cell_type": "markdown",
   "id": "b1229fec-e965-4858-b3e7-cf67e8645060",
   "metadata": {},
   "source": [
    "# EVALUATING CLOSED LOOP SYSTEMS"
   ]
  },
  {
   "cell_type": "markdown",
   "id": "6f6af7d4-63dc-4ec1-95ba-bdd6f9c35720",
   "metadata": {
    "tags": []
   },
   "source": [
    "This notebook illustrates how to construct closed loop systems for ``NonlinearIOSystem`` elements,\n",
    "including noise and disturbances."
   ]
  },
  {
   "cell_type": "markdown",
   "id": "ea1ef56b-9c3d-4fbe-8202-151b8979a57b",
   "metadata": {},
   "source": [
    "# Preliminaries"
   ]
  },
  {
   "cell_type": "code",
   "execution_count": 1,
   "id": "f16d0f7a-d0c5-4f37-aa29-feed6d82a363",
   "metadata": {},
   "outputs": [],
   "source": [
    "!pip install -q control\n",
    "!pip install -q tellurium\n",
    "!pip install -q controlSBML\n",
    "\n",
    "import collections\n",
    "import control\n",
    "import controlSBML as ctl\n",
    "from IPython.display import HTML, Math\n",
    "import numpy as np\n",
    "import pandas as pd\n",
    "import matplotlib.pyplot as plt\n",
    "import sympy\n",
    "import tellurium as te"
   ]
  },
  {
   "cell_type": "code",
   "execution_count": 26,
   "id": "70b60822-feff-42c6-b03b-3ba402376b07",
   "metadata": {},
   "outputs": [],
   "source": [
    "class Parameters(object):\n",
    "    \n",
    "    def __init__(self, noise_amp=1, noise_frq=1, disturbance_amp=1, disturbance_frq=1,\n",
    "                 system_a=0.5):\n",
    "        self.noise_amp = noise_amp\n",
    "        self.noise_frq = noise_frq\n",
    "        self.disturbance_amp = disturbance_amp\n",
    "        self.disturbance_frq = disturbance_frq\n",
    "        self.system_a = system_a"
   ]
  },
  {
   "cell_type": "code",
   "execution_count": 27,
   "id": "0e08f473-49e8-4878-bc53-289472bb71fb",
   "metadata": {},
   "outputs": [],
   "source": [
    "TIMES = ctl.makeSimulationTimes(0, 5, 500)\n",
    "# Default parameters\n",
    "PARAMETERS = Parameters(\n",
    "    noise_amp = 1,\n",
    "    noise_frq = 1,\n",
    "    disturbance_amp = 1,\n",
    "    disturbance_frq = 1,\n",
    "    system_a = -2,\n",
    ")\n",
    "PARAMETERS = Parameters()  # Globally specified parameter values"
   ]
  },
  {
   "cell_type": "markdown",
   "id": "f5286452-eb67-42ca-8dae-be9954e20efa",
   "metadata": {},
   "source": [
    "# Helpers"
   ]
  },
  {
   "cell_type": "code",
   "execution_count": 49,
   "id": "55e3604e-6392-45b8-818c-8c7624758fcc",
   "metadata": {},
   "outputs": [
    {
     "name": "stdout",
     "output_type": "stream",
     "text": [
      "OK!\n"
     ]
    },
    {
     "data": {
      "image/png": "[encoded data removed]",
      "text/plain": [
       "<Figure size 432x288 with 1 Axes>"
      ]
     },
     "metadata": {
      "needs_background": "light"
     },
     "output_type": "display_data"
    }
   ],
   "source": [
    "def plotStep(sys, is_plot=True):\n",
    "    \"\"\"\n",
    "    Plots a transfer function step response\n",
    "    \n",
    "    Parameters\n",
    "    ----------\n",
    "    sys: control.TransferFunction/control.NonlinearIOSystem\n",
    "    \n",
    "    Returns\n",
    "    control.Timeresponse\n",
    "    \"\"\"\n",
    "    if \"TransferFunction\" in str(type(sys)):\n",
    "        result = control.forced_response(sys, T=TIMES, U=1)\n",
    "    elif \"NonlinearIOSystem\" in str(type(sys)):\n",
    "        result = control.input_output_response(sys, T=TIMES, U=1)\n",
    "    if is_plot:\n",
    "        plt.plot(TIMES, result.outputs.flatten())\n",
    "    return result\n",
    "\n",
    "# TESTS\n",
    "Gs = control.TransferFunction([2], [1, 3])\n",
    "_ = plotStep(Gs, is_plot=True)\n",
    "ctlsb = ctl.ControlSBML(MODEL, input_names=[\"S2\"], output_names=[\"S3\"])\n",
    "ctlsb.set(CONSTANT_DCT)\n",
    "sys = ctlsb.makeNonlinearIOSystem(\"sys\")\n",
    "result = plotStep(sys, is_plot=True)\n",
    "print(\"OK!\")"
   ]
  },
  {
   "cell_type": "code",
   "execution_count": 51,
   "id": "c52d6269-f6bb-43a6-8354-f13ea3ae9abb",
   "metadata": {},
   "outputs": [
    {
     "data": {
      "text/plain": [
       "array([0.        , 0.00398802, 0.00795219, ..., 0.66643059, 0.66643192,\n",
       "       0.6664333 ])"
      ]
     },
     "execution_count": 51,
     "metadata": {},
     "output_type": "execute_result"
    }
   ],
   "source": [
    "result.outputs"
   ]
  },
  {
   "cell_type": "code",
   "execution_count": 4,
   "id": "31dec246-4a8c-40e4-837e-4a5cd944f10c",
   "metadata": {},
   "outputs": [
    {
     "data": {
      "text/latex": [
       "$\\displaystyle e^{\\alpha}$"
      ],
      "text/plain": [
       "<IPython.core.display.Math object>"
      ]
     },
     "metadata": {},
     "output_type": "display_data"
    }
   ],
   "source": [
    "def pp(obj):\n",
    "    \"\"\"\n",
    "    Does a LaTex rendering of an object with a latex representation.\n",
    "\n",
    "    Parameters\n",
    "    ----------\n",
    "    obj: object\n",
    "    \"\"\"\n",
    "    display(Math(str(obj)))\n",
    "\n",
    "# Tests\n",
    "pp(r\"e^{\\alpha}\")"
   ]
  },
  {
   "cell_type": "markdown",
   "id": "800165e7-fb2c-43b6-be13-ce69e5099d24",
   "metadata": {},
   "source": [
    "# Antimony Model"
   ]
  },
  {
   "cell_type": "code",
   "execution_count": 5,
   "id": "e72be43c-f53c-493c-a7a6-9e4361b34bca",
   "metadata": {},
   "outputs": [],
   "source": [
    "# Constants\n",
    "CONSTANT_DCT = {\"k1\": 1, \"k2\": 2, \"k3\": 3, \"k4\": 4}\n",
    "s = sympy.Symbol(\"s\")\n",
    "REF = 10"
   ]
  },
  {
   "cell_type": "code",
   "execution_count": 6,
   "id": "64e2bdc6-baae-49d2-87d3-b742349b7595",
   "metadata": {},
   "outputs": [
    {
     "data": {
      "image/png": "[encoded data removed]",
      "text/plain": [
       "<Figure size 432x288 with 1 Axes>"
      ]
     },
     "metadata": {},
     "output_type": "display_data"
    }
   ],
   "source": [
    "MODEL = \"\"\"\n",
    "$S1 -> S2; k1*$S1\n",
    "J1: S2 -> S3; k2*S2\n",
    "J2: S3 -> S2; k3*S3\n",
    "J3: S2 -> ; k4*S2\n",
    "\n",
    "k1 = 0\n",
    "k2 = 0\n",
    "k3 = 0\n",
    "k4 = 0\n",
    "$S1 = 10\n",
    "S2 = 0\n",
    "S3 = 0\n",
    "S4 = 0\n",
    "\"\"\"\n",
    "RR = te.loada(MODEL)\n",
    "for k in CONSTANT_DCT.keys():\n",
    "    RR[k] = CONSTANT_DCT[k]\n",
    "RR.simulate()\n",
    "RR.plot()"
   ]
  },
  {
   "cell_type": "markdown",
   "id": "e0ab2fa3-6a96-4d4e-9109-f5446d9e8dd9",
   "metadata": {},
   "source": [
    "# Closed Loop Transfer Functions"
   ]
  },
  {
   "cell_type": "markdown",
   "id": "fb516a38-3bfd-4032-a1e5-7c5b40f72fcd",
   "metadata": {},
   "source": [
    "<img src=\"https://github.com/joseph-hellerstein/advanced-controls-lectures/blob/main/Lecture_13_14-Closed-Loop-Systems/Closed-Loop-System.png?raw=true\"\n",
    "     alt=\"Markdown Monster icon\" width=600pt\n",
    "     style=\"float: left; margin-right: 10px;\" />\n",
    "     \n",
    "**Transfer Functions**\n",
    "\\begin{eqnarray}\n",
    "H_{RY}(s) & = & \\frac{Y(s)}{R(s)} & = & \\frac{C(s) G(s)}{1 + C(s) G(s) F(s)} \\\\\n",
    "H_{RE}(s) & = & \\frac{E(s)}{R(s)} & = & \\frac{1}{1 + C(s) G(s) F(s)} \\\\\n",
    "H_{NY}(s) & = & \\frac{Y(s)}{N(s)} & = & -\\frac{ F(s)}{1 + C(s) G(s) F(s)} \\\\\n",
    "H_{DY}(s) & = & \\frac{Y(s)}{D(s)} & = & \\frac{ C(s)}{1 + C(s) G(s) F(s)} \\\\\n",
    "\\end{eqnarray}"
   ]
  },
  {
   "cell_type": "markdown",
   "id": "a28228fc-313b-478b-bcbe-f00883544fc6",
   "metadata": {},
   "source": [
    "# Elements of Closed Loop System"
   ]
  },
  {
   "cell_type": "markdown",
   "id": "a2322876-691a-472d-b6e6-4b503e04952d",
   "metadata": {},
   "source": [
    "## System Under Control"
   ]
  },
  {
   "cell_type": "code",
   "execution_count": 52,
   "id": "4bb35c63-0172-41a9-ab8d-ce8b71d6f09c",
   "metadata": {},
   "outputs": [],
   "source": [
    "ctlsb = ctl.ControlSBML(MODEL, input_names=[\"S2\"], output_names=[\"S3\"])\n",
    "SYSTEM = ctlsb.makeNonlinearIOSystem(\"system\")"
   ]
  },
  {
   "cell_type": "markdown",
   "id": "a42c56b0-0d46-4775-8aa2-4eae39e6ca8c",
   "metadata": {},
   "source": [
    "## Controller"
   ]
  },
  {
   "cell_type": "code",
   "execution_count": 64,
   "id": "502b35ea-66c5-49e5-a9cf-d2745a24e1d9",
   "metadata": {},
   "outputs": [
    {
     "name": "stdout",
     "output_type": "stream",
     "text": [
      "OK!\n"
     ]
    }
   ],
   "source": [
    "def makeController(name, ref_val, kp=2):\n",
    "    \"\"\"\n",
    "    Creates a proportional controller as a NonlinearIOSystem with input \"in\" and output \"out\".\n",
    "    \n",
    "    Parameters\n",
    "    ----------\n",
    "    name: str\n",
    "        Name of the system\n",
    "    ref_val: float\n",
    "        Reference value for the controller\n",
    "    kp: float\n",
    "    \n",
    "    Returns\n",
    "    -------\n",
    "    control.NonlinearIOSystem\n",
    "    \"\"\"\n",
    "    def outfcn(_, __, u, ___):\n",
    "        if not \"len\" in dir(u):\n",
    "            u = [u]\n",
    "        return kp*([ref_val] - u[0])\n",
    "    #\n",
    "    return control.NonlinearIOSystem(\n",
    "        None, outfcn, inputs=['in'], outputs=['out'],\n",
    "        name=name)\n",
    "\n",
    "# Tests\n",
    "ref_val = 3\n",
    "kp = 2\n",
    "controller = makeController(\"controller\", ref_val, kp=kp)\n",
    "times = [0, 1, 2, 3, 4]\n",
    "result = control.input_output_response(controller, T=times, U=times)\n",
    "trues = [r == kp*(ref_val - t) for t, r in zip(result.t, result.outputs)]\n",
    "assert(all(trues))\n",
    "print(\"OK!\")"
   ]
  },
  {
   "cell_type": "markdown",
   "id": "0282ab4c-c06c-4643-a882-d38d360ab66b",
   "metadata": {},
   "source": [
    "## Noise and Disturbanes"
   ]
  },
  {
   "cell_type": "code",
   "execution_count": 104,
   "id": "a710c4c5-defd-4d51-abb6-6a16d8503a3d",
   "metadata": {},
   "outputs": [
    {
     "name": "stdout",
     "output_type": "stream",
     "text": [
      "OK!\n"
     ]
    }
   ],
   "source": [
    "def makeSinusoidSystem(name, amp, frequency):\n",
    "    \"\"\"\n",
    "    Construct a NonlinearIOSystem for a sinusoid.\n",
    "    The system has output \"out\".\n",
    "    \n",
    "    Parameters\n",
    "    ----------\n",
    "    name: str\n",
    "    amp: float\n",
    "    frequency: float\n",
    "    \n",
    "    Returns\n",
    "    -------\n",
    "    NonlinearIOSystem\n",
    "    \"\"\"\n",
    "    def outfcn(time, _, __, ___):\n",
    "        \"\"\"\n",
    "        Creates a sine wave at the frequency specified.\n",
    "\n",
    "        Parameters\n",
    "        ----------\n",
    "        time: float\n",
    "        \"\"\"\n",
    "        return amp*np.sin(time*frequency)\n",
    "    #\n",
    "    return control.NonlinearIOSystem(\n",
    "        None, outfcn, outputs=['out'], inputs=[],\n",
    "        name=name)\n",
    "\n",
    "# Tests\n",
    "sys = makeSinusoidSystem(\"sine\", 10, 20)\n",
    "result = control.input_output_response(sys, T=TIMES)\n",
    "assert(len(result.y) > 0)\n",
    "print(\"OK!\")"
   ]
  },
  {
   "cell_type": "code",
   "execution_count": 38,
   "id": "d444c899-dec6-46ff-a6cf-ab0cbea07af6",
   "metadata": {},
   "outputs": [
    {
     "data": {
      "text/plain": [
       "[<matplotlib.lines.Line2D at 0x7f70cb6ee828>]"
      ]
     },
     "execution_count": 38,
     "metadata": {},
     "output_type": "execute_result"
    },
    {
     "data": {
      "image/png": "[encoded data removed]",
      "text/plain": [
       "<Figure size 432x288 with 1 Axes>"
      ]
     },
     "metadata": {
      "needs_background": "light"
     },
     "output_type": "display_data"
    }
   ],
   "source": [
    "noise = makeSinusoidSystem(\"noise\", 1.5, 7)\n",
    "result = control.input_output_response(noise, T=TIMES)\n",
    "plt.plot(result.t, result.y.flatten())"
   ]
  },
  {
   "cell_type": "markdown",
   "id": "d7c7ce37-d8a4-437a-9178-d399166a3bb6",
   "metadata": {},
   "source": [
    "## Summation"
   ]
  },
  {
   "cell_type": "code",
   "execution_count": 105,
   "id": "65197a26-c348-493d-8f28-df945940cb39",
   "metadata": {},
   "outputs": [
    {
     "name": "stdout",
     "output_type": "stream",
     "text": [
      "OK!\n"
     ]
    }
   ],
   "source": [
    "def makeSumSystem(name):\n",
    "    \"\"\"\n",
    "    Inputs two elements. Outputs their sum. Name is \"sum\".\n",
    "    \n",
    "    Parameters\n",
    "    ----------\n",
    "    name: str\n",
    "    \n",
    "    Returns\n",
    "    -------\n",
    "    NonlinearIOSystem\n",
    "    \"\"\"\n",
    "    def outfcn(_, __, u, ___):\n",
    "        \"\"\"\n",
    "        Creates a sine wave at the frequency specified.\n",
    "\n",
    "        Parameters\n",
    "        ----------\n",
    "        u: float, float\n",
    "        \"\"\"\n",
    "        return u[0] + u[1]\n",
    "    #\n",
    "    return control.NonlinearIOSystem(\n",
    "        None, outfcn, inputs=[\"in1\", \"in2\"], outputs=['out'],\n",
    "        name=name)\n",
    "\n",
    "# Tests\n",
    "summer = makeSumSystem(\"summer\")\n",
    "times = [0, 1, 2, 3, 4]\n",
    "u_arr = np.array([[t, t] for t in times])\n",
    "u_arr = u_arr.transpose()\n",
    "result = control.input_output_response(summer, T=times, U=u_arr)\n",
    "trues = [r == 2*t for t, r in zip(times, result.outputs.flatten())]\n",
    "assert(all(trues))\n",
    "print(\"OK!\")"
   ]
  },
  {
   "cell_type": "markdown",
   "id": "e69be8bb-4f30-4893-8aae-0a8ae4288fee",
   "metadata": {},
   "source": [
    "## Filter"
   ]
  },
  {
   "cell_type": "code",
   "execution_count": 114,
   "id": "fe735ed9-67db-4535-8361-ad4a935e363a",
   "metadata": {},
   "outputs": [
    {
     "name": "stdout",
     "output_type": "stream",
     "text": [
      "> \u001b[0;32m<ipython-input-114-d1f539d70851>\u001b[0m(27)\u001b[0;36mupdfcn\u001b[0;34m()\u001b[0m\n",
      "\u001b[0;32m     25 \u001b[0;31m        \"\"\"\n",
      "\u001b[0m\u001b[0;32m     26 \u001b[0;31m        \u001b[0;32mimport\u001b[0m \u001b[0mpdb\u001b[0m\u001b[0;34m;\u001b[0m \u001b[0mpdb\u001b[0m\u001b[0;34m.\u001b[0m\u001b[0mset_trace\u001b[0m\u001b[0;34m(\u001b[0m\u001b[0;34m)\u001b[0m\u001b[0;34m\u001b[0m\u001b[0;34m\u001b[0m\u001b[0m\n",
      "\u001b[0m\u001b[0;32m---> 27 \u001b[0;31m        \u001b[0;32mreturn\u001b[0m \u001b[0mconstant\u001b[0m\u001b[0;34m*\u001b[0m\u001b[0mx_vec\u001b[0m\u001b[0;34m[\u001b[0m\u001b[0;36m0\u001b[0m\u001b[0;34m]\u001b[0m \u001b[0;34m+\u001b[0m \u001b[0mu_vec\u001b[0m\u001b[0;34m[\u001b[0m\u001b[0;36m0\u001b[0m\u001b[0;34m]\u001b[0m\u001b[0;34m\u001b[0m\u001b[0;34m\u001b[0m\u001b[0m\n",
      "\u001b[0m\u001b[0;32m     28 \u001b[0;31m    \u001b[0;32mdef\u001b[0m \u001b[0moutfcn\u001b[0m\u001b[0;34m(\u001b[0m\u001b[0m_\u001b[0m\u001b[0;34m,\u001b[0m \u001b[0mx_vec\u001b[0m\u001b[0;34m,\u001b[0m \u001b[0m__\u001b[0m\u001b[0;34m,\u001b[0m \u001b[0m___\u001b[0m\u001b[0;34m)\u001b[0m\u001b[0;34m:\u001b[0m\u001b[0;34m\u001b[0m\u001b[0;34m\u001b[0m\u001b[0m\n",
      "\u001b[0m\u001b[0;32m     29 \u001b[0;31m        \u001b[0;32mreturn\u001b[0m \u001b[0mx_vec\u001b[0m\u001b[0;34m[\u001b[0m\u001b[0;36m0\u001b[0m\u001b[0;34m]\u001b[0m\u001b[0;34m\u001b[0m\u001b[0;34m\u001b[0m\u001b[0m\n",
      "\u001b[0m\n"
     ]
    },
    {
     "name": "stdin",
     "output_type": "stream",
     "text": [
      "ipdb>  c\n"
     ]
    },
    {
     "ename": "IndexError",
     "evalue": "invalid index to scalar variable.",
     "output_type": "error",
     "traceback": [
      "\u001b[0;31m---------------------------------------------------------------------------\u001b[0m",
      "\u001b[0;31mIndexError\u001b[0m                                Traceback (most recent call last)",
      "\u001b[0;32m<ipython-input-114-d1f539d70851>\u001b[0m in \u001b[0;36m<module>\u001b[0;34m\u001b[0m\n\u001b[1;32m     35\u001b[0m \u001b[0;31m# Tests\u001b[0m\u001b[0;34m\u001b[0m\u001b[0;34m\u001b[0m\u001b[0;34m\u001b[0m\u001b[0m\n\u001b[1;32m     36\u001b[0m \u001b[0msys\u001b[0m \u001b[0;34m=\u001b[0m \u001b[0mmakeFilterSystem\u001b[0m\u001b[0;34m(\u001b[0m\u001b[0;34m\"filter\"\u001b[0m\u001b[0;34m,\u001b[0m \u001b[0;36m1\u001b[0m\u001b[0;34m)\u001b[0m\u001b[0;34m\u001b[0m\u001b[0;34m\u001b[0m\u001b[0m\n\u001b[0;32m---> 37\u001b[0;31m \u001b[0mresult\u001b[0m \u001b[0;34m=\u001b[0m \u001b[0mcontrol\u001b[0m\u001b[0;34m.\u001b[0m\u001b[0minput_output_response\u001b[0m\u001b[0;34m(\u001b[0m\u001b[0msys\u001b[0m\u001b[0;34m,\u001b[0m \u001b[0mT\u001b[0m\u001b[0;34m=\u001b[0m\u001b[0mTIMES\u001b[0m\u001b[0;34m,\u001b[0m \u001b[0mX0\u001b[0m\u001b[0;34m=\u001b[0m\u001b[0;34m[\u001b[0m\u001b[0;36m10\u001b[0m\u001b[0;34m]\u001b[0m\u001b[0;34m)\u001b[0m\u001b[0;34m\u001b[0m\u001b[0;34m\u001b[0m\u001b[0m\n\u001b[0m\u001b[1;32m     38\u001b[0m \u001b[0;32massert\u001b[0m\u001b[0;34m(\u001b[0m\u001b[0mlen\u001b[0m\u001b[0;34m(\u001b[0m\u001b[0mresult\u001b[0m\u001b[0;34m.\u001b[0m\u001b[0my\u001b[0m\u001b[0;34m)\u001b[0m \u001b[0;34m>\u001b[0m \u001b[0;36m0\u001b[0m\u001b[0;34m)\u001b[0m\u001b[0;34m\u001b[0m\u001b[0;34m\u001b[0m\u001b[0m\n\u001b[1;32m     39\u001b[0m \u001b[0mprint\u001b[0m\u001b[0;34m(\u001b[0m\u001b[0;34m\"OK!\"\u001b[0m\u001b[0;34m)\u001b[0m\u001b[0;34m\u001b[0m\u001b[0;34m\u001b[0m\u001b[0m\n",
      "\u001b[0;32m~/controlSBML/ctl/lib/python3.6/site-packages/control/iosys.py\u001b[0m in \u001b[0;36minput_output_response\u001b[0;34m(sys, T, U, X0, params, transpose, return_x, squeeze, solve_ivp_kwargs, **kwargs)\u001b[0m\n\u001b[1;32m   1869\u001b[0m         soln = sp.integrate.solve_ivp(\n\u001b[1;32m   1870\u001b[0m             \u001b[0mivp_rhs\u001b[0m\u001b[0;34m,\u001b[0m \u001b[0;34m(\u001b[0m\u001b[0mT0\u001b[0m\u001b[0;34m,\u001b[0m \u001b[0mTf\u001b[0m\u001b[0;34m)\u001b[0m\u001b[0;34m,\u001b[0m \u001b[0mX0\u001b[0m\u001b[0;34m,\u001b[0m \u001b[0mt_eval\u001b[0m\u001b[0;34m=\u001b[0m\u001b[0mT\u001b[0m\u001b[0;34m,\u001b[0m\u001b[0;34m\u001b[0m\u001b[0;34m\u001b[0m\u001b[0m\n\u001b[0;32m-> 1871\u001b[0;31m             vectorized=False, **solve_ivp_kwargs)\n\u001b[0m\u001b[1;32m   1872\u001b[0m \u001b[0;34m\u001b[0m\u001b[0m\n\u001b[1;32m   1873\u001b[0m         \u001b[0;31m# Compute the output associated with the state (and use sys.out to\u001b[0m\u001b[0;34m\u001b[0m\u001b[0;34m\u001b[0m\u001b[0;34m\u001b[0m\u001b[0m\n",
      "\u001b[0;32m~/controlSBML/ctl/lib/python3.6/site-packages/scipy/integrate/_ivp/ivp.py\u001b[0m in \u001b[0;36msolve_ivp\u001b[0;34m(fun, t_span, y0, method, t_eval, dense_output, events, vectorized, args, **options)\u001b[0m\n\u001b[1;32m    540\u001b[0m         \u001b[0mmethod\u001b[0m \u001b[0;34m=\u001b[0m \u001b[0mMETHODS\u001b[0m\u001b[0;34m[\u001b[0m\u001b[0mmethod\u001b[0m\u001b[0;34m]\u001b[0m\u001b[0;34m\u001b[0m\u001b[0;34m\u001b[0m\u001b[0m\n\u001b[1;32m    541\u001b[0m \u001b[0;34m\u001b[0m\u001b[0m\n\u001b[0;32m--> 542\u001b[0;31m     \u001b[0msolver\u001b[0m \u001b[0;34m=\u001b[0m \u001b[0mmethod\u001b[0m\u001b[0;34m(\u001b[0m\u001b[0mfun\u001b[0m\u001b[0;34m,\u001b[0m \u001b[0mt0\u001b[0m\u001b[0;34m,\u001b[0m \u001b[0my0\u001b[0m\u001b[0;34m,\u001b[0m \u001b[0mtf\u001b[0m\u001b[0;34m,\u001b[0m \u001b[0mvectorized\u001b[0m\u001b[0;34m=\u001b[0m\u001b[0mvectorized\u001b[0m\u001b[0;34m,\u001b[0m \u001b[0;34m**\u001b[0m\u001b[0moptions\u001b[0m\u001b[0;34m)\u001b[0m\u001b[0;34m\u001b[0m\u001b[0;34m\u001b[0m\u001b[0m\n\u001b[0m\u001b[1;32m    543\u001b[0m \u001b[0;34m\u001b[0m\u001b[0m\n\u001b[1;32m    544\u001b[0m     \u001b[0;32mif\u001b[0m \u001b[0mt_eval\u001b[0m \u001b[0;32mis\u001b[0m \u001b[0;32mNone\u001b[0m\u001b[0;34m:\u001b[0m\u001b[0;34m\u001b[0m\u001b[0;34m\u001b[0m\u001b[0m\n",
      "\u001b[0;32m~/controlSBML/ctl/lib/python3.6/site-packages/scipy/integrate/_ivp/rk.py\u001b[0m in \u001b[0;36m__init__\u001b[0;34m(self, fun, t0, y0, t_bound, max_step, rtol, atol, vectorized, first_step, **extraneous)\u001b[0m\n\u001b[1;32m     92\u001b[0m         \u001b[0mself\u001b[0m\u001b[0;34m.\u001b[0m\u001b[0mmax_step\u001b[0m \u001b[0;34m=\u001b[0m \u001b[0mvalidate_max_step\u001b[0m\u001b[0;34m(\u001b[0m\u001b[0mmax_step\u001b[0m\u001b[0;34m)\u001b[0m\u001b[0;34m\u001b[0m\u001b[0;34m\u001b[0m\u001b[0m\n\u001b[1;32m     93\u001b[0m         \u001b[0mself\u001b[0m\u001b[0;34m.\u001b[0m\u001b[0mrtol\u001b[0m\u001b[0;34m,\u001b[0m \u001b[0mself\u001b[0m\u001b[0;34m.\u001b[0m\u001b[0matol\u001b[0m \u001b[0;34m=\u001b[0m \u001b[0mvalidate_tol\u001b[0m\u001b[0;34m(\u001b[0m\u001b[0mrtol\u001b[0m\u001b[0;34m,\u001b[0m \u001b[0matol\u001b[0m\u001b[0;34m,\u001b[0m \u001b[0mself\u001b[0m\u001b[0;34m.\u001b[0m\u001b[0mn\u001b[0m\u001b[0;34m)\u001b[0m\u001b[0;34m\u001b[0m\u001b[0;34m\u001b[0m\u001b[0m\n\u001b[0;32m---> 94\u001b[0;31m         \u001b[0mself\u001b[0m\u001b[0;34m.\u001b[0m\u001b[0mf\u001b[0m \u001b[0;34m=\u001b[0m \u001b[0mself\u001b[0m\u001b[0;34m.\u001b[0m\u001b[0mfun\u001b[0m\u001b[0;34m(\u001b[0m\u001b[0mself\u001b[0m\u001b[0;34m.\u001b[0m\u001b[0mt\u001b[0m\u001b[0;34m,\u001b[0m \u001b[0mself\u001b[0m\u001b[0;34m.\u001b[0m\u001b[0my\u001b[0m\u001b[0;34m)\u001b[0m\u001b[0;34m\u001b[0m\u001b[0;34m\u001b[0m\u001b[0m\n\u001b[0m\u001b[1;32m     95\u001b[0m         \u001b[0;32mif\u001b[0m \u001b[0mfirst_step\u001b[0m \u001b[0;32mis\u001b[0m \u001b[0;32mNone\u001b[0m\u001b[0;34m:\u001b[0m\u001b[0;34m\u001b[0m\u001b[0;34m\u001b[0m\u001b[0m\n\u001b[1;32m     96\u001b[0m             self.h_abs = select_initial_step(\n",
      "\u001b[0;32m~/controlSBML/ctl/lib/python3.6/site-packages/scipy/integrate/_ivp/base.py\u001b[0m in \u001b[0;36mfun\u001b[0;34m(t, y)\u001b[0m\n\u001b[1;32m    136\u001b[0m         \u001b[0;32mdef\u001b[0m \u001b[0mfun\u001b[0m\u001b[0;34m(\u001b[0m\u001b[0mt\u001b[0m\u001b[0;34m,\u001b[0m \u001b[0my\u001b[0m\u001b[0;34m)\u001b[0m\u001b[0;34m:\u001b[0m\u001b[0;34m\u001b[0m\u001b[0;34m\u001b[0m\u001b[0m\n\u001b[1;32m    137\u001b[0m             \u001b[0mself\u001b[0m\u001b[0;34m.\u001b[0m\u001b[0mnfev\u001b[0m \u001b[0;34m+=\u001b[0m \u001b[0;36m1\u001b[0m\u001b[0;34m\u001b[0m\u001b[0;34m\u001b[0m\u001b[0m\n\u001b[0;32m--> 138\u001b[0;31m             \u001b[0;32mreturn\u001b[0m \u001b[0mself\u001b[0m\u001b[0;34m.\u001b[0m\u001b[0mfun_single\u001b[0m\u001b[0;34m(\u001b[0m\u001b[0mt\u001b[0m\u001b[0;34m,\u001b[0m \u001b[0my\u001b[0m\u001b[0;34m)\u001b[0m\u001b[0;34m\u001b[0m\u001b[0;34m\u001b[0m\u001b[0m\n\u001b[0m\u001b[1;32m    139\u001b[0m \u001b[0;34m\u001b[0m\u001b[0m\n\u001b[1;32m    140\u001b[0m         \u001b[0mself\u001b[0m\u001b[0;34m.\u001b[0m\u001b[0mfun\u001b[0m \u001b[0;34m=\u001b[0m \u001b[0mfun\u001b[0m\u001b[0;34m\u001b[0m\u001b[0;34m\u001b[0m\u001b[0m\n",
      "\u001b[0;32m~/controlSBML/ctl/lib/python3.6/site-packages/scipy/integrate/_ivp/base.py\u001b[0m in \u001b[0;36mfun_wrapped\u001b[0;34m(t, y)\u001b[0m\n\u001b[1;32m     18\u001b[0m \u001b[0;34m\u001b[0m\u001b[0m\n\u001b[1;32m     19\u001b[0m     \u001b[0;32mdef\u001b[0m \u001b[0mfun_wrapped\u001b[0m\u001b[0;34m(\u001b[0m\u001b[0mt\u001b[0m\u001b[0;34m,\u001b[0m \u001b[0my\u001b[0m\u001b[0;34m)\u001b[0m\u001b[0;34m:\u001b[0m\u001b[0;34m\u001b[0m\u001b[0;34m\u001b[0m\u001b[0m\n\u001b[0;32m---> 20\u001b[0;31m         \u001b[0;32mreturn\u001b[0m \u001b[0mnp\u001b[0m\u001b[0;34m.\u001b[0m\u001b[0masarray\u001b[0m\u001b[0;34m(\u001b[0m\u001b[0mfun\u001b[0m\u001b[0;34m(\u001b[0m\u001b[0mt\u001b[0m\u001b[0;34m,\u001b[0m \u001b[0my\u001b[0m\u001b[0;34m)\u001b[0m\u001b[0;34m,\u001b[0m \u001b[0mdtype\u001b[0m\u001b[0;34m=\u001b[0m\u001b[0mdtype\u001b[0m\u001b[0;34m)\u001b[0m\u001b[0;34m\u001b[0m\u001b[0;34m\u001b[0m\u001b[0m\n\u001b[0m\u001b[1;32m     21\u001b[0m \u001b[0;34m\u001b[0m\u001b[0m\n\u001b[1;32m     22\u001b[0m     \u001b[0;32mreturn\u001b[0m \u001b[0mfun_wrapped\u001b[0m\u001b[0;34m,\u001b[0m \u001b[0my0\u001b[0m\u001b[0;34m\u001b[0m\u001b[0;34m\u001b[0m\u001b[0m\n",
      "\u001b[0;32m~/controlSBML/ctl/lib/python3.6/site-packages/control/iosys.py\u001b[0m in \u001b[0;36mivp_rhs\u001b[0;34m(t, x)\u001b[0m\n\u001b[1;32m   1860\u001b[0m     \u001b[0;31m# Create a lambda function for the right hand side\u001b[0m\u001b[0;34m\u001b[0m\u001b[0;34m\u001b[0m\u001b[0;34m\u001b[0m\u001b[0m\n\u001b[1;32m   1861\u001b[0m     \u001b[0;32mdef\u001b[0m \u001b[0mivp_rhs\u001b[0m\u001b[0;34m(\u001b[0m\u001b[0mt\u001b[0m\u001b[0;34m,\u001b[0m \u001b[0mx\u001b[0m\u001b[0;34m)\u001b[0m\u001b[0;34m:\u001b[0m\u001b[0;34m\u001b[0m\u001b[0;34m\u001b[0m\u001b[0m\n\u001b[0;32m-> 1862\u001b[0;31m         \u001b[0;32mreturn\u001b[0m \u001b[0msys\u001b[0m\u001b[0;34m.\u001b[0m\u001b[0m_rhs\u001b[0m\u001b[0;34m(\u001b[0m\u001b[0mt\u001b[0m\u001b[0;34m,\u001b[0m \u001b[0mx\u001b[0m\u001b[0;34m,\u001b[0m \u001b[0mufun\u001b[0m\u001b[0;34m(\u001b[0m\u001b[0mt\u001b[0m\u001b[0;34m)\u001b[0m\u001b[0;34m)\u001b[0m\u001b[0;34m\u001b[0m\u001b[0;34m\u001b[0m\u001b[0m\n\u001b[0m\u001b[1;32m   1863\u001b[0m \u001b[0;34m\u001b[0m\u001b[0m\n\u001b[1;32m   1864\u001b[0m     \u001b[0;31m# Perform the simulation\u001b[0m\u001b[0;34m\u001b[0m\u001b[0;34m\u001b[0m\u001b[0;34m\u001b[0m\u001b[0m\n",
      "\u001b[0;32m~/controlSBML/ctl/lib/python3.6/site-packages/control/iosys.py\u001b[0m in \u001b[0;36m_rhs\u001b[0;34m(self, t, x, u)\u001b[0m\n\u001b[1;32m   1004\u001b[0m     \u001b[0;32mdef\u001b[0m \u001b[0m_rhs\u001b[0m\u001b[0;34m(\u001b[0m\u001b[0mself\u001b[0m\u001b[0;34m,\u001b[0m \u001b[0mt\u001b[0m\u001b[0;34m,\u001b[0m \u001b[0mx\u001b[0m\u001b[0;34m,\u001b[0m \u001b[0mu\u001b[0m\u001b[0;34m)\u001b[0m\u001b[0;34m:\u001b[0m\u001b[0;34m\u001b[0m\u001b[0;34m\u001b[0m\u001b[0m\n\u001b[1;32m   1005\u001b[0m         \u001b[0mxdot\u001b[0m \u001b[0;34m=\u001b[0m \u001b[0mself\u001b[0m\u001b[0;34m.\u001b[0m\u001b[0mupdfcn\u001b[0m\u001b[0;34m(\u001b[0m\u001b[0mt\u001b[0m\u001b[0;34m,\u001b[0m \u001b[0mx\u001b[0m\u001b[0;34m,\u001b[0m \u001b[0mu\u001b[0m\u001b[0;34m,\u001b[0m \u001b[0mself\u001b[0m\u001b[0;34m.\u001b[0m\u001b[0m_current_params\u001b[0m\u001b[0;34m)\u001b[0m\u001b[0;31m \u001b[0m\u001b[0;31m\\\u001b[0m\u001b[0;34m\u001b[0m\u001b[0;34m\u001b[0m\u001b[0m\n\u001b[0;32m-> 1006\u001b[0;31m             \u001b[0;32mif\u001b[0m \u001b[0mself\u001b[0m\u001b[0;34m.\u001b[0m\u001b[0mupdfcn\u001b[0m \u001b[0;32mis\u001b[0m \u001b[0;32mnot\u001b[0m \u001b[0;32mNone\u001b[0m \u001b[0;32melse\u001b[0m \u001b[0;34m[\u001b[0m\u001b[0;34m]\u001b[0m\u001b[0;34m\u001b[0m\u001b[0;34m\u001b[0m\u001b[0m\n\u001b[0m\u001b[1;32m   1007\u001b[0m         \u001b[0;32mreturn\u001b[0m \u001b[0mnp\u001b[0m\u001b[0;34m.\u001b[0m\u001b[0marray\u001b[0m\u001b[0;34m(\u001b[0m\u001b[0mxdot\u001b[0m\u001b[0;34m)\u001b[0m\u001b[0;34m.\u001b[0m\u001b[0mreshape\u001b[0m\u001b[0;34m(\u001b[0m\u001b[0;34m(\u001b[0m\u001b[0;34m-\u001b[0m\u001b[0;36m1\u001b[0m\u001b[0;34m,\u001b[0m\u001b[0;34m)\u001b[0m\u001b[0;34m)\u001b[0m\u001b[0;34m\u001b[0m\u001b[0;34m\u001b[0m\u001b[0m\n\u001b[1;32m   1008\u001b[0m \u001b[0;34m\u001b[0m\u001b[0m\n",
      "\u001b[0;32m<ipython-input-114-d1f539d70851>\u001b[0m in \u001b[0;36mupdfcn\u001b[0;34m(time, x_vec, u_vec, ___)\u001b[0m\n\u001b[1;32m     25\u001b[0m         \"\"\"\n\u001b[1;32m     26\u001b[0m         \u001b[0;32mimport\u001b[0m \u001b[0mpdb\u001b[0m\u001b[0;34m;\u001b[0m \u001b[0mpdb\u001b[0m\u001b[0;34m.\u001b[0m\u001b[0mset_trace\u001b[0m\u001b[0;34m(\u001b[0m\u001b[0;34m)\u001b[0m\u001b[0;34m\u001b[0m\u001b[0;34m\u001b[0m\u001b[0m\n\u001b[0;32m---> 27\u001b[0;31m         \u001b[0;32mreturn\u001b[0m \u001b[0mconstant\u001b[0m\u001b[0;34m*\u001b[0m\u001b[0mx_vec\u001b[0m\u001b[0;34m[\u001b[0m\u001b[0;36m0\u001b[0m\u001b[0;34m]\u001b[0m \u001b[0;34m+\u001b[0m \u001b[0mu_vec\u001b[0m\u001b[0;34m[\u001b[0m\u001b[0;36m0\u001b[0m\u001b[0;34m]\u001b[0m\u001b[0;34m\u001b[0m\u001b[0;34m\u001b[0m\u001b[0m\n\u001b[0m\u001b[1;32m     28\u001b[0m     \u001b[0;32mdef\u001b[0m \u001b[0moutfcn\u001b[0m\u001b[0;34m(\u001b[0m\u001b[0m_\u001b[0m\u001b[0;34m,\u001b[0m \u001b[0mx_vec\u001b[0m\u001b[0;34m,\u001b[0m \u001b[0m__\u001b[0m\u001b[0;34m,\u001b[0m \u001b[0m___\u001b[0m\u001b[0;34m)\u001b[0m\u001b[0;34m:\u001b[0m\u001b[0;34m\u001b[0m\u001b[0;34m\u001b[0m\u001b[0m\n\u001b[1;32m     29\u001b[0m         \u001b[0;32mreturn\u001b[0m \u001b[0mx_vec\u001b[0m\u001b[0;34m[\u001b[0m\u001b[0;36m0\u001b[0m\u001b[0;34m]\u001b[0m\u001b[0;34m\u001b[0m\u001b[0;34m\u001b[0m\u001b[0m\n",
      "\u001b[0;31mIndexError\u001b[0m: invalid index to scalar variable."
     ]
    }
   ],
   "source": [
    "def makeFilterSystem(name, constant):\n",
    "    \"\"\"\n",
    "    Construct a NonlinearIOSystem for x' = a*x + u.\n",
    "    The system has input \"in\" and output \"out\".\n",
    "    \n",
    "    Parameters\n",
    "    ----------\n",
    "    name: str\n",
    "    constant: float\n",
    "        e**expo_constant*time\n",
    "    \n",
    "    Returns\n",
    "    -------\n",
    "    NonlinearIOSystem\n",
    "    \"\"\"\n",
    "    def updfcn(time, x_vec, u_vec, ___):\n",
    "        \"\"\"\n",
    "        Creates a sine wave at the frequency specified.\n",
    "\n",
    "        Parameters\n",
    "        ----------\n",
    "        time: float\n",
    "        x_vec: float\n",
    "        u_vec: float\n",
    "        \"\"\"\n",
    "        if not \"len\" in dir(x_vec):\n",
    "            x_vec = [x_vec]\n",
    "        return constant*x_vec[0] + u_vec[0]\n",
    "        if not \"len\" in dir(x_vec):\n",
    "            x_vec = [x_vec]\n",
    "        return constant*x_vec[0] + u_vec[0]\n",
    "    def outfcn(_, x_vec, __, ___):\n",
    "        return x_vec[0]\n",
    "    #\n",
    "    return control.NonlinearIOSystem(\n",
    "        updfcn, outfcn, outputs=['out'], inputs=[\"in\"],\n",
    "        name=name)\n",
    "\n",
    "# Tests\n",
    "sys = makeFilterSystem(\"filter\", 1)\n",
    "result = control.input_output_response(sys, T=TIMES, X0=[10])\n",
    "assert(len(result.y) > 0)\n",
    "print(\"OK!\")"
   ]
  },
  {
   "cell_type": "markdown",
   "id": "414eb656-72b4-464f-be07-f20b8265f622",
   "metadata": {},
   "source": [
    "# Closed Loop System With Noise and Disturbances"
   ]
  },
  {
   "cell_type": "markdown",
   "id": "5b1e609e-8834-4330-a7f9-e833158261d6",
   "metadata": {},
   "source": [
    "<img src=\"https://github.com/joseph-hellerstein/advanced-controls-lectures/blob/main/Lecture_13_14-Closed-Loop-Systems/Closed-Loop-System.png?raw=true\"\n",
    "     alt=\"Markdown Monster icon\" width=600pt\n",
    "     style=\"float: left; margin-right: 10px;\" />"
   ]
  },
  {
   "cell_type": "code",
   "execution_count": 106,
   "id": "2987389e-f685-4509-84b6-1953941681b3",
   "metadata": {},
   "outputs": [],
   "source": [
    "# Create the closed loop system\n",
    "controller = makeController(\"controller\", 4, kp=2)\n",
    "noise = makeSinusoidSystem(\"noise\", 0.2, 20)\n",
    "disturbance = makeSinusoidSystem(\"disturbance\", 0.2, 2)\n",
    "sum_Y_N = makeSumSystem(\"sum_Y_N\")\n",
    "sum_U_D = makeSumSystem(\"sum_U_D\")\n",
    "sum_U_D = makeSumSystem(\"sum_R_F\")\n",
    "\n",
    "closed_loop = control.interconnect(\n",
    "  [noise, disturbance, sum_Y_N ], \n",
    "  connections=[\n",
    "    ['sum_Y_N.in1', 'noise.out'],\n",
    "    ['sum_Y_N.in2', 'disturbance.out'],\n",
    "  ],\n",
    "  outlist=[\"sum_Y_N.out\"],\n",
    ")"
   ]
  },
  {
   "cell_type": "code",
   "execution_count": 108,
   "id": "f8a1ecbf-37a6-49fc-ba59-be793d03bb69",
   "metadata": {},
   "outputs": [
    {
     "data": {
      "text/plain": [
       "[<matplotlib.lines.Line2D at 0x7f70cb2895c0>]"
      ]
     },
     "execution_count": 108,
     "metadata": {},
     "output_type": "execute_result"
    },
    {
     "data": {
      "image/png": "[encoded data removed]",
      "text/plain": [
       "<Figure size 432x288 with 1 Axes>"
      ]
     },
     "metadata": {
      "needs_background": "light"
     },
     "output_type": "display_data"
    }
   ],
   "source": [
    "result = control.input_output_response(closed_loop, T=TIMES)\n",
    "plt.plot(TIMES, result.outputs.flatten())"
   ]
  },
  {
   "cell_type": "markdown",
   "id": "93400e09-ac40-40d5-bd7e-8089572972f0",
   "metadata": {},
   "source": [
    "The output is biased! We wanted $S_3$ to be 10, but it's 7.6."
   ]
  },
  {
   "cell_type": "markdown",
   "id": "1552aabf-e43e-49f8-8009-76d450f7c289",
   "metadata": {},
   "source": [
    "# Problem Statement"
   ]
  },
  {
   "cell_type": "markdown",
   "id": "7d29af36-13a1-4998-9313-1f33933b5c62",
   "metadata": {},
   "source": [
    "We want to evaluate the transfer functions for a variety of systems $C(s)$ and filters $F(s)$.\n",
    "We will use $G(s) = \\frac{2}{s + 3}$, $C(s) = k_p$, and $F(s) = \\frac{k_f}{s + k_f}$.\n",
    "\n",
    "1. Create an experimental infrastructure, codes that creates a plot with a line for each of the transfer functions. You wil need to create the transfer functions C(s), G(s), F(s). The plot should have a legend.\n",
    "    1. Inputs: G_tf (transfer function for G(s)), k_p, k_f\n",
    "1. Construct 4 plots such that $k_p \\in \\{1, 10\\}$, $k_f \\in \\{1, 10\\}$.\n",
    "1. Discuss the tradeoffs between large and small values of $k_p$, $k_f$?"
   ]
  },
  {
   "cell_type": "markdown",
   "id": "3e641c9d-66a0-46c9-91f4-21ab2b86ff77",
   "metadata": {},
   "source": [
    "# Experimental Infrastructure"
   ]
  },
  {
   "cell_type": "code",
   "execution_count": null,
   "id": "0af693fe-e557-4707-8c5c-63b4cf8b7b66",
   "metadata": {},
   "outputs": [],
   "source": [
    "def plotTFs(Gs, k_p, k_f, times=TIMES, ylim=None, title=None, is_plot=True):\n",
    "    \"\"\"\n",
    "    Constructs the transfer functions for the proportional controller, and filter.\n",
    "    Calculates the transfer functions HRYs, HREs, HNYs, HDYs and plots them.\n",
    "    \n",
    "    Parameters\n",
    "    ----------\n",
    "    Gs: control.TransferFunction\n",
    "    k_pf: float\n",
    "    k_f: float\n",
    "    times: list-float\n",
    "    ylim: (float, float)\n",
    "        limits of y-values\n",
    "    title: str\n",
    "    \n",
    "    Returns\n",
    "    -------\n",
    "    dct\n",
    "        key: name of transfer function\n",
    "        value: control.TransferFunction\n",
    "    \"\"\"\n",
    "    Cs = control.TransferFunction([k_p], [1])\n",
    "    Fs = control.TransferFunction([k_f], [1, k_f])\n",
    "    denom = 1 + Cs*Gs*Fs\n",
    "    # Construct the transfer functions\n",
    "    tf_dct = {\n",
    "        \"HRYs\": Cs*Gs/denom,\n",
    "        \"HREs\": 1/denom,\n",
    "        \"HNYs\": -Fs/denom,\n",
    "        \"HDYs\": Cs/denom,\n",
    "    }\n",
    "    # Construct the plots\n",
    "    _, ax = plt.subplots(1)\n",
    "    for tf in tf_dct.values():\n",
    "        result = control.forced_response(tf, T=TIMES, U=1)\n",
    "        ax.plot(times, result.outputs)\n",
    "    ax.plot([0, times[-1]], [1, 1], linestyle=\"--\")\n",
    "    ax.plot([0, times[-1]], [0, 0], linestyle=\"--\")\n",
    "    ax.legend(tf_dct.keys())\n",
    "    ax.set_ylabel(\"value\")\n",
    "    ax.set_xlabel(\"time\")\n",
    "    if ylim is not None:\n",
    "        ax.set_ylim(ylim)\n",
    "    if title is not None:\n",
    "        ax.set_title(title)\n",
    "    if not is_plot:\n",
    "        plt.close()\n",
    "    return tf_dct\n",
    "    \n",
    "# Tests\n",
    "Gs = control.TransferFunction([2], [1, 3])\n",
    "dct = plotTFs(Gs, 10, 10, ylim=[0, 3], title=\"Example\", is_plot=False)\n",
    "print(\"OK!\")"
   ]
  }
 ],
 "metadata": {
  "kernelspec": {
   "display_name": "Python 3",
   "language": "python",
   "name": "python3"
  },
  "language_info": {
   "codemirror_mode": {
    "name": "ipython",
    "version": 3
   },
   "file_extension": ".py",
   "mimetype": "text/x-python",
   "name": "python",
   "nbconvert_exporter": "python",
   "pygments_lexer": "ipython3",
   "version": "3.6.9"
  }
 },
 "nbformat": 4,
 "nbformat_minor": 5
}
