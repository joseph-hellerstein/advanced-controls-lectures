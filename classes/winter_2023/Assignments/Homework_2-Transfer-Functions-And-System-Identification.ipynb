{
 "cells": [
  {
   "cell_type": "markdown",
   "id": "4691a5bc-ce0f-47cd-bc2b-661dbec6eb23",
   "metadata": {},
   "source": [
    "# HOMEWORK 2 - TRANSFER FUNCTIONS AND SYSTEM IDENTIFICATION"
   ]
  },
  {
   "cell_type": "markdown",
   "id": "9bd9d0fb-5396-4238-9c71-920561362bd8",
   "metadata": {},
   "source": [
    "This homework is about transfer functions and system identification.\n",
    "There are two problems.\n",
    "\n",
    "Make a copy of this notebook, and answer the questions."
   ]
  },
  {
   "cell_type": "markdown",
   "id": "04ed51a7-2022-4431-a0c7-cc4f1800ec03",
   "metadata": {},
   "source": [
    "# Preliminaries"
   ]
  },
  {
   "cell_type": "code",
   "execution_count": 1,
   "id": "58ab8a63-4141-4f4f-ba8a-686a3914656e",
   "metadata": {},
   "outputs": [],
   "source": [
    "import control\n",
    "import numpy as np\n",
    "import matplotlib.pyplot as plt\n",
    "import sympy\n",
    "import tellurium as te\n",
    "import sympy"
   ]
  },
  {
   "cell_type": "markdown",
   "id": "0fb27498-d01e-4e2d-aab8-458a68eea6b2",
   "metadata": {},
   "source": [
    "# Helpers"
   ]
  },
  {
   "cell_type": "code",
   "execution_count": 2,
   "id": "6aaeafde-ae1a-47cd-9b72-1b9cf2f331cc",
   "metadata": {},
   "outputs": [],
   "source": [
    "class PlotResult(object):\n",
    "\n",
    "    def __init__(self, times=None, yt=None, ax=None):\n",
    "        self.times = times\n",
    "        self.yt = yt\n",
    "        self.ax = ax\n",
    "        \n",
    "    def __repr__(self):\n",
    "        return \"\""
   ]
  },
  {
   "cell_type": "code",
   "execution_count": 3,
   "id": "72b73d6b-b02c-4bb7-8faf-fb8e75e5312b",
   "metadata": {},
   "outputs": [
    {
     "name": "stdout",
     "output_type": "stream",
     "text": [
      "OK!\n"
     ]
    }
   ],
   "source": [
    "def plotTF(tf, times=None, is_plot=True, figsize=(5,5)):\n",
    "    if times is None:\n",
    "        times = np.linspace(0, 10, 100)\n",
    "    _, yt = control.forced_response(tf, T=times, U=1)\n",
    "    if is_plot:\n",
    "        _, ax = plt.subplots(1, figsize=figsize)\n",
    "        ax.plot(times, yt)\n",
    "        ax.set_xlabel(\"time\")\n",
    "    else:\n",
    "        ax = None\n",
    "    return PlotResult(times=times, yt=yt, ax=ax)\n",
    "\n",
    "# Tests\n",
    "tf = control.TransferFunction([1], [1, 0])\n",
    "plot_result = plotTF(tf, is_plot=False)\n",
    "assert(isinstance(plot_result, PlotResult))\n",
    "print(\"OK!\")"
   ]
  },
  {
   "cell_type": "markdown",
   "id": "c9e4e975-d586-4ac9-a6cc-109124ba0fc7",
   "metadata": {},
   "source": [
    "# Problem 1: Constructing Laplace Transforms for reaction networks"
   ]
  },
  {
   "cell_type": "markdown",
   "id": "b368dcda-8ba2-4ebe-935a-80ecef717dbe",
   "metadata": {},
   "source": [
    "In this problem, you will construct a Laplace transform\n",
    "for the same branching network we discussed in class, but with\n",
    "a different input and output.\n",
    "Below is the reaction network:\n",
    "\n",
    "\\begin{eqnarray}\n",
    "s_1 & \\xrightarrow{k_1 s_1} s_2 \\\\\n",
    "s_2 & \\xrightarrow{k_2 s_2} s_1 \\\\\n",
    "s_1 & \\xrightarrow{k_3 s_1} s_3 \\\\\n",
    "u & \\xrightarrow{k_1 u} s_2 \\\\\n",
    "\\end{eqnarray}\n",
    "\n",
    "The input to the system is $u$; the output is $s_2$. (In class, the output\n",
    "was $s_3$.)"
   ]
  },
  {
   "cell_type": "markdown",
   "id": "010d870f-313f-4217-8182-b8fb4e77e163",
   "metadata": {},
   "source": [
    "## 1. (5 pts) System equations"
   ]
  },
  {
   "cell_type": "markdown",
   "id": "24f97b2d-f9ab-4169-88e7-12f38e33ac95",
   "metadata": {},
   "source": [
    "Write the system equations for this reaction network."
   ]
  },
  {
   "cell_type": "markdown",
   "id": "3eec4c08-1999-4225-9d97-7e65698ab92e",
   "metadata": {},
   "source": [
    "## 2. (5 pts) LT of system equations"
   ]
  },
  {
   "cell_type": "markdown",
   "id": "a071d804-0902-4508-b73f-ebc4e2c53713",
   "metadata": {},
   "source": [
    "Write the Laplace transforms of the system equations."
   ]
  },
  {
   "cell_type": "markdown",
   "id": "ea77c013-3ee0-4f44-b5f1-515a85171976",
   "metadata": {},
   "source": [
    "## 3. (25 pts) Calculate transfer function"
   ]
  },
  {
   "cell_type": "markdown",
   "id": "c2be913c-4c69-40f1-8e06-7778d7b9478e",
   "metadata": {},
   "source": [
    "Calculate the transfer function $G(s) = \\frac({S_3 (s)}{S_2(s)"
   ]
  },
  {
   "cell_type": "markdown",
   "id": "3993b95f-bd7c-4bbb-b1b1-fa96600299b7",
   "metadata": {},
   "source": [
    "## 4. (5 pts) Predict step response"
   ]
  },
  {
   "cell_type": "markdown",
   "id": "8897287c-a9ab-4729-b491-318ed6c65df6",
   "metadata": {},
   "source": [
    "Use the ``control`` package to construct the transfer function that you derived in Step 3, and simulate the transfer function. Plot the result."
   ]
  },
  {
   "cell_type": "markdown",
   "id": "151b6c81-b8e1-4593-a92b-6be61ce2c3a4",
   "metadata": {},
   "source": [
    "## 5. (5 pts) Simulate in Antimony"
   ]
  },
  {
   "cell_type": "markdown",
   "id": "0e21f0aa-7835-4506-9a2c-c7f95111132a",
   "metadata": {},
   "source": [
    "Write an Antimony model for the original system and simulate it for a step respoinse."
   ]
  },
  {
   "cell_type": "markdown",
   "id": "e0d5c211-45a0-4f40-8a49-49021d5c8f46",
   "metadata": {},
   "source": [
    "## 6. (5 pts) Analysis"
   ]
  },
  {
   "cell_type": "markdown",
   "id": "d7af6df4-dc4d-4b1c-84dd-3fde6a4cf1a4",
   "metadata": {},
   "source": [
    "1. How does the transfer function you derived and simulated in step 3 compare with the simulation results for the Antimony model in step 4?\n",
    "1. How does DC gain change as $k_1$ increases?\n",
    "1. Explain why the DC gain of this system is finite whereas the DC gain of the system with $s_3$ as output does not have finite DC gain.\n"
   ]
  },
  {
   "cell_type": "markdown",
   "id": "772e5136-6291-443e-8c0e-e9a1013846c2",
   "metadata": {},
   "source": [
    "# Problem 2: System Identification"
   ]
  },
  {
   "cell_type": "markdown",
   "id": "e8ad8fe4-98c5-4b2f-9378-99fd3b4de596",
   "metadata": {},
   "source": [
    "You will do system identification for the system you chose in the first homework."
   ]
  },
  {
   "cell_type": "markdown",
   "id": "c8bf7004-4829-4037-9b71-6707bde4ca7f",
   "metadata": {},
   "source": [
    "## 1. (20 pts) Determine the operating region for you system."
   ]
  },
  {
   "cell_type": "markdown",
   "id": "a03135dc-65bd-4f4d-bc7f-0ac8eb187cde",
   "metadata": {},
   "source": [
    "Use ``SISOTransferFunctionBuilder`` to plot a staircase of the control input to your system and the measured output.\n",
    "Explain why you chose the operating region you did (i.e., the value ranges of\n",
    "the control input)."
   ]
  },
  {
   "cell_type": "markdown",
   "id": "aeedd90a-fc36-485f-a4c4-4321e50c7113",
   "metadata": {},
   "source": [
    "## 2. (20 pts) Find a tranfser function for your system for the operating region."
   ]
  },
  {
   "cell_type": "markdown",
   "id": "e8509b40-5b91-446a-b6c6-ea1db755bf44",
   "metadata": {},
   "source": [
    "Use ``SISOTransferFunctionBuilder`` to fit a transfer function for your system.\n",
    "Justify that the transfer function fits sufficiently well and does not overfit."
   ]
  },
  {
   "cell_type": "markdown",
   "id": "bb1bb8bf-803c-4faa-b3e1-486c0cfa9f08",
   "metadata": {},
   "source": [
    "## 3. (10 pts)  Analyze the transfer function."
   ]
  },
  {
   "cell_type": "markdown",
   "id": "525ca441-c730-4120-bc4b-5f688d8d708e",
   "metadata": {},
   "source": [
    "What is the DC gain? What are the poles? What are the implications for control?"
   ]
  }
 ],
 "metadata": {
  "kernelspec": {
   "display_name": "Python 3 (ipykernel)",
   "language": "python",
   "name": "python3"
  },
  "language_info": {
   "codemirror_mode": {
    "name": "ipython",
    "version": 3
   },
   "file_extension": ".py",
   "mimetype": "text/x-python",
   "name": "python",
   "nbconvert_exporter": "python",
   "pygments_lexer": "ipython3",
   "version": "3.9.6"
  },
  "toc-autonumbering": false,
  "toc-showcode": false,
  "toc-showtags": true
 },
 "nbformat": 4,
 "nbformat_minor": 5
}
