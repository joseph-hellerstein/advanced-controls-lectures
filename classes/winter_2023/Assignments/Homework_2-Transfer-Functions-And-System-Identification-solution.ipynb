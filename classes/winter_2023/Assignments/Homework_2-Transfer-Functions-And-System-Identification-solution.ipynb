{
 "cells": [
  {
   "cell_type": "markdown",
   "id": "4691a5bc-ce0f-47cd-bc2b-661dbec6eb23",
   "metadata": {},
   "source": [
    "# HOMEWORK 2 - TRANSFER FUNCTIONS AND SYSTEM IDENTIFICATION"
   ]
  },
  {
   "cell_type": "markdown",
   "id": "9bd9d0fb-5396-4238-9c71-920561362bd8",
   "metadata": {},
   "source": [
    "This homework is about transfer functions and system identification.\n",
    "There are two problems.\n",
    "\n",
    "Make a copy of this notebook, and answer the questions."
   ]
  },
  {
   "cell_type": "markdown",
   "id": "04ed51a7-2022-4431-a0c7-cc4f1800ec03",
   "metadata": {},
   "source": [
    "# Preliminaries"
   ]
  },
  {
   "cell_type": "code",
   "execution_count": 1,
   "id": "58ab8a63-4141-4f4f-ba8a-686a3914656e",
   "metadata": {},
   "outputs": [],
   "source": [
    "import control\n",
    "import numpy as np\n",
    "import matplotlib.pyplot as plt\n",
    "import sympy\n",
    "import tellurium as te\n",
    "import sympy"
   ]
  },
  {
   "cell_type": "markdown",
   "id": "0fb27498-d01e-4e2d-aab8-458a68eea6b2",
   "metadata": {},
   "source": [
    "# Helpers"
   ]
  },
  {
   "cell_type": "code",
   "execution_count": 2,
   "id": "6aaeafde-ae1a-47cd-9b72-1b9cf2f331cc",
   "metadata": {},
   "outputs": [],
   "source": [
    "class PlotResult(object):\n",
    "\n",
    "    def __init__(self, times=None, yt=None, ax=None):\n",
    "        self.times = times\n",
    "        self.yt = yt\n",
    "        self.ax = ax\n",
    "        \n",
    "    def __repr__(self):\n",
    "        return \"\""
   ]
  },
  {
   "cell_type": "code",
   "execution_count": 3,
   "id": "72b73d6b-b02c-4bb7-8faf-fb8e75e5312b",
   "metadata": {},
   "outputs": [
    {
     "name": "stdout",
     "output_type": "stream",
     "text": [
      "OK!\n"
     ]
    }
   ],
   "source": [
    "def plotTF(tf, times=None, is_plot=True, figsize=(5,5)):\n",
    "    if times is None:\n",
    "        times = np.linspace(0, 10, 100)\n",
    "    _, yt = control.forced_response(tf, T=times, U=1)\n",
    "    if is_plot:\n",
    "        _, ax = plt.subplots(1, figsize=figsize)\n",
    "        ax.plot(times, yt)\n",
    "        ax.set_xlabel(\"time\")\n",
    "    else:\n",
    "        ax = None\n",
    "    return PlotResult(times=times, yt=yt, ax=ax)\n",
    "\n",
    "# Tests\n",
    "tf = control.TransferFunction([1], [1, 0])\n",
    "plot_result = plotTF(tf, is_plot=False)\n",
    "assert(isinstance(plot_result, PlotResult))\n",
    "print(\"OK!\")"
   ]
  },
  {
   "cell_type": "markdown",
   "id": "c9e4e975-d586-4ac9-a6cc-109124ba0fc7",
   "metadata": {},
   "source": [
    "# Problem 1: Constructing Laplace Transforms for reaction networks"
   ]
  },
  {
   "cell_type": "markdown",
   "id": "b368dcda-8ba2-4ebe-935a-80ecef717dbe",
   "metadata": {},
   "source": [
    "In this problem, you will construct a Laplace transform\n",
    "for the same branching network we discussed in class, but with\n",
    "a different input and output.\n",
    "Below is the reaction network:\n",
    "\n",
    "\\begin{eqnarray}\n",
    "s_1 & \\xrightarrow{k_1 s_1} s_2 \\\\\n",
    "s_2 & \\xrightarrow{k_2 s_2} s_1 \\\\\n",
    "s_1 & \\xrightarrow{k_3 s_1} s_3 \\\\\n",
    "u & \\xrightarrow{k_1 u} s_2 \\\\\n",
    "\\end{eqnarray}\n",
    "\n",
    "The input to the system is $u$; the output is $s_2$. (In class, the output\n",
    "was $s_3$.)"
   ]
  },
  {
   "cell_type": "markdown",
   "id": "010d870f-313f-4217-8182-b8fb4e77e163",
   "metadata": {},
   "source": [
    "## 1. (5 pts) System equations"
   ]
  },
  {
   "cell_type": "markdown",
   "id": "ac39f574-4034-4f2f-9400-8746391292f9",
   "metadata": {},
   "source": [
    "Write the system equations for this reaction network."
   ]
  },
  {
   "cell_type": "markdown",
   "id": "b16ab419-d8fa-419c-b766-5611e99f8691",
   "metadata": {},
   "source": [
    "**Answer**:\n",
    "\n",
    "\\begin{eqnarray}\n",
    "\\dot{s}_1 & = & k_2 s_2 - k_1 s_1 - k_3 s_1 \\\\\n",
    "\\dot{s}_2 & = & -k_2 s_2 + k_1 s_1 + k_1 u \\\\\n",
    "\\dot{s}_3 & = & k_3 s_1 \\\\\n",
    "\\end{eqnarray}"
   ]
  },
  {
   "cell_type": "markdown",
   "id": "3eec4c08-1999-4225-9d97-7e65698ab92e",
   "metadata": {},
   "source": [
    "## 2. (5 pts) LT of system equations"
   ]
  },
  {
   "cell_type": "markdown",
   "id": "db659f80-6f7f-4d7c-8bac-dd90016b455e",
   "metadata": {},
   "source": [
    "Write the Laplace transforms of the system equations."
   ]
  },
  {
   "cell_type": "markdown",
   "id": "daa80d6b-f23a-495c-9686-1313984d3141",
   "metadata": {},
   "source": [
    "**Answer**:\n",
    "\n",
    "\n",
    "\\begin{eqnarray}\n",
    "s S_1(s) & = & k_2 S_2(s) - k_1 S_1 (s) - k_3 S_1 (s) \\\\\n",
    "s S_2 (s) & = & -k_2 S_2 (s) + k_1 S_1 (s) + k_1 U(s) \\\\\n",
    "s S_3(s) & = & k_3 S_1 (s) \\\\\n",
    "\\end{eqnarray}"
   ]
  },
  {
   "cell_type": "markdown",
   "id": "ea77c013-3ee0-4f44-b5f1-515a85171976",
   "metadata": {},
   "source": [
    "## 3. (25 pts) Calculate transfer function"
   ]
  },
  {
   "cell_type": "markdown",
   "id": "c0cf0e4c-ba58-4aa8-a65c-867f81a971d7",
   "metadata": {},
   "source": [
    "Calculate the transfer function $G(s) = \\frac{S_2 (s)}{U(s)}$"
   ]
  },
  {
   "cell_type": "markdown",
   "id": "4787fac1-af90-4158-b86a-2c52742dc457",
   "metadata": {},
   "source": [
    "**Answer**"
   ]
  },
  {
   "cell_type": "code",
   "execution_count": 12,
   "id": "138b2ef0-5d1b-419b-b356-2448a088892b",
   "metadata": {},
   "outputs": [],
   "source": [
    "s, S_1, S_2, S_3, k_1, k_2, k_3, U = sympy.symbols(\"s, S_1, S_2, S_3, k_1, k_2, k_3, U\")"
   ]
  },
  {
   "cell_type": "code",
   "execution_count": 15,
   "id": "38b2fc40-fa42-4d7a-a998-77bb329c99d7",
   "metadata": {},
   "outputs": [],
   "source": [
    "expr1 = s*S_1 - k_2*S_2 + k_1*S_1 +k_3*S_1\n",
    "expr2 = s*S_2 + k_2*S_2 - k_1*S_1 - k_1*U\n",
    "expr3 = s*S_3 - k_3*S_1"
   ]
  },
  {
   "cell_type": "code",
   "execution_count": 21,
   "id": "68875f74-81c4-45a0-88de-9e64c2a789e9",
   "metadata": {},
   "outputs": [
    {
     "data": {
      "text/latex": [
       "$\\displaystyle \\frac{S_{2} k_{2}}{k_{1} + k_{3} + s}$"
      ],
      "text/plain": [
       "S_2*k_2/(k_1 + k_3 + s)"
      ]
     },
     "execution_count": 21,
     "metadata": {},
     "output_type": "execute_result"
    }
   ],
   "source": [
    "sub_S_1 = sympy.solve(expr1, S_1)[0]\n",
    "sub_S_1"
   ]
  },
  {
   "cell_type": "code",
   "execution_count": 19,
   "id": "cef41a82-517e-46f0-b4c4-b22ccbecbf41",
   "metadata": {},
   "outputs": [
    {
     "data": {
      "text/latex": [
       "$\\displaystyle \\frac{S_{1} k_{3}}{s}$"
      ],
      "text/plain": [
       "S_1*k_3/s"
      ]
     },
     "execution_count": 19,
     "metadata": {},
     "output_type": "execute_result"
    }
   ],
   "source": [
    "sub_S_3 = sympy.solve(expr3, S_3)[0]\n",
    "sub_S_3"
   ]
  },
  {
   "cell_type": "code",
   "execution_count": 22,
   "id": "ab7ed799-4dd1-46e0-9d96-37846584ae61",
   "metadata": {},
   "outputs": [
    {
     "data": {
      "text/latex": [
       "$\\displaystyle - \\frac{S_{2} k_{1} k_{2}}{k_{1} + k_{3} + s} + S_{2} k_{2} + S_{2} s - U k_{1}$"
      ],
      "text/plain": [
       "-S_2*k_1*k_2/(k_1 + k_3 + s) + S_2*k_2 + S_2*s - U*k_1"
      ]
     },
     "execution_count": 22,
     "metadata": {},
     "output_type": "execute_result"
    }
   ],
   "source": [
    "new_expr2 = expr2.subs({S_1: sub_S_1, S_3: sub_S_3})\n",
    "new_expr2"
   ]
  },
  {
   "cell_type": "code",
   "execution_count": 24,
   "id": "4ba6bd20-6432-4b4f-b889-68824d3299c4",
   "metadata": {},
   "outputs": [
    {
     "data": {
      "text/latex": [
       "$\\displaystyle \\frac{U k_{1} \\left(k_{1} + k_{3} + s\\right)}{k_{1} s + k_{2} k_{3} + k_{2} s + k_{3} s + s^{2}}$"
      ],
      "text/plain": [
       "U*k_1*(k_1 + k_3 + s)/(k_1*s + k_2*k_3 + k_2*s + k_3*s + s**2)"
      ]
     },
     "execution_count": 24,
     "metadata": {},
     "output_type": "execute_result"
    }
   ],
   "source": [
    "sympy.solve(new_expr2, S_2)[0]"
   ]
  },
  {
   "cell_type": "code",
   "execution_count": 25,
   "id": "23fa3b5a-76b2-4aad-adfc-9ec74d750541",
   "metadata": {},
   "outputs": [
    {
     "name": "stdout",
     "output_type": "stream",
     "text": [
      "\\frac{U k_{1} \\left(k_{1} + k_{3} + s\\right)}{k_{1} s + k_{2} k_{3} + k_{2} s + k_{3} s + s^{2}}\n"
     ]
    }
   ],
   "source": [
    "print(sympy.latex(sympy.solve(new_expr2, S_2)[0]))"
   ]
  },
  {
   "cell_type": "markdown",
   "id": "e51c5ba3-6fb1-43c1-88b4-042e57240065",
   "metadata": {},
   "source": [
    "$\\frac{S_2(s)}{U(s)} = \n",
    "\\frac{ k_{1} \\left(k_{1} + k_{3} + s\\right)}{k_{1} s + k_{2} k_{3} + k_{2} s + k_{3} s + s^{2}}$"
   ]
  },
  {
   "cell_type": "markdown",
   "id": "3993b95f-bd7c-4bbb-b1b1-fa96600299b7",
   "metadata": {},
   "source": [
    "## 4. (5 pts) Predict step response"
   ]
  },
  {
   "cell_type": "markdown",
   "id": "92f51998-0af8-48cb-bc11-9270a36a2221",
   "metadata": {},
   "source": [
    "Use the ``control`` package to construct the transfer function that you derived in Step 3, and simulate the transfer function. Plot the result."
   ]
  },
  {
   "cell_type": "code",
   "execution_count": 28,
   "id": "cd880f36-9c78-4e07-b3a2-d7f01e0d07b6",
   "metadata": {},
   "outputs": [
    {
     "data": {
      "text/plain": [
       "[<matplotlib.lines.Line2D at 0x2a3e061f0>]"
      ]
     },
     "execution_count": 28,
     "metadata": {},
     "output_type": "execute_result"
    },
    {
     "data": {
      "image/png": "[encoded data removed]",
      "text/plain": [
       "<Figure size 640x480 with 1 Axes>"
      ]
     },
     "metadata": {},
     "output_type": "display_data"
    }
   ],
   "source": [
    "# Initialize constants\n",
    "k1, k2, k3 = (4, 2, 3)\n",
    "times = np.linspace(0, 10, 100)\n",
    "# Response to input\n",
    "tf = control.TransferFunction([k1, k1*(k1 + k3)],\n",
    "                              [1, k1 + k2 + k3, k2*k3])\n",
    "_, yt = control.forced_response(tf, T=times, U=1)\n",
    "# Plot the results\n",
    "plt.plot(times, yt)"
   ]
  },
  {
   "cell_type": "markdown",
   "id": "151b6c81-b8e1-4593-a92b-6be61ce2c3a4",
   "metadata": {},
   "source": [
    "## 5. (5 pts) Simulate in Antimony"
   ]
  },
  {
   "cell_type": "markdown",
   "id": "95b58d24-585f-4d37-a00a-40801e00f178",
   "metadata": {},
   "source": [
    "Write an Antimony model for the original system and simulate it for a step respoinse."
   ]
  },
  {
   "cell_type": "code",
   "execution_count": 27,
   "id": "94cf79aa-867e-4b6e-bf77-d5db47cc20c0",
   "metadata": {},
   "outputs": [
    {
     "data": {
      "text/plain": [
       "[<matplotlib.lines.Line2D at 0x2a3d2faf0>]"
      ]
     },
     "execution_count": 27,
     "metadata": {},
     "output_type": "execute_result"
    },
    {
     "data": {
      "image/png": "[encoded data removed]",
      "text/plain": [
       "<Figure size 640x480 with 1 Axes>"
      ]
     },
     "metadata": {},
     "output_type": "display_data"
    }
   ],
   "source": [
    "model = \"\"\"\n",
    "s1 -> s2; k1*s1\n",
    "s2 -> s1; k2*s2\n",
    "s1 -> s3; k3*s1\n",
    "$u -> s2; k1*u\n",
    "\n",
    "k1 = 4\n",
    "k2 = 1\n",
    "k3 = 1\n",
    "s1 = 0\n",
    "s2 = 0\n",
    "s3 = 0\n",
    "k2 = 2\n",
    "k3 = 3\n",
    "$u = 1\n",
    "\"\"\"\n",
    "rr = te.loada(model)\n",
    "data = rr.simulate(0, 10, 100)\n",
    "plt.plot(data[\"time\"], data[\"[s2]\"])"
   ]
  },
  {
   "cell_type": "markdown",
   "id": "e0d5c211-45a0-4f40-8a49-49021d5c8f46",
   "metadata": {},
   "source": [
    "## 6. (5 pts) Analysis"
   ]
  },
  {
   "cell_type": "markdown",
   "id": "dacbb687-544b-48a2-a0fa-0cdc8284e85c",
   "metadata": {},
   "source": [
    "1. How does the transfer function you derived and simulated in step 3 compare with the simulation results for the Antimony model in step 4?\n",
    "1. How does DC gain change as $k_1$ increases?\n",
    "1. Explain why the DC gain of this system is finite whereas the DC gain of the system with $s_3$ as output does not have finite DC gain.\n"
   ]
  },
  {
   "cell_type": "markdown",
   "id": "fa209552-ce7f-4e22-8637-d0c558c0dc9d",
   "metadata": {},
   "source": [
    "**Answer**:\n",
    "\n",
    "\n",
    "\n",
    "1. Same curve.\n",
    "1. DC gain increases.\n",
    "1. $s_2$ has a reversible reaction with $s_1$ whereas $s_3$ does not."
   ]
  },
  {
   "cell_type": "markdown",
   "id": "772e5136-6291-443e-8c0e-e9a1013846c2",
   "metadata": {},
   "source": [
    "# Problem 2: System Identification"
   ]
  },
  {
   "cell_type": "markdown",
   "id": "e8ad8fe4-98c5-4b2f-9378-99fd3b4de596",
   "metadata": {},
   "source": [
    "You will do system identification for the system you chose in the first homework."
   ]
  },
  {
   "cell_type": "markdown",
   "id": "c8bf7004-4829-4037-9b71-6707bde4ca7f",
   "metadata": {},
   "source": [
    "## 1. (20 pts) Determine the operating region for you system."
   ]
  },
  {
   "cell_type": "markdown",
   "id": "a03135dc-65bd-4f4d-bc7f-0ac8eb187cde",
   "metadata": {},
   "source": [
    "Use ``SISOTransferFunctionBuilder`` to plot a staircase of the control input to your system and the measured output.\n",
    "Explain why you chose the operating region you did (i.e., the value ranges of\n",
    "the control input)."
   ]
  },
  {
   "cell_type": "markdown",
   "id": "aeedd90a-fc36-485f-a4c4-4321e50c7113",
   "metadata": {},
   "source": [
    "## 2. (20 pts) Find a tranfser function for your system for the operating region."
   ]
  },
  {
   "cell_type": "markdown",
   "id": "e8509b40-5b91-446a-b6c6-ea1db755bf44",
   "metadata": {},
   "source": [
    "Use ``SISOTransferFunctionBuilder`` to fit a transfer function for your system.\n",
    "Justify that the transfer function fits sufficiently well and does not overfit."
   ]
  },
  {
   "cell_type": "markdown",
   "id": "bb1bb8bf-803c-4faa-b3e1-486c0cfa9f08",
   "metadata": {},
   "source": [
    "## 3. (10 pts)  Analyze the transfer function."
   ]
  },
  {
   "cell_type": "markdown",
   "id": "525ca441-c730-4120-bc4b-5f688d8d708e",
   "metadata": {},
   "source": [
    "What is the DC gain? What are the poles? What are the implications for control?"
   ]
  }
 ],
 "metadata": {
  "kernelspec": {
   "display_name": "Python 3 (ipykernel)",
   "language": "python",
   "name": "python3"
  },
  "language_info": {
   "codemirror_mode": {
    "name": "ipython",
    "version": 3
   },
   "file_extension": ".py",
   "mimetype": "text/x-python",
   "name": "python",
   "nbconvert_exporter": "python",
   "pygments_lexer": "ipython3",
   "version": "3.9.6"
  },
  "toc-autonumbering": false,
  "toc-showcode": false,
  "toc-showtags": true
 },
 "nbformat": 4,
 "nbformat_minor": 5
}
