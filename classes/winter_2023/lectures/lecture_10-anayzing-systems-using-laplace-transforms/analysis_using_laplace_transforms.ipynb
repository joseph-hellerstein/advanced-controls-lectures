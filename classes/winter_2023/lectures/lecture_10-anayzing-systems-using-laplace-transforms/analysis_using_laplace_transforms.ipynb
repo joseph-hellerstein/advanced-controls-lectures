{
 "cells": [
  {
   "cell_type": "markdown",
   "id": "4691a5bc-ce0f-47cd-bc2b-661dbec6eb23",
   "metadata": {},
   "source": [
    "# ANALYSIS USING LAPLACE TRANSFORMS (LTs)"
   ]
  },
  {
   "cell_type": "markdown",
   "id": "9bd9d0fb-5396-4238-9c71-920561362bd8",
   "metadata": {},
   "source": [
    "This notebook demonstrates how Laplace transforms and transfer functions can be derived directly from a chemical model.\n",
    "\n",
    "There are two considerations for the approach taken here. First, this is *not* a general technique. It only works if the underlying network can be represented by a system of linear differential equations. In practice this means that: (a) all reactions have a single reactant and (b) the kinetics are masss action.\n",
    "\n",
    "Second, LT analysis assumes that all initial states are 0. This means that in those cases where initial state is *not* 0, special considerations are necessary/."
   ]
  },
  {
   "cell_type": "markdown",
   "id": "04ed51a7-2022-4431-a0c7-cc4f1800ec03",
   "metadata": {},
   "source": [
    "# Preliminaries"
   ]
  },
  {
   "cell_type": "code",
   "execution_count": 2,
   "id": "58ab8a63-4141-4f4f-ba8a-686a3914656e",
   "metadata": {},
   "outputs": [],
   "source": [
    "import control\n",
    "import numpy as np\n",
    "import matplotlib.pyplot as plt\n",
    "import sympy\n",
    "import tellurium as te"
   ]
  },
  {
   "cell_type": "markdown",
   "id": "0fb27498-d01e-4e2d-aab8-458a68eea6b2",
   "metadata": {},
   "source": [
    "# Helpers"
   ]
  },
  {
   "cell_type": "code",
   "execution_count": 13,
   "id": "6aaeafde-ae1a-47cd-9b72-1b9cf2f331cc",
   "metadata": {},
   "outputs": [],
   "source": [
    "class PlotResult(object):\n",
    "\n",
    "    def __init__(self, times=None, yt=None, ax=None):\n",
    "        self.times = times\n",
    "        self.yt = yt\n",
    "        self.ax = ax\n",
    "        \n",
    "    def __repr__(self):\n",
    "        return \"\""
   ]
  },
  {
   "cell_type": "code",
   "execution_count": 14,
   "id": "72b73d6b-b02c-4bb7-8faf-fb8e75e5312b",
   "metadata": {},
   "outputs": [
    {
     "name": "stdout",
     "output_type": "stream",
     "text": [
      "OK!\n"
     ]
    }
   ],
   "source": [
    "def plotTF(tf, times=None, is_plot=True, figsize=(5,5)):\n",
    "    if times is None:\n",
    "        times = np.linspace(0, 10, 100)\n",
    "    _, yt = control.forced_response(tf, T=times, U=1)\n",
    "    if is_plot:\n",
    "        _, ax = plt.subplots(1, figsize=figsize)\n",
    "        ax.plot(times, yt)\n",
    "        ax.set_xlabel(\"time\")\n",
    "    else:\n",
    "        ax = None\n",
    "    return PlotResult(times=times, yt=yt, ax=ax)\n",
    "\n",
    "# Tests\n",
    "tf = control.TransferFunction([1], [1, 0])\n",
    "plot_result = plotTF(tf, is_plot=False)\n",
    "assert(isinstance(plot_result, PlotResult))\n",
    "print(\"OK!\")"
   ]
  },
  {
   "cell_type": "markdown",
   "id": "713e2b3a-f70d-4ef8-a198-c47556f1dbad",
   "metadata": {},
   "source": [
    "# Irreversible reaction"
   ]
  },
  {
   "cell_type": "markdown",
   "id": "d6f2474b-efd0-4f78-a836-8487870daa55",
   "metadata": {},
   "source": [
    "Consider the one step sequential pathway with mass action kinetics\n",
    "$s_1 \\xrightarrow{k_1 s_1} s_2$.\n",
    "\n",
    "We want to control $s_2$ by manipulating $s_1$.\n",
    "We will manipulate $s_1$ by controlling its concentration in solution.\n",
    "\n",
    "We want the transfer function $G(s) = \\frac{S_2(s)}{S_1(s)}$."
   ]
  },
  {
   "cell_type": "markdown",
   "id": "8b4eaba0-e284-4e7d-9bb2-80ed002bb766",
   "metadata": {
    "tags": []
   },
   "source": [
    "## 1. System equations"
   ]
  },
  {
   "cell_type": "markdown",
   "id": "42fd628a-e26c-4d69-bcd5-8ed31749ecd9",
   "metadata": {},
   "source": [
    "$s_1  \\xrightarrow{k_1 s_1 } s_2$\n",
    "\n",
    "So, the state equations are:\n",
    "* $\\dot{s}_1 = -k_1 s_1$\n",
    "* $\\dot{s}_2 = k_1 s_1$"
   ]
  },
  {
   "cell_type": "markdown",
   "id": "c26e476b-218c-4d0b-b319-0fb88eb77622",
   "metadata": {},
   "source": [
    "## 2. LT of system equations"
   ]
  },
  {
   "cell_type": "markdown",
   "id": "74c8d9b7-8771-4309-a50d-882125221374",
   "metadata": {},
   "source": [
    "* $s S_1 (s) = -k_1 S_1 (s)$\n",
    "* $s S_2 = k_1 S_1 (s)$"
   ]
  },
  {
   "cell_type": "markdown",
   "id": "8c7e87bb-b656-4d69-8118-f3678fb22abe",
   "metadata": {},
   "source": [
    "## 3. Calculate transfer function"
   ]
  },
  {
   "cell_type": "markdown",
   "id": "01715607-b157-4358-915f-9c29ebd5f48d",
   "metadata": {},
   "source": [
    "$G(s) = \\frac{S_2(s)}{S_1(s)}$. This is calculated directly\n",
    "from the second system equation.\n",
    "\n",
    "$G(s) = \\frac{S_2 (s)}{S_1 (s)} = \\frac{k_1}{s}$"
   ]
  },
  {
   "cell_type": "markdown",
   "id": "b893ca56-9de5-43a7-8ce5-c9f95a8d9e53",
   "metadata": {
    "tags": []
   },
   "source": [
    "## 4. Predict step response from TF"
   ]
  },
  {
   "cell_type": "markdown",
   "id": "cdeb5047-36f7-4504-b664-35d033858865",
   "metadata": {},
   "source": [
    "### 4a. Construct transfer function"
   ]
  },
  {
   "cell_type": "markdown",
   "id": "2956d028-26cc-487e-81c8-063c9e2ff34c",
   "metadata": {},
   "source": [
    "The function ``control.TransferFunction`` provides a way to construct transfer functions and calculate with them.\n",
    "\n",
    "A transfer function represented by a numerator polynomial in $s$ and a denominator polynomial in $s$.\n",
    "A polynomial in $s$ is a list of floats.\n",
    "The last element of the list is the coefficient for $s^0$;\n",
    "element last - 1 is the coefficient for $s^1$; and so on.\n",
    "\n",
    "For example, [1, 2, 3] represents the polynomial $s^2 + 2 s + 3$."
   ]
  },
  {
   "cell_type": "code",
   "execution_count": 10,
   "id": "9cee29f8-db59-4d14-a42a-9556da10db2b",
   "metadata": {},
   "outputs": [
    {
     "data": {
      "text/latex": [
       "$$\\frac{1}{s}$$"
      ],
      "text/plain": [
       "TransferFunction(array([1]), array([1, 0]))"
      ]
     },
     "execution_count": 10,
     "metadata": {},
     "output_type": "execute_result"
    }
   ],
   "source": [
    "# Construct the transfer function for G(s) at k1=1\n",
    "k1 = 1\n",
    "G_tf = control.TransferFunction([k1], [1, 0])\n",
    "G_tf"
   ]
  },
  {
   "cell_type": "markdown",
   "id": "293f530a-5477-4a9a-bb22-e0642c41a8a3",
   "metadata": {},
   "source": [
    "$G(s) = \\frac{2s +4}{3s^3 + 1}$"
   ]
  },
  {
   "cell_type": "code",
   "execution_count": 6,
   "id": "f7bfcc63-c73f-4621-9c65-d03874a37cc9",
   "metadata": {},
   "outputs": [
    {
     "data": {
      "text/latex": [
       "$$\\frac{2 s + 4}{3 s^3 + 1}$$"
      ],
      "text/plain": [
       "TransferFunction(array([2, 4]), array([3, 0, 0, 1]))"
      ]
     },
     "execution_count": 6,
     "metadata": {},
     "output_type": "execute_result"
    }
   ],
   "source": [
    "tf = control.TransferFunction([2, 4], [3, 0, 0, 1])\n",
    "tf"
   ]
  },
  {
   "cell_type": "code",
   "execution_count": 5,
   "id": "12fc53f0-4192-495f-9c14-147c20f0d930",
   "metadata": {},
   "outputs": [
    {
     "data": {
      "text/plain": [
       "array([ 0.34668064+0.60046848j,  0.34668064-0.60046848j,\n",
       "       -0.69336127+0.j        ])"
      ]
     },
     "execution_count": 5,
     "metadata": {},
     "output_type": "execute_result"
    }
   ],
   "source": [
    "tf.poles()"
   ]
  },
  {
   "cell_type": "code",
   "execution_count": 7,
   "id": "1d493518-e446-4ebd-90e5-2e5289c6f3de",
   "metadata": {},
   "outputs": [
    {
     "data": {
      "text/plain": [
       "4.0"
      ]
     },
     "execution_count": 7,
     "metadata": {},
     "output_type": "execute_result"
    }
   ],
   "source": [
    "tf.dcgain()"
   ]
  },
  {
   "cell_type": "markdown",
   "id": "52a82227-5c0b-435d-958b-db69c8dd64d5",
   "metadata": {},
   "source": [
    "### 4b. Predict step response"
   ]
  },
  {
   "cell_type": "code",
   "execution_count": 11,
   "id": "83ab8620-3c27-456d-9d82-c32de4ad84b1",
   "metadata": {},
   "outputs": [
    {
     "data": {
      "text/plain": [
       "Text(0.5, 0, 'time')"
      ]
     },
     "execution_count": 11,
     "metadata": {},
     "output_type": "execute_result"
    },
    {
     "data": {
      "image/png": "[encoded data removed]",
      "text/plain": [
       "<Figure size 640x480 with 1 Axes>"
      ]
     },
     "metadata": {},
     "output_type": "display_data"
    }
   ],
   "source": [
    "# Use control.forced_response\n",
    "times = np.linspace(0, 10, 100)\n",
    "_, yt = control.forced_response(G_tf, T=times, U=1)\n",
    "plt.plot(times, yt)\n",
    "plt.xlabel(\"time\")"
   ]
  },
  {
   "cell_type": "code",
   "execution_count": 15,
   "id": "527d9755-c30b-4cc6-9f7e-54b6478babe1",
   "metadata": {},
   "outputs": [
    {
     "data": {
      "text/plain": []
     },
     "execution_count": 15,
     "metadata": {},
     "output_type": "execute_result"
    },
    {
     "data": {
      "image/png": "[encoded data removed]",
      "text/plain": [
       "<Figure size 300x300 with 1 Axes>"
      ]
     },
     "metadata": {},
     "output_type": "display_data"
    }
   ],
   "source": [
    "# We can wrap the foregoing into a function\n",
    "plotTF(G_tf, figsize=(3,3))"
   ]
  },
  {
   "cell_type": "markdown",
   "id": "04a90e3e-1886-4f8b-8506-cb8444e5b5b9",
   "metadata": {},
   "source": [
    "## 5. Simulate in Antimony"
   ]
  },
  {
   "cell_type": "code",
   "execution_count": 16,
   "id": "eeae91c6-cfa1-4bc5-bf41-276cfb73232d",
   "metadata": {},
   "outputs": [
    {
     "data": {
      "image/png": "[encoded data removed]",
      "text/plain": [
       "<Figure size 300x300 with 1 Axes>"
      ]
     },
     "metadata": {},
     "output_type": "display_data"
    }
   ],
   "source": [
    "model = \"\"\"\n",
    "$s1 -> s2; k1*s1\n",
    "\n",
    "s1 = 1\n",
    "s2 = 0\n",
    "k1 = 1\n",
    "\"\"\"\n",
    "rr = te.loada(model)\n",
    "rr.simulate(0, 10, 100)\n",
    "rr.plot(figsize=(3,3))"
   ]
  },
  {
   "cell_type": "markdown",
   "id": "be69d160-6882-4f96-8e88-3e661b9376ff",
   "metadata": {},
   "source": [
    "## 6: Analyze"
   ]
  },
  {
   "cell_type": "markdown",
   "id": "d1c19c6f-b759-435b-86c9-dae1b70f8707",
   "metadata": {},
   "source": [
    "The results look identical."
   ]
  },
  {
   "cell_type": "markdown",
   "id": "a1050cc1-d119-4283-8fef-9912a8186a0e",
   "metadata": {},
   "source": [
    "# Irreversible reaction with initial conditions"
   ]
  },
  {
   "cell_type": "markdown",
   "id": "7db204aa-f64d-4795-84d8-66388f541486",
   "metadata": {},
   "source": [
    "Again, consider the one step sequential pathway with mass action kinetics\n",
    "$s_1 \\xrightarrow{k_1 s_1} s_2$.\n",
    "\n",
    "This time we manipulate $s_1$ by adding or removing molecules of this chemical species.\n",
    "This input is $u$.\n",
    "\n",
    "With this control mechanism, we have a slightly different chemical network.\n",
    "That is, for every reaction whose reactant is $s_1$, we add\n",
    "another reaction that has $u$ as the reactant, with the same kinetics constant\n",
    "and product.\n",
    "\n",
    "We want to find the transfer function $\\frac{S_2(s)}{U(s)}$."
   ]
  },
  {
   "cell_type": "markdown",
   "id": "cbac60f6-9bea-437c-8cca-125888ae05cb",
   "metadata": {
    "tags": []
   },
   "source": [
    "## 1. System equations"
   ]
  },
  {
   "cell_type": "markdown",
   "id": "6173d528-03ee-4420-8ef1-bc3ad2a7cf28",
   "metadata": {},
   "source": [
    "First, we write the revised chemical network:\n",
    "\n",
    "\\begin{eqnarray}\n",
    "s_1  &\\xrightarrow{k_1s_1 } s_2\\\\\n",
    "& \\xrightarrow{k_1 u} s_2\\\\\n",
    "\\end{eqnarray}\n",
    "\n",
    "So, the state equations are:\n",
    "* $\\dot{s}_1 = -k_1 s_1$\n",
    "* $\\dot{s}_2 = k_1 s_1 + k_1 u$\n",
    "\n",
    "Note that there is *no* system equation for $u$ since it is input, not state."
   ]
  },
  {
   "cell_type": "markdown",
   "id": "eb8b1c94-550b-4bc6-acfa-7bf01ea2c428",
   "metadata": {},
   "source": [
    "## 2. LT of system equations"
   ]
  },
  {
   "cell_type": "markdown",
   "id": "4e47d052-117d-4299-9fac-3869cb5b0173",
   "metadata": {},
   "source": [
    "### 2a. Inputs and outputs"
   ]
  },
  {
   "cell_type": "markdown",
   "id": "14d63986-882c-42d3-acc6-53a11d00efe8",
   "metadata": {},
   "source": [
    "* $s S_2 = k_1 (S_1 (s) + U(s))$"
   ]
  },
  {
   "cell_type": "markdown",
   "id": "1b21e956-82cc-4f61-8a91-723780263bc4",
   "metadata": {},
   "source": [
    "### 2b. Initial state"
   ]
  },
  {
   "cell_type": "markdown",
   "id": "57e50a68-35eb-4ffc-9e8b-6fb8732006db",
   "metadata": {},
   "source": [
    "To handle a case where $s_1 (0) > 0$, we need special\n",
    "considerations.\n",
    "Note that in this circumstances, $s_1 (t)$ degrades as a negative\n",
    "exponential.\n",
    "That is, $\\dot{s}_1 = - k_1 s_1$.\n",
    "So, $S_1 (s) = \\frac{s(0)}{(s + k_1)}$."
   ]
  },
  {
   "cell_type": "markdown",
   "id": "d88d0e79-b45e-4240-bf8e-73d4478850ac",
   "metadata": {},
   "source": [
    "## 3. Calculate transfer function"
   ]
  },
  {
   "cell_type": "markdown",
   "id": "afbf52e0-4a0c-49e7-849f-e237129d911c",
   "metadata": {},
   "source": [
    "### 3a. Input and output"
   ]
  },
  {
   "cell_type": "markdown",
   "id": "b655d664-3d09-42f1-a763-fd53284ca6c5",
   "metadata": {},
   "source": [
    "The calculation is done assuming an initial state of 0;\n",
    "that $s(0) = 0$.\n",
    "$s S_2 = k_1  U(s)$\n",
    "And so, $G(s) = \\frac{k_1}{s}$."
   ]
  },
  {
   "cell_type": "markdown",
   "id": "128d1ac1-fb57-4eff-81ac-f3985358ba7a",
   "metadata": {},
   "source": [
    "### 3b. Including initial state"
   ]
  },
  {
   "cell_type": "markdown",
   "id": "960a2eef-9b95-4839-8cff-92bd04803888",
   "metadata": {},
   "source": [
    "To analysis is done under the assumption that $u(t) = 0$.\n",
    "\n",
    "In this case, $s_1 (t) + s_2 (t) = s(0)$.\n",
    "Thus, $s_2 (t) = s_1 (0) - s_1 (0) e^{-k_1 t}$.\n",
    "Taking the LT, we have\n",
    "From $S_2 (s) = s(0) - \\frac{s(0)}{(s + k_1)}$."
   ]
  },
  {
   "cell_type": "markdown",
   "id": "c460d960-5775-4e81-b6b7-156ec040f49d",
   "metadata": {
    "tags": []
   },
   "source": [
    "## 4. Predict step response"
   ]
  },
  {
   "cell_type": "code",
   "execution_count": 18,
   "id": "c84957b3-18a6-43fe-b0d5-3bec80529101",
   "metadata": {},
   "outputs": [
    {
     "data": {
      "text/plain": [
       "[<matplotlib.lines.Line2D at 0x28d415160>]"
      ]
     },
     "execution_count": 18,
     "metadata": {},
     "output_type": "execute_result"
    },
    {
     "data": {
      "image/png": "[encoded data removed]",
      "text/plain": [
       "<Figure size 640x480 with 1 Axes>"
      ]
     },
     "metadata": {},
     "output_type": "display_data"
    }
   ],
   "source": [
    "# Initialize constants\n",
    "k1 = 1\n",
    "s1_initial = 5\n",
    "times = np.linspace(0, 10, 100)\n",
    "# Response to input\n",
    "tf = control.TransferFunction([k1], [1, 0])\n",
    "_, yt = control.forced_response(tf, T=times, U=1)\n",
    "# Response to initial conditions\n",
    "tf_initial = control.TransferFunction([1], [1, k1])\n",
    "_, y_initial = control.forced_response(tf_initial, T=times, X0=s1_initial)\n",
    "y_initial = s1_initial - y_initial\n",
    "# Plot the results\n",
    "plt.plot(times, yt + y_initial)"
   ]
  },
  {
   "cell_type": "markdown",
   "id": "dfa24e20-ce0a-41f9-b420-cd2b6350e003",
   "metadata": {},
   "source": [
    "## 5. Simulate in Antimony"
   ]
  },
  {
   "cell_type": "code",
   "execution_count": 9,
   "id": "971e90ad-7f7a-4da9-a4f6-6165de4a9f58",
   "metadata": {},
   "outputs": [
    {
     "data": {
      "image/png": "[encoded data removed]",
      "text/plain": [
       "<Figure size 600x400 with 1 Axes>"
      ]
     },
     "metadata": {},
     "output_type": "display_data"
    }
   ],
   "source": [
    "model = \"\"\"\n",
    "$u -> s2; k1*u\n",
    "s1 -> s2; k1*s1\n",
    "\n",
    "u = 1  // Step response\n",
    "s2 = 0\n",
    "s1 = 5\n",
    "k1 = 1\n",
    "\"\"\"\n",
    "rr = te.loada(model)\n",
    "rr.simulate(0, 10, 100)\n",
    "rr.plot()"
   ]
  },
  {
   "cell_type": "markdown",
   "id": "6a394fcc-3e7a-4124-836e-2dd94c994086",
   "metadata": {},
   "source": [
    "## 6. Analyze"
   ]
  },
  {
   "cell_type": "markdown",
   "id": "5be561ae-db54-4246-945e-f7fe07ccabda",
   "metadata": {},
   "source": [
    "The results of the prediction and the simulation are the same."
   ]
  },
  {
   "cell_type": "markdown",
   "id": "d3eb429c-28f7-41df-8165-0b743172e66d",
   "metadata": {},
   "source": [
    "Here we consider a reversible reaction with 0 initial conditions. That is:\n",
    "\n",
    "\\begin{eqnarray}\n",
    "s_1 & \\xrightarrow{k_1 s_1} s_2 \\\\\n",
    "u & \\xrightarrow{k_1 u} s_2 \\\\\n",
    "s_2 & \\xrightarrow{k_2 s_2} s_1 \\\\\n",
    "\\end{eqnarray}"
   ]
  },
  {
   "cell_type": "markdown",
   "id": "c24a1074-1024-4085-b62a-bff628eaf598",
   "metadata": {},
   "source": [
    "# Branching pathway controlling $s_3$"
   ]
  },
  {
   "cell_type": "markdown",
   "id": "c25d6c72-9e28-430a-b42d-5c346db7a9ee",
   "metadata": {},
   "source": [
    "\n",
    "\\begin{eqnarray}\n",
    "s_1 & \\xrightarrow{k_1 s_1} s_2 \\\\\n",
    "s_2 & \\xrightarrow{k_2 s_2} s_1 \\\\\n",
    "s_1 & \\xrightarrow{k_3 s_1} s_3 \\\\\n",
    " & \\xrightarrow{k_1 u} s_2 \\\\\n",
    "\\end{eqnarray}\n",
    "\n",
    "We want the transfer function from the input $u(t)$ to the output $s_3(t)$."
   ]
  },
  {
   "cell_type": "markdown",
   "id": "e806bc80-baee-41be-9c12-af6ad74d46d2",
   "metadata": {},
   "source": [
    "## 1. System equations"
   ]
  },
  {
   "cell_type": "markdown",
   "id": "836f6022-e2d6-41ba-8824-f562987a6504",
   "metadata": {},
   "source": [
    "\\begin{eqnarray}\n",
    "\\dot{s}_1 & = & k_2 s_2 - k_1 s_1 - k_3 s_1  \\\\\n",
    "\\dot{s}_2 & = & -k_2 s_2 + k_1 s_1 + k_1 u \\\\\n",
    "\\dot{s}_3 & = & k_3 s_1  \\\\\n",
    "\\end{eqnarray}"
   ]
  },
  {
   "cell_type": "markdown",
   "id": "5cea8362-635c-4b40-8151-dafb703d8d2d",
   "metadata": {},
   "source": [
    "## 2. LT of system equations"
   ]
  },
  {
   "cell_type": "markdown",
   "id": "2795208e-998a-4f98-b971-88aad0fd40d2",
   "metadata": {},
   "source": [
    "\\begin{eqnarray}\n",
    "s S_1(s) & = & k_2 S_2(s) - k_1 S_1 (s) - k_3 S_1 (s)  \\\\\n",
    "s S_2 (s) & = & -k_2 S_2 (s) + k_1 S_1 (s) + k_1 U(s) \\\\\n",
    "s S_3(s) & = & k_3 S_1 (s) \\\\\n",
    "\\end{eqnarray}"
   ]
  },
  {
   "cell_type": "markdown",
   "id": "653d0783-f46b-47ce-9bd5-a9a63268337b",
   "metadata": {},
   "source": [
    "## 3. Calculate transfer function"
   ]
  },
  {
   "cell_type": "markdown",
   "id": "af56f2e6-f8f3-43ad-b5e5-f3fef16742cd",
   "metadata": {},
   "source": [
    "We want $G(s) = \\frac{S_3 (s)}{U(s)}$.\n",
    "\n",
    "We can transform the third system equation so that we have $S_1 (s)$\n",
    "in terms of $S_3 (s)$. That is,\n",
    "\n",
    "\\begin{eqnarray}\n",
    "s S_3(s) & = & k_3 S_1 (s) \\\\\n",
    "S_1 (s) & = & \\frac{S_3(s) s}{k_3}  \\\\\n",
    "\\end{eqnarray}\n",
    "\n",
    "We can also express $S_2 (s)$ in terms of $U(s)$ and $S_3(s)$.\n",
    "\\begin{eqnarray}\n",
    "s S_2 (s) & = & -k_2 S_2 (s) + k_1 S_1 (s) + k_1 U(s) \\\\\n",
    "S_2 (s) (s + k_2) & = &  k_1 \\frac{s S_3(s)}{k_3}  + k_1 U(s) \\\\\n",
    "S_2 (s)  & = &  \\frac{1}{s + k_2} \\left( k_1 \\frac{s S_3(s)}{k_3}  + k_1 U(s) \\right) \\\\\n",
    "\\end{eqnarray}\n",
    "\n",
    "This allows us to substitute into the second system equation to obtain\n",
    "the desired result.\n",
    "\n",
    "\\begin{eqnarray}\n",
    "S_1(s) (s + k_1 + k_3) & = & k_2 S_2(s) \\\\\n",
    "\\frac{sS_3(s)}{k_3}   (s + k_1 + k_3) & = & k_2 \\frac{1}{s + k_2} \\left( k_1 \\frac{s S_3(s) }{k_3}  + k_1 U(s) \\right) \\\\\n",
    "\\end{eqnarray}"
   ]
  },
  {
   "cell_type": "code",
   "execution_count": 21,
   "id": "239dc934-5237-4d62-b7c8-642845fba860",
   "metadata": {},
   "outputs": [],
   "source": [
    "s3, s1, s, k1, k2, k3, s2, u = sympy.symbols(\"s3, s1, s, k1, k2, k3, s2, u\")"
   ]
  },
  {
   "cell_type": "code",
   "execution_count": 22,
   "id": "da6f980e-8791-4eb8-873d-8369f5041260",
   "metadata": {},
   "outputs": [
    {
     "data": {
      "text/latex": [
       "$\\displaystyle - \\frac{k_{2} \\left(k_{1} u + \\frac{k_{1} s s_{3}}{k_{3}}\\right)}{k_{2} + s} + \\frac{s s_{3} \\left(k_{1} + k_{3} + s\\right)}{k_{3}}$"
      ],
      "text/plain": [
       "-k2*(k1*u + k1*s*s3/k3)/(k2 + s) + s*s3*(k1 + k3 + s)/k3"
      ]
     },
     "execution_count": 22,
     "metadata": {},
     "output_type": "execute_result"
    }
   ],
   "source": [
    "expr = s3*s/k3*(s + k1 + k3) -( k2/(s + k2)*(k1*s3*s/k3 + k1*u))\n",
    "expr"
   ]
  },
  {
   "cell_type": "code",
   "execution_count": 25,
   "id": "1b637537-984f-4182-87ea-2a58d13e50b1",
   "metadata": {},
   "outputs": [
    {
     "data": {
      "text/plain": [
       "[k1*k2*k3*u/(s*(k1*s + k2*k3 + k2*s + k3*s + s**2))]"
      ]
     },
     "execution_count": 25,
     "metadata": {},
     "output_type": "execute_result"
    }
   ],
   "source": [
    "sympy.solve(expr, s3)"
   ]
  },
  {
   "cell_type": "code",
   "execution_count": 33,
   "id": "f54cf3b5-d389-4482-88ae-b64b36051154",
   "metadata": {},
   "outputs": [
    {
     "data": {
      "text/latex": [
       "$\\displaystyle \\frac{k_{1} k_{2} k_{3} u}{s \\left(k_{1} s + k_{2} k_{3} + k_{2} s + k_{3} s + s^{2}\\right)}$"
      ],
      "text/plain": [
       "k1*k2*k3*u/(s*(k1*s + k2*k3 + k2*s + k3*s + s**2))"
      ]
     },
     "execution_count": 33,
     "metadata": {},
     "output_type": "execute_result"
    }
   ],
   "source": [
    "s3 = sympy.solve(expr, s3)[0]\n",
    "s3"
   ]
  },
  {
   "cell_type": "code",
   "execution_count": 35,
   "id": "c0b6407c-d7a3-4c30-a47f-39840fdcb65b",
   "metadata": {},
   "outputs": [
    {
     "name": "stdout",
     "output_type": "stream",
     "text": [
      "\\frac{k_{1} k_{2} k_{3} u}{s \\left(k_{1} s + k_{2} k_{3} + k_{2} s + k_{3} s + s^{2}\\right)}\n"
     ]
    }
   ],
   "source": [
    "print(sympy.latex(s3))"
   ]
  },
  {
   "cell_type": "markdown",
   "id": "30f36267-81d6-4564-a88a-1929c06d122a",
   "metadata": {},
   "source": [
    "$G(s) = \\frac{S_3(s)}{U(s)} = \\frac{k_{1} k_{2} k_{3} }{s \\left(k_{1} s + k_{2} k_{3} + k_{2} s + k_{3} s + s^{2}\\right)}$"
   ]
  },
  {
   "cell_type": "markdown",
   "id": "3fd4226d-99ff-4612-881a-0a0118734ab7",
   "metadata": {},
   "source": [
    "## 4. Predict step response"
   ]
  },
  {
   "cell_type": "code",
   "execution_count": 43,
   "id": "d5fc3f36-05c4-4620-abb8-8cc663af81c1",
   "metadata": {},
   "outputs": [
    {
     "data": {
      "text/plain": [
       "[<matplotlib.lines.Line2D at 0x28885ac70>]"
      ]
     },
     "execution_count": 43,
     "metadata": {},
     "output_type": "execute_result"
    },
    {
     "data": {
      "image/png": "[encoded data removed]",
      "text/plain": [
       "<Figure size 640x480 with 1 Axes>"
      ]
     },
     "metadata": {},
     "output_type": "display_data"
    }
   ],
   "source": [
    "# Initialize constants\n",
    "k1, k2, k3 = (1, 1, 1)\n",
    "times = np.linspace(0, 10, 100)\n",
    "# Response to input\n",
    "tf = control.TransferFunction([k1*k2*k3],\n",
    "                              [1, k1+k2+k3, k2*k3, 0])\n",
    "_, yt = control.forced_response(tf, T=times, U=1)\n",
    "# Plot the results\n",
    "plt.plot(times, yt)"
   ]
  },
  {
   "cell_type": "code",
   "execution_count": 39,
   "id": "127a80fa-7a6f-4119-b44d-350dd72ab894",
   "metadata": {},
   "outputs": [
    {
     "data": {
      "text/plain": [
       "array([-2.61803399+0.j, -0.38196601+0.j,  0.        +0.j])"
      ]
     },
     "execution_count": 39,
     "metadata": {},
     "output_type": "execute_result"
    }
   ],
   "source": [
    "tf.poles()"
   ]
  },
  {
   "cell_type": "markdown",
   "id": "f34b8c32-b74e-4bbd-9550-2ea989ce7450",
   "metadata": {},
   "source": [
    "## 5. Simulate in Antimony"
   ]
  },
  {
   "cell_type": "code",
   "execution_count": 38,
   "id": "357d311d-f123-4b95-a2f0-2fc579d89651",
   "metadata": {},
   "outputs": [
    {
     "data": {
      "text/plain": [
       "[<matplotlib.lines.Line2D at 0x288698220>]"
      ]
     },
     "execution_count": 38,
     "metadata": {},
     "output_type": "execute_result"
    },
    {
     "data": {
      "image/png": "[encoded data removed]",
      "text/plain": [
       "<Figure size 640x480 with 1 Axes>"
      ]
     },
     "metadata": {},
     "output_type": "display_data"
    }
   ],
   "source": [
    "model = \"\"\"\n",
    "s1 -> s2; k1*s1\n",
    "s2 -> s1; k2*s2\n",
    "s1 -> s3; k3*s1\n",
    "$u -> s2; k1*u\n",
    "\n",
    "k1 = 1\n",
    "k2 = 1\n",
    "k3 = 1\n",
    "s1 = 0\n",
    "s2 = 0\n",
    "s3 = 0\n",
    "$u = 1\n",
    "\"\"\"\n",
    "rr = te.loada(model)\n",
    "data = rr.simulate(0, 10, 100)\n",
    "plt.plot(data[\"time\"], data[\"[s3]\"])"
   ]
  },
  {
   "cell_type": "markdown",
   "id": "1b02b36b-e954-4384-93e4-0d72358a27d0",
   "metadata": {},
   "source": [
    "## 6. Analyze"
   ]
  },
  {
   "cell_type": "markdown",
   "id": "37f8f87f-a74c-4a6c-af40-144c0767f4c0",
   "metadata": {
    "tags": []
   },
   "source": [
    "$G(s) = \\frac{S_3(s)}{U(s)} = \\frac{k_{1} k_{2} k_{3} }{s \\left(k_{1} s + k_{2} k_{3} + k_{2} s + k_{3} s + s^{2}\\right)}$\n",
    "\n",
    "Some observations\n",
    "1. The DC gain is infinite and so we expect an unbounded effect\n",
    "from a step response.\n",
    "1. An infinite DC gain makes sense since mass accumulates in $S_3$.\n",
    "1. The initial part of the step response is a quadratic, which results from\n",
    "populating $s_1$ from $s_2$."
   ]
  }
 ],
 "metadata": {
  "kernelspec": {
   "display_name": "Python 3 (ipykernel)",
   "language": "python",
   "name": "python3"
  },
  "language_info": {
   "codemirror_mode": {
    "name": "ipython",
    "version": 3
   },
   "file_extension": ".py",
   "mimetype": "text/x-python",
   "name": "python",
   "nbconvert_exporter": "python",
   "pygments_lexer": "ipython3",
   "version": "3.9.6"
  },
  "toc-autonumbering": false,
  "toc-showcode": false,
  "toc-showtags": true
 },
 "nbformat": 4,
 "nbformat_minor": 5
}
