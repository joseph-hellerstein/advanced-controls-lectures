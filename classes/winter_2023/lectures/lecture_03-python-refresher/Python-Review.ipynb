{
 "cells": [
  {
   "cell_type": "markdown",
   "metadata": {
    "id": "awA0QQI4NRFN"
   },
   "source": [
    "# PYTHON REVIEW"
   ]
  },
  {
   "cell_type": "markdown",
   "metadata": {
    "id": "cl5I6EkdZsf9"
   },
   "source": [
    "This notebook reviews essential python data structures and control flows, including the numpy and pandas packages.\n",
    "The notebook also reviews how to run and modify a Tellurium simulation."
   ]
  },
  {
   "cell_type": "markdown",
   "metadata": {
    "id": "5UAYAJM26FYb"
   },
   "source": [
    "# The Colab Environment\n",
    "* Setup\n",
    "* Code and text cells\n",
    "* Namespace persistence\n",
    "* Formulas in text cells"
   ]
  },
  {
   "cell_type": "markdown",
   "metadata": {
    "id": "O6gNyli5Nq1I"
   },
   "source": [
    "# Elemental Types"
   ]
  },
  {
   "cell_type": "code",
   "execution_count": 1,
   "metadata": {
    "colab": {
     "base_uri": "https://localhost:8080/"
    },
    "executionInfo": {
     "elapsed": 296,
     "status": "ok",
     "timestamp": 1664819636162,
     "user": {
      "displayName": "Joseph Hellerstein",
      "userId": "07301174361489660166"
     },
     "user_tz": 420
    },
    "id": "HZAltA3k8s77",
    "outputId": "18c8b5f2-1665-43d6-9e2e-30e4a555493b"
   },
   "outputs": [
    {
     "data": {
      "text/plain": [
       "1"
      ]
     },
     "execution_count": 1,
     "metadata": {},
     "output_type": "execute_result"
    }
   ],
   "source": [
    "1 + (1 == 2)"
   ]
  },
  {
   "cell_type": "markdown",
   "metadata": {
    "id": "swtIkgSjNzDA"
   },
   "source": [
    "* str, float, int\n",
    "* list (properties, slices), deep copy\n",
    "* dict: reference, assign\n",
    "* range function"
   ]
  },
  {
   "cell_type": "markdown",
   "metadata": {
    "id": "K15HDyIsOoR9"
   },
   "source": [
    "# Python flow of control"
   ]
  },
  {
   "cell_type": "markdown",
   "metadata": {
    "id": "T0x2LZr3Othp"
   },
   "source": [
    "* ``if``, ``elif``, ``else``\n",
    "* ``for``\n",
    "* ``def`` (functions) and requirements for writing functions"
   ]
  },
  {
   "cell_type": "markdown",
   "metadata": {
    "id": "9awPESr3KRIz"
   },
   "source": [
    "## From scrip to function"
   ]
  },
  {
   "cell_type": "code",
   "execution_count": 2,
   "metadata": {
    "colab": {
     "base_uri": "https://localhost:8080/"
    },
    "executionInfo": {
     "elapsed": 296,
     "status": "ok",
     "timestamp": 1664821286158,
     "user": {
      "displayName": "Joseph Hellerstein",
      "userId": "07301174361489660166"
     },
     "user_tz": 420
    },
    "id": "fNjcuN2QDMuM",
    "outputId": "5f5224d6-2e06-4bfb-f33c-2dd7100eda54"
   },
   "outputs": [
    {
     "name": "stdout",
     "output_type": "stream",
     "text": [
      "less than 0\n"
     ]
    }
   ],
   "source": [
    "# A very bad way to test a script\n",
    "a = -1\n",
    "if a < 0:\n",
    "    print(\"less than 0\")\n",
    "elif a == 0:\n",
    "    print(\"a is 0\")\n",
    "else:\n",
    "    print(\"a is greater than 0\")"
   ]
  },
  {
   "cell_type": "markdown",
   "metadata": {
    "id": "dY1KveLjacSC"
   },
   "source": [
    "# Some programming problems"
   ]
  },
  {
   "cell_type": "markdown",
   "metadata": {
    "id": "z7HrAheiahDh"
   },
   "source": [
    "Write a function that takes as input an integer and outputs ``True`` if the number is prime and ``False`` otherwise."
   ]
  },
  {
   "cell_type": "markdown",
   "metadata": {
    "id": "n0oVgv-1bACF"
   },
   "source": [
    "Write a function that takes as input an integer and outputs all prime numbers less than or equal to that integer."
   ]
  },
  {
   "cell_type": "markdown",
   "metadata": {
    "id": "Y5waYureN-lM"
   },
   "source": [
    "# Numpy Arrays and linear algebra"
   ]
  },
  {
   "cell_type": "markdown",
   "metadata": {
    "id": "93xb4LByOEid"
   },
   "source": [
    "* Create arrays\n",
    "* Shaping arrays\n",
    "* Indexing and slicing\n",
    "* ``linspace``\n",
    "* Array arithmetic\n",
    "* Inverse of a matrix\n",
    "* Eigenvalues, eigenvectors\n",
    "* Singular value decomposition"
   ]
  },
  {
   "cell_type": "markdown",
   "metadata": {
    "id": "H2nLDEF8rsmV"
   },
   "source": [
    "# Plotting\n",
    "* line and scatter plots\n",
    "* changing the attributes of plots"
   ]
  },
  {
   "cell_type": "markdown",
   "metadata": {
    "id": "bwzlgW5vOM8e"
   },
   "source": [
    "# Pandas Series and DataFrames"
   ]
  },
  {
   "cell_type": "markdown",
   "metadata": {
    "id": "dnKMzsh3OQ5V"
   },
   "source": [
    "* Philosophy\n",
    "* Series: values, index, combining series, sorting index, indexing with ``loc``, convert to array, read and write\n",
    "* DataFrame: Creating with columns and values, repeat of Series"
   ]
  }
 ],
 "metadata": {
  "colab": {
   "authorship_tag": "ABX9TyMwDCIQc9oNcafupunZnVt+",
   "collapsed_sections": [],
   "provenance": []
  },
  "kernelspec": {
   "display_name": "Python 3 (ipykernel)",
   "language": "python",
   "name": "python3"
  },
  "language_info": {
   "codemirror_mode": {
    "name": "ipython",
    "version": 3
   },
   "file_extension": ".py",
   "mimetype": "text/x-python",
   "name": "python",
   "nbconvert_exporter": "python",
   "pygments_lexer": "ipython3",
   "version": "3.9.6"
  }
 },
 "nbformat": 4,
 "nbformat_minor": 4
}
