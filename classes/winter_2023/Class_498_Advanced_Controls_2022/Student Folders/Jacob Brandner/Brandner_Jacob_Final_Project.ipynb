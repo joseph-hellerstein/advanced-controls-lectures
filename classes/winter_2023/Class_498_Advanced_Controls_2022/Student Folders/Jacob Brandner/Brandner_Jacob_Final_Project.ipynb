{
  "cells": [
    {
      "cell_type": "markdown",
      "metadata": {
        "id": "4c0cdaa8-e6ca-4506-a137-3f467df23247"
      },
      "source": [
        "# FINAL PROJECT"
      ],
      "id": "4c0cdaa8-e6ca-4506-a137-3f467df23247"
    },
    {
      "cell_type": "markdown",
      "metadata": {
        "id": "4827964c-f2a2-4775-adfb-122bddbd5096"
      },
      "source": [
        "In the final project, you will create a closed loop system for an SBML model.\n",
        "Start by selecting a model from the [BioModels Curated branch](https://www.ebi.ac.uk/biomodels/search?query=*%3A*+AND+curationstatus%3A%22Manually+curated%22&domain=biomodels).)\n",
        "You don't have to restrict yourself to thoses models, but you'll find that the curated BioModels are fairly easy to reproduce.) You'll find a paper associated with each model.\n",
        "\n",
        "1. **Specify the requirements for the control system.** (10 pt) After reading the paper for the model, propose a chemical species for the control output\n",
        "and an operating point for it. You should also indicate the desired\n",
        "operating characteristics such as settling time and overshoot.\n",
        "Justify this in terms of the potential value of controlling\n",
        "the chemical species and why the particular operating point makes sense.\n",
        "1. **Determine the control input you will use**. (10 pt) This will require evaluating the DC gain of\n",
        "of candidate control inputs on chemical species that are the control outputs.\n",
        "1. **Design the control system**. (15 pt) You will specify a controller and possibly a filter.\n",
        "You will select the parameters of the elements based on the poles and DC gains implied by\n",
        "the operating characteristics in (1).\n",
        "1. **Evaluate your design.** (25 pt) You will construct a simulation testbed in which the\n",
        "SBML model is regulated by your control architecture.\n",
        "You should evaluate the effects of disturbances and noise.\n",
        "1. **Discuss trade-offs.** (10 pt) Discuss trade-offs in the selection of parameter values in your design.\n",
        "This should consider the impact of parameter values on the closed loop transfer functions.\n",
        "\n",
        "You will receive 5 extra points if you use LaTex for your mathematical analyses.\n",
        "\n",
        "**All students will present their projects during the last week of class.**\n",
        "This is an ungraded presentation intended to give you early feedback on your work."
      ],
      "id": "4827964c-f2a2-4775-adfb-122bddbd5096"
    },
    {
      "cell_type": "markdown",
      "metadata": {
        "id": "ab67663b-1311-42f0-b417-26f10529455f"
      },
      "source": [
        "# Preliminaries"
      ],
      "id": "ab67663b-1311-42f0-b417-26f10529455f"
    },
    {
      "cell_type": "code",
      "execution_count": 1,
      "metadata": {
        "id": "d40e6a46-9276-41fc-8806-37917c2d04bc",
        "colab": {
          "base_uri": "https://localhost:8080/"
        },
        "outputId": "d14dea53-ae09-4299-9aa5-c47116893cb6"
      },
      "outputs": [
        {
          "output_type": "stream",
          "name": "stdout",
          "text": [
            "\u001b[K     |████████████████████████████████| 398 kB 33.0 MB/s \n",
            "\u001b[K     |████████████████████████████████| 8.8 MB 44.1 MB/s \n",
            "\u001b[K     |████████████████████████████████| 154 kB 44.5 MB/s \n",
            "\u001b[K     |████████████████████████████████| 485 kB 17.9 MB/s \n",
            "\u001b[K     |████████████████████████████████| 6.8 MB 28.7 MB/s \n",
            "\u001b[K     |████████████████████████████████| 121 kB 47.8 MB/s \n",
            "\u001b[K     |████████████████████████████████| 342 kB 16.2 MB/s \n",
            "\u001b[K     |████████████████████████████████| 428 kB 47.6 MB/s \n",
            "\u001b[K     |████████████████████████████████| 54 kB 2.3 MB/s \n",
            "\u001b[K     |████████████████████████████████| 80 kB 7.6 MB/s \n",
            "\u001b[K     |████████████████████████████████| 561 kB 43.4 MB/s \n",
            "\u001b[K     |████████████████████████████████| 54 kB 2.4 MB/s \n",
            "\u001b[K     |████████████████████████████████| 130 kB 38.8 MB/s \n",
            "\u001b[K     |████████████████████████████████| 133 kB 66.4 MB/s \n",
            "\u001b[K     |████████████████████████████████| 106 kB 75.2 MB/s \n",
            "\u001b[K     |████████████████████████████████| 250 kB 69.8 MB/s \n",
            "\u001b[K     |████████████████████████████████| 103 kB 61.8 MB/s \n",
            "\u001b[K     |████████████████████████████████| 57 kB 4.9 MB/s \n",
            "\u001b[K     |████████████████████████████████| 843 kB 63.2 MB/s \n",
            "\u001b[K     |████████████████████████████████| 3.3 MB 53.1 MB/s \n",
            "\u001b[K     |████████████████████████████████| 38.1 MB 1.1 MB/s \n",
            "\u001b[K     |████████████████████████████████| 3.2 MB 30.6 MB/s \n",
            "\u001b[K     |████████████████████████████████| 5.6 MB 42.9 MB/s \n",
            "\u001b[K     |████████████████████████████████| 5.0 MB 43.7 MB/s \n",
            "\u001b[K     |████████████████████████████████| 54.8 MB 113 kB/s \n",
            "\u001b[K     |████████████████████████████████| 36.7 MB 104 kB/s \n",
            "\u001b[K     |████████████████████████████████| 2.6 MB 46.3 MB/s \n",
            "\u001b[K     |████████████████████████████████| 2.1 MB 65.9 MB/s \n",
            "\u001b[?25h  Building wheel for controlSBML (setup.py) ... \u001b[?25l\u001b[?25hdone\n",
            "  Building wheel for control (setup.py) ... \u001b[?25l\u001b[?25hdone\n",
            "  Building wheel for docstring-expander (setup.py) ... \u001b[?25l\u001b[?25hdone\n",
            "  Building wheel for json5 (setup.py) ... \u001b[?25l\u001b[?25hdone\n",
            "  Building wheel for symmathSBML (setup.py) ... \u001b[?25l\u001b[?25hdone\n",
            "\u001b[31mERROR: pip's dependency resolver does not currently take into account all the packages that are installed. This behaviour is the source of the following dependency conflicts.\n",
            "google-colab 1.0.0 requires tornado~=5.1.0; python_version >= \"3.0\", but you have tornado 6.1 which is incompatible.\n",
            "flask 1.1.4 requires Jinja2<3.0,>=2.10.1, but you have jinja2 3.1.2 which is incompatible.\n",
            "datascience 0.10.6 requires folium==0.2.1, but you have folium 0.8.3 which is incompatible.\n",
            "albumentations 0.1.12 requires imgaug<0.2.7,>=0.2.5, but you have imgaug 0.2.9 which is incompatible.\u001b[0m\n"
          ]
        }
      ],
      "source": [
        "!pip install -q controlSBML\n",
        "!pip install -q control\n",
        "import control\n",
        "import controlSBML as ctl\n",
        "import pandas as pd\n",
        "import matplotlib.pyplot as plt\n",
        "import numpy as np\n",
        "import tellurium as te\n",
        "from controlSBML.util import makeSimulationTimes"
      ],
      "id": "d40e6a46-9276-41fc-8806-37917c2d04bc"
    },
    {
      "cell_type": "markdown",
      "metadata": {
        "id": "a4212bac-1d0e-412f-9d0d-45005ebc6ca0"
      },
      "source": [
        "# Helpful Hints"
      ],
      "id": "a4212bac-1d0e-412f-9d0d-45005ebc6ca0"
    },
    {
      "cell_type": "markdown",
      "metadata": {
        "id": "6wVxvY4svYIg"
      },
      "source": [
        "## LaTex Basics"
      ],
      "id": "6wVxvY4svYIg"
    },
    {
      "cell_type": "markdown",
      "metadata": {
        "id": "tyCu6lFevca8"
      },
      "source": [
        "1. All LaTex appears between dollar signs (``$``)\n",
        "1. Subscripts: $x_2$\n",
        "1. Superscript: $x^2$\n",
        "1. Summation: $\\sum_{n=0}^{\\infty} e^{nt}$\n",
        "1. Derivatives: $\\dot{x}(t)$\n",
        "1. Bold: ${\\bf A}$\n",
        "1. Fractions: $\\frac{a}{b}$"
      ],
      "id": "tyCu6lFevca8"
    },
    {
      "cell_type": "markdown",
      "metadata": {
        "id": "bde88f8c-6442-45c5-a303-38b4b7c751bd"
      },
      "source": [
        "## Closed Loop Transfer Functions"
      ],
      "id": "bde88f8c-6442-45c5-a303-38b4b7c751bd"
    },
    {
      "cell_type": "markdown",
      "metadata": {
        "id": "e97d6b81-b237-41d2-9e3c-f16f3b1a5534"
      },
      "source": [
        "<img src=\"https://github.com/joseph-hellerstein/advanced-controls-lectures/blob/main/Lecture_13_14-Closed-Loop-Systems/Closed-Loop-System.png?raw=true\"\n",
        "     alt=\"Markdown Monster icon\" width=600pt\n",
        "     style=\"float: left; margin-right: 10px;\" />"
      ],
      "id": "e97d6b81-b237-41d2-9e3c-f16f3b1a5534"
    },
    {
      "cell_type": "markdown",
      "metadata": {
        "id": "4e0b90d5-427c-46fa-887b-d733ef54bf34"
      },
      "source": [
        "**Transfer Functions**\n",
        "\\begin{eqnarray}\n",
        "H_{RY}(s) & = & \\frac{Y(s)}{R(s)} & = & \\frac{C(s) G(s)}{1 + C(s) G(s) F(s)} \\\\\n",
        "H_{RE}(s) & = & \\frac{E(s)}{R(s)} & = & \\frac{1}{1 + C(s) G(s) F(s)} \\\\\n",
        "H_{NY}(s) & = & \\frac{Y(s)}{N(s)} & = & -\\frac{ F(s)}{1 + C(s) G(s) F(s)} \\\\\n",
        "H_{DY}(s) & = & \\frac{Y(s)}{D(s)} & = & \\frac{ C(s)}{1 + C(s) G(s) F(s)} \\\\\n",
        "\\end{eqnarray}"
      ],
      "id": "4e0b90d5-427c-46fa-887b-d733ef54bf34"
    },
    {
      "cell_type": "markdown",
      "metadata": {
        "id": "f6128992-d445-45c8-bee9-16c6c6a3f44c"
      },
      "source": [
        "# 1. Specify Requirements"
      ],
      "id": "f6128992-d445-45c8-bee9-16c6c6a3f44c"
    },
    {
      "cell_type": "markdown",
      "metadata": {
        "id": "NT8OYNWAGxNe"
      },
      "source": [
        "**Tellurium simulation with Heat-shock Condition**"
      ],
      "id": "NT8OYNWAGxNe"
    },
    {
      "cell_type": "code",
      "execution_count": 2,
      "metadata": {
        "colab": {
          "base_uri": "https://localhost:8080/",
          "height": 266
        },
        "id": "f2Sct-pDGvTP",
        "outputId": "f3e42310-697c-49a2-9976-c09368564cb1"
      },
      "outputs": [
        {
          "output_type": "display_data",
          "data": {
            "text/plain": [
              "<Figure size 432x288 with 1 Axes>"
            ],
            "image/png": "[encoded data removed]"
          },
          "metadata": {}
        }
      ],
      "source": [
        "# GLC = glucose \n",
        "# ATP = adenosine triphosphate\n",
        "# ADP = Adenosine diphosphate\n",
        "# H = hydrogen ion\n",
        "# UDPG = UDP-glucose\n",
        "# PP = pyrophosphate/diphosphate\n",
        "# P = phosphate\n",
        "# TRE = tetrahalose\n",
        "# G6P = glucose-6-phosphate\n",
        "# G1P = glucose-1-phosphate\n",
        "# UTP = uridine triphosphate\n",
        "# UDP = uridine diphosphate\n",
        "# T6P = tetrahalose-6-phosphate\n",
        "# F6P = fructose-6-phosphate\n",
        "# H20 = water\n",
        "\n",
        "## Reaction order\n",
        "# Hexokinase\n",
        "# Phosphoglucomutase\n",
        "# UDP–glucose phosphorylase\n",
        "# T6P synthase\n",
        "# T6P phosphatase\n",
        "# Trehalase\n",
        "# G6P isomerase\n",
        "\n",
        "tetrahalose_MODEL = \"\"\"\n",
        "J1: GLC + ATP -> G6P + ADP + H; shock1*Vmax1*((1/(KGLC1*KATP1))*(GLC*ATP-(G6P*ADP/Keq1)))/((1+GLC/KGLC1+G6P/KG6P1+T6P/KT6P5)*(1+ATP/KATP1+ADP/KADP1))\n",
        "J2: G6P -> G1P; shock2*Vmax2*((1/KG6P2)*(G6P-G1P/Keq2))/(1+G6P/KG6P2+G1P/KG1P2)\n",
        "J3: G1P + UTP + H -> UDPG + PP; shock3*Vmax3*((UTP/KUTP3)*(G1P/KG1P3))/(KiUTP3/KUTP3+UTP/KUTP3+G1P/KG1P3+(UTP*G1P/KUTP3*KG1P3)+(KiUTP3*UDPG/KUTP3*KiUDPG3)+(G1P*UDPG/KG1P3*KiUDPG3))\n",
        "J4: G6P + UDPG -> T6P + UDP + H; shock4*Vmax4*(G6P*UDPG/KG6P4*KUDPG4)/((1+G6P/KG6P4)*(1+UDPG/KUDPG4))\n",
        "J5: T6P + H2O -> TRE + P; shock5*Vmax5*(T6P/KT6P5)/(1+T6P/KT6P5)\n",
        "J6: TRE + H2O -> GLC + GLC; shock6*Vmax6*(TRE/KTRE6)/(1+TRE/KTRE6)\n",
        "J7: G6P -> F6P; shock7*Vmax7/KG6P7*(G6P-F6P/Keq7)/(1+G6P/KG6P7+F6P/KF6P7) \n",
        "\n",
        "\n",
        "\n",
        "KGLC1 = 0.08\n",
        "KATP1 = 0.15\n",
        "KG6P1 = 30\n",
        "KADP1 = 0.23\n",
        "KiTRH1 = 0.04\n",
        "Keq1 = 2000\n",
        "Vmax1 = 350\n",
        "shock1 = 8\n",
        "\n",
        "KG6P2 = 0.05\n",
        "KG1P2 = 0.023\n",
        "Keq2 = 1/6\n",
        "Vmax2 = 0.3545\n",
        "shock2 = 16 \n",
        "\n",
        "KUTP3 = 0.11\n",
        "KiUTP3 = 0.11\n",
        "KG1P3 = 0.32\n",
        "KiUDPG3 = 0.035\n",
        "Vmax3 = 36.82\n",
        "shock3 = 16\n",
        "\n",
        "KG6P4 = 3.8\n",
        "KUDPG4 = 0.886\n",
        "Vmax4 = 1.371\n",
        "shock4 = 12\n",
        "\n",
        "KT6P5 = 0.5\n",
        "Vmax5 = 6.5\n",
        "shock5 = 18\n",
        "\n",
        "KTRE6 = 2.99\n",
        "Vmax6 = 0.5\n",
        "shock6 = 6\n",
        "\n",
        "Keq7 = 0.3  \n",
        "KF6P7 = 0.29 \n",
        "KG6P7 = 1.4\n",
        "Vmax7 = 1071.0\n",
        "shock7 = 1\n",
        "\n",
        "\n",
        "ADP = 1.282\n",
        "ATP = 2.525\n",
        "F6P = 0.625\n",
        "GLC = 0.09675\n",
        "G1P = 0.1\n",
        "G6P = 2.675\n",
        "TRE = 0.05\n",
        "T6P = 0.02\n",
        "UDP = 0.2815\n",
        "UDPG = 0.7\n",
        "UTP = 0.6491\n",
        "\n",
        "\n",
        "\n",
        "\n",
        "\"\"\"\n",
        "tetrahalose_MODEL_RR = te.loada(tetrahalose_MODEL)\n",
        "tetrahalose_MODEL_DATA = tetrahalose_MODEL_RR.simulate()\n",
        "# plt.plot(tetrahalose_MODEL_DATA)\n",
        "# plt.ylim([0,10])\n",
        "# plt.legend()\n",
        "tetrahalose_MODEL_RR.plot(tetrahalose_MODEL_DATA)"
      ],
      "id": "f2Sct-pDGvTP"
    },
    {
      "cell_type": "markdown",
      "metadata": {
        "id": "Q5GM85W7G4cW"
      },
      "source": [
        "**Tellurium Simulation with Bulk Glucose Transport and No Heat-shock Condition**"
      ],
      "id": "Q5GM85W7G4cW"
    },
    {
      "cell_type": "code",
      "execution_count": 3,
      "metadata": {
        "colab": {
          "base_uri": "https://localhost:8080/",
          "height": 279
        },
        "id": "JBgo-xxcHFUn",
        "outputId": "1fd12563-fd40-4c44-acca-54bd57d93514"
      },
      "outputs": [
        {
          "output_type": "display_data",
          "data": {
            "text/plain": [
              "<Figure size 432x288 with 1 Axes>"
            ],
            "image/png": "[encoded data removed]"
          },
          "metadata": {}
        }
      ],
      "source": [
        "# GLC = glucose (intracellular)\n",
        "# GLX = glucose (bulk media)\n",
        "# ATP = adenosine triphosphate\n",
        "# ADP = Adenosine diphosphate\n",
        "# H = hydrogen ion\n",
        "# UDPG = UDP-glucose\n",
        "# PP = pyrophosphate/diphosphate\n",
        "# P = phosphate\n",
        "# TRE = tetrahalose\n",
        "# G6P = glucose-6-phosphate\n",
        "# G1P = glucose-1-phosphate\n",
        "# UTP = uridine triphosphate\n",
        "# UDP = uridine diphosphate\n",
        "# T6P = tetrahalose-6-phosphate\n",
        "# F6P = fructose-6-phosphate\n",
        "# H20 = water\n",
        "\n",
        "## Reaction order\n",
        "# Hexokinase\n",
        "# Phosphoglucomutase\n",
        "# UDP–glucose phosphorylase\n",
        "# T6P synthase\n",
        "# T6P phosphatase\n",
        "# Trehalase\n",
        "# G6P isomerase\n",
        "# Glucose transport from media to intracellular lumen\n",
        "\n",
        "tetrahalose_MODEL_2 = \"\"\"\n",
        "J1: GLC + ATP -> G6P + ADP + H; Vmax1*((1/(KGLC1*KATP1))*(GLC*ATP-(G6P*ADP/Keq1)))/((1+GLC/KGLC1+G6P/KG6P1+T6P/KT6P5)*(1+ATP/KATP1+ADP/KADP1))\n",
        "J2: G6P -> G1P; Vmax2*((1/KG6P2)*(G6P-G1P/Keq2))/(1+G6P/KG6P2+G1P/KG1P2)\n",
        "J3: G1P + UTP + H -> UDPG + PP; Vmax3*((UTP/KUTP3)*(G1P/KG1P3))/(KiUTP3/KUTP3+UTP/KUTP3+G1P/KG1P3+(UTP*G1P/KUTP3*KG1P3)+(KiUTP3*UDPG/KUTP3*KiUDPG3)+(G1P*UDPG/KG1P3*KiUDPG3))\n",
        "J4: G6P + UDPG -> T6P + UDP + H; Vmax4*(G6P*UDPG/KG6P4*KUDPG4)/((1+G6P/KG6P4)*(1+UDPG/KUDPG4))\n",
        "J5: T6P + H2O -> TRE + P; Vmax5*(T6P/KT6P5)/(1+T6P/KT6P5)\n",
        "J6: TRE + H2O -> GLC + GLC; Vmax6*(TRE/KTRE6)/(1+TRE/KTRE6)\n",
        "J7: G6P -> F6P; Vmax7/KG6P7*(G6P-F6P/Keq7)/(1+G6P/KG6P7+F6P/KF6P7) \n",
        "J8: GLX -> GLC; Vmax8*(GLX-GLC)/KGLC8/(1+(GLX+GLC)/KGLC8+Ki8*GLX*GLC/KGLC8^2)\n",
        "\n",
        "\n",
        "\n",
        "KGLC1 = 0.08\n",
        "KATP1 = 0.15\n",
        "KG6P1 = 30\n",
        "KADP1 = 0.23\n",
        "KiTRH1 = 0.04\n",
        "Keq1 = 2000\n",
        "Vmax1 = 350\n",
        "shock1 = 8\n",
        "\n",
        "KG6P2 = 0.05\n",
        "KG1P2 = 0.023\n",
        "Keq2 = 1/6\n",
        "Vmax2 = 0.3545\n",
        "shock2 = 16 \n",
        "\n",
        "KUTP3 = 0.11\n",
        "KiUTP3 = 0.11\n",
        "KG1P3 = 0.32\n",
        "KiUDPG3 = 0.035\n",
        "Vmax3 = 36.82\n",
        "shock3 = 16\n",
        "\n",
        "KG6P4 = 3.8\n",
        "KUDPG4 = 0.886\n",
        "Vmax4 = 1.371\n",
        "shock4 = 12\n",
        "\n",
        "KT6P5 = 0.5\n",
        "Vmax5 = 6.5\n",
        "shock5 = 18\n",
        "\n",
        "KTRE6 = 2.99\n",
        "Vmax6 = 0.5\n",
        "shock6 = 6\n",
        "\n",
        "Keq7 = 0.3  \n",
        "KF6P7 = 0.29 \n",
        "KG6P7 = 1.4\n",
        "Vmax7 = 1071.0\n",
        "shock7 = 1\n",
        "\n",
        "KGLC8 = 1.1918\n",
        "Ki8 = 0.91\n",
        "Vmax8 = 97.24\n",
        "\n",
        "ADP = 1.282\n",
        "ATP = 2.525\n",
        "F6P = 0.625\n",
        "GLC = 0.09675\n",
        "G1P = 0.1\n",
        "G6P = 2.675\n",
        "TRE = 0.05\n",
        "T6P = 0.02\n",
        "UDP = 0.2815\n",
        "UDPG = 0.7\n",
        "UTP = 0.6491\n",
        "GLX = 100\n",
        "\n",
        "\n",
        "\n",
        "\n",
        "\"\"\"\n",
        "tetrahalose_MODEL_RR_2 = te.loada(tetrahalose_MODEL_2)\n",
        "tetrahalose_MODEL_DATA_2 = tetrahalose_MODEL_RR_2.simulate()\n",
        "tetrahalose_MODEL_RR_2.plot(tetrahalose_MODEL_DATA_2)"
      ],
      "id": "JBgo-xxcHFUn"
    },
    {
      "cell_type": "markdown",
      "metadata": {
        "id": "8PgKim9CHKvV"
      },
      "source": [
        "**Tellurium Simulation To Be Placed Under Control**"
      ],
      "id": "8PgKim9CHKvV"
    },
    {
      "cell_type": "code",
      "execution_count": 4,
      "metadata": {
        "colab": {
          "base_uri": "https://localhost:8080/",
          "height": 265
        },
        "id": "nE6I2TcPHQuk",
        "outputId": "58c6ad6d-948d-4564-fc95-df98fdf30bfb"
      },
      "outputs": [
        {
          "output_type": "display_data",
          "data": {
            "text/plain": [
              "<Figure size 432x288 with 1 Axes>"
            ],
            "image/png": "[encoded data removed]"
          },
          "metadata": {}
        }
      ],
      "source": [
        "# GLC = glucose \n",
        "# ATP = adenosine triphosphate\n",
        "# ADP = Adenosine diphosphate\n",
        "# H = hydrogen ion\n",
        "# UDPG = UDP-glucose\n",
        "# PP = pyrophosphate/diphosphate\n",
        "# P = phosphate\n",
        "# TRE = tetrahalose\n",
        "# G6P = glucose-6-phosphate\n",
        "# G1P = glucose-1-phosphate\n",
        "# UTP = uridine triphosphate\n",
        "# UDP = uridine diphosphate\n",
        "# T6P = tetrahalose-6-phosphate\n",
        "# F6P = fructose-6-phosphate\n",
        "# H20 = water\n",
        "\n",
        "## Reaction order\n",
        "# Hexokinase\n",
        "# Phosphoglucomutase\n",
        "# UDP–glucose phosphorylase\n",
        "# T6P synthase\n",
        "# T6P phosphatase\n",
        "# Trehalase\n",
        "# G6P isomerase\n",
        "\n",
        "tetrahalose_MODEL_3 = \"\"\"\n",
        "J1: GLC + ATP -> G6P + ADP + H; Vmax1*((1/(KGLC1*KATP1))*(GLC*ATP-(G6P*ADP/Keq1)))/((1+GLC/KGLC1+G6P/KG6P1+T6P/KT6P5)*(1+ATP/KATP1+ADP/KADP1))\n",
        "J2: G6P -> G1P; Vmax2*((1/KG6P2)*(G6P-G1P/Keq2))/(1+G6P/KG6P2+G1P/KG1P2)\n",
        "J3: G1P + UTP + H -> UDPG + PP; Vmax3*((UTP/KUTP3)*(G1P/KG1P3))/(KiUTP3/KUTP3+UTP/KUTP3+G1P/KG1P3+(UTP*G1P/KUTP3*KG1P3)+(KiUTP3*UDPG/KUTP3*KiUDPG3)+(G1P*UDPG/KG1P3*KiUDPG3))\n",
        "J4: G6P + UDPG -> T6P + UDP + H; Vmax4*(G6P*UDPG/KG6P4*KUDPG4)/((1+G6P/KG6P4)*(1+UDPG/KUDPG4))\n",
        "J5: T6P + H2O -> TRE + P; Vmax5*(T6P/KT6P5)/(1+T6P/KT6P5)\n",
        "J6: TRE + H2O -> GLC + GLC; Vmax6*(TRE/KTRE6)/(1+TRE/KTRE6)\n",
        "J7: G6P -> F6P; Vmax7/KG6P7*(G6P-F6P/Keq7)/(1+G6P/KG6P7+F6P/KF6P7) \n",
        "\n",
        "\n",
        "\n",
        "KGLC1 = 0.08\n",
        "KATP1 = 0.15\n",
        "KG6P1 = 30\n",
        "KADP1 = 0.23\n",
        "KiTRH1 = 0.04\n",
        "Keq1 = 2000\n",
        "Vmax1 = 350\n",
        "shock1 = 8\n",
        "\n",
        "KG6P2 = 0.05\n",
        "KG1P2 = 0.023\n",
        "Keq2 = 1/6\n",
        "Vmax2 = 0.3545\n",
        "shock2 = 16 \n",
        "\n",
        "KUTP3 = 0.11\n",
        "KiUTP3 = 0.11\n",
        "KG1P3 = 0.32\n",
        "KiUDPG3 = 0.035\n",
        "Vmax3 = 36.82\n",
        "shock3 = 16\n",
        "\n",
        "KG6P4 = 3.8\n",
        "KUDPG4 = 0.886\n",
        "Vmax4 = 1.371\n",
        "shock4 = 12\n",
        "\n",
        "KT6P5 = 0.5\n",
        "Vmax5 = 6.5\n",
        "shock5 = 18\n",
        "\n",
        "KTRE6 = 2.99\n",
        "Vmax6 = 0.5\n",
        "shock6 = 6\n",
        "\n",
        "Keq7 = 0.3  \n",
        "KF6P7 = 0.29 \n",
        "KG6P7 = 1.4\n",
        "Vmax7 = 1071.0\n",
        "shock7 = 1\n",
        "\n",
        "\n",
        "ADP = 1.282\n",
        "ATP = 2.525\n",
        "F6P = 0.625\n",
        "GLC = 0.09675\n",
        "G1P = 0.1\n",
        "G6P = 2.675\n",
        "TRE = 0.05\n",
        "T6P = 0.02\n",
        "UDP = 0.2815\n",
        "UDPG = 0.7\n",
        "UTP = 0.6491\n",
        "H2O = 5\n",
        "\n",
        "\n",
        "\n",
        "\n",
        "\"\"\"\n",
        "tetrahalose_MODEL_3_RR = te.loada(tetrahalose_MODEL_3)\n",
        "tetrahalose_MODEL_DATA_3 = tetrahalose_MODEL_3_RR.simulate()\n",
        "# plt.plot(tetrahalose_MODEL_DATA_3)\n",
        "# plt.ylim([0,10])\n",
        "# plt.legend()\n",
        "tetrahalose_MODEL_3_RR.plot(tetrahalose_MODEL_DATA_3)"
      ],
      "id": "nE6I2TcPHQuk"
    },
    {
      "cell_type": "markdown",
      "metadata": {
        "id": "aeezl_vXHZw6"
      },
      "source": [
        "**Species Vector**\n",
        "\n",
        "$ \\begin{bmatrix}\n",
        "GLC \\\\\n",
        "ATP \\\\\n",
        "G6P \\\\\n",
        "ADP \\\\\n",
        "H \\\\\n",
        "G1P \\\\\n",
        "UTP \\\\\n",
        "UDPG \\\\\n",
        "PP \\\\\n",
        "T6P \\\\\n",
        "UDP \\\\\n",
        "H2O \\\\\n",
        "TRE \\\\\n",
        "P \\\\\n",
        "F6P \n",
        "\\end{bmatrix}  $"
      ],
      "id": "aeezl_vXHZw6"
    },
    {
      "cell_type": "markdown",
      "metadata": {
        "id": "PHOfEhjyHcdA"
      },
      "source": [
        "**Stoichiometry Vector**\n",
        "\n",
        "$ \\begin{bmatrix}\n",
        "-1 & -1 & 1 & 1 & 1 & 0 & 0 & 0 & 0 & 0 & 0 & 0 & 0 & 0 & 0 \\\\\n",
        "0 & 0 & -1 & 0 & 0 & 1 & 0 & 0 & 0 & 0 & 0 & 0 & 0 & 0 & 0 \\\\\n",
        "0 & 0 & 0 & 0 & -1 & -1 & -1 & 1 & 1 & 0 & 0 & 0 & 0 & 0 & 0 \\\\\n",
        "0 & 0 & -1 & 0 & 1 & 0 & 0 & -1 & 0 & 1 & 1 & 0 & 0 & 0 & 0 \\\\\n",
        "0 & 0 & 0 & 0 & 0 & 0 & 0 & 0 & 0 & -1 & 0 & -1 & 1 & 1 & 0 \\\\\n",
        "2 & 0 & 0 & 0 & 0 & 0 & 0 & 0 & 0 & 0 & 0 & -1 & -1 & 0 & 0 \\\\\n",
        "0 & 0 & -1 & 0 & 0 & 0 & 0 & 0 & 0 & 0 & 0 & 0 & 0 & 0 & 1 \n",
        "\\end{bmatrix}  $"
      ],
      "id": "PHOfEhjyHcdA"
    },
    {
      "cell_type": "markdown",
      "metadata": {
        "id": "W71ClHAvGp99"
      },
      "source": [
        "The paper this model was built around discusses tetrahalose (TRE) biosynthesis in yeast. Tetrahalose is an industrially-relevant disaccharide of glucose and is produced during the heat stress response. Normally, this compound is produced when the temperature of the cell is raised above 45 C. The goal of the built controller in this model is to increase the flux of the tetrahalose pathway towards producing at least double the amount of tetrahahlose during physiological conditions (without raising the temperature to 45 C). The key reason for this is that to translate this controller to a physical system we will need to build a genetic program. At 45 C, yeast is more likely to mutate and any replicating plasmids will most likely be cured. Therefore, by raising the temperature above 37 C, we will not be able to ensure a stable genetic controller to direct the flux towards tetrahahlose biosynthesis. \n",
        "\n",
        "In the above tellurium simulation (please refer to the third tellurium simulation), I found that the maximum tetrahalose titer is 0.6 mM. Therefore, I am choosing the operating point to be 1.5 mM as this is more than doubling the current production titer. Producing tetrahalose removes glucose from being catabolyzed in glycolysis. To prevent any cellular fitness defects due to long-term oscillations in tetrahalose production, I am choosing the settling time to be 2.5 minutes. An additional reason for choosing the settling time to be 2.5 minutes is because there is a steady decline of our input T6P (chosen in question two). If our input levels are too low this may limit our ability to control the biosynthesis of tetrahalose as it may require a constant supply of the input. The overshoot (or a change in absolute height between the setpoint) for this settling time will be $\\pm{0.1}$. The overshoot is allowed to be $\\pm{0.1}$ for two reasons: to prevent the need for too much derivative control (more is explained on this later), and because double the maximum titer of tetrahalose is 1.2 mM (therefore 1.5 - 0.1 = 1.4 is still greater than our original goal of doubling the current maximum titer).\n",
        "\n"
      ],
      "id": "W71ClHAvGp99"
    },
    {
      "cell_type": "markdown",
      "metadata": {
        "id": "d2e2ce1e-3f7d-49aa-b06e-88cdd8d0c3f6"
      },
      "source": [
        "# 2. Determine the Control Input"
      ],
      "id": "d2e2ce1e-3f7d-49aa-b06e-88cdd8d0c3f6"
    },
    {
      "cell_type": "code",
      "execution_count": 5,
      "metadata": {
        "id": "A7b8o7kGHtGS"
      },
      "outputs": [],
      "source": [
        "def evaluateDesign(k_p, k_i, k_d):\n",
        "\n",
        "  \"\"\"\n",
        "  ---Acceptable inputs: kp, ki, and kd values are floats---\n",
        "  ---evaluateDesign function plots the reference input, GLC, and TRE and returns all of these values---\n",
        "\n",
        "  \"\"\"\n",
        "\n",
        "  # Initiating the control package and building the IO system elements\n",
        "  print('Start')\n",
        "  ctlsb = ctl.ControlSBML(tetrahalose_MODEL_3, input_names=['T6P'], output_names=['TRE'])\n",
        "  print(ctlsb)\n",
        "  FACTORY = ctl.IOSystemFactory()\n",
        "  controller = FACTORY.makePIDController(\"controller\", kp=k_p, ki=k_i, kd=k_d)\n",
        "  system = ctlsb.makeNonlinearIOSystem(\"system\")\n",
        "  sum_R_S = FACTORY.makeAdder(\"sum_R_S\")\n",
        "  \n",
        "  # Defining connections in the closed loop feedback system\n",
        "  closed_loop = control.interconnect(\n",
        "  [sum_R_S, system, controller ], \n",
        "  connections=[\n",
        "    ['controller.in','sum_R_S.out'],\n",
        "    ['system.T6P', 'controller.out'],\n",
        "    ['sum_R_S.in1', \"-\" + \"system.TRE\"]\n",
        "   ],\n",
        "  inplist=[\"sum_R_S.in2\"],\n",
        "  outlist = [\"sum_R_S.in2\", 'system.T6P', \"system.TRE\"]\n",
        "  )\n",
        "\n",
        "  # Simulating the step response\n",
        "  X0 = ctl.makeStateVector(closed_loop)  # obtaining initial values (also available in the supplement of the paper)\n",
        "  times = ctl.makeSimulationTimes(start_time=0, end_time=10, points_per_time=25)\n",
        "  result = control.input_output_response(closed_loop, T=times, U=1.5, X0=X0)  # choosing U=1 based on final value of TRE after 5 minutes\n",
        "  \n",
        "  ## Plotting Results\n",
        "  plt.figure()\n",
        "  plt.plot(result.t, result.outputs[0].flatten())\n",
        "  plt.plot(result.t, result.outputs[1].flatten())\n",
        "  plt.plot(result.t, result.outputs[2].flatten())\n",
        "  plt.ylabel('Concentration (mM)')\n",
        "  plt.xlabel('Time (minutes)')\n",
        "  plt.ylim([0, 20])\n",
        "  legends = [\"reference input\", 'Tetrahalose-6-phosphate', \"Tetrahalose\"]\n",
        "  plt.legend(legends)\n",
        "  output1 = result.outputs[2]\n",
        "\n",
        "  return result"
      ],
      "id": "A7b8o7kGHtGS"
    },
    {
      "cell_type": "code",
      "execution_count": 6,
      "metadata": {
        "colab": {
          "base_uri": "https://localhost:8080/"
        },
        "id": "-lKowRyrH9m9",
        "outputId": "a923c7ff-0896-45e3-91f1-01ba1d89dd2f"
      },
      "outputs": [
        {
          "output_type": "stream",
          "name": "stdout",
          "text": [
            "T6P Gs: \n",
            "   12.02 s^13 + 1.788e+04 s^12 + 7.369e+06 s^11 + 5.221e+08 s^10 + 1.28e+08 s^9 + 7.134e+06 s^8 + 1.441e-07 s^7 - 2.093e-21 s^6 - 1.949e-37 s^5\n",
            "---------------------------------------------------------------------------------------------------------------------------------------------------\n",
            "s^14 + 1488 s^13 + 6.133e+05 s^12 + 4.354e+07 s^11 + 1.767e+07 s^10 + 2.316e+06 s^9 + 9.602e+04 s^8 + 1.939e-09 s^7 - 2.817e-23 s^6 - 2.624e-39 s^5\n",
            "\n",
            "T6P DC gain: 74.27591463414633\n",
            "\n",
            "GLC Gs: \n",
            "  -1.023e-12 s^13 - 1.601e-10 s^12 + 338.7 s^11 + 2.211e+05 s^10 + 1.693e+07 s^9 + 2.551e+06 s^8 + 3.496e-07 s^7 - 3.198e-10 s^6 - 1.975e-24 s^5\n",
            "--------------------------------------------------------------------------------------------------------------------------------------------------\n",
            "s^14 + 845.2 s^13 + 1.052e+05 s^12 + 3.75e+06 s^11 + 3.257e+07 s^10 + 1.275e+07 s^9 + 1.637e+06 s^8 + 6.644e+04 s^7 + 7.42e-10 s^6 + 1.369e-24 s^5\n",
            "\n",
            "GLC DC gain: -1.4426588750913076\n",
            "\n",
            "G6P Gs: \n",
            "    9.095e-13 s^13 + 0.5175 s^12 + 696.9 s^11 + 2.603e+05 s^10 + 1.796e+07 s^9 + 2.705e+06 s^8 - 6.412e-07 s^7 - 3.376e-11 s^6 - 1.959e-24 s^5\n",
            "--------------------------------------------------------------------------------------------------------------------------------------------------\n",
            "s^14 + 1359 s^13 + 5.196e+05 s^12 + 4.09e+07 s^11 + 4.308e+08 s^10 + 1.451e+08 s^9 + 1.408e+07 s^8 + 2.754e+05 s^7 + 3.825e-10 s^6 - 4.708e-24 s^5\n",
            "\n",
            "G6P DC gain: 0.41610025488530167\n",
            "\n",
            "UDPG Gs: \n",
            "     -1.137e-12 s^13 + 1.882 s^12 + 2800 s^11 + 1.153e+06 s^10 + 8.15e+07 s^9 + 4.429e+06 s^8 + 1.421e-07 s^7 + 1.058e-10 s^6 - 3.364e-25 s^5\n",
            "--------------------------------------------------------------------------------------------------------------------------------------------------\n",
            "s^14 + 1500 s^13 + 6.309e+05 s^12 + 5.079e+07 s^11 + 5.329e+08 s^10 + 1.31e+08 s^9 + 2.468e+06 s^8 - 6.709e+04 s^7 - 7.914e-10 s^6 + 6.786e-25 s^5\n",
            "\n",
            "UDPG DC gain: -0.49572649572649574\n"
          ]
        }
      ],
      "source": [
        "## Evaluating the DC gain with different control inputs\n",
        "# manually had to find all of the DC gains as they will return NaN unless I manually factor s out\n",
        "\n",
        "# T6P\n",
        "operating_time = 1\n",
        "ctlsb = ctl.ControlSBML(tetrahalose_MODEL_3, input_names=['T6P'], output_names=['TRE'])\n",
        "Gs = ctlsb.makeTransferFunction(time=operating_time)  # system transfer function\n",
        "print('T6P Gs:',Gs)\n",
        "print('T6P DC gain:',1.949E-37/2.624E-39)\n",
        "print()\n",
        "\n",
        "\n",
        "# GLC\n",
        "ctlsb = ctl.ControlSBML(tetrahalose_MODEL_3, input_names=['GLC'], output_names=['TRE'])\n",
        "Gs = ctlsb.makeTransferFunction(time=operating_time)  # system transfer function\n",
        "print('GLC Gs:',Gs)\n",
        "print('GLC DC gain:',-1.975E-24/1.369E-24)\n",
        "print()\n",
        "\n",
        "# G6P\n",
        "ctlsb = ctl.ControlSBML(tetrahalose_MODEL_3, input_names=['G6P'], output_names=['TRE'])\n",
        "Gs = ctlsb.makeTransferFunction(time=operating_time)  # system transfer function\n",
        "print('G6P Gs:',Gs)\n",
        "print('G6P DC gain:',1.959E-24/4.708E-24)\n",
        "print()\n",
        "\n",
        "# UDPG\n",
        "ctlsb = ctl.ControlSBML(tetrahalose_MODEL_3, input_names=['UDPG'], output_names=['TRE'])\n",
        "Gs = ctlsb.makeTransferFunction(time=operating_time)  # system transfer function\n",
        "print('UDPG Gs:',Gs)\n",
        "print('UDPG DC gain:',-3.364E-25/6.786E-25)"
      ],
      "id": "-lKowRyrH9m9"
    },
    {
      "cell_type": "markdown",
      "metadata": {
        "id": "OoNG0b73IBvW"
      },
      "source": [
        "From these DC gains, we can see that at steady state a step input of T6P will result in a huge increase in the output TRE. This is in no way surprising considering T6P is a reactant in the reaction directly synthesizing TRE. Both UDPG and GLC are inversely related to the production of tetrahalose and would need a significant step input for there to be a positive production. For reference the DC gain for each of the inputs towards producing TRE is as follows (shown in the above code as well):\n",
        "\n",
        "T6P: 74\n",
        "\n",
        "GLC: -1.44\n",
        "\n",
        "G6P: 0.42\n",
        "\n",
        "UDPG: -0.50\n",
        "\n",
        "Therefore, the two reasonable candidates are G6P and T6P. However, controlling the production of TRE with G6P also presents an additional challenge as it is involved in many of the reactions. Attempting to control with G6P or UDPG present long loading times when attempting to control TRE with a PID controller without noise or disturbances. \n",
        "\n",
        "**Therefore, I unfortunately had to choose the simplest option in this case which is to control the biosynthesis of TRE with T6P**"
      ],
      "id": "OoNG0b73IBvW"
    },
    {
      "cell_type": "markdown",
      "metadata": {
        "id": "edd5f9f2-f8bb-4acf-a651-88fd94131a82"
      },
      "source": [
        "# 3. Design the Control System"
      ],
      "id": "edd5f9f2-f8bb-4acf-a651-88fd94131a82"
    },
    {
      "cell_type": "code",
      "execution_count": 7,
      "metadata": {
        "colab": {
          "base_uri": "https://localhost:8080/",
          "height": 318
        },
        "id": "b0Kh5JyfKn-Y",
        "outputId": "fd5ea098-82ff-42d2-bd89-1c99bea04f9c"
      },
      "outputs": [
        {
          "output_type": "stream",
          "name": "stdout",
          "text": [
            "Start\n",
            "<controlSBML.control_sbml.ControlSBML object at 0x7f95400b2210>\n"
          ]
        },
        {
          "output_type": "display_data",
          "data": {
            "text/plain": [
              "<Figure size 432x288 with 1 Axes>"
            ],
            "image/png": "[encoded data removed]"
          },
          "metadata": {
            "needs_background": "light"
          }
        }
      ],
      "source": [
        "result = evaluateDesign(1,1,1)"
      ],
      "id": "b0Kh5JyfKn-Y"
    },
    {
      "cell_type": "code",
      "execution_count": 8,
      "metadata": {
        "colab": {
          "base_uri": "https://localhost:8080/",
          "height": 318
        },
        "id": "rc7R-CtlKrWD",
        "outputId": "45fab3d7-823d-470c-b84d-5405a90b8c4d"
      },
      "outputs": [
        {
          "output_type": "stream",
          "name": "stdout",
          "text": [
            "Start\n",
            "<controlSBML.control_sbml.ControlSBML object at 0x7f95400cbc90>\n"
          ]
        },
        {
          "output_type": "display_data",
          "data": {
            "text/plain": [
              "<Figure size 432x288 with 1 Axes>"
            ],
            "image/png": "[encoded data removed]"
          },
          "metadata": {
            "needs_background": "light"
          }
        }
      ],
      "source": [
        "result = evaluateDesign(1,1,0.5)"
      ],
      "id": "rc7R-CtlKrWD"
    },
    {
      "cell_type": "code",
      "execution_count": 9,
      "metadata": {
        "colab": {
          "base_uri": "https://localhost:8080/",
          "height": 318
        },
        "id": "lCJp-xo6KvqY",
        "outputId": "a08bcee7-5281-4514-c9ac-53f54d74aba2"
      },
      "outputs": [
        {
          "output_type": "stream",
          "name": "stdout",
          "text": [
            "Start\n",
            "<controlSBML.control_sbml.ControlSBML object at 0x7f95400cbe10>\n"
          ]
        },
        {
          "output_type": "display_data",
          "data": {
            "text/plain": [
              "<Figure size 432x288 with 1 Axes>"
            ],
            "image/png": "[encoded data removed]"
          },
          "metadata": {
            "needs_background": "light"
          }
        }
      ],
      "source": [
        "result = evaluateDesign(20,1,1)"
      ],
      "id": "lCJp-xo6KvqY"
    },
    {
      "cell_type": "code",
      "execution_count": 10,
      "metadata": {
        "colab": {
          "base_uri": "https://localhost:8080/"
        },
        "id": "NNGyPFf9Kz0I",
        "outputId": "a5fe3666-a457-4ef8-d4a7-d79c509c65e1"
      },
      "outputs": [
        {
          "output_type": "stream",
          "name": "stdout",
          "text": [
            "Transfer function for Tetrahalose (Gs): \n",
            "   12.02 s^13 + 1.788e+04 s^12 + 7.369e+06 s^11 + 5.221e+08 s^10 + 1.28e+08 s^9 + 7.134e+06 s^8 + 1.441e-07 s^7 - 2.093e-21 s^6 - 1.949e-37 s^5\n",
            "---------------------------------------------------------------------------------------------------------------------------------------------------\n",
            "s^14 + 1488 s^13 + 6.133e+05 s^12 + 4.354e+07 s^11 + 1.767e+07 s^10 + 2.316e+06 s^9 + 9.602e+04 s^8 + 1.939e-09 s^7 - 2.817e-23 s^6 - 2.624e-39 s^5\n",
            "\n",
            "T6P Gs: \n",
            "   12.02 s^13 + 1.788e+04 s^12 + 7.369e+06 s^11 + 5.221e+08 s^10 + 1.28e+08 s^9 + 7.134e+06 s^8 + 1.441e-07 s^7 - 2.093e-21 s^6 - 1.949e-37 s^5\n",
            "---------------------------------------------------------------------------------------------------------------------------------------------------\n",
            "s^14 + 1488 s^13 + 6.133e+05 s^12 + 4.354e+07 s^11 + 1.767e+07 s^10 + 2.316e+06 s^9 + 9.602e+04 s^8 + 1.939e-09 s^7 - 2.817e-23 s^6 - 2.624e-39 s^5\n",
            "\n",
            "T6P DC gain: 74.27591463414633\n",
            "\n",
            "Controller Transfer Function: \n",
            "s^2 + 20 s + 1\n",
            "--------------\n",
            "      s\n",
            "\n",
            "\n",
            "HRY Transfer Function: \n",
            "12.02 s^30 + 3.6e+04 s^29 + 4.206e+07 s^28 + 2.38e+10 s^27 + 6.534e+12 s^26 + 7.631e+14 s^25 + 3.578e+16 s^24 + 4.743e+17 s^23 + 3.232e+17 s^22 + 9.094e+16 s^21 + 1.326e+16 s^20 + 1.05e+15 s^19 + 4.251e+13 s^18 + 6.85e+11 s^17 + 0.02767 s^16 - 1.226e-16 s^15 - 8.156e-30 s^14 + 5.821e-44 s^13 + 1.098e-59 s^12 + 5.115e-76 s^11\n",
            "--------------------------------------------------------------------------------------------------------------------------------------------------------------------------------------------------------------------------------------------------------------------------------------------------------------------------------------\n",
            "13.02 s^30 + 3.898e+04 s^29 + 4.55e+07 s^28 + 2.571e+10 s^27 + 7.04e+12 s^26 + 8.165e+14 s^25 + 3.77e+16 s^24 + 4.758e+17 s^23 + 3.237e+17 s^22 + 9.104e+16 s^21 + 1.327e+16 s^20 + 1.05e+15 s^19 + 4.252e+13 s^18 + 6.85e+11 s^17 + 0.02767 s^16 - 1.226e-16 s^15 - 8.156e-30 s^14 + 5.821e-44 s^13 + 1.098e-59 s^12 + 5.115e-76 s^11\n",
            "\n",
            "Poles of transfer function between the input and output:\n",
            "[-7.17069530e+02+1.14029981e-03j -7.17069530e+02-1.14029981e-03j\n",
            " -6.81699450e+02+1.10964807e-03j -6.81699450e+02-1.10964807e-03j\n",
            " -8.85586019e+01+3.83778404e-06j -8.85586019e+01-3.83778404e-06j\n",
            " -1.84261340e+01+0.00000000e+00j -1.61768525e-01+0.00000000e+00j\n",
            " -1.60153098e-01+0.00000000e+00j -1.60152030e-01+0.00000000e+00j\n",
            " -8.56146702e-02+0.00000000e+00j -8.56145170e-02+0.00000000e+00j\n",
            " -5.01022376e-02+0.00000000e+00j -2.99587330e-14+0.00000000e+00j\n",
            " -2.99589347e-14+0.00000000e+00j  9.85578681e-15+0.00000000e+00j\n",
            "  9.85545446e-15+0.00000000e+00j -9.25287659e-17+0.00000000e+00j\n",
            " -9.25659685e-17+0.00000000e+00j  0.00000000e+00+0.00000000e+00j\n",
            "  0.00000000e+00+0.00000000e+00j  0.00000000e+00+0.00000000e+00j\n",
            "  0.00000000e+00+0.00000000e+00j  0.00000000e+00+0.00000000e+00j\n",
            "  0.00000000e+00+0.00000000e+00j  0.00000000e+00+0.00000000e+00j\n",
            "  0.00000000e+00+0.00000000e+00j  0.00000000e+00+0.00000000e+00j\n",
            "  0.00000000e+00+0.00000000e+00j  0.00000000e+00+0.00000000e+00j]\n",
            "\n",
            "The poles tell us this system is stable and oscillates around the setpoint\n",
            "Overall closed-loop DC gain: 1.0\n"
          ]
        }
      ],
      "source": [
        "operating_time = 1\n",
        "kp = 20\n",
        "ki = 1\n",
        "kd = 1\n",
        "ctlsb = ctl.ControlSBML(tetrahalose_MODEL_3, input_names=['T6P'], output_names=['TRE'])\n",
        "Gs = ctlsb.makeTransferFunction(time=operating_time)  # system transfer function\n",
        "print('Transfer function for Tetrahalose (Gs):', Gs)\n",
        "print('T6P Gs:',Gs)\n",
        "print('T6P DC gain:',1.949E-37/2.624E-39)\n",
        "print()\n",
        "Cs = control.TransferFunction([kp], [1]) + control.TransferFunction([ki], [1, 0]) + control.TransferFunction([kd, 0], [1]) # controller transfer function\n",
        "print('Controller Transfer Function:',Cs)\n",
        "print()\n",
        "\n",
        "HRY = (Gs*Cs)/(1+Gs*Cs)  # Transfer function between input and output\n",
        "print('HRY Transfer Function:', HRY)\n",
        "print('Poles of transfer function between the input and output:')\n",
        "print(HRY.pole())\n",
        "print()\n",
        "print('The poles tell us this system is stable and oscillates around the setpoint')\n",
        "print('Overall closed-loop DC gain:',5.11E-76/5.11E-76)"
      ],
      "id": "NNGyPFf9Kz0I"
    },
    {
      "cell_type": "markdown",
      "metadata": {
        "id": "79LbeS-WLYcV"
      },
      "source": [
        "For the purpose of finding out if our system under control with the PID controller, it is necessary to view the poles and the DC gain of the overall transfer function describing the relationship between the input and output of the complete closed-loop feedback system. From the above code I printed the system transfer function ${G_s}$ and the overall transfer function ${H_{RY}}$. From these transfer functions, I can calculate the DC gains. Previously, I had calculated the DC gain for ${G_s}$ with T6P and found that unsurprisingly that any changes in input have huge positive affects on the output as the DC gain is 74. \n",
        "\n",
        "From the poles of the overall transfer function, it is clear that my system is stable (all poles are negative or 0) and oscillatory (presence of complex poles). \n",
        "\n",
        "Therefore, with these sustained oscillations, to control this system I will need derivative control to dampen the oscillations and a large proportional control to get the output closer to the desired setpoint. I will need a large proportional control in this case because of how large the DC gain is, it will most likely be very easy initially to overshoot the desired output. "
      ],
      "id": "79LbeS-WLYcV"
    },
    {
      "cell_type": "markdown",
      "metadata": {
        "id": "1WRiUYwVYys5"
      },
      "source": [
        "As I will need at the very least both proportional and integral control, **I have decided to use a PID controller to control the flux of tetrahalose**. "
      ],
      "id": "1WRiUYwVYys5"
    },
    {
      "cell_type": "markdown",
      "metadata": {
        "id": "2251e92e-04e5-47b9-ba02-84efa0b4dfa4"
      },
      "source": [
        "# 4. Evaluate the Design"
      ],
      "id": "2251e92e-04e5-47b9-ba02-84efa0b4dfa4"
    },
    {
      "cell_type": "markdown",
      "metadata": {
        "id": "4654FputxEax"
      },
      "source": [
        "**System Equations**\n",
        "\n"
      ],
      "id": "4654FputxEax"
    },
    {
      "cell_type": "code",
      "execution_count": 11,
      "metadata": {
        "id": "BL4QkhIeXbml"
      },
      "outputs": [],
      "source": [
        "def evaluateDesignDisturbanceNoise(k_p, k_i, k_d):\n",
        "\n",
        "  \"\"\"\n",
        "  ---Acceptable inputs: kp, ki, and kd values are floats---\n",
        "  ---evaluateDesign function plots the reference input, GLC, and TRE and returns all of these values---\n",
        "\n",
        "  \"\"\"\n",
        "\n",
        "  # Initiating the control package and building the IO system elements\n",
        "  ctlsb = ctl.ControlSBML(tetrahalose_MODEL_3, input_names=['T6P'], output_names=['TRE'])\n",
        "  print('this function')\n",
        "  FACTORY = ctl.IOSystemFactory()\n",
        "  controller = FACTORY.makePIDController(\"controller\", kp=k_p, ki=k_i, kd=k_d)\n",
        "  system = ctlsb.makeNonlinearIOSystem(\"system\")\n",
        "  fltr = FACTORY.makeFilter(\"fltr\", -1)\n",
        "  neg_fltr = FACTORY.makeMultiplier(\"neg_fltr\", -1)\n",
        "  sum_R_NF = FACTORY.makeAdder(\"sum_R_NF\")\n",
        "  sum_U_D = FACTORY.makeAdder(\"sum_U_D\")\n",
        "  sum_N_Y = FACTORY.makeAdder(\"sum_N_Y\")\n",
        "  noise = FACTORY.makeSinusoid(\"noise\", 1, 5)\n",
        "  disturbance = FACTORY.makeSinusoid(\"disturbance\",0,5)\n",
        "  \n",
        "  # Defining connections in the closed loop feedback system\n",
        "  closed_loop = control.interconnect(\n",
        "  [sum_N_Y, system, controller, noise, disturbance, sum_R_NF, sum_U_D, fltr, neg_fltr], \n",
        "  connections=[\n",
        "    ['controller.in','sum_R_NF.out'],\n",
        "    ['sum_R_NF.in1','neg_fltr.out'],\n",
        "    ['sum_U_D.in1','controller.out'],\n",
        "    ['sum_U_D.in2','disturbance.out'],\n",
        "    ['system.T6P', 'sum_U_D.out'],\n",
        "    ['sum_N_Y.in1', \"system.TRE\"],\n",
        "    ['sum_N_Y.in2', 'noise.out'],\n",
        "    ['fltr.in','sum_N_Y.out'],\n",
        "    ['neg_fltr.in', 'fltr.out']\n",
        "   ],\n",
        "  inplist=[\"sum_R_NF.in2\"],\n",
        "  outlist = [\"sum_R_NF.in2\", 'system.T6P', \"system.TRE\",\"sum_N_Y.out\"]\n",
        "  )\n",
        "\n",
        "\n",
        "  # Simulating the step response\n",
        "  X0 = ctl.makeStateVector(closed_loop)  # obtaining initial values (also available in the supplement of the paper)\n",
        "  times = ctl.makeSimulationTimes(start_time=0, end_time=20, points_per_time=25)\n",
        "  result = control.input_output_response(closed_loop, T=times, U=1.5, X0=X0)  # choosing U=1.5 based on final value of TRE after 5 minutes\n",
        "  \n",
        "  ## Plotting Results\n",
        "  plt.figure()\n",
        "  plt.plot(result.t, result.outputs[0].flatten())\n",
        "  plt.plot(result.t, result.outputs[1].flatten())\n",
        "  plt.plot(result.t, result.outputs[2].flatten())\n",
        "  plt.plot(result.t, result.outputs[3].flatten())\n",
        "  plt.ylabel('Concentration (mM)')\n",
        "  plt.xlabel('Time (minutes)')\n",
        "  plt.ylim([0, 20])\n",
        "  legends = [\"reference input\", 'Tetrahalose-6-phosphate', \"Tetrahalose\", 'Output']\n",
        "  plt.legend(legends)\n",
        "  \n",
        "  # Finding the index at 2.5 minutes\n",
        "  tetrahalose_output = result.outputs[3]\n",
        "  tetrahalose_output = np.array(tetrahalose_output)\n",
        "  sim_time = np.array(result.t)\n",
        "  settling_time_index = np.where(sim_time==2.52)\n",
        "  \n",
        "  \n",
        "  # Tests for an Overshoot of <0.1\n",
        "  overshoot = 1.5 - tetrahalose_output[settling_time_index]\n",
        "  print('Overshoot:',overshoot)\n",
        "  if abs(overshoot)<0.01:\n",
        "    print('Overshoot is less than 0.1')\n",
        "  \n",
        "\n",
        "\n",
        "  return result"
      ],
      "id": "BL4QkhIeXbml"
    },
    {
      "cell_type": "code",
      "execution_count": 12,
      "metadata": {
        "colab": {
          "base_uri": "https://localhost:8080/",
          "height": 318
        },
        "id": "5xaR45XTYzNX",
        "outputId": "55b76fc2-7bf3-4567-f11f-2bef7d8fcc9f"
      },
      "outputs": [
        {
          "output_type": "stream",
          "name": "stdout",
          "text": [
            "this function\n",
            "Overshoot: [-0.16372785]\n"
          ]
        },
        {
          "output_type": "display_data",
          "data": {
            "text/plain": [
              "<Figure size 432x288 with 1 Axes>"
            ],
            "image/png": "[encoded data removed]"
          },
          "metadata": {
            "needs_background": "light"
          }
        }
      ],
      "source": [
        "result = evaluateDesignDisturbanceNoise(1,1,1)"
      ],
      "id": "5xaR45XTYzNX"
    },
    {
      "cell_type": "code",
      "execution_count": 13,
      "metadata": {
        "colab": {
          "base_uri": "https://localhost:8080/",
          "height": 318
        },
        "id": "Ja7ZAKvAdy_6",
        "outputId": "ad89b4bf-07b9-492a-a059-9158138985be"
      },
      "outputs": [
        {
          "output_type": "stream",
          "name": "stdout",
          "text": [
            "this function\n",
            "Overshoot: [-0.07342588]\n"
          ]
        },
        {
          "output_type": "display_data",
          "data": {
            "text/plain": [
              "<Figure size 432x288 with 1 Axes>"
            ],
            "image/png": "[encoded data removed]"
          },
          "metadata": {
            "needs_background": "light"
          }
        }
      ],
      "source": [
        "result = evaluateDesignDisturbanceNoise(10,1,1)"
      ],
      "id": "Ja7ZAKvAdy_6"
    },
    {
      "cell_type": "code",
      "execution_count": null,
      "metadata": {
        "colab": {
          "base_uri": "https://localhost:8080/"
        },
        "id": "Orwernexs_56",
        "outputId": "b987d07c-5901-4c83-f903-59d1b14e3494"
      },
      "outputs": [
        {
          "output_type": "stream",
          "name": "stdout",
          "text": [
            "this function\n"
          ]
        }
      ],
      "source": [
        "result = evaluateDesignDisturbanceNoise(20,1,1)"
      ],
      "id": "Orwernexs_56"
    },
    {
      "cell_type": "code",
      "execution_count": null,
      "metadata": {
        "id": "UhJBHuGGbRaU"
      },
      "outputs": [],
      "source": [
        "result=evaluateDesignDisturbanceNoise(20,1,2)"
      ],
      "id": "UhJBHuGGbRaU"
    },
    {
      "cell_type": "code",
      "execution_count": null,
      "metadata": {
        "id": "gcFIAAo7fqBf"
      },
      "outputs": [],
      "source": [
        "result=evaluateDesignDisturbanceNoise(20,0.4,1)"
      ],
      "id": "gcFIAAo7fqBf"
    },
    {
      "cell_type": "code",
      "execution_count": null,
      "metadata": {
        "id": "5Jsyz03YvOsU"
      },
      "outputs": [],
      "source": [
        "result=evaluateDesignDisturbanceNoise(20,0.4,2)"
      ],
      "id": "5Jsyz03YvOsU"
    },
    {
      "cell_type": "code",
      "execution_count": null,
      "metadata": {
        "id": "J5hplyqqyYZn"
      },
      "outputs": [],
      "source": [
        "result=evaluateDesignDisturbanceNoise(20,0.4,4)"
      ],
      "id": "J5hplyqqyYZn"
    },
    {
      "cell_type": "code",
      "execution_count": null,
      "metadata": {
        "id": "5fKuQhrjyptd"
      },
      "outputs": [],
      "source": [
        "result=evaluateDesignDisturbanceNoise(20,0.4,6)"
      ],
      "id": "5fKuQhrjyptd"
    },
    {
      "cell_type": "code",
      "execution_count": null,
      "metadata": {
        "id": "aK4gJvFey8rl"
      },
      "outputs": [],
      "source": [
        "result=evaluateDesignDisturbanceNoise(20,0.4,6.5)"
      ],
      "id": "aK4gJvFey8rl"
    },
    {
      "cell_type": "markdown",
      "metadata": {
        "id": "71guDVFYaDMN"
      },
      "source": [
        "To construct my SBML model, in addition to a controller, I added sinusoidal inputs for both a disturbance and noise. For the disturbance, I chose an amplitude of 0 and a frequency of 5. For the noise, I chose an amplitude of 1 and a frequency of 5. These are the highest disturbance amplitudes and frquencies that I was able to control within a reasonable amount of time (as dictated by the settling time and offshoot discussed in question 1). For my filter, I used a simple proportional filter model as described in the CtlSMBL package. "
      ],
      "id": "71guDVFYaDMN"
    },
    {
      "cell_type": "markdown",
      "metadata": {
        "id": "FG7BDTUAaUtx"
      },
      "source": [
        "As previously predicted, a large increase in proportional control brought the output (tetrahalose) much closer to the chosen setpoint of 1.5 mM. However, with proportional control alone, there were still huge osccilations. My proposed solution to this was derivative control as a means of dampening the oscillations. This strategy works and doubling the amount of proportional control drastically decreases oscillations. Integral control can sometimes cause oscillations in non-oscillatory systems as it calculates the error area which is a function of time. To fix any potential further compounding oscillations, the integral control was lowered. The last iterations of the controller were to just further dampen the oscillations by steadily increasing the integral control without letting the system become unstable. From this analysis I determined the control parameters to be:\n",
        "\n",
        "${k_p}=20$\n",
        "\n",
        "${k_i}=0.4$\n",
        "\n",
        "${k_d}=6$\n",
        "\n",
        "These parameters where able to satisfy the overshoot condition (.09 overshoot in this case) and settle within 2.5 minutes at the desired setpoint of 1.5 mM. "
      ],
      "id": "FG7BDTUAaUtx"
    },
    {
      "cell_type": "markdown",
      "metadata": {
        "id": "154173fa-3a56-46df-b427-05126d405206"
      },
      "source": [
        "# 5. Discuss Trade-offs"
      ],
      "id": "154173fa-3a56-46df-b427-05126d405206"
    },
    {
      "cell_type": "markdown",
      "metadata": {
        "id": "aPHTuZr1FDLC"
      },
      "source": [
        "**General Tradeoffs**"
      ],
      "id": "aPHTuZr1FDLC"
    },
    {
      "cell_type": "markdown",
      "metadata": {
        "id": "Z7vR8LCtCM2x"
      },
      "source": [
        "There were many tradeoffs in the construction of this closed loop control of tetrahalose production. The first is that I was unable to incorporate glucose transport through the media. In large scale bioreactor systems, transport coefficients are determined usually for both substrates (glucose in this case) and dissolved oxygen transport to the surface of the cellular membrane. Although the paper gave information about the glucose transfer rate from the glucose rich media to the intracellular lumen, I was unable to control the system even without the addition of a disturbance or noise. Another tradeoff was the choice for the input of my system. Ideally, I would want to choose an input that is relevant to real-life engineering. Therefore, the ideal choice would be to choose glucose as an input as this is easily varied in the media. However, many of the enzymes in my biosynthetic pathway are competitively inhibited by glucose (which is portrayed in the kinetics in the tellurium model). This is to be expected as yeast are only naturally programmed to produce tetrahalose under high temperature stress conditions and the pathway should be inhibited under basal conditions. Additionally, there is already a biological feedback system in place to produce additional glucose in this pathway. Both of these factors make the production of tetrahalose extremely difficult to control when varying glucose. Several other inputs were attempted such as G6P and UDPG, but both either could not control production or had extremely long loading times without the addition of disturbance or noise to the closed loop system. Another tradeoff that could affect whether this controller could be implemented physiologically is that this system is extremely sensitive to the amplitude and frequency of the noise and disturbance implemented. If implementing a genetic program to control tetrahalose production causes a large disturbance or if there's extensive variability between your cell population in the form of intrinsic and extrinsic noise, then this controller design would not be feasible to maintain a steady state biosynthesis of tetrahalose. "
      ],
      "id": "Z7vR8LCtCM2x"
    },
    {
      "cell_type": "markdown",
      "metadata": {
        "id": "Em1NK5cLFF_j"
      },
      "source": [
        "**Parameter Tradeoffs**"
      ],
      "id": "Em1NK5cLFF_j"
    },
    {
      "cell_type": "markdown",
      "metadata": {
        "id": "MS4hsDgYFJSd"
      },
      "source": [
        "For this controller, I needed to have large proportional and derivative control and small integral control. These parameter choices pose a few issues. This high derivative control is the highest allowable value for derivative control. Without a subsequent increase in proportional and integral control, high derivative control parameters lead to a destablized closed loop system. If rather than a genetic controller, we were using a physical TRE sensor, then this high derivative controller would cause the deterioration of our equipment much faster. This is because a high derivative control causes changes for small changes in error. Ultimately for this simulation the high derivative control was necessary to dampen oscillations, but if this controller was being built in real life an engineer may opt for less derivative control to ensure longer equipment lifetimes. One issue with using too high of a proportional control variable is that it leads to oscillations. So although the large proportional control enabled the output to approach the setpoint, it contributed to the sustained oscillations. The reason that the high derivative control needed to be supplemented with the high proportional control because as the output approaches the setpoint, a large proportional control will have a lesser effect. Therefore, in a real-life scenario an engineer may opt for a larger overshoot. This would mean they could effectively increase the amount of proportional and derivative control and ensure stability and not increase the amount of sustained oscillations present in the system. "
      ],
      "id": "MS4hsDgYFJSd"
    }
  ],
  "metadata": {
    "colab": {
      "collapsed_sections": [],
      "name": "Brandner_Jacob_Final-Project.ipynb",
      "toc_visible": true,
      "provenance": []
    },
    "kernelspec": {
      "display_name": "Python 3",
      "language": "python",
      "name": "python3"
    },
    "language_info": {
      "codemirror_mode": {
        "name": "ipython",
        "version": 3
      },
      "file_extension": ".py",
      "mimetype": "text/x-python",
      "name": "python",
      "nbconvert_exporter": "python",
      "pygments_lexer": "ipython3",
      "version": "3.6.9"
    }
  },
  "nbformat": 4,
  "nbformat_minor": 5
}