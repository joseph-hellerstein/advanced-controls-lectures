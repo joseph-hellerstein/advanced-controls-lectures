{
  "cells": [
    {
      "cell_type": "markdown",
      "id": "4c0cdaa8-e6ca-4506-a137-3f467df23247",
      "metadata": {
        "id": "4c0cdaa8-e6ca-4506-a137-3f467df23247"
      },
      "source": [
        "# HOMEWORK 2 - CONSTRUCTING AND ANALYZING LAPLACE TRANSFORMS FOR REACTION NETWORKS"
      ]
    },
    {
      "cell_type": "markdown",
      "id": "4827964c-f2a2-4775-adfb-122bddbd5096",
      "metadata": {
        "id": "4827964c-f2a2-4775-adfb-122bddbd5096"
      },
      "source": [
        "In this homework, you will construct a Laplace transform for a reaction network and predict its response to initial conditions.\n",
        "\n",
        "The reaction network you will analyze is:\n",
        "\n",
        "$S_1 \\xrightarrow[\\text{}]{k_1 S_1} S_2$,\n",
        "$S_2 \\xrightarrow[\\text{}]{k_2 S_2} S_3$,\n",
        "$S_3 \\xrightarrow[\\text{}]{k_3 S_3} S_2$,\n",
        "\n",
        "In your computational studies, use $k_1 = 1$, $k_2 = 2$, $k_3 = 2.5$.\n",
        "The initial conditions for $S_1 = 5$; all other species are initialized to 0.\n",
        "\n",
        "You should submit your homework as a collab notebook with a separate section for each question.\n",
        "\n",
        "**Questions**\n",
        "1. (1 pt) Write Antimony code for the reaction network and simulate it under initial conditions.\n",
        "1. (5 pt) Find the transfer function $G(s) = \\frac{S_3(s)}{S_1 (s)}$. Show steps: (a) construct system equations; (b) convert to Laplace Transforms; and (c) calculate the transfer function.\n",
        "You will get two points extra credit if you submit your work in LaTex.\n",
        "1. (1 pt) What are the poles of $G(s)$? Is the system stable? Does it oscillate?\n",
        "1. (3 pt) We can interpret the simulation in (1) as a response of the transfer function\n",
        "to the input signal $S_1 (s) = \\frac{5}{s + k_1}$. Show that the predicted value of $S_3$ at time\n",
        "$\\infty$ (the \"final value\") is consistent with the simulation in (1). (Hint: The final value of the Laplace transform $G(s)$\n",
        "is $lim_{s\\rightarrow \\infty} s G(s)$.) Why is the final value less than the initial value of $S_1$?"
      ]
    },
    {
      "cell_type": "markdown",
      "id": "ab67663b-1311-42f0-b417-26f10529455f",
      "metadata": {
        "id": "ab67663b-1311-42f0-b417-26f10529455f"
      },
      "source": [
        "# Preliminaries"
      ]
    },
    {
      "cell_type": "code",
      "execution_count": 6,
      "id": "d40e6a46-9276-41fc-8806-37917c2d04bc",
      "metadata": {
        "id": "d40e6a46-9276-41fc-8806-37917c2d04bc"
      },
      "outputs": [],
      "source": [
        "!pip install -q tellurium\n",
        "import pandas as pd\n",
        "import matplotlib.pyplot as plt\n",
        "import numpy as np\n",
        "import tellurium as te"
      ]
    },
    {
      "cell_type": "markdown",
      "id": "a4212bac-1d0e-412f-9d0d-45005ebc6ca0",
      "metadata": {
        "id": "a4212bac-1d0e-412f-9d0d-45005ebc6ca0"
      },
      "source": [
        "# Helpful Hints"
      ]
    },
    {
      "cell_type": "markdown",
      "id": "6wVxvY4svYIg",
      "metadata": {
        "id": "6wVxvY4svYIg"
      },
      "source": [
        "## LaTex Basics"
      ]
    },
    {
      "cell_type": "markdown",
      "id": "tyCu6lFevca8",
      "metadata": {
        "id": "tyCu6lFevca8"
      },
      "source": [
        "1. All LaTex appears between dollar signs (``$``)\n",
        "1. Subscripts: $x_2$\n",
        "1. Superscript: $x^2$\n",
        "1. Summation: $\\sum_{n=0}^{\\infty} e^{nt}$\n",
        "1. Derivatives: $\\dot{x}(t)$\n",
        "1. Bold: ${\\bf A}$\n",
        "1. Fractions: $\\frac{a}{b}$"
      ]
    },
    {
      "cell_type": "markdown",
      "id": "71f51093-8cbf-4f99-8527-a4ce26079742",
      "metadata": {
        "id": "71f51093-8cbf-4f99-8527-a4ce26079742"
      },
      "source": [
        "## Steps in Constructing Lapalce Transforms\n",
        "1. Specify the input and output for the transfer function.\n",
        "1. Write the system equations.\n",
        "1. Convert to Laplace transforms.\n",
        "1. Solve for the output LT in terms of the input LT and form the ratio."
      ]
    },
    {
      "cell_type": "markdown",
      "id": "c7a0cf73-0556-49f1-90c6-87f3d653d506",
      "metadata": {
        "id": "c7a0cf73-0556-49f1-90c6-87f3d653d506"
      },
      "source": [
        "# Q1: Write Antimony Code for the Reaction Network"
      ]
    },
    {
      "cell_type": "code",
      "source": [
        "tellurium_model = \"\"\"\n",
        "J1: S1 -> S2; k1*S1\n",
        "J2: S2 -> S3; k2*S2\n",
        "J3: S3 -> S2; k3*S3\n",
        "\n",
        "k1 = 1\n",
        "k2 = 2\n",
        "k3 = 2.5\n",
        "S1 = 5\n",
        "S2 = 0\n",
        "S3 = 0\n",
        "\"\"\"\n",
        "model_RR = te.loada(tellurium_model)\n",
        "model_data = model_RR.simulate()\n",
        "plt.figure()\n",
        "plt.plot(model_data[:,0],model_data[:,1], label='S1')\n",
        "plt.plot(model_data[:,0],model_data[:,2], label='S2')\n",
        "plt.plot(model_data[:,0],model_data[:,3], label='S3')\n",
        "plt.title('Tellurium Simulation')\n",
        "plt.ylabel('Concentration')\n",
        "plt.xlabel('Time')\n",
        "plt.legend()"
      ],
      "metadata": {
        "colab": {
          "base_uri": "https://localhost:8080/",
          "height": 312
        },
        "id": "7MN5-__MMRKs",
        "outputId": "1a16ecb8-8acf-4ddf-b21c-0e30f25b91c2"
      },
      "id": "7MN5-__MMRKs",
      "execution_count": 12,
      "outputs": [
        {
          "output_type": "execute_result",
          "data": {
            "text/plain": [
              "<matplotlib.legend.Legend at 0x7f2dfd0e61d0>"
            ]
          },
          "metadata": {},
          "execution_count": 12
        },
        {
          "output_type": "display_data",
          "data": {
            "text/plain": [
              "<Figure size 432x288 with 1 Axes>"
            ],
            "image/png": "[encoded data removed]"
          },
          "metadata": {
            "needs_background": "light"
          }
        }
      ]
    },
    {
      "cell_type": "markdown",
      "id": "a5466d75-f079-41d0-8b47-f230b45deba6",
      "metadata": {
        "id": "a5466d75-f079-41d0-8b47-f230b45deba6"
      },
      "source": [
        "# Q2: Derive the transfer function $\\frac{S_3(s)}{S_1(s)}$"
      ]
    },
    {
      "cell_type": "markdown",
      "source": [
        "**Stoichiometry Matrix**\n",
        "\\begin{pmatrix}\n",
        "-1 & 0 & 0\\\\\n",
        "1 & -1 & 1\\\\\n",
        "0 & 1 & -1\n",
        "\\end{pmatrix}\n",
        "\n",
        "**Flux Vector**\n",
        "\\begin{pmatrix}\n",
        "k_1S_1\\\\\n",
        "k_2S_2\\\\\n",
        "k_3S_3\n",
        "\\end{pmatrix}\n",
        "\n",
        "**System Equations**\n",
        "\n",
        "$\\dot{S_1}(t)$ $=$ $-k_1$*$S_1$ \\\\\n",
        "$\\dot{S_2}(t)$ $=$ $k_1$*$S_1$ $-$ $k_2$*$S_2$ $+$ $k_3$*$S_3$ \\\\\n",
        "$\\dot{S_3}(t)$ $=$ $k_2$*$S_2$ $-$ $k_3$*$S_3$\n",
        "\n",
        "**Laplace Transforms**\n",
        "\n",
        "$\\mathcal{L}${$\\dot{S_1}$} $=$ s${S_1}(s)$ $-$ $5$ $=$ $-k_1$$S_1(s)$ \\\\\n",
        "$\\mathcal{L}${$\\dot{S_2}$} $=$ s${S_2}(s)$ $=$ $k_1$$S_1(s)$ $-$ $k_2$$S_2(s)$ $+$ $k_3$$S_3(s)$ \\\\\n",
        "$\\mathcal{L}${$\\dot{S_3}$} $=$ s${S_3}(s)$ $=$ $k_2$$S_2(s)$ $-$ $k_3$$S_3(s)$\n",
        "\n",
        "**Re-arrange to Obtain Transfer Function**\n",
        "\n",
        "$(s+{k_2})$${S_2}(s)$ $=$ ${k_1}{S_1}(s)$ + ${k_3}{S_3}(s)$ \\\\\n",
        "${S_2}(s)$ $=$ $\\frac{{k_1}{S_1}(s) + {k_3}{S_3}(s)}{s+{k_2}}$ \\\\\n",
        "s${S_3}(s)$ $=$ ${k_2}$$\\frac{{k_1}{S_1}(s) + {k_3}{S_3}(s)}{s+{k_2}}$ $-$ $k_3$$S_3(s)$ \\\\\n",
        "s(s+${k_2}$)${S_3}(s)$ $=$ ${k_2}{k_1}{S_1}(s)$ + ${k_3}{k_2}{S_3}(s)$ $-$ (s+${k_2}$) $k_3$$S_3(s)$ \\\\\n",
        "(s(s+${k_2}$) $+$ ${k_3}$(s+${k_2}$) $-$ ${k_3}{k_2}$)${S_3}(s)$ $=$ ${k_2}{k_1}{S_1}(s)$ \\\\\n",
        "\n",
        "**Transfer Function**\n",
        "\n",
        "$G(s)$ $=$ $\\frac{S_3}{S_1}$ $=$ $\\frac{{k_2}{k_1}}{(s(s+{k_2}) + {k_3}(s+{k_2}) - {k_3}{k_2})}$ \\\\\n",
        "$G(s)$ $=$ $\\frac{S_3}{S_1}$ $=$ $\\frac{{k_2}{k_1}}{s^2+{k_2}s + {k_3}(s+{k_2}) - {k_3}{k_2}}$ \\\\\n",
        "$G(s)$ $=$ $\\frac{{k_2}{k_1}}{s^2+({k_2}+{k_3})s}$ \\\\\n",
        "**Plugging in Values for Constants**\n",
        "\n",
        "$G(s)$ $=$ $\\frac{2}{{s^2}+{4.5}s}$  "
      ],
      "metadata": {
        "id": "myX5FFe4GT57"
      },
      "id": "myX5FFe4GT57"
    },
    {
      "cell_type": "markdown",
      "id": "bbf85494-ce81-445b-8544-cc8cbf0a1e32",
      "metadata": {
        "id": "bbf85494-ce81-445b-8544-cc8cbf0a1e32"
      },
      "source": [
        "# Q3: Poles of the Transfer Function"
      ]
    },
    {
      "cell_type": "markdown",
      "source": [
        "**Setting Denominator of Transfer Function = 0**\n",
        "\n",
        "${s^2+{k_2}s +{k_3}s}$ $=$ $0$ \\\\\n",
        "\n",
        "${s^2}$ $+$ $4.5$s $=$ $0$ \\\\\n",
        "$s$ $=$ $0$ \\\\\n",
        "$s$ $=$ $-4.5$ \\\\\n",
        "The system is stable and non-oscillatory as the roots of the characteristic equation are real and non-positive."
      ],
      "metadata": {
        "id": "mdbejZ8yVMXp"
      },
      "id": "mdbejZ8yVMXp"
    },
    {
      "cell_type": "markdown",
      "id": "7cc7673e-70af-4f19-a9c7-965873640e62",
      "metadata": {
        "id": "7cc7673e-70af-4f19-a9c7-965873640e62"
      },
      "source": [
        "# Q4: Response to the Input Signal"
      ]
    },
    {
      "cell_type": "code",
      "source": [
        "## Extract Final Value of Tellurium Simulation for S3\n",
        "S3_FINAL_VALUE = model_data[-1,3]\n",
        "S2_FINAL_VALUE = model_data[-1,2]\n",
        "print('Final Value of S3:',S3_FINAL_VALUE)\n",
        "print('Final Value of S2:',S2_FINAL_VALUE)\n",
        "print('Final S2 + S3:',S3_FINAL_VALUE+S2_FINAL_VALUE)"
      ],
      "metadata": {
        "colab": {
          "base_uri": "https://localhost:8080/"
        },
        "id": "ivQYVa2pmXON",
        "outputId": "444ee80b-b1c7-49ed-aeff-384e883bd6a4"
      },
      "id": "ivQYVa2pmXON",
      "execution_count": 15,
      "outputs": [
        {
          "output_type": "stream",
          "name": "stdout",
          "text": [
            "Final Value of S3: 2.202970872553076\n",
            "Final Value of S2: 2.763339257460371\n",
            "Final S2 + S3: 4.966310130013447\n"
          ]
        }
      ]
    },
    {
      "cell_type": "markdown",
      "source": [
        "**Calculating the Final Value of the Transfer Function**\n",
        "$\\lim{s \\to \\infty}$ s$G(s)$ \\\\\n",
        "$G(s)$ $=$ $\\frac{2}{{s^2}+{4.5}s}$  \\\\\n",
        "$sG(s)$ $=$ $\\frac{2s}{{s^2}+{4.5}s}$  \\\\\n",
        "$sG(s)$ $=$ $\\frac{2}{{s}+{4.5}}$  \\\\\n",
        "$\\lim{s \\to 0}$ s$G(s)$ $=$ $0.44$ \\\\\n",
        "**Calculating the Final Value of ${S_3}$**\n",
        "\n",
        "s$G(s)$ $=$ $0.44$ \\\\\n",
        "$G(s)$ = $\\frac{{S_3}}{{S_1}}$ \\\\\n",
        "As we know that the initial value of ${S_1}$ $=$ $5$ \\\\\n",
        "Then the final value of ${S_3}$ $=$ $0.44(5)$ $=$ $2.2$ (as ${S_3}$ $=$ ${G(s)}{S_1}$)\n",
        "\n",
        "Both the simulation and the predicted value agree that the final concentration of species ${S_3}$ $=$ $2.2$"
      ],
      "metadata": {
        "id": "WDxAnrD_jhJ7"
      },
      "id": "WDxAnrD_jhJ7"
    },
    {
      "cell_type": "markdown",
      "source": [
        "Why is the final value less than the initial value of $S_1$?\n",
        "\n",
        "Our system equations show us that ${S_1}$ is being converted into ${S_2}$ which is being reversibly converted into ${S_3}$. Therefore, at equilibrium, not all of the mass flux of ${S_1}$ will have been funnelled into ${S_3}$ production, there will be a mix of ${S_3}$ and ${S_2}$ due to the equilibrium reaction. This is proved by the model, if you add up the final concentration values of species ${S_2}$ and ${S_3}$ you get approximately 5 (or the starting concentration of species ${S_1}$)."
      ],
      "metadata": {
        "id": "1lu_xCC43Oyu"
      },
      "id": "1lu_xCC43Oyu"
    }
  ],
  "metadata": {
    "colab": {
      "collapsed_sections": [],
      "name": "Brandner_Jacob_HW2.ipynb",
      "provenance": [],
      "toc_visible": true
    },
    "kernelspec": {
      "display_name": "Python 3",
      "language": "python",
      "name": "python3"
    },
    "language_info": {
      "codemirror_mode": {
        "name": "ipython",
        "version": 3
      },
      "file_extension": ".py",
      "mimetype": "text/x-python",
      "name": "python",
      "nbconvert_exporter": "python",
      "pygments_lexer": "ipython3",
      "version": "3.6.9"
    }
  },
  "nbformat": 4,
  "nbformat_minor": 5
}