{
 "cells": [
  {
   "cell_type": "markdown",
   "id": "4691a5bc-ce0f-47cd-bc2b-661dbec6eb23",
   "metadata": {},
   "source": [
    "# HOMEWORK 2 - TRANSFER FUNCTIONS AND SYSTEM IDENTIFICATION\n",
    "\n",
    "## Cirstyn Michel"
   ]
  },
  {
   "cell_type": "markdown",
   "id": "9bd9d0fb-5396-4238-9c71-920561362bd8",
   "metadata": {},
   "source": [
    "This homework is about transfer functions and system identification.\n",
    "There are two problems.\n",
    "\n",
    "Make a copy of this notebook, and answer the questions."
   ]
  },
  {
   "cell_type": "markdown",
   "id": "04ed51a7-2022-4431-a0c7-cc4f1800ec03",
   "metadata": {},
   "source": [
    "# Preliminaries"
   ]
  },
  {
   "cell_type": "code",
   "execution_count": 1,
   "id": "58ab8a63-4141-4f4f-ba8a-686a3914656e",
   "metadata": {},
   "outputs": [],
   "source": [
    "import control\n",
    "import controlSBML as ctl\n",
    "import numpy as np\n",
    "import matplotlib.pyplot as plt\n",
    "import sympy\n",
    "import pandas as pd\n",
    "import tellurium as te\n",
    "import sympy as simp"
   ]
  },
  {
   "cell_type": "markdown",
   "id": "0fb27498-d01e-4e2d-aab8-458a68eea6b2",
   "metadata": {},
   "source": [
    "# Helpers"
   ]
  },
  {
   "cell_type": "code",
   "execution_count": 2,
   "id": "6aaeafde-ae1a-47cd-9b72-1b9cf2f331cc",
   "metadata": {},
   "outputs": [],
   "source": [
    "class PlotResult(object):\n",
    "\n",
    "    def __init__(self, times=None, yt=None, ax=None):\n",
    "        self.times = times\n",
    "        self.yt = yt\n",
    "        self.ax = ax\n",
    "        \n",
    "    def __repr__(self):\n",
    "        return \"\""
   ]
  },
  {
   "cell_type": "code",
   "execution_count": 3,
   "id": "72b73d6b-b02c-4bb7-8faf-fb8e75e5312b",
   "metadata": {},
   "outputs": [
    {
     "name": "stdout",
     "output_type": "stream",
     "text": [
      "OK!\n"
     ]
    }
   ],
   "source": [
    "def plotTF(tf, times=None, is_plot=True, figsize=(5,5)):\n",
    "    if times is None:\n",
    "        times = np.linspace(0, 10, 100)\n",
    "    _, yt = control.forced_response(tf, T=times, U=1)\n",
    "    if is_plot:\n",
    "        _, ax = plt.subplots(1, figsize=figsize)\n",
    "        ax.plot(times, yt)\n",
    "        ax.set_xlabel(\"time\")\n",
    "    else:\n",
    "        ax = None\n",
    "    return PlotResult(times=times, yt=yt, ax=ax)\n",
    "\n",
    "# Tests\n",
    "tf = control.TransferFunction([1], [1, 0])\n",
    "plot_result = plotTF(tf, is_plot=False)\n",
    "assert(isinstance(plot_result, PlotResult))\n",
    "print(\"OK!\")"
   ]
  },
  {
   "cell_type": "code",
   "execution_count": 4,
   "id": "e65d86bf-b6fe-4b8a-bcc2-711d7e0da8fc",
   "metadata": {},
   "outputs": [],
   "source": [
    "def plotStaircaseResponse(builder, is_plot=True, **kwargs):\n",
    "    \"\"\"\n",
    "    This function circumvents a bug in SISOTransferFunctionBuilder.plotStairCaseResponse.\n",
    "    It has the same arguments and return value as the original function.\n",
    "    \"\"\"\n",
    "    plot_result = builder.plotStaircaseResponse(is_plot=False, **kwargs)\n",
    "    # Plot if requested\n",
    "    if is_plot:\n",
    "        times = np.array(plot_result.time_series.index)/1000\n",
    "        df = pd.DataFrame(plot_result.time_series)\n",
    "        df.index = times\n",
    "        if \"figsize\" in kwargs.keys():\n",
    "            figsize = kwargs[\"figsize\"]\n",
    "        else:\n",
    "            figsize = (10, 10)\n",
    "        legends = list(df.columns)\n",
    "        fig, ax = plt.subplots(1, figsize=figsize)\n",
    "        staircase_column = [c for c in df.columns if \"staircase\" in c][0]\n",
    "        staircase_values = df[staircase_column].values\n",
    "        del df[staircase_column]\n",
    "        ax.plot(df)\n",
    "        ax2 = ax.twinx()\n",
    "        # Plot the staircase\n",
    "        ax2.plot(times, staircase_values, color=\"red\",\n",
    "              linestyle=\"--\")\n",
    "        ax2.set_ylabel(staircase_column, color=\"red\")\n",
    "        ax.legend(df.columns)\n",
    "    #\n",
    "    return plot_result\n",
    "\n",
    "# TESTS\n",
    "if False:\n",
    "    plot_response = plotStaircaseResponse(linear_builder, initial_value=2, final_value=10, num_step=5, figsize=(3,3),\n",
    "                                        legend_crd=(0.5, 1), end_time=100, is_plot=True)\n",
    "    assert(isinstance(plot_response.time_series, ctl.Timeseries))\n",
    "    print(\"OK!\")"
   ]
  },
  {
   "cell_type": "markdown",
   "id": "c9e4e975-d586-4ac9-a6cc-109124ba0fc7",
   "metadata": {},
   "source": [
    "# Problem 1: Constructing Laplace Transforms for reaction networks"
   ]
  },
  {
   "cell_type": "markdown",
   "id": "b368dcda-8ba2-4ebe-935a-80ecef717dbe",
   "metadata": {},
   "source": [
    "In this problem, you will construct a Laplace transform\n",
    "for the same branching network we discussed in class, but with\n",
    "a different input and output.\n",
    "Below is the reaction network:\n",
    "\n",
    "\\begin{eqnarray}\n",
    "s_1 & \\xrightarrow{k_1 s_1} s_2 \\\\\n",
    "s_2 & \\xrightarrow{k_2 s_2} s_1 \\\\\n",
    "s_1 & \\xrightarrow{k_3 s_1} s_3 \\\\\n",
    "u & \\xrightarrow{k_1 u} s_2 \\\\\n",
    "\\end{eqnarray}\n",
    "\n",
    "The input to the system is $u$; the output is $s_2$. (In class, the output\n",
    "was $s_3$.)"
   ]
  },
  {
   "cell_type": "markdown",
   "id": "010d870f-313f-4217-8182-b8fb4e77e163",
   "metadata": {},
   "source": [
    "## 1. (5 pts) System equations (**3pts**)"
   ]
  },
  {
   "cell_type": "markdown",
   "id": "24f97b2d-f9ab-4169-88e7-12f38e33ac95",
   "metadata": {},
   "source": [
    "Write the system equations for this reaction network.\n",
    "\n",
    "* $\\dot{s}_1 = -k_1 s_1 - k_3 s_1 + k_2 s_2$\n",
    "* $\\dot{s}_2 = k_1 s_1 - k_1 s_1 + k_1 u$\n",
    "* $\\dot{s}_3 = k_3 s_1$"
   ]
  },
  {
   "cell_type": "markdown",
   "id": "7aa54646-8c7a-4b68-888b-88647400cda3",
   "metadata": {},
   "source": [
    "**Comments**\n",
    "1. The second equation should be: $\\dot{s}_2 = k_1 s_1 - k_2 s_2 + k_1 u$. An easy way to check your equations is that a term is negative only if the species is the same as the species on left hand side.\n"
   ]
  },
  {
   "cell_type": "markdown",
   "id": "3eec4c08-1999-4225-9d97-7e65698ab92e",
   "metadata": {},
   "source": [
    "## 2. (5 pts) LT of system equations (**5 pts**)"
   ]
  },
  {
   "cell_type": "markdown",
   "id": "a071d804-0902-4508-b73f-ebc4e2c53713",
   "metadata": {},
   "source": [
    "Write the Laplace transforms of the system equations.\n",
    "\n",
    "* $s S_1(s) = -k_1 S_1(s) - k_3 S_1(s) + k_2 S_2(s)$\n",
    "* $s S_2(s) = k_1 S_1(s) - k_2 S_2(s) + k_1 U(s)$\n",
    "* $s S_3(s) = k_3 S_1(s)$"
   ]
  },
  {
   "cell_type": "markdown",
   "id": "ea77c013-3ee0-4f44-b5f1-515a85171976",
   "metadata": {},
   "source": [
    "## 3. (25 pts) Calculate transfer function (**20 pts**)"
   ]
  },
  {
   "cell_type": "markdown",
   "id": "c2be913c-4c69-40f1-8e06-7778d7b9478e",
   "metadata": {
    "tags": []
   },
   "source": [
    "Calculate the transfer function $G(s) = \\frac{S_2(s)}{U(s)}$\n",
    "\n",
    "$s S_2(s) = k_1 S_1(s) - k_2 S_2(s) + k_1 U(s)  \n",
    "$\n",
    "\n",
    "$s S_1(s) + k_1 S_1(s) + k_3 S_1(s) = k_2 S_2(s)  \n",
    "$\n",
    "\n",
    "$S_1(s + k_1 + k_3) = k_2 S_2(s)  \n",
    "$\n",
    "\n",
    "$S_1 = \\frac{k_2 S_2(s)}{s + k_1 + k_3}  \n",
    "$\n",
    "\n",
    "$s S_2(s) = k_1 \\frac{k_2 S_2(s)}{s + k_1 + k_3}  - k_2 S_2(s) + k_1 U(s)  \n",
    "$\n",
    "\n",
    "$s S_2(s) - k_1 \\frac{k_2 S_2(s)}{s + k_1 + k_3}  + k_2 S_2(s) = k_1 U(s)  \n",
    "$\n",
    "\n",
    "$S_2(s - \\frac{k_1k_2}{s + k_1 + k_3}  + k_2) = k_1 U(s)  \n",
    "$\n",
    "\n",
    "$S_2(\\frac{s^2 + k_1s + k_3s -k_2 + k_2 s + k_2k_1 + k_2k_3}{s + k_1 + k_3}) = k_1 U(s)  \n",
    "$\n",
    "\n",
    "$S_2(\\frac{s^2 + (k_1 + k_3 + k_2)s + k_2k_3+k_2k_1-k_2}{s + k_1 + k_3}) = k_1 U(s)  \n",
    "$\n",
    "\n",
    "$\\frac{S_2(s)}{U(s)} = \\frac{k_1 (s + k_1 + k_3)}{s^2 + (k_1 + k_3 + k_2)s + k_2k_3+k_2k_1-k_2}\n",
    "$\n",
    "\n",
    "\n",
    "\n"
   ]
  },
  {
   "cell_type": "markdown",
   "id": "e18fd645-34bf-4c0c-8bef-5cbefe1065e3",
   "metadata": {},
   "source": [
    "**Comments**\n",
    "1. You should get the follow. It seems that you have a small mistake in the denominator. Did you use sympy? I illustrated the issue in section 4 by changing k2 to 2.\n",
    "$\\frac{S_2(s)}{U(s)} = \n",
    "\\frac{ k_{1} \\left(k_{1} + k_{3} + s\\right)}{k_{1} s + k_{2} k_{3} + k_{2} s + k_{3} s + s^{2}}$"
   ]
  },
  {
   "cell_type": "markdown",
   "id": "3993b95f-bd7c-4bbb-b1b1-fa96600299b7",
   "metadata": {},
   "source": [
    "## 4. (5 pts) Predict step response (**5 pts**)"
   ]
  },
  {
   "cell_type": "markdown",
   "id": "8897287c-a9ab-4729-b491-318ed6c65df6",
   "metadata": {},
   "source": [
    "Use the ``control`` package to construct the transfer function that you derived in Step 3, and simulate the transfer function. Plot the result."
   ]
  },
  {
   "cell_type": "code",
   "execution_count": 15,
   "id": "f94f0b8a-75a6-493a-a4cc-0328ee1c17b0",
   "metadata": {},
   "outputs": [
    {
     "data": {
      "text/plain": [
       "[<matplotlib.lines.Line2D at 0x290e12d90>]"
      ]
     },
     "execution_count": 15,
     "metadata": {},
     "output_type": "execute_result"
    },
    {
     "data": {
      "image/png": "[encoded data removed]",
      "text/plain": [
       "<Figure size 640x480 with 1 Axes>"
      ]
     },
     "metadata": {},
     "output_type": "display_data"
    }
   ],
   "source": [
    "\n",
    "k1, k2, k3 = (3, 1, 1)\n",
    "k1, k2, k3 = (3, 2, 1) # See what happens when k2 = 2\n",
    "times = np.linspace(0, 10, 100)\n",
    "# Response to input\n",
    "tf = control.TransferFunction([k1,k1*(k1+k3)],\n",
    "                              [1, k1+k2+k3, (k2*k3)+(k2*k1)-k2])\n",
    "_, yt = control.forced_response(tf, T=times, U=1)\n",
    "# Plot the results\n",
    "plt.plot(times, yt)"
   ]
  },
  {
   "cell_type": "markdown",
   "id": "151b6c81-b8e1-4593-a92b-6be61ce2c3a4",
   "metadata": {},
   "source": [
    "## 5. (5 pts) Simulate in Antimony (**5 pts**)"
   ]
  },
  {
   "cell_type": "markdown",
   "id": "0e21f0aa-7835-4506-9a2c-c7f95111132a",
   "metadata": {},
   "source": [
    "Write an Antimony model for the original system and simulate it for a step respoinse."
   ]
  },
  {
   "cell_type": "code",
   "execution_count": 14,
   "id": "cc617b11-0e0c-4d6f-a8fb-e1f7803b23a9",
   "metadata": {},
   "outputs": [
    {
     "data": {
      "image/png": "[encoded data removed]",
      "text/plain": [
       "<Figure size 600x400 with 1 Axes>"
      ]
     },
     "metadata": {},
     "output_type": "display_data"
    }
   ],
   "source": [
    "model = \"\"\"\n",
    "$s1 -> s2; k1*s1\n",
    "s2 -> s1; k2*s2\n",
    "s1 -> s3; k3*s1\n",
    "u-> s2; k1*u\n",
    "\n",
    "u = 1  // Step response\n",
    "s2 = 0\n",
    "s1 = 1\n",
    "k1 = 3\n",
    "s3 = 0\n",
    "k2 = 1\n",
    "k2 = 2 // See what happens when k2 = 2\n",
    "k3 = 1\n",
    "\"\"\"\n",
    "\n",
    "rr = te.loada(model)\n",
    "rr.simulate(0, 10, 100)\n",
    "rr.plot()"
   ]
  },
  {
   "cell_type": "markdown",
   "id": "3f004b93-0aeb-4d9a-a10f-8038cf750514",
   "metadata": {},
   "source": [
    "Note that when k2=2, the figures are not identical."
   ]
  },
  {
   "cell_type": "markdown",
   "id": "e0d5c211-45a0-4f40-8a49-49021d5c8f46",
   "metadata": {},
   "source": [
    "## 6. (5 pts) Analysis (**5 pts**)"
   ]
  },
  {
   "cell_type": "markdown",
   "id": "d7af6df4-dc4d-4b1c-84dd-3fde6a4cf1a4",
   "metadata": {},
   "source": [
    "1. How does the transfer function you derived and simulated in step 3 compare with the simulation results for the Antimony model in step 4?\n",
    "The two functions are very similar. They have very smilar shapes. They a very similar steady state value at a similar rate although although the transfer function seems a bit slower. \n",
    "2. How does DC gain change as $k_1$ increases?\n",
    "DC gain increase proportionally to k1 as it increases when all other system parameters stay the same. \n",
    "3. Explain why the DC gain of this system is finite whereas the DC gain of the system with $s_3$ as output does not have finite DC gain.\n",
    "S2 is both produced and consumed. This allows it to eventually reach an equilibrium value which is representative of the finite DC gain. S3 however is only produced and never consumed. There is no way for it to leave the system so its concentration grows infinitely. DC gain is the ratio of output to input so if the output is infinite so is DC gain. \n"
   ]
  },
  {
   "cell_type": "markdown",
   "id": "772e5136-6291-443e-8c0e-e9a1013846c2",
   "metadata": {},
   "source": [
    "# Problem 2: System Identification"
   ]
  },
  {
   "cell_type": "markdown",
   "id": "e8ad8fe4-98c5-4b2f-9378-99fd3b4de596",
   "metadata": {},
   "source": [
    "You will do system identification for the system you chose in the first homework."
   ]
  },
  {
   "cell_type": "markdown",
   "id": "c8bf7004-4829-4037-9b71-6707bde4ca7f",
   "metadata": {},
   "source": [
    "## 1. (20 pts) Determine the operating region for you system. (**20 pts**)"
   ]
  },
  {
   "cell_type": "markdown",
   "id": "a03135dc-65bd-4f4d-bc7f-0ac8eb187cde",
   "metadata": {},
   "source": [
    "Use ``SISOTransferFunctionBuilder`` to plot a staircase of the control input to your system and the measured output.\n",
    "Explain why you chose the operating region you did (i.e., the value ranges of\n",
    "the control input)."
   ]
  },
  {
   "cell_type": "code",
   "execution_count": 7,
   "id": "6c42e977-5ef8-474d-a9ad-68eee299cabb",
   "metadata": {},
   "outputs": [],
   "source": [
    "bsubtilus_CTLSB = ctl.ControlSBML(\"https://www.ebi.ac.uk/biomodels/model/download/BIOMD0000001053.2?filename=Garde2020.xml\", \n",
    "                        input_names=[\"Ai\"], output_names=[\"Gp\"])\n",
    "linear_builder = bsubtilus_CTLSB.makeSISOTransferFunctionBuilder()\n"
   ]
  },
  {
   "cell_type": "code",
   "execution_count": 8,
   "id": "9f80090c-8e04-4370-b1aa-47756defad7f",
   "metadata": {},
   "outputs": [
    {
     "data": {
      "text/plain": []
     },
     "execution_count": 8,
     "metadata": {},
     "output_type": "execute_result"
    },
    {
     "data": {
      "image/png": "[encoded data removed]",
      "text/plain": [
       "<Figure size 300x300 with 2 Axes>"
      ]
     },
     "metadata": {},
     "output_type": "display_data"
    }
   ],
   "source": [
    "plotStaircaseResponse(linear_builder, initial_value=2, final_value=500, num_step=5, figsize=(3,3),\n",
    "                                    legend_crd=(0.5, 1), end_time=50)"
   ]
  },
  {
   "cell_type": "markdown",
   "id": "46cbb104-2578-4bef-90c1-aeb35bef84ab",
   "metadata": {},
   "source": [
    "I chose the input values between 0 and 800 because it was this magnitude of step in the input that allowed the best control of the output. You can see with each step of increase input the output responds accordingly. "
   ]
  },
  {
   "cell_type": "markdown",
   "id": "aeedd90a-fc36-485f-a4c4-4321e50c7113",
   "metadata": {},
   "source": [
    "## 2. (20 pts) Find a tranfser function for your system for the operating region. (**20 pts**)"
   ]
  },
  {
   "cell_type": "markdown",
   "id": "e8509b40-5b91-446a-b6c6-ea1db755bf44",
   "metadata": {},
   "source": [
    "Use ``SISOTransferFunctionBuilder`` to fit a transfer function for your system.\n",
    "Justify that the transfer function fits sufficiently well and does not overfit."
   ]
  },
  {
   "cell_type": "code",
   "execution_count": 9,
   "id": "f45393e5-ba31-4bfc-9a5d-224d526beffb",
   "metadata": {},
   "outputs": [],
   "source": [
    "def testTransferFunction(num_degree, denom_degree, final_value, end_time):\n",
    "    fitter_result = linear_builder.fitTransferFunction(num_degree + 1, denom_degree + 1, \n",
    "                                                       final_value=final_value,\n",
    "                                                       initial_value=0, end_time=end_time)\n",
    "    ctl.plotOneTS(fitter_result.time_series[[\"Gp\",\"predicted\"]], figsize=(3,3), legend_crd=(2,1))\n",
    "    print(fitter_result.transfer_function)\n",
    "    print(fitter_result.nfev)\n",
    "    print(fitter_result.redchi)\n",
    "    return fitter_result"
   ]
  },
  {
   "cell_type": "markdown",
   "id": "dcfefdf7-8166-45b9-a226-3a594c925afe",
   "metadata": {},
   "source": [
    "**Comment**\n",
    "1. Good idea to make a function!"
   ]
  },
  {
   "cell_type": "code",
   "execution_count": 10,
   "id": "82ed2bbb-b028-4c47-a540-fba433e0aa2e",
   "metadata": {},
   "outputs": [
    {
     "data": {
      "image/png": "[encoded data removed]",
      "text/plain": [
       "<Figure size 300x300 with 1 Axes>"
      ]
     },
     "metadata": {},
     "output_type": "display_data"
    },
    {
     "name": "stdout",
     "output_type": "stream",
     "text": [
      "\n",
      "    0.03283 s^4 - 0.01835 s^3 + 0.02864 s^2 + 0.004189 s + 0.01028\n",
      "----------------------------------------------------------------------\n",
      "0.1314 s^5 + 0.08492 s^4 + 0.1238 s^3 + 0.1087 s^2 + 0.1076 s + 0.1011\n",
      "\n",
      "374\n",
      "98.07591113902355\n"
     ]
    }
   ],
   "source": [
    "tf45 = testTransferFunction(4,5,500,50)"
   ]
  },
  {
   "cell_type": "markdown",
   "id": "f2eebc38-fd42-4674-88df-80057f6457d5",
   "metadata": {},
   "source": [
    "The above transfer function fits reasonably well as seen in the similar shape of the orange graphed predicted line from the transfer function and the blue graphed line representing the original model. I selected the chosen parameters because they had a relatively high reduced chi squared score (~88) but did not require thousands of iterations to reach optimizations as other well fitting models did.\n",
    "\n",
    "*note I removed the step function of the input line in the plot above because it was such a larger magnitude than the output. This made it almost impossible to see the change in output at that scale. "
   ]
  },
  {
   "cell_type": "markdown",
   "id": "bb1bb8bf-803c-4faa-b3e1-486c0cfa9f08",
   "metadata": {},
   "source": [
    "## 3. (10 pts)  Analyze the transfer function. (**9 pts**)"
   ]
  },
  {
   "cell_type": "markdown",
   "id": "525ca441-c730-4120-bc4b-5f688d8d708e",
   "metadata": {},
   "source": [
    "What is the DC gain? What are the poles? What are the implications for control?"
   ]
  },
  {
   "cell_type": "code",
   "execution_count": 11,
   "id": "5c08380c-3fcd-430e-92d8-f1beba4655f6",
   "metadata": {},
   "outputs": [
    {
     "ename": "NameError",
     "evalue": "name 'fitter_result' is not defined",
     "output_type": "error",
     "traceback": [
      "\u001b[0;31m---------------------------------------------------------------------------\u001b[0m",
      "\u001b[0;31mNameError\u001b[0m                                 Traceback (most recent call last)",
      "Cell \u001b[0;32mIn [11], line 1\u001b[0m\n\u001b[0;32m----> 1\u001b[0m \u001b[38;5;28mprint\u001b[39m(\u001b[38;5;124m\"\u001b[39m\u001b[38;5;124mDC Gain:\u001b[39m\u001b[38;5;124m\"\u001b[39m ,\u001b[43mfitter_result\u001b[49m\u001b[38;5;241m.\u001b[39mtransfer_function\u001b[38;5;241m.\u001b[39mdcgain())\n\u001b[1;32m      2\u001b[0m \u001b[38;5;28mprint\u001b[39m(\u001b[38;5;124m\"\u001b[39m\u001b[38;5;124mPoles:\u001b[39m\u001b[38;5;124m\"\u001b[39m, fitter_result\u001b[38;5;241m.\u001b[39mtransfer_function\u001b[38;5;241m.\u001b[39mpoles())\n",
      "\u001b[0;31mNameError\u001b[0m: name 'fitter_result' is not defined"
     ]
    }
   ],
   "source": [
    "print(\"DC Gain:\" ,fitter_result.transfer_function.dcgain())\n",
    "print(\"Poles:\", fitter_result.transfer_function.poles())"
   ]
  },
  {
   "cell_type": "markdown",
   "id": "a855d0e6-f1f7-4e57-a140-93ec3bf48ff0",
   "metadata": {},
   "source": [
    "The DC gain is about 0.1 indicating that for every 10 units of input put into the system, you will get about 1 unit output. This is a relatively low DC gain and in order to use the selected input for control of output you will need a lot of input which might not make for the most ideal control system. The poles of the systems are all imaginiary which indicates oscillations . Based on the original model, this makes sense. Additionlly, the dominant pole is positive, although only slightly which means the system is unstable and will not converge, which also is in agreeance with the above plot. "
   ]
  },
  {
   "cell_type": "markdown",
   "id": "912a4c41-6fe8-4312-ab2a-18633321e7a9",
   "metadata": {},
   "source": [
    "**Comments**\n",
    "1. Did you run the notebook before submitting it? I think you made a script into a function and so fitter_result is not defined."
   ]
  }
 ],
 "metadata": {
  "kernelspec": {
   "display_name": "Python 3 (ipykernel)",
   "language": "python",
   "name": "python3"
  },
  "language_info": {
   "codemirror_mode": {
    "name": "ipython",
    "version": 3
   },
   "file_extension": ".py",
   "mimetype": "text/x-python",
   "name": "python",
   "nbconvert_exporter": "python",
   "pygments_lexer": "ipython3",
   "version": "3.9.6"
  },
  "toc-autonumbering": false,
  "toc-showcode": false,
  "toc-showtags": true
 },
 "nbformat": 4,
 "nbformat_minor": 5
}
