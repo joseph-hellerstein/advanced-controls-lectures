{
 "cells": [
  {
   "cell_type": "markdown",
   "id": "4691a5bc-ce0f-47cd-bc2b-661dbec6eb23",
   "metadata": {},
   "source": [
    "# HOMEWORK 2 - TRANSFER FUNCTIONS AND SYSTEM IDENTIFICATION"
   ]
  },
  {
   "cell_type": "markdown",
   "id": "9bd9d0fb-5396-4238-9c71-920561362bd8",
   "metadata": {},
   "source": [
    "This homework is about transfer functions and system identification.\n",
    "There are two problems.\n",
    "\n",
    "Make a copy of this notebook, and answer the questions."
   ]
  },
  {
   "cell_type": "markdown",
   "id": "04ed51a7-2022-4431-a0c7-cc4f1800ec03",
   "metadata": {},
   "source": [
    "# Preliminaries"
   ]
  },
  {
   "cell_type": "code",
   "execution_count": 1,
   "id": "58ab8a63-4141-4f4f-ba8a-686a3914656e",
   "metadata": {},
   "outputs": [],
   "source": [
    "import controlSBML as ctl\n",
    "import numpy as np\n",
    "import pandas as pd\n",
    "import control\n",
    "import numpy as np\n",
    "import matplotlib.pyplot as plt\n",
    "import sympy\n",
    "import tellurium as te\n",
    "import sympy"
   ]
  },
  {
   "cell_type": "markdown",
   "id": "0fb27498-d01e-4e2d-aab8-458a68eea6b2",
   "metadata": {},
   "source": [
    "# Helpers"
   ]
  },
  {
   "cell_type": "code",
   "execution_count": 2,
   "id": "6aaeafde-ae1a-47cd-9b72-1b9cf2f331cc",
   "metadata": {},
   "outputs": [],
   "source": [
    "class PlotResult(object):\n",
    "\n",
    "    def __init__(self, times=None, yt=None, ax=None):\n",
    "        self.times = times\n",
    "        self.yt = yt\n",
    "        self.ax = ax\n",
    "        \n",
    "    def __repr__(self):\n",
    "        return \"\""
   ]
  },
  {
   "cell_type": "code",
   "execution_count": 3,
   "id": "72b73d6b-b02c-4bb7-8faf-fb8e75e5312b",
   "metadata": {},
   "outputs": [
    {
     "name": "stdout",
     "output_type": "stream",
     "text": [
      "OK!\n"
     ]
    }
   ],
   "source": [
    "def plotTF(tf, times=None, is_plot=True, figsize=(5,5)):\n",
    "    if times is None:\n",
    "        times = np.linspace(0, 10, 100)\n",
    "    _, yt = control.forced_response(tf, T=times, U=1)\n",
    "    if is_plot:\n",
    "        _, ax = plt.subplots(1, figsize=figsize)\n",
    "        ax.plot(times, yt)\n",
    "        ax.set_xlabel(\"time\")\n",
    "    else:\n",
    "        ax = None\n",
    "    return PlotResult(times=times, yt=yt, ax=ax)\n",
    "\n",
    "# Tests\n",
    "tf = control.TransferFunction([1], [1, 0])\n",
    "plot_result = plotTF(tf, is_plot=False)\n",
    "assert(isinstance(plot_result, PlotResult))\n",
    "print(\"OK!\")"
   ]
  },
  {
   "cell_type": "markdown",
   "id": "c9e4e975-d586-4ac9-a6cc-109124ba0fc7",
   "metadata": {},
   "source": [
    "# Problem 1: Constructing Laplace Transforms for reaction networks"
   ]
  },
  {
   "cell_type": "markdown",
   "id": "b368dcda-8ba2-4ebe-935a-80ecef717dbe",
   "metadata": {},
   "source": [
    "In this problem, you will construct a Laplace transform\n",
    "for the same branching network we discussed in class, but with\n",
    "a different input and output.\n",
    "Below is the reaction network:\n",
    "\n",
    "\\begin{eqnarray}\n",
    "s_1 & \\xrightarrow{k_1 s_1} s_2 \\\\\n",
    "s_2 & \\xrightarrow{k_2 s_2} s_1 \\\\\n",
    "s_1 & \\xrightarrow{k_3 s_1} s_3 \\\\\n",
    "u & \\xrightarrow{k_1 u} s_2 \\\\\n",
    "\\end{eqnarray}\n",
    "\n",
    "The input to the system is $u$; the output is $s_2$. (In class, the output\n",
    "was $s_3$.)"
   ]
  },
  {
   "cell_type": "markdown",
   "id": "010d870f-313f-4217-8182-b8fb4e77e163",
   "metadata": {},
   "source": [
    "## 1. (5 pts) System equations"
   ]
  },
  {
   "cell_type": "markdown",
   "id": "24f97b2d-f9ab-4169-88e7-12f38e33ac95",
   "metadata": {},
   "source": [
    "\\begin{eqnarray}\n",
    "\\dot{s}_1 & = & k_2 s_2 - k_1 s_1 - k_3 s_1  \\\\\n",
    "\\dot{s}_2 & = & -k_2 s_2 + k_1 s_1 + k_1 u \\\\\n",
    "\\dot{s}_3 & = & k_3 s_1  \\\\\n",
    "\\end{eqnarray}"
   ]
  },
  {
   "cell_type": "markdown",
   "id": "3eec4c08-1999-4225-9d97-7e65698ab92e",
   "metadata": {},
   "source": [
    "## 2. (5 pts) LT of system equations"
   ]
  },
  {
   "cell_type": "markdown",
   "id": "a071d804-0902-4508-b73f-ebc4e2c53713",
   "metadata": {},
   "source": [
    "\\begin{eqnarray}\n",
    "s S_1(s) & = & k_2 S_2(s) - k_1 S_1 (s) - k_3 S_1 (s)  \\\\\n",
    "s S_2 (s) & = & -k_2 S_2 (s) + k_1 S_1 (s) + k_1 U(s) \\\\\n",
    "s S_3(s) & = & k_3 S_1 (s) \\\\\n",
    "\\end{eqnarray}\n"
   ]
  },
  {
   "cell_type": "markdown",
   "id": "ea77c013-3ee0-4f44-b5f1-515a85171976",
   "metadata": {},
   "source": [
    "## 3. (25 pts) Calculate transfer function (**20 pts**)"
   ]
  },
  {
   "cell_type": "markdown",
   "id": "cb393b8b",
   "metadata": {},
   "source": [
    "We want $G(s) = \\frac{S_2 (s)}{U(s)}$.\n",
    "We can transform the second system equation so that we have $S_1 (s)$\n",
    "in terms of $S_2 (s)$. That is,\n",
    "\\begin{eqnarray}\n",
    "s S_1 (s) & = & k_2 S_2 (s) - k_1 S_1 (s) - k_3S_1 (s)  \\\\\n",
    "S_1 (s)(s + k_1 + k_3)& = &k_2 S_2 (s) \\\\\n",
    "S_1 (s)& = &\\frac{k_2 }{s + k_1 + k_3}S_2 (s)\n",
    "\\end{eqnarray}\n",
    "We can then substitute this equation into the equation for $S_2 (s)$  and solve for $S_2 (s)$  in terms of $U(s)$.\n",
    "\\begin{eqnarray}\n",
    "s S_2 (s) & = & -k_2 S_2 (s) + k_1 S_1 (s) + k_1 U(s)  \\\\\n",
    "s S_2 (s) & = & -k_2 S_2 (s) + \\frac{k_2 k_1 }{s + k_1 + k_3}S_2 (s) + k_1 U(s) \\\\\n",
    "0 &=& -s S_2 (s) -k_2 S_2 (s) + \\frac{k_2 k_1 }{s + k_1 + k_3}S_2 (s) + k_1 U(s)\\\\\n",
    "\\end{eqnarray}"
   ]
  },
  {
   "cell_type": "code",
   "execution_count": 4,
   "id": "47b315a8",
   "metadata": {},
   "outputs": [],
   "source": [
    "s3, s1, s, k1, k2, k3, s2, u = sympy.symbols(\"s3, s1, s, k1, k2, k3, s2, u\")"
   ]
  },
  {
   "cell_type": "code",
   "execution_count": 5,
   "id": "c79f2bff",
   "metadata": {},
   "outputs": [
    {
     "data": {
      "text/latex": [
       "$\\displaystyle \\frac{k_{1} k_{2} s_{2}}{k_{1} + k_{3} + s} + k_{1} u - k_{2} s_{2} - s s_{2}$"
      ],
      "text/plain": [
       "k1*k2*s2/(k1 + k3 + s) + k1*u - k2*s2 - s*s2"
      ]
     },
     "execution_count": 5,
     "metadata": {},
     "output_type": "execute_result"
    }
   ],
   "source": [
    "expr=-s*s2-k2*s2+((k1*k2)/(s+k1+k3))*s2+k1*u\n",
    "expr"
   ]
  },
  {
   "cell_type": "code",
   "execution_count": 6,
   "id": "6fc1440a",
   "metadata": {},
   "outputs": [
    {
     "data": {
      "text/plain": [
       "[k1*u*(k1 + k3 + s)/(k1*s + k2*k3 + k2*s + k3*s + s**2)]"
      ]
     },
     "execution_count": 6,
     "metadata": {},
     "output_type": "execute_result"
    }
   ],
   "source": [
    "sympy.solve(expr, s2)"
   ]
  },
  {
   "cell_type": "code",
   "execution_count": 7,
   "id": "b8ccd39c",
   "metadata": {},
   "outputs": [
    {
     "data": {
      "text/latex": [
       "$\\displaystyle \\frac{k_{1} u \\left(k_{1} + k_{3} + s\\right)}{k_{1} s + k_{2} k_{3} + k_{2} s + k_{3} s + s^{2}}$"
      ],
      "text/plain": [
       "k1*u*(k1 + k3 + s)/(k1*s + k2*k3 + k2*s + k3*s + s**2)"
      ]
     },
     "execution_count": 7,
     "metadata": {},
     "output_type": "execute_result"
    }
   ],
   "source": [
    "s2=sympy.solve(expr,s2)[0]\n",
    "s2"
   ]
  },
  {
   "cell_type": "markdown",
   "id": "9fa57a04",
   "metadata": {},
   "source": [
    "$G(s) = \\frac{S_2(s)}{U(s)} = \\frac{k_1^2 + k_1 k_3 + k_1 s}{s^2 + (k_1+k_2+k_3) s+k_1 k_2+k_2 k_3 -k_2}$"
   ]
  },
  {
   "cell_type": "markdown",
   "id": "d34c90b0-ae93-47ba-af63-977c085b5091",
   "metadata": {},
   "source": [
    "**Comment**\n",
    "1. You should get the follow. It seems that you have a small mistake in the denominator. I changed the values of k1, k2, k3 in the next 2 sections, and you see the discrepancies.\n",
    "$\\frac{S_2(s)}{U(s)} = \n",
    "\\frac{ k_{1} \\left(k_{1} + k_{3} + s\\right)}{k_{1} s + k_{2} k_{3} + k_{2} s + k_{3} s + s^{2}}$"
   ]
  },
  {
   "cell_type": "markdown",
   "id": "3993b95f-bd7c-4bbb-b1b1-fa96600299b7",
   "metadata": {},
   "source": [
    "## 4. (5 pts) Predict step response"
   ]
  },
  {
   "cell_type": "markdown",
   "id": "8897287c-a9ab-4729-b491-318ed6c65df6",
   "metadata": {},
   "source": [
    "Use the ``control`` package to construct the transfer function that you derived in Step 3, and simulate the transfer function. Plot the result."
   ]
  },
  {
   "cell_type": "code",
   "execution_count": 22,
   "id": "1e80a368",
   "metadata": {},
   "outputs": [
    {
     "data": {
      "text/plain": [
       "0.8333333333333333"
      ]
     },
     "execution_count": 22,
     "metadata": {},
     "output_type": "execute_result"
    },
    {
     "data": {
      "image/png": "[encoded data removed]",
      "text/plain": [
       "<Figure size 640x480 with 1 Axes>"
      ]
     },
     "metadata": {},
     "output_type": "display_data"
    }
   ],
   "source": [
    "# Initialize constants\n",
    "k1, k2, k3 = (1, 1, 1)\n",
    "k1, k2, k3 = (4, 2, 3)\n",
    "times = np.linspace(0, 10, 100)\n",
    "# Response to input\n",
    "tf = control.TransferFunction([k1, k1^2+k1*k3],\n",
    "                              [1, k1+k2+k3, k1*k2+k2*k3-k2])\n",
    "_, yt = control.forced_response(tf, T=times, U=1)\n",
    "# Plot the results\n",
    "plt.plot(times, yt)\n",
    "control.TransferFunction.dcgain(tf)"
   ]
  },
  {
   "cell_type": "markdown",
   "id": "151b6c81-b8e1-4593-a92b-6be61ce2c3a4",
   "metadata": {},
   "source": [
    "## 5. (5 pts) Simulate in Antimony"
   ]
  },
  {
   "cell_type": "markdown",
   "id": "0e21f0aa-7835-4506-9a2c-c7f95111132a",
   "metadata": {},
   "source": [
    "Write an Antimony model for the original system and simulate it for a step respoinse."
   ]
  },
  {
   "cell_type": "code",
   "execution_count": 23,
   "id": "f356943a",
   "metadata": {},
   "outputs": [
    {
     "data": {
      "text/plain": [
       "[<matplotlib.lines.Line2D at 0x297900fd0>]"
      ]
     },
     "execution_count": 23,
     "metadata": {},
     "output_type": "execute_result"
    },
    {
     "data": {
      "image/png": "[encoded data removed]",
      "text/plain": [
       "<Figure size 640x480 with 1 Axes>"
      ]
     },
     "metadata": {},
     "output_type": "display_data"
    }
   ],
   "source": [
    "model = \"\"\"\n",
    "s1 -> s2; k1*s1\n",
    "s2 -> s1; k2*s2\n",
    "s1 -> s3; k3*s1\n",
    "$u -> s2; k1*u\n",
    "\n",
    "k1 = 1\n",
    "k2 = 1\n",
    "k3 = 1\n",
    "s1 = 0\n",
    "s2 = 0\n",
    "s3 = 0\n",
    "k1 = 4\n",
    "k2 = 2\n",
    "k3 = 3\n",
    "$u = 1\n",
    "\"\"\"\n",
    "rr = te.loada(model)\n",
    "data = rr.simulate(0, 10, 100)\n",
    "plt.plot(data[\"time\"], data[\"[s2]\"])"
   ]
  },
  {
   "cell_type": "code",
   "execution_count": 10,
   "id": "deb98ddc",
   "metadata": {},
   "outputs": [
    {
     "data": {
      "text/plain": [
       "2.0"
      ]
     },
     "execution_count": 10,
     "metadata": {},
     "output_type": "execute_result"
    }
   ],
   "source": [
    "control.TransferFunction.dcgain(tf)"
   ]
  },
  {
   "cell_type": "markdown",
   "id": "e0d5c211-45a0-4f40-8a49-49021d5c8f46",
   "metadata": {},
   "source": [
    "## 6. (5 pts) Analysis"
   ]
  },
  {
   "cell_type": "markdown",
   "id": "d7af6df4-dc4d-4b1c-84dd-3fde6a4cf1a4",
   "metadata": {},
   "source": [
    "1. How does the transfer function you derived and simulated in step 3 compare with the simulation results for the Antimony model in step 4?\n",
    "\n",
    "The simulation of the transfer function performs very similar to the Antimony model derived in step 4. The have the same shape and both approach the limit at 2  \n",
    "\n",
    "2. How does DC gain change as $k_1$ increases?\n",
    "\n",
    "The DC gain initially increases $k_1$ from 1 to 2, then DC gain starts to decay twoards 0.\n",
    "\n",
    "3. Explain why the DC gain of this system is finite whereas the DC gain of the system with $s_3$ as output does not have finite DC gain.\n",
    "\n",
    "$s_3$ is the finally output of the system of eqautions (it has not reverse equation) so a constant step increase of u would just continually increase s3 and it would never hit an equilibrium. Since S2 has a concentration dependent reverse reaction to create s1, and increase in U would increase the rate of that production, allowing the system to eventually hit an equilibrium and have a defined DC gain. "
   ]
  },
  {
   "cell_type": "markdown",
   "id": "772e5136-6291-443e-8c0e-e9a1013846c2",
   "metadata": {},
   "source": [
    "# Problem 2: System Identification"
   ]
  },
  {
   "cell_type": "markdown",
   "id": "e8ad8fe4-98c5-4b2f-9378-99fd3b4de596",
   "metadata": {},
   "source": [
    "You will do system identification for the system you chose in the first homework."
   ]
  },
  {
   "cell_type": "markdown",
   "id": "c8bf7004-4829-4037-9b71-6707bde4ca7f",
   "metadata": {},
   "source": [
    "## 1. (20 pts) Determine the operating region for you system."
   ]
  },
  {
   "cell_type": "code",
   "execution_count": 11,
   "id": "da7eae50",
   "metadata": {},
   "outputs": [],
   "source": [
    "def plotStaircaseResponse(builder, is_plot=True, **kwargs):\n",
    "    \"\"\"\n",
    "    This function circumvents a bug in SISOTransferFunctionBuilder.plotStairCaseResponse.\n",
    "    It has the same arguments and return value as the original function.\n",
    "    \"\"\"\n",
    "    plot_result = builder.plotStaircaseResponse(is_plot=False, **kwargs)\n",
    "    # Plot if requested\n",
    "    if is_plot:\n",
    "        times = np.array(plot_result.time_series.index)/1000\n",
    "        df = pd.DataFrame(plot_result.time_series)\n",
    "        df.index = times\n",
    "        if \"figsize\" in kwargs.keys():\n",
    "            figsize = kwargs[\"figsize\"]\n",
    "        else:\n",
    "            figsize = (10, 10)\n",
    "        legends = list(df.columns)\n",
    "        fig, ax = plt.subplots(1, figsize=figsize)\n",
    "        staircase_column = [c for c in df.columns if \"staircase\" in c][0]\n",
    "        staircase_values = df[staircase_column].values\n",
    "        del df[staircase_column]\n",
    "        ax.plot(df)\n",
    "        ax2 = ax.twinx()\n",
    "        # Plot the staircase\n",
    "        ax2.plot(times, staircase_values, color=\"red\",\n",
    "              linestyle=\"--\")\n",
    "        ax2.set_ylabel(staircase_column, color=\"red\")\n",
    "        ax.legend(df.columns)\n",
    "    #\n",
    "    return plot_result\n",
    "\n",
    "# TESTS\n",
    "if False:\n",
    "    plot_response = plotStaircaseResponse(linear_builder, initial_value=2, final_value=10, num_step=5, figsize=(3,3),\n",
    "                                        legend_crd=(0.5, 1), end_time=100, is_plot=True)\n",
    "    assert(isinstance(plot_response.time_series, ctl.Timeseries))\n",
    "    print(\"OK!\")"
   ]
  },
  {
   "cell_type": "markdown",
   "id": "a03135dc-65bd-4f4d-bc7f-0ac8eb187cde",
   "metadata": {},
   "source": [
    "Use ``SISOTransferFunctionBuilder`` to plot a staircase of the control input to your system and the measured output.\n",
    "Explain why you chose the operating region you did (i.e., the value ranges of\n",
    "the control input)."
   ]
  },
  {
   "cell_type": "code",
   "execution_count": 12,
   "id": "dea4cdbf",
   "metadata": {},
   "outputs": [
    {
     "data": {
      "image/png": "[encoded data removed]",
      "text/plain": [
       "<Figure size 600x400 with 1 Axes>"
      ]
     },
     "metadata": {},
     "output_type": "display_data"
    }
   ],
   "source": [
    "bsAb_CTLSB = ctl.ControlSBML(\"https://www.ebi.ac.uk/biomodels/model/download/BIOMD0000000788.2?filename=Schropp2019.xml\", \n",
    "                        input_names=[\"C_free\"], output_names=[\"RC_B\"])\n",
    "bsAb_RR = bsAb_CTLSB.roadrunner\n",
    "bsAb_RR.simulate(0, 10, 100)\n",
    "bsAb_RR.plot()"
   ]
  },
  {
   "cell_type": "code",
   "execution_count": 13,
   "id": "93bda828",
   "metadata": {},
   "outputs": [
    {
     "data": {
      "text/plain": [
       "('C_free', 'RC_B')"
      ]
     },
     "execution_count": 13,
     "metadata": {},
     "output_type": "execute_result"
    }
   ],
   "source": [
    "bsAb_builder = bsAb_CTLSB.makeSISOTransferFunctionBuilder()\n",
    "bsAb_builder.input_name, bsAb_builder.output_name"
   ]
  },
  {
   "cell_type": "code",
   "execution_count": 14,
   "id": "29e42fc1",
   "metadata": {
    "scrolled": true
   },
   "outputs": [
    {
     "data": {
      "text/plain": []
     },
     "execution_count": 14,
     "metadata": {},
     "output_type": "execute_result"
    },
    {
     "data": {
      "image/png": "[encoded data removed]",
      "text/plain": [
       "<Figure size 300x300 with 2 Axes>"
      ]
     },
     "metadata": {},
     "output_type": "display_data"
    }
   ],
   "source": [
    "plotStaircaseResponse(bsAb_builder, initial_value=1, final_value=4, figsize=(3,3),\n",
    "                                    num_step=5, legend_crd=(0.5, 1), end_time=500)"
   ]
  },
  {
   "cell_type": "markdown",
   "id": "91157a2e",
   "metadata": {},
   "source": [
    "I chose an imput control region between 1 and 4 units of C_free. I chose this operating range because my setpoint is 40 and these input range produces RC_B from 0 to 60 which alows for control both above and below my setpoint. "
   ]
  },
  {
   "cell_type": "markdown",
   "id": "aeedd90a-fc36-485f-a4c4-4321e50c7113",
   "metadata": {},
   "source": [
    "## 2. (20 pts) Find a tranfser function for your system for the operating region."
   ]
  },
  {
   "cell_type": "code",
   "execution_count": 15,
   "id": "51945678",
   "metadata": {},
   "outputs": [
    {
     "data": {
      "image/png": "[encoded data removed]",
      "text/plain": [
       "<Figure size 300x300 with 1 Axes>"
      ]
     },
     "metadata": {},
     "output_type": "display_data"
    },
    {
     "data": {
      "text/plain": []
     },
     "execution_count": 15,
     "metadata": {},
     "output_type": "execute_result"
    }
   ],
   "source": [
    "fitter_result = bsAb_builder.fitTransferFunction(4,4, \n",
    "                                                   final_value=4,\n",
    "                                                   initial_value=1, start_time=0, end_time=400)\n",
    "ctl.plotOneTS(fitter_result.time_series, figsize=(3,3), legend_crd=(2,1))"
   ]
  },
  {
   "cell_type": "code",
   "execution_count": 16,
   "id": "4e2dcae4",
   "metadata": {},
   "outputs": [
    {
     "data": {
      "text/latex": [
       "$$\\frac{9.998 s^3 + 0.6863 s^2 - 0.003204 s + 0.0002036}{0.9078 s^3 + 0.02637 s^2 + 0.001452 s + 8.373 \\times 10^{-6}}$$"
      ],
      "text/plain": [
       "TransferFunction(array([ 9.99759070e+00,  6.86286091e-01, -3.20420022e-03,  2.03648005e-04]), array([9.07790663e-01, 2.63707853e-02, 1.45175495e-03, 8.37311367e-06]))"
      ]
     },
     "execution_count": 16,
     "metadata": {},
     "output_type": "execute_result"
    }
   ],
   "source": [
    "fitter_result.transfer_function"
   ]
  },
  {
   "cell_type": "markdown",
   "id": "e8509b40-5b91-446a-b6c6-ea1db755bf44",
   "metadata": {},
   "source": [
    "Use ``SISOTransferFunctionBuilder`` to fit a transfer function for your system.\n",
    "Justify that the transfer function fits sufficiently well and does not overfit."
   ]
  },
  {
   "cell_type": "markdown",
   "id": "7aaaa019",
   "metadata": {},
   "source": [
    "Since this model is not a linear model, a more complex transfer function is needed. Functions with less than 4 terms were unable to match the curviture trend of the model. The 4 term transfer function was the smallest degree transfer function that was able to roughly estimate the behavior of the model. "
   ]
  },
  {
   "cell_type": "markdown",
   "id": "bb1bb8bf-803c-4faa-b3e1-486c0cfa9f08",
   "metadata": {},
   "source": [
    "## 3. (10 pts)  Analyze the transfer function."
   ]
  },
  {
   "cell_type": "markdown",
   "id": "525ca441-c730-4120-bc4b-5f688d8d708e",
   "metadata": {},
   "source": [
    "What is the DC gain? What are the poles? What are the implications for control?"
   ]
  },
  {
   "cell_type": "code",
   "execution_count": 17,
   "id": "a6090709",
   "metadata": {},
   "outputs": [
    {
     "data": {
      "text/plain": [
       "24.321657741178846"
      ]
     },
     "execution_count": 17,
     "metadata": {},
     "output_type": "execute_result"
    }
   ],
   "source": [
    "fitter_result.transfer_function.dcgain()"
   ]
  },
  {
   "cell_type": "markdown",
   "id": "d0288ae0",
   "metadata": {},
   "source": [
    "The DC gain is 24.3. This mkaes sense given this system since a small increase in C_free results in a decently large concentration increase of RC_B. "
   ]
  },
  {
   "cell_type": "code",
   "execution_count": 18,
   "id": "037c39ca",
   "metadata": {},
   "outputs": [
    {
     "data": {
      "text/plain": [
       "array([-0.01135567+0.03641868j, -0.01135567-0.03641868j,\n",
       "       -0.00633807+0.j        ])"
      ]
     },
     "execution_count": 18,
     "metadata": {},
     "output_type": "execute_result"
    }
   ],
   "source": [
    "fitter_result.transfer_function.poles()"
   ]
  },
  {
   "cell_type": "markdown",
   "id": "ae3e880e",
   "metadata": {},
   "source": [
    "All of the poles are negative but two lie on the imaginary axis. These means this system in marginally stable. The smallest pole has a value of -0.006 which means the speed to convergance will be very slow which is what I saw when making the staircase response. "
   ]
  }
 ],
 "metadata": {
  "kernelspec": {
   "display_name": "Python 3 (ipykernel)",
   "language": "python",
   "name": "python3"
  },
  "language_info": {
   "codemirror_mode": {
    "name": "ipython",
    "version": 3
   },
   "file_extension": ".py",
   "mimetype": "text/x-python",
   "name": "python",
   "nbconvert_exporter": "python",
   "pygments_lexer": "ipython3",
   "version": "3.9.6"
  },
  "toc-autonumbering": false,
  "toc-showcode": false,
  "toc-showtags": true
 },
 "nbformat": 4,
 "nbformat_minor": 5
}
