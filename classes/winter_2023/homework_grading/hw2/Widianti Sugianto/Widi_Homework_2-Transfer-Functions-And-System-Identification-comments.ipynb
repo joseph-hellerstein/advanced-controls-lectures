{
 "cells": [
  {
   "cell_type": "markdown",
   "id": "567ab907",
   "metadata": {},
   "source": [
    "# HOMEWORK 2 - TRANSFER FUNCTIONS AND SYSTEM IDENTIFICATION"
   ]
  },
  {
   "cell_type": "markdown",
   "id": "a21d3284",
   "metadata": {},
   "source": [
    "This homework is about transfer functions and system identification.\n",
    "There are two problems.\n",
    "\n",
    "Make a copy of this notebook, and answer the questions."
   ]
  },
  {
   "cell_type": "markdown",
   "id": "e205fda9",
   "metadata": {},
   "source": [
    "# Preliminaries"
   ]
  },
  {
   "cell_type": "code",
   "execution_count": 1,
   "id": "a5ddfd05",
   "metadata": {},
   "outputs": [],
   "source": [
    "import control\n",
    "import controlSBML as ctl\n",
    "import numpy as np\n",
    "import matplotlib.pyplot as plt\n",
    "import sympy\n",
    "import tellurium as te\n",
    "import pandas as pd\n",
    "import sympy"
   ]
  },
  {
   "cell_type": "markdown",
   "id": "b40afce7",
   "metadata": {},
   "source": [
    "# Helpers"
   ]
  },
  {
   "cell_type": "code",
   "execution_count": 2,
   "id": "8a7e9b2a",
   "metadata": {},
   "outputs": [],
   "source": [
    "class PlotResult(object):\n",
    "\n",
    "    def __init__(self, times=None, yt=None, ax=None):\n",
    "        self.times = times\n",
    "        self.yt = yt\n",
    "        self.ax = ax\n",
    "        \n",
    "    def __repr__(self):\n",
    "        return \"\""
   ]
  },
  {
   "cell_type": "code",
   "execution_count": 3,
   "id": "1f7c6bd4",
   "metadata": {},
   "outputs": [
    {
     "name": "stdout",
     "output_type": "stream",
     "text": [
      "OK!\n"
     ]
    }
   ],
   "source": [
    "def plotTF(tf, times=None, is_plot=True, figsize=(5,5)):\n",
    "    if times is None:\n",
    "        times = np.linspace(0, 10, 100)\n",
    "    _, yt = control.forced_response(tf, T=times, U=1)\n",
    "    if is_plot:\n",
    "        _, ax = plt.subplots(1, figsize=figsize)\n",
    "        ax.plot(times, yt)\n",
    "        ax.set_xlabel(\"time\")\n",
    "    else:\n",
    "        ax = None\n",
    "    return PlotResult(times=times, yt=yt, ax=ax)\n",
    "\n",
    "# Tests\n",
    "tf = control.TransferFunction([1], [1, 0])\n",
    "plot_result = plotTF(tf, is_plot=False)\n",
    "assert(isinstance(plot_result, PlotResult))\n",
    "print(\"OK!\")"
   ]
  },
  {
   "cell_type": "code",
   "execution_count": 4,
   "id": "3ee6d2fd",
   "metadata": {},
   "outputs": [],
   "source": [
    "def plotStaircaseResponse(builder, is_plot=True, **kwargs):\n",
    "    \"\"\"\n",
    "    This function circumvents a bug in SISOTransferFunctionBuilder.plotStairCaseResponse.\n",
    "    It has the same arguments and return value as the original function.\n",
    "    \"\"\"\n",
    "    plot_result = builder.plotStaircaseResponse(is_plot=False, **kwargs)\n",
    "    # Plot if requested\n",
    "    if is_plot:\n",
    "        times = np.array(plot_result.time_series.index)/1000\n",
    "        df = pd.DataFrame(plot_result.time_series)\n",
    "        df.index = times\n",
    "        if \"figsize\" in kwargs.keys():\n",
    "            figsize = kwargs[\"figsize\"]\n",
    "        else:\n",
    "            figsize = (10, 10)\n",
    "        legends = list(df.columns)\n",
    "        fig, ax = plt.subplots(1, figsize=figsize)\n",
    "        staircase_column = [c for c in df.columns if \"staircase\" in c][0]\n",
    "        staircase_values = df[staircase_column].values\n",
    "        del df[staircase_column]\n",
    "        ax.plot(df)\n",
    "        ax2 = ax.twinx()\n",
    "        # Plot the staircase\n",
    "        ax2.plot(times, staircase_values, color=\"red\",\n",
    "              linestyle=\"--\")\n",
    "        ax2.set_ylabel(staircase_column, color=\"red\")\n",
    "        ax.legend(df.columns)\n",
    "    #\n",
    "    return plot_result\n",
    "\n",
    "# TESTS\n",
    "if False:\n",
    "    plot_response = plotStaircaseResponse(linear_builder, initial_value=2, final_value=10, num_step=5, figsize=(3,3),\n",
    "                                        legend_crd=(0.5, 1), end_time=100, is_plot=True)\n",
    "    assert(isinstance(plot_response.time_series, ctl.Timeseries))\n",
    "    print(\"OK!\")"
   ]
  },
  {
   "cell_type": "markdown",
   "id": "f444397d",
   "metadata": {},
   "source": [
    "# Problem 1: Constructing Laplace Transforms for reaction networks"
   ]
  },
  {
   "cell_type": "markdown",
   "id": "53573986",
   "metadata": {},
   "source": [
    "In this problem, you will construct a Laplace transform\n",
    "for the same branching network we discussed in class, but with\n",
    "a different input and output.\n",
    "Below is the reaction network:\n",
    "\n",
    "\\begin{eqnarray}\n",
    "s_1 & \\xrightarrow{k_1 s_1} s_2 \\\\\n",
    "s_2 & \\xrightarrow{k_2 s_2} s_1 \\\\\n",
    "s_1 & \\xrightarrow{k_3 s_1} s_3 \\\\\n",
    "u & \\xrightarrow{k_1 u} s_2 \\\\\n",
    "\\end{eqnarray}\n",
    "\n",
    "The input to the system is $u$; the output is $s_2$. (In class, the output\n",
    "was $s_3$.)"
   ]
  },
  {
   "cell_type": "markdown",
   "id": "4f093870",
   "metadata": {},
   "source": [
    "## 1. (5 pts) System equations"
   ]
  },
  {
   "cell_type": "markdown",
   "id": "40886754",
   "metadata": {},
   "source": [
    "Write the system equations for this reaction network."
   ]
  },
  {
   "cell_type": "markdown",
   "id": "e0d0f06b",
   "metadata": {},
   "source": [
    "\\begin{eqnarray}\n",
    "\\dot{s}_1 & = & k_2 s_2 - k_1 s_1 - k_3 s_1  \\\\\n",
    "\\dot{s}_2 & = & -k_2 s_2 + k_1 s_1 + k_1 u \\\\\n",
    "\\dot{s}_3 & = & k_3 s_1  \\\\\n",
    "\\end{eqnarray}"
   ]
  },
  {
   "cell_type": "markdown",
   "id": "1b45f7a9",
   "metadata": {},
   "source": [
    "## 2. (5 pts) LT of system equations"
   ]
  },
  {
   "cell_type": "markdown",
   "id": "a3dae819",
   "metadata": {},
   "source": [
    "Write the Laplace transforms of the system equations."
   ]
  },
  {
   "cell_type": "markdown",
   "id": "888f7724",
   "metadata": {},
   "source": [
    "\\begin{eqnarray}\n",
    "s S_1(s) & = & k_2 S_2(s) - k_1 S_1 (s) - k_3 S_1 (s)  \\\\\n",
    "s S_2 (s) & = & -k_2 S_2 (s) + k_1 S_1 (s) + k_1 U(s) \\\\\n",
    "s S_3(s) & = & k_3 S_1 (s) \\\\\n",
    "\\end{eqnarray}"
   ]
  },
  {
   "cell_type": "markdown",
   "id": "cbd28174",
   "metadata": {},
   "source": [
    "## 3. (25 pts) Calculate transfer function"
   ]
  },
  {
   "cell_type": "markdown",
   "id": "ed65c077",
   "metadata": {},
   "source": [
    "Calculate the transfer function $G(s) = \\frac{S_3 (s)}{S_2(s)}$.\n",
    "\n",
    " $G(s) = \\frac{S_2 (s)}{U(s)}$."
   ]
  },
  {
   "cell_type": "code",
   "execution_count": 5,
   "id": "5f9d30f2",
   "metadata": {
    "scrolled": true
   },
   "outputs": [
    {
     "data": {
      "text/latex": [
       "$\\displaystyle - k_{1} u + s_{2} \\left(k_{2} - \\frac{k_{2}}{k_{1} + k_{3} + s} + s\\right)$"
      ],
      "text/plain": [
       "-k1*u + s2*(k2 - k2/(k1 + k3 + s) + s)"
      ]
     },
     "execution_count": 5,
     "metadata": {},
     "output_type": "execute_result"
    }
   ],
   "source": [
    "#names for all variables in symbolic algebra\n",
    "s3, s1, s, k1, k2, k3, s2, u = sympy.symbols(\"s3, s1, s, k1, k2, k3, s2, u\")\n",
    "\n",
    "expr = ((s+k2)-(k2/(s+k1+k3)))*s2 - (k1*u)\n",
    "expr"
   ]
  },
  {
   "cell_type": "code",
   "execution_count": 6,
   "id": "042f15fe",
   "metadata": {},
   "outputs": [
    {
     "data": {
      "text/latex": [
       "$\\displaystyle \\frac{k_{1} u \\left(k_{1} + k_{3} + s\\right)}{k_{1} k_{2} + k_{1} s + k_{2} k_{3} + k_{2} s - k_{2} + k_{3} s + s^{2}}$"
      ],
      "text/plain": [
       "k1*u*(k1 + k3 + s)/(k1*k2 + k1*s + k2*k3 + k2*s - k2 + k3*s + s**2)"
      ]
     },
     "execution_count": 6,
     "metadata": {},
     "output_type": "execute_result"
    }
   ],
   "source": [
    "s2 = sympy.solve(expr, s2)[0]\n",
    "s2"
   ]
  },
  {
   "cell_type": "code",
   "execution_count": 7,
   "id": "82ba0a29",
   "metadata": {
    "scrolled": true
   },
   "outputs": [
    {
     "name": "stdout",
     "output_type": "stream",
     "text": [
      "\\frac{k_{1} u \\left(k_{1} + k_{3} + s\\right)}{k_{1} k_{2} + k_{1} s + k_{2} k_{3} + k_{2} s - k_{2} + k_{3} s + s^{2}}\n"
     ]
    }
   ],
   "source": [
    "print(sympy.latex(s2))"
   ]
  },
  {
   "cell_type": "markdown",
   "id": "8117bacd",
   "metadata": {},
   "source": [
    "### The resulting transfer function:\n",
    "\n",
    "$G(s) = \\frac{S_2(s)}{U(s)} = \\frac{k_{1} \\left(k_{1} + k_{3} + s\\right)}{k_{1} k_{2} + k_{1} s + k_{2} k_{3} + k_{2} s - k_{2} + k_{3} s + s^{2}}$"
   ]
  },
  {
   "cell_type": "markdown",
   "id": "5625e924-d56c-463d-90c7-a0d1cc32a212",
   "metadata": {},
   "source": [
    "**Comment**\n",
    "\n",
    "1. You should get the follow. It seems that you have a small mistake in the denominator. I illustrated the issue in section 4 by changing k1, k2, k3.\n",
    "$\\frac{S_2(s)}{U(s)} = \n",
    "\\frac{ k_{1} \\left(k_{1} + k_{3} + s\\right)}{k_{1} s + k_{2} k_{3} + k_{2} s + k_{3} s + s^{2}}$"
   ]
  },
  {
   "cell_type": "markdown",
   "id": "b762f76f",
   "metadata": {},
   "source": [
    "## 4. (5 pts) Predict step response"
   ]
  },
  {
   "cell_type": "markdown",
   "id": "fb0e548d",
   "metadata": {},
   "source": [
    "Use the ``control`` package to construct the transfer function that you derived in Step 3, and simulate the transfer function. Plot the result."
   ]
  },
  {
   "cell_type": "code",
   "execution_count": 20,
   "id": "70999eb0",
   "metadata": {
    "scrolled": true
   },
   "outputs": [
    {
     "data": {
      "image/png": "[encoded data removed]",
      "text/plain": [
       "<Figure size 500x500 with 1 Axes>"
      ]
     },
     "metadata": {},
     "output_type": "display_data"
    }
   ],
   "source": [
    "# Initialize constants\n",
    "k1, k2, k3 = (1, 1, 1)\n",
    "k1, k2, k3 = (4, 2, 3)\n",
    "times = np.linspace(0, 10, 100)\n",
    "# Response to input\n",
    "tf = control.TransferFunction([k1, k1*k1+k1*k3],\n",
    "                              [1, k1+k2+k3, k1*k2+k2*k3-k2])\n",
    "_, yt = control.forced_response(tf, T=times, U=1)\n",
    "# Plot the results\n",
    "plot_result = plotTF(tf, is_plot=True)"
   ]
  },
  {
   "cell_type": "markdown",
   "id": "6eea05ea",
   "metadata": {},
   "source": [
    "### Check DC gain, k1 = 1"
   ]
  },
  {
   "cell_type": "code",
   "execution_count": 9,
   "id": "034017d8",
   "metadata": {},
   "outputs": [
    {
     "data": {
      "text/plain": [
       "2.0"
      ]
     },
     "execution_count": 9,
     "metadata": {},
     "output_type": "execute_result"
    }
   ],
   "source": [
    "tf.dcgain()"
   ]
  },
  {
   "cell_type": "markdown",
   "id": "530af766",
   "metadata": {},
   "source": [
    "### Increasing k1 = 3"
   ]
  },
  {
   "cell_type": "code",
   "execution_count": 10,
   "id": "85acacc3",
   "metadata": {
    "scrolled": true
   },
   "outputs": [
    {
     "data": {
      "image/png": "[encoded data removed]",
      "text/plain": [
       "<Figure size 500x500 with 1 Axes>"
      ]
     },
     "metadata": {},
     "output_type": "display_data"
    }
   ],
   "source": [
    "# Initialize constants\n",
    "k1, k2, k3 = (3, 1, 1)\n",
    "times = np.linspace(0, 10, 100)\n",
    "# Response to input\n",
    "tf = control.TransferFunction([k1, k1*k1+k1*k3],\n",
    "                              [1, k1+k2+k3, k1*k2+k2*k3-k2])\n",
    "_, yt = control.forced_response(tf, T=times, U=1)\n",
    "# Plot the results\n",
    "plot_result = plotTF(tf, is_plot=True)"
   ]
  },
  {
   "cell_type": "markdown",
   "id": "cf8bca6c",
   "metadata": {},
   "source": [
    "### Check DC gain, k1 = 3"
   ]
  },
  {
   "cell_type": "code",
   "execution_count": 11,
   "id": "84afb019",
   "metadata": {},
   "outputs": [
    {
     "data": {
      "text/plain": [
       "4.0"
      ]
     },
     "execution_count": 11,
     "metadata": {},
     "output_type": "execute_result"
    }
   ],
   "source": [
    "tf.dcgain()"
   ]
  },
  {
   "cell_type": "markdown",
   "id": "74325be3",
   "metadata": {},
   "source": [
    "## 5. (5 pts) Simulate in Antimony"
   ]
  },
  {
   "cell_type": "markdown",
   "id": "3b46f01f",
   "metadata": {},
   "source": [
    "Write an Antimony model for the original system and simulate it for a step respoinse."
   ]
  },
  {
   "cell_type": "code",
   "execution_count": 21,
   "id": "61c8f6a2",
   "metadata": {},
   "outputs": [
    {
     "data": {
      "text/plain": [
       "Text(0.5, 0, 'time')"
      ]
     },
     "execution_count": 21,
     "metadata": {},
     "output_type": "execute_result"
    },
    {
     "data": {
      "image/png": "[encoded data removed]",
      "text/plain": [
       "<Figure size 640x480 with 1 Axes>"
      ]
     },
     "metadata": {},
     "output_type": "display_data"
    }
   ],
   "source": [
    "model = \"\"\"\n",
    "s1 -> s2; k1*s1\n",
    "s2 -> s1; k2*s2\n",
    "s1 -> s3; k3*s1\n",
    "$u -> s2; k1*u\n",
    "\n",
    "k1 = 1\n",
    "k2 = 1\n",
    "k3 = 1\n",
    "s1 = 0\n",
    "s2 = 0\n",
    "s3 = 0\n",
    "k1 = 4\n",
    "k2 = 2\n",
    "k3 = 3\n",
    "$u = 1\n",
    "\"\"\"\n",
    "rr = te.loada(model)\n",
    "data = rr.simulate(0, 10, 100)\n",
    "plt.plot(data[\"time\"], data[\"[s2]\"])\n",
    "plt.xlabel(\"time\")"
   ]
  },
  {
   "cell_type": "markdown",
   "id": "bb8520b3",
   "metadata": {},
   "source": [
    "## 6. (5 pts) Analysis"
   ]
  },
  {
   "cell_type": "markdown",
   "id": "7e089ba7",
   "metadata": {},
   "source": [
    "1. How does the transfer function you derived and simulated in step 3 compare with the simulation results for the Antimony model in step 4?\n",
    "1. How does DC gain change as $k_1$ increases?\n",
    "1. Explain why the DC gain of this system is finite whereas the DC gain of the system with $s_3$ as output does not have finite DC gain.\n"
   ]
  },
  {
   "cell_type": "markdown",
   "id": "ac6d20fb",
   "metadata": {},
   "source": [
    "#### Results: \n",
    "1. From comparing the Antimony and self-derived plots, both plots look the same in terms of curvature/shape and transfer function gain at the same k1,2,3 values.\n",
    "2. As k1 increases, DC gain also increases\n",
    "3. DC gain in this system is finite because the G(s) has an s-term in the numerator, thus G(s) ~ 1/(1+s). The limit of G(s) in this case as s-->0 is finite. \n",
    "</br> However, for system with s3 as output, G(s) was ~ 1/s^3 resulting in limit as s-->0 equals to infinity (1/0)."
   ]
  },
  {
   "cell_type": "markdown",
   "id": "d550f1b4",
   "metadata": {},
   "source": [
    "# Problem 2: System Identification"
   ]
  },
  {
   "cell_type": "markdown",
   "id": "686581ec",
   "metadata": {},
   "source": [
    "You will do system identification for the system you chose in the first homework."
   ]
  },
  {
   "cell_type": "markdown",
   "id": "e0522420",
   "metadata": {},
   "source": [
    "## 1. (20 pts) Determine the operating region for you system."
   ]
  },
  {
   "cell_type": "markdown",
   "id": "7fabfc8c",
   "metadata": {},
   "source": [
    "Use ``SISOTransferFunctionBuilder`` to plot a staircase of the control input to your system and the measured output.\n",
    "Explain why you chose the operating region you did (i.e., the value ranges of\n",
    "the control input)."
   ]
  },
  {
   "cell_type": "markdown",
   "id": "dd723a6e",
   "metadata": {},
   "source": [
    "### Load Garde model"
   ]
  },
  {
   "cell_type": "code",
   "execution_count": 13,
   "id": "32705548",
   "metadata": {
    "scrolled": true
   },
   "outputs": [
    {
     "data": {
      "image/png": "[encoded data removed]",
      "text/plain": [
       "<Figure size 600x400 with 1 Axes>"
      ]
     },
     "metadata": {},
     "output_type": "display_data"
    }
   ],
   "source": [
    "#Garde2020 - metabolic oscillations in Bacillus subtilis biofilms\n",
    "#paper link: https://www.nature.com/articles/s41598-020-62526-6\n",
    "GARDE_CTLSB = ctl.ControlSBML(\"https://www.ebi.ac.uk/biomodels/model/download/BIOMD0000001053.2?filename=Garde2020.xml\", \n",
    "                        input_names=[\"Gm\"], output_names=[\"Gi\"])\n",
    "GARDE_RR = GARDE_CTLSB.roadrunner\n",
    "GARDE_RR.simulate(0, 5, 100)\n",
    "GARDE_RR.plot()"
   ]
  },
  {
   "cell_type": "markdown",
   "id": "9debd071",
   "metadata": {},
   "source": [
    "### Setup TF builder from Garde model"
   ]
  },
  {
   "cell_type": "code",
   "execution_count": 14,
   "id": "eacd9b86",
   "metadata": {
    "scrolled": true
   },
   "outputs": [
    {
     "data": {
      "text/plain": [
       "('Gm', 'Gi')"
      ]
     },
     "execution_count": 14,
     "metadata": {},
     "output_type": "execute_result"
    }
   ],
   "source": [
    "garde_builder = GARDE_CTLSB.makeSISOTransferFunctionBuilder()\n",
    "garde_builder.input_name, garde_builder.output_name"
   ]
  },
  {
   "cell_type": "markdown",
   "id": "b745b863",
   "metadata": {},
   "source": [
    "### Plot staircase"
   ]
  },
  {
   "cell_type": "code",
   "execution_count": 15,
   "id": "e2b90876",
   "metadata": {},
   "outputs": [
    {
     "data": {
      "text/plain": []
     },
     "execution_count": 15,
     "metadata": {},
     "output_type": "execute_result"
    },
    {
     "data": {
      "image/png": "[encoded data removed]",
      "text/plain": [
       "<Figure size 300x300 with 2 Axes>"
      ]
     },
     "metadata": {},
     "output_type": "display_data"
    }
   ],
   "source": [
    "plotStaircaseResponse(garde_builder, initial_value=0, final_value=18, figsize=(3,3),\n",
    "                                    num_step=5, legend_crd=(0.5, 1), end_time=150)"
   ]
  },
  {
   "cell_type": "markdown",
   "id": "3a1cfe25",
   "metadata": {},
   "source": [
    "## 2. (20 pts) Find a tranfser function for your system for the operating region."
   ]
  },
  {
   "cell_type": "markdown",
   "id": "6b37fc52",
   "metadata": {},
   "source": [
    "Use ``SISOTransferFunctionBuilder`` to fit a transfer function for your system.\n",
    "Justify that the transfer function fits sufficiently well and does not overfit."
   ]
  },
  {
   "cell_type": "code",
   "execution_count": 16,
   "id": "391623b4",
   "metadata": {
    "scrolled": true
   },
   "outputs": [
    {
     "data": {
      "image/png": "[encoded data removed]",
      "text/plain": [
       "<Figure size 300x300 with 1 Axes>"
      ]
     },
     "metadata": {},
     "output_type": "display_data"
    },
    {
     "data": {
      "text/plain": []
     },
     "execution_count": 16,
     "metadata": {},
     "output_type": "execute_result"
    }
   ],
   "source": [
    "num_degree = 0\n",
    "denom_degree = 1\n",
    "fitter_result = garde_builder.fitTransferFunction(num_degree + 1, denom_degree + 1, \n",
    "                                                   final_value=18,\n",
    "                                                   initial_value=0, end_time=150)\n",
    "ctl.plotOneTS(fitter_result.time_series, figsize=(3,3), legend_crd=(2,1))"
   ]
  },
  {
   "cell_type": "markdown",
   "id": "15af5b59",
   "metadata": {},
   "source": [
    "### Transfer function for Garde model"
   ]
  },
  {
   "cell_type": "code",
   "execution_count": 17,
   "id": "d5b0e0e5",
   "metadata": {
    "scrolled": true
   },
   "outputs": [
    {
     "data": {
      "text/latex": [
       "$$\\frac{0.8619}{1.481 \\times 10^{-7} s + 9.963}$$"
      ],
      "text/plain": [
       "TransferFunction(array([0.86193472]), array([1.48084862e-07, 9.96337220e+00]))"
      ]
     },
     "execution_count": 17,
     "metadata": {},
     "output_type": "execute_result"
    }
   ],
   "source": [
    "tf2 = fitter_result.transfer_function\n",
    "tf2"
   ]
  },
  {
   "cell_type": "markdown",
   "id": "9640f142",
   "metadata": {},
   "source": [
    "**Reasoning:** Looks like this transfer function resulted in a convergence of the oscillation (predicted result overlaps with Gi response) as input Gm is given into the system. "
   ]
  },
  {
   "cell_type": "markdown",
   "id": "f6627a80",
   "metadata": {},
   "source": [
    "## 3. (10 pts)  Analyze the transfer function."
   ]
  },
  {
   "cell_type": "markdown",
   "id": "f9a47017",
   "metadata": {},
   "source": [
    "What is the DC gain? What are the poles? What are the implications for control?"
   ]
  },
  {
   "cell_type": "markdown",
   "id": "8d7d1acc",
   "metadata": {},
   "source": [
    "#### Part a) DC gain"
   ]
  },
  {
   "cell_type": "code",
   "execution_count": 18,
   "id": "3694fa3a",
   "metadata": {},
   "outputs": [
    {
     "data": {
      "text/plain": [
       "0.08651034000077923"
      ]
     },
     "execution_count": 18,
     "metadata": {},
     "output_type": "execute_result"
    }
   ],
   "source": [
    "tf2.dcgain()"
   ]
  },
  {
   "cell_type": "markdown",
   "id": "0c22879b",
   "metadata": {},
   "source": [
    "#### Part b) Poles"
   ]
  },
  {
   "cell_type": "code",
   "execution_count": 19,
   "id": "aa91b49c",
   "metadata": {},
   "outputs": [
    {
     "data": {
      "text/plain": [
       "array([-67281503.86721896+0.j])"
      ]
     },
     "execution_count": 19,
     "metadata": {},
     "output_type": "execute_result"
    }
   ],
   "source": [
    "tf2.poles()"
   ]
  },
  {
   "cell_type": "markdown",
   "id": "c85c9d34",
   "metadata": {},
   "source": [
    "#### c) Implications for control"
   ]
  },
  {
   "cell_type": "markdown",
   "id": "e7a1ac2f",
   "metadata": {},
   "source": [
    "DC gain informs us about the output-input ratio at steady state (useful to predict the system output given a certain input). In this case DC gain is finite but small, which means output < input (we need such a high-value input in order to get a small response).\n",
    "\n",
    "</br> Since poles are indicators of stability, the negative sign of the pole indicates that the system will eventually reach stability. The imaginary part tells us that the system generates oscillations a constant amplitude determined by the initial conditions."
   ]
  }
 ],
 "metadata": {
  "kernelspec": {
   "display_name": "Python 3 (ipykernel)",
   "language": "python",
   "name": "python3"
  },
  "language_info": {
   "codemirror_mode": {
    "name": "ipython",
    "version": 3
   },
   "file_extension": ".py",
   "mimetype": "text/x-python",
   "name": "python",
   "nbconvert_exporter": "python",
   "pygments_lexer": "ipython3",
   "version": "3.9.6"
  },
  "toc-autonumbering": false,
  "toc-showcode": false,
  "toc-showtags": true
 },
 "nbformat": 4,
 "nbformat_minor": 5
}
