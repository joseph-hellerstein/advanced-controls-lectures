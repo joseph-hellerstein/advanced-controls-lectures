{
 "cells": [
  {
   "cell_type": "markdown",
   "id": "4691a5bc-ce0f-47cd-bc2b-661dbec6eb23",
   "metadata": {},
   "source": [
    "# HOMEWORK 2 - TRANSFER FUNCTIONS AND SYSTEM IDENTIFICATION"
   ]
  },
  {
   "cell_type": "markdown",
   "id": "9bd9d0fb-5396-4238-9c71-920561362bd8",
   "metadata": {},
   "source": [
    "This homework is about transfer functions and system identification.\n",
    "There are two problems.\n",
    "\n",
    "Make a copy of this notebook, and answer the questions."
   ]
  },
  {
   "cell_type": "markdown",
   "id": "04ed51a7-2022-4431-a0c7-cc4f1800ec03",
   "metadata": {},
   "source": [
    "# Preliminaries"
   ]
  },
  {
   "cell_type": "code",
   "execution_count": 1,
   "id": "58ab8a63-4141-4f4f-ba8a-686a3914656e",
   "metadata": {},
   "outputs": [],
   "source": [
    "import control\n",
    "import numpy as np\n",
    "import matplotlib.pyplot as plt\n",
    "import pandas as pd\n",
    "import sympy\n",
    "import tellurium as te\n",
    "import sympy"
   ]
  },
  {
   "cell_type": "markdown",
   "id": "0fb27498-d01e-4e2d-aab8-458a68eea6b2",
   "metadata": {},
   "source": [
    "# Helpers"
   ]
  },
  {
   "cell_type": "code",
   "execution_count": 2,
   "id": "6aaeafde-ae1a-47cd-9b72-1b9cf2f331cc",
   "metadata": {},
   "outputs": [],
   "source": [
    "class PlotResult(object):\n",
    "\n",
    "    def __init__(self, times=None, yt=None, ax=None):\n",
    "        self.times = times\n",
    "        self.yt = yt\n",
    "        self.ax = ax\n",
    "        \n",
    "    def __repr__(self):\n",
    "        return \"\""
   ]
  },
  {
   "cell_type": "code",
   "execution_count": 3,
   "id": "72b73d6b-b02c-4bb7-8faf-fb8e75e5312b",
   "metadata": {},
   "outputs": [
    {
     "name": "stdout",
     "output_type": "stream",
     "text": [
      "OK!\n"
     ]
    }
   ],
   "source": [
    "def plotTF(tf, times=None, is_plot=True, figsize=(5,5)):\n",
    "    if times is None:\n",
    "        times = np.linspace(0, 10, 100)\n",
    "    _, yt = control.forced_response(tf, T=times, U=1)\n",
    "    if is_plot:\n",
    "        _, ax = plt.subplots(1, figsize=figsize)\n",
    "        ax.plot(times, yt)\n",
    "        ax.set_xlabel(\"time\")\n",
    "    else:\n",
    "        ax = None\n",
    "    return PlotResult(times=times, yt=yt, ax=ax)\n",
    "\n",
    "# Tests\n",
    "tf = control.TransferFunction([1], [1, 0])\n",
    "plot_result = plotTF(tf, is_plot=False)\n",
    "assert(isinstance(plot_result, PlotResult))\n",
    "print(\"OK!\")"
   ]
  },
  {
   "cell_type": "markdown",
   "id": "c9e4e975-d586-4ac9-a6cc-109124ba0fc7",
   "metadata": {},
   "source": [
    "# Problem 1: Constructing Laplace Transforms for reaction networks"
   ]
  },
  {
   "cell_type": "markdown",
   "id": "b368dcda-8ba2-4ebe-935a-80ecef717dbe",
   "metadata": {},
   "source": [
    "In this problem, you will construct a Laplace transform\n",
    "for the same branching network we discussed in class, but with\n",
    "a different input and output.\n",
    "Below is the reaction network:\n",
    "\n",
    "\\begin{eqnarray}\n",
    "s_1 & \\xrightarrow{k_1 s_1} s_2 \\\\\n",
    "s_2 & \\xrightarrow{k_2 s_2} s_1 \\\\\n",
    "s_1 & \\xrightarrow{k_3 s_1} s_3 \\\\\n",
    "u & \\xrightarrow{k_1 u} s_2 \\\\\n",
    "\\end{eqnarray}\n",
    "\n",
    "The input to the system is $u$; the output is $s_2$. (In class, the output\n",
    "was $s_3$.)"
   ]
  },
  {
   "cell_type": "markdown",
   "id": "010d870f-313f-4217-8182-b8fb4e77e163",
   "metadata": {},
   "source": [
    "## 1. (5 pts) System equations"
   ]
  },
  {
   "cell_type": "markdown",
   "id": "24f97b2d-f9ab-4169-88e7-12f38e33ac95",
   "metadata": {},
   "source": [
    "$\\dot s_{1} = -k_{1}s_{1} + k_{2}s_{2} - k_{3}s_{1}$ <br>\n",
    "$\\dot s_{2} = k_{1}s_{1} - k_{2}s_{2} + k_{1}u$ <br>\n",
    "$\\dot s_{3} = k_{3}s_{1}$"
   ]
  },
  {
   "cell_type": "markdown",
   "id": "3eec4c08-1999-4225-9d97-7e65698ab92e",
   "metadata": {},
   "source": [
    "## 2. (5 pts) LT of system equations"
   ]
  },
  {
   "cell_type": "markdown",
   "id": "a071d804-0902-4508-b73f-ebc4e2c53713",
   "metadata": {},
   "source": [
    "$sS_{1}(s) = -k_{1}S_{1}(s) + k_{2}S_{2}(s) - k_{3}S_{1}(s)$ <br>\n",
    "$sS_{2}(s) = k_{1}S_{1}(s) - k_{2}S_{2}(s) + k_{1}U(s)$ <br>\n",
    "$sS_{3}(s) = k_{3}S_{1}(s)$"
   ]
  },
  {
   "cell_type": "markdown",
   "id": "ea77c013-3ee0-4f44-b5f1-515a85171976",
   "metadata": {},
   "source": [
    "## 3. (25 pts) Calculate transfer function"
   ]
  },
  {
   "cell_type": "code",
   "execution_count": null,
   "id": "fcd3fd25-814c-4d16-b46e-5ad60d580e51",
   "metadata": {},
   "outputs": [],
   "source": []
  },
  {
   "cell_type": "markdown",
   "id": "c2be913c-4c69-40f1-8e06-7778d7b9478e",
   "metadata": {},
   "source": [
    "$G(s) = \\frac{S_{3}(s)}{S_{2}(s)} = \\frac{k_{3}k_{2}}{s(s+k_{1}+k_{3})} = \\frac{k_{3}k_{2}}{s^{2}+s(k_{1}+k_{3})}$"
   ]
  },
  {
   "cell_type": "markdown",
   "id": "6a2339c9-8105-4f35-8a68-6443389367f5",
   "metadata": {},
   "source": [
    "**Comment**\n",
    "1. The answer is correct. Did you solve it by hand? Below is how you can do this with ``sympy``."
   ]
  },
  {
   "cell_type": "code",
   "execution_count": 4,
   "id": "ffce8b0d-3fb9-4831-a1f1-eb54ce58a232",
   "metadata": {},
   "outputs": [],
   "source": [
    "s, S_1, S_2, S_3, k_1, k_2, k_3, U = sympy.symbols(\"s, S_1, S_2, S_3, k_1, k_2, k_3, U\")"
   ]
  },
  {
   "cell_type": "code",
   "execution_count": 19,
   "id": "be55b108-18a0-4c24-a73d-645871948421",
   "metadata": {},
   "outputs": [
    {
     "data": {
      "text/latex": [
       "$\\displaystyle \\frac{S_{2} k_{2}}{k_{1} + k_{3} + s}$"
      ],
      "text/plain": [
       "S_2*k_2/(k_1 + k_3 + s)"
      ]
     },
     "execution_count": 19,
     "metadata": {},
     "output_type": "execute_result"
    }
   ],
   "source": [
    "expr1 = s*S_1 + k_1*S_1 - k_2*S_2 + k_3*S_1\n",
    "sub_S_1 = sympy.solve(expr1, S_1)[0]\n",
    "sub_S_1"
   ]
  },
  {
   "cell_type": "code",
   "execution_count": 20,
   "id": "fda03b3e-4603-4359-97d6-b96fd5a67d0c",
   "metadata": {},
   "outputs": [
    {
     "data": {
      "text/latex": [
       "$\\displaystyle - \\frac{S_{2} k_{2} k_{3}}{k_{1} + k_{3} + s} + S_{3} s$"
      ],
      "text/plain": [
       "-S_2*k_2*k_3/(k_1 + k_3 + s) + S_3*s"
      ]
     },
     "execution_count": 20,
     "metadata": {},
     "output_type": "execute_result"
    }
   ],
   "source": [
    "expr3 = s*S_3 - k_3*S_1\n",
    "sub_expr3 = expr3.subs({S_1: sub_S_1})\n",
    "sub_expr3"
   ]
  },
  {
   "cell_type": "code",
   "execution_count": 21,
   "id": "7878ff0c-35b6-475d-ba8d-9b7a1ab58c9b",
   "metadata": {},
   "outputs": [
    {
     "data": {
      "text/latex": [
       "$\\displaystyle \\frac{S_{2} k_{2} k_{3}}{s \\left(k_{1} + k_{3} + s\\right)}$"
      ],
      "text/plain": [
       "S_2*k_2*k_3/(s*(k_1 + k_3 + s))"
      ]
     },
     "execution_count": 21,
     "metadata": {},
     "output_type": "execute_result"
    }
   ],
   "source": [
    "sympy.solve(sub_expr3, S_3)[0]"
   ]
  },
  {
   "cell_type": "markdown",
   "id": "3993b95f-bd7c-4bbb-b1b1-fa96600299b7",
   "metadata": {},
   "source": [
    "## 4. (5 pts) Predict step response"
   ]
  },
  {
   "cell_type": "code",
   "execution_count": 5,
   "id": "8aaea365",
   "metadata": {},
   "outputs": [
    {
     "data": {
      "text/latex": [
       "$$\\frac{2}{s^2 + 8 s}$$"
      ],
      "text/plain": [
       "TransferFunction(array([2]), array([1, 8, 0]))"
      ]
     },
     "execution_count": 5,
     "metadata": {},
     "output_type": "execute_result"
    }
   ],
   "source": [
    "# Constructing Transfer Function\n",
    "k1 = 6\n",
    "k2 = 1\n",
    "k3 = 2\n",
    "G_tf = control.TransferFunction([k3*k2],[1,(k1+k3), 0])\n",
    "# Transfer Function\n",
    "G_tf"
   ]
  },
  {
   "cell_type": "code",
   "execution_count": 6,
   "id": "21fafe3c",
   "metadata": {},
   "outputs": [
    {
     "data": {
      "text/plain": [
       "array([-8.+0.j,  0.+0.j])"
      ]
     },
     "execution_count": 6,
     "metadata": {},
     "output_type": "execute_result"
    }
   ],
   "source": [
    "# Poles\n",
    "G_tf.poles()"
   ]
  },
  {
   "cell_type": "code",
   "execution_count": 7,
   "id": "ac6aaa5a",
   "metadata": {},
   "outputs": [
    {
     "data": {
      "text/plain": [
       "inf"
      ]
     },
     "execution_count": 7,
     "metadata": {},
     "output_type": "execute_result"
    }
   ],
   "source": [
    "# DC Gain\n",
    "G_tf.dcgain()"
   ]
  },
  {
   "cell_type": "code",
   "execution_count": 8,
   "id": "72b84a69",
   "metadata": {},
   "outputs": [
    {
     "data": {
      "text/plain": [
       "Text(0.5, 0, 'time')"
      ]
     },
     "execution_count": 8,
     "metadata": {},
     "output_type": "execute_result"
    },
    {
     "data": {
      "image/png": "[encoded data removed]",
      "text/plain": [
       "<Figure size 640x480 with 1 Axes>"
      ]
     },
     "metadata": {},
     "output_type": "display_data"
    }
   ],
   "source": [
    "# Plotting\n",
    "times = np.linspace(0, 10, 100)\n",
    "_, yt = control.forced_response(G_tf, T=times, U=1)\n",
    "plt.plot(times, yt)\n",
    "plt.xlabel(\"time\")"
   ]
  },
  {
   "cell_type": "markdown",
   "id": "151b6c81-b8e1-4593-a92b-6be61ce2c3a4",
   "metadata": {},
   "source": [
    "## 5. (5 pts) Simulate in Antimony"
   ]
  },
  {
   "cell_type": "code",
   "execution_count": 9,
   "id": "5993d359",
   "metadata": {},
   "outputs": [
    {
     "data": {
      "image/png": "[encoded data removed]",
      "text/plain": [
       "<Figure size 300x300 with 1 Axes>"
      ]
     },
     "metadata": {},
     "output_type": "display_data"
    }
   ],
   "source": [
    "model = \"\"\"\n",
    "$s1 -> s2; k1*s1\n",
    "$s2 -> s1; k2*s2\n",
    "$s1 -> s3; k3*s1\n",
    "$u -> s2; k1*u\n",
    "\n",
    "s1 = 1\n",
    "s2 = 1\n",
    "s3 = 1\n",
    "u = 1\n",
    "k1 = 1\n",
    "k2 = 2\n",
    "k3 = 2\n",
    "\"\"\"\n",
    "rr = te.loada(model)\n",
    "rr.simulate(0, 10, 100)\n",
    "rr.plot(figsize=(3,3))"
   ]
  },
  {
   "cell_type": "markdown",
   "id": "e0d5c211-45a0-4f40-8a49-49021d5c8f46",
   "metadata": {},
   "source": [
    "## 6. (5 pts) Analysis"
   ]
  },
  {
   "cell_type": "markdown",
   "id": "d7af6df4-dc4d-4b1c-84dd-3fde6a4cf1a4",
   "metadata": {},
   "source": [
    "1. How does the transfer function you derived and simulated in step 3 compare with the simulation results for the Antimony model in step 4?\n",
    "1. How does DC gain change as $k_1$ increases?\n",
    "1. Explain why the DC gain of this system is finite whereas the DC gain of the system with $s_3$ as output does not have finite DC gain.\n"
   ]
  },
  {
   "cell_type": "markdown",
   "id": "6da7ec5c",
   "metadata": {},
   "source": [
    "1. They're the same\n",
    "2. It doesn't change\n",
    "3. Assuming __\"this system\"__ means the Antimony one?!, the difference is that our laplace for $s_{3}$ has an integrator $\\frac{1}{s}$ which makes it infinite"
   ]
  },
  {
   "cell_type": "markdown",
   "id": "772e5136-6291-443e-8c0e-e9a1013846c2",
   "metadata": {},
   "source": [
    "# Problem 2: System Identification"
   ]
  },
  {
   "cell_type": "markdown",
   "id": "e8ad8fe4-98c5-4b2f-9378-99fd3b4de596",
   "metadata": {},
   "source": [
    "You will do system identification for the system you chose in the first homework."
   ]
  },
  {
   "cell_type": "markdown",
   "id": "c8bf7004-4829-4037-9b71-6707bde4ca7f",
   "metadata": {},
   "source": [
    "## 1. (20 pts) Determine the operating region for you system."
   ]
  },
  {
   "cell_type": "markdown",
   "id": "a03135dc-65bd-4f4d-bc7f-0ac8eb187cde",
   "metadata": {},
   "source": [
    "Use ``SISOTransferFunctionBuilder`` to plot a staircase of the control input to your system and the measured output.\n",
    "Explain why you chose the operating region you did (i.e., the value ranges of\n",
    "the control input)."
   ]
  },
  {
   "cell_type": "code",
   "execution_count": 10,
   "id": "06d7b945",
   "metadata": {},
   "outputs": [
    {
     "data": {
      "text/plain": [
       "('species_2', 'species_1')"
      ]
     },
     "execution_count": 10,
     "metadata": {},
     "output_type": "execute_result"
    }
   ],
   "source": [
    "# import\n",
    "import controlSBML as ctl\n",
    "\n",
    "# model\n",
    "url = \"https://www.ebi.ac.uk/biomodels/model/download/BIOMD0000000507.2?filename=BIOMD0000000507_url.xml\"\n",
    "BioCSBML = ctl.ControlSBML(url, input_names=['species_2'], output_names=['species_1'])\n",
    "\n",
    "# make builder\n",
    "model_builder = BioCSBML.makeSISOTransferFunctionBuilder()\n",
    "model_builder.input_name, model_builder.output_name"
   ]
  },
  {
   "cell_type": "markdown",
   "id": "e09f0560",
   "metadata": {},
   "source": [
    "### Plotting Function"
   ]
  },
  {
   "cell_type": "code",
   "execution_count": 11,
   "id": "cfcfd3f5",
   "metadata": {},
   "outputs": [],
   "source": [
    "def plotStaircaseResponse(builder, is_plot=True, **kwargs):\n",
    "    \"\"\"\n",
    "    This function circumvents a bug in SISOTransferFunctionBuilder.plotStairCaseResponse.\n",
    "    It has the same arguments and return value as the original function.\n",
    "    \"\"\"\n",
    "    plot_result = builder.plotStaircaseResponse(is_plot=False, **kwargs)\n",
    "    # Plot if requested\n",
    "    if is_plot:\n",
    "        times = np.array(plot_result.time_series.index)/1000\n",
    "        df = pd.DataFrame(plot_result.time_series)\n",
    "        df.index = times\n",
    "        if \"figsize\" in kwargs.keys():\n",
    "            figsize = kwargs[\"figsize\"]\n",
    "        else:\n",
    "            figsize = (10, 10)\n",
    "        legends = list(df.columns)\n",
    "        fig, ax = plt.subplots(1, figsize=figsize)\n",
    "        staircase_column = [c for c in df.columns if \"staircase\" in c][0]\n",
    "        staircase_values = df[staircase_column].values\n",
    "        del df[staircase_column]\n",
    "        ax.plot(df)\n",
    "        ax2 = ax.twinx()\n",
    "        # Plot the staircase\n",
    "        ax2.plot(times, staircase_values, color=\"red\",\n",
    "              linestyle=\"--\")\n",
    "        ax2.set_ylabel(staircase_column, color=\"red\")\n",
    "        ax.legend(df.columns)\n",
    "    #\n",
    "    return plot_result\n",
    "\n",
    "# TESTS\n",
    "if False:\n",
    "    plot_response = plotStaircaseResponse(linear_builder, initial_value=2, final_value=10, num_step=5, figsize=(3,3),\n",
    "                                        legend_crd=(0.5, 1), end_time=100, is_plot=True)\n",
    "    assert(isinstance(plot_response.time_series, ctl.Timeseries))\n",
    "    print(\"OK!\")"
   ]
  },
  {
   "cell_type": "code",
   "execution_count": 12,
   "id": "bf6bccd8",
   "metadata": {},
   "outputs": [
    {
     "data": {
      "text/plain": []
     },
     "execution_count": 12,
     "metadata": {},
     "output_type": "execute_result"
    },
    {
     "data": {
      "image/png": "[encoded data removed]",
      "text/plain": [
       "<Figure size 300x300 with 2 Axes>"
      ]
     },
     "metadata": {},
     "output_type": "display_data"
    }
   ],
   "source": [
    "plotStaircaseResponse(model_builder, initial_value=2, final_value=60, num_step=5, figsize=(3,3),\n",
    "                                    legend_crd=(0.5, 1), end_time=20)"
   ]
  },
  {
   "cell_type": "markdown",
   "id": "4d093f96-b6b9-4891-9d24-832c89c9e5ea",
   "metadata": {},
   "source": [
    "**Comment**\n",
    "1. You may have wanted a longer time period so that the system settles more before the next step in the staircase."
   ]
  },
  {
   "cell_type": "markdown",
   "id": "57bd1fc9",
   "metadata": {},
   "source": [
    "__Answer__: _Chose Final value of 60 because around Approx. 45 the output begins to match the input step function_"
   ]
  },
  {
   "cell_type": "markdown",
   "id": "aeedd90a-fc36-485f-a4c4-4321e50c7113",
   "metadata": {},
   "source": [
    "## 2. (20 pts) Find a tranfser function for your system for the operating region."
   ]
  },
  {
   "cell_type": "markdown",
   "id": "e8509b40-5b91-446a-b6c6-ea1db755bf44",
   "metadata": {},
   "source": [
    "Use ``SISOTransferFunctionBuilder`` to fit a transfer function for your system.\n",
    "Justify that the transfer function fits sufficiently well and does not overfit."
   ]
  },
  {
   "cell_type": "code",
   "execution_count": 13,
   "id": "237f66a6",
   "metadata": {},
   "outputs": [
    {
     "data": {
      "text/plain": [
       "[<matplotlib.lines.Line2D at 0x28e809fd0>,\n",
       " <matplotlib.lines.Line2D at 0x28e81a040>,\n",
       " <matplotlib.lines.Line2D at 0x28e81a070>]"
      ]
     },
     "execution_count": 13,
     "metadata": {},
     "output_type": "execute_result"
    },
    {
     "data": {
      "image/png": "[encoded data removed]",
      "text/plain": [
       "<Figure size 640x480 with 1 Axes>"
      ]
     },
     "metadata": {},
     "output_type": "display_data"
    }
   ],
   "source": [
    "\n",
    "\n",
    "fitter_result = model_builder.fitTransferFunction(4, 6, \n",
    "                                                   final_value=60,\n",
    "                                                   initial_value=2, end_time=50)\n",
    "#ctl.plotOneTS(fitter_result.time_series, figsize=(3,3), legend_crd=(2,1))\n",
    "plt.plot(fitter_result.time_series)"
   ]
  },
  {
   "cell_type": "markdown",
   "id": "bb1bb8bf-803c-4faa-b3e1-486c0cfa9f08",
   "metadata": {},
   "source": [
    "## 3. (10 pts)  Analyze the transfer function."
   ]
  },
  {
   "cell_type": "markdown",
   "id": "525ca441-c730-4120-bc4b-5f688d8d708e",
   "metadata": {},
   "source": [
    "What is the DC gain? What are the poles? What are the implications for control?"
   ]
  },
  {
   "cell_type": "code",
   "execution_count": 14,
   "id": "673d3e2a",
   "metadata": {},
   "outputs": [
    {
     "data": {
      "text/latex": [
       "$$\\frac{0.2492 s^3 + 0.0005092 s^2 - 0.0003893 s + 0.2498}{0.1228 s^5 + 0.1155 s^4 + 0.1121 s^3 + 0.05781 s^2 + 0.1806 s + 0.04699}$$"
      ],
      "text/plain": [
       "TransferFunction(array([ 0.24921598,  0.00050918, -0.00038927,  0.24976234]), array([0.12276974, 0.11546218, 0.11208014, 0.05781315, 0.18055639,\n",
       "       0.0469905 ]))"
      ]
     },
     "execution_count": 14,
     "metadata": {},
     "output_type": "execute_result"
    }
   ],
   "source": [
    "tf = fitter_result.transfer_function\n",
    "tf"
   ]
  },
  {
   "cell_type": "code",
   "execution_count": 15,
   "id": "ab8bf9ad",
   "metadata": {},
   "outputs": [
    {
     "data": {
      "text/plain": [
       "5.315166180140816"
      ]
     },
     "execution_count": 15,
     "metadata": {},
     "output_type": "execute_result"
    }
   ],
   "source": [
    "tf.dcgain()"
   ]
  },
  {
   "cell_type": "code",
   "execution_count": 16,
   "id": "42dc61f6",
   "metadata": {},
   "outputs": [
    {
     "data": {
      "text/plain": [
       "array([-0.8331416 +0.8378522j , -0.8331416 -0.8378522j ,\n",
       "        0.49994462+0.86620713j,  0.49994462-0.86620713j,\n",
       "       -0.27408355+0.j        ])"
      ]
     },
     "execution_count": 16,
     "metadata": {},
     "output_type": "execute_result"
    }
   ],
   "source": [
    "tf.poles()"
   ]
  },
  {
   "cell_type": "code",
   "execution_count": 17,
   "id": "4f5b0f5d",
   "metadata": {},
   "outputs": [
    {
     "data": {
      "text/plain": [
       "164"
      ]
     },
     "execution_count": 17,
     "metadata": {},
     "output_type": "execute_result"
    }
   ],
   "source": [
    "fitter_result.nfev #implication for control?"
   ]
  }
 ],
 "metadata": {
  "kernelspec": {
   "display_name": "Python 3 (ipykernel)",
   "language": "python",
   "name": "python3"
  },
  "language_info": {
   "codemirror_mode": {
    "name": "ipython",
    "version": 3
   },
   "file_extension": ".py",
   "mimetype": "text/x-python",
   "name": "python",
   "nbconvert_exporter": "python",
   "pygments_lexer": "ipython3",
   "version": "3.9.6"
  },
  "toc-autonumbering": false,
  "toc-showcode": false,
  "toc-showtags": true
 },
 "nbformat": 4,
 "nbformat_minor": 5
}
