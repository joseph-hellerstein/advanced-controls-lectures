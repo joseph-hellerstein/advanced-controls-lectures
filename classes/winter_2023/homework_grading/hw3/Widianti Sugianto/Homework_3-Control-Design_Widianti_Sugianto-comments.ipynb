{
 "cells": [
  {
   "cell_type": "markdown",
   "id": "f4b68832",
   "metadata": {},
   "source": [
    "# HOMEWORK 3 - CONTROL DESIGN"
   ]
  },
  {
   "cell_type": "markdown",
   "id": "e6915654-06bb-4707-b3a0-a81c2f1a329f",
   "metadata": {},
   "source": [
    "**Comments: 98/100**\n",
    "1. 2 pts off because notebook didn't run as-is. See below. Otherwise, looks good."
   ]
  },
  {
   "cell_type": "markdown",
   "id": "45150001",
   "metadata": {},
   "source": [
    "In this homework, you will do a complete narrative for control design for your system.\n",
    "You can use the notebook for lecture 15 (Workflow for control design) as a guide to what is expected."
   ]
  },
  {
   "cell_type": "markdown",
   "id": "6338ae15",
   "metadata": {},
   "source": [
    "# Preliminaries"
   ]
  },
  {
   "cell_type": "code",
   "execution_count": 1,
   "id": "6a797d7e",
   "metadata": {},
   "outputs": [],
   "source": [
    "import collections\n",
    "import control\n",
    "import controlSBML as ctl\n",
    "import lmfit\n",
    "import numpy as np\n",
    "import pandas as pd\n",
    "import matplotlib.pyplot as plt\n",
    "import sympy\n",
    "import tellurium as te"
   ]
  },
  {
   "cell_type": "markdown",
   "id": "413f6207",
   "metadata": {},
   "source": [
    "# Helpers"
   ]
  },
  {
   "cell_type": "code",
   "execution_count": 2,
   "id": "079aaf9a",
   "metadata": {},
   "outputs": [],
   "source": [
    "TIMES = np.linspace(0, 10, 100)"
   ]
  },
  {
   "cell_type": "code",
   "execution_count": 3,
   "id": "a1074c94",
   "metadata": {},
   "outputs": [],
   "source": [
    "TEST_MODEL = \"\"\"\n",
    "species S1, S2, S3\n",
    "\n",
    "S1 -> S2; k1*S1\n",
    "S2 -> S3; k2*S2\n",
    "\n",
    "S1 = 10\n",
    "S2 = 0\n",
    "S3 = 0\n",
    "k1 = 1\n",
    "k2 =2\n",
    "\"\"\"\n",
    "TEST_CTLSB = ctl.ControlSBML(TEST_MODEL, input_names=[\"S1\"], output_names=[\"S3\"])\n",
    "TEST_SYS = TEST_CTLSB.makeNonlinearIOSystem(\"TEST_SYS\")"
   ]
  },
  {
   "cell_type": "code",
   "execution_count": 4,
   "id": "f37b6d81",
   "metadata": {},
   "outputs": [],
   "source": [
    "class PlotResult(object):\n",
    "    def __init__(self, times = None, y_arr=None, ax=None):\n",
    "        self.times = times\n",
    "        self.y_arr = y_arr\n",
    "        self.ax = ax\n",
    "        \n",
    "    def __repr__(self):\n",
    "        return \"\""
   ]
  },
  {
   "cell_type": "code",
   "execution_count": 5,
   "id": "f9625afd",
   "metadata": {},
   "outputs": [],
   "source": [
    "# This class captures the results of a designing a closed loop system\n",
    "class DesignResult(object):\n",
    "    def __init__(self, grm=None, gnm=None, params=None, det=None):\n",
    "        \"\"\"\n",
    "        Parameters\n",
    "        ----------\n",
    "        grm: control.TransferFunction\n",
    "        gnm: control.TransferFunction\n",
    "        params: lmfit.Parameters\n",
    "        det: lmfit.MinimizerResult\n",
    "        \n",
    "        \"\"\"\n",
    "        self.grm = grm\n",
    "        self.gnm = gnm\n",
    "        self.params = params\n",
    "        self.det = det\n",
    "        \n",
    "    def __repr__(self):\n",
    "        return \"\""
   ]
  },
  {
   "cell_type": "markdown",
   "id": "d37d38e7",
   "metadata": {},
   "source": [
    "## ``plotSys``"
   ]
  },
  {
   "cell_type": "code",
   "execution_count": 6,
   "id": "1143aa1e",
   "metadata": {},
   "outputs": [
    {
     "name": "stdout",
     "output_type": "stream",
     "text": [
      "OK!\n"
     ]
    }
   ],
   "source": [
    "def plotSys(sys, times=None, initial_values=None, forced_input=None,\n",
    "            title=\"\", ax=None, output_labels=None, figsize=None,\n",
    "            ylim=None, is_legend=True, is_plot=True):\n",
    "    \"\"\"\n",
    "    Plots the system, either a NonlinearIOSystem or a TransferFunction.\n",
    "    \n",
    "    Parameters\n",
    "    ----------\n",
    "    sys: NonlinearIOSystem or TransferFunction\n",
    "    times: list-float (times for simulation)\n",
    "    initial_values: list-float\n",
    "    forced_input: list-float (default is step)\n",
    "    figsize: (int, int)\n",
    "    ax: matplotlib.Axes\n",
    "    output_labels: list-str (names for output labels)\n",
    "    title: str (plot title)\n",
    "    is_legend: bool (include legend)\n",
    "    \n",
    "    Returns\n",
    "    -------\n",
    "    PlotResut\n",
    "    \"\"\"\n",
    "    if \"TransferFunction\" in str(type(sys)):\n",
    "        is_nonlinear = False\n",
    "    else:\n",
    "        is_nonlinear = True\n",
    "    if times is None:\n",
    "        times = TIMES\n",
    "    if forced_input is None:\n",
    "        ncol = len(times)\n",
    "        nrow = len(sys.input_labels)\n",
    "        forced_input = np.array([np.repeat(1, nrow) for _ in range(ncol)])\n",
    "        forced_input = np.reshape(forced_input, (nrow, ncol))\n",
    "    if (initial_values is None) and is_nonlinear:\n",
    "        initial_values = ctl.makeStateVector(sys)\n",
    "    if figsize is None:\n",
    "        figsize = (5, 5)\n",
    "    if ax is None:\n",
    "        _, ax = plt.subplots(1, figsize=figsize)\n",
    "    if output_labels is None:\n",
    "        if len(sys.output_labels) == 1:\n",
    "            output_labels = [\"y\"]\n",
    "        else:\n",
    "            output_labels = list(sys.output_labels)\n",
    "    # Simulate the system\n",
    "    if is_nonlinear:\n",
    "        t, y = control.input_output_response(sys, times, forced_input, initial_values)\n",
    "    else:\n",
    "        t, y = control.forced_response(sys, T=times, U=forced_input)\n",
    "    # Plot the response\n",
    "    num_output = len(output_labels)\n",
    "    if num_output == 1:\n",
    "        if y.ndim == 1:\n",
    "            plt.plot(t, y)\n",
    "        else:\n",
    "            for idx in range(num_output):\n",
    "                plt.plot(t, y[idx])\n",
    "    else:\n",
    "        for idx in range(num_output):\n",
    "            ax.plot(t, y[idx])\n",
    "    if is_legend:\n",
    "        ax.legend(output_labels)\n",
    "    ax.set_xlabel(\"time\")\n",
    "    ax.set_title(title)\n",
    "    if ylim is not None:\n",
    "        ax.set_ylim(ylim)\n",
    "    if not is_plot:\n",
    "        plt.close()\n",
    "    return PlotResult(times=t, y_arr=y, ax=ax)\n",
    "    \n",
    "# Tests\n",
    "times = T = np.linspace(0, 70, 500)\n",
    "plot_result = plotSys(TEST_SYS, times, is_plot=False)\n",
    "assert(len(plot_result.times) == len(plot_result.y_arr))\n",
    "#\n",
    "numerator = 5\n",
    "tf = control.TransferFunction([numerator], [1])\n",
    "plot_result = plotSys(tf, times, forced_input=1, is_plot=False)\n",
    "assert(len(plot_result.times) == len(plot_result.y_arr))\n",
    "assert(plot_result.y_arr[0] == numerator)\n",
    "print(\"OK!\")"
   ]
  },
  {
   "cell_type": "markdown",
   "id": "8261f12b",
   "metadata": {},
   "source": [
    "## ``makeDerivative``"
   ]
  },
  {
   "cell_type": "code",
   "execution_count": 7,
   "id": "350cc112",
   "metadata": {},
   "outputs": [
    {
     "name": "stdout",
     "output_type": "stream",
     "text": [
      "OK\n"
     ]
    }
   ],
   "source": [
    "def makeDerivative():\n",
    "    \"\"\"\n",
    "    Returns a funtion that calculates derivatives for a signal.\n",
    "    \n",
    "    Returns\n",
    "    -------\n",
    "    Function\n",
    "    \"\"\" \n",
    "    class Last():\n",
    "        def __init__(self, t, u):\n",
    "            self.t = t\n",
    "            self.u = u\n",
    "    #\n",
    "    last = Last(0, 0)\n",
    "    # Calculate derivative of the input\n",
    "    def derivative(t, u):\n",
    "        \"\"\"\n",
    "        Parameters\n",
    "        ----------\n",
    "        t: float\n",
    "        u: float\n",
    "        \n",
    "        Returns\n",
    "        -------\n",
    "        float\n",
    "        \"\"\"\n",
    "        dt = t - last.t\n",
    "        if dt <= 0:\n",
    "            du = 0\n",
    "        else:\n",
    "            du = (u - last.u)/dt\n",
    "        last.t = t\n",
    "        last.u = u\n",
    "        return du\n",
    "    #\n",
    "    return derivative\n",
    "\n",
    "# Tests\n",
    "is_plot = False\n",
    "derivative = makeDerivative()\n",
    "inputs = np.sin(TIMES)\n",
    "outputs = [derivative(t, 1) for t in TIMES]\n",
    "np.allclose(outputs, 0)\n",
    "#\n",
    "derivative = makeDerivative()\n",
    "inputs = np.sin(TIMES)\n",
    "outputs = [derivative(t, i) for t, i in zip(TIMES, inputs)]\n",
    "derivative = makeDerivative()\n",
    "second_inputs = list(outputs)\n",
    "outputs = [derivative(t, i) for t, i in zip(TIMES, second_inputs)]\n",
    "if is_plot:\n",
    "    plt.plot(TIMES, inputs, color=\"black\")\n",
    "    plt.plot(TIMES, outputs, color=\"red\")\n",
    "print(\"OK\")"
   ]
  },
  {
   "cell_type": "markdown",
   "id": "c349192b",
   "metadata": {},
   "source": [
    "## ``makeCLTransferFunctions``"
   ]
  },
  {
   "cell_type": "code",
   "execution_count": 8,
   "id": "4ffda7d8",
   "metadata": {},
   "outputs": [
    {
     "name": "stdout",
     "output_type": "stream",
     "text": [
      "OK!\n"
     ]
    }
   ],
   "source": [
    "# grm: G_RM\n",
    "# gnm: G_NM\n",
    "# gf: Filter\n",
    "# gc: Controller\n",
    "# go: OLS\n",
    "CLTransferFunctions = collections.namedtuple(\"CLTransferFunctions\",\n",
    "      \"grm gnm gc gf go\")\n",
    "def makeCLTransferFunctions(gO_tf, params, is_warnings=True):\n",
    "    \"\"\"\n",
    "    Makes two closed loop transfer functions.\n",
    "        G_RM (s) - transfer function from the reference input to the measurement output\n",
    "        G_NM (s) - transfer function from the noise input to the measurement output\n",
    "    \n",
    "    Parameters\n",
    "    ----------\n",
    "    gO_tf: control.TransferFunction (open loop transfer function)\n",
    "    params:\n",
    "        kP: float (set to 0 if parameter is not present)\n",
    "        kI: float (set to 0 if parameter is not present)\n",
    "        kD: float (set to 0 if parameter is not present)\n",
    "        kF: float (no filter if parameter is absent)\n",
    "        is_warnings: bool (display warnings)\n",
    "    \n",
    "    Returns\n",
    "    -------\n",
    "    CLTransferFunctions\n",
    "    \"\"\"\n",
    "    # Extract the parameters if they are present\n",
    "    if \"kP\" in params.keys():\n",
    "        kP = params[\"kP\"].value\n",
    "    else:\n",
    "        kP = 0\n",
    "    if \"kI\" in params.keys():\n",
    "        kI = params[\"kI\"].value\n",
    "    else:\n",
    "        kI = 0\n",
    "    if \"kD\" in params.keys():\n",
    "        kD = params[\"kD\"]. value\n",
    "    else:\n",
    "        kD = 0\n",
    "    if \"kDD\" in params.keys():\n",
    "        kDD = params[\"kDD\"]. value\n",
    "    else:\n",
    "        kDD = 0\n",
    "    if \"kF\" in params.keys():\n",
    "        kF = params[\"kF\"].value\n",
    "    else:\n",
    "        kF = None\n",
    "    # Construct PI Controller\n",
    "    gC_tf = control.TransferFunction([kP], [1]) \n",
    "    gC_tf = gC_tf + control.TransferFunction([kI], [1, 0])\n",
    "    gC_tf = gC_tf + control.TransferFunction([kD, 0], [1])\n",
    "    gC_tf = gC_tf + control.TransferFunction([kDD, 0, 0], [1])\n",
    "    # Construct Filter\n",
    "    if kF is not None:\n",
    "        gF_tf = control.TransferFunction([kF], [1, kF])\n",
    "    else:\n",
    "        gF_tf = control.TransferFunction([1], [1])\n",
    "    # RM Closed loop Transfer function\n",
    "    gRM_tf = control.feedback(gC_tf*gO_tf, sys2=gF_tf)\n",
    "    # NM Closed loop Transfer function\n",
    "    gNM_tf = control.feedback(1, sys2=gC_tf*gO_tf*gF_tf)\n",
    "    # Check for improper transfer functions\n",
    "    for tf_str in [\"gRM_tf\", \"gNM_tf\", \"gC_tf\", \"gF_tf\", \"gO_tf\"]:\n",
    "        tf = eval(tf_str)\n",
    "        num_dim = np.shape(tf.num)[-1]\n",
    "        den_dim = np.shape(tf.den)[-1]\n",
    "        if num_dim > den_dim:\n",
    "            if is_warnings:\n",
    "                print(\"***Warning. %s is an improper transfer function\" % tf_str)\n",
    "    #\n",
    "    return CLTransferFunctions(grm=gRM_tf, gnm=gNM_tf, gc=gC_tf, gf=gF_tf, go=gO_tf)\n",
    "\n",
    "# This test generates several warnings\n",
    "is_plot = False\n",
    "tf = control.TransferFunction([1], [1, 1])\n",
    "params = lmfit.Parameters()\n",
    "params.add(\"kP\", value=1)\n",
    "params.add(\"kI\", value=1)\n",
    "params.add(\"kD\", value=1)\n",
    "params.add(\"kDD\", value=1)\n",
    "cltf = makeCLTransferFunctions(tf, params, is_warnings=is_plot)\n",
    "assert(isinstance(cltf.grm, control.TransferFunction))\n",
    "assert(isinstance(cltf.gnm, control.TransferFunction))\n",
    "assert(isinstance(cltf.gc, control.TransferFunction))\n",
    "dummy_tf = cltf.gc*control.TransferFunction([1], [1, 1, 1]) # Ensure proper Transfer function\n",
    "_ = plotSys(dummy_tf, forced_input=1, is_plot=is_plot)\n",
    "plot_response = plotSys(cltf.grm, is_plot=is_plot)\n",
    "plot_response = plotSys(cltf.gnm, is_plot=is_plot)\n",
    "# \n",
    "params.add(\"kF\", value=1)\n",
    "cltf = makeCLTransferFunctions(tf, params, is_warnings=is_plot)\n",
    "assert(isinstance(cltf.grm, control.TransferFunction))\n",
    "assert(isinstance(cltf.gnm, control.TransferFunction))\n",
    "assert(isinstance(cltf.gc, control.TransferFunction))\n",
    "print(\"OK!\")"
   ]
  },
  {
   "cell_type": "markdown",
   "id": "91346260",
   "metadata": {},
   "source": [
    "## ``designClosedLoop``"
   ]
  },
  {
   "cell_type": "code",
   "execution_count": 9,
   "id": "6d13b094",
   "metadata": {},
   "outputs": [
    {
     "name": "stdout",
     "output_type": "stream",
     "text": [
      "OK!\n"
     ]
    },
    {
     "data": {
      "image/png": "[encoded data removed]",
      "text/plain": [
       "<Figure size 500x500 with 1 Axes>"
      ]
     },
     "metadata": {},
     "output_type": "display_data"
    }
   ],
   "source": [
    "def designClosedLoop(open_loop_tf, is_kP=True, is_kI=True, is_kD=True, is_kDD=False,\n",
    "                     is_kF=True, amp=1, times=TIMES, kmax=1e4, is_warnings=True):\n",
    "    \"\"\"\n",
    "    Finds parameters for the closed loop system that eliminate noise and have a good step response.\n",
    "    By default the closed loop system has a PID controller and a filter. By changing is_<k>,\n",
    "    you can select variations in the design.\n",
    "    \n",
    "    Paramters\n",
    "    ---------\n",
    "    open_loop_tf: control.TransferFunction (OLS transfer function)\n",
    "    is_<k>: bool (include the design element)\n",
    "    amp: 0 <=float  (amplitude of the sine wave used to evaluate noise response)\n",
    "    times: array-float\n",
    "    kmax: float (maximum value of a constant)\n",
    "    \n",
    "    Returns\n",
    "    -------\n",
    "    DesignResult\n",
    "    \"\"\"\n",
    "    NOISE_FREQ = 20*2*np.pi\n",
    "    step_inputs = np.repeat(1, len(times))\n",
    "    ideal_step_outputs = step_inputs\n",
    "    noise_inputs = amp*np.sin(NOISE_FREQ*times) # Sinusoid input\n",
    "    ideal_noise_outputs = np.repeat(0, len(times))\n",
    "    def calculateDesignResiduals(params):\n",
    "        \"\"\"\n",
    "        Calculates the residuals with an ideal step response.\n",
    "\n",
    "        Parameters\n",
    "        ----------\n",
    "        params: lmfit.Parameters\n",
    "\n",
    "        Returns\n",
    "        -------\n",
    "        array-float\n",
    "        \"\"\"\n",
    "        cltf = makeCLTransferFunctions(open_loop_tf, params, is_warnings=is_warnings)\n",
    "        gRM_tf, gNM_tf = (cltf.grm, cltf.gnm)\n",
    "        # Calculate residuals for a step response\n",
    "        _, step_est = control.forced_response(gRM_tf, T=times, U=1)\n",
    "        step_residuals = ideal_step_outputs - step_est\n",
    "        # Calculate residuals for a sinusoidal noise input\n",
    "        _, sinusoid_est = control.forced_response(gNM_tf, T=times, U=noise_inputs)\n",
    "        sinusoid_residuals = ideal_noise_outputs - sinusoid_est\n",
    "        #\n",
    "        return step_residuals + sinusoid_residuals\n",
    "    # \n",
    "    params = lmfit.Parameters()\n",
    "    if is_kP:\n",
    "        params.add(\"kP\", value=1, min=0, max=kmax)\n",
    "    if is_kI:\n",
    "        params.add(\"kI\", value=1, min=0, max=kmax)\n",
    "    if is_kD:\n",
    "        params.add(\"kD\", value=1, min=0, max=kmax)\n",
    "    if is_kDD:\n",
    "        params.add(\"kDD\", value=1, min=0, max=kmax)\n",
    "    if is_kF:\n",
    "        params.add(\"kF\", value=1, min=0, max=kmax)\n",
    "    minimizer_result = lmfit.minimize(calculateDesignResiduals, params)\n",
    "    new_params = minimizer_result.params\n",
    "    #\n",
    "    cltf = makeCLTransferFunctions(gO_tf, new_params, is_warnings=is_warnings)\n",
    "    gRM_tf, gNM_tf = (cltf.grm, cltf.gnm)\n",
    "    design_result = DesignResult(grm=gRM_tf, gnm=gNM_tf, params=new_params, det=minimizer_result)\n",
    "    return design_result\n",
    "\n",
    "# Tests\n",
    "is_plot = True\n",
    "gO_tf = control.TransferFunction([1], [1, 1, 1])\n",
    "design_result = designClosedLoop(gO_tf, kmax=1e10, amp=10, is_kD=True, is_kDD=False, is_warnings=False)\n",
    "times = np.linspace(0, 10, 100)\n",
    "noise_inputs = np.sin(20*2*np.pi*times) # Sinusoid i\n",
    "plotSys(design_result.gnm, times=times, ylim=[-1, 1],\n",
    "                                          forced_input=noise_inputs, is_plot=is_plot)\n",
    "assert(isinstance(design_result.grm, control.TransferFunction))\n",
    "print(\"OK!\")"
   ]
  },
  {
   "cell_type": "code",
   "execution_count": 10,
   "id": "4b58a9ab",
   "metadata": {},
   "outputs": [
    {
     "data": {
      "text/html": [
       "<table><tr><th> name </th><th> value </th><th> standard error </th><th> relative error </th><th> initial value </th><th> min </th><th> max </th><th> vary </th></tr><tr><td> kP </td><td>  3885582.38 </td><td>  1.4747e+10 </td><td> (379534.18%) </td><td> 1 </td><td>  0.00000000 </td><td>  1.0000e+10 </td><td> True </td></tr><tr><td> kI </td><td>  48.5936580 </td><td>  6.7743e+09 </td><td> (13940757744.75%) </td><td> 1 </td><td>  0.00000000 </td><td>  1.0000e+10 </td><td> True </td></tr><tr><td> kD </td><td>  20452.3670 </td><td>  1.2348e+10 </td><td> (60372287.14%) </td><td> 1 </td><td>  0.00000000 </td><td>  1.0000e+10 </td><td> True </td></tr><tr><td> kF </td><td>  289049.001 </td><td>  8.7851e+12 </td><td> (3039326889.35%) </td><td> 1 </td><td>  0.00000000 </td><td>  1.0000e+10 </td><td> True </td></tr></table>"
      ],
      "text/plain": [
       "Parameters([('kP', <Parameter 'kP', value=3885582.3810873823 +/- 1.47e+10, bounds=[0:10000000000.0]>), ('kI', <Parameter 'kI', value=48.59365798637327 +/- 6.77e+09, bounds=[0:10000000000.0]>), ('kD', <Parameter 'kD', value=20452.367001100312 +/- 1.23e+10, bounds=[0:10000000000.0]>), ('kF', <Parameter 'kF', value=289049.00143011945 +/- 8.79e+12, bounds=[0:10000000000.0]>)])"
      ]
     },
     "execution_count": 10,
     "metadata": {},
     "output_type": "execute_result"
    }
   ],
   "source": [
    "design_result.params"
   ]
  },
  {
   "cell_type": "markdown",
   "id": "ce1617a7",
   "metadata": {},
   "source": [
    "## ``plotDesignResult``"
   ]
  },
  {
   "cell_type": "code",
   "execution_count": 11,
   "id": "6d7e01c4",
   "metadata": {},
   "outputs": [
    {
     "name": "stdout",
     "output_type": "stream",
     "text": [
      "OK!\n"
     ]
    }
   ],
   "source": [
    "# Plots of the transfer functions\n",
    "def plotDesignResult(design_result, ax=None, end_time=50, title=\"\", is_plot=True, **kwargs):\n",
    "    \"\"\"\n",
    "    Plots a DesignResult.\n",
    "    \n",
    "    Parameters\n",
    "    ----------\n",
    "    design_result: DesignResult\n",
    "    ax: Matplotlib.Axes\n",
    "    end_time: float\n",
    "    is_plot: bool\n",
    "    kwargs: dict (other plotting options)\n",
    "    \"\"\"\n",
    "    if ax is None:\n",
    "        if \"figsize\" in kwargs.keys():\n",
    "            figsize = kwargs[\"figsize\"]\n",
    "        else:\n",
    "            figsize = (3, 3)\n",
    "        _, ax = plt.subplots(1, figsize=figsize)\n",
    "    times = np.linspace(0, end_time, 2000)\n",
    "    plot_result1 = plotSys(design_result.grm, forced_input=1, times=times, ax=ax,\n",
    "                         is_legend=False)\n",
    "    plot_result2 = plotSys(design_result.gnm, forced_input=np.sin(5*times), times=times, \n",
    "            is_legend=False, ax=ax)\n",
    "    if \"ylim\" in kwargs.keys():\n",
    "        ylim = kwargs[\"ylim\"]\n",
    "    else:\n",
    "        ylim = ax.set_ylim()\n",
    "    xpos = end_time*1.1\n",
    "    yspan = ylim[1] - ylim[0]\n",
    "    ypos1 = ylim[1] - 0.1*yspan\n",
    "    ypos2 = ypos1 - 0.2*yspan\n",
    "    ax.text(xpos, ypos1, \"G_RM\", c=\"blue\")\n",
    "    ax.text(xpos, ypos2, \"G_NM\", c=\"orange\")\n",
    "    ax.set_ylim(ylim)\n",
    "    ax.set_title(title)\n",
    "    if not is_plot:\n",
    "        plt.close()\n",
    " \n",
    "# Tests\n",
    "plotDesignResult(design_result, kmax=1, figsize= (2,2), is_plot=False, end_time=5)\n",
    "print(\"OK!\")"
   ]
  },
  {
   "cell_type": "markdown",
   "id": "dec119e5",
   "metadata": {},
   "source": [
    "## ``plotStaircaseResponse``"
   ]
  },
  {
   "cell_type": "code",
   "execution_count": 12,
   "id": "9b2d0668",
   "metadata": {},
   "outputs": [
    {
     "ename": "NameError",
     "evalue": "name 'LINEAR_BLDR' is not defined",
     "output_type": "error",
     "traceback": [
      "\u001b[0;31m---------------------------------------------------------------------------\u001b[0m",
      "\u001b[0;31mNameError\u001b[0m                                 Traceback (most recent call last)",
      "Cell \u001b[0;32mIn [12], line 32\u001b[0m\n\u001b[1;32m     29\u001b[0m     \u001b[38;5;28;01mreturn\u001b[39;00m plot_result\n\u001b[1;32m     31\u001b[0m \u001b[38;5;66;03m# TESTS\u001b[39;00m\n\u001b[0;32m---> 32\u001b[0m plot_response \u001b[38;5;241m=\u001b[39m plotStaircaseResponse(\u001b[43mLINEAR_BLDR\u001b[49m, initial_value\u001b[38;5;241m=\u001b[39m\u001b[38;5;241m2\u001b[39m, final_value\u001b[38;5;241m=\u001b[39m\u001b[38;5;241m10\u001b[39m, num_step\u001b[38;5;241m=\u001b[39m\u001b[38;5;241m5\u001b[39m, figsize\u001b[38;5;241m=\u001b[39m(\u001b[38;5;241m3\u001b[39m,\u001b[38;5;241m3\u001b[39m),\n\u001b[1;32m     33\u001b[0m                                     legend_crd\u001b[38;5;241m=\u001b[39m(\u001b[38;5;241m0.5\u001b[39m, \u001b[38;5;241m1\u001b[39m), end_time\u001b[38;5;241m=\u001b[39m\u001b[38;5;241m100\u001b[39m, is_plot\u001b[38;5;241m=\u001b[39m\u001b[38;5;28;01mFalse\u001b[39;00m)\n\u001b[1;32m     34\u001b[0m \u001b[38;5;28;01massert\u001b[39;00m(\u001b[38;5;28misinstance\u001b[39m(plot_response\u001b[38;5;241m.\u001b[39mtime_series, ctl\u001b[38;5;241m.\u001b[39mTimeseries))\n\u001b[1;32m     35\u001b[0m \u001b[38;5;28mprint\u001b[39m(\u001b[38;5;124m\"\u001b[39m\u001b[38;5;124mOK!\u001b[39m\u001b[38;5;124m\"\u001b[39m)\n",
      "\u001b[0;31mNameError\u001b[0m: name 'LINEAR_BLDR' is not defined"
     ]
    }
   ],
   "source": [
    "def plotStaircaseResponse(builder, is_plot=True, **kwargs):\n",
    "    \"\"\"\n",
    "    This function circumvents a bug in SISOTransferFunctionBuilder.plotStairCaseResponse.\n",
    "    It has the same arguments and return value as the original function.\n",
    "    \"\"\"\n",
    "    plot_result = builder.plotStaircaseResponse(is_plot=False, **kwargs)\n",
    "    # Plot if requested\n",
    "    if is_plot:\n",
    "        times = np.array(plot_result.time_series.index)/1000\n",
    "        df = pd.DataFrame(plot_result.time_series)\n",
    "        df.index = times\n",
    "        if \"figsize\" in kwargs.keys():\n",
    "            figsize = kwargs[\"figsize\"]\n",
    "        else:\n",
    "            figsize = (10, 10)\n",
    "        legends = list(df.columns)\n",
    "        fig, ax = plt.subplots(1, figsize=figsize)\n",
    "        staircase_column = [c for c in df.columns if \"staircase\" in c][0]\n",
    "        staircase_values = df[staircase_column].values\n",
    "        del df[staircase_column]\n",
    "        ax.plot(df)\n",
    "        ax2 = ax.twinx()\n",
    "        # Plot the staircase\n",
    "        ax2.plot(times, staircase_values, color=\"red\",\n",
    "              linestyle=\"--\")\n",
    "        ax2.set_ylabel(staircase_column, color=\"red\")\n",
    "        ax.legend(df.columns)\n",
    "    #\n",
    "    return plot_result\n",
    "\n",
    "# TESTS\n",
    "plot_response = plotStaircaseResponse(LINEAR_BLDR, initial_value=2, final_value=10, num_step=5, figsize=(3,3),\n",
    "                                    legend_crd=(0.5, 1), end_time=100, is_plot=False)\n",
    "assert(isinstance(plot_response.time_series, ctl.Timeseries))\n",
    "print(\"OK!\")"
   ]
  },
  {
   "cell_type": "markdown",
   "id": "7545ccaf-c685-4c17-b012-d503ec4177f2",
   "metadata": {},
   "source": [
    "**Comment**\n",
    "1. The notebook failed because you had an unefined symbol. (-2 pts)"
   ]
  },
  {
   "cell_type": "markdown",
   "id": "e8a31cd8",
   "metadata": {},
   "source": [
    "## ``makePIController``"
   ]
  },
  {
   "cell_type": "code",
   "execution_count": 13,
   "id": "576b3801",
   "metadata": {},
   "outputs": [
    {
     "name": "stdout",
     "output_type": "stream",
     "text": [
      "OK\n"
     ]
    }
   ],
   "source": [
    "def makePIController(kP=20, kI=10):\n",
    "    \"\"\"\n",
    "    Makes a PI controller with control error as input\n",
    "    \n",
    "    Parameters\n",
    "    ----------\n",
    "    kP: float\n",
    "    kI: float\n",
    "    \n",
    "    Returns\n",
    "    -------\n",
    "    NonlinearIOSystem\n",
    "    \"\"\"\n",
    "    # Calculate derivative of state\n",
    "    def updfcn(t, x, u, _):\n",
    "        # Accumulate the control error\n",
    "        # t: float (time)\n",
    "        # x: array-float (state)\n",
    "        # u: array-float (control error)\n",
    "        # returns: array-float (derivative of state)\n",
    "        return u[0]\n",
    "\n",
    "    # Calculate output value\n",
    "    def outfcn(t, x, u, _):\n",
    "        # Calculate the output from the input\n",
    "        # t: float (time)\n",
    "        # x: array-float (state)\n",
    "        # u: array-float (inputs)\n",
    "        # returns: array (output)\n",
    "        output = kI*x[0] + kP*u[0]\n",
    "        return output\n",
    "\n",
    "    controller = control.NonlinearIOSystem(\n",
    "      updfcn,\n",
    "      outfcn,\n",
    "      states=1,\n",
    "      inputs=['in'],\n",
    "      outputs=['out'], name='controller_sys')\n",
    "    return controller\n",
    "\n",
    "# Tests\n",
    "kP = 10\n",
    "kI = 20\n",
    "controller_sys = makePIController(kP=kP, kI=kI)\n",
    "assert(\"NonlinearIOSystem\" in str(type(controller_sys)))\n",
    "plot_result = plotSys(controller_sys, forced_input=[1], is_plot=False)\n",
    "data = plot_result.y_arr\n",
    "assert(data[0] == kP)\n",
    "assert(np.isclose(data[-1], kP + plot_result.times[-1]*kI))\n",
    "print(\"OK\")"
   ]
  },
  {
   "cell_type": "markdown",
   "id": "5fbe09c8",
   "metadata": {},
   "source": [
    "## ``makePIDController``"
   ]
  },
  {
   "cell_type": "code",
   "execution_count": 14,
   "id": "7ea06e33",
   "metadata": {},
   "outputs": [
    {
     "name": "stdout",
     "output_type": "stream",
     "text": [
      "OK\n"
     ]
    }
   ],
   "source": [
    "def makePIDController(kP=20, kI=10, kD=0, kDD=0):\n",
    "    \"\"\"\n",
    "    Makes a PI controller with control error as input\n",
    "    \n",
    "    Parameters\n",
    "    ----------\n",
    "    kP: float\n",
    "    kI: float\n",
    "    kD: float\n",
    "    kDD: float (coefficient for second derivative of input)\n",
    "    \n",
    "    Returns\n",
    "    -------\n",
    "    NonlinearIOSystem\n",
    "    \"\"\"\n",
    "    derivative1 = makeDerivative()\n",
    "    derivative2 = makeDerivative()\n",
    "    # Calculate derivative of state\n",
    "    def updfcn(t, x, u, _):\n",
    "        # Accumulate the control error\n",
    "        # t: float (time)\n",
    "        # x: array-float (sum of input, last input)\n",
    "        # u: array-float (control error)\n",
    "        # returns: array-float (derivative of state)\n",
    "        return u[0]\n",
    "\n",
    "    # Calculate output value\n",
    "    def outfcn(t, x, u, _):\n",
    "        # Calculate the output from the input\n",
    "        # t: float (time)\n",
    "        # x: array-float (state)\n",
    "        # u: array-float (inputs)\n",
    "        # returns: array (output)\n",
    "        du = derivative1(t, u[0])\n",
    "        ddu = derivative2(t, du)\n",
    "        output = kP*u[0] + kI*x[0] + kD*du + kDD*ddu\n",
    "        return output\n",
    "\n",
    "    controller = control.NonlinearIOSystem(\n",
    "      updfcn,\n",
    "      outfcn,\n",
    "      states=1,\n",
    "      inputs=['in'],\n",
    "      outputs=['out'], name='controller_sys')\n",
    "    return controller\n",
    "\n",
    "# Tests\n",
    "is_plot = False\n",
    "kP = 10\n",
    "kI = 20\n",
    "kD = 100\n",
    "controller_sys = makePIDController(kP=kP, kI=kI, kD=0)\n",
    "assert(\"NonlinearIOSystem\" in str(type(controller_sys)))\n",
    "plot_result = plotSys(controller_sys, forced_input=[1], is_plot=is_plot)\n",
    "data = plot_result.y_arr\n",
    "assert(data[0] == kP)\n",
    "assert(np.isclose(data[-1], kP + plot_result.times[-1]*kI))\n",
    "#\n",
    "controller_sys = makePIDController(kP=kP, kI=kI, kD=kD, kDD=10)\n",
    "inputs = np.sin(TIMES)\n",
    "plot_result = plotSys(controller_sys, forced_input=inputs, is_plot=is_plot)\n",
    "\n",
    "print(\"OK\")"
   ]
  },
  {
   "cell_type": "markdown",
   "id": "dc149854",
   "metadata": {},
   "source": [
    "## ``makeFilter``"
   ]
  },
  {
   "cell_type": "code",
   "execution_count": 15,
   "id": "705a434f",
   "metadata": {},
   "outputs": [
    {
     "name": "stdout",
     "output_type": "stream",
     "text": [
      "OK\n"
     ]
    }
   ],
   "source": [
    "def makeFilter(system_name=\"filter_sys\", kF=1):\n",
    "    \"\"\"\n",
    "    Makes a filter.\n",
    "    \n",
    "    Parameters\n",
    "    ----------\n",
    "    system_name: str\n",
    "    kF: float\n",
    "    \n",
    "    Returns\n",
    "    -------\n",
    "    NonlinearIOSystem\n",
    "    \"\"\"\n",
    "    # Calculate derivative of state\n",
    "    def updfcn(t, x, u, _):\n",
    "        # Accumulate the control error\n",
    "        # t: float (time)\n",
    "        # x: array-float (state, averaged signal)\n",
    "        # u: array-float (control error)\n",
    "        # returns: array-float (derivative of state)\n",
    "        dy = kF*u[0] - kF*x[0]\n",
    "        return dy\n",
    "\n",
    "    # Calculate output value\n",
    "    def outfcn(t, x, u, _):\n",
    "        # Calculate the output from the input\n",
    "        # t: float (time)\n",
    "        # x: array-float (state)\n",
    "        # u: array-float (inputs)\n",
    "        # returns: array (output)\n",
    "        return x[0]\n",
    "\n",
    "    filter_sys = control.NonlinearIOSystem(\n",
    "      updfcn,\n",
    "      outfcn,\n",
    "      states=1,\n",
    "      inputs=['in'],\n",
    "      outputs=['out'], name=system_name)\n",
    "    return filter_sys\n",
    "\n",
    "# Tests\n",
    "kF = 1\n",
    "filter_sys = makeFilter(kF=kF)\n",
    "assert(\"NonlinearIOSystem\" in str(type(filter_sys)))\n",
    "plot_result = plotSys(filter_sys, forced_input=[1], times=np.linspace(0, 100, 1000), is_plot=False)\n",
    "data = plot_result.y_arr\n",
    "assert(np.abs(data[-1] - 1) < 0.01)\n",
    "print(\"OK\")"
   ]
  },
  {
   "cell_type": "markdown",
   "id": "261bb6e8",
   "metadata": {},
   "source": [
    "## ``makeSinusoid``"
   ]
  },
  {
   "cell_type": "code",
   "execution_count": 16,
   "id": "95ee3a09",
   "metadata": {},
   "outputs": [
    {
     "name": "stdout",
     "output_type": "stream",
     "text": [
      "OK\n"
     ]
    }
   ],
   "source": [
    "def makeSinusoid(system_name=\"sinusoid_sys\", amplitude=1, frequency=20):\n",
    "    \"\"\"\n",
    "    Makes a sinusoidal signal, the only output.\n",
    "    \n",
    "    Parameters\n",
    "    ----------\n",
    "    system_name: str\n",
    "    amplitude: float (amplitude of the sinusoid)\n",
    "    frequency: float (frequencay of the sinusoid)\n",
    "    \n",
    "    Returns\n",
    "    -------\n",
    "    NonlinearIOSystem\n",
    "    \"\"\"\n",
    "    # Calculate output value\n",
    "    def outfcn(t, x, u, _):\n",
    "        # Calculate the output from the input\n",
    "        # t: float (time)\n",
    "        # x: array-float (state)\n",
    "        # u: array-float (inputs)\n",
    "        # returns: array (output)\n",
    "        return amplitude*np.sin(t*2*np.pi*frequency)\n",
    "\n",
    "    sinusoid_sys = control.NonlinearIOSystem(\n",
    "      None,\n",
    "      outfcn,\n",
    "      inputs=0,\n",
    "      outputs=['out'],\n",
    "      name=system_name)\n",
    "    return sinusoid_sys\n",
    "\n",
    "# Tests\n",
    "sinusoid_sys = makeSinusoid(amplitude=10)\n",
    "assert(\"NonlinearIOSystem\" in str(type(sinusoid_sys)))\n",
    "plot_result = plotSys(sinusoid_sys, forced_input=1, times=np.linspace(0, 10, 1000), is_plot=False)\n",
    "count = len([v for v in plot_result.y_arr[0] if v >= 0.999])\n",
    "assert(count > 1)\n",
    "print(\"OK\")"
   ]
  },
  {
   "cell_type": "markdown",
   "id": "c876acfc",
   "metadata": {},
   "source": [
    "## ``makeAdder``"
   ]
  },
  {
   "cell_type": "code",
   "execution_count": 17,
   "id": "b14dafd9",
   "metadata": {},
   "outputs": [
    {
     "name": "stdout",
     "output_type": "stream",
     "text": [
      "OK\n"
     ]
    }
   ],
   "source": [
    "def makeAdder(input_names, output_name=\"out\", system_name=\"adder_sys\"):\n",
    "    \"\"\"\n",
    "    Creates a NonlinearIOSystem that does addition\n",
    "    of the inputs. Any name that begins wit a \"-\" is subtracted.\n",
    "    \n",
    "    Parameters\n",
    "    ----------\n",
    "    input_nmames: list-str\n",
    "    output_name: str\n",
    "    system_name: str\n",
    "    \n",
    "    Returns\n",
    "    -------\n",
    "    NonlinearIOSystem\n",
    "    \"\"\"\n",
    "    adjustments = []\n",
    "    adjusted_input_names = []\n",
    "    def outfcn(_, __, u, ___):\n",
    "        # Calculate the output from the input\n",
    "        # t: float (time)\n",
    "        # x: array-float (state)\n",
    "        # u: array-float (inputs)\n",
    "        # returns: array (output)\n",
    "        return adjustments.dot(u)\n",
    "    #\n",
    "    for name in input_names:\n",
    "        if name[0] == \"-\":\n",
    "            value = -1\n",
    "            new_name = name[1:]\n",
    "        else:\n",
    "            value = 1\n",
    "            new_name = name\n",
    "        adjustments.append(value)\n",
    "        adjusted_input_names.append(new_name)\n",
    "    adjustments = np.array(adjustments)\n",
    "    #\n",
    "    return control.NonlinearIOSystem(\n",
    "          None,\n",
    "          outfcn,\n",
    "          inputs=adjusted_input_names,\n",
    "          outputs=output_name, name=system_name)\n",
    "\n",
    "# Tests\n",
    "adder_sys = makeAdder([\"a\", \"-b\", \"c\"])\n",
    "assert(\"NonlinearIOSystem\" in str(type(adder_sys)))\n",
    "# Simulate to verify \n",
    "plot_result = plotSys(adder_sys, forced_input=[3, 2, 4], is_plot=False)\n",
    "data = plot_result.y_arr\n",
    "assert(np.var(data[0]) == 0)\n",
    "assert(data[0][0] == 5)\n",
    "print(\"OK\")"
   ]
  },
  {
   "cell_type": "markdown",
   "id": "d7a67bcf",
   "metadata": {},
   "source": [
    "## ``makeClosedLoopSystem``"
   ]
  },
  {
   "cell_type": "code",
   "execution_count": 18,
   "id": "7a94bb63",
   "metadata": {},
   "outputs": [
    {
     "name": "stdout",
     "output_type": "stream",
     "text": [
      "OK!\n"
     ]
    }
   ],
   "source": [
    "def makeClosedLoopSystem(ctlsb, kP=1, kI=1, kF=1, kD=0, kDD=0, noise_amplitude=1,\n",
    "                         noise_frequency=20):\n",
    "    \"\"\"\n",
    "    Create a closed loop system with a controller and filter for an SBML model.\n",
    "    \n",
    "    Parameters\n",
    "    ----------\n",
    "    ctlsb: ControlSBML (for open loop system)\n",
    "    kP: float\n",
    "    kI: float\n",
    "    kD: float\n",
    "    kF: float\n",
    "    noise_amplitude: float\n",
    "    noise_frequency: float\n",
    "    \n",
    "    Returns\n",
    "    -------\n",
    "    Interconnect\n",
    "    \"\"\"\n",
    "    # Information for open loop system\n",
    "    if len(ctlsb.input_names) != 1:\n",
    "        raise ValueError(\"Open loop system should have exactly 1 input\")\n",
    "    if len(ctlsb.output_names) != 1:\n",
    "        raise ValueError(\"Open loop system should have exactly 1 output\")\n",
    "    open_sys = ctlsb.makeNonlinearIOSystem(\"open_sys\")\n",
    "    sinusoid_sys = makeSinusoid(system_name=\"sinusoid_sys\",\n",
    "                                amplitude=noise_amplitude, frequency=noise_frequency)\n",
    "    open_input = \"open_sys.%s\" % ctlsb.input_names[0]\n",
    "    open_output = \"open_sys.%s\" % ctlsb.output_names[0]\n",
    "    # Other elements\n",
    "    filter_sys = makeFilter(kF=kF)\n",
    "    controller_sys = makePIDController(kP=kP, kI=kI, kD=kD, kDD=kDD)\n",
    "    differ_sys = makeAdder([\"setpoint\", \"-measurement\"], system_name=\"differ_sys\")\n",
    "    adder_sys = makeAdder([\"noise\", \"open_sys\"], system_name=\"adder_sys\")\n",
    "    closed_sys = control.interconnect(\n",
    "      [adder_sys, sinusoid_sys, open_sys, controller_sys, differ_sys, filter_sys],       # systems\n",
    "      connections=[\n",
    "        ['adder_sys.noise', \"sinusoid_sys.out\"],\n",
    "        ['adder_sys.open_sys', open_output],\n",
    "        ['filter_sys.in', \"adder_sys.out\"],\n",
    "        ['differ_sys.measurement', 'filter_sys.out'],\n",
    "        ['controller_sys.in',  'differ_sys.out'],\n",
    "        [open_input, 'controller_sys.out'],\n",
    "      ],\n",
    "      inplist=[\"differ_sys.setpoint\"],\n",
    "      outlist=[\"adder_sys.out\", \"controller_sys.out\"],\n",
    "    )\n",
    "    return closed_sys\n",
    "\n",
    "# Tests\n",
    "setpoint = 1\n",
    "new_closed_sys = makeClosedLoopSystem(TEST_CTLSB, noise_amplitude=1, kP=1, kI=0.1, kD=0.2, kDD=0.1, kF=1000)\n",
    "assert(\"Interconnect\" in str(type(new_closed_sys)))\n",
    "plot_result = plotSys(new_closed_sys, forced_input=[setpoint], times=np.linspace(0, 30, 100), \n",
    "                      is_plot=False, output_labels=[\"s5\", \"control_input\"])\n",
    "data = plot_result.y_arr\n",
    "assert(data[0][0] == 0)\n",
    "assert(np.abs(setpoint - data[0][-1]) < 0.2)\n",
    "print(\"OK!\")"
   ]
  },
  {
   "cell_type": "markdown",
   "id": "34deb51c",
   "metadata": {},
   "source": [
    "# Step 1. Problem Statement (15 pts)"
   ]
  },
  {
   "cell_type": "markdown",
   "id": "dbd6e54b",
   "metadata": {},
   "source": [
    "## Problem Statement\n",
    "Describe the control problem that you are addressing."
   ]
  },
  {
   "cell_type": "markdown",
   "id": "96ca23fe",
   "metadata": {},
   "source": [
    "**System description:**\n",
    "<br /> Biofilm formation in Bacillus subtilis growing off of glutamate\n",
    "<br /> Cells distributed in 3 layers: periphery (P), middle (M), interior (I) layers.\n",
    "<br /> P has easy access to glutamate (G_E) but losing Ammonia quickly\n",
    "<br /> I consumes leftover glutamate, but less rapid loss of ammonia compared to P\n",
    "<br /> I controls growth of P by manipulating ammonia supply\n",
    "\n",
    "<br /> This results in metabolic oscillations in biofilm of B. subtilis\n",
    "\n",
    "\n",
    "<br /> **Control Problem:**\n",
    "<br /> Want to control Ammonia in inner layer - Ai (output) via Glutamate in the periphery - Gp (input)"
   ]
  },
  {
   "cell_type": "code",
   "execution_count": 19,
   "id": "ccfc42e9",
   "metadata": {
    "scrolled": true
   },
   "outputs": [
    {
     "ename": "FileNotFoundError",
     "evalue": "No such file or directory: 'Bsub_biofilm.png'",
     "output_type": "error",
     "traceback": [
      "\u001b[0;31m---------------------------------------------------------------------------\u001b[0m",
      "\u001b[0;31mTypeError\u001b[0m                                 Traceback (most recent call last)",
      "File \u001b[0;32m~/home/Technical/repos/controlSBML/ctl/lib/python3.9/site-packages/IPython/core/display.py:1045\u001b[0m, in \u001b[0;36mImage._data_and_metadata\u001b[0;34m(self, always_both)\u001b[0m\n\u001b[1;32m   1044\u001b[0m \u001b[38;5;28;01mtry\u001b[39;00m:\n\u001b[0;32m-> 1045\u001b[0m     b64_data \u001b[38;5;241m=\u001b[39m \u001b[43mb2a_base64\u001b[49m\u001b[43m(\u001b[49m\u001b[38;5;28;43mself\u001b[39;49m\u001b[38;5;241;43m.\u001b[39;49m\u001b[43mdata\u001b[49m\u001b[43m)\u001b[49m\u001b[38;5;241m.\u001b[39mdecode(\u001b[38;5;124m'\u001b[39m\u001b[38;5;124mascii\u001b[39m\u001b[38;5;124m'\u001b[39m)\n\u001b[1;32m   1046\u001b[0m \u001b[38;5;28;01mexcept\u001b[39;00m \u001b[38;5;167;01mTypeError\u001b[39;00m \u001b[38;5;28;01mas\u001b[39;00m e:\n",
      "\u001b[0;31mTypeError\u001b[0m: a bytes-like object is required, not 'str'",
      "\nThe above exception was the direct cause of the following exception:\n",
      "\u001b[0;31mFileNotFoundError\u001b[0m                         Traceback (most recent call last)",
      "File \u001b[0;32m~/home/Technical/repos/controlSBML/ctl/lib/python3.9/site-packages/IPython/core/formatters.py:972\u001b[0m, in \u001b[0;36mMimeBundleFormatter.__call__\u001b[0;34m(self, obj, include, exclude)\u001b[0m\n\u001b[1;32m    969\u001b[0m     method \u001b[38;5;241m=\u001b[39m get_real_method(obj, \u001b[38;5;28mself\u001b[39m\u001b[38;5;241m.\u001b[39mprint_method)\n\u001b[1;32m    971\u001b[0m     \u001b[38;5;28;01mif\u001b[39;00m method \u001b[38;5;129;01mis\u001b[39;00m \u001b[38;5;129;01mnot\u001b[39;00m \u001b[38;5;28;01mNone\u001b[39;00m:\n\u001b[0;32m--> 972\u001b[0m         \u001b[38;5;28;01mreturn\u001b[39;00m \u001b[43mmethod\u001b[49m\u001b[43m(\u001b[49m\u001b[43minclude\u001b[49m\u001b[38;5;241;43m=\u001b[39;49m\u001b[43minclude\u001b[49m\u001b[43m,\u001b[49m\u001b[43m \u001b[49m\u001b[43mexclude\u001b[49m\u001b[38;5;241;43m=\u001b[39;49m\u001b[43mexclude\u001b[49m\u001b[43m)\u001b[49m\n\u001b[1;32m    973\u001b[0m     \u001b[38;5;28;01mreturn\u001b[39;00m \u001b[38;5;28;01mNone\u001b[39;00m\n\u001b[1;32m    974\u001b[0m \u001b[38;5;28;01melse\u001b[39;00m:\n",
      "File \u001b[0;32m~/home/Technical/repos/controlSBML/ctl/lib/python3.9/site-packages/IPython/core/display.py:1035\u001b[0m, in \u001b[0;36mImage._repr_mimebundle_\u001b[0;34m(self, include, exclude)\u001b[0m\n\u001b[1;32m   1033\u001b[0m \u001b[38;5;28;01mif\u001b[39;00m \u001b[38;5;28mself\u001b[39m\u001b[38;5;241m.\u001b[39membed:\n\u001b[1;32m   1034\u001b[0m     mimetype \u001b[38;5;241m=\u001b[39m \u001b[38;5;28mself\u001b[39m\u001b[38;5;241m.\u001b[39m_mimetype\n\u001b[0;32m-> 1035\u001b[0m     data, metadata \u001b[38;5;241m=\u001b[39m \u001b[38;5;28;43mself\u001b[39;49m\u001b[38;5;241;43m.\u001b[39;49m\u001b[43m_data_and_metadata\u001b[49m\u001b[43m(\u001b[49m\u001b[43malways_both\u001b[49m\u001b[38;5;241;43m=\u001b[39;49m\u001b[38;5;28;43;01mTrue\u001b[39;49;00m\u001b[43m)\u001b[49m\n\u001b[1;32m   1036\u001b[0m     \u001b[38;5;28;01mif\u001b[39;00m metadata:\n\u001b[1;32m   1037\u001b[0m         metadata \u001b[38;5;241m=\u001b[39m {mimetype: metadata}\n",
      "File \u001b[0;32m~/home/Technical/repos/controlSBML/ctl/lib/python3.9/site-packages/IPython/core/display.py:1047\u001b[0m, in \u001b[0;36mImage._data_and_metadata\u001b[0;34m(self, always_both)\u001b[0m\n\u001b[1;32m   1045\u001b[0m     b64_data \u001b[38;5;241m=\u001b[39m b2a_base64(\u001b[38;5;28mself\u001b[39m\u001b[38;5;241m.\u001b[39mdata)\u001b[38;5;241m.\u001b[39mdecode(\u001b[38;5;124m'\u001b[39m\u001b[38;5;124mascii\u001b[39m\u001b[38;5;124m'\u001b[39m)\n\u001b[1;32m   1046\u001b[0m \u001b[38;5;28;01mexcept\u001b[39;00m \u001b[38;5;167;01mTypeError\u001b[39;00m \u001b[38;5;28;01mas\u001b[39;00m e:\n\u001b[0;32m-> 1047\u001b[0m     \u001b[38;5;28;01mraise\u001b[39;00m \u001b[38;5;167;01mFileNotFoundError\u001b[39;00m(\n\u001b[1;32m   1048\u001b[0m         \u001b[38;5;124m\"\u001b[39m\u001b[38;5;124mNo such file or directory: \u001b[39m\u001b[38;5;124m'\u001b[39m\u001b[38;5;132;01m%s\u001b[39;00m\u001b[38;5;124m'\u001b[39m\u001b[38;5;124m\"\u001b[39m \u001b[38;5;241m%\u001b[39m (\u001b[38;5;28mself\u001b[39m\u001b[38;5;241m.\u001b[39mdata)) \u001b[38;5;28;01mfrom\u001b[39;00m \u001b[38;5;21;01me\u001b[39;00m\n\u001b[1;32m   1049\u001b[0m md \u001b[38;5;241m=\u001b[39m {}\n\u001b[1;32m   1050\u001b[0m \u001b[38;5;28;01mif\u001b[39;00m \u001b[38;5;28mself\u001b[39m\u001b[38;5;241m.\u001b[39mmetadata:\n",
      "\u001b[0;31mFileNotFoundError\u001b[0m: No such file or directory: 'Bsub_biofilm.png'"
     ]
    },
    {
     "ename": "FileNotFoundError",
     "evalue": "No such file or directory: 'Bsub_biofilm.png'",
     "output_type": "error",
     "traceback": [
      "\u001b[0;31m---------------------------------------------------------------------------\u001b[0m",
      "\u001b[0;31mTypeError\u001b[0m                                 Traceback (most recent call last)",
      "File \u001b[0;32m~/home/Technical/repos/controlSBML/ctl/lib/python3.9/site-packages/IPython/core/display.py:1045\u001b[0m, in \u001b[0;36mImage._data_and_metadata\u001b[0;34m(self, always_both)\u001b[0m\n\u001b[1;32m   1044\u001b[0m \u001b[38;5;28;01mtry\u001b[39;00m:\n\u001b[0;32m-> 1045\u001b[0m     b64_data \u001b[38;5;241m=\u001b[39m \u001b[43mb2a_base64\u001b[49m\u001b[43m(\u001b[49m\u001b[38;5;28;43mself\u001b[39;49m\u001b[38;5;241;43m.\u001b[39;49m\u001b[43mdata\u001b[49m\u001b[43m)\u001b[49m\u001b[38;5;241m.\u001b[39mdecode(\u001b[38;5;124m'\u001b[39m\u001b[38;5;124mascii\u001b[39m\u001b[38;5;124m'\u001b[39m)\n\u001b[1;32m   1046\u001b[0m \u001b[38;5;28;01mexcept\u001b[39;00m \u001b[38;5;167;01mTypeError\u001b[39;00m \u001b[38;5;28;01mas\u001b[39;00m e:\n",
      "\u001b[0;31mTypeError\u001b[0m: a bytes-like object is required, not 'str'",
      "\nThe above exception was the direct cause of the following exception:\n",
      "\u001b[0;31mFileNotFoundError\u001b[0m                         Traceback (most recent call last)",
      "File \u001b[0;32m~/home/Technical/repos/controlSBML/ctl/lib/python3.9/site-packages/IPython/core/formatters.py:342\u001b[0m, in \u001b[0;36mBaseFormatter.__call__\u001b[0;34m(self, obj)\u001b[0m\n\u001b[1;32m    340\u001b[0m     method \u001b[38;5;241m=\u001b[39m get_real_method(obj, \u001b[38;5;28mself\u001b[39m\u001b[38;5;241m.\u001b[39mprint_method)\n\u001b[1;32m    341\u001b[0m     \u001b[38;5;28;01mif\u001b[39;00m method \u001b[38;5;129;01mis\u001b[39;00m \u001b[38;5;129;01mnot\u001b[39;00m \u001b[38;5;28;01mNone\u001b[39;00m:\n\u001b[0;32m--> 342\u001b[0m         \u001b[38;5;28;01mreturn\u001b[39;00m \u001b[43mmethod\u001b[49m\u001b[43m(\u001b[49m\u001b[43m)\u001b[49m\n\u001b[1;32m    343\u001b[0m     \u001b[38;5;28;01mreturn\u001b[39;00m \u001b[38;5;28;01mNone\u001b[39;00m\n\u001b[1;32m    344\u001b[0m \u001b[38;5;28;01melse\u001b[39;00m:\n",
      "File \u001b[0;32m~/home/Technical/repos/controlSBML/ctl/lib/python3.9/site-packages/IPython/core/display.py:1067\u001b[0m, in \u001b[0;36mImage._repr_png_\u001b[0;34m(self)\u001b[0m\n\u001b[1;32m   1065\u001b[0m \u001b[38;5;28;01mdef\u001b[39;00m \u001b[38;5;21m_repr_png_\u001b[39m(\u001b[38;5;28mself\u001b[39m):\n\u001b[1;32m   1066\u001b[0m     \u001b[38;5;28;01mif\u001b[39;00m \u001b[38;5;28mself\u001b[39m\u001b[38;5;241m.\u001b[39membed \u001b[38;5;129;01mand\u001b[39;00m \u001b[38;5;28mself\u001b[39m\u001b[38;5;241m.\u001b[39mformat \u001b[38;5;241m==\u001b[39m \u001b[38;5;28mself\u001b[39m\u001b[38;5;241m.\u001b[39m_FMT_PNG:\n\u001b[0;32m-> 1067\u001b[0m         \u001b[38;5;28;01mreturn\u001b[39;00m \u001b[38;5;28;43mself\u001b[39;49m\u001b[38;5;241;43m.\u001b[39;49m\u001b[43m_data_and_metadata\u001b[49m\u001b[43m(\u001b[49m\u001b[43m)\u001b[49m\n",
      "File \u001b[0;32m~/home/Technical/repos/controlSBML/ctl/lib/python3.9/site-packages/IPython/core/display.py:1047\u001b[0m, in \u001b[0;36mImage._data_and_metadata\u001b[0;34m(self, always_both)\u001b[0m\n\u001b[1;32m   1045\u001b[0m     b64_data \u001b[38;5;241m=\u001b[39m b2a_base64(\u001b[38;5;28mself\u001b[39m\u001b[38;5;241m.\u001b[39mdata)\u001b[38;5;241m.\u001b[39mdecode(\u001b[38;5;124m'\u001b[39m\u001b[38;5;124mascii\u001b[39m\u001b[38;5;124m'\u001b[39m)\n\u001b[1;32m   1046\u001b[0m \u001b[38;5;28;01mexcept\u001b[39;00m \u001b[38;5;167;01mTypeError\u001b[39;00m \u001b[38;5;28;01mas\u001b[39;00m e:\n\u001b[0;32m-> 1047\u001b[0m     \u001b[38;5;28;01mraise\u001b[39;00m \u001b[38;5;167;01mFileNotFoundError\u001b[39;00m(\n\u001b[1;32m   1048\u001b[0m         \u001b[38;5;124m\"\u001b[39m\u001b[38;5;124mNo such file or directory: \u001b[39m\u001b[38;5;124m'\u001b[39m\u001b[38;5;132;01m%s\u001b[39;00m\u001b[38;5;124m'\u001b[39m\u001b[38;5;124m\"\u001b[39m \u001b[38;5;241m%\u001b[39m (\u001b[38;5;28mself\u001b[39m\u001b[38;5;241m.\u001b[39mdata)) \u001b[38;5;28;01mfrom\u001b[39;00m \u001b[38;5;21;01me\u001b[39;00m\n\u001b[1;32m   1049\u001b[0m md \u001b[38;5;241m=\u001b[39m {}\n\u001b[1;32m   1050\u001b[0m \u001b[38;5;28;01mif\u001b[39;00m \u001b[38;5;28mself\u001b[39m\u001b[38;5;241m.\u001b[39mmetadata:\n",
      "\u001b[0;31mFileNotFoundError\u001b[0m: No such file or directory: 'Bsub_biofilm.png'"
     ]
    },
    {
     "data": {
      "text/plain": [
       "<IPython.core.display.Image object>"
      ]
     },
     "execution_count": 19,
     "metadata": {},
     "output_type": "execute_result"
    }
   ],
   "source": [
    "from IPython.display import Image\n",
    "Image(\"Bsub_biofilm.png\", width = 550, height = 225)"
   ]
  },
  {
   "cell_type": "markdown",
   "id": "12dd33c7",
   "metadata": {},
   "source": [
    "## System studied\n",
    "Specify the input and output to your system, simulate its open loop behavior, and plot the results."
   ]
  },
  {
   "cell_type": "markdown",
   "id": "56a0b6fa",
   "metadata": {},
   "source": [
    "#### Determination of OLS input and ouput\n",
    "Control input u(t) = Gp (Glutamate in periphery)\n",
    "<br /> Output y(t) = Ai (Ammonia in inner layer)"
   ]
  },
  {
   "cell_type": "code",
   "execution_count": 20,
   "id": "bb7ce047",
   "metadata": {},
   "outputs": [
    {
     "data": {
      "image/png": "[encoded data removed]",
      "text/plain": [
       "<Figure size 600x400 with 1 Axes>"
      ]
     },
     "metadata": {},
     "output_type": "display_data"
    }
   ],
   "source": [
    "GARDE_CTLSB = ctl.ControlSBML(\"https://www.ebi.ac.uk/biomodels/model/download/BIOMD0000001053.2?filename=Garde2020.xml\", \n",
    "                        input_names=[\"Gp\"], output_names=[\"Ai\"])\n",
    "GARDE_RR = GARDE_CTLSB.roadrunner\n",
    "GARDE_RR.simulate(0, 5, 100)\n",
    "GARDE_RR.plot()"
   ]
  },
  {
   "cell_type": "code",
   "execution_count": 21,
   "id": "bcbdbb50",
   "metadata": {},
   "outputs": [
    {
     "data": {
      "image/png": "[encoded data removed]",
      "text/plain": [
       "<Figure size 500x500 with 1 Axes>"
      ]
     },
     "metadata": {},
     "output_type": "display_data"
    }
   ],
   "source": [
    "# Simulate the open loop system with no change in its input (Gm)\n",
    "garde_sys = GARDE_CTLSB.makeNonlinearIOSystem(\"garde_sys\") #command to create the nonlinear IO system for this model\n",
    "ts = ctl.simulateSystem(garde_sys, end_time=10) #ts = time series object\n",
    "_ = ctl.plotOneTS(ts, figsize=(5,5), ylim=[0, 5])"
   ]
  },
  {
   "cell_type": "markdown",
   "id": "e18752a8",
   "metadata": {},
   "source": [
    "## Control objectives\n",
    "State the control objectives"
   ]
  },
  {
   "cell_type": "markdown",
   "id": "87855175",
   "metadata": {},
   "source": [
    "<br /> **Control objectives:**\n",
    "1. Want setpoint to be 0.75 (reducing Ammonia level in inner layer, distributing to outer layer)\n",
    "2. Reduce oscillations"
   ]
  },
  {
   "cell_type": "markdown",
   "id": "2eb217a9",
   "metadata": {},
   "source": [
    "## Controllability and operating region\n",
    "1. Do a staircase plot of the control input's effect on the measured output from your system.\n",
    "1. Determine the operating region, the range of (control) inputs to your system that you will use."
   ]
  },
  {
   "cell_type": "markdown",
   "id": "aecfb01f",
   "metadata": {},
   "source": [
    "### Plot staircase"
   ]
  },
  {
   "cell_type": "markdown",
   "id": "25080b1e",
   "metadata": {},
   "source": [
    "### Setup TF builder from Garde model"
   ]
  },
  {
   "cell_type": "code",
   "execution_count": 22,
   "id": "8dc2582b",
   "metadata": {},
   "outputs": [
    {
     "data": {
      "text/plain": [
       "('Gp', 'Ai')"
      ]
     },
     "execution_count": 22,
     "metadata": {},
     "output_type": "execute_result"
    }
   ],
   "source": [
    "garde_builder = GARDE_CTLSB.makeSISOTransferFunctionBuilder()\n",
    "garde_builder.input_name, garde_builder.output_name"
   ]
  },
  {
   "cell_type": "code",
   "execution_count": 23,
   "id": "b9d2fba5",
   "metadata": {},
   "outputs": [
    {
     "data": {
      "text/plain": []
     },
     "execution_count": 23,
     "metadata": {},
     "output_type": "execute_result"
    },
    {
     "data": {
      "image/png": "[encoded data removed]",
      "text/plain": [
       "<Figure size 300x300 with 2 Axes>"
      ]
     },
     "metadata": {},
     "output_type": "display_data"
    }
   ],
   "source": [
    "plotStaircaseResponse(garde_builder, initial_value=0, final_value=5000, figsize=(3,3),\n",
    "                                    num_step=5, legend_crd=(0.5, 1), end_time=200)"
   ]
  },
  {
   "cell_type": "markdown",
   "id": "cdb53064",
   "metadata": {},
   "source": [
    "# Step 2. System Identification (15 pts)"
   ]
  },
  {
   "cell_type": "markdown",
   "id": "a685b174",
   "metadata": {},
   "source": [
    "Here, we estimate a transfer function for the system over the operating range."
   ]
  },
  {
   "cell_type": "markdown",
   "id": "3f1cd66c",
   "metadata": {},
   "source": [
    "## Estimated transfer function"
   ]
  },
  {
   "cell_type": "markdown",
   "id": "90e47e9d",
   "metadata": {},
   "source": [
    "1. Estimate the transfer function over the operating range and evaluate the quality of the estimate by plotting the \n",
    "true system output and the output predicted by the transfer function.\n",
    "1. Show the transfer function."
   ]
  },
  {
   "cell_type": "markdown",
   "id": "aae616bb",
   "metadata": {},
   "source": [
    "#### Try: num = 0, denom= 1, operating range 0-5000"
   ]
  },
  {
   "cell_type": "code",
   "execution_count": 24,
   "id": "04f93943",
   "metadata": {},
   "outputs": [
    {
     "data": {
      "image/png": "[encoded data removed]",
      "text/plain": [
       "<Figure size 300x300 with 1 Axes>"
      ]
     },
     "metadata": {},
     "output_type": "display_data"
    },
    {
     "data": {
      "text/plain": []
     },
     "execution_count": 24,
     "metadata": {},
     "output_type": "execute_result"
    }
   ],
   "source": [
    "num_degree = 0\n",
    "denom_degree = 1\n",
    "fitter_result = garde_builder.fitTransferFunction(num_degree + 1, denom_degree + 1, \n",
    "                                                   final_value=5000,\n",
    "                                                   initial_value=0, end_time=200)\n",
    "ctl.plotOneTS(fitter_result.time_series, figsize=(3,3), legend_crd=(2,1))"
   ]
  },
  {
   "cell_type": "code",
   "execution_count": 25,
   "id": "3ad5ebea",
   "metadata": {
    "scrolled": true
   },
   "outputs": [
    {
     "data": {
      "image/png": "[encoded data removed]",
      "text/plain": [
       "<Figure size 300x300 with 1 Axes>"
      ]
     },
     "metadata": {},
     "output_type": "display_data"
    },
    {
     "data": {
      "text/plain": []
     },
     "execution_count": 25,
     "metadata": {},
     "output_type": "execute_result"
    }
   ],
   "source": [
    "#Zoom In version\n",
    "\n",
    "num_degree = 0\n",
    "denom_degree = 1\n",
    "fitter_result = garde_builder.fitTransferFunction(num_degree + 1, denom_degree + 1, \n",
    "                                                   final_value=5000,\n",
    "                                                   initial_value=0, end_time=200)\n",
    "ctl.plotOneTS(fitter_result.time_series, figsize=(3,3), legend_crd=(2,1), ylim=[0,10])"
   ]
  },
  {
   "cell_type": "markdown",
   "id": "86356653",
   "metadata": {},
   "source": [
    "#### Printing Transfer function"
   ]
  },
  {
   "cell_type": "code",
   "execution_count": 26,
   "id": "50d6fb6e",
   "metadata": {},
   "outputs": [
    {
     "name": "stdout",
     "output_type": "stream",
     "text": [
      "\n",
      "    0.006223\n",
      "----------------\n",
      "0.5824 s + 7.363\n",
      "\n"
     ]
    }
   ],
   "source": [
    "GARDE_TRANSFER_FUNCTION = fitter_result.transfer_function\n",
    "print(GARDE_TRANSFER_FUNCTION)"
   ]
  },
  {
   "cell_type": "markdown",
   "id": "88746d3f",
   "metadata": {},
   "source": [
    "## Evaluation of the quality of the estimated transfer function"
   ]
  },
  {
   "cell_type": "markdown",
   "id": "c7c669af",
   "metadata": {},
   "source": [
    "Analyze the expected impact of the accuracy of the transfer function on the closed loop design."
   ]
  },
  {
   "cell_type": "code",
   "execution_count": 27,
   "id": "bf03140f",
   "metadata": {},
   "outputs": [
    {
     "data": {
      "text/plain": [
       "0.0008452610451268772"
      ]
     },
     "execution_count": 27,
     "metadata": {},
     "output_type": "execute_result"
    }
   ],
   "source": [
    "GARDE_TRANSFER_FUNCTION.dcgain()"
   ]
  },
  {
   "cell_type": "markdown",
   "id": "d436d4b0",
   "metadata": {},
   "source": [
    "**Analysis of DC gain:** DC gain far from 1, need a LARGE input to manipulate output only slightly"
   ]
  },
  {
   "cell_type": "code",
   "execution_count": 28,
   "id": "847a4b1f",
   "metadata": {
    "scrolled": true
   },
   "outputs": [
    {
     "data": {
      "text/plain": [
       "array([-12.64091167+0.j])"
      ]
     },
     "execution_count": 28,
     "metadata": {},
     "output_type": "execute_result"
    }
   ],
   "source": [
    "GARDE_TRANSFER_FUNCTION.poles()"
   ]
  },
  {
   "cell_type": "markdown",
   "id": "5ae373dc",
   "metadata": {},
   "source": [
    "**Analysis of poles:** pole is very negative, system will eventually be stable"
   ]
  },
  {
   "cell_type": "markdown",
   "id": "d9b4d22b",
   "metadata": {},
   "source": [
    "**Transfer function (TF) EVALUATION**\n",
    "\n",
    "1. Higher degree TF resulted in a much lower DC gain, even went negative.\n",
    "2. As TF's degrees increases, poles also went closer to 0.\n",
    "\n",
    "<br/> Thus, we are stuck with numerator degree 0 and denominator degree of 1"
   ]
  },
  {
   "cell_type": "markdown",
   "id": "05814035",
   "metadata": {},
   "source": [
    "# Step 3. Optimization-Based Control Design (40 pts)"
   ]
  },
  {
   "cell_type": "markdown",
   "id": "c60534e3",
   "metadata": {},
   "source": [
    "1. Designs a closed loop system that achieves our control objectives. By \"design\" is meant finding values\n",
    "of $k_P, k_I, k_D, k_F$.\n",
    "1. Consider noise in the design. Noise is specified by a high frequency sinewave, 20 Hz."
   ]
  },
  {
   "cell_type": "markdown",
   "id": "c3b2c3be",
   "metadata": {},
   "source": [
    "#### DON'T RUN CELL!\n",
    "**At low amp=1, kmax=5 and without D controller :**\n",
    "System went unstable"
   ]
  },
  {
   "cell_type": "code",
   "execution_count": 29,
   "id": "e01b4f66",
   "metadata": {},
   "outputs": [
    {
     "data": {
      "image/png": "[encoded data removed]",
      "text/plain": [
       "<Figure size 300x300 with 1 Axes>"
      ]
     },
     "metadata": {},
     "output_type": "display_data"
    }
   ],
   "source": [
    "#DON'T RUN CELL!\n",
    "\n",
    "times = np.linspace(0, 30, 200)\n",
    "GARDE_DESIGN_RESULT  = designClosedLoop(GARDE_TRANSFER_FUNCTION, kmax=5,\n",
    "                                       is_kD=False,\n",
    "                                 amp=1, times=times, is_warnings=False)\n",
    "plotDesignResult(GARDE_DESIGN_RESULT, end_time=max(times))"
   ]
  },
  {
   "cell_type": "markdown",
   "id": "0344d1f0",
   "metadata": {},
   "source": [
    "#### At low amp=1, kmax=5 and with D controller:\n",
    "looks like DC gain is now 1, but noise still persists. D controller is definitely needed to stabilize the system"
   ]
  },
  {
   "cell_type": "code",
   "execution_count": 30,
   "id": "c8d7f74f",
   "metadata": {},
   "outputs": [
    {
     "data": {
      "image/png": "[encoded data removed]",
      "text/plain": [
       "<Figure size 300x300 with 1 Axes>"
      ]
     },
     "metadata": {},
     "output_type": "display_data"
    }
   ],
   "source": [
    "times = np.linspace(0, 30, 200)\n",
    "GARDE_DESIGN_RESULT  = designClosedLoop(GARDE_TRANSFER_FUNCTION, kmax=10,\n",
    "                                       is_kD=True, is_kP= True, is_kI= True, is_kF= True,\n",
    "                                 amp=10, times=times, is_warnings=False)\n",
    "plotDesignResult(GARDE_DESIGN_RESULT, end_time=max(times))"
   ]
  },
  {
   "cell_type": "markdown",
   "id": "3d2a7349",
   "metadata": {},
   "source": [
    "**Notes on kmax and amp adjustments:** \n",
    "<br/> Noise is actually reduced as kmax goes up. The limit of kmax =60, value >60 will drive the system unstable.\n",
    "\n",
    "<br /> However, when the control is implemented kmax and/or amp values larger than 10 will give RunTime errors.\n",
    "<br /> I was stuck with kmax =10, amp = 10. With these values, DC gain = 1 pretty fast, and noise amplitude is at least reduced to 0.5."
   ]
  },
  {
   "cell_type": "code",
   "execution_count": 31,
   "id": "9769c04e",
   "metadata": {},
   "outputs": [
    {
     "data": {
      "text/html": [
       "<table><tr><th> name </th><th> value </th><th> standard error </th><th> relative error </th><th> initial value </th><th> min </th><th> max </th><th> vary </th></tr><tr><td> kP </td><td>  9.99999999 </td><td>  164.525772 </td><td> (1645.26%) </td><td> 1 </td><td>  0.00000000 </td><td>  10.0000000 </td><td> True </td></tr><tr><td> kI </td><td>  9.99983349 </td><td>  49.4959999 </td><td> (494.97%) </td><td> 1 </td><td>  0.00000000 </td><td>  10.0000000 </td><td> True </td></tr><tr><td> kD </td><td> 10.00000000 </td><td>  15830.2233 </td><td> (158302.23%) </td><td> 1 </td><td>  0.00000000 </td><td>  10.0000000 </td><td> True </td></tr><tr><td> kF </td><td> 10.00000000 </td><td>  7203.94831 </td><td> (72039.48%) </td><td> 1 </td><td>  0.00000000 </td><td>  10.0000000 </td><td> True </td></tr></table>"
      ],
      "text/plain": [
       "Parameters([('kP', <Parameter 'kP', value=9.999999991991622 +/- 165, bounds=[0:10]>), ('kI', <Parameter 'kI', value=9.999833494948325 +/- 49.5, bounds=[0:10]>), ('kD', <Parameter 'kD', value=9.999999999995993 +/- 1.58e+04, bounds=[0:10]>), ('kF', <Parameter 'kF', value=9.999999999996598 +/- 7.2e+03, bounds=[0:10]>)])"
      ]
     },
     "execution_count": 31,
     "metadata": {},
     "output_type": "execute_result"
    }
   ],
   "source": [
    "GARDE_DESIGN_RESULT.params"
   ]
  },
  {
   "cell_type": "markdown",
   "id": "16b2c6dc",
   "metadata": {},
   "source": [
    "# Step 4. Testbed evaluations (15 pts)"
   ]
  },
  {
   "cell_type": "markdown",
   "id": "34f0dabc",
   "metadata": {},
   "source": [
    "This step builds a testbed for the system designed in the previous step, and does simulation runs to assess performance relative to the control objectives."
   ]
  },
  {
   "cell_type": "code",
   "execution_count": 32,
   "id": "09c22958",
   "metadata": {},
   "outputs": [],
   "source": [
    "SETPOINT = 0.75\n",
    "GARDE_TIMES = np.linspace(0, 30, 200)"
   ]
  },
  {
   "cell_type": "markdown",
   "id": "67593686",
   "metadata": {},
   "source": [
    "OLS behavior (set kP = kI = 0)"
   ]
  },
  {
   "cell_type": "code",
   "execution_count": 33,
   "id": "a298062e",
   "metadata": {},
   "outputs": [
    {
     "data": {
      "image/png": "[encoded data removed]",
      "text/plain": [
       "<Figure size 500x500 with 1 Axes>"
      ]
     },
     "metadata": {},
     "output_type": "display_data"
    }
   ],
   "source": [
    "garde_closed_sys = makeClosedLoopSystem(GARDE_CTLSB, kP=0, kI=0, kF=0, noise_amplitude=1)\n",
    "plot_result = plotSys(garde_closed_sys, forced_input=[SETPOINT], times=GARDE_TIMES, \n",
    "                      is_plot=True, output_labels=[\"Ai\"], ylim=[-1, 3])"
   ]
  },
  {
   "cell_type": "markdown",
   "id": "0d569ed9",
   "metadata": {},
   "source": [
    "## Implementation"
   ]
  },
  {
   "cell_type": "markdown",
   "id": "2eb548d4",
   "metadata": {},
   "source": [
    "Use the helper ``makeClosedLoopSystem``to do control design. Some iteration may be required."
   ]
  },
  {
   "cell_type": "code",
   "execution_count": 34,
   "id": "c795c66e",
   "metadata": {
    "scrolled": true
   },
   "outputs": [
    {
     "data": {
      "image/png": "[encoded data removed]",
      "text/plain": [
       "<Figure size 500x500 with 1 Axes>"
      ]
     },
     "metadata": {},
     "output_type": "display_data"
    }
   ],
   "source": [
    "# System with design parameters\n",
    "kP = GARDE_DESIGN_RESULT.params[\"kP\"].value\n",
    "kI = GARDE_DESIGN_RESULT.params[\"kI\"].value\n",
    "kD = GARDE_DESIGN_RESULT.params[\"kD\"].value\n",
    "if \"kF\" in GARDE_DESIGN_RESULT.params.keys():\n",
    "    kF = GARDE_DESIGN_RESULT.params[\"kF\"].value\n",
    "else:\n",
    "    kF = 1000\n",
    "garde_closed_sys = makeClosedLoopSystem(GARDE_CTLSB, kP=kP, kI=kI, kD=kD, kF=kF,\n",
    "                                      noise_amplitude=1)\n",
    "plot_result = plotSys(garde_closed_sys, forced_input=[SETPOINT], times=GARDE_TIMES, \n",
    "                      is_plot=True, output_labels=[\"Ai\", \"control_input-Gp\"])"
   ]
  },
  {
   "cell_type": "markdown",
   "id": "4d22cbb4",
   "metadata": {},
   "source": [
    "## Tuning"
   ]
  },
  {
   "cell_type": "markdown",
   "id": "cbd30b6a",
   "metadata": {},
   "source": [
    "Make any further adjustments to your design using the testbed to evaluate the results. If none adjustments are required, indicate why this is the case."
   ]
  },
  {
   "cell_type": "markdown",
   "id": "3446521e",
   "metadata": {},
   "source": [
    "**Tuning results**\n",
    "1. I tried making some adjustments to the system but, overall, trying out different (higher degree) transfer functions didn't help as they drove the DC gain and poles to ridiculous values.\n",
    "\n",
    "<br/> 2. When controllers are implemented, it is clear that D contoller is needed to make the system more stable, reaching DC gain of 1. kmax value is limited to 10 as I got RunTime errors for kmax >10.\n",
    "\n",
    "<br/> 3. As for noise reduction, amp was lowered to 10. amp of 10 in combination with kmax of 10 gave the best results of both DC gain = 0 and reduced noise.\n",
    "\n",
    "<br/> 4. With this set up (low order TF, low kmax and amp, as well as PID controller), looks like the system is improved a little bit in a sense that we don't need as high of an input to manipulate output (operating range is lowered significantly). This is because, previously, the OLS transfer function gave a very small DC gain which means we need a very large output in order to change output only slightly."
   ]
  },
  {
   "cell_type": "markdown",
   "id": "f14bac23",
   "metadata": {},
   "source": [
    "# Step 5. Discussion (15 pts)"
   ]
  },
  {
   "cell_type": "markdown",
   "id": "24e9cfec",
   "metadata": {},
   "source": [
    "1. How does the operating range of the OLS in the stepbed compare with the operating range you used in Step 2?\n",
    "1. How well are control objectives achieved?\n",
    "1. What value (benefit) did you get from doing control design?"
   ]
  },
  {
   "cell_type": "markdown",
   "id": "08ea6053",
   "metadata": {},
   "source": [
    "1. Operating range after controller was implemented went down significantly (to a magnitude of 15) compared to Step 2's range. In step 2, output as big as 5000 was needed to manipulate ouput (as predicted by the very small, near zero DC gain)\n",
    "\n",
    "<br/> 2. Unfortunately, the setpoint amplitude of 0.75 was not achieved as shown by worsened oscillation of Ai (ammonia) in the presence of noise (smaller waves within waves). The tug of war between ammonia and glutamate still exists even after implementing a PID controller as shown by the out-of-phase oscillations of Ammonia (Ai) and Glutamate (Gp).\n",
    "\n",
    "<br/> 3. I think with this control design, I learned that some biological system is just hard to control. It is illustrated with this Ammonia-Glutamate problem because one parameter's behavior is highly influenced by another parameter's behavior.\n",
    "The higher the dependency of those two parameters, the harder the system is to control. I personally enjoy looking at different scenarios (from changing operating range, transfer function's degrees, and controller parameters) to see how system behave from control design/perturbation.\n"
   ]
  }
 ],
 "metadata": {
  "kernelspec": {
   "display_name": "Python 3 (ipykernel)",
   "language": "python",
   "name": "python3"
  },
  "language_info": {
   "codemirror_mode": {
    "name": "ipython",
    "version": 3
   },
   "file_extension": ".py",
   "mimetype": "text/x-python",
   "name": "python",
   "nbconvert_exporter": "python",
   "pygments_lexer": "ipython3",
   "version": "3.9.6"
  }
 },
 "nbformat": 4,
 "nbformat_minor": 5
}
