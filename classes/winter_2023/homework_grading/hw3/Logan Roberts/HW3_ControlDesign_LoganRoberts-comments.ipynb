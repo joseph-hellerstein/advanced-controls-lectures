{
 "cells": [
  {
   "cell_type": "markdown",
   "id": "b1229fec-e965-4858-b3e7-cf67e8645060",
   "metadata": {},
   "source": [
    "# HOMEWORK 3 - CONTROL DESIGN"
   ]
  },
  {
   "cell_type": "markdown",
   "id": "a4ebb4ef-5042-4635-b134-5ed2203fadb5",
   "metadata": {},
   "source": [
    "**Comments: 100/100**\n",
    "1. Looks good."
   ]
  },
  {
   "cell_type": "markdown",
   "id": "1d364ff2-fbd9-4dfc-bce8-d070b1d57418",
   "metadata": {},
   "source": [
    "In this homework, you will do a complete narrative for control design for your system.\n",
    "You can use the notebook for lecture 15 (Workflow for control design) as a guide to what is expected."
   ]
  },
  {
   "cell_type": "markdown",
   "id": "6bef1213",
   "metadata": {},
   "source": [
    "Please scroll down to **Step 1** for control design."
   ]
  },
  {
   "cell_type": "markdown",
   "id": "ea1ef56b-9c3d-4fbe-8202-151b8979a57b",
   "metadata": {},
   "source": [
    "# Preliminaries"
   ]
  },
  {
   "cell_type": "code",
   "execution_count": 1,
   "id": "f16d0f7a-d0c5-4f37-aa29-feed6d82a363",
   "metadata": {},
   "outputs": [],
   "source": [
    "import collections\n",
    "import control\n",
    "import controlSBML as ctl\n",
    "import lmfit\n",
    "import numpy as np\n",
    "import pandas as pd\n",
    "import matplotlib.pyplot as plt\n",
    "import sympy\n",
    "import tellurium as te"
   ]
  },
  {
   "cell_type": "markdown",
   "id": "4ad1b471-5f20-4f08-99e3-71c12a7c4c30",
   "metadata": {},
   "source": [
    "# Helpers"
   ]
  },
  {
   "cell_type": "code",
   "execution_count": 2,
   "id": "4635117f-c25b-4b5e-b96b-6c9f1c0991d7",
   "metadata": {},
   "outputs": [],
   "source": [
    "TIMES = np.linspace(0, 10, 100)"
   ]
  },
  {
   "cell_type": "code",
   "execution_count": 3,
   "id": "2ce2dc8b-2104-45d4-875c-22a1d8b41996",
   "metadata": {},
   "outputs": [],
   "source": [
    "TEST_MODEL = \"\"\"\n",
    "species S1, S2, S3\n",
    "\n",
    "S1 -> S2; k1*S1\n",
    "S2 -> S3; k2*S2\n",
    "\n",
    "S1 = 10\n",
    "S2 = 0\n",
    "S3 = 0\n",
    "k1 = 1\n",
    "k2 =2\n",
    "\"\"\"\n",
    "TEST_CTLSB = ctl.ControlSBML(TEST_MODEL, input_names=[\"S1\"], output_names=[\"S3\"])\n",
    "TEST_SYS = TEST_CTLSB.makeNonlinearIOSystem(\"TEST_SYS\")"
   ]
  },
  {
   "cell_type": "code",
   "execution_count": 4,
   "id": "76d36be8-b450-4ff1-b407-703ebd6a4d5b",
   "metadata": {},
   "outputs": [],
   "source": [
    "class PlotResult(object):\n",
    "    def __init__(self, times = None, y_arr=None, ax=None):\n",
    "        self.times = times\n",
    "        self.y_arr = y_arr\n",
    "        self.ax = ax\n",
    "        \n",
    "    def __repr__(self):\n",
    "        return \"\""
   ]
  },
  {
   "cell_type": "code",
   "execution_count": 5,
   "id": "af11590e-82e8-4ca6-b3e2-499ecc4147af",
   "metadata": {},
   "outputs": [],
   "source": [
    "# This class captures the results of a designing a closed loop system\n",
    "class DesignResult(object):\n",
    "    def __init__(self, grm=None, gnm=None, params=None, det=None):\n",
    "        \"\"\"\n",
    "        Parameters\n",
    "        ----------\n",
    "        grm: control.TransferFunction\n",
    "        gnm: control.TransferFunction\n",
    "        params: lmfit.Parameters\n",
    "        det: lmfit.MinimizerResult\n",
    "        \n",
    "        \"\"\"\n",
    "        self.grm = grm\n",
    "        self.gnm = gnm\n",
    "        self.params = params\n",
    "        self.det = det\n",
    "        \n",
    "    def __repr__(self):\n",
    "        return \"\""
   ]
  },
  {
   "cell_type": "markdown",
   "id": "829c9a7b-f145-495b-af11-d85a3bf49536",
   "metadata": {},
   "source": [
    "## ``plotSys``"
   ]
  },
  {
   "cell_type": "code",
   "execution_count": 6,
   "id": "fd024d2f-7557-4d6f-b02d-8c366ff24ee5",
   "metadata": {},
   "outputs": [
    {
     "name": "stdout",
     "output_type": "stream",
     "text": [
      "OK!\n"
     ]
    }
   ],
   "source": [
    "def plotSys(sys, times=None, initial_values=None, forced_input=None,\n",
    "            title=\"\", ax=None, output_labels=None, figsize=None,\n",
    "            ylim=None, is_legend=True, is_plot=True):\n",
    "    \"\"\"\n",
    "    Plots the system, either a NonlinearIOSystem or a TransferFunction.\n",
    "    \n",
    "    Parameters\n",
    "    ----------\n",
    "    sys: NonlinearIOSystem or TransferFunction\n",
    "    times: list-float (times for simulation)\n",
    "    initial_values: list-float\n",
    "    forced_input: list-float (default is step)\n",
    "    figsize: (int, int)\n",
    "    ax: matplotlib.Axes\n",
    "    output_labels: list-str (names for output labels)\n",
    "    title: str (plot title)\n",
    "    is_legend: bool (include legend)\n",
    "    \n",
    "    Returns\n",
    "    -------\n",
    "    PlotResut\n",
    "    \"\"\"\n",
    "    if \"TransferFunction\" in str(type(sys)):\n",
    "        is_nonlinear = False\n",
    "    else:\n",
    "        is_nonlinear = True\n",
    "    if times is None:\n",
    "        times = TIMES\n",
    "    if forced_input is None:\n",
    "        ncol = len(times)\n",
    "        nrow = len(sys.input_labels)\n",
    "        forced_input = np.array([np.repeat(1, nrow) for _ in range(ncol)])\n",
    "        forced_input = np.reshape(forced_input, (nrow, ncol))\n",
    "    if (initial_values is None) and is_nonlinear:\n",
    "        initial_values = ctl.makeStateVector(sys)\n",
    "    if figsize is None:\n",
    "        figsize = (5, 5)\n",
    "    if ax is None:\n",
    "        _, ax = plt.subplots(1, figsize=figsize)\n",
    "    if output_labels is None:\n",
    "        if len(sys.output_labels) == 1:\n",
    "            output_labels = [\"y\"]\n",
    "        else:\n",
    "            output_labels = list(sys.output_labels)\n",
    "    # Simulate the system\n",
    "    if is_nonlinear:\n",
    "        t, y = control.input_output_response(sys, times, forced_input, initial_values)\n",
    "    else:\n",
    "        t, y = control.forced_response(sys, T=times, U=forced_input)\n",
    "    # Plot the response\n",
    "    num_output = len(output_labels)\n",
    "    if num_output == 1:\n",
    "        if y.ndim == 1:\n",
    "            plt.plot(t, y)\n",
    "        else:\n",
    "            for idx in range(num_output):\n",
    "                plt.plot(t, y[idx])\n",
    "    else:\n",
    "        for idx in range(num_output):\n",
    "            ax.plot(t, y[idx])\n",
    "    if is_legend:\n",
    "        ax.legend(output_labels)\n",
    "    ax.set_xlabel(\"time\")\n",
    "    ax.set_title(title)\n",
    "    if ylim is not None:\n",
    "        ax.set_ylim(ylim)\n",
    "    if not is_plot:\n",
    "        plt.close()\n",
    "    return PlotResult(times=t, y_arr=y, ax=ax)\n",
    "    \n",
    "# Tests\n",
    "times = T = np.linspace(0, 70, 500)\n",
    "plot_result = plotSys(TEST_SYS, times, is_plot=False)\n",
    "assert(len(plot_result.times) == len(plot_result.y_arr))\n",
    "#\n",
    "numerator = 5\n",
    "tf = control.TransferFunction([numerator], [1])\n",
    "plot_result = plotSys(tf, times, forced_input=1, is_plot=False)\n",
    "assert(len(plot_result.times) == len(plot_result.y_arr))\n",
    "assert(plot_result.y_arr[0] == numerator)\n",
    "print(\"OK!\")"
   ]
  },
  {
   "cell_type": "markdown",
   "id": "9b757a45-e421-4f58-8de8-9981f1357c5f",
   "metadata": {},
   "source": [
    "## ``makeDerivative``"
   ]
  },
  {
   "cell_type": "code",
   "execution_count": 7,
   "id": "45dced26-cfce-443a-8a62-49241e298970",
   "metadata": {},
   "outputs": [
    {
     "name": "stdout",
     "output_type": "stream",
     "text": [
      "OK\n"
     ]
    }
   ],
   "source": [
    "def makeDerivative():\n",
    "    \"\"\"\n",
    "    Returns a funtion that calculates derivatives for a signal.\n",
    "    \n",
    "    Returns\n",
    "    -------\n",
    "    Function\n",
    "    \"\"\" \n",
    "    class Last():\n",
    "        def __init__(self, t, u):\n",
    "            self.t = t\n",
    "            self.u = u\n",
    "    #\n",
    "    last = Last(0, 0)\n",
    "    # Calculate derivative of the input\n",
    "    def derivative(t, u):\n",
    "        \"\"\"\n",
    "        Parameters\n",
    "        ----------\n",
    "        t: float\n",
    "        u: float\n",
    "        \n",
    "        Returns\n",
    "        -------\n",
    "        float\n",
    "        \"\"\"\n",
    "        dt = t - last.t\n",
    "        if dt <= 0:\n",
    "            du = 0\n",
    "        else:\n",
    "            du = (u - last.u)/dt\n",
    "        last.t = t\n",
    "        last.u = u\n",
    "        return du\n",
    "    #\n",
    "    return derivative\n",
    "\n",
    "# Tests\n",
    "is_plot = False\n",
    "derivative = makeDerivative()\n",
    "inputs = np.sin(TIMES)\n",
    "outputs = [derivative(t, 1) for t in TIMES]\n",
    "np.allclose(outputs, 0)\n",
    "#\n",
    "derivative = makeDerivative()\n",
    "inputs = np.sin(TIMES)\n",
    "outputs = [derivative(t, i) for t, i in zip(TIMES, inputs)]\n",
    "derivative = makeDerivative()\n",
    "second_inputs = list(outputs)\n",
    "outputs = [derivative(t, i) for t, i in zip(TIMES, second_inputs)]\n",
    "if is_plot:\n",
    "    plt.plot(TIMES, inputs, color=\"black\")\n",
    "    plt.plot(TIMES, outputs, color=\"red\")\n",
    "print(\"OK\")"
   ]
  },
  {
   "cell_type": "markdown",
   "id": "bcc81ddd-dd47-4357-b764-48af863c0fdc",
   "metadata": {},
   "source": [
    "## ``makeCLTransferFunctions``"
   ]
  },
  {
   "cell_type": "code",
   "execution_count": 8,
   "id": "407d2782-bfaa-4bbb-88df-9967284ea08c",
   "metadata": {},
   "outputs": [
    {
     "name": "stdout",
     "output_type": "stream",
     "text": [
      "OK!\n"
     ]
    }
   ],
   "source": [
    "# grm: G_RM\n",
    "# gnm: G_NM\n",
    "# gf: Filter\n",
    "# gc: Controller\n",
    "# go: OLS\n",
    "CLTransferFunctions = collections.namedtuple(\"CLTransferFunctions\",\n",
    "      \"grm gnm gc gf go\")\n",
    "def makeCLTransferFunctions(gO_tf, params, is_warnings=True):\n",
    "    \"\"\"\n",
    "    Makes two closed loop transfer functions.\n",
    "        G_RM (s) - transfer function from the reference input to the measurement output\n",
    "        G_NM (s) - transfer function from the noise input to the measurement output\n",
    "    \n",
    "    Parameters\n",
    "    ----------\n",
    "    gO_tf: control.TransferFunction (open loop transfer function)\n",
    "    params:\n",
    "        kP: float (set to 0 if parameter is not present)\n",
    "        kI: float (set to 0 if parameter is not present)\n",
    "        kD: float (set to 0 if parameter is not present)\n",
    "        kF: float (no filter if parameter is absent)\n",
    "        is_warnings: bool (display warnings)\n",
    "    \n",
    "    Returns\n",
    "    -------\n",
    "    CLTransferFunctions\n",
    "    \"\"\"\n",
    "    # Extract the parameters if they are present\n",
    "    if \"kP\" in params.keys():\n",
    "        kP = params[\"kP\"].value\n",
    "    else:\n",
    "        kP = 0\n",
    "    if \"kI\" in params.keys():\n",
    "        kI = params[\"kI\"].value\n",
    "    else:\n",
    "        kI = 0\n",
    "    if \"kD\" in params.keys():\n",
    "        kD = params[\"kD\"]. value\n",
    "    else:\n",
    "        kD = 0\n",
    "    if \"kDD\" in params.keys():\n",
    "        kDD = params[\"kDD\"]. value\n",
    "    else:\n",
    "        kDD = 0\n",
    "    if \"kF\" in params.keys():\n",
    "        kF = params[\"kF\"].value\n",
    "    else:\n",
    "        kF = None\n",
    "    # Construct PI Controller\n",
    "    gC_tf = control.TransferFunction([kP], [1]) \n",
    "    gC_tf = gC_tf + control.TransferFunction([kI], [1, 0])\n",
    "    gC_tf = gC_tf + control.TransferFunction([kD, 0], [1])\n",
    "    gC_tf = gC_tf + control.TransferFunction([kDD, 0, 0], [1])\n",
    "    # Construct Filter\n",
    "    if kF is not None:\n",
    "        gF_tf = control.TransferFunction([kF], [1, kF])\n",
    "    else:\n",
    "        gF_tf = control.TransferFunction([1], [1])\n",
    "    # RM Closed loop Transfer function\n",
    "    gRM_tf = control.feedback(gC_tf*gO_tf, sys2=gF_tf)\n",
    "    # NM Closed loop Transfer function\n",
    "    gNM_tf = control.feedback(1, sys2=gC_tf*gO_tf*gF_tf)\n",
    "    # Check for improper transfer functions\n",
    "    for tf_str in [\"gRM_tf\", \"gNM_tf\", \"gC_tf\", \"gF_tf\", \"gO_tf\"]:\n",
    "        tf = eval(tf_str)\n",
    "        num_dim = np.shape(tf.num)[-1]\n",
    "        den_dim = np.shape(tf.den)[-1]\n",
    "        if num_dim > den_dim:\n",
    "            if is_warnings:\n",
    "                print(\"***Warning. %s is an improper transfer function\" % tf_str)\n",
    "    #\n",
    "    return CLTransferFunctions(grm=gRM_tf, gnm=gNM_tf, gc=gC_tf, gf=gF_tf, go=gO_tf)\n",
    "\n",
    "# This test generates several warnings\n",
    "is_plot = False\n",
    "tf = control.TransferFunction([1], [1, 1])\n",
    "params = lmfit.Parameters()\n",
    "params.add(\"kP\", value=1)\n",
    "params.add(\"kI\", value=1)\n",
    "params.add(\"kD\", value=1)\n",
    "params.add(\"kDD\", value=1)\n",
    "cltf = makeCLTransferFunctions(tf, params, is_warnings=is_plot)\n",
    "assert(isinstance(cltf.grm, control.TransferFunction))\n",
    "assert(isinstance(cltf.gnm, control.TransferFunction))\n",
    "assert(isinstance(cltf.gc, control.TransferFunction))\n",
    "dummy_tf = cltf.gc*control.TransferFunction([1], [1, 1, 1]) # Ensure proper Transfer function\n",
    "_ = plotSys(dummy_tf, forced_input=1, is_plot=is_plot)\n",
    "plot_response = plotSys(cltf.grm, is_plot=is_plot)\n",
    "plot_response = plotSys(cltf.gnm, is_plot=is_plot)\n",
    "# \n",
    "params.add(\"kF\", value=1)\n",
    "cltf = makeCLTransferFunctions(tf, params, is_warnings=is_plot)\n",
    "assert(isinstance(cltf.grm, control.TransferFunction))\n",
    "assert(isinstance(cltf.gnm, control.TransferFunction))\n",
    "assert(isinstance(cltf.gc, control.TransferFunction))\n",
    "print(\"OK!\")"
   ]
  },
  {
   "cell_type": "markdown",
   "id": "7d1be98d-6753-4874-9ae8-c651a087d5b2",
   "metadata": {},
   "source": [
    "## ``designClosedLoop``"
   ]
  },
  {
   "cell_type": "code",
   "execution_count": 9,
   "id": "f1b2a8f7-1426-4141-916b-ae62a32d2355",
   "metadata": {
    "scrolled": true
   },
   "outputs": [
    {
     "name": "stdout",
     "output_type": "stream",
     "text": [
      "OK!\n"
     ]
    },
    {
     "data": {
      "image/png": "[encoded data removed]",
      "text/plain": [
       "<Figure size 500x500 with 1 Axes>"
      ]
     },
     "metadata": {},
     "output_type": "display_data"
    }
   ],
   "source": [
    "def designClosedLoop(open_loop_tf, is_kP=True, is_kI=True, is_kD=True, is_kDD=False,\n",
    "                     is_kF=True, amp=1, times=TIMES, kmax=1e4, is_warnings=True):\n",
    "    \"\"\"\n",
    "    Finds parameters for the closed loop system that eliminate noise and have a good step response.\n",
    "    By default the closed loop system has a PID controller and a filter. By changing is_<k>,\n",
    "    you can select variations in the design.\n",
    "    \n",
    "    Paramters\n",
    "    ---------\n",
    "    open_loop_tf: control.TransferFunction (OLS transfer function)\n",
    "    is_<k>: bool (include the design element)\n",
    "    amp: 0 <=float  (amplitude of the sine wave used to evaluate noise response)\n",
    "    times: array-float\n",
    "    kmax: float (maximum value of a constant)\n",
    "    \n",
    "    Returns\n",
    "    -------\n",
    "    DesignResult\n",
    "    \"\"\"\n",
    "    NOISE_FREQ = 20*2*np.pi\n",
    "    step_inputs = np.repeat(1, len(times))\n",
    "    ideal_step_outputs = step_inputs\n",
    "    noise_inputs = amp*np.sin(NOISE_FREQ*times) # Sinusoid input\n",
    "    ideal_noise_outputs = np.repeat(0, len(times))\n",
    "    def calculateDesignResiduals(params):\n",
    "        \"\"\"\n",
    "        Calculates the residuals with an ideal step response.\n",
    "\n",
    "        Parameters\n",
    "        ----------\n",
    "        params: lmfit.Parameters\n",
    "\n",
    "        Returns\n",
    "        -------\n",
    "        array-float\n",
    "        \"\"\"\n",
    "        cltf = makeCLTransferFunctions(open_loop_tf, params, is_warnings=is_warnings)\n",
    "        gRM_tf, gNM_tf = (cltf.grm, cltf.gnm)\n",
    "        # Calculate residuals for a step response\n",
    "        _, step_est = control.forced_response(gRM_tf, T=times, U=1)\n",
    "        step_residuals = ideal_step_outputs - step_est\n",
    "        # Calculate residuals for a sinusoidal noise input\n",
    "        _, sinusoid_est = control.forced_response(gNM_tf, T=times, U=noise_inputs)\n",
    "        sinusoid_residuals = ideal_noise_outputs - sinusoid_est\n",
    "        #\n",
    "        return step_residuals + sinusoid_residuals\n",
    "    # \n",
    "    params = lmfit.Parameters()\n",
    "    if is_kP:\n",
    "        params.add(\"kP\", value=1, min=0, max=kmax)\n",
    "    if is_kI:\n",
    "        params.add(\"kI\", value=1, min=0, max=kmax)\n",
    "    if is_kD:\n",
    "        params.add(\"kD\", value=1, min=0, max=kmax)\n",
    "    if is_kDD:\n",
    "        params.add(\"kDD\", value=1, min=0, max=kmax)\n",
    "    if is_kF:\n",
    "        params.add(\"kF\", value=1, min=0, max=kmax)\n",
    "    minimizer_result = lmfit.minimize(calculateDesignResiduals, params)\n",
    "    new_params = minimizer_result.params\n",
    "    #\n",
    "    cltf = makeCLTransferFunctions(gO_tf, new_params, is_warnings=is_warnings)\n",
    "    gRM_tf, gNM_tf = (cltf.grm, cltf.gnm)\n",
    "    design_result = DesignResult(grm=gRM_tf, gnm=gNM_tf, params=new_params, det=minimizer_result)\n",
    "    return design_result\n",
    "\n",
    "# Tests\n",
    "is_plot = True\n",
    "gO_tf = control.TransferFunction([1], [1, 1, 1])\n",
    "design_result = designClosedLoop(gO_tf, kmax=1e10, amp=10, is_kD=True, is_kDD=False, is_warnings=False)\n",
    "times = np.linspace(0, 10, 100)\n",
    "noise_inputs = np.sin(20*2*np.pi*times) # Sinusoid i\n",
    "plotSys(design_result.gnm, times=times, ylim=[-1, 1],\n",
    "                                          forced_input=noise_inputs, is_plot=is_plot)\n",
    "assert(isinstance(design_result.grm, control.TransferFunction))\n",
    "print(\"OK!\")"
   ]
  },
  {
   "cell_type": "code",
   "execution_count": 10,
   "id": "0bb3abf1-53e5-4e0b-a6da-4c52bf48c976",
   "metadata": {},
   "outputs": [
    {
     "data": {
      "text/html": [
       "<table><tr><th> name </th><th> value </th><th> standard error </th><th> relative error </th><th> initial value </th><th> min </th><th> max </th><th> vary </th></tr><tr><td> kP </td><td>  3885582.38 </td><td>  1.4747e+10 </td><td> (379534.18%) </td><td> 1 </td><td>  0.00000000 </td><td>  1.0000e+10 </td><td> True </td></tr><tr><td> kI </td><td>  48.5936580 </td><td>  6.7743e+09 </td><td> (13940757744.75%) </td><td> 1 </td><td>  0.00000000 </td><td>  1.0000e+10 </td><td> True </td></tr><tr><td> kD </td><td>  20452.3670 </td><td>  1.2348e+10 </td><td> (60372287.14%) </td><td> 1 </td><td>  0.00000000 </td><td>  1.0000e+10 </td><td> True </td></tr><tr><td> kF </td><td>  289049.001 </td><td>  8.7851e+12 </td><td> (3039326889.35%) </td><td> 1 </td><td>  0.00000000 </td><td>  1.0000e+10 </td><td> True </td></tr></table>"
      ],
      "text/plain": [
       "Parameters([('kP', <Parameter 'kP', value=3885582.3810873823 +/- 1.47e+10, bounds=[0:10000000000.0]>), ('kI', <Parameter 'kI', value=48.59365798637327 +/- 6.77e+09, bounds=[0:10000000000.0]>), ('kD', <Parameter 'kD', value=20452.367001100312 +/- 1.23e+10, bounds=[0:10000000000.0]>), ('kF', <Parameter 'kF', value=289049.00143011945 +/- 8.79e+12, bounds=[0:10000000000.0]>)])"
      ]
     },
     "execution_count": 10,
     "metadata": {},
     "output_type": "execute_result"
    }
   ],
   "source": [
    "design_result.params"
   ]
  },
  {
   "cell_type": "markdown",
   "id": "641b7e58-d632-4e4f-8825-225a714dd1c9",
   "metadata": {},
   "source": [
    "## ``plotDesignResult``"
   ]
  },
  {
   "cell_type": "code",
   "execution_count": 11,
   "id": "f7aff1fd-71ad-4d1b-acd1-06c33f743f4f",
   "metadata": {},
   "outputs": [
    {
     "name": "stdout",
     "output_type": "stream",
     "text": [
      "OK!\n"
     ]
    }
   ],
   "source": [
    "# Plots of the transfer functions\n",
    "def plotDesignResult(design_result, ax=None, end_time=50, title=\"\", is_plot=True, **kwargs):\n",
    "    \"\"\"\n",
    "    Plots a DesignResult.\n",
    "    \n",
    "    Parameters\n",
    "    ----------\n",
    "    design_result: DesignResult\n",
    "    ax: Matplotlib.Axes\n",
    "    end_time: float\n",
    "    is_plot: bool\n",
    "    kwargs: dict (other plotting options)\n",
    "    \"\"\"\n",
    "    if ax is None:\n",
    "        if \"figsize\" in kwargs.keys():\n",
    "            figsize = kwargs[\"figsize\"]\n",
    "        else:\n",
    "            figsize = (3, 3)\n",
    "        _, ax = plt.subplots(1, figsize=figsize)\n",
    "    times = np.linspace(0, end_time, 2000)\n",
    "    plot_result1 = plotSys(design_result.grm, forced_input=1, times=times, ax=ax,\n",
    "                         is_legend=False)\n",
    "    plot_result2 = plotSys(design_result.gnm, forced_input=np.sin(5*times), times=times, \n",
    "            is_legend=False, ax=ax)\n",
    "    if \"ylim\" in kwargs.keys():\n",
    "        ylim = kwargs[\"ylim\"]\n",
    "    else:\n",
    "        ylim = ax.set_ylim()\n",
    "    xpos = end_time*1.1\n",
    "    yspan = ylim[1] - ylim[0]\n",
    "    ypos1 = ylim[1] - 0.1*yspan\n",
    "    ypos2 = ypos1 - 0.2*yspan\n",
    "    ax.text(xpos, ypos1, \"G_RM\", c=\"blue\")\n",
    "    ax.text(xpos, ypos2, \"G_NM\", c=\"orange\")\n",
    "    ax.set_ylim(ylim)\n",
    "    ax.set_title(title)\n",
    "    if not is_plot:\n",
    "        plt.close()\n",
    " \n",
    "# Tests\n",
    "plotDesignResult(design_result, kmax=1, figsize= (2,2), is_plot=False, end_time=5)\n",
    "print(\"OK!\")"
   ]
  },
  {
   "cell_type": "markdown",
   "id": "1de7b2f6-a1f8-4db2-bf0b-b752a8162a45",
   "metadata": {},
   "source": [
    "## ``plotStaircaseResponse``"
   ]
  },
  {
   "cell_type": "code",
   "execution_count": 12,
   "id": "73241a80-fb10-4e7e-81b0-3b7f74e44f5d",
   "metadata": {},
   "outputs": [],
   "source": [
    "# def plotStaircaseResponse(builder, is_plot=True, **kwargs):\n",
    "#     \"\"\"\n",
    "#     This function circumvents a bug in SISOTransferFunctionBuilder.plotStairCaseResponse.\n",
    "#     It has the same arguments and return value as the original function.\n",
    "#     \"\"\"\n",
    "#     plot_result = builder.plotStaircaseResponse(is_plot=False, **kwargs)\n",
    "#     # Plot if requested\n",
    "#     if is_plot:\n",
    "#         times = np.array(plot_result.time_series.index)/1000\n",
    "#         df = pd.DataFrame(plot_result.time_series)\n",
    "#         df.index = times\n",
    "#         if \"figsize\" in kwargs.keys():\n",
    "#             figsize = kwargs[\"figsize\"]\n",
    "#         else:\n",
    "#             figsize = (10, 10)\n",
    "#         legends = list(df.columns)\n",
    "#         fig, ax = plt.subplots(1, figsize=figsize)\n",
    "#         staircase_column = [c for c in df.columns if \"staircase\" in c][0]\n",
    "#         staircase_values = df[staircase_column].values\n",
    "#         del df[staircase_column]\n",
    "#         ax.plot(df)\n",
    "#         ax2 = ax.twinx()\n",
    "#         # Plot the staircase\n",
    "#         ax2.plot(times, staircase_values, color=\"red\",\n",
    "#               linestyle=\"--\")\n",
    "#         ax2.set_ylabel(staircase_column, color=\"red\")\n",
    "#         ax.legend(df.columns)\n",
    "#     #\n",
    "#     return plot_result\n",
    "\n",
    "# # TESTS\n",
    "# plot_response = plotStaircaseResponse(LINEAR_BLDR, initial_value=2, final_value=10, num_step=5, figsize=(3,3),\n",
    "#                                     legend_crd=(0.5, 1), end_time=100, is_plot=False)\n",
    "# assert(isinstance(plot_response.time_series, ctl.Timeseries))\n",
    "# print(\"OK!\")"
   ]
  },
  {
   "cell_type": "markdown",
   "id": "c69b4a0a-3466-434b-a774-13ae7bdc6679",
   "metadata": {},
   "source": [
    "## ``makePIController``"
   ]
  },
  {
   "cell_type": "code",
   "execution_count": 13,
   "id": "bb797163-2f78-4d88-81ca-2d141c1bca0b",
   "metadata": {},
   "outputs": [
    {
     "name": "stdout",
     "output_type": "stream",
     "text": [
      "OK\n"
     ]
    }
   ],
   "source": [
    "def makePIController(kP=20, kI=10):\n",
    "    \"\"\"\n",
    "    Makes a PI controller with control error as input\n",
    "    \n",
    "    Parameters\n",
    "    ----------\n",
    "    kP: float\n",
    "    kI: float\n",
    "    \n",
    "    Returns\n",
    "    -------\n",
    "    NonlinearIOSystem\n",
    "    \"\"\"\n",
    "    # Calculate derivative of state\n",
    "    def updfcn(t, x, u, _):\n",
    "        # Accumulate the control error\n",
    "        # t: float (time)\n",
    "        # x: array-float (state)\n",
    "        # u: array-float (control error)\n",
    "        # returns: array-float (derivative of state)\n",
    "        return u[0]\n",
    "\n",
    "    # Calculate output value\n",
    "    def outfcn(t, x, u, _):\n",
    "        # Calculate the output from the input\n",
    "        # t: float (time)\n",
    "        # x: array-float (state)\n",
    "        # u: array-float (inputs)\n",
    "        # returns: array (output)\n",
    "        output = kI*x[0] + kP*u[0]\n",
    "        return output\n",
    "\n",
    "    controller = control.NonlinearIOSystem(\n",
    "      updfcn,\n",
    "      outfcn,\n",
    "      states=1,\n",
    "      inputs=['in'],\n",
    "      outputs=['out'], name='controller_sys')\n",
    "    return controller\n",
    "\n",
    "# Tests\n",
    "kP = 10\n",
    "kI = 20\n",
    "controller_sys = makePIController(kP=kP, kI=kI)\n",
    "assert(\"NonlinearIOSystem\" in str(type(controller_sys)))\n",
    "plot_result = plotSys(controller_sys, forced_input=[1], is_plot=False)\n",
    "data = plot_result.y_arr\n",
    "assert(data[0] == kP)\n",
    "assert(np.isclose(data[-1], kP + plot_result.times[-1]*kI))\n",
    "print(\"OK\")"
   ]
  },
  {
   "cell_type": "markdown",
   "id": "226daa6b-16e4-44ad-b94c-1102bf0c7890",
   "metadata": {},
   "source": [
    "## ``makePIDController``"
   ]
  },
  {
   "cell_type": "code",
   "execution_count": 14,
   "id": "bd1b952b-de96-4ac6-be48-f981fc2c52b6",
   "metadata": {},
   "outputs": [
    {
     "name": "stdout",
     "output_type": "stream",
     "text": [
      "OK\n"
     ]
    }
   ],
   "source": [
    "def makePIDController(kP=20, kI=10, kD=0, kDD=0):\n",
    "    \"\"\"\n",
    "    Makes a PI controller with control error as input\n",
    "    \n",
    "    Parameters\n",
    "    ----------\n",
    "    kP: float\n",
    "    kI: float\n",
    "    kD: float\n",
    "    kDD: float (coefficient for second derivative of input)\n",
    "    \n",
    "    Returns\n",
    "    -------\n",
    "    NonlinearIOSystem\n",
    "    \"\"\"\n",
    "    derivative1 = makeDerivative()\n",
    "    derivative2 = makeDerivative()\n",
    "    # Calculate derivative of state\n",
    "    def updfcn(t, x, u, _):\n",
    "        # Accumulate the control error\n",
    "        # t: float (time)\n",
    "        # x: array-float (sum of input, last input)\n",
    "        # u: array-float (control error)\n",
    "        # returns: array-float (derivative of state)\n",
    "        return u[0]\n",
    "\n",
    "    # Calculate output value\n",
    "    def outfcn(t, x, u, _):\n",
    "        # Calculate the output from the input\n",
    "        # t: float (time)\n",
    "        # x: array-float (state)\n",
    "        # u: array-float (inputs)\n",
    "        # returns: array (output)\n",
    "        du = derivative1(t, u[0])\n",
    "        ddu = derivative2(t, du)\n",
    "        output = kP*u[0] + kI*x[0] + kD*du + kDD*ddu\n",
    "        return output\n",
    "\n",
    "    controller = control.NonlinearIOSystem(\n",
    "      updfcn,\n",
    "      outfcn,\n",
    "      states=1,\n",
    "      inputs=['in'],\n",
    "      outputs=['out'], name='controller_sys')\n",
    "    return controller\n",
    "\n",
    "# Tests\n",
    "is_plot = False\n",
    "kP = 10\n",
    "kI = 20\n",
    "kD = 100\n",
    "controller_sys = makePIDController(kP=kP, kI=kI, kD=0)\n",
    "assert(\"NonlinearIOSystem\" in str(type(controller_sys)))\n",
    "plot_result = plotSys(controller_sys, forced_input=[1], is_plot=is_plot)\n",
    "data = plot_result.y_arr\n",
    "assert(data[0] == kP)\n",
    "assert(np.isclose(data[-1], kP + plot_result.times[-1]*kI))\n",
    "#\n",
    "controller_sys = makePIDController(kP=kP, kI=kI, kD=kD, kDD=10)\n",
    "inputs = np.sin(TIMES)\n",
    "plot_result = plotSys(controller_sys, forced_input=inputs, is_plot=is_plot)\n",
    "\n",
    "print(\"OK\")"
   ]
  },
  {
   "cell_type": "markdown",
   "id": "3348422b-255f-417a-aec5-16175d1b1f37",
   "metadata": {},
   "source": [
    "## ``makeFilter``"
   ]
  },
  {
   "cell_type": "code",
   "execution_count": 15,
   "id": "87b723ae-3b10-40ef-86af-779e3cd9ebe0",
   "metadata": {},
   "outputs": [
    {
     "name": "stdout",
     "output_type": "stream",
     "text": [
      "OK\n"
     ]
    }
   ],
   "source": [
    "def makeFilter(system_name=\"filter_sys\", kF=1):\n",
    "    \"\"\"\n",
    "    Makes a filter.\n",
    "    \n",
    "    Parameters\n",
    "    ----------\n",
    "    system_name: str\n",
    "    kF: float\n",
    "    \n",
    "    Returns\n",
    "    -------\n",
    "    NonlinearIOSystem\n",
    "    \"\"\"\n",
    "    # Calculate derivative of state\n",
    "    def updfcn(t, x, u, _):\n",
    "        # Accumulate the control error\n",
    "        # t: float (time)\n",
    "        # x: array-float (state, averaged signal)\n",
    "        # u: array-float (control error)\n",
    "        # returns: array-float (derivative of state)\n",
    "        dy = kF*u[0] - kF*x[0]\n",
    "        return dy\n",
    "\n",
    "    # Calculate output value\n",
    "    def outfcn(t, x, u, _):\n",
    "        # Calculate the output from the input\n",
    "        # t: float (time)\n",
    "        # x: array-float (state)\n",
    "        # u: array-float (inputs)\n",
    "        # returns: array (output)\n",
    "        return x[0]\n",
    "\n",
    "    filter_sys = control.NonlinearIOSystem(\n",
    "      updfcn,\n",
    "      outfcn,\n",
    "      states=1,\n",
    "      inputs=['in'],\n",
    "      outputs=['out'], name=system_name)\n",
    "    return filter_sys\n",
    "\n",
    "# Tests\n",
    "kF = 1\n",
    "filter_sys = makeFilter(kF=kF)\n",
    "assert(\"NonlinearIOSystem\" in str(type(filter_sys)))\n",
    "plot_result = plotSys(filter_sys, forced_input=[1], times=np.linspace(0, 100, 1000), is_plot=False)\n",
    "data = plot_result.y_arr\n",
    "assert(np.abs(data[-1] - 1) < 0.01)\n",
    "print(\"OK\")"
   ]
  },
  {
   "cell_type": "markdown",
   "id": "49a2b561-2091-4ed5-a99a-7f21cc68a874",
   "metadata": {},
   "source": [
    "## ``makeSinusoid``"
   ]
  },
  {
   "cell_type": "code",
   "execution_count": 16,
   "id": "2c8d25e2-55f6-4477-aa49-f955ae28fa72",
   "metadata": {},
   "outputs": [
    {
     "name": "stdout",
     "output_type": "stream",
     "text": [
      "OK\n"
     ]
    }
   ],
   "source": [
    "def makeSinusoid(system_name=\"sinusoid_sys\", amplitude=1, frequency=20):\n",
    "    \"\"\"\n",
    "    Makes a sinusoidal signal, the only output.\n",
    "    \n",
    "    Parameters\n",
    "    ----------\n",
    "    system_name: str\n",
    "    amplitude: float (amplitude of the sinusoid)\n",
    "    frequency: float (frequencay of the sinusoid)\n",
    "    \n",
    "    Returns\n",
    "    -------\n",
    "    NonlinearIOSystem\n",
    "    \"\"\"\n",
    "    # Calculate output value\n",
    "    def outfcn(t, x, u, _):\n",
    "        # Calculate the output from the input\n",
    "        # t: float (time)\n",
    "        # x: array-float (state)\n",
    "        # u: array-float (inputs)\n",
    "        # returns: array (output)\n",
    "        return amplitude*np.sin(t*2*np.pi*frequency)\n",
    "\n",
    "    sinusoid_sys = control.NonlinearIOSystem(\n",
    "      None,\n",
    "      outfcn,\n",
    "      inputs=0,\n",
    "      outputs=['out'],\n",
    "      name=system_name)\n",
    "    return sinusoid_sys\n",
    "\n",
    "# Tests\n",
    "sinusoid_sys = makeSinusoid(amplitude=10)\n",
    "assert(\"NonlinearIOSystem\" in str(type(sinusoid_sys)))\n",
    "plot_result = plotSys(sinusoid_sys, forced_input=1, times=np.linspace(0, 10, 1000), is_plot=False)\n",
    "count = len([v for v in plot_result.y_arr[0] if v >= 0.999])\n",
    "assert(count > 1)\n",
    "print(\"OK\")"
   ]
  },
  {
   "cell_type": "markdown",
   "id": "b059d53c-5f95-4aff-9695-8b5a7af7e37e",
   "metadata": {},
   "source": [
    "## ``makeAdder``"
   ]
  },
  {
   "cell_type": "code",
   "execution_count": 17,
   "id": "25025c0c-90d1-46f5-bc51-03e009e406dd",
   "metadata": {},
   "outputs": [
    {
     "name": "stdout",
     "output_type": "stream",
     "text": [
      "OK\n"
     ]
    }
   ],
   "source": [
    "def makeAdder(input_names, output_name=\"out\", system_name=\"adder_sys\"):\n",
    "    \"\"\"\n",
    "    Creates a NonlinearIOSystem that does addition\n",
    "    of the inputs. Any name that begins wit a \"-\" is subtracted.\n",
    "    \n",
    "    Parameters\n",
    "    ----------\n",
    "    input_nmames: list-str\n",
    "    output_name: str\n",
    "    system_name: str\n",
    "    \n",
    "    Returns\n",
    "    -------\n",
    "    NonlinearIOSystem\n",
    "    \"\"\"\n",
    "    adjustments = []\n",
    "    adjusted_input_names = []\n",
    "    def outfcn(_, __, u, ___):\n",
    "        # Calculate the output from the input\n",
    "        # t: float (time)\n",
    "        # x: array-float (state)\n",
    "        # u: array-float (inputs)\n",
    "        # returns: array (output)\n",
    "        return adjustments.dot(u)\n",
    "    #\n",
    "    for name in input_names:\n",
    "        if name[0] == \"-\":\n",
    "            value = -1\n",
    "            new_name = name[1:]\n",
    "        else:\n",
    "            value = 1\n",
    "            new_name = name\n",
    "        adjustments.append(value)\n",
    "        adjusted_input_names.append(new_name)\n",
    "    adjustments = np.array(adjustments)\n",
    "    #\n",
    "    return control.NonlinearIOSystem(\n",
    "          None,\n",
    "          outfcn,\n",
    "          inputs=adjusted_input_names,\n",
    "          outputs=output_name, name=system_name)\n",
    "\n",
    "# Tests\n",
    "adder_sys = makeAdder([\"a\", \"-b\", \"c\"])\n",
    "assert(\"NonlinearIOSystem\" in str(type(adder_sys)))\n",
    "# Simulate to verify \n",
    "plot_result = plotSys(adder_sys, forced_input=[3, 2, 4], is_plot=False)\n",
    "data = plot_result.y_arr\n",
    "assert(np.var(data[0]) == 0)\n",
    "assert(data[0][0] == 5)\n",
    "print(\"OK\")"
   ]
  },
  {
   "cell_type": "markdown",
   "id": "abc6e389-4021-4124-9918-c4194e136773",
   "metadata": {},
   "source": [
    "## ``makeClosedLoopSystem``"
   ]
  },
  {
   "cell_type": "code",
   "execution_count": 18,
   "id": "75eb8ca1-c2e9-4b11-b7de-c5d6c3bb0ebb",
   "metadata": {},
   "outputs": [
    {
     "name": "stdout",
     "output_type": "stream",
     "text": [
      "OK!\n"
     ]
    }
   ],
   "source": [
    "def makeClosedLoopSystem(ctlsb, kP=1, kI=1, kF=1, kD=0, kDD=0, noise_amplitude=1,\n",
    "                         noise_frequency=20):\n",
    "    \"\"\"\n",
    "    Create a closed loop system with a controller and filter for an SBML model.\n",
    "    \n",
    "    Parameters\n",
    "    ----------\n",
    "    ctlsb: ControlSBML (for open loop system)\n",
    "    kP: float\n",
    "    kI: float\n",
    "    kD: float\n",
    "    kF: float\n",
    "    noise_amplitude: float\n",
    "    noise_frequency: float\n",
    "    \n",
    "    Returns\n",
    "    -------\n",
    "    Interconnect\n",
    "    \"\"\"\n",
    "    # Information for open loop system\n",
    "    if len(ctlsb.input_names) != 1:\n",
    "        raise ValueError(\"Open loop system should have exactly 1 input\")\n",
    "    if len(ctlsb.output_names) != 1:\n",
    "        raise ValueError(\"Open loop system should have exactly 1 output\")\n",
    "    open_sys = ctlsb.makeNonlinearIOSystem(\"open_sys\")\n",
    "    sinusoid_sys = makeSinusoid(system_name=\"sinusoid_sys\",\n",
    "                                amplitude=noise_amplitude, frequency=noise_frequency)\n",
    "    open_input = \"open_sys.%s\" % ctlsb.input_names[0]\n",
    "    open_output = \"open_sys.%s\" % ctlsb.output_names[0]\n",
    "    # Other elements\n",
    "    filter_sys = makeFilter(kF=kF)\n",
    "    controller_sys = makePIDController(kP=kP, kI=kI, kD=kD, kDD=kDD)\n",
    "    differ_sys = makeAdder([\"setpoint\", \"-measurement\"], system_name=\"differ_sys\")\n",
    "    adder_sys = makeAdder([\"noise\", \"open_sys\"], system_name=\"adder_sys\")\n",
    "    closed_sys = control.interconnect(\n",
    "      [adder_sys, sinusoid_sys, open_sys, controller_sys, differ_sys, filter_sys],       # systems\n",
    "      connections=[\n",
    "        ['adder_sys.noise', \"sinusoid_sys.out\"],\n",
    "        ['adder_sys.open_sys', open_output],\n",
    "        ['filter_sys.in', \"adder_sys.out\"],\n",
    "        ['differ_sys.measurement', 'filter_sys.out'],\n",
    "        ['controller_sys.in',  'differ_sys.out'],\n",
    "        [open_input, 'controller_sys.out'],\n",
    "      ],\n",
    "      inplist=[\"differ_sys.setpoint\"],\n",
    "      outlist=[\"adder_sys.out\", \"controller_sys.out\"],\n",
    "    )\n",
    "    return closed_sys\n",
    "\n",
    "# Tests\n",
    "setpoint = 1\n",
    "new_closed_sys = makeClosedLoopSystem(TEST_CTLSB, noise_amplitude=1, kP=1, kI=0.1, kD=0.2, kDD=0.1, kF=1000)\n",
    "assert(\"Interconnect\" in str(type(new_closed_sys)))\n",
    "plot_result = plotSys(new_closed_sys, forced_input=[setpoint], times=np.linspace(0, 30, 100), \n",
    "                      is_plot=False, output_labels=[\"s5\", \"control_input\"])\n",
    "data = plot_result.y_arr\n",
    "assert(data[0][0] == 0)\n",
    "assert(np.abs(setpoint - data[0][-1]) < 0.2)\n",
    "print(\"OK!\")"
   ]
  },
  {
   "cell_type": "markdown",
   "id": "fdab7abc-c822-407b-b401-1d5ad96dfa4f",
   "metadata": {},
   "source": [
    "# Step 1. Problem Statement (15 pts)"
   ]
  },
  {
   "cell_type": "markdown",
   "id": "c04735fa-91ae-448a-a71b-5c7aeb47f38c",
   "metadata": {},
   "source": [
    "## Problem Statement\n",
    "Describe the control problem that you are addressing."
   ]
  },
  {
   "cell_type": "markdown",
   "id": "a664ef00",
   "metadata": {},
   "source": [
    "This project involves examining an ordinary differential equation model of acute inflammatory response to infection. In organisms of nearly every level of complexity, the body responds to trauma with an inflammatory response to promote adaptation to stress, elimination of a pathogen/foreign body, and healing of affected tissues/organs. This response, while necessary as a defense mechanism, can be extremely damaging to the organism in excess. Thus, organisms have complex systems for regulating the severity of an acute inflammatory response via controlling molecular cascades.\n",
    "\n",
    "These controls can be broadly grouped into 1) pro-inflammatory elements that attack and remove the pathogen and 2) anti-inflammatory elements that downregulate the pro-inflamatory elements via negative feedback loops."
   ]
  },
  {
   "cell_type": "markdown",
   "id": "29b4ffdd-923a-4fac-8c8c-398d767cf8e9",
   "metadata": {},
   "source": [
    "## System studied\n",
    "Specify the input and output to your system, simulate its open loop behavior, and plot the results."
   ]
  },
  {
   "cell_type": "markdown",
   "id": "cc2c5994",
   "metadata": {},
   "source": [
    "In Reynolds et. al, a simplified model is proposed that relates a pro and anti-inflammation response to some initiating event, P. Aside from these three parameters, a fourth parameter of tissue damage (D) is introduced as an inducer of both the pro and anti-inflammation responses.\n",
    "\n",
    "The goal of this system is to understand the role of the time-dependent anti-inflammatory response.\n",
    "\n",
    "The specific subsystem I am choosing to examine if the Nstar/D subsystem:\n",
    "\n",
    "**Input**: Activated phagocytes (pro-inflammation response)\n",
    "\n",
    "**Output**: Tissue damage"
   ]
  },
  {
   "attachments": {
    "Screenshot%202023-02-06%20at%2012.36.08%20PM.png": {
     "image/png": "[encoded data removed]"
    }
   },
   "cell_type": "markdown",
   "id": "5a5d6fda",
   "metadata": {},
   "source": [
    "![Screenshot%202023-02-06%20at%2012.36.08%20PM.png](attachment:Screenshot%202023-02-06%20at%2012.36.08%20PM.png)"
   ]
  },
  {
   "cell_type": "markdown",
   "id": "d11df91d",
   "metadata": {},
   "source": [
    "**Some thoughts:**\n",
    "\n",
    "I want to control the Nstar input to influence the Damage output. Damage comes from increased Nstar and is reduced by C_A. Nstar also prompts C_A deposition, while C_A inhibits Nstar and damage. Nothing really inihibits the anti-inflammatory response in this model, so we would want it to react without limit to the stimuli of damage/pro-inflammatory response. I think a derivative controller may be useful for controlling C_A, while an integral controller would be useful for controlling Nstar.\n",
    "\n",
    "I found during exploration in previous assignments that P(Pathogen) output can be directly controlled by Nstar. The relationship is fairly simple, with the associated transfer function having a numerator degree of 0 and denominator degree of 1, with fairly large, negative poles. In this assignment, I want to a tackle a more complicated problem, which is controlling tissue damage with an Nstar (inflammation response) input.\n",
    "\n",
    "I've also found that while controlling C_A would be interesting, in this model it is very difficult to control Damage with C_A as the input (runtime warnings in most sensible architectures), so I am focusing on Nstar."
   ]
  },
  {
   "cell_type": "markdown",
   "id": "5b4b0ac9",
   "metadata": {},
   "source": [
    "Issues:\n",
    "1) When making CL testbed for Damage output: RuntimeError: solve_ivp failed: Required step size is less than spacing between numbers. Damage seems to be a very difficult parameter to control.\n",
    "\n",
    "2) Cannot use a transfer function with numerator deg > 1 and denominator deg > 2 without getting a RuntimeError."
   ]
  },
  {
   "cell_type": "code",
   "execution_count": 19,
   "id": "f6acb69c",
   "metadata": {},
   "outputs": [],
   "source": [
    "\"\"\"\n",
    "Model for control of acute inflammatory response\n",
    "\n",
    "\n",
    "\n",
    "Links: Paper -> https://pubmed.ncbi.nlm.nih.gov/16584750/\n",
    "       Model -> https://www.ebi.ac.uk/biomodels/BIOMD0000000714#Files\n",
    "\n",
    "Paramaters:\n",
    "\n",
    "1) P - Level of Pathogen\n",
    "2) N - Activated phagocytes\n",
    "3) C_A - Anti-inflammatory mediators\n",
    "4) D - Tissue damage\n",
    "\n",
    "For this system,\n",
    "\n",
    "Input:\n",
    "Activated Phagocytes\n",
    "\n",
    "Output:\n",
    "Tissue Damage\n",
    "\n",
    "Want to examine the change in tissue damage as a result activated phagocyte response. When phagocytes respond to a pathogen\n",
    "(another parameter), they can cause tissue damage as a byproduct.\n",
    "\n",
    "\"\"\"\n",
    "\n",
    "inflam_url = \"https://www.ebi.ac.uk/biomodels/model/download/BIOMD0000000714.6?filename=HealthyOutcome.xml\"\n",
    "\n"
   ]
  },
  {
   "cell_type": "markdown",
   "id": "b6f73b74-d34c-4c55-8d4a-1fde9c840c0c",
   "metadata": {},
   "source": [
    "## Control objectives\n",
    "State the control objectives"
   ]
  },
  {
   "cell_type": "markdown",
   "id": "0d4c5a3c",
   "metadata": {},
   "source": [
    "In this subsystem, activated phagocytes are responding to some pathogen/initiating event (P). However, this response collaterally causes tissue damage, inciting an anti-inflammatory response (C_A). This secondary response inhibits tissue damage as well as pro-inflammation response, while the tissue damage both activated more phagocytes and intitiates an anti-inflammatory response.\n",
    "\n",
    "Therefore, am I interested in understanding how different levels of pro-inflammation response will affect tissue damage, and how aggressive anti-inflammation response will become as tissue damage increases."
   ]
  },
  {
   "cell_type": "markdown",
   "id": "2c7b25e6",
   "metadata": {},
   "source": [
    "Control input: **Activated Phagocytes**\n",
    "\n",
    "Control output: **Tissue Damage**\n",
    "\n",
    "Setpoint: I want to examine what kind of activated phagocyte levels will cause the tissue damage to go to zero. Furthermore, as tissue damage increases due to the phagocytes, I'd like to understand how the anti-inflammatory response will drive the tissue damage back down.\n",
    "\n",
    "Right now, tissue damage peaks around 30 seconds and does not go back to zero until about 200 seconds. The goal here is to reduce that spike as well as the response time, such that damage approaches zero more quickly."
   ]
  },
  {
   "cell_type": "markdown",
   "id": "ad706523",
   "metadata": {},
   "source": [
    "**Control Objectives:**\n",
    "\n",
    "1) Control Damage towards 0\n",
    "2) Minimize response time of damage to changes in inflammatory response\n",
    "3) Reduce/eliminate oscillations"
   ]
  },
  {
   "cell_type": "code",
   "execution_count": 20,
   "id": "487db371",
   "metadata": {
    "scrolled": true
   },
   "outputs": [
    {
     "data": {
      "image/png": "[encoded data removed]",
      "text/plain": [
       "<Figure size 600x400 with 1 Axes>"
      ]
     },
     "metadata": {},
     "output_type": "display_data"
    }
   ],
   "source": [
    "INFLAM_CTLSB = ctl.ControlSBML(inflam_url, input_names=['Nstar'], output_names=['D'])\n",
    "\n",
    "INFLAM_CTLSB_RR = INFLAM_CTLSB.roadrunner\n",
    "INFLAM_CTLSB_RR.simulate(0, 10, 100)\n",
    "INFLAM_CTLSB_RR.plot()"
   ]
  },
  {
   "cell_type": "code",
   "execution_count": 21,
   "id": "2d6a3af7",
   "metadata": {},
   "outputs": [],
   "source": [
    "# print(INFLAM_CTLSB.antimony)"
   ]
  },
  {
   "cell_type": "code",
   "execution_count": 22,
   "id": "dd2be2ed",
   "metadata": {},
   "outputs": [
    {
     "data": {
      "image/png": "[encoded data removed]",
      "text/plain": [
       "<Figure size 500x500 with 1 Axes>"
      ]
     },
     "metadata": {},
     "output_type": "display_data"
    }
   ],
   "source": [
    "#plot model with just output component of interest, the phagocyte-damage system\n",
    "\n",
    "n_d_sys = INFLAM_CTLSB.makeNonlinearIOSystem(\"n_d_sys\")\n",
    "ts = ctl.simulateSystem(n_d_sys, end_time=100)\n",
    "_ = ctl.plotOneTS(ts, figsize=(5,5), ylim=[0, 10])"
   ]
  },
  {
   "cell_type": "markdown",
   "id": "61a6f42d-7f77-4299-9d24-703c18b81b21",
   "metadata": {},
   "source": [
    "## Controllability and operating region\n",
    "1. Do a staircase plot of the control input's effect on the measured output from your system.\n",
    "1. Determine the operating region, the range of (control) inputs to your system that you will use."
   ]
  },
  {
   "cell_type": "markdown",
   "id": "7c2f4b4a",
   "metadata": {},
   "source": [
    "To get any step response of tissue damage to Nstar input, we have to use an extremely small operating region."
   ]
  },
  {
   "cell_type": "code",
   "execution_count": 47,
   "id": "2bc81170",
   "metadata": {},
   "outputs": [
    {
     "data": {
      "image/png": "[encoded data removed]",
      "text/plain": [
       "<Figure size 300x300 with 2 Axes>"
      ]
     },
     "metadata": {},
     "output_type": "display_data"
    },
    {
     "data": {
      "text/plain": []
     },
     "execution_count": 47,
     "metadata": {},
     "output_type": "execute_result"
    }
   ],
   "source": [
    "inflam_builder = INFLAM_CTLSB.makeSISOTransferFunctionBuilder()\n",
    "inflam_builder.input_name, inflam_builder.output_name\n",
    "\n",
    "inflam_builder.plotStaircaseResponse(initial_value=0, final_value=0.1, figsize=(3,3),\n",
    "                                    legend_crd=(0.5, 1), end_time=5000)"
   ]
  },
  {
   "cell_type": "markdown",
   "id": "c0b34626-58b6-436e-916b-8fc130a450bd",
   "metadata": {},
   "source": [
    "# Step 2. System Identification (15 pts)"
   ]
  },
  {
   "cell_type": "markdown",
   "id": "1b783965-0e3e-49b7-a254-6d5058293bcb",
   "metadata": {},
   "source": [
    "Here, we estimate a transfer function for the system over the operating range. This was optimized in HW2 for input of Nstar and output of P. Now, we must readjust for output of D."
   ]
  },
  {
   "cell_type": "code",
   "execution_count": 24,
   "id": "f02c80af",
   "metadata": {
    "scrolled": true
   },
   "outputs": [
    {
     "data": {
      "image/png": "[encoded data removed]",
      "text/plain": [
       "<Figure size 300x300 with 1 Axes>"
      ]
     },
     "metadata": {},
     "output_type": "display_data"
    },
    {
     "data": {
      "text/plain": []
     },
     "execution_count": 24,
     "metadata": {},
     "output_type": "execute_result"
    }
   ],
   "source": [
    "num_degree = 1\n",
    "denom_degree = 2\n",
    "\n",
    "fitter_result =  inflam_builder.fitTransferFunction(num_degree+1, denom_degree+1, final_value=10,initial_value=0, end_time=400)\n",
    "\n",
    "ctl.plotOneTS(fitter_result.time_series, figsize=(3,3), legend_crd=(2,1))"
   ]
  },
  {
   "cell_type": "markdown",
   "id": "be5a7760",
   "metadata": {},
   "source": [
    "Any transfer function I try with a denominator > 2 becomes very problematic to run. The block of code takes > 30 minutes to run."
   ]
  },
  {
   "cell_type": "markdown",
   "id": "ac13c54f-e91e-4573-94bd-ea2b99564791",
   "metadata": {},
   "source": [
    "## Estimated transfer function"
   ]
  },
  {
   "cell_type": "markdown",
   "id": "1572c911-961e-46ee-8df7-a23805f95a4d",
   "metadata": {},
   "source": [
    "1. Estimate the transfer function over the operating range and evaluate the quality of the estimate by plotting the \n",
    "true system output and the output predicted by the transfer function.\n",
    "1. Show the transfer function."
   ]
  },
  {
   "cell_type": "code",
   "execution_count": 25,
   "id": "fed9c444",
   "metadata": {},
   "outputs": [
    {
     "name": "stdout",
     "output_type": "stream",
     "text": [
      "\n",
      "        1.381 s + 0.4017\n",
      "---------------------------------\n",
      "2.608e-05 s^2 + 0.8282 s + 0.1848\n",
      "\n"
     ]
    }
   ],
   "source": [
    "#transfer functionWhat is the DC gain? What are the poles? What are the implications for control?\n",
    "\n",
    "INFLAM_TF = fitter_result.transfer_function\n",
    "\n",
    "print(INFLAM_TF)"
   ]
  },
  {
   "cell_type": "markdown",
   "id": "9a8677b7-006c-4e07-b5f7-3b34224c4d25",
   "metadata": {},
   "source": [
    "## Evaluation of the quality of the estimated transfer function"
   ]
  },
  {
   "cell_type": "markdown",
   "id": "1389da7f-c24a-45a3-9b1e-99500c13f64a",
   "metadata": {},
   "source": [
    "Analyze the expected impact of the accuracy of the transfer function on the closed loop design."
   ]
  },
  {
   "cell_type": "code",
   "execution_count": 26,
   "id": "96872bf4",
   "metadata": {},
   "outputs": [
    {
     "data": {
      "text/plain": [
       "{'n0': 37626.993762765065,\n",
       " 'n1': 10944.06919354047,\n",
       " 'd0': 0.709219993643607,\n",
       " 'd1': 22562.14429189864,\n",
       " 'd2': 5035.418639603422}"
      ]
     },
     "execution_count": 26,
     "metadata": {},
     "output_type": "execute_result"
    }
   ],
   "source": [
    "#std error\n",
    "\n",
    "fitter_result.stderr"
   ]
  },
  {
   "cell_type": "code",
   "execution_count": 27,
   "id": "229b5f53",
   "metadata": {},
   "outputs": [
    {
     "data": {
      "text/plain": [
       "107"
      ]
     },
     "execution_count": 27,
     "metadata": {},
     "output_type": "execute_result"
    }
   ],
   "source": [
    "#number of simulations to find best transfer function\n",
    "\n",
    "fitter_result.nfev"
   ]
  },
  {
   "cell_type": "code",
   "execution_count": 28,
   "id": "59f33bf2",
   "metadata": {
    "scrolled": true
   },
   "outputs": [
    {
     "data": {
      "text/plain": [
       "2.173534798865417"
      ]
     },
     "execution_count": 28,
     "metadata": {},
     "output_type": "execute_result"
    }
   ],
   "source": [
    "#DC gain\n",
    "\n",
    "fitter_result.transfer_function.dcgain()"
   ]
  },
  {
   "cell_type": "code",
   "execution_count": 29,
   "id": "457112ff",
   "metadata": {},
   "outputs": [
    {
     "data": {
      "text/plain": [
       "array([-3.17627457e+04+0.j, -2.23129415e-01+0.j])"
      ]
     },
     "execution_count": 29,
     "metadata": {},
     "output_type": "execute_result"
    }
   ],
   "source": [
    "#poles\n",
    "\n",
    "fitter_result.transfer_function.poles()"
   ]
  },
  {
   "cell_type": "markdown",
   "id": "e2f0dae9",
   "metadata": {},
   "source": [
    "The dominant pole here is extremely close to zero, suggesting a pretty slow response time. If damage is being caused to organs and tissue, this is really bad! My object is to see if I can improve upon this slow response."
   ]
  },
  {
   "cell_type": "markdown",
   "id": "a608a843-3822-4bf6-91ab-07fa42e2b913",
   "metadata": {},
   "source": [
    "# Step 3. Optimization-Based Control Design (40 pts)"
   ]
  },
  {
   "cell_type": "markdown",
   "id": "4cbd5209-f87d-4363-b3e8-762d17095275",
   "metadata": {},
   "source": [
    "1. Designs a closed loop system that achieves our control objectives. By \"design\" is meant finding values\n",
    "of $k_P, k_I, k_D, k_F$.\n",
    "1. Consider noise in the design. Noise is specified by a high frequency sinewave, 20 Hz."
   ]
  },
  {
   "cell_type": "code",
   "execution_count": 30,
   "id": "901a13ce",
   "metadata": {},
   "outputs": [
    {
     "data": {
      "image/png": "[encoded data removed]",
      "text/plain": [
       "<Figure size 300x300 with 1 Axes>"
      ]
     },
     "metadata": {},
     "output_type": "display_data"
    }
   ],
   "source": [
    "times = np.linspace(0, 30, 200)\n",
    "INFLAM_DESIGN_RESULT  = designClosedLoop(INFLAM_TF, kmax=100,\n",
    "                                       is_kD=True,\n",
    "                                 amp=200, times=times, is_warnings=False)\n",
    "plotDesignResult(INFLAM_DESIGN_RESULT, end_time=max(times))\n",
    "\n",
    "#oscillations are out of control!"
   ]
  },
  {
   "cell_type": "code",
   "execution_count": 31,
   "id": "2755c64a",
   "metadata": {},
   "outputs": [
    {
     "data": {
      "text/html": [
       "<table><tr><th> name </th><th> value </th><th> standard error </th><th> relative error </th><th> initial value </th><th> min </th><th> max </th><th> vary </th></tr><tr><td> kP </td><td>  3.0815e-08 </td><td>  0.43742257 </td><td> (1419513082.90%) </td><td> 1 </td><td>  0.00000000 </td><td>  100.000000 </td><td> True </td></tr><tr><td> kI </td><td>  99.9999734 </td><td>  13.7020411 </td><td> (13.70%) </td><td> 1 </td><td>  0.00000000 </td><td>  100.000000 </td><td> True </td></tr><tr><td> kD </td><td>  1.8875e-05 </td><td>  9.2121e-06 </td><td> (48.80%) </td><td> 1 </td><td>  0.00000000 </td><td>  100.000000 </td><td> True </td></tr><tr><td> kF </td><td>  9.96279020 </td><td>  2.36004536 </td><td> (23.69%) </td><td> 1 </td><td>  0.00000000 </td><td>  100.000000 </td><td> True </td></tr></table>"
      ],
      "text/plain": [
       "Parameters([('kP', <Parameter 'kP', value=3.081497279566747e-08 +/- 0.437, bounds=[0:100]>), ('kI', <Parameter 'kI', value=99.99997342578322 +/- 13.7, bounds=[0:100]>), ('kD', <Parameter 'kD', value=1.8875439183885234e-05 +/- 9.21e-06, bounds=[0:100]>), ('kF', <Parameter 'kF', value=9.962790200160153 +/- 2.36, bounds=[0:100]>)])"
      ]
     },
     "execution_count": 31,
     "metadata": {},
     "output_type": "execute_result"
    }
   ],
   "source": [
    "INFLAM_DESIGN_RESULT.params"
   ]
  },
  {
   "cell_type": "code",
   "execution_count": 32,
   "id": "19c0d42f",
   "metadata": {},
   "outputs": [
    {
     "data": {
      "image/png": "[encoded data removed]",
      "text/plain": [
       "<Figure size 300x300 with 1 Axes>"
      ]
     },
     "metadata": {},
     "output_type": "display_data"
    }
   ],
   "source": [
    "#oscillations still occuring on far too large of a scale\n",
    "\n",
    "times = np.linspace(0, 30, 200)\n",
    "INFLAM_DESIGN_RESULT  = designClosedLoop(INFLAM_TF, kmax=10,\n",
    "                                       is_kD=True, is_kI=True,\n",
    "                                 amp=200, times=times, is_warnings=False)\n",
    "plotDesignResult(INFLAM_DESIGN_RESULT, end_time=max(times))"
   ]
  },
  {
   "cell_type": "code",
   "execution_count": 33,
   "id": "8eca30eb",
   "metadata": {},
   "outputs": [
    {
     "data": {
      "text/html": [
       "<table><tr><th> name </th><th> value </th><th> standard error </th><th> relative error </th><th> initial value </th><th> min </th><th> max </th><th> vary </th></tr><tr><td> kP </td><td>  9.99999541 </td><td>  3.19852412 </td><td> (31.99%) </td><td> 1 </td><td>  0.00000000 </td><td>  10.0000000 </td><td> True </td></tr><tr><td> kI </td><td>  9.99999941 </td><td>  0.69969374 </td><td> (7.00%) </td><td> 1 </td><td>  0.00000000 </td><td>  10.0000000 </td><td> True </td></tr><tr><td> kD </td><td>  1.8948e-05 </td><td>  7.9173e-05 </td><td> (417.85%) </td><td> 1 </td><td>  0.00000000 </td><td>  10.0000000 </td><td> True </td></tr><tr><td> kF </td><td>  9.99740879 </td><td>  28.4677526 </td><td> (284.75%) </td><td> 1 </td><td>  0.00000000 </td><td>  10.0000000 </td><td> True </td></tr></table>"
      ],
      "text/plain": [
       "Parameters([('kP', <Parameter 'kP', value=9.999995408957625 +/- 3.2, bounds=[0:10]>), ('kI', <Parameter 'kI', value=9.999999407455702 +/- 0.7, bounds=[0:10]>), ('kD', <Parameter 'kD', value=1.894782466260736e-05 +/- 7.92e-05, bounds=[0:10]>), ('kF', <Parameter 'kF', value=9.99740878644418 +/- 28.5, bounds=[0:10]>)])"
      ]
     },
     "execution_count": 33,
     "metadata": {},
     "output_type": "execute_result"
    }
   ],
   "source": [
    "INFLAM_DESIGN_RESULT.params"
   ]
  },
  {
   "cell_type": "markdown",
   "id": "c7662f23",
   "metadata": {},
   "source": [
    "This architecture has the DC gain settling at 1. Setting is_kF = False makes this process faster."
   ]
  },
  {
   "cell_type": "code",
   "execution_count": 34,
   "id": "7bb463de",
   "metadata": {
    "scrolled": true
   },
   "outputs": [
    {
     "data": {
      "image/png": "[encoded data removed]",
      "text/plain": [
       "<Figure size 300x300 with 1 Axes>"
      ]
     },
     "metadata": {},
     "output_type": "display_data"
    }
   ],
   "source": [
    "times = np.linspace(0, 30, 200)\n",
    "INFLAM_DESIGN_RESULT  = designClosedLoop(INFLAM_TF, kmax=1,\n",
    "                                       is_kD=True, is_kI=True, is_kF=False,\n",
    "                                 amp=10, times=times, is_warnings=False)\n",
    "plotDesignResult(INFLAM_DESIGN_RESULT, end_time=max(times))"
   ]
  },
  {
   "cell_type": "code",
   "execution_count": 35,
   "id": "6631fbe0",
   "metadata": {
    "scrolled": true
   },
   "outputs": [
    {
     "data": {
      "text/html": [
       "<table><tr><th> name </th><th> value </th><th> standard error </th><th> relative error </th><th> initial value </th><th> min </th><th> max </th><th> vary </th></tr><tr><td> kP </td><td>  1.00000000 </td><td>  0.00900538 </td><td> (0.90%) </td><td> 1 </td><td>  0.00000000 </td><td>  1.00000000 </td><td> True </td></tr><tr><td> kI </td><td>  0.99945680 </td><td>  0.25883351 </td><td> (25.90%) </td><td> 1 </td><td>  0.00000000 </td><td>  1.00000000 </td><td> True </td></tr><tr><td> kD </td><td>  0.19915734 </td><td>  0.71624113 </td><td> (359.64%) </td><td> 1 </td><td>  0.00000000 </td><td>  1.00000000 </td><td> True </td></tr></table>"
      ],
      "text/plain": [
       "Parameters([('kP', <Parameter 'kP', value=1.0 +/- 0.00901, bounds=[0:1]>), ('kI', <Parameter 'kI', value=0.9994567996644206 +/- 0.259, bounds=[0:1]>), ('kD', <Parameter 'kD', value=0.19915733736446678 +/- 0.716, bounds=[0:1]>)])"
      ]
     },
     "execution_count": 35,
     "metadata": {},
     "output_type": "execute_result"
    }
   ],
   "source": [
    "INFLAM_DESIGN_RESULT.params"
   ]
  },
  {
   "cell_type": "code",
   "execution_count": 36,
   "id": "491eeea3",
   "metadata": {},
   "outputs": [
    {
     "data": {
      "image/png": "[encoded data removed]",
      "text/plain": [
       "<Figure size 300x300 with 1 Axes>"
      ]
     },
     "metadata": {},
     "output_type": "display_data"
    }
   ],
   "source": [
    "times = np.linspace(0, 30, 200)\n",
    "INFLAM_DESIGN_RESULT  = designClosedLoop(INFLAM_TF, kmax=1,\n",
    "                                       is_kDD=True, is_kD=False, is_kI=True, is_kF=False,\n",
    "                                 amp=10, times=times, is_warnings=False)\n",
    "plotDesignResult(INFLAM_DESIGN_RESULT, end_time=max(times))"
   ]
  },
  {
   "cell_type": "code",
   "execution_count": 37,
   "id": "2163fc88",
   "metadata": {},
   "outputs": [
    {
     "data": {
      "text/html": [
       "<table><tr><th> name </th><th> value </th><th> standard error </th><th> relative error </th><th> initial value </th><th> min </th><th> max </th><th> vary </th></tr><tr><td> kP </td><td>  1.00000000 </td><td>  0.97354260 </td><td> (97.35%) </td><td> 1 </td><td>  0.00000000 </td><td>  1.00000000 </td><td> True </td></tr><tr><td> kI </td><td>  0.08136585 </td><td>  0.04455516 </td><td> (54.76%) </td><td> 1 </td><td>  0.00000000 </td><td>  1.00000000 </td><td> True </td></tr><tr><td> kDD </td><td>  0.05565766 </td><td>  0.00394036 </td><td> (7.08%) </td><td> 1 </td><td>  0.00000000 </td><td>  1.00000000 </td><td> True </td></tr></table>"
      ],
      "text/plain": [
       "Parameters([('kP', <Parameter 'kP', value=0.9999999997831226 +/- 0.974, bounds=[0:1]>), ('kI', <Parameter 'kI', value=0.08136585109971639 +/- 0.0446, bounds=[0:1]>), ('kDD', <Parameter 'kDD', value=0.05565766458486204 +/- 0.00394, bounds=[0:1]>)])"
      ]
     },
     "execution_count": 37,
     "metadata": {},
     "output_type": "execute_result"
    }
   ],
   "source": [
    "INFLAM_DESIGN_RESULT.params"
   ]
  },
  {
   "cell_type": "markdown",
   "id": "7f5cf699",
   "metadata": {},
   "source": [
    "Lowering the value of kmax by an order of magnitutde in each of these trials has greatly tampered noise and helped achieve a DC gain of 1. Thus, we can move forward with kmax=1."
   ]
  },
  {
   "cell_type": "markdown",
   "id": "74e20e6e",
   "metadata": {},
   "source": [
    "Adding a DD control element has also reduced the oscillation."
   ]
  },
  {
   "cell_type": "markdown",
   "id": "a392ab9e-0236-45e5-9589-f3a298336070",
   "metadata": {},
   "source": [
    "# Step 4. Testbed evaluations (15 pts)"
   ]
  },
  {
   "cell_type": "markdown",
   "id": "f0a48251-2ec3-4448-9709-682e7779d254",
   "metadata": {},
   "source": [
    "This step builds a testbed for the system designed in the previous step, and does simulation runs to assess performance relative to the control objectives."
   ]
  },
  {
   "cell_type": "markdown",
   "id": "2088dc97-ad9e-4d46-b881-c882a33c532c",
   "metadata": {},
   "source": [
    "## Implementation"
   ]
  },
  {
   "cell_type": "markdown",
   "id": "30624df5-48ce-467c-bfc0-0a7a1c98f122",
   "metadata": {},
   "source": [
    "Use the helper ``makeClosedLoopSystem``to do control design. Some iteration may be required."
   ]
  },
  {
   "cell_type": "code",
   "execution_count": 38,
   "id": "9b6e8189",
   "metadata": {},
   "outputs": [],
   "source": [
    "SETPOINT = 0\n",
    "INFLAM_TIMES = np.linspace(0, 40, 400)"
   ]
  },
  {
   "cell_type": "code",
   "execution_count": 39,
   "id": "87963f8c",
   "metadata": {
    "scrolled": true
   },
   "outputs": [
    {
     "data": {
      "image/png": "[encoded data removed]",
      "text/plain": [
       "<Figure size 500x500 with 1 Axes>"
      ]
     },
     "metadata": {},
     "output_type": "display_data"
    }
   ],
   "source": [
    "# Open loop system with controllers set to zero\n",
    "\n",
    "inflam_closed_sys = makeClosedLoopSystem(INFLAM_CTLSB, kP=0, kI=0, kF=0, kD=0, noise_amplitude=1, noise_frequency=20)\n",
    "plot_result = plotSys(inflam_closed_sys, forced_input=[SETPOINT], times=INFLAM_TIMES, \n",
    "                      is_plot=True, output_labels=[\"D\"], ylim=[-5,5])"
   ]
  },
  {
   "cell_type": "code",
   "execution_count": 40,
   "id": "b93d1b26",
   "metadata": {
    "scrolled": true
   },
   "outputs": [
    {
     "data": {
      "image/png": "[encoded data removed]",
      "text/plain": [
       "<Figure size 500x500 with 1 Axes>"
      ]
     },
     "metadata": {},
     "output_type": "display_data"
    }
   ],
   "source": [
    "# System with design parameters\n",
    "#set y_lim to +/- 50 to get good picture of control input fluctuation\n",
    "\n",
    "kP = INFLAM_DESIGN_RESULT.params[\"kP\"].value\n",
    "kI = INFLAM_DESIGN_RESULT.params[\"kI\"].value\n",
    "\n",
    "if \"kF\" in INFLAM_DESIGN_RESULT.params.keys():\n",
    "    kF = INFLAM_DESIGN_RESULT.params[\"kF\"].value\n",
    "else:\n",
    "    kF = 100\n",
    "if \"kD\" in INFLAM_DESIGN_RESULT.params.keys():\n",
    "    kD = INFLAM_DESIGN_RESULT.params[\"kD\"].value\n",
    "else:\n",
    "    kD = 1\n",
    "    \n",
    "inflam_closed_sys = makeClosedLoopSystem(INFLAM_CTLSB, kP=kP, kI=kI, kD=kD, kF=kF,\n",
    "                                      noise_amplitude=1, noise_frequency=20)\n",
    "plot_result = plotSys(inflam_closed_sys, forced_input=[SETPOINT], times=INFLAM_TIMES, \n",
    "                      is_plot=True, output_labels=[\"D\", \"control_input\"], ylim=[-50,50])"
   ]
  },
  {
   "cell_type": "markdown",
   "id": "7f1ea3bf-db55-41c8-9dcb-91f5f801c83d",
   "metadata": {},
   "source": [
    "## Tuning"
   ]
  },
  {
   "cell_type": "code",
   "execution_count": 41,
   "id": "44b8236e",
   "metadata": {
    "scrolled": true
   },
   "outputs": [
    {
     "data": {
      "image/png": "[encoded data removed]",
      "text/plain": [
       "<Figure size 500x500 with 1 Axes>"
      ]
     },
     "metadata": {},
     "output_type": "display_data"
    }
   ],
   "source": [
    "# System with design parameters\n",
    "#set y_lim to +/- 5 to get good picture of response fluctuation\n",
    "#include kDD control\n",
    "\n",
    "kP = INFLAM_DESIGN_RESULT.params[\"kP\"].value\n",
    "kI = INFLAM_DESIGN_RESULT.params[\"kI\"].value\n",
    "kDD = INFLAM_DESIGN_RESULT.params[\"kDD\"].value\n",
    "if \"kD\" in INFLAM_DESIGN_RESULT.params.keys():\n",
    "    kD = INFLAM_DESIGN_RESULT.params[\"kD\"].value\n",
    "else:\n",
    "    kD = 1\n",
    "inflam_closed_sys = makeClosedLoopSystem(INFLAM_CTLSB, kP=1, kI=1, kDD=kDD, kD=0, kF=1,\n",
    "                                      noise_amplitude=1, noise_frequency=20)\n",
    "plot_result = plotSys(inflam_closed_sys, forced_input=[SETPOINT], times=INFLAM_TIMES, \n",
    "                      is_plot=True, output_labels=[\"D\", \"control_input\"], ylim=[-5,5])"
   ]
  },
  {
   "cell_type": "markdown",
   "id": "d5f463d1",
   "metadata": {},
   "source": [
    "To achieve the above response, Nstar must be removed from system at an unreasonable rate."
   ]
  },
  {
   "cell_type": "code",
   "execution_count": 42,
   "id": "ef9e303c",
   "metadata": {
    "scrolled": true
   },
   "outputs": [
    {
     "data": {
      "image/png": "[encoded data removed]",
      "text/plain": [
       "<Figure size 500x500 with 1 Axes>"
      ]
     },
     "metadata": {},
     "output_type": "display_data"
    }
   ],
   "source": [
    "# System with design parameters\n",
    "#set y_lim to +/- 5 to get good picture of response fluctuation\n",
    "#increase integral control to 2 (would like to go higher but runtime error prevents this)\n",
    "\n",
    "kP = INFLAM_DESIGN_RESULT.params[\"kP\"].value\n",
    "kI = INFLAM_DESIGN_RESULT.params[\"kI\"].value\n",
    "if \"kF\" in INFLAM_DESIGN_RESULT.params.keys():\n",
    "    kF = INFLAM_DESIGN_RESULT.params[\"kF\"].value\n",
    "else:\n",
    "    kF = 10\n",
    "inflam_closed_sys = makeClosedLoopSystem(INFLAM_CTLSB, kP=1, kI=2, kD=0, kF=0,\n",
    "                                      noise_amplitude=1, noise_frequency=20)\n",
    "plot_result = plotSys(inflam_closed_sys, forced_input=[SETPOINT], times=INFLAM_TIMES, \n",
    "                      is_plot=True, output_labels=[\"D\", \"control_input\"], ylim=[-50,50])"
   ]
  },
  {
   "cell_type": "markdown",
   "id": "4e882659",
   "metadata": {},
   "source": [
    "Decent response, but Damage is still oscillating above zero."
   ]
  },
  {
   "cell_type": "code",
   "execution_count": 43,
   "id": "90a0e10a",
   "metadata": {
    "scrolled": true
   },
   "outputs": [
    {
     "data": {
      "image/png": "[encoded data removed]",
      "text/plain": [
       "<Figure size 500x500 with 1 Axes>"
      ]
     },
     "metadata": {},
     "output_type": "display_data"
    }
   ],
   "source": [
    "# System with design parameters\n",
    "#set y_lim to +5/-20 to get good picture of response fluctuation as well as input magnitude necessary for response\n",
    "\n",
    "kP = INFLAM_DESIGN_RESULT.params[\"kP\"].value\n",
    "kI = INFLAM_DESIGN_RESULT.params[\"kI\"].value\n",
    "kDD = INFLAM_DESIGN_RESULT.params[\"kDD\"].value\n",
    "if \"kF\" in INFLAM_DESIGN_RESULT.params.keys():\n",
    "    kF = INFLAM_DESIGN_RESULT.params[\"kF\"].value\n",
    "else:\n",
    "    kF = 10\n",
    "inflam_closed_sys = makeClosedLoopSystem(INFLAM_CTLSB, kP=1, kI=kI, kDD=0, kF=50,\n",
    "                                      noise_amplitude=1, noise_frequency=20)\n",
    "plot_result = plotSys(inflam_closed_sys, forced_input=[SETPOINT], times=INFLAM_TIMES, \n",
    "                      is_plot=True, output_labels=[\"D\", \"control_input\"], ylim=[-20,5])"
   ]
  },
  {
   "cell_type": "markdown",
   "id": "651e0dc7-e43b-49e6-a092-5f79dc5acab4",
   "metadata": {},
   "source": [
    "The above design was the best I could get for achieving my control objectives. Here is why:\n",
    "\n",
    "-Adding the filter was the only way D would oscillate around zero. We want to have D converge to zero, but I have not found an architecture than can achieve this.\n",
    "\n",
    "-Although we are having to remove activated phagocytes (Nstar) in this architecture, the rate at which they must be removed is much lower with kF=50 as opposed to values of lower magnitude (see above trials).\n",
    "\n",
    "-Increasing the magnitude of kP and kI causes a runtime error (cells take about 20 minutes to run, and then give the error). It is crucial that they are around 1 in terms of magnitude. Using a negative value of kI caused the value of D to increase instead of oscillating, thus creating a worse outcome in the context of this biological system. I set kI equal to the value given by my transfer function (0.445).\n",
    "\n",
    "-This response mirrors what I saw while designing the closed loop system; we can tamper the output towards the setpoint, but removing noise has proved to be impossible.\n"
   ]
  },
  {
   "cell_type": "markdown",
   "id": "c03eb97a-eab5-495b-9f99-a7052a3ee493",
   "metadata": {},
   "source": [
    "# Step 5. Discussion (15 pts)"
   ]
  },
  {
   "cell_type": "markdown",
   "id": "9234079b-1100-4f8e-b7f0-8f2866d048b4",
   "metadata": {},
   "source": [
    "1. How does the operating range of the OLS in the stepbed compare with the operating range you used in Step 2?\n",
    "1. How well are control objectives achieved?\n",
    "1. What value did you get from doing control design?"
   ]
  },
  {
   "cell_type": "markdown",
   "id": "3f81220c",
   "metadata": {},
   "source": [
    "1) The operating range I used in the OLS was miniscule (0 to 0.1). This was the maximum operating range that yielded any staricase response from D with Nstar as the input. In step 2, after fitting the transfer function, the operating range became more robust (1-10). Transitioning to the laplace domain improved my operating range of control.\n",
    "\n",
    "\n",
    "2) I am able to get D to oscillate around my target setpoint of 0 by implementing a complete controller, with kP, kD, kDD all having values of 1 and kF having a value of 100. Increasing these constants gives me a runtime error. I suspect a higher value of integral control would tamper the oscillations, but I have yet to be able to run this code without an error.\n",
    "\n",
    "\n",
    "3) I think practicing control design was a valuable experience, and to me the most important part of it was learning how utilizing different methods of control can manipulate a system. The first layer of mapping different types of control (proportional, integral, differential) to a specific goal provided a great background, and then gaining experience tweaking these control strategies for a unique system helped me understand the subtle complexities within different systems. The course also included a signficant aspect of reinforcement learning; a lot of the value I will take from this quarter was obtained by trying different control strategies, failing, and then trying something else. Finally, solving problems in the context of biology provided great exposure to really stubborn systems and highlighted how control design does not have a trivial formula for these types of systems. Effectively controlling biological machinery requires unique and iterative problem solving."
   ]
  },
  {
   "cell_type": "code",
   "execution_count": null,
   "id": "9b06ee8f",
   "metadata": {},
   "outputs": [],
   "source": []
  }
 ],
 "metadata": {
  "kernelspec": {
   "display_name": "Python 3 (ipykernel)",
   "language": "python",
   "name": "python3"
  },
  "language_info": {
   "codemirror_mode": {
    "name": "ipython",
    "version": 3
   },
   "file_extension": ".py",
   "mimetype": "text/x-python",
   "name": "python",
   "nbconvert_exporter": "python",
   "pygments_lexer": "ipython3",
   "version": "3.9.6"
  }
 },
 "nbformat": 4,
 "nbformat_minor": 5
}
