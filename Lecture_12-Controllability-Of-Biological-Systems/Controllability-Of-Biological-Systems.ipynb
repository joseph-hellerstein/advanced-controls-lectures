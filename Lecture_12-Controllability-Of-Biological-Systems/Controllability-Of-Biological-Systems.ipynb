{
 "cells": [
  {
   "cell_type": "markdown",
   "id": "4c0cdaa8-e6ca-4506-a137-3f467df23247",
   "metadata": {},
   "source": [
    "# CONTROLLABILITY OF BIOLOGICAL SYSTEMS"
   ]
  },
  {
   "cell_type": "markdown",
   "id": "f2fac94d-a6ef-4d86-9170-cf893b5e0660",
   "metadata": {},
   "source": [
    "This notebook explores the construction and interpretation of transfer functions for more complex networks."
   ]
  },
  {
   "cell_type": "markdown",
   "id": "ab67663b-1311-42f0-b417-26f10529455f",
   "metadata": {},
   "source": [
    "# Preliminaries"
   ]
  },
  {
   "cell_type": "code",
   "execution_count": 1,
   "id": "d40e6a46-9276-41fc-8806-37917c2d04bc",
   "metadata": {},
   "outputs": [
    {
     "name": "stdout",
     "output_type": "stream",
     "text": [
      "controlSBML version: 0.2.10\n"
     ]
    }
   ],
   "source": [
    "!pip -q install controlSBML\n",
    "import controlSBML as ctl\n",
    "import control\n",
    "from controlSBML.util import makeSimulationTimes\n",
    "\n",
    "import pandas as pd\n",
    "import matplotlib.pyplot as plt\n",
    "import numpy as np\n",
    "import tellurium as te\n",
    "import sympy\n",
    "print(\"controlSBML version: \" + ctl.__version__)"
   ]
  },
  {
   "cell_type": "markdown",
   "id": "3a2e7d1f-28fb-4125-8dbf-d3225e1ff78c",
   "metadata": {},
   "source": [
    "# Transfer Functions in the ``control`` Package"
   ]
  },
  {
   "cell_type": "markdown",
   "id": "11e83088-9b34-4bea-8737-020b109ff057",
   "metadata": {},
   "source": [
    "Suppose our transfer function is $G(s) = \\frac{1}{s} \\frac{k_1}{k_2 + s}$.\n",
    "\n",
    "The ``control`` packages provides a way to construct transfer functions that are a ratio of\n",
    "polynomials in $s$."
   ]
  },
  {
   "cell_type": "markdown",
   "id": "55a2d36d-497d-44b8-83d0-14d249c801ad",
   "metadata": {},
   "source": [
    "## Representing Polynomials"
   ]
  },
  {
   "cell_type": "markdown",
   "id": "047bf1aa-9b16-4dfa-a781-0690c09a4fc4",
   "metadata": {},
   "source": [
    "A polynomial in $s$ is represented as a ``python`` list.\n",
    "For example, $s + k_2$ is the polynomial $(1)s^1 + (k_2) s^0$.\n",
    "It is represented by the list ``[1, k2]``, where ``k2`` is the floating point value of $k_2$.\n",
    "The interpretation is that the last element of the list is the coefficient of $s^0$;\n",
    "elements that preceed the last element represent successive powers of $s$."
   ]
  },
  {
   "cell_type": "markdown",
   "id": "72b4d77e-ae36-4d6f-9cd1-6144074db6c0",
   "metadata": {},
   "source": [
    "**Question: What is the list that represents the polynomial $3 S^3 + 2s$?**"
   ]
  },
  {
   "cell_type": "markdown",
   "id": "af21237f-1944-4755-87f4-90d05cb9b58f",
   "metadata": {},
   "source": [
    "## Creating Transfer Functions"
   ]
  },
  {
   "cell_type": "markdown",
   "id": "67ce2e70-039a-4278-99b3-074aeb5f2583",
   "metadata": {},
   "source": [
    "To create a transfer function, you provide the numerator and denominator polynomial.\n",
    "Consider the construction of the transfer function for\n",
    "$G(s) = \\frac{1}{s} \\frac{k_1}{k_2 + s} = \\frac{k_1}{s^2 + k_2 s}$."
   ]
  },
  {
   "cell_type": "markdown",
   "id": "3a7f6244-46e5-4ab7-aae5-be8fcf80617d",
   "metadata": {},
   "source": [
    "**Question: What are the poles of $G(s)$?**"
   ]
  },
  {
   "cell_type": "code",
   "execution_count": 2,
   "id": "7b1b7cb4-2370-4548-90f9-87b0981fbca7",
   "metadata": {},
   "outputs": [
    {
     "data": {
      "text/latex": [
       "$$\\frac{1}{s^2 + 2 s}$$"
      ],
      "text/plain": [
       "TransferFunction(array([1]), array([1, 2, 0]))"
      ]
     },
     "execution_count": 2,
     "metadata": {},
     "output_type": "execute_result"
    }
   ],
   "source": [
    "k1 = 1\n",
    "k2 = 2\n",
    "tf = control.TransferFunction([k1], [1, k2, 0])\n",
    "tf"
   ]
  },
  {
   "cell_type": "markdown",
   "id": "e5f0208b-4a5d-4c78-9953-a8942e8209a3",
   "metadata": {},
   "source": [
    "## Using ``TransferFunction`` objects"
   ]
  },
  {
   "cell_type": "markdown",
   "id": "a82e41e6-24ef-417f-80b6-446a7fb24086",
   "metadata": {},
   "source": [
    "There are several ways to use transfer function objects.\n",
    "You can find the poles, calculate DC gain, and simulate impulse and step responses."
   ]
  },
  {
   "cell_type": "markdown",
   "id": "0c8897bd-3c8d-48c8-a1d2-55de60423cc8",
   "metadata": {},
   "source": [
    "### Poles of a TransferFunction"
   ]
  },
  {
   "cell_type": "code",
   "execution_count": 3,
   "id": "08ca09c4-7772-44e8-8d79-451c4185de50",
   "metadata": {},
   "outputs": [
    {
     "data": {
      "text/plain": [
       "array([-2.,  0.])"
      ]
     },
     "execution_count": 3,
     "metadata": {},
     "output_type": "execute_result"
    }
   ],
   "source": [
    "# The poles should be 0, -k2 = -2\n",
    "tf.pole()"
   ]
  },
  {
   "cell_type": "markdown",
   "id": "9f8ad4c5-d134-4fab-926a-3ed500838b52",
   "metadata": {},
   "source": [
    "### DC Gain of a TransferFunction"
   ]
  },
  {
   "cell_type": "code",
   "execution_count": 4,
   "id": "15d80d3a-085b-4d5d-abf5-26ada55be3e1",
   "metadata": {},
   "outputs": [
    {
     "data": {
      "text/plain": [
       "inf"
      ]
     },
     "execution_count": 4,
     "metadata": {},
     "output_type": "execute_result"
    }
   ],
   "source": [
    "tf.dcgain()"
   ]
  },
  {
   "cell_type": "markdown",
   "id": "fa7ea15d-ac4d-40aa-a7a1-3aa03a0780de",
   "metadata": {},
   "source": [
    "**Question: Why is DC Gain = $\\infty$?**"
   ]
  },
  {
   "cell_type": "markdown",
   "id": "c96fe27b-d983-47c0-9653-4fed86fc2001",
   "metadata": {},
   "source": [
    "### Impulse Response"
   ]
  },
  {
   "cell_type": "code",
   "execution_count": 5,
   "id": "7289f32e-9cc6-413a-ab00-37dd74d7e85d",
   "metadata": {},
   "outputs": [
    {
     "data": {
      "text/plain": [
       "array([ 0. ,  0.2,  0.4,  0.6,  0.8,  1. ,  1.2,  1.4,  1.6,  1.8,  2. ,\n",
       "        2.2,  2.4,  2.6,  2.8,  3. ,  3.2,  3.4,  3.6,  3.8,  4. ,  4.2,\n",
       "        4.4,  4.6,  4.8,  5. ,  5.2,  5.4,  5.6,  5.8,  6. ,  6.2,  6.4,\n",
       "        6.6,  6.8,  7. ,  7.2,  7.4,  7.6,  7.8,  8. ,  8.2,  8.4,  8.6,\n",
       "        8.8,  9. ,  9.2,  9.4,  9.6,  9.8, 10. ])"
      ]
     },
     "execution_count": 5,
     "metadata": {},
     "output_type": "execute_result"
    }
   ],
   "source": [
    "# You can use controlSBML to make a sequence of simulation times. By default it's in increments\n",
    "# of 0.1 from 0 to 5.\n",
    "TIMES = ctl.makeSimulationTimes(end_time=10, points_per_time=5)\n",
    "TIMES"
   ]
  },
  {
   "cell_type": "code",
   "execution_count": 6,
   "id": "ea23393d-0a10-496f-a33c-2909897ad26d",
   "metadata": {},
   "outputs": [],
   "source": [
    "result = control.impulse_response(tf, T=TIMES)"
   ]
  },
  {
   "cell_type": "markdown",
   "id": "6a6969ac-076f-4982-96fb-8d0dd1626cd4",
   "metadata": {},
   "source": [
    "``result`` is complicated objects with many properties.\n",
    "* ``result.outputs`` - ``result.outputs[n]`` is a time series for the output ``n``\n",
    "* ``result.t`` - times simulated (which should be the same as ``TIMES``)"
   ]
  },
  {
   "cell_type": "code",
   "execution_count": 7,
   "id": "c35d5cdf-0617-4541-a88b-686e5cbda55f",
   "metadata": {},
   "outputs": [
    {
     "data": {
      "text/plain": [
       "[<matplotlib.lines.Line2D at 0x7f206c2cf278>]"
      ]
     },
     "execution_count": 7,
     "metadata": {},
     "output_type": "execute_result"
    },
    {
     "data": {
      "image/png": "[encoded data removed]",
      "text/plain": [
       "<Figure size 432x288 with 1 Axes>"
      ]
     },
     "metadata": {
      "needs_background": "light"
     },
     "output_type": "display_data"
    }
   ],
   "source": [
    "# Since we're doing single input single output (SISO) systems,\n",
    "# you can simplify matters by just flattening result.t, result.outputs\n",
    "plt.plot(result.t.flatten(), result.outputs.flatten())"
   ]
  },
  {
   "cell_type": "markdown",
   "id": "076bb418-3584-4bc2-a76a-953ea9931a6d",
   "metadata": {},
   "source": [
    "**Question: The above impulse response converges to 0.5. How is this predicted by $G(s)$?**\n",
    "\n",
    "Hint: Recall that for an impulse input, $y(\\infty) = lim_{s \\rightarrow 0} s G(s)$."
   ]
  },
  {
   "cell_type": "markdown",
   "id": "9ad83cc2-5d7a-4611-a6b9-c127903b132e",
   "metadata": {},
   "source": [
    "### Step Response"
   ]
  },
  {
   "cell_type": "markdown",
   "id": "cee16f3a-5af8-4477-a046-79a30959b586",
   "metadata": {},
   "source": [
    "**Question: Does $G(s)$ converge for a step response? If so, to what value?**\n",
    "\n",
    "Hint: Recall that for a step input, $y(\\infty) = lim_{s \\rightarrow 0}  G(s)$."
   ]
  },
  {
   "cell_type": "markdown",
   "id": "bcc2787a-a47b-496d-9e66-e174db57bdb8",
   "metadata": {},
   "source": [
    "Consider $H(s) = \\frac{k_1}{s + k_2}$."
   ]
  },
  {
   "cell_type": "markdown",
   "id": "d0f69e9b-8afc-496e-bc1c-ba405467e102",
   "metadata": {},
   "source": [
    "**Question: Construct ``control.TransferFunction`` object for $H(s)$. if $k_2 = 3$.**"
   ]
  },
  {
   "cell_type": "markdown",
   "id": "458bf353-235a-4cb2-aa6e-455f568515ae",
   "metadata": {},
   "source": [
    "**REMOVE**"
   ]
  },
  {
   "cell_type": "code",
   "execution_count": 8,
   "id": "4f157486-caa9-4f6e-9f86-0d473a0d455e",
   "metadata": {},
   "outputs": [
    {
     "data": {
      "text/latex": [
       "$$\\frac{1}{s + 3}$$"
      ],
      "text/plain": [
       "TransferFunction(array([1]), array([1, 3]))"
      ]
     },
     "execution_count": 8,
     "metadata": {},
     "output_type": "execute_result"
    }
   ],
   "source": [
    "k2 = 3\n",
    "tf = control.TransferFunction([k1], [1, k2])\n",
    "tf"
   ]
  },
  {
   "cell_type": "code",
   "execution_count": 9,
   "id": "35fe338a-0f6c-4295-bb4c-1a38da93ab25",
   "metadata": {},
   "outputs": [
    {
     "data": {
      "text/plain": [
       "[<matplotlib.lines.Line2D at 0x7f206c2352e8>]"
      ]
     },
     "execution_count": 9,
     "metadata": {},
     "output_type": "execute_result"
    },
    {
     "data": {
      "image/png": "[encoded data removed]",
      "text/plain": [
       "<Figure size 432x288 with 1 Axes>"
      ]
     },
     "metadata": {
      "needs_background": "light"
     },
     "output_type": "display_data"
    }
   ],
   "source": [
    "result = control.step_response(tf, T=TIMES)\n",
    "plt.plot(result.t.flatten(), result.outputs.flatten())"
   ]
  },
  {
   "cell_type": "markdown",
   "id": "064ef512-239f-440e-8a31-432f6bc51172",
   "metadata": {},
   "source": [
    "**Question: The above step response converges to 0.33. How is this predicted by $H(s)$?**"
   ]
  },
  {
   "cell_type": "markdown",
   "id": "be5fe5db-1c4b-4dc0-b154-ed6af5c14666",
   "metadata": {},
   "source": [
    "# State Space Representation in the ``control`` Package"
   ]
  },
  {
   "cell_type": "markdown",
   "id": "82578c75-7548-41ce-a414-0c5e1fe3e137",
   "metadata": {},
   "source": [
    "Consider the reaction network\n",
    "\n",
    "    S1 -> S2 + S3; k1*S1\n",
    "    S2 -> S3;      k2*S2\n",
    "    S3 ->   ;  k3*S3\n",
    "    \n",
    "    k1 = 0.5\n",
    "    k2 = 1.5\n",
    "    k3 = 0.75\n"
   ]
  },
  {
   "cell_type": "markdown",
   "id": "604d81a5-6dfd-4b4c-9d3a-b894d0481213",
   "metadata": {},
   "source": [
    "**Question: What are the system equations for this network?**"
   ]
  },
  {
   "cell_type": "markdown",
   "id": "1a262a2a-0f9a-47ce-b421-da220d98742f",
   "metadata": {},
   "source": [
    "**REMOVE**"
   ]
  },
  {
   "cell_type": "markdown",
   "id": "da07949f-e6f2-46c9-9f0d-1ce7fa16aade",
   "metadata": {},
   "source": [
    "\\begin{eqnarray}\n",
    "\\dot{S}_1 & = & - k_1 S_1 \\\\\n",
    "\\dot{S}_2 & = & k_1 S_1 - k_2 S_2 \\\\\n",
    "\\dot{S}_3 & = & k_1 S_1 + k_2 S_2 - k_3 S_3 \\\\\n",
    "\\end{eqnarray}"
   ]
  },
  {
   "cell_type": "markdown",
   "id": "9d7495f8-14ed-44be-9374-9b72e39f96a9",
   "metadata": {},
   "source": [
    "A state space representation of a SISO system is:\n",
    "\n",
    "\\begin{eqnarray}\n",
    "\\dot{\\bf x} & = & {\\bf A} {\\bf x} + {\\bf b} u \\\\\n",
    "y & = & {\\bf c} {\\bf x}\n",
    "\\end{eqnarray}\n",
    "\n",
    "where\n",
    "* ${\\bf x}$ is a vector of state\n",
    "* $u$ is the scalar input\n",
    "* $y$ is the scalar output\n",
    "* ${\\bf A}$, a matrix of constants, describes the relationships between state variables\n",
    "* ${\\bf b}$ is a column vector that indicates how the input affects each state\n",
    "* ${\\bf c}$ is a row vector that specifies how each state contributes to the output"
   ]
  },
  {
   "cell_type": "markdown",
   "id": "49531034-3cc2-43ca-833c-13e617a16c9d",
   "metadata": {},
   "source": [
    "### Creating State Space Objects for SISO Systems"
   ]
  },
  {
   "cell_type": "markdown",
   "id": "3b688ef9-be96-4fca-850b-beb16d55c988",
   "metadata": {},
   "source": [
    "The ${\\bf A}$ matrix is an alternative representation of the state equations.\n",
    "The rows are the equations.\n",
    "In our example, row 2 is the equation for $\\dot{S}_2$.\n",
    "(Of course, the python index for this row is 1.)\n",
    "The columns, represent the state variable.\n",
    "So, column 3 is for $S_3$.\n",
    "\n",
    "That is\n",
    "$\\dot{\\bf x} = \n",
    "{\\bf A} =\n",
    "\\begin{bmatrix}\n",
    "-k_1 & 0 & 0\\\\\n",
    "k_1 & -k_2 & 0  \\\\\n",
    "k_1 & k_2 & -k_3\n",
    "\\end{bmatrix}\n",
    "{\\bf x} + {\\bf b}u$."
   ]
  },
  {
   "cell_type": "markdown",
   "id": "19f790a8-57e3-4510-abf2-7a214e2dce96",
   "metadata": {},
   "source": [
    "**Question: If the input is $S_1$, what is ${\\bf b}$?**"
   ]
  },
  {
   "cell_type": "markdown",
   "id": "ea5d3e72-dc2d-4c13-9d69-03749c6c7c42",
   "metadata": {},
   "source": [
    "**REMOVE**"
   ]
  },
  {
   "cell_type": "markdown",
   "id": "9bf698dc-4006-4969-b5f2-d05b1b945af0",
   "metadata": {},
   "source": [
    "${\\bf b} =\n",
    "\\begin{bmatrix}\n",
    "1 \\\\\n",
    "0 \\\\\n",
    "0 \\\\\n",
    "\\end{bmatrix}.\n",
    "$"
   ]
  },
  {
   "cell_type": "markdown",
   "id": "bf2eb2b1-db1d-49ff-a5f9-dbdeb875fa0b",
   "metadata": {},
   "source": [
    "### Creating ``control.StateSpace`` objects"
   ]
  },
  {
   "cell_type": "markdown",
   "id": "21698323-1124-4216-b222-c54e3139929f",
   "metadata": {},
   "source": [
    "Consider a system with $S_1$ as input and $S_3$ as output."
   ]
  },
  {
   "cell_type": "code",
   "execution_count": 10,
   "id": "b58954b7-e056-4e06-b3cf-d8ff3639c28b",
   "metadata": {},
   "outputs": [
    {
     "data": {
      "text/latex": [
       "\\[\n",
       "\\left(\\begin{array}{rllrllrll|rll}\n",
       "-0.&\\hspace{-1em}5&\\hspace{-1em}\\phantom{\\cdot}&0\\phantom{.}&\\hspace{-1em}&\\hspace{-1em}\\phantom{\\cdot}&0\\phantom{.}&\\hspace{-1em}&\\hspace{-1em}\\phantom{\\cdot}&1\\phantom{.}&\\hspace{-1em}&\\hspace{-1em}\\phantom{\\cdot}\\\\\n",
       "0.&\\hspace{-1em}5&\\hspace{-1em}\\phantom{\\cdot}&-1.&\\hspace{-1em}5&\\hspace{-1em}\\phantom{\\cdot}&0\\phantom{.}&\\hspace{-1em}&\\hspace{-1em}\\phantom{\\cdot}&0\\phantom{.}&\\hspace{-1em}&\\hspace{-1em}\\phantom{\\cdot}\\\\\n",
       "0.&\\hspace{-1em}5&\\hspace{-1em}\\phantom{\\cdot}&1.&\\hspace{-1em}5&\\hspace{-1em}\\phantom{\\cdot}&-0.&\\hspace{-1em}75&\\hspace{-1em}\\phantom{\\cdot}&0\\phantom{.}&\\hspace{-1em}&\\hspace{-1em}\\phantom{\\cdot}\\\\\n",
       "\\hline\n",
       "0\\phantom{.}&\\hspace{-1em}&\\hspace{-1em}\\phantom{\\cdot}&0\\phantom{.}&\\hspace{-1em}&\\hspace{-1em}\\phantom{\\cdot}&1\\phantom{.}&\\hspace{-1em}&\\hspace{-1em}\\phantom{\\cdot}&0\\phantom{.}&\\hspace{-1em}&\\hspace{-1em}\\phantom{\\cdot}\\\\\n",
       "\\end{array}\\right)\n",
       "\\]"
      ],
      "text/plain": [
       "StateSpace(array([[-0.5 ,  0.  ,  0.  ],\n",
       "       [ 0.5 , -1.5 ,  0.  ],\n",
       "       [ 0.5 ,  1.5 , -0.75]]), array([[1.],\n",
       "       [0.],\n",
       "       [0.]]), array([[0., 0., 1.]]), array([[0.]]))"
      ]
     },
     "execution_count": 10,
     "metadata": {},
     "output_type": "execute_result"
    }
   ],
   "source": [
    "k1 = 0.5\n",
    "k2 = 1.5\n",
    "k3 = 0.75\n",
    "\n",
    "A = np.array( [ [-k1, 0, 0],\n",
    "    [k1, -k2, 0],\n",
    "     [k1, k2, -k3]])\n",
    "B = [1, 0, 0]\n",
    "C = [0, 0, 1]\n",
    "state_space = control.StateSpace(A, B, C, 0)\n",
    "state_space"
   ]
  },
  {
   "cell_type": "markdown",
   "id": "76c32056-5499-4eba-b73f-0d36f115c63a",
   "metadata": {},
   "source": [
    "### Using State Space Objects"
   ]
  },
  {
   "cell_type": "markdown",
   "id": "df46fb97-b33a-482e-ab81-cce050aef243",
   "metadata": {},
   "source": [
    "* simulation: ``control.input_output_response``\n",
    "* convert to transfer function (since this is easier to deriving the transfer function: ``control.ss2tf``"
   ]
  },
  {
   "cell_type": "code",
   "execution_count": 11,
   "id": "1e8f55e4-2835-4285-ae7f-4d553ab168ae",
   "metadata": {},
   "outputs": [
    {
     "data": {
      "text/latex": [
       "$$\\frac{0.5 s + 1.5}{s^3 + 2.75 s^2 + 2.25 s + 0.5625}$$"
      ],
      "text/plain": [
       "TransferFunction(array([0.5, 1.5]), array([1.    , 2.75  , 2.25  , 0.5625]))"
      ]
     },
     "execution_count": 11,
     "metadata": {},
     "output_type": "execute_result"
    }
   ],
   "source": [
    "tf = control.ss2tf(state_space)\n",
    "tf"
   ]
  },
  {
   "cell_type": "code",
   "execution_count": 12,
   "id": "6150faa8-d32d-4ee1-8de6-8a931ba87030",
   "metadata": {},
   "outputs": [
    {
     "data": {
      "text/plain": [
       "2.6666666666666683"
      ]
     },
     "execution_count": 12,
     "metadata": {},
     "output_type": "execute_result"
    }
   ],
   "source": [
    "tf.dcgain()"
   ]
  },
  {
   "cell_type": "markdown",
   "id": "f6a56659-4256-4012-a47b-ed4ca438cfc7",
   "metadata": {},
   "source": [
    "# mTOR Signaling"
   ]
  },
  {
   "cell_type": "markdown",
   "id": "562700db-e05e-4f84-ab8c-aa800ac50986",
   "metadata": {},
   "source": [
    "<img src=\"https://media.springernature.com/full/springer-static/image/art%3A10.1038%2Fs41598-017-18400-z/MediaObjects/41598_2017_18400_Fig1_HTML.jpg\"\n",
    "     alt=\"Markdown Monster icon\"\n",
    "     style=\"float: left; margin-right: 10px;\" />"
   ]
  },
  {
   "cell_type": "markdown",
   "id": "f5d31d2d-d41e-4980-83b3-735b2ae6e9e6",
   "metadata": {},
   "source": [
    "For your homework, you create a state space object for an SBML model.\n",
    "1. Load the model into Tellurium\n",
    "1. Simulate to the time for the operating point.\n",
    "1. Construct ${\\bf A}$ from the Jacobian (``getFullJacobian``).\n",
    "1. Construct ${\\bf b}$ based on the index of the chemical species being controlled.\n",
    "1. Construct ${\\bf c}$ based on the index of the chemical species for the output.\n",
    "1. ``state_space = control.StateSpace(A, b, c, 0)``."
   ]
  },
  {
   "cell_type": "markdown",
   "id": "af5b61ba-2d3c-480f-bf9d-d3c072cf8bfd",
   "metadata": {},
   "source": [
    "## Constructing State Space Objects from Tellurium"
   ]
  },
  {
   "cell_type": "code",
   "execution_count": 19,
   "id": "8d29324c-2a82-4229-ae34-cee13aa324cb",
   "metadata": {},
   "outputs": [],
   "source": [
    "rr = te.loadSBMLModel(\"https://www.ebi.ac.uk/biomodels/model/download/BIOMD0000000823.2?filename=Varusai2018.xml\")\n",
    "#print(rr.getAntimony())"
   ]
  },
  {
   "cell_type": "markdown",
   "id": "1c0ec9c6-6a2f-4727-b8b1-125ae1a07e16",
   "metadata": {},
   "source": [
    "There's a some work to get the indices right to construct ${\\bf b}$, ${\\bf c}$,\n",
    "and to get the species names."
   ]
  },
  {
   "cell_type": "markdown",
   "id": "1232d58c-14d7-4da4-bf20-b2b0283a0b2c",
   "metadata": {},
   "source": [
    "## Constructing ``control`` objects using ``controlSBML``"
   ]
  },
  {
   "cell_type": "code",
   "execution_count": 24,
   "id": "50b49d7c-6af6-4945-90e6-421ac8e97cb9",
   "metadata": {},
   "outputs": [],
   "source": [
    "ctlsb = ctl.ControlSBML(\"https://www.ebi.ac.uk/biomodels/model/download/BIOMD0000000823.2?filename=Varusai2018.xml\",\n",
    "                       input_names=[\"pAkt\"], output_names=[\"mTORC1_DEPTOR\"])\n",
    "mtor_nl = ctlsb.makeNonlinearIOSystem(\"mtor\")\n",
    "mtor_ss = ctlsb.makeStateSpace()\n",
    "MTOR_TF = ctlsb.makeTransferFunction(atol=1e-5, time=1)"
   ]
  },
  {
   "cell_type": "markdown",
   "id": "6a018b54-dfc2-44dd-8122-e1c2cfa2e202",
   "metadata": {},
   "source": [
    "## Controllability Analysis"
   ]
  },
  {
   "cell_type": "markdown",
   "id": "fc976cbd-6c54-4d54-8720-806c5b4ac9a2",
   "metadata": {},
   "source": [
    "Suppose that we want to control the complex ``mTORC1_DEPTOR``.\n",
    "What inputs should we control?\n",
    "We start by controlling the amount of insullin."
   ]
  },
  {
   "cell_type": "code",
   "execution_count": 25,
   "id": "36b9ea15-9fbf-42e3-9eb5-9b32e9048510",
   "metadata": {},
   "outputs": [
    {
     "data": {
      "text/latex": [
       "$$\\frac{-0.03472 s^3 - 0.1617 s^2 - 0.09749 s - 0.001885}{s^5 + 11.05 s^4 + 34.96 s^3 + 29.05 s^2 + 7.379 s + 0.1362}$$"
      ],
      "text/plain": [
       "TransferFunction(array([-0.03472222, -0.1616584 , -0.09749342, -0.00188548]), array([ 1.        , 11.05327667, 34.95692263, 29.04801534,  7.37855958,\n",
       "        0.13622988]))"
      ]
     },
     "execution_count": 25,
     "metadata": {},
     "output_type": "execute_result"
    }
   ],
   "source": [
    "MTOR_TF"
   ]
  },
  {
   "cell_type": "code",
   "execution_count": 26,
   "id": "fab293d2-0164-4de9-a166-b3a3cf89c7fe",
   "metadata": {},
   "outputs": [
    {
     "data": {
      "text/plain": [
       "-0.013840450064546183"
      ]
     },
     "execution_count": 26,
     "metadata": {},
     "output_type": "execute_result"
    }
   ],
   "source": [
    "MTOR_TF.dcgain()"
   ]
  },
  {
   "cell_type": "code",
   "execution_count": 29,
   "id": "5e938ba5-1231-4239-8cd2-55f62ba6dfaa",
   "metadata": {},
   "outputs": [
    {
     "data": {
      "text/plain": [
       "array([-5.99984811, -3.96034236, -0.57142857, -0.50165764, -0.02      ])"
      ]
     },
     "execution_count": 29,
     "metadata": {},
     "output_type": "execute_result"
    }
   ],
   "source": [
    "MTOR_TF.pole()"
   ]
  }
 ],
 "metadata": {
  "kernelspec": {
   "display_name": "Python 3",
   "language": "python",
   "name": "python3"
  },
  "language_info": {
   "codemirror_mode": {
    "name": "ipython",
    "version": 3
   },
   "file_extension": ".py",
   "mimetype": "text/x-python",
   "name": "python",
   "nbconvert_exporter": "python",
   "pygments_lexer": "ipython3",
   "version": "3.6.9"
  }
 },
 "nbformat": 4,
 "nbformat_minor": 5
}
