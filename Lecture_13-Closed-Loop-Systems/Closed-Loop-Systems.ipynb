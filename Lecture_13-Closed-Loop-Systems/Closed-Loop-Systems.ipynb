{
 "cells": [
  {
   "cell_type": "markdown",
   "id": "b1229fec-e965-4858-b3e7-cf67e8645060",
   "metadata": {},
   "source": [
    "# CONTROL SYSTEMS"
   ]
  },
  {
   "cell_type": "markdown",
   "id": "ea1ef56b-9c3d-4fbe-8202-151b8979a57b",
   "metadata": {},
   "source": [
    "# Preliminaries"
   ]
  },
  {
   "cell_type": "code",
   "execution_count": 1,
   "id": "f16d0f7a-d0c5-4f37-aa29-feed6d82a363",
   "metadata": {},
   "outputs": [],
   "source": [
    "!pip install -q control\n",
    "!pip install -q tellurium\n",
    "!pip install -q controlSBML\n",
    "\n",
    "import control\n",
    "import controlSBML as ctl\n",
    "import numpy as np\n",
    "import pandas as pd\n",
    "import matplotlib.pyplot as plt\n",
    "import tellurium as te"
   ]
  },
  {
   "cell_type": "code",
   "execution_count": 2,
   "id": "0e08f473-49e8-4878-bc53-289472bb71fb",
   "metadata": {},
   "outputs": [],
   "source": [
    "TIMES = ctl.makeSimulationTimes(0, 5, 500)"
   ]
  },
  {
   "cell_type": "markdown",
   "id": "c9bf0155-b67b-481c-8ac5-fcc7244312cd",
   "metadata": {},
   "source": [
    "# Antimony Model"
   ]
  },
  {
   "cell_type": "markdown",
   "id": "5acdfef4-ad30-4e42-a56d-94dc30835830",
   "metadata": {},
   "source": [
    "$\\xrightarrow{1} S_1$,\n",
    "$S_1 \\xrightarrow{k_1 S_1} S_2$,\n",
    "$S_2 \\xrightarrow{k_2 S_3} S_3$,\n",
    "$S_3 \\xrightarrow{k_3 S_3} S_2$,\n",
    "$S_2 \\xrightarrow{k_2 S_3} \\emptyset$,"
   ]
  },
  {
   "cell_type": "code",
   "execution_count": 3,
   "id": "64e2bdc6-baae-49d2-87d3-b742349b7595",
   "metadata": {},
   "outputs": [
    {
     "data": {
      "image/png": "[encoded data removed]",
      "text/plain": [
       "<Figure size 432x288 with 1 Axes>"
      ]
     },
     "metadata": {},
     "output_type": "display_data"
    }
   ],
   "source": [
    "MODEL = \"\"\"\n",
    "$S1 -> S2; k1*$S1\n",
    "J1: S2 -> S3; k2*S2\n",
    "J2: S3 -> S2; k3*S3\n",
    "J3: S2 -> ; k4*S2\n",
    "\n",
    "k1 = 1\n",
    "k2 = 2\n",
    "k3 = 3\n",
    "k4 = 4\n",
    "$S1 = 10\n",
    "S2 = 0\n",
    "S3 = 0\n",
    "S4 = 0\n",
    "\"\"\"\n",
    "rr = te.loada(MODEL)\n",
    "rr.simulate()\n",
    "rr.plot()"
   ]
  },
  {
   "cell_type": "markdown",
   "id": "26454a5f-68ca-4abf-b7d6-30feff1f750f",
   "metadata": {},
   "source": [
    "We are going to control ``S3`` by changing ``S2``."
   ]
  },
  {
   "cell_type": "code",
   "execution_count": 4,
   "id": "4a8c0b2c-86c6-4840-812b-c01ffbf24f07",
   "metadata": {},
   "outputs": [
    {
     "data": {
      "text/latex": [
       "$$\\frac{2}{s^2 + 9 s + 12}$$"
      ],
      "text/plain": [
       "TransferFunction(array([2.]), array([ 1.,  9., 12.]))"
      ]
     },
     "execution_count": 4,
     "metadata": {},
     "output_type": "execute_result"
    }
   ],
   "source": [
    "ctlsb = ctl.ControlSBML(MODEL,  input_names=[\"S2\"], output_names=[\"S3\"])\n",
    "tf = ctlsb.makeTransferFunction()\n",
    "tf"
   ]
  },
  {
   "cell_type": "code",
   "execution_count": 5,
   "id": "d4c36f5b-cd13-407d-af73-f3f53156e6be",
   "metadata": {},
   "outputs": [],
   "source": [
    "sys = ctlsb.makeNonlinearIOSystem(\"sys\")"
   ]
  },
  {
   "cell_type": "code",
   "execution_count": 6,
   "id": "c1065cb9-574a-4ce6-ba24-dd5bf9b75c90",
   "metadata": {},
   "outputs": [
    {
     "data": {
      "text/plain": [
       "array([0., 0., 0., ..., 0., 0., 0.])"
      ]
     },
     "execution_count": 6,
     "metadata": {},
     "output_type": "execute_result"
    }
   ],
   "source": [
    "result = control.input_output_response(sys, TIMES, u=0)\n",
    "result.outputs"
   ]
  },
  {
   "cell_type": "code",
   "execution_count": 21,
   "id": "7e6f3023-697d-4435-a5ff-d15665f1e22b",
   "metadata": {},
   "outputs": [],
   "source": [
    "ref = [0.4]  # Desired value of S3\n",
    "def controller_outfcn(_, __, u, ___):\n",
    "    return 2*(ref[0] - u[0])"
   ]
  },
  {
   "cell_type": "code",
   "execution_count": 22,
   "id": "a710c4c5-defd-4d51-abb6-6a16d8503a3d",
   "metadata": {},
   "outputs": [],
   "source": [
    "controller = control.NonlinearIOSystem(\n",
    "    None, controller_outfcn, inputs=['in'], outputs=['out'],\n",
    "    name=\"controller\")"
   ]
  },
  {
   "cell_type": "code",
   "execution_count": 23,
   "id": "d47a71ac-0bbe-48a4-9711-515f6c90affa",
   "metadata": {},
   "outputs": [],
   "source": [
    "# Create the closed loop system\n",
    "closed_loop = control.interconnect(\n",
    "  [sys, controller],       # systems\n",
    "  connections=[\n",
    "    ['sys.S2', 'controller.out'],\n",
    "    ['controller.in',  'sys.S3'],\n",
    "  ],\n",
    "  inplist=[\"controller.in\"],\n",
    "  outlist=[\"sys.S2\", \"sys.S3\"],\n",
    ")"
   ]
  },
  {
   "cell_type": "code",
   "execution_count": 24,
   "id": "6dcfb158-930d-49a7-a480-e5f845e6f7c0",
   "metadata": {},
   "outputs": [
    {
     "data": {
      "text/plain": [
       "<matplotlib.legend.Legend at 0x7f23998beeb8>"
      ]
     },
     "execution_count": 24,
     "metadata": {},
     "output_type": "execute_result"
    },
    {
     "data": {
      "image/png": "[encoded data removed]",
      "text/plain": [
       "<Figure size 432x288 with 1 Axes>"
      ]
     },
     "metadata": {
      "needs_background": "light"
     },
     "output_type": "display_data"
    }
   ],
   "source": [
    "result = control.input_output_response(closed_loop, T=TIMES)\n",
    "plt.plot(TIMES, result.outputs[0], TIMES, result.outputs[1])\n",
    "plt.legend([\"S2\", \"S3\"])"
   ]
  }
 ],
 "metadata": {
  "kernelspec": {
   "display_name": "Python 3",
   "language": "python",
   "name": "python3"
  },
  "language_info": {
   "codemirror_mode": {
    "name": "ipython",
    "version": 3
   },
   "file_extension": ".py",
   "mimetype": "text/x-python",
   "name": "python",
   "nbconvert_exporter": "python",
   "pygments_lexer": "ipython3",
   "version": "3.6.9"
  }
 },
 "nbformat": 4,
 "nbformat_minor": 5
}
