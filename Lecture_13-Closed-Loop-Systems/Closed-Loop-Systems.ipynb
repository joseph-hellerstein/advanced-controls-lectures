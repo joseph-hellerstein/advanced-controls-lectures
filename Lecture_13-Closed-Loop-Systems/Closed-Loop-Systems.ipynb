{
 "cells": [
  {
   "cell_type": "markdown",
   "id": "b1229fec-e965-4858-b3e7-cf67e8645060",
   "metadata": {},
   "source": [
    "# CLOSED LOOP SYSTEMS"
   ]
  },
  {
   "cell_type": "markdown",
   "id": "6f6af7d4-63dc-4ec1-95ba-bdd6f9c35720",
   "metadata": {
    "tags": []
   },
   "source": [
    "This notebook is a companion to the slides for understanding closed loop systems."
   ]
  },
  {
   "cell_type": "markdown",
   "id": "ea1ef56b-9c3d-4fbe-8202-151b8979a57b",
   "metadata": {},
   "source": [
    "# Preliminaries"
   ]
  },
  {
   "cell_type": "code",
   "execution_count": 1,
   "id": "f16d0f7a-d0c5-4f37-aa29-feed6d82a363",
   "metadata": {},
   "outputs": [],
   "source": [
    "!pip install -q control\n",
    "!pip install -q tellurium\n",
    "!pip install -q controlSBML\n",
    "\n",
    "import control\n",
    "import controlSBML as ctl\n",
    "import numpy as np\n",
    "import pandas as pd\n",
    "import matplotlib.pyplot as plt\n",
    "import sympy\n",
    "import tellurium as te"
   ]
  },
  {
   "cell_type": "code",
   "execution_count": 2,
   "id": "0e08f473-49e8-4878-bc53-289472bb71fb",
   "metadata": {},
   "outputs": [],
   "source": [
    "TIMES = ctl.makeSimulationTimes(0, 5, 500)"
   ]
  },
  {
   "cell_type": "markdown",
   "id": "c9bf0155-b67b-481c-8ac5-fcc7244312cd",
   "metadata": {},
   "source": [
    "# Antimony Model"
   ]
  },
  {
   "cell_type": "markdown",
   "id": "5acdfef4-ad30-4e42-a56d-94dc30835830",
   "metadata": {},
   "source": [
    "$\\$S_1 \\xrightarrow{k_1 S_1} S_2$,\n",
    "$S_2 \\xrightarrow{k_2 S_3} S_3$,\n",
    "$S_3 \\xrightarrow{k_3 S_3} S_2$,\n",
    "$S_2 \\xrightarrow{k_2 S_3} \\emptyset$,"
   ]
  },
  {
   "cell_type": "code",
   "execution_count": 3,
   "id": "e72be43c-f53c-493c-a7a6-9e4361b34bca",
   "metadata": {},
   "outputs": [],
   "source": [
    "# Constants\n",
    "CONSTANT_DCT = {\"k1\": 1, \"k2\": 2, \"k3\": 3, \"k4\": 4}\n",
    "s = sympy.Symbol(\"s\")\n",
    "REF = 10"
   ]
  },
  {
   "cell_type": "code",
   "execution_count": 36,
   "id": "64e2bdc6-baae-49d2-87d3-b742349b7595",
   "metadata": {},
   "outputs": [
    {
     "data": {
      "image/png": "[encoded data removed]",
      "text/plain": [
       "<Figure size 432x288 with 1 Axes>"
      ]
     },
     "metadata": {},
     "output_type": "display_data"
    }
   ],
   "source": [
    "MODEL = \"\"\"\n",
    "$S1 -> S2; k1*$S1\n",
    "J1: S2 -> S3; k2*S2\n",
    "J2: S3 -> S2; k3*S3\n",
    "J3: S2 -> ; k4*S2\n",
    "\n",
    "k1 = 0\n",
    "k2 = 0\n",
    "k3 = 0\n",
    "k4 = 0\n",
    "$S1 = 10\n",
    "S2 = 0\n",
    "S3 = 0\n",
    "S4 = 0\n",
    "\"\"\"\n",
    "RR = te.loada(MODEL)\n",
    "for k in CONSTANT_DCT.keys():\n",
    "    RR[k] = CONSTANT_DCT[k]\n",
    "RR.simulate()\n",
    "RR.plot()"
   ]
  },
  {
   "cell_type": "markdown",
   "id": "26454a5f-68ca-4abf-b7d6-30feff1f750f",
   "metadata": {},
   "source": [
    "We are going to control ``S3`` by changing ``S2``."
   ]
  },
  {
   "cell_type": "code",
   "execution_count": 37,
   "id": "4a8c0b2c-86c6-4840-812b-c01ffbf24f07",
   "metadata": {},
   "outputs": [],
   "source": [
    "ctlsb = ctl.ControlSBML(RR,  input_names=[\"S2\"], output_names=[\"S3\"])"
   ]
  },
  {
   "cell_type": "code",
   "execution_count": 38,
   "id": "16346b62-f81c-4324-9cc8-babea8390eaa",
   "metadata": {},
   "outputs": [
    {
     "data": {
      "text/latex": [
       "$$\\frac{2}{s + 3}$$"
      ],
      "text/plain": [
       "TransferFunction(array([2]), array([1, 3]))"
      ]
     },
     "execution_count": 38,
     "metadata": {},
     "output_type": "execute_result"
    }
   ],
   "source": [
    "numerator = CONSTANT_DCT[\"k2\"]\n",
    "denominator = [1, CONSTANT_DCT[\"k3\"]]\n",
    "tf = control.TransferFunction(numerator, denominator)\n",
    "tf"
   ]
  },
  {
   "cell_type": "code",
   "execution_count": 39,
   "id": "d4c36f5b-cd13-407d-af73-f3f53156e6be",
   "metadata": {},
   "outputs": [],
   "source": [
    "sys = ctlsb.makeNonlinearIOSystem(\"sys\")"
   ]
  },
  {
   "cell_type": "code",
   "execution_count": 40,
   "id": "a710c4c5-defd-4d51-abb6-6a16d8503a3d",
   "metadata": {},
   "outputs": [],
   "source": [
    "def controller_outfcn(_, __, u, param_dct):\n",
    "    k = param_dct.get(\"k\", 2)\n",
    "    ref = param_dct.get(\"ref\", REF)\n",
    "    return k*([REF] - u[0])\n",
    "#\n",
    "controller = control.NonlinearIOSystem(\n",
    "    None, controller_outfcn, inputs=['in'], outputs=['out'],\n",
    "    name=\"controller\")"
   ]
  },
  {
   "cell_type": "code",
   "execution_count": 41,
   "id": "d47a71ac-0bbe-48a4-9711-515f6c90affa",
   "metadata": {},
   "outputs": [],
   "source": [
    "# Create the closed loop system\n",
    "closed_loop = control.interconnect(\n",
    "  [sys, controller],       # systems\n",
    "  connections=[\n",
    "    ['sys.S2', 'controller.out'],\n",
    "    ['controller.in',  'sys.S3'],\n",
    "  ],\n",
    "  inplist=[\"controller.in\"],\n",
    "  outlist=[\"sys.S2\", \"sys.S3\"],\n",
    ")"
   ]
  },
  {
   "cell_type": "code",
   "execution_count": 50,
   "id": "6dcfb158-930d-49a7-a480-e5f845e6f7c0",
   "metadata": {},
   "outputs": [
    {
     "data": {
      "text/plain": [
       "<matplotlib.legend.Legend at 0x7fa46493f630>"
      ]
     },
     "execution_count": 50,
     "metadata": {},
     "output_type": "execute_result"
    },
    {
     "data": {
      "image/png": "[encoded data removed]",
      "text/plain": [
       "<Figure size 432x288 with 1 Axes>"
      ]
     },
     "metadata": {
      "needs_background": "light"
     },
     "output_type": "display_data"
    }
   ],
   "source": [
    "param_dct = {\"k\": 5, \"ref\": REF}\n",
    "result = control.input_output_response(closed_loop, T=TIMES, params=param_dct)\n",
    "plt.plot(TIMES, result.outputs[0], TIMES, result.outputs[1])\n",
    "plt.legend([\"S2\", \"S3\"])"
   ]
  },
  {
   "cell_type": "code",
   "execution_count": 51,
   "id": "b5305ccf-8bf3-4f72-9358-ceee003880a7",
   "metadata": {},
   "outputs": [
    {
     "data": {
      "text/plain": [
       "array([9.70686073, 9.70714998])"
      ]
     },
     "execution_count": 51,
     "metadata": {},
     "output_type": "execute_result"
    }
   ],
   "source": [
    "result.outputs[1][-2:]"
   ]
  },
  {
   "cell_type": "code",
   "execution_count": 52,
   "id": "f3dd9475-4ff3-41bf-bf81-5c7fcaf03470",
   "metadata": {},
   "outputs": [
    {
     "data": {
      "text/latex": [
       "$\\displaystyle \\frac{2}{s + 3}$"
      ],
      "text/plain": [
       "2/(s + 3)"
      ]
     },
     "execution_count": 52,
     "metadata": {},
     "output_type": "execute_result"
    }
   ],
   "source": [
    "G = 2/(s + 3)\n",
    "G"
   ]
  },
  {
   "cell_type": "code",
   "execution_count": 53,
   "id": "deb52dc5-d049-432e-97f1-36efee47289f",
   "metadata": {},
   "outputs": [],
   "source": [
    "C = sympy.symbols(\"k\")"
   ]
  },
  {
   "cell_type": "code",
   "execution_count": 54,
   "id": "b7994a0a-778a-4848-b814-4665005b547a",
   "metadata": {},
   "outputs": [
    {
     "data": {
      "text/latex": [
       "$\\displaystyle \\frac{2 k}{2 k + s + 3}$"
      ],
      "text/plain": [
       "2*k/(2*k + s + 3)"
      ]
     },
     "execution_count": 54,
     "metadata": {},
     "output_type": "execute_result"
    }
   ],
   "source": [
    "H = C*G/(1 + C*G)\n",
    "H.simplify()"
   ]
  },
  {
   "cell_type": "code",
   "execution_count": 55,
   "id": "b43bd178-68cb-4e9e-9d07-adaa6b59bf78",
   "metadata": {},
   "outputs": [
    {
     "data": {
      "text/latex": [
       "$\\displaystyle 9.70873786407767$"
      ],
      "text/plain": [
       "9.70873786407767"
      ]
     },
     "execution_count": 55,
     "metadata": {},
     "output_type": "execute_result"
    }
   ],
   "source": [
    "# Find the DC Gain\n",
    "dct = dict(param_dct)\n",
    "dct[s] = 0\n",
    "sympy.N(param_dct[\"ref\"]*H.subs(dct).simplify())"
   ]
  },
  {
   "cell_type": "markdown",
   "id": "79bf8d98-69bd-46ca-ab6e-ffc40544e413",
   "metadata": {},
   "source": [
    "The DC Gain depends on ``k``. Need a large ``k`` to get a DC gain of 1."
   ]
  }
 ],
 "metadata": {
  "kernelspec": {
   "display_name": "Python 3",
   "language": "python",
   "name": "python3"
  },
  "language_info": {
   "codemirror_mode": {
    "name": "ipython",
    "version": 3
   },
   "file_extension": ".py",
   "mimetype": "text/x-python",
   "name": "python",
   "nbconvert_exporter": "python",
   "pygments_lexer": "ipython3",
   "version": "3.6.9"
  }
 },
 "nbformat": 4,
 "nbformat_minor": 5
}
